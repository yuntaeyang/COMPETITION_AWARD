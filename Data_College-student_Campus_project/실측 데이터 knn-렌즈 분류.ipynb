{
 "cells": [
  {
   "cell_type": "code",
   "execution_count": 1,
   "id": "f243c8eb",
   "metadata": {},
   "outputs": [],
   "source": [
    "import pandas as pd\n",
    "data=pd.read_csv('/cluster_data.csv') # 경로설정"
   ]
  },
  {
   "cell_type": "code",
   "execution_count": 2,
   "id": "98e2487d",
   "metadata": {},
   "outputs": [],
   "source": [
    "X_data = data.iloc[:,:4]\n",
    "y_data = data.iloc[:, -1]"
   ]
  },
  {
   "cell_type": "code",
   "execution_count": 3,
   "id": "955ad0db",
   "metadata": {},
   "outputs": [
    {
     "data": {
      "text/html": [
       "<div>\n",
       "<style scoped>\n",
       "    .dataframe tbody tr th:only-of-type {\n",
       "        vertical-align: middle;\n",
       "    }\n",
       "\n",
       "    .dataframe tbody tr th {\n",
       "        vertical-align: top;\n",
       "    }\n",
       "\n",
       "    .dataframe thead th {\n",
       "        text-align: right;\n",
       "    }\n",
       "</style>\n",
       "<table border=\"1\" class=\"dataframe\">\n",
       "  <thead>\n",
       "    <tr style=\"text-align: right;\">\n",
       "      <th></th>\n",
       "      <th>PD_Tan_2field</th>\n",
       "      <th>PD_Tan_4field</th>\n",
       "      <th>PD_Tan_6field</th>\n",
       "      <th>PD_Tan_8field</th>\n",
       "    </tr>\n",
       "  </thead>\n",
       "  <tbody>\n",
       "    <tr>\n",
       "      <th>0</th>\n",
       "      <td>-0.466676</td>\n",
       "      <td>-0.007607</td>\n",
       "      <td>0.318710</td>\n",
       "      <td>0.527455</td>\n",
       "    </tr>\n",
       "    <tr>\n",
       "      <th>1</th>\n",
       "      <td>-0.411797</td>\n",
       "      <td>0.111848</td>\n",
       "      <td>0.457787</td>\n",
       "      <td>0.695466</td>\n",
       "    </tr>\n",
       "    <tr>\n",
       "      <th>2</th>\n",
       "      <td>-0.256307</td>\n",
       "      <td>0.064066</td>\n",
       "      <td>0.197774</td>\n",
       "      <td>0.377130</td>\n",
       "    </tr>\n",
       "    <tr>\n",
       "      <th>3</th>\n",
       "      <td>-0.366065</td>\n",
       "      <td>-0.017164</td>\n",
       "      <td>0.351967</td>\n",
       "      <td>0.737911</td>\n",
       "    </tr>\n",
       "    <tr>\n",
       "      <th>4</th>\n",
       "      <td>-0.393504</td>\n",
       "      <td>0.068844</td>\n",
       "      <td>0.354991</td>\n",
       "      <td>0.630030</td>\n",
       "    </tr>\n",
       "    <tr>\n",
       "      <th>...</th>\n",
       "      <td>...</td>\n",
       "      <td>...</td>\n",
       "      <td>...</td>\n",
       "      <td>...</td>\n",
       "    </tr>\n",
       "    <tr>\n",
       "      <th>7207</th>\n",
       "      <td>-0.228868</td>\n",
       "      <td>1.038823</td>\n",
       "      <td>1.567379</td>\n",
       "      <td>1.340982</td>\n",
       "    </tr>\n",
       "    <tr>\n",
       "      <th>7208</th>\n",
       "      <td>1.728472</td>\n",
       "      <td>1.616988</td>\n",
       "      <td>0.267312</td>\n",
       "      <td>0.292240</td>\n",
       "    </tr>\n",
       "    <tr>\n",
       "      <th>7209</th>\n",
       "      <td>1.152246</td>\n",
       "      <td>1.148722</td>\n",
       "      <td>-0.307136</td>\n",
       "      <td>-0.982876</td>\n",
       "    </tr>\n",
       "    <tr>\n",
       "      <th>7210</th>\n",
       "      <td>0.960170</td>\n",
       "      <td>0.838138</td>\n",
       "      <td>-0.694133</td>\n",
       "      <td>-1.347194</td>\n",
       "    </tr>\n",
       "    <tr>\n",
       "      <th>7211</th>\n",
       "      <td>2.286405</td>\n",
       "      <td>2.472290</td>\n",
       "      <td>1.464583</td>\n",
       "      <td>0.637105</td>\n",
       "    </tr>\n",
       "  </tbody>\n",
       "</table>\n",
       "<p>7212 rows × 4 columns</p>\n",
       "</div>"
      ],
      "text/plain": [
       "      PD_Tan_2field  PD_Tan_4field  PD_Tan_6field  PD_Tan_8field\n",
       "0         -0.466676      -0.007607       0.318710       0.527455\n",
       "1         -0.411797       0.111848       0.457787       0.695466\n",
       "2         -0.256307       0.064066       0.197774       0.377130\n",
       "3         -0.366065      -0.017164       0.351967       0.737911\n",
       "4         -0.393504       0.068844       0.354991       0.630030\n",
       "...             ...            ...            ...            ...\n",
       "7207      -0.228868       1.038823       1.567379       1.340982\n",
       "7208       1.728472       1.616988       0.267312       0.292240\n",
       "7209       1.152246       1.148722      -0.307136      -0.982876\n",
       "7210       0.960170       0.838138      -0.694133      -1.347194\n",
       "7211       2.286405       2.472290       1.464583       0.637105\n",
       "\n",
       "[7212 rows x 4 columns]"
      ]
     },
     "execution_count": 3,
     "metadata": {},
     "output_type": "execute_result"
    }
   ],
   "source": [
    "# Z-score Standardization\n",
    "from sklearn.preprocessing import StandardScaler\n",
    "df_data_z_scale = pd.DataFrame(StandardScaler().fit_transform(X_data), columns=X_data.columns, index = X_data.index)\n",
    "df_data_z_scale"
   ]
  },
  {
   "cell_type": "code",
   "execution_count": 4,
   "id": "cbc3653e",
   "metadata": {},
   "outputs": [],
   "source": [
    "from sklearn.model_selection import train_test_split\n",
    "training_data, validation_data, training_labels, validation_labels = train_test_split(df_data_z_scale, y_data, test_size = 0.3, random_state = 2021)"
   ]
  },
  {
   "cell_type": "code",
   "execution_count": 5,
   "id": "7b2bbcfc",
   "metadata": {},
   "outputs": [],
   "source": [
    "from sklearn.neighbors import KNeighborsClassifier\n",
    "classifier = KNeighborsClassifier(n_neighbors = 3, weights=\"distance\", metric=\"euclidean\")"
   ]
  },
  {
   "cell_type": "code",
   "execution_count": 6,
   "id": "1ed8c362",
   "metadata": {},
   "outputs": [
    {
     "data": {
      "text/plain": [
       "KNeighborsClassifier(metric='euclidean', n_neighbors=3, weights='distance')"
      ]
     },
     "execution_count": 6,
     "metadata": {},
     "output_type": "execute_result"
    }
   ],
   "source": [
    "classifier.fit(training_data, training_labels)"
   ]
  },
  {
   "cell_type": "code",
   "execution_count": 7,
   "id": "1882a3f4",
   "metadata": {},
   "outputs": [
    {
     "name": "stdout",
     "output_type": "stream",
     "text": [
      "0.9537892791127541\n"
     ]
    }
   ],
   "source": [
    "print(classifier.score(validation_data, validation_labels))"
   ]
  },
  {
   "cell_type": "code",
   "execution_count": 8,
   "id": "42fd8642",
   "metadata": {},
   "outputs": [
    {
     "data": {
      "image/png": "[encoded data removed]",
      "text/plain": [
       "<Figure size 432x288 with 1 Axes>"
      ]
     },
     "metadata": {
      "needs_background": "light"
     },
     "output_type": "display_data"
    }
   ],
   "source": [
    "import matplotlib.pyplot as plt\n",
    "k_list = range(1,21) # k= 1~20까지 조절\n",
    "accuracies = []\n",
    "for k in k_list:\n",
    "  classifier = KNeighborsClassifier(n_neighbors = k, weights=\"distance\", metric=\"euclidean\")\n",
    "  classifier.fit(training_data, training_labels)\n",
    "  accuracies.append(classifier.score(validation_data, validation_labels))\n",
    "plt.plot(k_list, accuracies)\n",
    "plt.xlabel(\"k\")\n",
    "plt.ylabel(\"Validation Accuracy\")\n",
    "plt.title(\"Cluster Lens Classifier Accuracy\")\n",
    "plt.show()"
   ]
  },
  {
   "cell_type": "code",
   "execution_count": null,
   "id": "b017266b",
   "metadata": {},
   "outputs": [],
   "source": []
  },
  {
   "cell_type": "code",
   "execution_count": null,
   "id": "8ffb170d",
   "metadata": {},
   "outputs": [],
   "source": []
  }
 ],
 "metadata": {
  "kernelspec": {
   "display_name": "Python 3",
   "language": "python",
   "name": "python3"
  },
  "language_info": {
   "codemirror_mode": {
    "name": "ipython",
    "version": 3
   },
   "file_extension": ".py",
   "mimetype": "text/x-python",
   "name": "python",
   "nbconvert_exporter": "python",
   "pygments_lexer": "ipython3",
   "version": "3.8.8"
  }
 },
 "nbformat": 4,
 "nbformat_minor": 5
}
