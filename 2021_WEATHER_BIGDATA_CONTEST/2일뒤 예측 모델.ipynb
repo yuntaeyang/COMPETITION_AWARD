{
 "cells": [
  {
   "cell_type": "code",
   "execution_count": 191,
   "id": "5c6e6a69",
   "metadata": {},
   "outputs": [],
   "source": [
    "import pandas as pd\n",
    "import numpy as np"
   ]
  },
  {
   "cell_type": "code",
   "execution_count": 192,
   "id": "78c63b41",
   "metadata": {},
   "outputs": [],
   "source": [
    "import torch\n",
    "import random\n",
    "import torch.backends.cudnn as cudnn\n",
    "import numpy as np\n",
    "import os\n",
    "seed= 0\n",
    "random.seed(seed)\n",
    "np.random.seed(seed)\n",
    "os.environ[\"PYTHONHASHSEED\"] = str(seed)\n",
    "torch.manual_seed(seed)\n",
    "torch.cuda.manual_seed(seed)  # type: ignore\n",
    "torch.backends.cudnn.deterministic = True  # type: ignore\n",
    "torch.backends.cudnn.benchmark = False  # type: ignore"
   ]
  },
  {
   "cell_type": "code",
   "execution_count": 193,
   "id": "dfaaca68",
   "metadata": {},
   "outputs": [],
   "source": [
    "train_1=pd.read_csv(r'C:\\Users\\yuntaeyang\\Desktop\\w_train_2_group.csv')"
   ]
  },
  {
   "cell_type": "code",
   "execution_count": 194,
   "id": "52c2148c",
   "metadata": {},
   "outputs": [],
   "source": [
    "test_1=pd.read_csv(r'C:\\Users\\yuntaeyang\\Desktop\\w_test_2_group.csv')"
   ]
  },
  {
   "cell_type": "code",
   "execution_count": 195,
   "id": "e7d10fdd",
   "metadata": {},
   "outputs": [],
   "source": [
    "train_1['TPTP'] = train_1['TPGRP_TPCD'].astype(str)  + train_1['PRDN_FOM_C'].astype(str) "
   ]
  },
  {
   "cell_type": "code",
   "execution_count": 196,
   "id": "a04bd297",
   "metadata": {},
   "outputs": [],
   "source": [
    "train_1['target_1'] = train_1['target']\n",
    "train_1=train_1.drop(['date', 'umd', 'target', 'variable'], axis=1)"
   ]
  },
  {
   "cell_type": "code",
   "execution_count": 197,
   "id": "59ffd7f1",
   "metadata": {},
   "outputs": [],
   "source": [
    "train_1_array=np.array(train_1)"
   ]
  },
  {
   "cell_type": "code",
   "execution_count": 198,
   "id": "f87a0a05",
   "metadata": {},
   "outputs": [],
   "source": [
    "from sklearn.preprocessing import LabelEncoder\n",
    "le = LabelEncoder()\n",
    "train_1_array[:, 86]=le.fit_transform(train_1_array[:,86])"
   ]
  },
  {
   "cell_type": "code",
   "execution_count": 199,
   "id": "a3f9c556",
   "metadata": {},
   "outputs": [],
   "source": [
    "train_1_array[:, 6]=le.fit_transform(train_1_array[:, 6])"
   ]
  },
  {
   "cell_type": "code",
   "execution_count": 200,
   "id": "7aa3c1e1",
   "metadata": {},
   "outputs": [],
   "source": [
    "train_1= pd.DataFrame(train_1_array, columns=train_1.columns)"
   ]
  },
  {
   "cell_type": "code",
   "execution_count": 201,
   "id": "66dcd8c1",
   "metadata": {},
   "outputs": [],
   "source": [
    "train_1=train_1.astype(float)"
   ]
  },
  {
   "cell_type": "code",
   "execution_count": 202,
   "id": "09f37062",
   "metadata": {},
   "outputs": [],
   "source": [
    "test_1['TPTP'] = test_1['TPGRP_TPCD'].astype(str)  + test_1['PRDN_FOM_C'].astype(str) "
   ]
  },
  {
   "cell_type": "code",
   "execution_count": 203,
   "id": "3029f24f",
   "metadata": {},
   "outputs": [],
   "source": [
    "test_1=test_1.sort_values(by=['index'])"
   ]
  },
  {
   "cell_type": "code",
   "execution_count": 204,
   "id": "80e177c6",
   "metadata": {},
   "outputs": [],
   "source": [
    "test_id_1=test_1[['index', 'date', 'umd']]"
   ]
  },
  {
   "cell_type": "code",
   "execution_count": 205,
   "id": "639fa654",
   "metadata": {},
   "outputs": [],
   "source": [
    "test_1=test_1.drop(['index', 'date', 'umd'], axis=1)\n",
    "test_1_array=np.array(test_1)"
   ]
  },
  {
   "cell_type": "code",
   "execution_count": 206,
   "id": "85b96b4d",
   "metadata": {},
   "outputs": [],
   "source": [
    "from sklearn.preprocessing import LabelEncoder\n",
    "le = LabelEncoder()\n",
    "test_1_array[:, 86]=le.fit_transform(test_1_array[:,86])"
   ]
  },
  {
   "cell_type": "code",
   "execution_count": 207,
   "id": "3fc3b59b",
   "metadata": {},
   "outputs": [],
   "source": [
    "from sklearn.preprocessing import LabelEncoder\n",
    "le = LabelEncoder()\n",
    "test_1_array[:, 6]=le.fit_transform(test_1_array[:,6])"
   ]
  },
  {
   "cell_type": "code",
   "execution_count": 208,
   "id": "f958cb69",
   "metadata": {},
   "outputs": [],
   "source": [
    "test_1= pd.DataFrame(test_1_array, columns=test_1.columns)"
   ]
  },
  {
   "cell_type": "code",
   "execution_count": 209,
   "id": "29fcc9f1",
   "metadata": {},
   "outputs": [],
   "source": [
    "test_1=test_1.astype(float)"
   ]
  },
  {
   "cell_type": "code",
   "execution_count": 210,
   "id": "e40869a5",
   "metadata": {},
   "outputs": [],
   "source": [
    "from sklearn.model_selection import train_test_split\n",
    "import warnings\n",
    "warnings.filterwarnings('ignore')\n",
    "\n",
    "X_features = train_1.iloc[:, :-1]\n",
    "y_label = train_1.iloc[:, -1]"
   ]
  },
  {
   "cell_type": "code",
   "execution_count": 211,
   "id": "0c65dfcf",
   "metadata": {},
   "outputs": [],
   "source": [
    "import numpy as np\n",
    "import matplotlib.pyplot as plt\n",
    "from sklearn.ensemble import IsolationForest"
   ]
  },
  {
   "cell_type": "code",
   "execution_count": 212,
   "id": "5b8d7902",
   "metadata": {},
   "outputs": [],
   "source": [
    "\n",
    "isol = IsolationForest(max_samples=100, random_state=200) \n",
    "\n",
    "\n",
    "isol.fit(X_features)\n",
    "y_pred= isol.predict(X_features)"
   ]
  },
  {
   "cell_type": "code",
   "execution_count": 213,
   "id": "f7fbfaa9",
   "metadata": {},
   "outputs": [],
   "source": [
    "isola=pd.DataFrame(y_pred, columns= ['isal'])"
   ]
  },
  {
   "cell_type": "code",
   "execution_count": 214,
   "id": "58e8ba6c",
   "metadata": {},
   "outputs": [],
   "source": [
    "train_1=train_1.join(isola, how='inner')"
   ]
  },
  {
   "cell_type": "code",
   "execution_count": 215,
   "id": "03819854",
   "metadata": {},
   "outputs": [],
   "source": [
    "train_1=train_1[train_1['isal']== 1]"
   ]
  },
  {
   "cell_type": "code",
   "execution_count": 216,
   "id": "25d511c7",
   "metadata": {},
   "outputs": [],
   "source": [
    "train_1=train_1.drop(['isal'], axis=1)"
   ]
  },
  {
   "cell_type": "code",
   "execution_count": 217,
   "id": "bf02b2e6",
   "metadata": {},
   "outputs": [],
   "source": [
    "X_features = train_1.iloc[:, :-1]\n",
    "y_label = train_1.iloc[:, -1]"
   ]
  },
  {
   "cell_type": "code",
   "execution_count": 218,
   "id": "1f17a412",
   "metadata": {},
   "outputs": [],
   "source": [
    "\n",
    "isol = IsolationForest(max_samples=100, random_state=200) \n",
    "\n",
    "isol.fit(X_features)\n",
    "y_pred= isol.predict(X_features)"
   ]
  },
  {
   "cell_type": "code",
   "execution_count": 219,
   "id": "9350cda7",
   "metadata": {},
   "outputs": [],
   "source": [
    "isola=pd.DataFrame(y_pred, columns= ['isal'])"
   ]
  },
  {
   "cell_type": "code",
   "execution_count": 220,
   "id": "504f19c4",
   "metadata": {},
   "outputs": [],
   "source": [
    "train_1=train_1.join(isola, how='inner')"
   ]
  },
  {
   "cell_type": "code",
   "execution_count": 221,
   "id": "0a329e19",
   "metadata": {},
   "outputs": [],
   "source": [
    "train_1=train_1[train_1['isal']== 1]"
   ]
  },
  {
   "cell_type": "code",
   "execution_count": 222,
   "id": "aafc1a22",
   "metadata": {},
   "outputs": [],
   "source": [
    "train_1=train_1.drop(['isal'], axis=1)"
   ]
  },
  {
   "cell_type": "code",
   "execution_count": 223,
   "id": "8cf6480c",
   "metadata": {},
   "outputs": [],
   "source": [
    "X_features = train_1.iloc[:, :-1]\n",
    "y_label = train_1.iloc[:, -1]"
   ]
  },
  {
   "cell_type": "code",
   "execution_count": 224,
   "id": "4a9d9b17",
   "metadata": {},
   "outputs": [
    {
     "name": "stdout",
     "output_type": "stream",
     "text": [
      "(2508, 87) (1075, 87)\n"
     ]
    }
   ],
   "source": [
    "# shuffle1\n",
    "import sklearn\n",
    "x_shuffled = sklearn.utils.shuffle(X_features, random_state=3217)\n",
    "y_shuffled =sklearn.utils.shuffle(y_label, random_state=3217)\n",
    "X_train, X_test, y_train, y_test=train_test_split(x_shuffled, y_shuffled, test_size=0.3, random_state=2021, stratify=y_label)\n",
    "print(X_train.shape, X_test.shape)"
   ]
  },
  {
   "cell_type": "code",
   "execution_count": 225,
   "id": "46a75833",
   "metadata": {},
   "outputs": [],
   "source": [
    "from imblearn.over_sampling import SMOTENC\n",
    "smote_nc = SMOTENC(categorical_features=[0, 1, 2, 3, 4, 5, 6, 7, 8, 9, 10, 11, 12, 13, 14, 15, 16], random_state=0)\n",
    "X_resampled1, y_resampled1 = smote_nc.fit_resample(X_train, y_train)"
   ]
  },
  {
   "cell_type": "code",
   "execution_count": 226,
   "id": "a766052f",
   "metadata": {},
   "outputs": [],
   "source": [
    "X_train1 = np.array(X_resampled1)\n",
    "y_train1 = np.array(y_resampled1).squeeze()\n",
    "X_test  = np.array(X_test)\n",
    "y_test  = np.array(y_test).squeeze()"
   ]
  },
  {
   "cell_type": "code",
   "execution_count": 227,
   "id": "3f4e2148",
   "metadata": {},
   "outputs": [
    {
     "name": "stdout",
     "output_type": "stream",
     "text": [
      "(2508, 87) (1075, 87)\n"
     ]
    }
   ],
   "source": [
    "# shuffle2\n",
    "x_shuffled2 = sklearn.utils.shuffle(X_features, random_state=3067)\n",
    "y_shuffled2 =sklearn.utils.shuffle(y_label, random_state=3067)\n",
    "X_train2, X_test2, y_train2, y_test2=train_test_split(x_shuffled2, y_shuffled2, test_size=0.3, random_state=2021, stratify=y_label)\n",
    "print(X_train2.shape, X_test2.shape)"
   ]
  },
  {
   "cell_type": "code",
   "execution_count": 228,
   "id": "0a77af88",
   "metadata": {},
   "outputs": [],
   "source": [
    "from imblearn.over_sampling import SMOTENC\n",
    "smote_nc = SMOTENC(categorical_features=[0, 1, 2, 3, 4, 5, 6, 7, 8, 9, 10, 11, 12, 13, 14, 15, 16], random_state=0)\n",
    "X_resampled2, y_resampled2 = smote_nc.fit_resample(X_train2, y_train2)"
   ]
  },
  {
   "cell_type": "code",
   "execution_count": 229,
   "id": "0b5c0025",
   "metadata": {},
   "outputs": [],
   "source": [
    "X_train2 = np.array(X_resampled2)\n",
    "y_train2 = np.array(y_resampled2).squeeze()\n",
    "X_test2  = np.array(X_test2)\n",
    "y_test2  = np.array(y_test2).squeeze()"
   ]
  },
  {
   "cell_type": "code",
   "execution_count": 230,
   "id": "1edcc185",
   "metadata": {},
   "outputs": [
    {
     "name": "stdout",
     "output_type": "stream",
     "text": [
      "(2508, 87) (1075, 87)\n"
     ]
    }
   ],
   "source": [
    "# shuffle3\n",
    "x_shuffled3 = sklearn.utils.shuffle(X_features, random_state=3415)\n",
    "y_shuffled3 =sklearn.utils.shuffle(y_label, random_state=3415)\n",
    "X_train3, X_test3, y_train3, y_test3=train_test_split(x_shuffled3, y_shuffled3, test_size=0.3, random_state=2021, stratify=y_label)\n",
    "print(X_train3.shape, X_test3.shape)"
   ]
  },
  {
   "cell_type": "code",
   "execution_count": 231,
   "id": "83d1376d",
   "metadata": {},
   "outputs": [],
   "source": [
    "from imblearn.over_sampling import SMOTENC\n",
    "smote_nc = SMOTENC(categorical_features=[0, 1, 2, 3, 4, 5, 6, 7, 8, 9, 10, 11, 12, 13, 14, 15, 16], random_state=0)\n",
    "X_resampled3, y_resampled3 = smote_nc.fit_resample(X_train3, y_train3)"
   ]
  },
  {
   "cell_type": "code",
   "execution_count": 232,
   "id": "2e31c173",
   "metadata": {},
   "outputs": [],
   "source": [
    "X_train3 = np.array(X_resampled3)\n",
    "y_train3 = np.array(y_resampled3).squeeze()\n",
    "X_test3  = np.array(X_test3)\n",
    "y_test3  = np.array(y_test3).squeeze()"
   ]
  },
  {
   "cell_type": "code",
   "execution_count": 233,
   "id": "48ed4d1a",
   "metadata": {},
   "outputs": [
    {
     "name": "stdout",
     "output_type": "stream",
     "text": [
      "(2508, 87) (1075, 87)\n"
     ]
    }
   ],
   "source": [
    "# shuffle4\n",
    "x_shuffled4 = sklearn.utils.shuffle(X_features, random_state=3563)\n",
    "y_shuffled4 =sklearn.utils.shuffle(y_label, random_state=3563)\n",
    "X_train4, X_test4, y_train4, y_test4=train_test_split(x_shuffled4, y_shuffled4, test_size=0.3, random_state=2021, stratify=y_label)\n",
    "print(X_train4.shape, X_test4.shape)"
   ]
  },
  {
   "cell_type": "code",
   "execution_count": 234,
   "id": "9092650c",
   "metadata": {},
   "outputs": [],
   "source": [
    "from imblearn.over_sampling import SMOTENC\n",
    "smote_nc = SMOTENC(categorical_features=[0, 1, 2, 3, 4, 5, 6, 7, 8, 9, 10, 11, 12, 13, 14, 15, 16], random_state=0)\n",
    "X_resampled4, y_resampled4 = smote_nc.fit_resample(X_train4, y_train4)"
   ]
  },
  {
   "cell_type": "code",
   "execution_count": 235,
   "id": "564689ea",
   "metadata": {},
   "outputs": [],
   "source": [
    "X_train4 = np.array(X_resampled4)\n",
    "y_train4 = np.array(y_resampled4).squeeze()\n",
    "X_test4  = np.array(X_test4)\n",
    "y_test4  = np.array(y_test4).squeeze()"
   ]
  },
  {
   "cell_type": "code",
   "execution_count": 236,
   "id": "8639e15e",
   "metadata": {},
   "outputs": [
    {
     "name": "stdout",
     "output_type": "stream",
     "text": [
      "(2508, 87) (1075, 87)\n"
     ]
    }
   ],
   "source": [
    "# shuffle5\n",
    "x_shuffled5 = sklearn.utils.shuffle(X_features, random_state=3528)\n",
    "y_shuffled5 =sklearn.utils.shuffle(y_label, random_state=3528)\n",
    "X_train5, X_test5, y_train5, y_test5=train_test_split(x_shuffled5, y_shuffled5, test_size=0.3, random_state=2021, stratify=y_label)\n",
    "print(X_train5.shape, X_test5.shape)"
   ]
  },
  {
   "cell_type": "code",
   "execution_count": 237,
   "id": "ef3acacb",
   "metadata": {},
   "outputs": [],
   "source": [
    "from imblearn.over_sampling import SMOTENC\n",
    "smote_nc = SMOTENC(categorical_features=[0, 1, 2, 3, 4, 5, 6, 7, 8, 9, 10, 11, 12, 13, 14, 15, 16], random_state=0)\n",
    "X_resampled5, y_resampled5 = smote_nc.fit_resample(X_train5, y_train5)"
   ]
  },
  {
   "cell_type": "code",
   "execution_count": 238,
   "id": "e5eed652",
   "metadata": {},
   "outputs": [],
   "source": [
    "X_train5 = np.array(X_resampled5)\n",
    "y_train5 = np.array(y_resampled5).squeeze()\n",
    "X_test5  = np.array(X_test5)\n",
    "y_test5  = np.array(y_test5).squeeze()"
   ]
  },
  {
   "cell_type": "code",
   "execution_count": 239,
   "id": "4a4526c7",
   "metadata": {},
   "outputs": [
    {
     "name": "stdout",
     "output_type": "stream",
     "text": [
      "(2508, 87) (1075, 87)\n"
     ]
    }
   ],
   "source": [
    "# shuffle6\n",
    "x_shuffled6 = sklearn.utils.shuffle(X_features, random_state=3006)\n",
    "y_shuffled6 =sklearn.utils.shuffle(y_label, random_state=3006)\n",
    "X_train6, X_test6, y_train6, y_test6=train_test_split(x_shuffled6, y_shuffled6, test_size=0.3, random_state=2021, stratify=y_label)\n",
    "print(X_train6.shape, X_test6.shape)"
   ]
  },
  {
   "cell_type": "code",
   "execution_count": 240,
   "id": "7dd23297",
   "metadata": {},
   "outputs": [],
   "source": [
    "from imblearn.over_sampling import SMOTENC\n",
    "smote_nc = SMOTENC(categorical_features=[0, 1, 2, 3, 4, 5, 6, 7, 8, 9, 10, 11, 12, 13, 14, 15, 16], random_state=0)\n",
    "X_resampled6, y_resampled6 = smote_nc.fit_resample(X_train6, y_train6)"
   ]
  },
  {
   "cell_type": "code",
   "execution_count": 241,
   "id": "75a824dc",
   "metadata": {},
   "outputs": [],
   "source": [
    "X_train6 = np.array(X_resampled6)\n",
    "y_train6 = np.array(y_resampled6).squeeze()\n",
    "X_test6  = np.array(X_test6)\n",
    "y_test6  = np.array(y_test6).squeeze()"
   ]
  },
  {
   "cell_type": "code",
   "execution_count": 242,
   "id": "7bd0b2e9",
   "metadata": {},
   "outputs": [],
   "source": [
    "from pytorch_tabnet.tab_model import TabNetClassifier"
   ]
  },
  {
   "cell_type": "code",
   "execution_count": 243,
   "id": "2b6bd77e",
   "metadata": {},
   "outputs": [],
   "source": [
    "import torch"
   ]
  },
  {
   "cell_type": "code",
   "execution_count": 244,
   "id": "809dd091",
   "metadata": {},
   "outputs": [
    {
     "name": "stdout",
     "output_type": "stream",
     "text": [
      "Device used : cpu\n",
      "epoch 0  | loss: 0.71049 | val_0_auc: 0.44785 |  0:00:01s\n",
      "epoch 1  | loss: 0.60013 | val_0_auc: 0.40241 |  0:00:02s\n",
      "epoch 2  | loss: 0.53853 | val_0_auc: 0.49046 |  0:00:03s\n",
      "epoch 3  | loss: 0.47925 | val_0_auc: 0.53797 |  0:00:05s\n",
      "epoch 4  | loss: 0.43384 | val_0_auc: 0.47581 |  0:00:06s\n",
      "epoch 5  | loss: 0.38738 | val_0_auc: 0.57803 |  0:00:08s\n",
      "epoch 6  | loss: 0.34621 | val_0_auc: 0.52741 |  0:00:09s\n",
      "epoch 7  | loss: 0.31277 | val_0_auc: 0.57858 |  0:00:10s\n",
      "epoch 8  | loss: 0.30197 | val_0_auc: 0.60474 |  0:00:12s\n",
      "epoch 9  | loss: 0.27295 | val_0_auc: 0.54851 |  0:00:13s\n",
      "epoch 10 | loss: 0.2616  | val_0_auc: 0.4995  |  0:00:14s\n",
      "epoch 11 | loss: 0.25997 | val_0_auc: 0.54805 |  0:00:16s\n",
      "epoch 12 | loss: 0.2484  | val_0_auc: 0.56756 |  0:00:17s\n",
      "epoch 13 | loss: 0.23538 | val_0_auc: 0.57873 |  0:00:19s\n",
      "epoch 14 | loss: 0.23743 | val_0_auc: 0.58793 |  0:00:20s\n",
      "epoch 15 | loss: 0.23753 | val_0_auc: 0.55879 |  0:00:22s\n",
      "epoch 16 | loss: 0.22454 | val_0_auc: 0.50066 |  0:00:23s\n",
      "epoch 17 | loss: 0.22633 | val_0_auc: 0.49613 |  0:00:25s\n",
      "epoch 18 | loss: 0.2174  | val_0_auc: 0.53345 |  0:00:27s\n",
      "epoch 19 | loss: 0.20611 | val_0_auc: 0.49913 |  0:00:28s\n",
      "epoch 20 | loss: 0.20036 | val_0_auc: 0.49549 |  0:00:30s\n",
      "epoch 21 | loss: 0.19455 | val_0_auc: 0.52514 |  0:00:31s\n",
      "epoch 22 | loss: 0.20243 | val_0_auc: 0.54918 |  0:00:32s\n",
      "epoch 23 | loss: 0.19211 | val_0_auc: 0.55766 |  0:00:34s\n",
      "epoch 24 | loss: 0.19447 | val_0_auc: 0.59125 |  0:00:35s\n",
      "epoch 25 | loss: 0.18726 | val_0_auc: 0.60347 |  0:00:37s\n",
      "epoch 26 | loss: 0.17748 | val_0_auc: 0.60763 |  0:00:38s\n",
      "epoch 27 | loss: 0.16815 | val_0_auc: 0.61039 |  0:00:39s\n",
      "epoch 28 | loss: 0.15989 | val_0_auc: 0.64924 |  0:00:41s\n",
      "epoch 29 | loss: 0.16111 | val_0_auc: 0.64574 |  0:00:42s\n",
      "epoch 30 | loss: 0.15618 | val_0_auc: 0.64046 |  0:00:44s\n",
      "epoch 31 | loss: 0.15237 | val_0_auc: 0.65832 |  0:00:45s\n",
      "epoch 32 | loss: 0.13131 | val_0_auc: 0.67171 |  0:00:46s\n",
      "epoch 33 | loss: 0.14714 | val_0_auc: 0.70303 |  0:00:47s\n",
      "epoch 34 | loss: 0.14343 | val_0_auc: 0.70619 |  0:00:48s\n",
      "epoch 35 | loss: 0.15154 | val_0_auc: 0.70182 |  0:00:49s\n",
      "epoch 36 | loss: 0.14237 | val_0_auc: 0.68305 |  0:00:50s\n",
      "epoch 37 | loss: 0.13678 | val_0_auc: 0.67993 |  0:00:52s\n",
      "epoch 38 | loss: 0.13743 | val_0_auc: 0.6645  |  0:00:53s\n",
      "epoch 39 | loss: 0.13146 | val_0_auc: 0.69976 |  0:00:54s\n",
      "epoch 40 | loss: 0.12353 | val_0_auc: 0.74589 |  0:00:55s\n",
      "epoch 41 | loss: 0.1168  | val_0_auc: 0.74178 |  0:00:56s\n",
      "epoch 42 | loss: 0.11536 | val_0_auc: 0.72615 |  0:00:58s\n",
      "epoch 43 | loss: 0.1113  | val_0_auc: 0.74362 |  0:00:59s\n",
      "epoch 44 | loss: 0.10859 | val_0_auc: 0.75813 |  0:01:00s\n",
      "epoch 45 | loss: 0.11289 | val_0_auc: 0.75152 |  0:01:01s\n",
      "epoch 46 | loss: 0.10323 | val_0_auc: 0.77059 |  0:01:02s\n",
      "epoch 47 | loss: 0.1127  | val_0_auc: 0.7652  |  0:01:04s\n",
      "epoch 48 | loss: 0.10764 | val_0_auc: 0.75919 |  0:01:05s\n",
      "epoch 49 | loss: 0.10214 | val_0_auc: 0.75993 |  0:01:06s\n",
      "epoch 50 | loss: 0.11728 | val_0_auc: 0.76175 |  0:01:07s\n",
      "epoch 51 | loss: 0.10126 | val_0_auc: 0.7735  |  0:01:08s\n",
      "epoch 52 | loss: 0.09311 | val_0_auc: 0.76247 |  0:01:10s\n",
      "epoch 53 | loss: 0.09843 | val_0_auc: 0.78568 |  0:01:11s\n",
      "epoch 54 | loss: 0.09037 | val_0_auc: 0.78914 |  0:01:12s\n",
      "epoch 55 | loss: 0.09753 | val_0_auc: 0.77219 |  0:01:13s\n",
      "epoch 56 | loss: 0.15092 | val_0_auc: 0.78275 |  0:01:14s\n",
      "epoch 57 | loss: 0.12251 | val_0_auc: 0.80555 |  0:01:16s\n",
      "epoch 58 | loss: 0.1021  | val_0_auc: 0.81717 |  0:01:17s\n",
      "epoch 59 | loss: 0.09699 | val_0_auc: 0.81021 |  0:01:18s\n",
      "epoch 60 | loss: 0.10489 | val_0_auc: 0.79319 |  0:01:19s\n",
      "epoch 61 | loss: 0.10577 | val_0_auc: 0.79594 |  0:01:20s\n",
      "epoch 62 | loss: 0.09942 | val_0_auc: 0.79611 |  0:01:22s\n",
      "epoch 63 | loss: 0.09415 | val_0_auc: 0.78213 |  0:01:23s\n",
      "epoch 64 | loss: 0.09905 | val_0_auc: 0.76878 |  0:01:24s\n",
      "epoch 65 | loss: 0.0907  | val_0_auc: 0.78005 |  0:01:25s\n",
      "epoch 66 | loss: 0.09623 | val_0_auc: 0.77669 |  0:01:26s\n",
      "epoch 67 | loss: 0.09466 | val_0_auc: 0.78113 |  0:01:28s\n",
      "epoch 68 | loss: 0.08908 | val_0_auc: 0.81272 |  0:01:29s\n",
      "epoch 69 | loss: 0.07854 | val_0_auc: 0.8081  |  0:01:30s\n",
      "epoch 70 | loss: 0.07558 | val_0_auc: 0.81729 |  0:01:31s\n",
      "epoch 71 | loss: 0.07842 | val_0_auc: 0.80335 |  0:01:33s\n",
      "epoch 72 | loss: 0.07808 | val_0_auc: 0.80217 |  0:01:34s\n",
      "epoch 73 | loss: 0.07379 | val_0_auc: 0.80893 |  0:01:35s\n",
      "epoch 74 | loss: 0.08511 | val_0_auc: 0.8331  |  0:01:36s\n",
      "epoch 75 | loss: 0.07403 | val_0_auc: 0.84059 |  0:01:38s\n",
      "epoch 76 | loss: 0.07641 | val_0_auc: 0.84401 |  0:01:39s\n",
      "epoch 77 | loss: 0.08356 | val_0_auc: 0.8312  |  0:01:40s\n",
      "epoch 78 | loss: 0.07904 | val_0_auc: 0.81976 |  0:01:41s\n",
      "epoch 79 | loss: 0.08166 | val_0_auc: 0.83265 |  0:01:42s\n",
      "epoch 80 | loss: 0.08624 | val_0_auc: 0.83029 |  0:01:43s\n",
      "epoch 81 | loss: 0.07635 | val_0_auc: 0.83497 |  0:01:45s\n",
      "epoch 82 | loss: 0.06964 | val_0_auc: 0.84242 |  0:01:46s\n",
      "epoch 83 | loss: 0.07214 | val_0_auc: 0.85672 |  0:01:47s\n",
      "epoch 84 | loss: 0.07164 | val_0_auc: 0.86071 |  0:01:48s\n",
      "epoch 85 | loss: 0.06946 | val_0_auc: 0.84412 |  0:01:49s\n",
      "epoch 86 | loss: 0.07424 | val_0_auc: 0.80818 |  0:01:50s\n",
      "epoch 87 | loss: 0.07166 | val_0_auc: 0.81802 |  0:01:52s\n",
      "epoch 88 | loss: 0.07361 | val_0_auc: 0.83148 |  0:01:53s\n",
      "epoch 89 | loss: 0.06155 | val_0_auc: 0.83398 |  0:01:54s\n",
      "epoch 90 | loss: 0.0638  | val_0_auc: 0.83895 |  0:01:55s\n",
      "epoch 91 | loss: 0.06472 | val_0_auc: 0.83791 |  0:01:56s\n",
      "epoch 92 | loss: 0.06592 | val_0_auc: 0.81528 |  0:01:58s\n",
      "epoch 93 | loss: 0.06131 | val_0_auc: 0.83064 |  0:01:59s\n",
      "epoch 94 | loss: 0.06719 | val_0_auc: 0.84319 |  0:02:00s\n",
      "epoch 95 | loss: 0.05089 | val_0_auc: 0.83401 |  0:02:01s\n",
      "epoch 96 | loss: 0.0595  | val_0_auc: 0.81497 |  0:02:02s\n",
      "epoch 97 | loss: 0.11016 | val_0_auc: 0.82439 |  0:02:03s\n",
      "epoch 98 | loss: 0.11264 | val_0_auc: 0.81292 |  0:02:05s\n",
      "epoch 99 | loss: 0.11163 | val_0_auc: 0.82316 |  0:02:06s\n",
      "epoch 100| loss: 0.10317 | val_0_auc: 0.81463 |  0:02:07s\n",
      "epoch 101| loss: 0.10084 | val_0_auc: 0.79643 |  0:02:08s\n",
      "epoch 102| loss: 0.08571 | val_0_auc: 0.8065  |  0:02:09s\n",
      "epoch 103| loss: 0.0781  | val_0_auc: 0.8094  |  0:02:11s\n",
      "epoch 104| loss: 0.08065 | val_0_auc: 0.79857 |  0:02:12s\n",
      "epoch 105| loss: 0.09476 | val_0_auc: 0.82601 |  0:02:13s\n",
      "epoch 106| loss: 0.10348 | val_0_auc: 0.79799 |  0:02:14s\n",
      "epoch 107| loss: 0.09423 | val_0_auc: 0.83158 |  0:02:15s\n",
      "epoch 108| loss: 0.09393 | val_0_auc: 0.81165 |  0:02:16s\n",
      "epoch 109| loss: 0.10177 | val_0_auc: 0.81601 |  0:02:17s\n",
      "epoch 110| loss: 0.09393 | val_0_auc: 0.82351 |  0:02:19s\n",
      "epoch 111| loss: 0.08588 | val_0_auc: 0.82342 |  0:02:20s\n",
      "epoch 112| loss: 0.08052 | val_0_auc: 0.81322 |  0:02:21s\n",
      "epoch 113| loss: 0.06659 | val_0_auc: 0.82073 |  0:02:22s\n",
      "epoch 114| loss: 0.07038 | val_0_auc: 0.83736 |  0:02:23s\n",
      "\n",
      "Early stopping occurred at epoch 114 with best_epoch = 84 and best_val_0_auc = 0.86071\n",
      "Best weights from best epoch are automatically used!\n"
     ]
    }
   ],
   "source": [
    "# model1\n",
    "clf1 = TabNetClassifier(seed=0)\n",
    "clf1.fit(\n",
    "    X_train1, y_train1,\n",
    "    eval_set=[(X_test, y_test)],\n",
    "    patience=30,max_epochs=500,\n",
    "    eval_metric=['auc']\n",
    ")"
   ]
  },
  {
   "cell_type": "code",
   "execution_count": 245,
   "id": "35399d80",
   "metadata": {},
   "outputs": [
    {
     "name": "stdout",
     "output_type": "stream",
     "text": [
      "Device used : cpu\n",
      "epoch 0  | loss: 0.72721 | val_0_auc: 0.46637 |  0:00:01s\n",
      "epoch 1  | loss: 0.63025 | val_0_auc: 0.49543 |  0:00:02s\n",
      "epoch 2  | loss: 0.5727  | val_0_auc: 0.43156 |  0:00:05s\n",
      "epoch 3  | loss: 0.51702 | val_0_auc: 0.48853 |  0:00:07s\n",
      "epoch 4  | loss: 0.48909 | val_0_auc: 0.47259 |  0:00:10s\n",
      "epoch 5  | loss: 0.46136 | val_0_auc: 0.55153 |  0:00:13s\n",
      "epoch 6  | loss: 0.4206  | val_0_auc: 0.59338 |  0:00:14s\n",
      "epoch 7  | loss: 0.3813  | val_0_auc: 0.62299 |  0:00:16s\n",
      "epoch 8  | loss: 0.36546 | val_0_auc: 0.58416 |  0:00:17s\n",
      "epoch 9  | loss: 0.33091 | val_0_auc: 0.47374 |  0:00:19s\n",
      "epoch 10 | loss: 0.32608 | val_0_auc: 0.50255 |  0:00:20s\n",
      "epoch 11 | loss: 0.29625 | val_0_auc: 0.50947 |  0:00:22s\n",
      "epoch 12 | loss: 0.28042 | val_0_auc: 0.49037 |  0:00:23s\n",
      "epoch 13 | loss: 0.25916 | val_0_auc: 0.50276 |  0:00:25s\n",
      "epoch 14 | loss: 0.24829 | val_0_auc: 0.40732 |  0:00:26s\n",
      "epoch 15 | loss: 0.23721 | val_0_auc: 0.42108 |  0:00:27s\n",
      "epoch 16 | loss: 0.23476 | val_0_auc: 0.4117  |  0:00:29s\n",
      "epoch 17 | loss: 0.22694 | val_0_auc: 0.5092  |  0:00:30s\n",
      "epoch 18 | loss: 0.21438 | val_0_auc: 0.42621 |  0:00:32s\n",
      "epoch 19 | loss: 0.22289 | val_0_auc: 0.52964 |  0:00:33s\n",
      "epoch 20 | loss: 0.20565 | val_0_auc: 0.53116 |  0:00:34s\n",
      "epoch 21 | loss: 0.20893 | val_0_auc: 0.53555 |  0:00:36s\n",
      "epoch 22 | loss: 0.20231 | val_0_auc: 0.53772 |  0:00:37s\n",
      "epoch 23 | loss: 0.18892 | val_0_auc: 0.55197 |  0:00:38s\n",
      "epoch 24 | loss: 0.18268 | val_0_auc: 0.54903 |  0:00:39s\n",
      "epoch 25 | loss: 0.17606 | val_0_auc: 0.61961 |  0:00:41s\n",
      "epoch 26 | loss: 0.16743 | val_0_auc: 0.54488 |  0:00:42s\n",
      "epoch 27 | loss: 0.1586  | val_0_auc: 0.52521 |  0:00:43s\n",
      "epoch 28 | loss: 0.15957 | val_0_auc: 0.53459 |  0:00:45s\n",
      "epoch 29 | loss: 0.14619 | val_0_auc: 0.58695 |  0:00:47s\n",
      "epoch 30 | loss: 0.13033 | val_0_auc: 0.62105 |  0:00:49s\n",
      "epoch 31 | loss: 0.1514  | val_0_auc: 0.65772 |  0:00:51s\n",
      "epoch 32 | loss: 0.1454  | val_0_auc: 0.65518 |  0:00:53s\n",
      "epoch 33 | loss: 0.1305  | val_0_auc: 0.65057 |  0:00:55s\n",
      "epoch 34 | loss: 0.12534 | val_0_auc: 0.64861 |  0:00:56s\n",
      "epoch 35 | loss: 0.12079 | val_0_auc: 0.64867 |  0:00:58s\n",
      "epoch 36 | loss: 0.12351 | val_0_auc: 0.69568 |  0:00:59s\n",
      "epoch 37 | loss: 0.12119 | val_0_auc: 0.71957 |  0:01:01s\n",
      "epoch 38 | loss: 0.11666 | val_0_auc: 0.72085 |  0:01:02s\n",
      "epoch 39 | loss: 0.12961 | val_0_auc: 0.72573 |  0:01:03s\n",
      "epoch 40 | loss: 0.11433 | val_0_auc: 0.73959 |  0:01:04s\n",
      "epoch 41 | loss: 0.11899 | val_0_auc: 0.76242 |  0:01:06s\n",
      "epoch 42 | loss: 0.10673 | val_0_auc: 0.76065 |  0:01:07s\n",
      "epoch 43 | loss: 0.10602 | val_0_auc: 0.79063 |  0:01:08s\n",
      "epoch 44 | loss: 0.10202 | val_0_auc: 0.79551 |  0:01:09s\n",
      "epoch 45 | loss: 0.09455 | val_0_auc: 0.78772 |  0:01:11s\n",
      "epoch 46 | loss: 0.09858 | val_0_auc: 0.7984  |  0:01:12s\n",
      "epoch 47 | loss: 0.09971 | val_0_auc: 0.79699 |  0:01:13s\n",
      "epoch 48 | loss: 0.08596 | val_0_auc: 0.79669 |  0:01:14s\n",
      "epoch 49 | loss: 0.08712 | val_0_auc: 0.79817 |  0:01:16s\n",
      "epoch 50 | loss: 0.08338 | val_0_auc: 0.80302 |  0:01:17s\n",
      "epoch 51 | loss: 0.08313 | val_0_auc: 0.81564 |  0:01:19s\n",
      "epoch 52 | loss: 0.09226 | val_0_auc: 0.8139  |  0:01:20s\n",
      "epoch 53 | loss: 0.07864 | val_0_auc: 0.81762 |  0:01:21s\n",
      "epoch 54 | loss: 0.08073 | val_0_auc: 0.82728 |  0:01:22s\n",
      "epoch 55 | loss: 0.08306 | val_0_auc: 0.8309  |  0:01:24s\n",
      "epoch 56 | loss: 0.08604 | val_0_auc: 0.83945 |  0:01:25s\n",
      "epoch 57 | loss: 0.06988 | val_0_auc: 0.84631 |  0:01:26s\n",
      "epoch 58 | loss: 0.08649 | val_0_auc: 0.83892 |  0:01:27s\n",
      "epoch 59 | loss: 0.0844  | val_0_auc: 0.83968 |  0:01:28s\n",
      "epoch 60 | loss: 0.08764 | val_0_auc: 0.83691 |  0:01:30s\n",
      "epoch 61 | loss: 0.07865 | val_0_auc: 0.83559 |  0:01:31s\n",
      "epoch 62 | loss: 0.07964 | val_0_auc: 0.83853 |  0:01:32s\n",
      "epoch 63 | loss: 0.08066 | val_0_auc: 0.83671 |  0:01:33s\n",
      "epoch 64 | loss: 0.07439 | val_0_auc: 0.84729 |  0:01:35s\n",
      "epoch 65 | loss: 0.07539 | val_0_auc: 0.84351 |  0:01:36s\n",
      "epoch 66 | loss: 0.09558 | val_0_auc: 0.85131 |  0:01:37s\n",
      "epoch 67 | loss: 0.08298 | val_0_auc: 0.8533  |  0:01:38s\n",
      "epoch 68 | loss: 0.0969  | val_0_auc: 0.87386 |  0:01:40s\n",
      "epoch 69 | loss: 0.08053 | val_0_auc: 0.86214 |  0:01:41s\n",
      "epoch 70 | loss: 0.08254 | val_0_auc: 0.83692 |  0:01:42s\n",
      "epoch 71 | loss: 0.06848 | val_0_auc: 0.82968 |  0:01:44s\n",
      "epoch 72 | loss: 0.07592 | val_0_auc: 0.83949 |  0:01:45s\n",
      "epoch 73 | loss: 0.07422 | val_0_auc: 0.85446 |  0:01:46s\n",
      "epoch 74 | loss: 0.07172 | val_0_auc: 0.85195 |  0:01:48s\n",
      "epoch 75 | loss: 0.07203 | val_0_auc: 0.83737 |  0:01:49s\n",
      "epoch 76 | loss: 0.0639  | val_0_auc: 0.84311 |  0:01:50s\n",
      "epoch 77 | loss: 0.06396 | val_0_auc: 0.83178 |  0:01:52s\n",
      "epoch 78 | loss: 0.05541 | val_0_auc: 0.82824 |  0:01:53s\n",
      "epoch 79 | loss: 0.05798 | val_0_auc: 0.83213 |  0:01:55s\n",
      "epoch 80 | loss: 0.06029 | val_0_auc: 0.84314 |  0:01:56s\n",
      "epoch 81 | loss: 0.05631 | val_0_auc: 0.84943 |  0:01:57s\n",
      "epoch 82 | loss: 0.05253 | val_0_auc: 0.85354 |  0:01:58s\n",
      "epoch 83 | loss: 0.0518  | val_0_auc: 0.8582  |  0:02:00s\n",
      "epoch 84 | loss: 0.0507  | val_0_auc: 0.85098 |  0:02:01s\n",
      "epoch 85 | loss: 0.05778 | val_0_auc: 0.8482  |  0:02:03s\n",
      "epoch 86 | loss: 0.05212 | val_0_auc: 0.85204 |  0:02:04s\n",
      "epoch 87 | loss: 0.06417 | val_0_auc: 0.84727 |  0:02:05s\n",
      "epoch 88 | loss: 0.06293 | val_0_auc: 0.84764 |  0:02:06s\n",
      "epoch 89 | loss: 0.0579  | val_0_auc: 0.84743 |  0:02:07s\n",
      "epoch 90 | loss: 0.05175 | val_0_auc: 0.84529 |  0:02:09s\n",
      "epoch 91 | loss: 0.05289 | val_0_auc: 0.85422 |  0:02:10s\n",
      "epoch 92 | loss: 0.05293 | val_0_auc: 0.84259 |  0:02:11s\n",
      "epoch 93 | loss: 0.05695 | val_0_auc: 0.83813 |  0:02:13s\n",
      "epoch 94 | loss: 0.05609 | val_0_auc: 0.84851 |  0:02:14s\n",
      "epoch 95 | loss: 0.06189 | val_0_auc: 0.85126 |  0:02:15s\n",
      "epoch 96 | loss: 0.06258 | val_0_auc: 0.85814 |  0:02:16s\n",
      "epoch 97 | loss: 0.05818 | val_0_auc: 0.8654  |  0:02:17s\n",
      "epoch 98 | loss: 0.06427 | val_0_auc: 0.86147 |  0:02:19s\n",
      "\n",
      "Early stopping occurred at epoch 98 with best_epoch = 68 and best_val_0_auc = 0.87386\n",
      "Best weights from best epoch are automatically used!\n"
     ]
    }
   ],
   "source": [
    "# model2\n",
    "clf2 = TabNetClassifier(seed=0)\n",
    "clf2.fit(\n",
    "    X_train2, y_train2,\n",
    "    eval_set=[(X_test2, y_test2)],\n",
    "    patience=30,max_epochs=500,\n",
    "    eval_metric=['auc']\n",
    ")"
   ]
  },
  {
   "cell_type": "code",
   "execution_count": 246,
   "id": "e0a0c202",
   "metadata": {},
   "outputs": [
    {
     "name": "stdout",
     "output_type": "stream",
     "text": [
      "Device used : cpu\n",
      "epoch 0  | loss: 0.73927 | val_0_auc: 0.52717 |  0:00:01s\n",
      "epoch 1  | loss: 0.61234 | val_0_auc: 0.48641 |  0:00:02s\n",
      "epoch 2  | loss: 0.55864 | val_0_auc: 0.43338 |  0:00:03s\n",
      "epoch 3  | loss: 0.5128  | val_0_auc: 0.58611 |  0:00:05s\n",
      "epoch 4  | loss: 0.46424 | val_0_auc: 0.45455 |  0:00:06s\n",
      "epoch 5  | loss: 0.41539 | val_0_auc: 0.56806 |  0:00:07s\n",
      "epoch 6  | loss: 0.38244 | val_0_auc: 0.51106 |  0:00:08s\n",
      "epoch 7  | loss: 0.33634 | val_0_auc: 0.4969  |  0:00:10s\n",
      "epoch 8  | loss: 0.31947 | val_0_auc: 0.45383 |  0:00:11s\n",
      "epoch 9  | loss: 0.30327 | val_0_auc: 0.51095 |  0:00:12s\n",
      "epoch 10 | loss: 0.28186 | val_0_auc: 0.59033 |  0:00:13s\n",
      "epoch 11 | loss: 0.2675  | val_0_auc: 0.58333 |  0:00:15s\n",
      "epoch 12 | loss: 0.24573 | val_0_auc: 0.59276 |  0:00:16s\n",
      "epoch 13 | loss: 0.23889 | val_0_auc: 0.55179 |  0:00:17s\n",
      "epoch 14 | loss: 0.22554 | val_0_auc: 0.56852 |  0:00:18s\n",
      "epoch 15 | loss: 0.21783 | val_0_auc: 0.56018 |  0:00:19s\n",
      "epoch 16 | loss: 0.21734 | val_0_auc: 0.59584 |  0:00:21s\n",
      "epoch 17 | loss: 0.19899 | val_0_auc: 0.64007 |  0:00:22s\n",
      "epoch 18 | loss: 0.19022 | val_0_auc: 0.65898 |  0:00:23s\n",
      "epoch 19 | loss: 0.18023 | val_0_auc: 0.6369  |  0:00:24s\n",
      "epoch 20 | loss: 0.1745  | val_0_auc: 0.65747 |  0:00:26s\n",
      "epoch 21 | loss: 0.17292 | val_0_auc: 0.64591 |  0:00:27s\n",
      "epoch 22 | loss: 0.16562 | val_0_auc: 0.67208 |  0:00:28s\n",
      "epoch 23 | loss: 0.15257 | val_0_auc: 0.6714  |  0:00:29s\n",
      "epoch 24 | loss: 0.14152 | val_0_auc: 0.68229 |  0:00:31s\n",
      "epoch 25 | loss: 0.13513 | val_0_auc: 0.68675 |  0:00:33s\n",
      "epoch 26 | loss: 0.14055 | val_0_auc: 0.68288 |  0:00:35s\n",
      "epoch 27 | loss: 0.13189 | val_0_auc: 0.68897 |  0:00:37s\n",
      "epoch 28 | loss: 0.12512 | val_0_auc: 0.69873 |  0:00:38s\n",
      "epoch 29 | loss: 0.12256 | val_0_auc: 0.65769 |  0:00:40s\n",
      "epoch 30 | loss: 0.12969 | val_0_auc: 0.67102 |  0:00:41s\n",
      "epoch 31 | loss: 0.12045 | val_0_auc: 0.6438  |  0:00:43s\n",
      "epoch 32 | loss: 0.12335 | val_0_auc: 0.67304 |  0:00:44s\n",
      "epoch 33 | loss: 0.12678 | val_0_auc: 0.68301 |  0:00:45s\n",
      "epoch 34 | loss: 0.13491 | val_0_auc: 0.59466 |  0:00:46s\n",
      "epoch 35 | loss: 0.14685 | val_0_auc: 0.61899 |  0:00:48s\n",
      "epoch 36 | loss: 0.13425 | val_0_auc: 0.66965 |  0:00:49s\n",
      "epoch 37 | loss: 0.1348  | val_0_auc: 0.69051 |  0:00:50s\n",
      "epoch 38 | loss: 0.12824 | val_0_auc: 0.67499 |  0:00:52s\n",
      "epoch 39 | loss: 0.12675 | val_0_auc: 0.67357 |  0:00:53s\n",
      "epoch 40 | loss: 0.12068 | val_0_auc: 0.68552 |  0:00:54s\n",
      "epoch 41 | loss: 0.10788 | val_0_auc: 0.70696 |  0:00:55s\n",
      "epoch 42 | loss: 0.10031 | val_0_auc: 0.75651 |  0:00:57s\n",
      "epoch 43 | loss: 0.11228 | val_0_auc: 0.74678 |  0:00:58s\n",
      "epoch 44 | loss: 0.10391 | val_0_auc: 0.72957 |  0:00:59s\n",
      "epoch 45 | loss: 0.1114  | val_0_auc: 0.74529 |  0:01:01s\n",
      "epoch 46 | loss: 0.09491 | val_0_auc: 0.7368  |  0:01:03s\n",
      "epoch 47 | loss: 0.09611 | val_0_auc: 0.72652 |  0:01:05s\n",
      "epoch 48 | loss: 0.09935 | val_0_auc: 0.76862 |  0:01:06s\n",
      "epoch 49 | loss: 0.09414 | val_0_auc: 0.78425 |  0:01:08s\n",
      "epoch 50 | loss: 0.08511 | val_0_auc: 0.78962 |  0:01:09s\n",
      "epoch 51 | loss: 0.08708 | val_0_auc: 0.79879 |  0:01:11s\n",
      "epoch 52 | loss: 0.08155 | val_0_auc: 0.78848 |  0:01:12s\n",
      "epoch 53 | loss: 0.0844  | val_0_auc: 0.76332 |  0:01:13s\n",
      "epoch 54 | loss: 0.08445 | val_0_auc: 0.76179 |  0:01:15s\n",
      "epoch 55 | loss: 0.07945 | val_0_auc: 0.79378 |  0:01:16s\n",
      "epoch 56 | loss: 0.09003 | val_0_auc: 0.79573 |  0:01:17s\n",
      "epoch 57 | loss: 0.08152 | val_0_auc: 0.80174 |  0:01:18s\n",
      "epoch 58 | loss: 0.08476 | val_0_auc: 0.80652 |  0:01:19s\n",
      "epoch 59 | loss: 0.08615 | val_0_auc: 0.80693 |  0:01:21s\n",
      "epoch 60 | loss: 0.08047 | val_0_auc: 0.82244 |  0:01:22s\n",
      "epoch 61 | loss: 0.083   | val_0_auc: 0.80471 |  0:01:23s\n",
      "epoch 62 | loss: 0.07476 | val_0_auc: 0.81572 |  0:01:25s\n",
      "epoch 63 | loss: 0.06938 | val_0_auc: 0.80837 |  0:01:26s\n",
      "epoch 64 | loss: 0.06371 | val_0_auc: 0.81927 |  0:01:27s\n",
      "epoch 65 | loss: 0.06605 | val_0_auc: 0.83749 |  0:01:28s\n",
      "epoch 66 | loss: 0.07236 | val_0_auc: 0.85199 |  0:01:29s\n",
      "epoch 67 | loss: 0.06788 | val_0_auc: 0.85899 |  0:01:31s\n",
      "epoch 68 | loss: 0.06381 | val_0_auc: 0.86863 |  0:01:32s\n",
      "epoch 69 | loss: 0.07146 | val_0_auc: 0.87777 |  0:01:33s\n",
      "epoch 70 | loss: 0.06673 | val_0_auc: 0.86454 |  0:01:34s\n",
      "epoch 71 | loss: 0.07073 | val_0_auc: 0.85761 |  0:01:36s\n",
      "epoch 72 | loss: 0.07035 | val_0_auc: 0.86364 |  0:01:37s\n",
      "epoch 73 | loss: 0.08078 | val_0_auc: 0.88434 |  0:01:38s\n",
      "epoch 74 | loss: 0.09331 | val_0_auc: 0.87273 |  0:01:39s\n",
      "epoch 75 | loss: 0.07957 | val_0_auc: 0.87103 |  0:01:40s\n",
      "epoch 76 | loss: 0.08476 | val_0_auc: 0.86005 |  0:01:41s\n",
      "epoch 77 | loss: 0.08433 | val_0_auc: 0.85678 |  0:01:43s\n",
      "epoch 78 | loss: 0.08417 | val_0_auc: 0.87018 |  0:01:44s\n",
      "epoch 79 | loss: 0.0987  | val_0_auc: 0.86412 |  0:01:45s\n",
      "epoch 80 | loss: 0.08847 | val_0_auc: 0.85416 |  0:01:46s\n",
      "epoch 81 | loss: 0.07886 | val_0_auc: 0.8539  |  0:01:47s\n",
      "epoch 82 | loss: 0.06251 | val_0_auc: 0.85852 |  0:01:49s\n",
      "epoch 83 | loss: 0.06317 | val_0_auc: 0.86519 |  0:01:50s\n",
      "epoch 84 | loss: 0.07105 | val_0_auc: 0.87598 |  0:01:51s\n",
      "epoch 85 | loss: 0.06192 | val_0_auc: 0.86662 |  0:01:52s\n",
      "epoch 86 | loss: 0.06713 | val_0_auc: 0.86223 |  0:01:54s\n",
      "epoch 87 | loss: 0.05733 | val_0_auc: 0.86503 |  0:01:55s\n",
      "epoch 88 | loss: 0.05524 | val_0_auc: 0.87334 |  0:01:56s\n",
      "epoch 89 | loss: 0.05513 | val_0_auc: 0.88381 |  0:01:57s\n",
      "epoch 90 | loss: 0.05505 | val_0_auc: 0.88929 |  0:01:59s\n",
      "epoch 91 | loss: 0.05779 | val_0_auc: 0.88096 |  0:02:00s\n",
      "epoch 92 | loss: 0.05312 | val_0_auc: 0.87463 |  0:02:01s\n",
      "epoch 93 | loss: 0.06591 | val_0_auc: 0.88025 |  0:02:02s\n",
      "epoch 94 | loss: 0.08151 | val_0_auc: 0.86537 |  0:02:04s\n",
      "epoch 95 | loss: 0.06569 | val_0_auc: 0.87405 |  0:02:05s\n",
      "epoch 96 | loss: 0.05932 | val_0_auc: 0.88536 |  0:02:06s\n",
      "epoch 97 | loss: 0.05291 | val_0_auc: 0.89351 |  0:02:07s\n",
      "epoch 98 | loss: 0.06137 | val_0_auc: 0.88958 |  0:02:08s\n",
      "epoch 99 | loss: 0.05329 | val_0_auc: 0.89043 |  0:02:10s\n",
      "epoch 100| loss: 0.05193 | val_0_auc: 0.89288 |  0:02:11s\n",
      "epoch 101| loss: 0.0458  | val_0_auc: 0.89036 |  0:02:12s\n",
      "epoch 102| loss: 0.04458 | val_0_auc: 0.87776 |  0:02:13s\n",
      "epoch 103| loss: 0.04685 | val_0_auc: 0.854   |  0:02:15s\n",
      "epoch 104| loss: 0.04934 | val_0_auc: 0.86692 |  0:02:16s\n",
      "epoch 105| loss: 0.04954 | val_0_auc: 0.87737 |  0:02:18s\n",
      "epoch 106| loss: 0.04644 | val_0_auc: 0.87587 |  0:02:19s\n",
      "epoch 107| loss: 0.05291 | val_0_auc: 0.88189 |  0:02:20s\n",
      "epoch 108| loss: 0.0538  | val_0_auc: 0.88762 |  0:02:21s\n",
      "epoch 109| loss: 0.05592 | val_0_auc: 0.88237 |  0:02:22s\n",
      "epoch 110| loss: 0.04948 | val_0_auc: 0.87723 |  0:02:24s\n",
      "epoch 111| loss: 0.05481 | val_0_auc: 0.88653 |  0:02:25s\n",
      "epoch 112| loss: 0.05549 | val_0_auc: 0.8898  |  0:02:26s\n",
      "epoch 113| loss: 0.05498 | val_0_auc: 0.88222 |  0:02:27s\n",
      "epoch 114| loss: 0.05736 | val_0_auc: 0.86351 |  0:02:28s\n",
      "epoch 115| loss: 0.06154 | val_0_auc: 0.86942 |  0:02:30s\n",
      "epoch 116| loss: 0.05828 | val_0_auc: 0.875   |  0:02:31s\n",
      "epoch 117| loss: 0.06882 | val_0_auc: 0.87523 |  0:02:32s\n",
      "epoch 118| loss: 0.06723 | val_0_auc: 0.88081 |  0:02:33s\n",
      "epoch 119| loss: 0.0578  | val_0_auc: 0.88167 |  0:02:34s\n",
      "epoch 120| loss: 0.07324 | val_0_auc: 0.89226 |  0:02:36s\n",
      "epoch 121| loss: 0.08436 | val_0_auc: 0.89723 |  0:02:37s\n",
      "epoch 122| loss: 0.0662  | val_0_auc: 0.89446 |  0:02:38s\n",
      "epoch 123| loss: 0.05401 | val_0_auc: 0.89149 |  0:02:39s\n",
      "epoch 124| loss: 0.05053 | val_0_auc: 0.89085 |  0:02:41s\n",
      "epoch 125| loss: 0.04444 | val_0_auc: 0.89153 |  0:02:42s\n",
      "epoch 126| loss: 0.04109 | val_0_auc: 0.89099 |  0:02:45s\n",
      "epoch 127| loss: 0.03754 | val_0_auc: 0.88574 |  0:02:47s\n",
      "epoch 128| loss: 0.04436 | val_0_auc: 0.89315 |  0:02:48s\n",
      "epoch 129| loss: 0.03839 | val_0_auc: 0.8925  |  0:02:49s\n",
      "epoch 130| loss: 0.04039 | val_0_auc: 0.88649 |  0:02:51s\n",
      "epoch 131| loss: 0.04518 | val_0_auc: 0.88978 |  0:02:52s\n",
      "epoch 132| loss: 0.04326 | val_0_auc: 0.89518 |  0:02:55s\n",
      "epoch 133| loss: 0.04699 | val_0_auc: 0.90829 |  0:02:57s\n",
      "epoch 134| loss: 0.05332 | val_0_auc: 0.89761 |  0:02:58s\n",
      "epoch 135| loss: 0.07516 | val_0_auc: 0.87649 |  0:03:00s\n",
      "epoch 136| loss: 0.07685 | val_0_auc: 0.88724 |  0:03:01s\n",
      "epoch 137| loss: 0.08718 | val_0_auc: 0.87928 |  0:03:03s\n",
      "epoch 138| loss: 0.07597 | val_0_auc: 0.8836  |  0:03:04s\n",
      "epoch 139| loss: 0.07127 | val_0_auc: 0.86949 |  0:03:05s\n",
      "epoch 140| loss: 0.07244 | val_0_auc: 0.85716 |  0:03:07s\n"
     ]
    },
    {
     "name": "stdout",
     "output_type": "stream",
     "text": [
      "epoch 141| loss: 0.06313 | val_0_auc: 0.85893 |  0:03:08s\n",
      "epoch 142| loss: 0.06228 | val_0_auc: 0.87406 |  0:03:10s\n",
      "epoch 143| loss: 0.05741 | val_0_auc: 0.87927 |  0:03:11s\n",
      "epoch 144| loss: 0.05472 | val_0_auc: 0.88635 |  0:03:12s\n",
      "epoch 145| loss: 0.04891 | val_0_auc: 0.88299 |  0:03:13s\n",
      "epoch 146| loss: 0.04012 | val_0_auc: 0.88671 |  0:03:15s\n",
      "epoch 147| loss: 0.04969 | val_0_auc: 0.88869 |  0:03:16s\n",
      "epoch 148| loss: 0.05747 | val_0_auc: 0.89433 |  0:03:18s\n",
      "epoch 149| loss: 0.04619 | val_0_auc: 0.88989 |  0:03:20s\n",
      "epoch 150| loss: 0.04933 | val_0_auc: 0.88606 |  0:03:21s\n",
      "epoch 151| loss: 0.0513  | val_0_auc: 0.88684 |  0:03:23s\n",
      "epoch 152| loss: 0.04692 | val_0_auc: 0.88889 |  0:03:25s\n",
      "epoch 153| loss: 0.04202 | val_0_auc: 0.89361 |  0:03:26s\n",
      "epoch 154| loss: 0.03558 | val_0_auc: 0.88434 |  0:03:27s\n",
      "epoch 155| loss: 0.03527 | val_0_auc: 0.87759 |  0:03:28s\n",
      "epoch 156| loss: 0.03604 | val_0_auc: 0.88112 |  0:03:29s\n",
      "epoch 157| loss: 0.03475 | val_0_auc: 0.88438 |  0:03:31s\n",
      "epoch 158| loss: 0.02785 | val_0_auc: 0.88129 |  0:03:32s\n",
      "epoch 159| loss: 0.0324  | val_0_auc: 0.88202 |  0:03:33s\n",
      "epoch 160| loss: 0.03033 | val_0_auc: 0.8758  |  0:03:34s\n",
      "epoch 161| loss: 0.03472 | val_0_auc: 0.8656  |  0:03:35s\n",
      "epoch 162| loss: 0.03728 | val_0_auc: 0.87694 |  0:03:37s\n",
      "epoch 163| loss: 0.04274 | val_0_auc: 0.86059 |  0:03:38s\n",
      "\n",
      "Early stopping occurred at epoch 163 with best_epoch = 133 and best_val_0_auc = 0.90829\n",
      "Best weights from best epoch are automatically used!\n"
     ]
    }
   ],
   "source": [
    "# model3\n",
    "clf3 = TabNetClassifier(seed=0)\n",
    "clf3.fit(\n",
    "    X_train3, y_train3,\n",
    "    eval_set=[(X_test3, y_test3)],\n",
    "    patience=30,max_epochs=500,\n",
    "    eval_metric=['auc']\n",
    ")"
   ]
  },
  {
   "cell_type": "code",
   "execution_count": 247,
   "id": "3485b824",
   "metadata": {},
   "outputs": [
    {
     "name": "stdout",
     "output_type": "stream",
     "text": [
      "Device used : cpu\n",
      "epoch 0  | loss: 0.7176  | val_0_auc: 0.51063 |  0:00:01s\n",
      "epoch 1  | loss: 0.62207 | val_0_auc: 0.5481  |  0:00:02s\n",
      "epoch 2  | loss: 0.56354 | val_0_auc: 0.52947 |  0:00:03s\n",
      "epoch 3  | loss: 0.52984 | val_0_auc: 0.55199 |  0:00:04s\n",
      "epoch 4  | loss: 0.47258 | val_0_auc: 0.56428 |  0:00:06s\n",
      "epoch 5  | loss: 0.41986 | val_0_auc: 0.53439 |  0:00:07s\n",
      "epoch 6  | loss: 0.38393 | val_0_auc: 0.52498 |  0:00:08s\n",
      "epoch 7  | loss: 0.36102 | val_0_auc: 0.55382 |  0:00:09s\n",
      "epoch 8  | loss: 0.34431 | val_0_auc: 0.59897 |  0:00:10s\n",
      "epoch 9  | loss: 0.33555 | val_0_auc: 0.61647 |  0:00:12s\n",
      "epoch 10 | loss: 0.29536 | val_0_auc: 0.4975  |  0:00:13s\n",
      "epoch 11 | loss: 0.28722 | val_0_auc: 0.53194 |  0:00:14s\n",
      "epoch 12 | loss: 0.26388 | val_0_auc: 0.57933 |  0:00:16s\n",
      "epoch 13 | loss: 0.24757 | val_0_auc: 0.52883 |  0:00:18s\n",
      "epoch 14 | loss: 0.2295  | val_0_auc: 0.4801  |  0:00:19s\n",
      "epoch 15 | loss: 0.23708 | val_0_auc: 0.45827 |  0:00:21s\n",
      "epoch 16 | loss: 0.22371 | val_0_auc: 0.54502 |  0:00:22s\n",
      "epoch 17 | loss: 0.212   | val_0_auc: 0.55956 |  0:00:24s\n",
      "epoch 18 | loss: 0.20662 | val_0_auc: 0.63905 |  0:00:25s\n",
      "epoch 19 | loss: 0.18842 | val_0_auc: 0.64928 |  0:00:27s\n",
      "epoch 20 | loss: 0.18599 | val_0_auc: 0.63647 |  0:00:28s\n",
      "epoch 21 | loss: 0.1695  | val_0_auc: 0.60033 |  0:00:30s\n",
      "epoch 22 | loss: 0.1612  | val_0_auc: 0.61514 |  0:00:31s\n",
      "epoch 23 | loss: 0.15924 | val_0_auc: 0.63176 |  0:00:32s\n",
      "epoch 24 | loss: 0.15349 | val_0_auc: 0.60916 |  0:00:34s\n",
      "epoch 25 | loss: 0.1448  | val_0_auc: 0.5654  |  0:00:35s\n",
      "epoch 26 | loss: 0.14671 | val_0_auc: 0.58966 |  0:00:37s\n",
      "epoch 27 | loss: 0.15285 | val_0_auc: 0.66544 |  0:00:38s\n",
      "epoch 28 | loss: 0.15584 | val_0_auc: 0.70038 |  0:00:40s\n",
      "epoch 29 | loss: 0.14924 | val_0_auc: 0.72447 |  0:00:41s\n",
      "epoch 30 | loss: 0.1451  | val_0_auc: 0.72217 |  0:00:43s\n",
      "epoch 31 | loss: 0.14036 | val_0_auc: 0.75187 |  0:00:44s\n",
      "epoch 32 | loss: 0.13778 | val_0_auc: 0.7346  |  0:00:45s\n",
      "epoch 33 | loss: 0.13252 | val_0_auc: 0.74207 |  0:00:47s\n",
      "epoch 34 | loss: 0.11822 | val_0_auc: 0.75571 |  0:00:49s\n",
      "epoch 35 | loss: 0.11017 | val_0_auc: 0.75071 |  0:00:50s\n",
      "epoch 36 | loss: 0.11407 | val_0_auc: 0.74788 |  0:00:52s\n",
      "epoch 37 | loss: 0.11043 | val_0_auc: 0.76246 |  0:00:53s\n",
      "epoch 38 | loss: 0.10791 | val_0_auc: 0.79044 |  0:00:54s\n",
      "epoch 39 | loss: 0.10976 | val_0_auc: 0.80874 |  0:00:55s\n",
      "epoch 40 | loss: 0.09454 | val_0_auc: 0.78956 |  0:00:56s\n",
      "epoch 41 | loss: 0.11782 | val_0_auc: 0.82102 |  0:00:57s\n",
      "epoch 42 | loss: 0.11221 | val_0_auc: 0.8558  |  0:00:59s\n",
      "epoch 43 | loss: 0.10645 | val_0_auc: 0.87578 |  0:01:00s\n",
      "epoch 44 | loss: 0.09998 | val_0_auc: 0.86673 |  0:01:01s\n",
      "epoch 45 | loss: 0.09779 | val_0_auc: 0.84702 |  0:01:02s\n",
      "epoch 46 | loss: 0.09017 | val_0_auc: 0.83292 |  0:01:03s\n",
      "epoch 47 | loss: 0.09337 | val_0_auc: 0.84475 |  0:01:04s\n",
      "epoch 48 | loss: 0.09878 | val_0_auc: 0.85882 |  0:01:06s\n",
      "epoch 49 | loss: 0.08522 | val_0_auc: 0.84912 |  0:01:07s\n",
      "epoch 50 | loss: 0.09186 | val_0_auc: 0.8456  |  0:01:08s\n",
      "epoch 51 | loss: 0.07726 | val_0_auc: 0.86258 |  0:01:09s\n",
      "epoch 52 | loss: 0.08854 | val_0_auc: 0.85478 |  0:01:10s\n",
      "epoch 53 | loss: 0.08871 | val_0_auc: 0.84854 |  0:01:12s\n",
      "epoch 54 | loss: 0.08865 | val_0_auc: 0.83292 |  0:01:13s\n",
      "epoch 55 | loss: 0.09463 | val_0_auc: 0.83821 |  0:01:14s\n",
      "epoch 56 | loss: 0.08256 | val_0_auc: 0.82321 |  0:01:15s\n",
      "epoch 57 | loss: 0.08111 | val_0_auc: 0.8482  |  0:01:16s\n",
      "epoch 58 | loss: 0.08854 | val_0_auc: 0.8422  |  0:01:18s\n",
      "epoch 59 | loss: 0.08157 | val_0_auc: 0.84947 |  0:01:19s\n",
      "epoch 60 | loss: 0.09548 | val_0_auc: 0.8697  |  0:01:20s\n",
      "epoch 61 | loss: 0.09902 | val_0_auc: 0.87814 |  0:01:22s\n",
      "epoch 62 | loss: 0.09419 | val_0_auc: 0.8802  |  0:01:23s\n",
      "epoch 63 | loss: 0.09479 | val_0_auc: 0.8768  |  0:01:24s\n",
      "epoch 64 | loss: 0.0792  | val_0_auc: 0.86563 |  0:01:26s\n",
      "epoch 65 | loss: 0.07476 | val_0_auc: 0.84806 |  0:01:27s\n",
      "epoch 66 | loss: 0.0731  | val_0_auc: 0.84932 |  0:01:29s\n",
      "epoch 67 | loss: 0.07203 | val_0_auc: 0.83952 |  0:01:30s\n",
      "epoch 68 | loss: 0.08083 | val_0_auc: 0.85589 |  0:01:31s\n",
      "epoch 69 | loss: 0.07865 | val_0_auc: 0.86826 |  0:01:33s\n",
      "epoch 70 | loss: 0.07078 | val_0_auc: 0.86908 |  0:01:34s\n",
      "epoch 71 | loss: 0.06977 | val_0_auc: 0.87401 |  0:01:35s\n",
      "epoch 72 | loss: 0.07918 | val_0_auc: 0.87342 |  0:01:37s\n",
      "epoch 73 | loss: 0.08285 | val_0_auc: 0.8659  |  0:01:38s\n",
      "epoch 74 | loss: 0.0817  | val_0_auc: 0.85151 |  0:01:39s\n",
      "epoch 75 | loss: 0.07499 | val_0_auc: 0.85356 |  0:01:41s\n",
      "epoch 76 | loss: 0.08242 | val_0_auc: 0.85143 |  0:01:42s\n",
      "epoch 77 | loss: 0.08125 | val_0_auc: 0.85846 |  0:01:43s\n",
      "epoch 78 | loss: 0.08483 | val_0_auc: 0.86145 |  0:01:44s\n",
      "epoch 79 | loss: 0.06786 | val_0_auc: 0.85883 |  0:01:46s\n",
      "epoch 80 | loss: 0.06411 | val_0_auc: 0.87043 |  0:01:47s\n",
      "epoch 81 | loss: 0.06792 | val_0_auc: 0.86676 |  0:01:48s\n",
      "epoch 82 | loss: 0.05977 | val_0_auc: 0.86821 |  0:01:49s\n",
      "epoch 83 | loss: 0.06258 | val_0_auc: 0.86247 |  0:01:50s\n",
      "epoch 84 | loss: 0.06515 | val_0_auc: 0.87309 |  0:01:52s\n",
      "epoch 85 | loss: 0.06483 | val_0_auc: 0.87867 |  0:01:53s\n",
      "epoch 86 | loss: 0.06272 | val_0_auc: 0.8744  |  0:01:55s\n",
      "epoch 87 | loss: 0.06154 | val_0_auc: 0.8675  |  0:01:56s\n",
      "epoch 88 | loss: 0.05549 | val_0_auc: 0.85882 |  0:01:57s\n",
      "epoch 89 | loss: 0.06656 | val_0_auc: 0.85612 |  0:01:58s\n",
      "epoch 90 | loss: 0.05273 | val_0_auc: 0.82248 |  0:02:00s\n",
      "epoch 91 | loss: 0.05988 | val_0_auc: 0.83639 |  0:02:01s\n",
      "epoch 92 | loss: 0.05903 | val_0_auc: 0.86083 |  0:02:03s\n",
      "\n",
      "Early stopping occurred at epoch 92 with best_epoch = 62 and best_val_0_auc = 0.8802\n",
      "Best weights from best epoch are automatically used!\n"
     ]
    }
   ],
   "source": [
    "# model4\n",
    "clf4 = TabNetClassifier(seed=0)\n",
    "clf4.fit(\n",
    "    X_train4, y_train4,\n",
    "    eval_set=[(X_test4, y_test4)],\n",
    "    patience=30,max_epochs=500,\n",
    "    eval_metric=['auc']\n",
    ")"
   ]
  },
  {
   "cell_type": "code",
   "execution_count": 248,
   "id": "f63829cb",
   "metadata": {},
   "outputs": [
    {
     "name": "stdout",
     "output_type": "stream",
     "text": [
      "Device used : cpu\n",
      "epoch 0  | loss: 0.72059 | val_0_auc: 0.40314 |  0:00:01s\n",
      "epoch 1  | loss: 0.61569 | val_0_auc: 0.45831 |  0:00:02s\n",
      "epoch 2  | loss: 0.56501 | val_0_auc: 0.51568 |  0:00:03s\n",
      "epoch 3  | loss: 0.51023 | val_0_auc: 0.44621 |  0:00:05s\n",
      "epoch 4  | loss: 0.46149 | val_0_auc: 0.52746 |  0:00:06s\n",
      "epoch 5  | loss: 0.41446 | val_0_auc: 0.54035 |  0:00:07s\n",
      "epoch 6  | loss: 0.38268 | val_0_auc: 0.58474 |  0:00:08s\n",
      "epoch 7  | loss: 0.33303 | val_0_auc: 0.56645 |  0:00:10s\n",
      "epoch 8  | loss: 0.31767 | val_0_auc: 0.61511 |  0:00:11s\n",
      "epoch 9  | loss: 0.29137 | val_0_auc: 0.61187 |  0:00:13s\n",
      "epoch 10 | loss: 0.27776 | val_0_auc: 0.62776 |  0:00:14s\n",
      "epoch 11 | loss: 0.26082 | val_0_auc: 0.59997 |  0:00:16s\n",
      "epoch 12 | loss: 0.23349 | val_0_auc: 0.56212 |  0:00:17s\n",
      "epoch 13 | loss: 0.2304  | val_0_auc: 0.58297 |  0:00:18s\n",
      "epoch 14 | loss: 0.21381 | val_0_auc: 0.60199 |  0:00:20s\n",
      "epoch 15 | loss: 0.21215 | val_0_auc: 0.57054 |  0:00:21s\n",
      "epoch 16 | loss: 0.20077 | val_0_auc: 0.57552 |  0:00:23s\n",
      "epoch 17 | loss: 0.18659 | val_0_auc: 0.60728 |  0:00:24s\n",
      "epoch 18 | loss: 0.17711 | val_0_auc: 0.58171 |  0:00:26s\n",
      "epoch 19 | loss: 0.1795  | val_0_auc: 0.60518 |  0:00:27s\n",
      "epoch 20 | loss: 0.1822  | val_0_auc: 0.69492 |  0:00:28s\n",
      "epoch 21 | loss: 0.17505 | val_0_auc: 0.70596 |  0:00:30s\n",
      "epoch 22 | loss: 0.18607 | val_0_auc: 0.63753 |  0:00:31s\n",
      "epoch 23 | loss: 0.18834 | val_0_auc: 0.59673 |  0:00:32s\n",
      "epoch 24 | loss: 0.17256 | val_0_auc: 0.61232 |  0:00:34s\n",
      "epoch 25 | loss: 0.17441 | val_0_auc: 0.63437 |  0:00:35s\n",
      "epoch 26 | loss: 0.1566  | val_0_auc: 0.63995 |  0:00:36s\n",
      "epoch 27 | loss: 0.14847 | val_0_auc: 0.62232 |  0:00:38s\n",
      "epoch 28 | loss: 0.13856 | val_0_auc: 0.62025 |  0:00:39s\n",
      "epoch 29 | loss: 0.14252 | val_0_auc: 0.65509 |  0:00:40s\n",
      "epoch 30 | loss: 0.13025 | val_0_auc: 0.63419 |  0:00:41s\n",
      "epoch 31 | loss: 0.12791 | val_0_auc: 0.6328  |  0:00:43s\n",
      "epoch 32 | loss: 0.12586 | val_0_auc: 0.6694  |  0:00:44s\n",
      "epoch 33 | loss: 0.11062 | val_0_auc: 0.68721 |  0:00:45s\n",
      "epoch 34 | loss: 0.11745 | val_0_auc: 0.70415 |  0:00:47s\n",
      "epoch 35 | loss: 0.10968 | val_0_auc: 0.71388 |  0:00:48s\n",
      "epoch 36 | loss: 0.11436 | val_0_auc: 0.70295 |  0:00:49s\n",
      "epoch 37 | loss: 0.1163  | val_0_auc: 0.72986 |  0:00:51s\n",
      "epoch 38 | loss: 0.11213 | val_0_auc: 0.7178  |  0:00:52s\n",
      "epoch 39 | loss: 0.10942 | val_0_auc: 0.68116 |  0:00:53s\n",
      "epoch 40 | loss: 0.10928 | val_0_auc: 0.68734 |  0:00:55s\n",
      "epoch 41 | loss: 0.10703 | val_0_auc: 0.71436 |  0:00:56s\n",
      "epoch 42 | loss: 0.10157 | val_0_auc: 0.69882 |  0:00:57s\n",
      "epoch 43 | loss: 0.10397 | val_0_auc: 0.72016 |  0:00:59s\n",
      "epoch 44 | loss: 0.10342 | val_0_auc: 0.72664 |  0:01:00s\n",
      "epoch 45 | loss: 0.09357 | val_0_auc: 0.73499 |  0:01:02s\n",
      "epoch 46 | loss: 0.09271 | val_0_auc: 0.74621 |  0:01:03s\n",
      "epoch 47 | loss: 0.09335 | val_0_auc: 0.76047 |  0:01:05s\n",
      "epoch 48 | loss: 0.0908  | val_0_auc: 0.76383 |  0:01:06s\n",
      "epoch 49 | loss: 0.0927  | val_0_auc: 0.79956 |  0:01:08s\n",
      "epoch 50 | loss: 0.09603 | val_0_auc: 0.7931  |  0:01:09s\n",
      "epoch 51 | loss: 0.11638 | val_0_auc: 0.77917 |  0:01:10s\n",
      "epoch 52 | loss: 0.10461 | val_0_auc: 0.79823 |  0:01:12s\n",
      "epoch 53 | loss: 0.10844 | val_0_auc: 0.81387 |  0:01:13s\n",
      "epoch 54 | loss: 0.10436 | val_0_auc: 0.81854 |  0:01:14s\n",
      "epoch 55 | loss: 0.09661 | val_0_auc: 0.82994 |  0:01:16s\n",
      "epoch 56 | loss: 0.09872 | val_0_auc: 0.82461 |  0:01:17s\n",
      "epoch 57 | loss: 0.11182 | val_0_auc: 0.82049 |  0:01:18s\n",
      "epoch 58 | loss: 0.11517 | val_0_auc: 0.80881 |  0:01:20s\n",
      "epoch 59 | loss: 0.11583 | val_0_auc: 0.83222 |  0:01:21s\n",
      "epoch 60 | loss: 0.10435 | val_0_auc: 0.84836 |  0:01:22s\n",
      "epoch 61 | loss: 0.12492 | val_0_auc: 0.85282 |  0:01:24s\n",
      "epoch 62 | loss: 0.11262 | val_0_auc: 0.86873 |  0:01:25s\n",
      "epoch 63 | loss: 0.10568 | val_0_auc: 0.87482 |  0:01:26s\n",
      "epoch 64 | loss: 0.09609 | val_0_auc: 0.87675 |  0:01:28s\n",
      "epoch 65 | loss: 0.09326 | val_0_auc: 0.88301 |  0:01:29s\n",
      "epoch 66 | loss: 0.09174 | val_0_auc: 0.84734 |  0:01:30s\n",
      "epoch 67 | loss: 0.081   | val_0_auc: 0.84628 |  0:01:32s\n",
      "epoch 68 | loss: 0.07754 | val_0_auc: 0.86613 |  0:01:33s\n",
      "epoch 69 | loss: 0.08243 | val_0_auc: 0.87006 |  0:01:34s\n",
      "epoch 70 | loss: 0.08587 | val_0_auc: 0.85885 |  0:01:36s\n",
      "epoch 71 | loss: 0.07978 | val_0_auc: 0.86647 |  0:01:37s\n",
      "epoch 72 | loss: 0.08102 | val_0_auc: 0.87481 |  0:01:38s\n",
      "epoch 73 | loss: 0.07027 | val_0_auc: 0.88355 |  0:01:40s\n",
      "epoch 74 | loss: 0.07715 | val_0_auc: 0.89293 |  0:01:41s\n",
      "epoch 75 | loss: 0.07274 | val_0_auc: 0.89395 |  0:01:42s\n",
      "epoch 76 | loss: 0.07819 | val_0_auc: 0.88054 |  0:01:44s\n",
      "epoch 77 | loss: 0.07338 | val_0_auc: 0.88942 |  0:01:45s\n",
      "epoch 78 | loss: 0.07743 | val_0_auc: 0.88871 |  0:01:46s\n",
      "epoch 79 | loss: 0.07823 | val_0_auc: 0.89924 |  0:01:48s\n",
      "epoch 80 | loss: 0.07286 | val_0_auc: 0.89386 |  0:01:49s\n",
      "epoch 81 | loss: 0.07104 | val_0_auc: 0.89466 |  0:01:50s\n",
      "epoch 82 | loss: 0.067   | val_0_auc: 0.88214 |  0:01:52s\n",
      "epoch 83 | loss: 0.06393 | val_0_auc: 0.88088 |  0:01:53s\n",
      "epoch 84 | loss: 0.06666 | val_0_auc: 0.89726 |  0:01:54s\n",
      "epoch 85 | loss: 0.06193 | val_0_auc: 0.89765 |  0:01:56s\n",
      "epoch 86 | loss: 0.06549 | val_0_auc: 0.88167 |  0:01:57s\n",
      "epoch 87 | loss: 0.05345 | val_0_auc: 0.88775 |  0:01:58s\n",
      "epoch 88 | loss: 0.05579 | val_0_auc: 0.8828  |  0:02:00s\n",
      "epoch 89 | loss: 0.05098 | val_0_auc: 0.88026 |  0:02:01s\n",
      "epoch 90 | loss: 0.06018 | val_0_auc: 0.87964 |  0:02:03s\n",
      "epoch 91 | loss: 0.0632  | val_0_auc: 0.88157 |  0:02:04s\n",
      "epoch 92 | loss: 0.05807 | val_0_auc: 0.86735 |  0:02:05s\n",
      "epoch 93 | loss: 0.06595 | val_0_auc: 0.87545 |  0:02:07s\n",
      "epoch 94 | loss: 0.06312 | val_0_auc: 0.87741 |  0:02:08s\n",
      "epoch 95 | loss: 0.05695 | val_0_auc: 0.8728  |  0:02:09s\n",
      "epoch 96 | loss: 0.05477 | val_0_auc: 0.86879 |  0:02:11s\n",
      "epoch 97 | loss: 0.06985 | val_0_auc: 0.8632  |  0:02:12s\n",
      "epoch 98 | loss: 0.06505 | val_0_auc: 0.87548 |  0:02:13s\n",
      "epoch 99 | loss: 0.05759 | val_0_auc: 0.87218 |  0:02:15s\n",
      "epoch 100| loss: 0.05502 | val_0_auc: 0.86394 |  0:02:16s\n",
      "epoch 101| loss: 0.06024 | val_0_auc: 0.85671 |  0:02:17s\n",
      "epoch 102| loss: 0.0523  | val_0_auc: 0.86544 |  0:02:18s\n",
      "epoch 103| loss: 0.04823 | val_0_auc: 0.84865 |  0:02:20s\n",
      "epoch 104| loss: 0.04693 | val_0_auc: 0.83593 |  0:02:21s\n",
      "epoch 105| loss: 0.04245 | val_0_auc: 0.85512 |  0:02:22s\n",
      "epoch 106| loss: 0.0417  | val_0_auc: 0.84925 |  0:02:24s\n",
      "epoch 107| loss: 0.04151 | val_0_auc: 0.84761 |  0:02:25s\n",
      "epoch 108| loss: 0.03658 | val_0_auc: 0.84894 |  0:02:26s\n",
      "epoch 109| loss: 0.03496 | val_0_auc: 0.84658 |  0:02:28s\n",
      "\n",
      "Early stopping occurred at epoch 109 with best_epoch = 79 and best_val_0_auc = 0.89924\n",
      "Best weights from best epoch are automatically used!\n"
     ]
    }
   ],
   "source": [
    "# model5\n",
    "clf5 = TabNetClassifier(seed=0)\n",
    "clf5.fit(\n",
    "    X_train5, y_train5,\n",
    "    eval_set=[(X_test5, y_test5)],\n",
    "    patience=30,max_epochs=500,\n",
    "    eval_metric=['auc']\n",
    ")"
   ]
  },
  {
   "cell_type": "code",
   "execution_count": 249,
   "id": "6fb180e5",
   "metadata": {},
   "outputs": [
    {
     "name": "stdout",
     "output_type": "stream",
     "text": [
      "Device used : cpu\n",
      "epoch 0  | loss: 0.69511 | val_0_auc: 0.51846 |  0:00:01s\n",
      "epoch 1  | loss: 0.63529 | val_0_auc: 0.46269 |  0:00:02s\n",
      "epoch 2  | loss: 0.60761 | val_0_auc: 0.37246 |  0:00:04s\n",
      "epoch 3  | loss: 0.56871 | val_0_auc: 0.49427 |  0:00:05s\n",
      "epoch 4  | loss: 0.53674 | val_0_auc: 0.58188 |  0:00:06s\n",
      "epoch 5  | loss: 0.48777 | val_0_auc: 0.5407  |  0:00:08s\n",
      "epoch 6  | loss: 0.42885 | val_0_auc: 0.46791 |  0:00:09s\n",
      "epoch 7  | loss: 0.40201 | val_0_auc: 0.55265 |  0:00:10s\n",
      "epoch 8  | loss: 0.39611 | val_0_auc: 0.59279 |  0:00:12s\n",
      "epoch 9  | loss: 0.35669 | val_0_auc: 0.53878 |  0:00:13s\n",
      "epoch 10 | loss: 0.3526  | val_0_auc: 0.47419 |  0:00:14s\n",
      "epoch 11 | loss: 0.33808 | val_0_auc: 0.48044 |  0:00:16s\n",
      "epoch 12 | loss: 0.31225 | val_0_auc: 0.45906 |  0:00:17s\n",
      "epoch 13 | loss: 0.30008 | val_0_auc: 0.47227 |  0:00:18s\n",
      "epoch 14 | loss: 0.29154 | val_0_auc: 0.50101 |  0:00:20s\n",
      "epoch 15 | loss: 0.28275 | val_0_auc: 0.49276 |  0:00:22s\n",
      "epoch 16 | loss: 0.27549 | val_0_auc: 0.5369  |  0:00:23s\n",
      "epoch 17 | loss: 0.25886 | val_0_auc: 0.58007 |  0:00:25s\n",
      "epoch 18 | loss: 0.24587 | val_0_auc: 0.5768  |  0:00:26s\n",
      "epoch 19 | loss: 0.24205 | val_0_auc: 0.57084 |  0:00:27s\n",
      "epoch 20 | loss: 0.22912 | val_0_auc: 0.56265 |  0:00:29s\n",
      "epoch 21 | loss: 0.22369 | val_0_auc: 0.56917 |  0:00:30s\n",
      "epoch 22 | loss: 0.23928 | val_0_auc: 0.57575 |  0:00:31s\n",
      "epoch 23 | loss: 0.23081 | val_0_auc: 0.61579 |  0:00:32s\n",
      "epoch 24 | loss: 0.21667 | val_0_auc: 0.6082  |  0:00:34s\n",
      "epoch 25 | loss: 0.23338 | val_0_auc: 0.56851 |  0:00:35s\n",
      "epoch 26 | loss: 0.217   | val_0_auc: 0.56978 |  0:00:36s\n",
      "epoch 27 | loss: 0.21319 | val_0_auc: 0.59903 |  0:00:38s\n",
      "epoch 28 | loss: 0.20397 | val_0_auc: 0.60465 |  0:00:39s\n",
      "epoch 29 | loss: 0.2041  | val_0_auc: 0.59094 |  0:00:40s\n",
      "epoch 30 | loss: 0.1881  | val_0_auc: 0.60585 |  0:00:42s\n",
      "epoch 31 | loss: 0.18176 | val_0_auc: 0.75379 |  0:00:43s\n",
      "epoch 32 | loss: 0.18416 | val_0_auc: 0.75406 |  0:00:44s\n",
      "epoch 33 | loss: 0.16611 | val_0_auc: 0.76438 |  0:00:45s\n",
      "epoch 34 | loss: 0.15945 | val_0_auc: 0.72353 |  0:00:47s\n",
      "epoch 35 | loss: 0.16352 | val_0_auc: 0.72505 |  0:00:48s\n",
      "epoch 36 | loss: 0.15127 | val_0_auc: 0.74525 |  0:00:49s\n",
      "epoch 37 | loss: 0.15256 | val_0_auc: 0.76292 |  0:00:51s\n",
      "epoch 38 | loss: 0.15431 | val_0_auc: 0.77043 |  0:00:52s\n",
      "epoch 39 | loss: 0.16049 | val_0_auc: 0.7544  |  0:00:53s\n",
      "epoch 40 | loss: 0.1749  | val_0_auc: 0.75909 |  0:00:54s\n",
      "epoch 41 | loss: 0.16545 | val_0_auc: 0.77984 |  0:00:56s\n",
      "epoch 42 | loss: 0.16506 | val_0_auc: 0.7857  |  0:00:57s\n",
      "epoch 43 | loss: 0.17084 | val_0_auc: 0.81615 |  0:00:58s\n",
      "epoch 44 | loss: 0.14931 | val_0_auc: 0.81729 |  0:00:59s\n",
      "epoch 45 | loss: 0.15206 | val_0_auc: 0.83078 |  0:01:01s\n",
      "epoch 46 | loss: 0.14448 | val_0_auc: 0.85411 |  0:01:02s\n",
      "epoch 47 | loss: 0.14036 | val_0_auc: 0.8579  |  0:01:03s\n",
      "epoch 48 | loss: 0.13928 | val_0_auc: 0.8597  |  0:01:04s\n",
      "epoch 49 | loss: 0.13339 | val_0_auc: 0.87788 |  0:01:06s\n",
      "epoch 50 | loss: 0.12741 | val_0_auc: 0.87476 |  0:01:07s\n",
      "epoch 51 | loss: 0.11976 | val_0_auc: 0.87468 |  0:01:08s\n",
      "epoch 52 | loss: 0.11507 | val_0_auc: 0.87786 |  0:01:10s\n",
      "epoch 53 | loss: 0.12473 | val_0_auc: 0.86453 |  0:01:11s\n",
      "epoch 54 | loss: 0.12702 | val_0_auc: 0.8704  |  0:01:13s\n",
      "epoch 55 | loss: 0.11716 | val_0_auc: 0.86472 |  0:01:14s\n",
      "epoch 56 | loss: 0.1104  | val_0_auc: 0.86396 |  0:01:16s\n",
      "epoch 57 | loss: 0.10675 | val_0_auc: 0.86094 |  0:01:18s\n",
      "epoch 58 | loss: 0.09991 | val_0_auc: 0.87772 |  0:01:20s\n",
      "epoch 59 | loss: 0.09365 | val_0_auc: 0.8866  |  0:01:21s\n",
      "epoch 60 | loss: 0.08746 | val_0_auc: 0.86378 |  0:01:23s\n",
      "epoch 61 | loss: 0.08848 | val_0_auc: 0.87092 |  0:01:24s\n",
      "epoch 62 | loss: 0.08513 | val_0_auc: 0.85822 |  0:01:26s\n",
      "epoch 63 | loss: 0.09325 | val_0_auc: 0.86244 |  0:01:27s\n",
      "epoch 64 | loss: 0.08787 | val_0_auc: 0.86918 |  0:01:28s\n",
      "epoch 65 | loss: 0.09321 | val_0_auc: 0.88358 |  0:01:30s\n",
      "epoch 66 | loss: 0.10028 | val_0_auc: 0.8836  |  0:01:31s\n",
      "epoch 67 | loss: 0.11637 | val_0_auc: 0.88616 |  0:01:33s\n",
      "epoch 68 | loss: 0.12867 | val_0_auc: 0.87869 |  0:01:34s\n",
      "epoch 69 | loss: 0.11681 | val_0_auc: 0.88038 |  0:01:35s\n",
      "epoch 70 | loss: 0.11613 | val_0_auc: 0.89987 |  0:01:37s\n",
      "epoch 71 | loss: 0.1156  | val_0_auc: 0.90527 |  0:01:38s\n",
      "epoch 72 | loss: 0.09474 | val_0_auc: 0.91147 |  0:01:39s\n",
      "epoch 73 | loss: 0.09291 | val_0_auc: 0.91143 |  0:01:40s\n",
      "epoch 74 | loss: 0.08484 | val_0_auc: 0.90719 |  0:01:42s\n",
      "epoch 75 | loss: 0.07822 | val_0_auc: 0.89888 |  0:01:43s\n",
      "epoch 76 | loss: 0.08832 | val_0_auc: 0.90399 |  0:01:44s\n",
      "epoch 77 | loss: 0.08478 | val_0_auc: 0.88295 |  0:01:46s\n",
      "epoch 78 | loss: 0.09554 | val_0_auc: 0.88145 |  0:01:47s\n",
      "epoch 79 | loss: 0.08705 | val_0_auc: 0.88764 |  0:01:48s\n",
      "epoch 80 | loss: 0.08787 | val_0_auc: 0.86954 |  0:01:49s\n",
      "epoch 81 | loss: 0.07998 | val_0_auc: 0.87524 |  0:01:51s\n",
      "epoch 82 | loss: 0.07561 | val_0_auc: 0.88492 |  0:01:52s\n",
      "epoch 83 | loss: 0.07013 | val_0_auc: 0.88859 |  0:01:53s\n",
      "epoch 84 | loss: 0.0756  | val_0_auc: 0.8761  |  0:01:55s\n",
      "epoch 85 | loss: 0.06896 | val_0_auc: 0.88628 |  0:01:56s\n",
      "epoch 86 | loss: 0.07346 | val_0_auc: 0.87257 |  0:01:57s\n",
      "epoch 87 | loss: 0.06387 | val_0_auc: 0.88042 |  0:01:59s\n",
      "epoch 88 | loss: 0.06839 | val_0_auc: 0.8821  |  0:02:00s\n",
      "epoch 89 | loss: 0.07293 | val_0_auc: 0.88746 |  0:02:01s\n",
      "epoch 90 | loss: 0.06664 | val_0_auc: 0.88642 |  0:02:03s\n",
      "epoch 91 | loss: 0.0652  | val_0_auc: 0.89007 |  0:02:04s\n",
      "epoch 92 | loss: 0.06003 | val_0_auc: 0.89348 |  0:02:06s\n",
      "epoch 93 | loss: 0.06389 | val_0_auc: 0.8964  |  0:02:07s\n",
      "epoch 94 | loss: 0.05696 | val_0_auc: 0.89058 |  0:02:08s\n",
      "epoch 95 | loss: 0.05254 | val_0_auc: 0.89476 |  0:02:10s\n",
      "epoch 96 | loss: 0.05946 | val_0_auc: 0.8881  |  0:02:11s\n",
      "epoch 97 | loss: 0.07498 | val_0_auc: 0.89131 |  0:02:12s\n",
      "epoch 98 | loss: 0.05613 | val_0_auc: 0.87547 |  0:02:13s\n",
      "epoch 99 | loss: 0.06413 | val_0_auc: 0.88247 |  0:02:15s\n",
      "epoch 100| loss: 0.07395 | val_0_auc: 0.89366 |  0:02:16s\n",
      "epoch 101| loss: 0.06625 | val_0_auc: 0.88216 |  0:02:18s\n",
      "epoch 102| loss: 0.05924 | val_0_auc: 0.87839 |  0:02:19s\n",
      "\n",
      "Early stopping occurred at epoch 102 with best_epoch = 72 and best_val_0_auc = 0.91147\n",
      "Best weights from best epoch are automatically used!\n"
     ]
    }
   ],
   "source": [
    "# model6\n",
    "clf6 = TabNetClassifier(seed=0)\n",
    "clf6.fit(\n",
    "    X_train6, y_train6,\n",
    "    eval_set=[(X_test6, y_test6)],\n",
    "    patience=30,max_epochs=500,\n",
    "    eval_metric=['auc']\n",
    ")"
   ]
  },
  {
   "cell_type": "code",
   "execution_count": 250,
   "id": "d727fa6a",
   "metadata": {},
   "outputs": [],
   "source": [
    "test_1 = np.array(test_1)"
   ]
  },
  {
   "cell_type": "code",
   "execution_count": 251,
   "id": "8b565792",
   "metadata": {},
   "outputs": [],
   "source": [
    "predictions1 = clf1.predict_proba(test_1)[:,1]"
   ]
  },
  {
   "cell_type": "code",
   "execution_count": 252,
   "id": "ad38ac83",
   "metadata": {},
   "outputs": [],
   "source": [
    "predictions2 = clf2.predict_proba(test_1)[:,1]"
   ]
  },
  {
   "cell_type": "code",
   "execution_count": 253,
   "id": "848a460a",
   "metadata": {},
   "outputs": [],
   "source": [
    "predictions3 = clf3.predict_proba(test_1)[:,1]"
   ]
  },
  {
   "cell_type": "code",
   "execution_count": 254,
   "id": "810a888c",
   "metadata": {},
   "outputs": [],
   "source": [
    "predictions4 = clf4.predict_proba(test_1)[:,1]"
   ]
  },
  {
   "cell_type": "code",
   "execution_count": 255,
   "id": "94210540",
   "metadata": {},
   "outputs": [],
   "source": [
    "predictions5 = clf5.predict_proba(test_1)[:,1]"
   ]
  },
  {
   "cell_type": "code",
   "execution_count": 256,
   "id": "69afd65d",
   "metadata": {},
   "outputs": [],
   "source": [
    "predictions6 = clf6.predict_proba(test_1)[:,1]"
   ]
  },
  {
   "cell_type": "code",
   "execution_count": 257,
   "id": "c9148bde",
   "metadata": {},
   "outputs": [],
   "source": [
    "preds1 = [ 1 if x > 0.5 else 0 for x in predictions1 ]"
   ]
  },
  {
   "cell_type": "code",
   "execution_count": 258,
   "id": "f8db1441",
   "metadata": {},
   "outputs": [],
   "source": [
    "preds2 = [ 1 if x > 0.78 else 0 for x in predictions2 ]"
   ]
  },
  {
   "cell_type": "code",
   "execution_count": 259,
   "id": "b23f3ccc",
   "metadata": {},
   "outputs": [],
   "source": [
    "preds3 = [ 1 if x > 0.51 else 0 for x in predictions3 ]"
   ]
  },
  {
   "cell_type": "code",
   "execution_count": 260,
   "id": "40c0b868",
   "metadata": {},
   "outputs": [],
   "source": [
    "preds4 = [ 1 if x > 0.514 else 0 for x in predictions4 ]"
   ]
  },
  {
   "cell_type": "code",
   "execution_count": 261,
   "id": "e21c8151",
   "metadata": {},
   "outputs": [],
   "source": [
    "preds5 = [ 1 if x > 0.5 else 0 for x in predictions5 ]"
   ]
  },
  {
   "cell_type": "code",
   "execution_count": 262,
   "id": "36cabfa0",
   "metadata": {},
   "outputs": [],
   "source": [
    "preds6 = [ 1 if x > 0.5 else 0 for x in predictions6 ]"
   ]
  },
  {
   "cell_type": "code",
   "execution_count": 263,
   "id": "efc5ae3b",
   "metadata": {},
   "outputs": [],
   "source": [
    "tab_pred1=pd.DataFrame(preds1, columns= ['col1'])\n",
    "tab_pred2=pd.DataFrame(preds2, columns= ['col2'])\n",
    "tab_pred3=pd.DataFrame(preds3, columns= ['col3'])\n",
    "tab_pred4=pd.DataFrame(preds4, columns= ['col4'])\n",
    "tab_pred5=pd.DataFrame(preds5, columns= ['col5'])\n",
    "tab_pred6=pd.DataFrame(preds6, columns= ['col6'])"
   ]
  },
  {
   "cell_type": "code",
   "execution_count": 264,
   "id": "9a7ed65b",
   "metadata": {},
   "outputs": [
    {
     "data": {
      "text/plain": [
       "0    3164\n",
       "1     246\n",
       "Name: col1, dtype: int64"
      ]
     },
     "execution_count": 264,
     "metadata": {},
     "output_type": "execute_result"
    }
   ],
   "source": [
    "tab_pred1['col1'].value_counts()"
   ]
  },
  {
   "cell_type": "code",
   "execution_count": 265,
   "id": "456de420",
   "metadata": {},
   "outputs": [
    {
     "data": {
      "text/plain": [
       "0    3125\n",
       "1     285\n",
       "Name: col2, dtype: int64"
      ]
     },
     "execution_count": 265,
     "metadata": {},
     "output_type": "execute_result"
    }
   ],
   "source": [
    "tab_pred2['col2'].value_counts()"
   ]
  },
  {
   "cell_type": "code",
   "execution_count": 266,
   "id": "7c557f1b",
   "metadata": {},
   "outputs": [
    {
     "data": {
      "text/plain": [
       "0    3214\n",
       "1     196\n",
       "Name: col3, dtype: int64"
      ]
     },
     "execution_count": 266,
     "metadata": {},
     "output_type": "execute_result"
    }
   ],
   "source": [
    "tab_pred3['col3'].value_counts()"
   ]
  },
  {
   "cell_type": "code",
   "execution_count": 267,
   "id": "e050e701",
   "metadata": {},
   "outputs": [
    {
     "data": {
      "text/plain": [
       "0    3106\n",
       "1     304\n",
       "Name: col4, dtype: int64"
      ]
     },
     "execution_count": 267,
     "metadata": {},
     "output_type": "execute_result"
    }
   ],
   "source": [
    "tab_pred4['col4'].value_counts()"
   ]
  },
  {
   "cell_type": "code",
   "execution_count": 268,
   "id": "60096e72",
   "metadata": {},
   "outputs": [
    {
     "data": {
      "text/plain": [
       "0    3264\n",
       "1     146\n",
       "Name: col5, dtype: int64"
      ]
     },
     "execution_count": 268,
     "metadata": {},
     "output_type": "execute_result"
    }
   ],
   "source": [
    "tab_pred5['col5'].value_counts()"
   ]
  },
  {
   "cell_type": "code",
   "execution_count": 269,
   "id": "d0a1ecf1",
   "metadata": {},
   "outputs": [
    {
     "data": {
      "text/plain": [
       "0    3287\n",
       "1     123\n",
       "Name: col6, dtype: int64"
      ]
     },
     "execution_count": 269,
     "metadata": {},
     "output_type": "execute_result"
    }
   ],
   "source": [
    "tab_pred6['col6'].value_counts()"
   ]
  },
  {
   "cell_type": "code",
   "execution_count": 270,
   "id": "fde8904d",
   "metadata": {},
   "outputs": [],
   "source": [
    "tab_pred=tab_pred1.join(tab_pred2, how= 'inner')\n",
    "tab_pred=tab_pred.join(tab_pred3, how= 'inner')\n",
    "tab_pred=tab_pred.join(tab_pred4, how= 'inner')\n",
    "tab_pred=tab_pred.join(tab_pred5, how= 'inner')\n",
    "tab_pred=tab_pred.join(tab_pred6, how= 'inner')\n",
    "tab_pred['sum']=(1.1*tab_pred['col1'])+(0.9*tab_pred['col2'])+(0.9*tab_pred['col3'])+(0.9*tab_pred['col4'])+(0.9*tab_pred['col5'])+(0.9*tab_pred['col6'])"
   ]
  },
  {
   "cell_type": "code",
   "execution_count": 271,
   "id": "3eba1af1",
   "metadata": {},
   "outputs": [],
   "source": [
    "tab_pred['2day_yn'] = np.where((tab_pred['sum']>=2), 1,0)"
   ]
  },
  {
   "cell_type": "code",
   "execution_count": 272,
   "id": "e8cf5a4b",
   "metadata": {},
   "outputs": [
    {
     "data": {
      "text/plain": [
       "0    3247\n",
       "1     163\n",
       "Name: 2day_yn, dtype: int64"
      ]
     },
     "execution_count": 272,
     "metadata": {},
     "output_type": "execute_result"
    }
   ],
   "source": [
    "tab_pred['2day_yn'].value_counts()"
   ]
  },
  {
   "cell_type": "code",
   "execution_count": 273,
   "id": "2ec5b48e",
   "metadata": {},
   "outputs": [],
   "source": [
    "sub_2=test_id_1.join(tab_pred, how= 'inner')"
   ]
  },
  {
   "cell_type": "code",
   "execution_count": 274,
   "id": "1c7d2682",
   "metadata": {
    "scrolled": true
   },
   "outputs": [
    {
     "data": {
      "image/png": "[encoded data removed]",
      "text/plain": [
       "<Figure size 576x432 with 1 Axes>"
      ]
     },
     "metadata": {
      "needs_background": "light"
     },
     "output_type": "display_data"
    }
   ],
   "source": [
    "import matplotlib.pyplot as plt\n",
    "import seaborn as sns\n",
    "%matplotlib inline\n",
    "\n",
    "ftr_importance_values = clf1.feature_importances_\n",
    "importance = pd.Series(ftr_importance_values, index=X_resampled1.columns)\n",
    "top20=importance.sort_values(ascending=False)[:20]\n",
    "\n",
    "plt.figure(figsize=(8, 6))\n",
    "sns.barplot(x=top20, y = top20.index)\n",
    "plt.show()"
   ]
  },
  {
   "cell_type": "code",
   "execution_count": 275,
   "id": "97065654",
   "metadata": {},
   "outputs": [
    {
     "data": {
      "image/png": "[encoded data removed]",
      "text/plain": [
       "<Figure size 576x432 with 1 Axes>"
      ]
     },
     "metadata": {
      "needs_background": "light"
     },
     "output_type": "display_data"
    }
   ],
   "source": [
    "ftr_importance_values = clf2.feature_importances_\n",
    "importance = pd.Series(ftr_importance_values, index=X_resampled2.columns)\n",
    "top20=importance.sort_values(ascending=False)[:20]\n",
    "\n",
    "plt.figure(figsize=(8, 6))\n",
    "sns.barplot(x=top20, y = top20.index)\n",
    "plt.show()"
   ]
  },
  {
   "cell_type": "code",
   "execution_count": 276,
   "id": "d21bb742",
   "metadata": {},
   "outputs": [
    {
     "data": {
      "image/png": "[encoded data removed]",
      "text/plain": [
       "<Figure size 576x432 with 1 Axes>"
      ]
     },
     "metadata": {
      "needs_background": "light"
     },
     "output_type": "display_data"
    }
   ],
   "source": [
    "ftr_importance_values = clf3.feature_importances_\n",
    "importance = pd.Series(ftr_importance_values, index=X_resampled3.columns)\n",
    "top20=importance.sort_values(ascending=False)[:20]\n",
    "\n",
    "plt.figure(figsize=(8, 6))\n",
    "sns.barplot(x=top20, y = top20.index)\n",
    "plt.show()"
   ]
  },
  {
   "cell_type": "code",
   "execution_count": 278,
   "id": "c7dc04ab",
   "metadata": {},
   "outputs": [
    {
     "data": {
      "image/png": "[encoded data removed]",
      "text/plain": [
       "<Figure size 576x432 with 1 Axes>"
      ]
     },
     "metadata": {
      "needs_background": "light"
     },
     "output_type": "display_data"
    }
   ],
   "source": [
    "ftr_importance_values = clf4.feature_importances_\n",
    "importance = pd.Series(ftr_importance_values, index=X_resampled4.columns)\n",
    "top20=importance.sort_values(ascending=False)[:20]\n",
    "\n",
    "plt.figure(figsize=(8, 6))\n",
    "sns.barplot(x=top20, y = top20.index)\n",
    "plt.show()"
   ]
  },
  {
   "cell_type": "code",
   "execution_count": 279,
   "id": "87545f28",
   "metadata": {},
   "outputs": [
    {
     "data": {
      "image/png": "[encoded data removed]",
      "text/plain": [
       "<Figure size 576x432 with 1 Axes>"
      ]
     },
     "metadata": {
      "needs_background": "light"
     },
     "output_type": "display_data"
    }
   ],
   "source": [
    "ftr_importance_values = clf5.feature_importances_\n",
    "importance = pd.Series(ftr_importance_values, index=X_resampled5.columns)\n",
    "top20=importance.sort_values(ascending=False)[:20]\n",
    "\n",
    "plt.figure(figsize=(8, 6))\n",
    "sns.barplot(x=top20, y = top20.index)\n",
    "plt.show()"
   ]
  },
  {
   "cell_type": "code",
   "execution_count": 280,
   "id": "edd1c56b",
   "metadata": {},
   "outputs": [
    {
     "data": {
      "image/png": "[encoded data removed]",
      "text/plain": [
       "<Figure size 576x432 with 1 Axes>"
      ]
     },
     "metadata": {
      "needs_background": "light"
     },
     "output_type": "display_data"
    }
   ],
   "source": [
    "ftr_importance_values = clf6.feature_importances_\n",
    "importance = pd.Series(ftr_importance_values, index=X_resampled6.columns)\n",
    "top20=importance.sort_values(ascending=False)[:20]\n",
    "\n",
    "plt.figure(figsize=(8, 6))\n",
    "sns.barplot(x=top20, y = top20.index)\n",
    "plt.show()"
   ]
  },
  {
   "cell_type": "code",
   "execution_count": 277,
   "id": "55b1f124",
   "metadata": {},
   "outputs": [],
   "source": [
    "sub_2.to_csv('tab_102.csv', index=False, encoding='CP949')"
   ]
  },
  {
   "cell_type": "code",
   "execution_count": null,
   "id": "e799eaf4",
   "metadata": {},
   "outputs": [],
   "source": []
  }
 ],
 "metadata": {
  "kernelspec": {
   "display_name": "Python 3",
   "language": "python",
   "name": "python3"
  },
  "language_info": {
   "codemirror_mode": {
    "name": "ipython",
    "version": 3
   },
   "file_extension": ".py",
   "mimetype": "text/x-python",
   "name": "python",
   "nbconvert_exporter": "python",
   "pygments_lexer": "ipython3",
   "version": "3.8.8"
  }
 },
 "nbformat": 4,
 "nbformat_minor": 5
}
