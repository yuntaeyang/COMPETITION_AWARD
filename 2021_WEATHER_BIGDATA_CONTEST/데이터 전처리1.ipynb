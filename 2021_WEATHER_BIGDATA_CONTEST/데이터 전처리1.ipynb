{
 "cells": [
  {
   "cell_type": "markdown",
   "id": "a1df3a75",
   "metadata": {},
   "source": [
    "# 학습 데이터 "
   ]
  },
  {
   "cell_type": "code",
   "execution_count": 1,
   "id": "a43d3ab5",
   "metadata": {},
   "outputs": [],
   "source": [
    "import pandas as pd\n",
    "import numpy as np\n",
    "import geopandas as gpd\n",
    "import matplotlib.pyplot as plt"
   ]
  },
  {
   "cell_type": "code",
   "execution_count": 2,
   "id": "222264c8",
   "metadata": {},
   "outputs": [],
   "source": [
    "sst = pd.read_csv(r'C:\\Users\\stat_17\\Desktop\\weather\\sansatae.csv', encoding='CP949')"
   ]
  },
  {
   "cell_type": "code",
   "execution_count": 3,
   "id": "5a88efe1",
   "metadata": {},
   "outputs": [],
   "source": [
    "hjd=gpd.read_file(r'C:\\Users\\stat_17\\Desktop\\weather\\hanggung\\umd.shp',encoding='utf-8')"
   ]
  },
  {
   "cell_type": "code",
   "execution_count": 4,
   "id": "aeaf4843",
   "metadata": {},
   "outputs": [],
   "source": [
    "t_kn=gpd.read_file('C:/Users/stat_17/Desktop/weather/toyang/toyang_48_kn/TB_FGDI_FS_IJ5000_PG_48.shp',encoding='utf-8')"
   ]
  },
  {
   "cell_type": "code",
   "execution_count": 5,
   "id": "60c04734",
   "metadata": {},
   "outputs": [],
   "source": [
    "t_kb1=gpd.read_file('C:/Users/stat_17/Desktop/weather/toyang/toyang_47_kb/TB_FGDI_FS_IJ5000_PG_47_1.shp',encoding='utf-8')"
   ]
  },
  {
   "cell_type": "code",
   "execution_count": 6,
   "id": "5f758926",
   "metadata": {},
   "outputs": [],
   "source": [
    "t_kb2=gpd.read_file('C:/Users/stat_17/Desktop/weather/toyang/toyang_47_kb/TB_FGDI_FS_IJ5000_PG_47_2.shp',encoding='utf-8')"
   ]
  },
  {
   "cell_type": "code",
   "execution_count": 7,
   "id": "6cf977c5",
   "metadata": {},
   "outputs": [],
   "source": [
    "i_kb1=gpd.read_file('C:/Users/stat_17/Desktop/weather/imsang/imsang_47_kb/TB_FGDI_FS_IM5000_47_1.shp',encoding='utf-8')"
   ]
  },
  {
   "cell_type": "code",
   "execution_count": 8,
   "id": "0430c6f0",
   "metadata": {},
   "outputs": [],
   "source": [
    "i_kb2=gpd.read_file('C:/Users/stat_17/Desktop/weather/imsang/imsang_47_kb/TB_FGDI_FS_IM5000_47_2.shp',encoding='utf-8')"
   ]
  },
  {
   "cell_type": "code",
   "execution_count": 9,
   "id": "ad96f465",
   "metadata": {},
   "outputs": [],
   "source": [
    "i_kn=gpd.read_file('C:/Users/stat_17/Desktop/weather/imsang/imsang_48_kn/TB_FGDI_FS_IM5000_48.shp',encoding='utf-8')"
   ]
  },
  {
   "cell_type": "code",
   "execution_count": 10,
   "id": "4adcf97e",
   "metadata": {},
   "outputs": [],
   "source": [
    "rain1=pd.read_csv(r'C:\\Users\\stat_17\\Desktop\\svt\\SRAIN__11.csv', encoding='CP949')"
   ]
  },
  {
   "cell_type": "code",
   "execution_count": 11,
   "id": "9b316f14",
   "metadata": {},
   "outputs": [],
   "source": [
    "list_1 = [i_kb1, i_kb2, i_kn]\n",
    "imsang=pd.concat(list_1)"
   ]
  },
  {
   "cell_type": "code",
   "execution_count": 12,
   "id": "881dfed9",
   "metadata": {},
   "outputs": [],
   "source": [
    "list_2 = [t_kb1, t_kb2, t_kn]\n",
    "toyang = pd.concat(list_2)"
   ]
  },
  {
   "cell_type": "code",
   "execution_count": 13,
   "id": "c1c53c34",
   "metadata": {},
   "outputs": [],
   "source": [
    "hjd = hjd.rename({'ADM_DR_NM':'umd'}, axis='columns')"
   ]
  },
  {
   "cell_type": "markdown",
   "id": "d19d60ca",
   "metadata": {},
   "source": [
    "## 임상도 결측치 대체"
   ]
  },
  {
   "cell_type": "markdown",
   "id": "e76a891a",
   "metadata": {},
   "source": [
    "## DMCLS_CD 변수 결측값 대체"
   ]
  },
  {
   "cell_type": "code",
   "execution_count": 14,
   "id": "09e2ba4e",
   "metadata": {},
   "outputs": [],
   "source": [
    "imsang=imsang.replace({'DMCLS_CD': '3'}, {'DMCLS_CD': '5'})\n",
    "imsang=imsang.replace({'DMCLS_CD': '2'}, {'DMCLS_CD': '4'})\n",
    "imsang=imsang.replace({'DMCLS_CD': '1'}, {'DMCLS_CD': '3'})\n",
    "imsang=imsang.replace({'DMCLS_CD': '0'}, {'DMCLS_CD': '2'})"
   ]
  },
  {
   "cell_type": "code",
   "execution_count": 15,
   "id": "881dc8c2",
   "metadata": {},
   "outputs": [],
   "source": [
    "imsang['DMCLS_CD']=imsang['DMCLS_CD'].fillna(0)"
   ]
  },
  {
   "cell_type": "code",
   "execution_count": 16,
   "id": "a9ae2744",
   "metadata": {},
   "outputs": [],
   "source": [
    "# 죽림이면 'DMCLS_CD' = 1\n",
    "imsang.loc[imsang.FRTP_CD == '4','DMCLS_CD']='1'"
   ]
  },
  {
   "cell_type": "markdown",
   "id": "564f07b4",
   "metadata": {},
   "source": [
    "## AGCLS_CD변수 결측값 대체"
   ]
  },
  {
   "cell_type": "code",
   "execution_count": 17,
   "id": "7f8ef15a",
   "metadata": {},
   "outputs": [],
   "source": [
    "# AGCLS_CD 대체\n",
    "imsang['AGCLS_CD']=imsang['AGCLS_CD'].fillna(0)"
   ]
  },
  {
   "cell_type": "code",
   "execution_count": 18,
   "id": "53a7b8c3",
   "metadata": {},
   "outputs": [],
   "source": [
    "# 죽림 1로 대체\n",
    "imsang.loc[imsang.FRTP_CD == '4','AGCLS_CD']='1'"
   ]
  },
  {
   "cell_type": "markdown",
   "id": "849b874e",
   "metadata": {},
   "source": [
    "## DNST_CD변수 결측값 대체"
   ]
  },
  {
   "cell_type": "code",
   "execution_count": 19,
   "id": "558980bb",
   "metadata": {},
   "outputs": [],
   "source": [
    "imsang['DNST_CD']=imsang['DNST_CD'].fillna('D')"
   ]
  },
  {
   "cell_type": "code",
   "execution_count": 20,
   "id": "e4aae1df",
   "metadata": {},
   "outputs": [],
   "source": [
    "imsang.loc[imsang.FRTP_CD == '4','DNST_CD']='E'"
   ]
  },
  {
   "cell_type": "markdown",
   "id": "75cc1777",
   "metadata": {},
   "source": [
    "## HEIGT변수 결측값 대체"
   ]
  },
  {
   "cell_type": "code",
   "execution_count": 21,
   "id": "16517bc9",
   "metadata": {},
   "outputs": [],
   "source": [
    "imsang['HEIGHT']=imsang['HEIGHT'].fillna('999')"
   ]
  },
  {
   "cell_type": "code",
   "execution_count": 22,
   "id": "8c841302",
   "metadata": {},
   "outputs": [],
   "source": [
    "d_0=imsang[imsang['FROR_CD']== '0']"
   ]
  },
  {
   "cell_type": "code",
   "execution_count": 23,
   "id": "dd48cae4",
   "metadata": {},
   "outputs": [],
   "source": [
    "d_2=imsang[imsang['FROR_CD'] != '0']"
   ]
  },
  {
   "cell_type": "markdown",
   "id": "42b4554a",
   "metadata": {},
   "source": [
    "# d_0: 무립목지/비산림|"
   ]
  },
  {
   "cell_type": "code",
   "execution_count": 24,
   "id": "2c7cbf2b",
   "metadata": {},
   "outputs": [
    {
     "name": "stderr",
     "output_type": "stream",
     "text": [
      "C:\\ProgramData\\Anaconda3\\lib\\site-packages\\pandas\\core\\indexing.py:1720: SettingWithCopyWarning: \n",
      "A value is trying to be set on a copy of a slice from a DataFrame.\n",
      "Try using .loc[row_indexer,col_indexer] = value instead\n",
      "\n",
      "See the caveats in the documentation: https://pandas.pydata.org/pandas-docs/stable/user_guide/indexing.html#returning-a-view-versus-a-copy\n",
      "  self._setitem_single_column(loc, value, pi)\n"
     ]
    }
   ],
   "source": [
    "d_0.loc[d_0.KOFTR_GROU == '95','HEIGHT']='08'\n",
    "d_0.loc[d_0.KOFTR_GROU == '83','HEIGHT']='02'\n",
    "d_0=d_0.replace({'HEIGHT': '999'}, {'HEIGHT': '00'})"
   ]
  },
  {
   "cell_type": "markdown",
   "id": "491f6dd8",
   "metadata": {},
   "source": [
    "# d_2: 인공림/천연림"
   ]
  },
  {
   "cell_type": "code",
   "execution_count": 25,
   "id": "a61bf177",
   "metadata": {},
   "outputs": [],
   "source": [
    "dd_2=d_2[d_2['HEIGHT'] == '999']\n",
    "dn_2=d_2[d_2['HEIGHT'] != '999']"
   ]
  },
  {
   "cell_type": "code",
   "execution_count": 26,
   "id": "3c407632",
   "metadata": {},
   "outputs": [
    {
     "name": "stderr",
     "output_type": "stream",
     "text": [
      "C:\\ProgramData\\Anaconda3\\lib\\site-packages\\geopandas\\geodataframe.py:1322: SettingWithCopyWarning: \n",
      "A value is trying to be set on a copy of a slice from a DataFrame.\n",
      "Try using .loc[row_indexer,col_indexer] = value instead\n",
      "\n",
      "See the caveats in the documentation: https://pandas.pydata.org/pandas-docs/stable/user_guide/indexing.html#returning-a-view-versus-a-copy\n",
      "  super(GeoDataFrame, self).__setitem__(key, value)\n"
     ]
    }
   ],
   "source": [
    "dd_2['HEIGHT'] = np.where((dd_2['KOFTR_GROU']=='10')&(dd_2['AGCLS_CD']=='1'),'00',dd_2['HEIGHT'])\n",
    "dd_2['HEIGHT'] = np.where((dd_2['KOFTR_GROU']=='11')&(dd_2['AGCLS_CD']=='1'),'00',dd_2['HEIGHT'])\n",
    "dd_2['HEIGHT'] = np.where((dd_2['KOFTR_GROU']=='11')&(dd_2['AGCLS_CD']=='2'),'08',dd_2['HEIGHT'])\n",
    "dd_2['HEIGHT'] = np.where((dd_2['KOFTR_GROU']=='11')&(dd_2['AGCLS_CD']=='3'),'10',dd_2['HEIGHT'])\n",
    "dd_2['HEIGHT'] = np.where((dd_2['KOFTR_GROU']=='11')&(dd_2['AGCLS_CD']=='4'),'12',dd_2['HEIGHT'])\n",
    "dd_2['HEIGHT'] = np.where((dd_2['KOFTR_GROU']=='11')&(dd_2['AGCLS_CD']=='5'),'14',dd_2['HEIGHT'])\n",
    "dd_2['HEIGHT'] = np.where((dd_2['KOFTR_GROU']=='11')&(dd_2['AGCLS_CD']=='6'),'16',dd_2['HEIGHT'])\n",
    "dd_2['HEIGHT'] = np.where((dd_2['KOFTR_GROU']=='11')&(dd_2['AGCLS_CD']=='7'),'16',dd_2['HEIGHT'])\n",
    "dd_2['HEIGHT'] = np.where((dd_2['KOFTR_GROU']=='12')&(dd_2['AGCLS_CD']=='1'),'00',dd_2['HEIGHT'])\n",
    "dd_2['HEIGHT'] = np.where((dd_2['KOFTR_GROU']=='12')&(dd_2['AGCLS_CD']=='2'),'08',dd_2['HEIGHT'])\n",
    "dd_2['HEIGHT'] = np.where((dd_2['KOFTR_GROU']=='12')&(dd_2['AGCLS_CD']=='3'),'12',dd_2['HEIGHT'])\n",
    "dd_2['HEIGHT'] = np.where((dd_2['KOFTR_GROU']=='12')&(dd_2['AGCLS_CD']=='4'),'14',dd_2['HEIGHT'])\n",
    "dd_2['HEIGHT'] = np.where((dd_2['KOFTR_GROU']=='13')&(dd_2['AGCLS_CD']=='1'),'00',dd_2['HEIGHT'])\n",
    "dd_2['HEIGHT'] = np.where((dd_2['KOFTR_GROU']=='13')&(dd_2['AGCLS_CD']=='2'),'10',dd_2['HEIGHT'])\n",
    "dd_2['HEIGHT'] = np.where((dd_2['KOFTR_GROU']=='13')&(dd_2['AGCLS_CD']=='3'),'14',dd_2['HEIGHT'])\n",
    "dd_2['HEIGHT'] = np.where((dd_2['KOFTR_GROU']=='13')&(dd_2['AGCLS_CD']=='4'),'18',dd_2['HEIGHT'])\n",
    "dd_2['HEIGHT'] = np.where((dd_2['KOFTR_GROU']=='13')&(dd_2['AGCLS_CD']=='5'),'20',dd_2['HEIGHT'])\n",
    "dd_2['HEIGHT'] = np.where((dd_2['KOFTR_GROU']=='14')&(dd_2['AGCLS_CD']=='2'),'06',dd_2['HEIGHT'])\n",
    "dd_2['HEIGHT'] = np.where((dd_2['KOFTR_GROU']=='14')&(dd_2['AGCLS_CD']=='3'),'10',dd_2['HEIGHT'])\n",
    "dd_2['HEIGHT'] = np.where((dd_2['KOFTR_GROU']=='14')&(dd_2['AGCLS_CD']=='4'),'12',dd_2['HEIGHT'])\n",
    "dd_2['HEIGHT'] = np.where((dd_2['KOFTR_GROU']=='14')&(dd_2['AGCLS_CD']=='5'),'14',dd_2['HEIGHT'])\n",
    "dd_2['HEIGHT'] = np.where((dd_2['KOFTR_GROU']=='14')&(dd_2['AGCLS_CD']=='6'),'14',dd_2['HEIGHT'])"
   ]
  },
  {
   "cell_type": "code",
   "execution_count": 27,
   "id": "b6d6cee4",
   "metadata": {},
   "outputs": [],
   "source": [
    "dd_2['HEIGHT'] = np.where((dd_2['KOFTR_GROU']=='15')&(dd_2['AGCLS_CD']=='2'),'08',dd_2['HEIGHT'])\n",
    "dd_2['HEIGHT'] = np.where((dd_2['KOFTR_GROU']=='15')&(dd_2['AGCLS_CD']=='3'),'12',dd_2['HEIGHT'])\n",
    "dd_2['HEIGHT'] = np.where((dd_2['KOFTR_GROU']=='15')&(dd_2['AGCLS_CD']=='4'),'16',dd_2['HEIGHT'])\n",
    "dd_2['HEIGHT'] = np.where((dd_2['KOFTR_GROU']=='15')&(dd_2['AGCLS_CD']=='5'),'12',dd_2['HEIGHT'])\n",
    "dd_2['HEIGHT'] = np.where((dd_2['KOFTR_GROU']=='15')&(dd_2['AGCLS_CD']=='6'),'14',dd_2['HEIGHT'])\n",
    "dd_2['HEIGHT'] = np.where((dd_2['KOFTR_GROU']=='17')&(dd_2['AGCLS_CD']=='1'),'00',dd_2['HEIGHT'])\n",
    "dd_2['HEIGHT'] = np.where((dd_2['KOFTR_GROU']=='17')&(dd_2['AGCLS_CD']=='3'),'12',dd_2['HEIGHT'])\n",
    "dd_2['HEIGHT'] = np.where((dd_2['KOFTR_GROU']=='17')&(dd_2['AGCLS_CD']=='4'),'14',dd_2['HEIGHT'])\n",
    "dd_2['HEIGHT'] = np.where((dd_2['KOFTR_GROU']=='18')&(dd_2['AGCLS_CD']=='4'),'12',dd_2['HEIGHT'])\n",
    "dd_2['HEIGHT'] = np.where((dd_2['KOFTR_GROU']=='21')&(dd_2['AGCLS_CD']=='1'),'00',dd_2['HEIGHT'])\n",
    "dd_2['HEIGHT'] = np.where((dd_2['KOFTR_GROU']=='30')&(dd_2['AGCLS_CD']=='1'),'00',dd_2['HEIGHT'])\n",
    "dd_2['HEIGHT'] = np.where((dd_2['KOFTR_GROU']=='30')&(dd_2['AGCLS_CD']=='2'),'08',dd_2['HEIGHT'])\n",
    "dd_2['HEIGHT'] = np.where((dd_2['KOFTR_GROU']=='30')&(dd_2['AGCLS_CD']=='3'),'12',dd_2['HEIGHT'])\n",
    "dd_2['HEIGHT'] = np.where((dd_2['KOFTR_GROU']=='30')&(dd_2['AGCLS_CD']=='4'),'14',dd_2['HEIGHT'])\n",
    "dd_2['HEIGHT'] = np.where((dd_2['KOFTR_GROU']=='30')&(dd_2['AGCLS_CD']=='5'),'16',dd_2['HEIGHT'])\n",
    "dd_2['HEIGHT'] = np.where((dd_2['KOFTR_GROU']=='30')&(dd_2['AGCLS_CD']=='6'),'16',dd_2['HEIGHT'])\n",
    "dd_2['HEIGHT'] = np.where((dd_2['KOFTR_GROU']=='31')&(dd_2['AGCLS_CD']=='1'),'00',dd_2['HEIGHT'])\n",
    "dd_2['HEIGHT'] = np.where((dd_2['KOFTR_GROU']=='31')&(dd_2['AGCLS_CD']=='2'),'10',dd_2['HEIGHT'])\n",
    "dd_2['HEIGHT'] = np.where((dd_2['KOFTR_GROU']=='31')&(dd_2['AGCLS_CD']=='3'),'14',dd_2['HEIGHT'])\n",
    "dd_2['HEIGHT'] = np.where((dd_2['KOFTR_GROU']=='31')&(dd_2['AGCLS_CD']=='4'),'16',dd_2['HEIGHT'])"
   ]
  },
  {
   "cell_type": "code",
   "execution_count": 28,
   "id": "dd8d6bed",
   "metadata": {},
   "outputs": [],
   "source": [
    "dd_2['HEIGHT'] = np.where((dd_2['KOFTR_GROU']=='32')&(dd_2['AGCLS_CD']=='2'),'10',dd_2['HEIGHT'])\n",
    "dd_2['HEIGHT'] = np.where((dd_2['KOFTR_GROU']=='32')&(dd_2['AGCLS_CD']=='3'),'12',dd_2['HEIGHT'])\n",
    "dd_2['HEIGHT'] = np.where((dd_2['KOFTR_GROU']=='32')&(dd_2['AGCLS_CD']=='4'),'14',dd_2['HEIGHT'])\n",
    "dd_2['HEIGHT'] = np.where((dd_2['KOFTR_GROU']=='32')&(dd_2['AGCLS_CD']=='5'),'16',dd_2['HEIGHT'])\n",
    "dd_2['HEIGHT'] = np.where((dd_2['KOFTR_GROU']=='32')&(dd_2['AGCLS_CD']=='6'),'16',dd_2['HEIGHT'])\n",
    "dd_2['HEIGHT'] = np.where((dd_2['KOFTR_GROU']=='33')&(dd_2['AGCLS_CD']=='2'),'10',dd_2['HEIGHT'])\n",
    "dd_2['HEIGHT'] = np.where((dd_2['KOFTR_GROU']=='33')&(dd_2['AGCLS_CD']=='3'),'14',dd_2['HEIGHT'])\n",
    "dd_2['HEIGHT'] = np.where((dd_2['KOFTR_GROU']=='33')&(dd_2['AGCLS_CD']=='4'),'16',dd_2['HEIGHT'])\n",
    "dd_2['HEIGHT'] = np.where((dd_2['KOFTR_GROU']=='33')&(dd_2['AGCLS_CD']=='5'),'18',dd_2['HEIGHT'])\n",
    "dd_2['HEIGHT'] = np.where((dd_2['KOFTR_GROU']=='33')&(dd_2['AGCLS_CD']=='6'),'22',dd_2['HEIGHT'])\n",
    "dd_2['HEIGHT'] = np.where((dd_2['KOFTR_GROU']=='34')&(dd_2['AGCLS_CD']=='2'),'10',dd_2['HEIGHT'])\n",
    "dd_2['HEIGHT'] = np.where((dd_2['KOFTR_GROU']=='34')&(dd_2['AGCLS_CD']=='3'),'12',dd_2['HEIGHT'])\n",
    "dd_2['HEIGHT'] = np.where((dd_2['KOFTR_GROU']=='34')&(dd_2['AGCLS_CD']=='4'),'14',dd_2['HEIGHT'])\n",
    "dd_2['HEIGHT'] = np.where((dd_2['KOFTR_GROU']=='34')&(dd_2['AGCLS_CD']=='5'),'16',dd_2['HEIGHT'])\n",
    "dd_2['HEIGHT'] = np.where((dd_2['KOFTR_GROU']=='35')&(dd_2['AGCLS_CD']=='3'),'10',dd_2['HEIGHT'])\n",
    "dd_2['HEIGHT'] = np.where((dd_2['KOFTR_GROU']=='36')&(dd_2['AGCLS_CD']=='1'),'00',dd_2['HEIGHT'])\n",
    "dd_2['HEIGHT'] = np.where((dd_2['KOFTR_GROU']=='37')&(dd_2['AGCLS_CD']=='1'),'00',dd_2['HEIGHT'])\n",
    "dd_2['HEIGHT'] = np.where((dd_2['KOFTR_GROU']=='39')&(dd_2['AGCLS_CD']=='1'),'00',dd_2['HEIGHT'])\n",
    "dd_2['HEIGHT'] = np.where((dd_2['KOFTR_GROU']=='39')&(dd_2['AGCLS_CD']=='2'),'08',dd_2['HEIGHT'])\n",
    "dd_2['HEIGHT'] = np.where((dd_2['KOFTR_GROU']=='39')&(dd_2['AGCLS_CD']=='3'),'08',dd_2['HEIGHT'])"
   ]
  },
  {
   "cell_type": "code",
   "execution_count": 29,
   "id": "1632e0a6",
   "metadata": {},
   "outputs": [],
   "source": [
    "dd_2['HEIGHT'] = np.where((dd_2['KOFTR_GROU']=='43')&(dd_2['AGCLS_CD']=='1'),'00',dd_2['HEIGHT'])\n",
    "dd_2['HEIGHT'] = np.where((dd_2['KOFTR_GROU']=='44')&(dd_2['AGCLS_CD']=='1'),'00',dd_2['HEIGHT'])\n",
    "dd_2['HEIGHT'] = np.where((dd_2['KOFTR_GROU']=='45')&(dd_2['AGCLS_CD']=='3'),'14',dd_2['HEIGHT'])\n",
    "dd_2['HEIGHT'] = np.where((dd_2['KOFTR_GROU']=='45')&(dd_2['AGCLS_CD']=='4'),'16',dd_2['HEIGHT'])\n",
    "dd_2['HEIGHT'] = np.where((dd_2['KOFTR_GROU']=='46')&(dd_2['AGCLS_CD']=='1'),'00',dd_2['HEIGHT'])\n",
    "dd_2['HEIGHT'] = np.where((dd_2['KOFTR_GROU']=='47')&(dd_2['AGCLS_CD']=='1'),'00',dd_2['HEIGHT'])\n",
    "dd_2['HEIGHT'] = np.where((dd_2['KOFTR_GROU']=='49')&(dd_2['AGCLS_CD']=='1'),'00',dd_2['HEIGHT'])\n",
    "dd_2['HEIGHT'] = np.where((dd_2['KOFTR_GROU']=='49')&(dd_2['AGCLS_CD']=='3'),'12',dd_2['HEIGHT'])\n",
    "dd_2['HEIGHT'] = np.where((dd_2['KOFTR_GROU']=='49')&(dd_2['AGCLS_CD']=='4'),'14',dd_2['HEIGHT'])\n",
    "dd_2['HEIGHT'] = np.where((dd_2['KOFTR_GROU']=='65')&(dd_2['AGCLS_CD']=='1'),'00',dd_2['HEIGHT'])\n",
    "dd_2['HEIGHT'] = np.where((dd_2['KOFTR_GROU']=='77')&(dd_2['AGCLS_CD']=='1'),'00',dd_2['HEIGHT'])\n",
    "dd_2['HEIGHT'] = np.where((dd_2['KOFTR_GROU']=='77')&(dd_2['AGCLS_CD']=='2'),'08',dd_2['HEIGHT'])\n",
    "dd_2['HEIGHT'] = np.where((dd_2['KOFTR_GROU']=='77')&(dd_2['AGCLS_CD']=='3'),'12',dd_2['HEIGHT'])\n",
    "dd_2['HEIGHT'] = np.where((dd_2['KOFTR_GROU']=='77')&(dd_2['AGCLS_CD']=='4'),'14',dd_2['HEIGHT'])\n",
    "dd_2['HEIGHT'] = np.where((dd_2['KOFTR_GROU']=='77')&(dd_2['AGCLS_CD']=='5'),'16',dd_2['HEIGHT'])\n",
    "dd_2['HEIGHT'] = np.where((dd_2['KOFTR_GROU']=='77')&(dd_2['AGCLS_CD']=='6'),'16',dd_2['HEIGHT'])\n",
    "dd_2['HEIGHT'] = np.where((dd_2['KOFTR_GROU']=='77')&(dd_2['AGCLS_CD']=='9'),'14',dd_2['HEIGHT'])\n",
    "dd_2['HEIGHT'] = np.where((dd_2['KOFTR_GROU']=='78')&(dd_2['AGCLS_CD']=='1'),'20',dd_2['HEIGHT'])"
   ]
  },
  {
   "cell_type": "code",
   "execution_count": 30,
   "id": "be4a8d23",
   "metadata": {},
   "outputs": [],
   "source": [
    "new_imsang=pd.concat([dd_2, dn_2, d_0])"
   ]
  },
  {
   "cell_type": "markdown",
   "id": "00e1f370",
   "metadata": {},
   "source": [
    "## 토양도 입력값 수정"
   ]
  },
  {
   "cell_type": "code",
   "execution_count": 31,
   "id": "9a71f6cb",
   "metadata": {},
   "outputs": [],
   "source": [
    "toyang= toyang.replace({'SCSTX_CD': '1'}, {'SCSTX_CD': '01'})\n",
    "toyang= toyang.replace({'SCSTX_CD': '2'}, {'SCSTX_CD': '02'})\n",
    "toyang= toyang.replace({'SCSTX_CD': '3'}, {'SCSTX_CD': '03'})\n",
    "toyang= toyang.replace({'SCSTX_CD': '4'}, {'SCSTX_CD': '04'})\n",
    "toyang= toyang.replace({'SCSTX_CD': '5'}, {'SCSTX_CD': '05'})\n",
    "toyang= toyang.replace({'SCSTX_CD': '6'}, {'SCSTX_CD': '06'})\n",
    "toyang= toyang.replace({'SCSTX_CD': '7'}, {'SCSTX_CD': '07'})\n",
    "toyang= toyang.replace({'SCSTX_CD': '8'}, {'SCSTX_CD': '08'})"
   ]
  },
  {
   "cell_type": "code",
   "execution_count": 32,
   "id": "99091b24",
   "metadata": {},
   "outputs": [],
   "source": [
    "toyang= toyang.replace({'SLDPT_TPCD': '1'}, {'SLDPT_TPCD': '10'})\n",
    "toyang= toyang.replace({'SLDPT_TPCD': '2'}, {'SLDPT_TPCD': '20'})\n",
    "toyang= toyang.replace({'SLDPT_TPCD': '3'}, {'SLDPT_TPCD': '30'})"
   ]
  },
  {
   "cell_type": "code",
   "execution_count": 33,
   "id": "1761647d",
   "metadata": {},
   "outputs": [],
   "source": [
    "toyang= toyang.replace({'TPGRP_TPCD': '1'}, {'TPGRP_TPCD': '01'})\n",
    "toyang= toyang.replace({'TPGRP_TPCD': '2'}, {'TPGRP_TPCD': '02'})\n",
    "toyang= toyang.replace({'TPGRP_TPCD': '3'}, {'TPGRP_TPCD': '03'})"
   ]
  },
  {
   "cell_type": "code",
   "execution_count": 34,
   "id": "de5130af",
   "metadata": {},
   "outputs": [],
   "source": [
    "toyang= toyang.replace({'PRDN_FOM_C': '1'}, {'PRDN_FOM_C': '01'})\n",
    "toyang= toyang.replace({'PRDN_FOM_C': '2'}, {'PRDN_FOM_C': '02'})\n",
    "toyang= toyang.replace({'PRDN_FOM_C': '3'}, {'PRDN_FOM_C': '03'})\n",
    "toyang= toyang.replace({'PRDN_FOM_C': '4'}, {'PRDN_FOM_C': '04'})"
   ]
  },
  {
   "cell_type": "markdown",
   "id": "b6ea8c34",
   "metadata": {},
   "source": [
    "## 지형구분코드 결측치 대체 "
   ]
  },
  {
   "cell_type": "code",
   "execution_count": 35,
   "id": "68e45d96",
   "metadata": {},
   "outputs": [],
   "source": [
    "toyang['TPGRP_TPCD'] = toyang['TPGRP_TPCD'].fillna('99')"
   ]
  },
  {
   "cell_type": "markdown",
   "id": "4cd0e522",
   "metadata": {},
   "source": [
    "## 사면형태코드 결측치 대체"
   ]
  },
  {
   "cell_type": "code",
   "execution_count": 36,
   "id": "988aedd5",
   "metadata": {},
   "outputs": [],
   "source": [
    "toyang['PRDN_FOM_C'] = toyang['PRDN_FOM_C'].fillna('99')"
   ]
  },
  {
   "cell_type": "markdown",
   "id": "f4ab65d1",
   "metadata": {},
   "source": [
    "## 경사형코드 결측치 대체 "
   ]
  },
  {
   "cell_type": "code",
   "execution_count": 37,
   "id": "e72991c8",
   "metadata": {},
   "outputs": [],
   "source": [
    "toyang['SLANT_TYP'] = toyang['SLANT_TYP'].fillna('0')"
   ]
  },
  {
   "cell_type": "markdown",
   "id": "f595a2d0",
   "metadata": {},
   "source": [
    "## 토성코드 결측치 대체 "
   ]
  },
  {
   "cell_type": "code",
   "execution_count": 38,
   "id": "f7e5463a",
   "metadata": {},
   "outputs": [],
   "source": [
    "toyang['SCSTX_CD'] = toyang['SCSTX_CD'].fillna('99')"
   ]
  },
  {
   "cell_type": "markdown",
   "id": "020fcd21",
   "metadata": {},
   "source": [
    "## 토심코드 결측치 대체 "
   ]
  },
  {
   "cell_type": "code",
   "execution_count": 39,
   "id": "0a97ad2f",
   "metadata": {},
   "outputs": [],
   "source": [
    "toyang['SLDPT_TPCD'] = toyang['SLDPT_TPCD'].fillna('00')"
   ]
  },
  {
   "cell_type": "markdown",
   "id": "a5b9f5aa",
   "metadata": {},
   "source": [
    "## 8 방위각도 결측치 대체 "
   ]
  },
  {
   "cell_type": "code",
   "execution_count": 40,
   "id": "7bbceffe",
   "metadata": {},
   "outputs": [],
   "source": [
    "toyang= toyang.replace({'EIGHT_AGL': 360.0}, {'EIGHT_AGL': 0.0})"
   ]
  },
  {
   "cell_type": "code",
   "execution_count": 41,
   "id": "775826bd",
   "metadata": {},
   "outputs": [],
   "source": [
    "toyang_imsang=gpd.sjoin(new_imsang, toyang, op='within')"
   ]
  },
  {
   "cell_type": "markdown",
   "id": "a9e4464e",
   "metadata": {},
   "source": [
    "## 산사태 발생이력 과 행정동 경계의 이름은 같지만 다른 지역 구분"
   ]
  },
  {
   "cell_type": "code",
   "execution_count": 42,
   "id": "90bc159e",
   "metadata": {},
   "outputs": [],
   "source": [
    "# 잘못 기입된 값 처리\n",
    "sst= sst.replace({'umd': '남면 '}, {'umd': '남면'})\n",
    "sst= sst.replace({'umd': '수비면 '}, {'umd': '수비면'})\n",
    "sst= sst.replace({'umd': '묘산면 '}, {'umd': '묘산면'})"
   ]
  },
  {
   "cell_type": "code",
   "execution_count": 43,
   "id": "c2cc97e4",
   "metadata": {},
   "outputs": [],
   "source": [
    "sst['name'] = sst['sgg'] + ' ' + sst['umd']"
   ]
  },
  {
   "cell_type": "code",
   "execution_count": 44,
   "id": "548c4c8b",
   "metadata": {},
   "outputs": [],
   "source": [
    "sst1 =sst[sst['name']== '창원시 의창구 북면' ]\n",
    "sst2 =sst[sst['name']== '밀양시 상동면' ]\n",
    "sst3 =sst[sst['name']== '영덕군 병곡면' ]\n",
    "sst4 =sst[sst['name']== '성주군 대가면' ]"
   ]
  },
  {
   "cell_type": "code",
   "execution_count": 45,
   "id": "f178a080",
   "metadata": {},
   "outputs": [],
   "source": [
    "s = [sst1, sst2, sst3, sst4]\n",
    "sst2 = pd.concat(s)"
   ]
  },
  {
   "cell_type": "code",
   "execution_count": 46,
   "id": "a0a025a7",
   "metadata": {},
   "outputs": [],
   "source": [
    "sst2['umd1'] = sst2['umd'] + '2'\n",
    "sst2.drop(['umd'], inplace=True, axis=1)\n",
    "sst2 = sst2.rename({'umd1':'umd'}, axis='columns')"
   ]
  },
  {
   "cell_type": "code",
   "execution_count": 47,
   "id": "af84b611",
   "metadata": {},
   "outputs": [],
   "source": [
    "def sup(a):\n",
    "    sst_dup =sst[sst['name']== a ]\n",
    "    return sst_dup"
   ]
  },
  {
   "cell_type": "code",
   "execution_count": 48,
   "id": "2f6eca70",
   "metadata": {},
   "outputs": [],
   "source": [
    "list1 = [ '포항시 북구 중앙동','남해군 서면', '울릉군 북면', '창원시 마산합포구 자산동', '김해시 상동면' , '남해군 남면', '김해시 북부동', '통영시 도산면', '창녕군 성산면', '함양군 병곡면','고성군 동해면', '고령군 덕곡면', '합천군 봉산면', '고성군 대가면' ]\n",
    "a = []\n",
    "for i in list1:\n",
    "    a.append(sup(i))"
   ]
  },
  {
   "cell_type": "code",
   "execution_count": 49,
   "id": "1ec1570f",
   "metadata": {},
   "outputs": [],
   "source": [
    "sst_sup1 = pd.concat(a)"
   ]
  },
  {
   "cell_type": "code",
   "execution_count": 50,
   "id": "a0643891",
   "metadata": {},
   "outputs": [],
   "source": [
    "sst_sup1['umd1'] = sst_sup1['umd'] + '1'\n",
    "sst_sup1.drop(['umd'], inplace=True, axis=1)\n",
    "sst_sup1 = sst_sup1.rename({'umd1':'umd'}, axis='columns')"
   ]
  },
  {
   "cell_type": "code",
   "execution_count": 51,
   "id": "f1fa9ab5",
   "metadata": {},
   "outputs": [],
   "source": [
    "sst_sup3 =sst[sst['name']== '울진군 북면' ]"
   ]
  },
  {
   "cell_type": "code",
   "execution_count": 52,
   "id": "c48eb5a2",
   "metadata": {},
   "outputs": [
    {
     "name": "stderr",
     "output_type": "stream",
     "text": [
      "<ipython-input-52-c640524fadb5>:1: SettingWithCopyWarning: \n",
      "A value is trying to be set on a copy of a slice from a DataFrame.\n",
      "Try using .loc[row_indexer,col_indexer] = value instead\n",
      "\n",
      "See the caveats in the documentation: https://pandas.pydata.org/pandas-docs/stable/user_guide/indexing.html#returning-a-view-versus-a-copy\n",
      "  sst_sup3['umd1'] = sst_sup3['umd'] + '3'\n",
      "C:\\ProgramData\\Anaconda3\\lib\\site-packages\\pandas\\core\\frame.py:4308: SettingWithCopyWarning: \n",
      "A value is trying to be set on a copy of a slice from a DataFrame\n",
      "\n",
      "See the caveats in the documentation: https://pandas.pydata.org/pandas-docs/stable/user_guide/indexing.html#returning-a-view-versus-a-copy\n",
      "  return super().drop(\n"
     ]
    }
   ],
   "source": [
    "sst_sup3['umd1'] = sst_sup3['umd'] + '3'\n",
    "sst_sup3.drop(['umd'], inplace=True, axis=1)\n",
    "sst_sup3 = sst_sup3.rename({'umd1':'umd'}, axis='columns')"
   ]
  },
  {
   "cell_type": "code",
   "execution_count": 53,
   "id": "9c590ab5",
   "metadata": {},
   "outputs": [],
   "source": [
    "list3 = [sst_sup1, sst2, sst_sup3]\n",
    "sst_d = pd.concat(list3)"
   ]
  },
  {
   "cell_type": "code",
   "execution_count": 54,
   "id": "75eda295",
   "metadata": {},
   "outputs": [],
   "source": [
    "sst.drop(sst_d.index, inplace=True)"
   ]
  },
  {
   "cell_type": "code",
   "execution_count": 55,
   "id": "3ad20b81",
   "metadata": {},
   "outputs": [],
   "source": [
    "sst_a=sst[['date','sd','sgg','sum_cnt','sum_hpa','name','umd']]"
   ]
  },
  {
   "cell_type": "code",
   "execution_count": 56,
   "id": "ff03dff0",
   "metadata": {},
   "outputs": [],
   "source": [
    "sstt = [sst_d, sst_a]\n",
    "new_sst=pd.concat(sstt)"
   ]
  },
  {
   "cell_type": "code",
   "execution_count": 57,
   "id": "136fc8b6",
   "metadata": {},
   "outputs": [],
   "source": [
    "new_sst.to_csv('new_sst.csv', index=False)"
   ]
  },
  {
   "cell_type": "code",
   "execution_count": 58,
   "id": "9642b721",
   "metadata": {},
   "outputs": [],
   "source": [
    "# 특정 ADM_DR_CD 인 지역 추출 함수 \n",
    "def dup(a):\n",
    "    hjd_dup =hjd[hjd['ADM_DR_CD']== a ]\n",
    "    return hjd_dup"
   ]
  },
  {
   "cell_type": "code",
   "execution_count": 59,
   "id": "aca79a5b",
   "metadata": {},
   "outputs": [],
   "source": [
    "# 같은 이름 다른 지역 처리- 구분1\n",
    "list1 = ['3701267', '3835036', '3743032', '3811358', '3807036', '3835035', '3807055',\n",
    "        '3805032',  '3833032', '3838040', '3834042', '3737031', '3840031', '3834035',\n",
    "        '3707034', '3707051', '3811132', '3707055', '3808034', '3701160', '3732037', '3703038', '3707035']\n",
    "a = []\n",
    "for i in list1:\n",
    "    a.append(dup(i))"
   ]
  },
  {
   "cell_type": "code",
   "execution_count": 60,
   "id": "ff0e02f9",
   "metadata": {},
   "outputs": [],
   "source": [
    "# 같은 이름 다른 지역 처리 - 구분2\n",
    "list2 = ['3811131', '3808032', '3735037', '3738036', '3707052','3702035','3708042','3703032','3710055','3701132','3710052','3832034','3710054',\n",
    "'3702034','3703036','3803077','3703060','3737033','3836037','3740034','3708047','3704042','3840038']\n",
    "b = []\n",
    "for i in list2:\n",
    "    b.append(dup(i))"
   ]
  },
  {
   "cell_type": "code",
   "execution_count": 61,
   "id": "54a6de90",
   "metadata": {},
   "outputs": [],
   "source": [
    "list3=['3710051', '3742031', '3743031']\n",
    "\n",
    "c = []\n",
    "for i in list3:\n",
    "    c.append(dup(i))"
   ]
  },
  {
   "cell_type": "code",
   "execution_count": 62,
   "id": "e07312ee",
   "metadata": {},
   "outputs": [],
   "source": [
    "hjd_dup1 = pd.concat(a)"
   ]
  },
  {
   "cell_type": "code",
   "execution_count": 63,
   "id": "38656d75",
   "metadata": {},
   "outputs": [],
   "source": [
    "hjd_dup2 = pd.concat(b)"
   ]
  },
  {
   "cell_type": "code",
   "execution_count": 64,
   "id": "f74870bd",
   "metadata": {},
   "outputs": [],
   "source": [
    "hjd_dup3 = pd.concat(c)"
   ]
  },
  {
   "cell_type": "code",
   "execution_count": 65,
   "id": "4c3d5aa8",
   "metadata": {},
   "outputs": [],
   "source": [
    "hjd_dup4 =hjd[hjd['ADM_DR_CD']== '3803074']"
   ]
  },
  {
   "cell_type": "code",
   "execution_count": 66,
   "id": "f63a64bf",
   "metadata": {},
   "outputs": [],
   "source": [
    "hjd_dup5 =hjd[hjd['ADM_DR_CD']== '3805053']"
   ]
  },
  {
   "cell_type": "code",
   "execution_count": 67,
   "id": "45602763",
   "metadata": {},
   "outputs": [],
   "source": [
    "hjd_dup6 =hjd[hjd['ADM_DR_CD']== '3810058']"
   ]
  },
  {
   "cell_type": "code",
   "execution_count": 68,
   "id": "feef334f",
   "metadata": {},
   "outputs": [],
   "source": [
    "hjd_dup7 =hjd[hjd['ADM_DR_CD']== '3811252']"
   ]
  },
  {
   "cell_type": "code",
   "execution_count": 69,
   "id": "750f1ee1",
   "metadata": {},
   "outputs": [
    {
     "name": "stderr",
     "output_type": "stream",
     "text": [
      "C:\\ProgramData\\Anaconda3\\lib\\site-packages\\geopandas\\geodataframe.py:1322: SettingWithCopyWarning: \n",
      "A value is trying to be set on a copy of a slice from a DataFrame.\n",
      "Try using .loc[row_indexer,col_indexer] = value instead\n",
      "\n",
      "See the caveats in the documentation: https://pandas.pydata.org/pandas-docs/stable/user_guide/indexing.html#returning-a-view-versus-a-copy\n",
      "  super(GeoDataFrame, self).__setitem__(key, value)\n"
     ]
    }
   ],
   "source": [
    "# umd 뒤에 숫자를 붙여 같은 이름 다른 지역  구분\n",
    "hjd_dup1['umd1'] = hjd_dup1['umd'] + '1'\n",
    "hjd_dup1.drop(['umd'], inplace=True, axis=1)\n",
    "hjd_dup1 = hjd_dup1.rename({'umd1':'umd'}, axis='columns')\n",
    "\n",
    "hjd_dup2['umd1'] = hjd_dup2['umd'] + '2'\n",
    "hjd_dup2.drop(['umd'], inplace=True, axis=1)\n",
    "hjd_dup2 = hjd_dup2.rename({'umd1':'umd'}, axis='columns')\n",
    "\n",
    "hjd_dup3['umd1'] = hjd_dup3['umd'] + '3'\n",
    "hjd_dup3.drop(['umd'], inplace=True, axis=1)\n",
    "hjd_dup3 = hjd_dup3.rename({'umd1':'umd'}, axis='columns')\n",
    "\n",
    "hjd_dup4['umd1'] = hjd_dup4['umd'] + '4'\n",
    "hjd_dup4.drop(['umd'], inplace=True, axis=1)\n",
    "hjd_dup4 = hjd_dup4.rename({'umd1':'umd'}, axis='columns')\n",
    "\n",
    "hjd_dup5['umd1'] = hjd_dup5['umd'] + '5'\n",
    "hjd_dup5.drop(['umd'], inplace=True, axis=1)\n",
    "hjd_dup5 = hjd_dup5.rename({'umd1':'umd'}, axis='columns')\n",
    "\n",
    "hjd_dup6['umd1'] = hjd_dup6['umd'] + '6'\n",
    "hjd_dup6.drop(['umd'], inplace=True, axis=1)\n",
    "hjd_dup6 = hjd_dup6.rename({'umd1':'umd'}, axis='columns')\n",
    "\n",
    "hjd_dup7['umd1'] = hjd_dup7['umd'] + '7'\n",
    "hjd_dup7.drop(['umd'], inplace=True, axis=1)\n",
    "hjd_dup7 = hjd_dup7.rename({'umd1':'umd'}, axis='columns')"
   ]
  },
  {
   "cell_type": "code",
   "execution_count": 70,
   "id": "f357ac26",
   "metadata": {},
   "outputs": [],
   "source": [
    "list4 = [hjd_dup1, hjd_dup2, hjd_dup3, hjd_dup4, hjd_dup5, hjd_dup6, hjd_dup7]\n",
    "hjd_d = pd.concat(list4)"
   ]
  },
  {
   "cell_type": "code",
   "execution_count": 71,
   "id": "ad9ff013",
   "metadata": {},
   "outputs": [],
   "source": [
    "hjd.drop(hjd_d.index, inplace=True)"
   ]
  },
  {
   "cell_type": "code",
   "execution_count": 72,
   "id": "8bae1c46",
   "metadata": {},
   "outputs": [],
   "source": [
    "hjd_a=hjd[['BASE_DATE','ADM_DR_CD','geometry','umd']]"
   ]
  },
  {
   "cell_type": "code",
   "execution_count": 73,
   "id": "a7a27d3d",
   "metadata": {},
   "outputs": [],
   "source": [
    "new_hjd=pd.concat([hjd_a, hjd_d])"
   ]
  },
  {
   "cell_type": "code",
   "execution_count": 74,
   "id": "6c41ac2e",
   "metadata": {},
   "outputs": [],
   "source": [
    "new_hjd=new_hjd.sort_index()"
   ]
  },
  {
   "cell_type": "code",
   "execution_count": 75,
   "id": "60f308ed",
   "metadata": {},
   "outputs": [],
   "source": [
    "new_hjd.to_csv('new_hjd.csv', index=False)"
   ]
  },
  {
   "cell_type": "code",
   "execution_count": 76,
   "id": "e2f82044",
   "metadata": {},
   "outputs": [],
   "source": [
    "sst_20110709=new_sst[new_sst['date']== 20110709]\n",
    "sst_20120917=new_sst[new_sst['date']== 20120917]\n",
    "sst_20191003=new_sst[new_sst['date']== 20191003]\n",
    "sst_20140825=new_sst[new_sst['date']== 20140825]\n",
    "sst_20161005=new_sst[new_sst['date']== 20161005]\n",
    "sst_20110808=new_sst[new_sst['date']== 20110808]\n",
    "sst_20181006=new_sst[new_sst['date']== 20181006]   \n",
    "sst_20180826=new_sst[new_sst['date']== 20180826]         \n",
    "sst_20191002=new_sst[new_sst['date']== 20191002] \n",
    "sst_20190720=new_sst[new_sst['date']== 20190720] \n",
    "sst_20180703=new_sst[new_sst['date']== 20180703]  "
   ]
  },
  {
   "cell_type": "code",
   "execution_count": 77,
   "id": "58a9865e",
   "metadata": {},
   "outputs": [],
   "source": [
    "hjd_sst1 = pd.merge(sst_20110709,new_hjd, on=['umd'], how='right')\n",
    "hjd_sst2 = pd.merge(sst_20120917,new_hjd, on=['umd'], how='right')\n",
    "hjd_sst3 = pd.merge(sst_20191003,new_hjd, on=['umd'], how='right')\n",
    "hjd_sst4 = pd.merge(sst_20140825,new_hjd, on=['umd'], how='right')\n",
    "hjd_sst5 = pd.merge(sst_20161005,new_hjd, on=['umd'], how='right')\n",
    "hjd_sst6 = pd.merge(sst_20110808,new_hjd, on=['umd'], how='right')\n",
    "hjd_sst7 = pd.merge(sst_20181006,new_hjd, on=['umd'], how='right')\n",
    "hjd_sst8 = pd.merge(sst_20180826,new_hjd, on=['umd'], how='right')\n",
    "hjd_sst9 = pd.merge(sst_20191002,new_hjd, on=['umd'], how='right')\n",
    "hjd_sst10 = pd.merge(sst_20190720,new_hjd, on=['umd'], how='right')\n",
    "hjd_sst11 = pd.merge(sst_20180703,new_hjd, on=['umd'], how='right')"
   ]
  },
  {
   "cell_type": "code",
   "execution_count": 78,
   "id": "16eccb7c",
   "metadata": {},
   "outputs": [],
   "source": [
    "hjd_sst1['date']=hjd_sst1['date'].fillna(20110709)\n",
    "hjd_sst2['date']=hjd_sst2['date'].fillna(20120917)\n",
    "hjd_sst3['date']=hjd_sst3['date'].fillna(20191003)\n",
    "hjd_sst4['date']=hjd_sst4['date'].fillna(20140825)\n",
    "hjd_sst5['date']=hjd_sst5['date'].fillna(20161005)\n",
    "hjd_sst6['date']=hjd_sst6['date'].fillna(20110808)\n",
    "hjd_sst7['date']=hjd_sst7['date'].fillna(20181006)\n",
    "hjd_sst8['date']=hjd_sst8['date'].fillna(20180826)\n",
    "hjd_sst9['date']=hjd_sst9['date'].fillna(20191002)\n",
    "hjd_sst10['date']=hjd_sst10['date'].fillna(20190720)\n",
    "hjd_sst11['date']=hjd_sst11['date'].fillna(20180703)"
   ]
  },
  {
   "cell_type": "code",
   "execution_count": 79,
   "id": "703edb08",
   "metadata": {},
   "outputs": [],
   "source": [
    "abc = [hjd_sst1, hjd_sst2, hjd_sst3, hjd_sst4, hjd_sst5, hjd_sst6, hjd_sst7, hjd_sst8, hjd_sst9, hjd_sst10, hjd_sst11]\n",
    "new_hjdsst = pd.concat(abc)\n",
    "new_hjdsst = new_hjdsst"
   ]
  },
  {
   "cell_type": "code",
   "execution_count": 80,
   "id": "401f3f5f",
   "metadata": {},
   "outputs": [],
   "source": [
    "import numpy as np\n",
    "t = [(new_hjdsst['sum_cnt']== 0), (new_hjdsst['sum_cnt'] > 0)]\n",
    "choice = [0,1]\n",
    "new_hjdsst['target'] = np.select(t, choice)"
   ]
  },
  {
   "cell_type": "code",
   "execution_count": 81,
   "id": "b5be9bdf",
   "metadata": {},
   "outputs": [],
   "source": [
    "gdf = gpd.GeoDataFrame(new_hjdsst, geometry=new_hjdsst.geometry)"
   ]
  },
  {
   "cell_type": "code",
   "execution_count": 82,
   "id": "6b37074f",
   "metadata": {},
   "outputs": [
    {
     "name": "stderr",
     "output_type": "stream",
     "text": [
      "C:\\ProgramData\\Anaconda3\\lib\\site-packages\\pyproj\\crs\\crs.py:53: FutureWarning: '+init=<authority>:<code>' syntax is deprecated. '<authority>:<code>' is the preferred initialization method. When making the change, be mindful of axis order changes: https://pyproj4.github.io/pyproj/stable/gotchas.html#axis-order-changes-in-proj-6\n",
      "  return _prepare_from_string(\" \".join(pjargs))\n"
     ]
    }
   ],
   "source": [
    "gdf.crs = {'init':'epsg:5179'}"
   ]
  },
  {
   "cell_type": "code",
   "execution_count": 83,
   "id": "ea4de7e7",
   "metadata": {},
   "outputs": [],
   "source": [
    "toyang_imsang.drop(['index_right'], inplace=True, axis=1)"
   ]
  },
  {
   "cell_type": "code",
   "execution_count": 84,
   "id": "6d086f6d",
   "metadata": {},
   "outputs": [
    {
     "name": "stderr",
     "output_type": "stream",
     "text": [
      "<ipython-input-84-cd854c50c1ed>:1: UserWarning: CRS mismatch between the CRS of left geometries and the CRS of right geometries.\n",
      "Use `to_crs()` to reproject one of the input geometries to match the CRS of the other.\n",
      "\n",
      "Left CRS: EPSG:5179\n",
      "Right CRS: +init=epsg:5179 +type=crs\n",
      "\n",
      "  df_ti=gpd.sjoin(toyang_imsang , gdf, op='within' )\n"
     ]
    }
   ],
   "source": [
    "df_ti=gpd.sjoin(toyang_imsang , gdf, op='within' )"
   ]
  },
  {
   "cell_type": "code",
   "execution_count": 85,
   "id": "7706fba2",
   "metadata": {},
   "outputs": [],
   "source": [
    "data=df_ti.drop(['ETC_PCMTT', 'sd', 'sgg', 'sum_cnt', 'sum_hpa', 'name'], axis=1)"
   ]
  },
  {
   "cell_type": "code",
   "execution_count": 86,
   "id": "0b08dfb4",
   "metadata": {},
   "outputs": [],
   "source": [
    "data_1=data.drop(['LDMARK_STN_left', 'MAP_LABEL_left','MAP_LABEL_right','index_right', 'BASE_DATE','ADM_DR_CD', 'geometry','OBJ_ID'], axis=1)"
   ]
  },
  {
   "cell_type": "code",
   "execution_count": 87,
   "id": "0a8d829b",
   "metadata": {},
   "outputs": [],
   "source": [
    "data_0=data_1.drop(['LDMARK_STN_right'], axis=1)"
   ]
  },
  {
   "cell_type": "code",
   "execution_count": 88,
   "id": "419ad5bc",
   "metadata": {},
   "outputs": [],
   "source": [
    "data_0=data_0[['date','umd','STORUNST','FROR_CD','FRTP_CD','KOFTR_GROU','DMCLS_CD','AGCLS_CD','DNST_CD','HEIGHT','PRRCK_LARG','PRRCK_MDDL','LOCTN_ALTT','LOCTN_GRDN','EIGHT_AGL','CLZN_CD','TPGRP_TPCD','PRDN_FOM_C','SLANT_TYP','SLDPT_TPCD','SCSTX_CD','SLTP_CD','target']]"
   ]
  },
  {
   "cell_type": "code",
   "execution_count": 89,
   "id": "cbe29124",
   "metadata": {},
   "outputs": [
    {
     "name": "stderr",
     "output_type": "stream",
     "text": [
      "<ipython-input-89-a9b329dde7cf>:2: UserWarning: CRS mismatch between the CRS of left geometries and the CRS of right geometries.\n",
      "Use `to_crs()` to reproject one of the input geometries to match the CRS of the other.\n",
      "\n",
      "Left CRS: EPSG:5179\n",
      "Right CRS: +init=epsg:5179 +type=crs\n",
      "\n",
      "  new_gdf1=gpd.sjoin(new_imsang, gdf, op='within')\n"
     ]
    }
   ],
   "source": [
    "# 12지역 대체\n",
    "new_gdf1=gpd.sjoin(new_imsang, gdf, op='within')"
   ]
  },
  {
   "cell_type": "code",
   "execution_count": 90,
   "id": "8caa1233",
   "metadata": {},
   "outputs": [
    {
     "name": "stderr",
     "output_type": "stream",
     "text": [
      "<ipython-input-90-76d2bd95b9fe>:1: UserWarning: CRS mismatch between the CRS of left geometries and the CRS of right geometries.\n",
      "Use `to_crs()` to reproject one of the input geometries to match the CRS of the other.\n",
      "\n",
      "Left CRS: EPSG:5179\n",
      "Right CRS: +init=epsg:5179 +type=crs\n",
      "\n",
      "  new_gdf2=gpd.sjoin(toyang, gdf, op='within')\n"
     ]
    }
   ],
   "source": [
    "new_gdf2=gpd.sjoin(toyang, gdf, op='within')"
   ]
  },
  {
   "cell_type": "code",
   "execution_count": 91,
   "id": "134cad56",
   "metadata": {},
   "outputs": [],
   "source": [
    "# 사파동/, 상봉동/,  대송면/, 평화남산동/, 자산동1/, 불암동/ \n",
    "is_사파동=new_gdf1[new_gdf1['umd']== '사파동']\n",
    "is_상봉동=new_gdf1[new_gdf1['umd']== '상봉동']\n",
    "is_대송면=new_gdf1[new_gdf1['umd']== '대송면']\n",
    "is_평화남산동=new_gdf1[new_gdf1['umd']== '평화남산동']\n",
    "is_자산동1=new_gdf1[new_gdf1['umd']== '자산동1']\n",
    "is_불암동=new_gdf1[new_gdf1['umd']== '불암동']"
   ]
  },
  {
   "cell_type": "code",
   "execution_count": 92,
   "id": "d64f2f05",
   "metadata": {},
   "outputs": [],
   "source": [
    "ty_사파동=new_gdf2[new_gdf2['umd']== '사파동']\n",
    "ty_상봉동=new_gdf2[new_gdf2['umd']== '상봉동']\n",
    "ty_대송면=new_gdf2[new_gdf2['umd']== '대송면']\n",
    "ty_평화남산동=new_gdf2[new_gdf2['umd']== '평화남산동']\n",
    "ty_자산동1=new_gdf2[new_gdf2['umd']== '자산동1']\n",
    "ty_불암동=new_gdf2[new_gdf2['umd']== '불암동']"
   ]
  },
  {
   "cell_type": "code",
   "execution_count": 93,
   "id": "65cbfe6e",
   "metadata": {},
   "outputs": [],
   "source": [
    "## 임상도\n",
    "# 범주형\n",
    "is_사파동=is_사파동[['umd','STORUNST', 'FROR_CD','FRTP_CD','KOFTR_GROU','DMCLS_CD','AGCLS_CD','DNST_CD','HEIGHT']]\n",
    "is_상봉동=is_상봉동[['umd','STORUNST', 'FROR_CD','FRTP_CD','KOFTR_GROU','DMCLS_CD','AGCLS_CD','DNST_CD','HEIGHT']]\n",
    "is_대송면=is_대송면[['umd','STORUNST', 'FROR_CD','FRTP_CD','KOFTR_GROU','DMCLS_CD','AGCLS_CD','DNST_CD','HEIGHT']]\n",
    "is_평화남산동=is_평화남산동[['umd','STORUNST', 'FROR_CD','FRTP_CD','KOFTR_GROU','DMCLS_CD','AGCLS_CD','DNST_CD','HEIGHT']]\n",
    "is_자산동1=is_자산동1[['umd','STORUNST', 'FROR_CD','FRTP_CD','KOFTR_GROU','DMCLS_CD','AGCLS_CD','DNST_CD','HEIGHT']]\n",
    "is_불암동=is_불암동[['umd','STORUNST', 'FROR_CD','FRTP_CD','KOFTR_GROU','DMCLS_CD','AGCLS_CD','DNST_CD','HEIGHT']]\n",
    "# 연속형\n",
    "#임상엔 연속형 없음\n",
    "\n",
    "## 토양도\n",
    "#범주형\n",
    "ty_사파동1=ty_사파동[['umd','PRRCK_LARG','PRRCK_MDDL','CLZN_CD','TPGRP_TPCD','PRDN_FOM_C','SLANT_TYP','SLDPT_TPCD','SCSTX_CD','SLTP_CD']]\n",
    "ty_상봉동1=ty_상봉동[['umd','PRRCK_LARG','PRRCK_MDDL','CLZN_CD','TPGRP_TPCD','PRDN_FOM_C','SLANT_TYP','SLDPT_TPCD','SCSTX_CD','SLTP_CD']]\n",
    "ty_대송면1=ty_대송면[['umd','PRRCK_LARG','PRRCK_MDDL','CLZN_CD','TPGRP_TPCD','PRDN_FOM_C','SLANT_TYP','SLDPT_TPCD','SCSTX_CD','SLTP_CD']]\n",
    "ty_평화남산동1=ty_평화남산동[['umd','PRRCK_LARG','PRRCK_MDDL','CLZN_CD','TPGRP_TPCD','PRDN_FOM_C','SLANT_TYP','SLDPT_TPCD','SCSTX_CD','SLTP_CD']]\n",
    "ty_자산동11=ty_자산동1[['umd','PRRCK_LARG','PRRCK_MDDL','CLZN_CD','TPGRP_TPCD','PRDN_FOM_C','SLANT_TYP','SLDPT_TPCD','SCSTX_CD','SLTP_CD']]\n",
    "ty_불암동1=ty_불암동[['umd','PRRCK_LARG','PRRCK_MDDL','CLZN_CD','TPGRP_TPCD','PRDN_FOM_C','SLANT_TYP','SLDPT_TPCD','SCSTX_CD','SLTP_CD']]\n",
    "#연속형\n",
    "ty_사파동2=ty_사파동[['umd','LOCTN_ALTT','LOCTN_GRDN','EIGHT_AGL']]\n",
    "ty_상봉동2=ty_상봉동[['umd','LOCTN_ALTT','LOCTN_GRDN','EIGHT_AGL']]\n",
    "ty_대송면2=ty_대송면[['umd','LOCTN_ALTT','LOCTN_GRDN','EIGHT_AGL']]\n",
    "ty_평화남산동2=ty_평화남산동[['umd','LOCTN_ALTT','LOCTN_GRDN','EIGHT_AGL']]\n",
    "ty_자산동12=ty_자산동1[['umd','LOCTN_ALTT','LOCTN_GRDN','EIGHT_AGL']]\n",
    "ty_불암동2=ty_불암동[['umd','LOCTN_ALTT','LOCTN_GRDN','EIGHT_AGL']]"
   ]
  },
  {
   "cell_type": "code",
   "execution_count": 94,
   "id": "e0e06d73",
   "metadata": {},
   "outputs": [],
   "source": [
    "is_사파동=is_사파동.mode()\n",
    "is_상봉동=is_상봉동.mode()\n",
    "is_대송면=is_대송면.mode()\n",
    "is_평화남산동=is_평화남산동.mode()\n",
    "is_자산동1=is_자산동1.mode()\n",
    "is_불암동=is_불암동.mode()"
   ]
  },
  {
   "cell_type": "code",
   "execution_count": 95,
   "id": "00c85eb0",
   "metadata": {},
   "outputs": [],
   "source": [
    "ty_사파동1=ty_사파동1.mode()\n",
    "ty_상봉동1=ty_상봉동1.mode()\n",
    "ty_대송면1=ty_대송면1.mode()\n",
    "ty_평화남산동1=ty_평화남산동1.mode()\n",
    "ty_자산동11=ty_자산동11.mode()\n",
    "ty_불암동1=ty_불암동1.mode()"
   ]
  },
  {
   "cell_type": "code",
   "execution_count": 96,
   "id": "07087b06",
   "metadata": {},
   "outputs": [],
   "source": [
    "ty_사파동2=ty_사파동2.groupby(['umd']).median()\n",
    "ty_사파동2=ty_사파동2.reset_index()\n",
    "ty_상봉동2=ty_상봉동2.groupby(['umd']).median()\n",
    "ty_상봉동2=ty_상봉동2.reset_index()\n",
    "ty_대송면2=ty_대송면2.groupby(['umd']).median()\n",
    "ty_대송면2=ty_대송면2.reset_index()\n",
    "ty_평화남산동2=ty_평화남산동2.groupby(['umd']).median()\n",
    "ty_평화남산동2=ty_평화남산동2.reset_index()\n",
    "ty_자산동12=ty_자산동12.groupby(['umd']).median()\n",
    "ty_자산동12=ty_자산동12.reset_index()\n",
    "ty_불암동2=ty_불암동2.groupby(['umd']).median()\n",
    "ty_불암동2=ty_불암동2.reset_index()"
   ]
  },
  {
   "cell_type": "code",
   "execution_count": 97,
   "id": "f333879d",
   "metadata": {},
   "outputs": [],
   "source": [
    "사파동=pd.merge(is_사파동, ty_사파동1, on=['umd'], how='inner')\n",
    "사파동=pd.merge(사파동, ty_사파동2, on=['umd'], how='inner')\n",
    "\n",
    "상봉동=pd.merge(is_상봉동, ty_상봉동1, on=['umd'], how='inner')\n",
    "상봉동=pd.merge(상봉동, ty_상봉동2, on=['umd'], how='inner')\n",
    "\n",
    "대송면=pd.merge(is_대송면, ty_대송면1, on=['umd'], how='inner')\n",
    "대송면=pd.merge(대송면, ty_대송면2, on=['umd'], how='inner')\n",
    "\n",
    "평화남산동=pd.merge(is_평화남산동, ty_평화남산동1, on=['umd'], how='inner')\n",
    "평화남산동=pd.merge(평화남산동, ty_평화남산동2, on=['umd'], how='inner')\n",
    "\n",
    "자산동=pd.merge(is_자산동1, ty_자산동11, on=['umd'], how='inner')\n",
    "자산동=pd.merge(자산동, ty_자산동12, on=['umd'], how='inner')\n",
    "\n",
    "불암동=pd.merge(is_불암동, ty_불암동1, on=['umd'], how='inner')\n",
    "불암동=pd.merge(불암동, ty_불암동2, on=['umd'], how='inner')"
   ]
  },
  {
   "cell_type": "code",
   "execution_count": 98,
   "id": "384fd3fe",
   "metadata": {},
   "outputs": [],
   "source": [
    "n_data1=pd.concat([사파동, 상봉동, 대송면, 평화남산동, 자산동, 불암동])"
   ]
  },
  {
   "cell_type": "code",
   "execution_count": 99,
   "id": "f6c3312c",
   "metadata": {},
   "outputs": [],
   "source": [
    "#북면1, 감포읍, 제철동, 양북면, 울릉읍, 장기면 \n",
    "is_북면1=new_gdf1[new_gdf1['umd']== '북면1']\n",
    "is_감포읍=new_gdf1[new_gdf1['umd']== '감포읍']\n",
    "is_제철동=new_gdf1[new_gdf1['umd']== '제철동']\n",
    "is_양북면=new_gdf1[new_gdf1['umd']== '양북면']\n",
    "is_울릉읍=new_gdf1[new_gdf1['umd']== '울릉읍']\n",
    "is_장기면=new_gdf1[new_gdf1['umd']== '장기면']"
   ]
  },
  {
   "cell_type": "code",
   "execution_count": 100,
   "id": "aa834041",
   "metadata": {},
   "outputs": [],
   "source": [
    "is_북면1=is_북면1[['umd','STORUNST', 'FROR_CD','FRTP_CD','KOFTR_GROU','DMCLS_CD','AGCLS_CD','DNST_CD','HEIGHT']]\n",
    "is_감포읍=is_감포읍[['umd','STORUNST', 'FROR_CD','FRTP_CD','KOFTR_GROU','DMCLS_CD','AGCLS_CD','DNST_CD','HEIGHT']]\n",
    "is_제철동=is_제철동[['umd','STORUNST', 'FROR_CD','FRTP_CD','KOFTR_GROU','DMCLS_CD','AGCLS_CD','DNST_CD','HEIGHT']]\n",
    "is_양북면=is_양북면[['umd','STORUNST', 'FROR_CD','FRTP_CD','KOFTR_GROU','DMCLS_CD','AGCLS_CD','DNST_CD','HEIGHT']]\n",
    "is_울릉읍=is_울릉읍[['umd','STORUNST', 'FROR_CD','FRTP_CD','KOFTR_GROU','DMCLS_CD','AGCLS_CD','DNST_CD','HEIGHT']]\n",
    "is_장기면=is_장기면[['umd','STORUNST', 'FROR_CD','FRTP_CD','KOFTR_GROU','DMCLS_CD','AGCLS_CD','DNST_CD','HEIGHT']]"
   ]
  },
  {
   "cell_type": "code",
   "execution_count": 101,
   "id": "a6cd169f",
   "metadata": {},
   "outputs": [],
   "source": [
    "is_북면1=is_북면1.mode()\n",
    "is_감포읍=is_감포읍.mode()\n",
    "is_제철동=is_제철동.mode()\n",
    "is_양북면=is_양북면.mode()\n",
    "is_울릉읍=is_울릉읍.mode()\n",
    "is_장기면=is_장기면.mode()"
   ]
  },
  {
   "cell_type": "code",
   "execution_count": 102,
   "id": "a82d29fa",
   "metadata": {},
   "outputs": [],
   "source": [
    "# KOFTR_GROU, DMCLS_CD HEIGHT DNST_CD\n",
    "def black(a, b, c, d, e):\n",
    "    bb=toyang_imsang[toyang_imsang['KOFTR_GROU'] == a]\n",
    "    cc=bb[bb['DMCLS_CD'] == b]\n",
    "    dd=cc[cc['DNST_CD'] == c]\n",
    "    ff=dd[dd['HEIGHT'] == d]\n",
    "    ff['umd'] = e\n",
    "    ff=ff[['umd','PRRCK_LARG','PRRCK_MDDL','CLZN_CD','TPGRP_TPCD','PRDN_FOM_C','SLANT_TYP','SLDPT_TPCD','SCSTX_CD','SLTP_CD']]\n",
    "    return ff"
   ]
  },
  {
   "cell_type": "code",
   "execution_count": 103,
   "id": "a758452e",
   "metadata": {},
   "outputs": [],
   "source": [
    "def pink(a, b, c, d, e):\n",
    "    bb=toyang_imsang[toyang_imsang['KOFTR_GROU'] == a]\n",
    "    cc=bb[bb['DMCLS_CD'] == b]\n",
    "    dd=cc[cc['DNST_CD'] == c]\n",
    "    ff=dd[dd['HEIGHT'] == d]\n",
    "    ff['umd'] = e\n",
    "    ff=ff[['umd', 'LOCTN_ALTT','LOCTN_GRDN','EIGHT_AGL']] \n",
    "    return ff"
   ]
  },
  {
   "cell_type": "code",
   "execution_count": 104,
   "id": "fbe7d7e5",
   "metadata": {},
   "outputs": [
    {
     "name": "stderr",
     "output_type": "stream",
     "text": [
      "C:\\ProgramData\\Anaconda3\\lib\\site-packages\\geopandas\\geodataframe.py:1322: SettingWithCopyWarning: \n",
      "A value is trying to be set on a copy of a slice from a DataFrame.\n",
      "Try using .loc[row_indexer,col_indexer] = value instead\n",
      "\n",
      "See the caveats in the documentation: https://pandas.pydata.org/pandas-docs/stable/user_guide/indexing.html#returning-a-view-versus-a-copy\n",
      "  super(GeoDataFrame, self).__setitem__(key, value)\n"
     ]
    }
   ],
   "source": [
    "ty_북면11=black('30', '4', 'C', '16', '북면1')\n",
    "ty_북면12=pink('30', '4', 'C', '16', '북면1')\n",
    "ty_감포읍1=black('11', '4', 'C', '14', '감포읍')\n",
    "ty_감포읍2=pink('11', '4', 'C', '14', '감포읍')\n",
    "ty_제철동1=black('30', '3', 'C', '12', '제철동')\n",
    "ty_제철동2=pink('30', '3', 'C', '12', '제철동')\n",
    "ty_양북면1=black('30', '4', 'C', '14', '양북면')\n",
    "ty_양북면2=pink('30', '4', 'C', '14', '양북면')\n",
    "ty_울릉읍1=black('30', '4', 'C', '00', '울릉읍')\n",
    "ty_울릉읍2=pink('30', '4', 'C', '00', '울릉읍')\n",
    "ty_장기면1=black('30', '4', 'C', '14', '장기면')\n",
    "ty_장기면2=pink('30', '4', 'C', '14', '장기면')"
   ]
  },
  {
   "cell_type": "code",
   "execution_count": 105,
   "id": "51003314",
   "metadata": {},
   "outputs": [],
   "source": [
    "ty_북면11=ty_북면11.mode().dropna()\n",
    "ty_감포읍1=ty_감포읍1.mode()\n",
    "ty_제철동1=ty_제철동1.mode()\n",
    "ty_양북면1=ty_양북면1.mode()\n",
    "ty_울릉읍1=ty_울릉읍1.mode()\n",
    "ty_장기면1=ty_장기면1.mode()"
   ]
  },
  {
   "cell_type": "code",
   "execution_count": 106,
   "id": "6f387eba",
   "metadata": {},
   "outputs": [],
   "source": [
    "ty_북면12=ty_북면12.groupby(['umd']).median()\n",
    "ty_북면12=ty_북면12.reset_index()\n",
    "ty_감포읍2=ty_감포읍2.groupby(['umd']).median()\n",
    "ty_감포읍2=ty_감포읍2.reset_index()\n",
    "ty_제철동2=ty_제철동2.groupby(['umd']).median()\n",
    "ty_제철동2=ty_제철동2.reset_index()\n",
    "ty_양북면2=ty_양북면2.groupby(['umd']).median()\n",
    "ty_양북면2=ty_양북면2.reset_index()\n",
    "ty_울릉읍2=ty_울릉읍2.groupby(['umd']).median()\n",
    "ty_울릉읍2=ty_울릉읍2.reset_index()\n",
    "ty_장기면2=ty_장기면2.groupby(['umd']).median()\n",
    "ty_장기면2=ty_장기면2.reset_index()"
   ]
  },
  {
   "cell_type": "code",
   "execution_count": 107,
   "id": "9ac4d4f6",
   "metadata": {},
   "outputs": [],
   "source": [
    "북면1=pd.merge(is_북면1, ty_북면11, on=['umd'], how='inner')\n",
    "북면1=pd.merge(북면1, ty_북면12, on=['umd'], how='inner')\n",
    "\n",
    "감포읍=pd.merge(is_감포읍, ty_감포읍1, on=['umd'], how='inner')\n",
    "감포읍=pd.merge(감포읍, ty_감포읍2, on=['umd'], how='inner')\n",
    "\n",
    "제철동=pd.merge(is_제철동, ty_제철동1, on=['umd'], how='inner')\n",
    "제철동=pd.merge(제철동, ty_제철동2, on=['umd'], how='inner')\n",
    "\n",
    "양북면=pd.merge(is_양북면, ty_양북면1, on=['umd'], how='inner')\n",
    "양북면=pd.merge(양북면, ty_양북면2, on=['umd'], how='inner')\n",
    "\n",
    "울릉읍=pd.merge(is_울릉읍, ty_울릉읍1, on=['umd'], how='inner')\n",
    "울릉읍=pd.merge(울릉읍, ty_울릉읍2, on=['umd'], how='inner')\n",
    "\n",
    "장기면=pd.merge(is_장기면, ty_장기면1, on=['umd'], how='inner')\n",
    "장기면=pd.merge(장기면, ty_장기면2, on=['umd'], how='inner')"
   ]
  },
  {
   "cell_type": "code",
   "execution_count": 108,
   "id": "13ace3b2",
   "metadata": {},
   "outputs": [],
   "source": [
    "n_data2=pd.concat([북면1, 감포읍, 제철동, 양북면, 울릉읍, 장기면])"
   ]
  },
  {
   "cell_type": "code",
   "execution_count": 109,
   "id": "40a1095c",
   "metadata": {},
   "outputs": [],
   "source": [
    "n_data=pd.concat([n_data1, n_data2])"
   ]
  },
  {
   "cell_type": "code",
   "execution_count": 110,
   "id": "7d85466f",
   "metadata": {},
   "outputs": [],
   "source": [
    "n_data['date'] = 20110709\n",
    "n_data_2= n_data.replace({'date': 20110709}, {'date': 20110808})\n",
    "n_data_3= n_data_2.replace({'date': 20110808}, {'date': 20120917})\n",
    "n_data_4= n_data_3.replace({'date': 20120917}, {'date': 20140825})\n",
    "n_data_5= n_data_4.replace({'date': 20140825}, {'date': 20161005})\n",
    "n_data_6= n_data_5.replace({'date': 20161005}, {'date': 20180703})\n",
    "n_data_7= n_data_6.replace({'date': 20180703}, {'date': 20180826})\n",
    "n_data_8= n_data_7.replace({'date': 20180826}, {'date': 20181006})\n",
    "n_data_9= n_data_8.replace({'date': 20181006}, {'date': 20190720})\n",
    "n_data_10= n_data_9.replace({'date': 20190720}, {'date': 20191002})\n",
    "n_data_11= n_data_10.replace({'date': 20191002}, {'date': 20191003})\n",
    "\n",
    "nn =pd.concat([n_data, n_data_2, n_data_3, n_data_4, n_data_5, n_data_6, n_data_7, n_data_8, n_data_9, n_data_10, n_data_11])\n"
   ]
  },
  {
   "cell_type": "code",
   "execution_count": 111,
   "id": "09385c9b",
   "metadata": {},
   "outputs": [],
   "source": [
    "ts = [(new_sst['sum_cnt']== 0), (new_sst['sum_cnt'] > 0)]\n",
    "choices = [0,1]\n",
    "new_sst['target'] = np.select(ts, choices)"
   ]
  },
  {
   "cell_type": "code",
   "execution_count": 112,
   "id": "6628fec6",
   "metadata": {},
   "outputs": [],
   "source": [
    "new_sstsst=new_sst[['date','umd', 'target']]"
   ]
  },
  {
   "cell_type": "code",
   "execution_count": 113,
   "id": "f76f805e",
   "metadata": {},
   "outputs": [],
   "source": [
    "nn=pd.merge(nn, new_sstsst, on=['date', 'umd'], how='left')"
   ]
  },
  {
   "cell_type": "code",
   "execution_count": 114,
   "id": "27e98f3f",
   "metadata": {},
   "outputs": [],
   "source": [
    "nn=nn.fillna(0)"
   ]
  },
  {
   "cell_type": "code",
   "execution_count": 115,
   "id": "13a10e40",
   "metadata": {},
   "outputs": [],
   "source": [
    "nn=nn[['date','umd', 'STORUNST','FROR_CD', 'FRTP_CD', 'KOFTR_GROU', 'DMCLS_CD', 'AGCLS_CD', 'DNST_CD', 'HEIGHT', 'PRRCK_LARG', 'PRRCK_MDDL','LOCTN_ALTT', 'LOCTN_GRDN','EIGHT_AGL', 'CLZN_CD', 'TPGRP_TPCD' , 'PRDN_FOM_C', 'SLANT_TYP', 'SLDPT_TPCD', 'SCSTX_CD', 'SLTP_CD', 'target']]"
   ]
  },
  {
   "cell_type": "code",
   "execution_count": 116,
   "id": "964cf199",
   "metadata": {},
   "outputs": [],
   "source": [
    "w_train=pd.concat([data_0, nn])"
   ]
  },
  {
   "cell_type": "code",
   "execution_count": 117,
   "id": "f101bb2a",
   "metadata": {},
   "outputs": [],
   "source": [
    "w_train_o=w_train[['date','umd', 'STORUNST','FROR_CD', 'FRTP_CD', 'KOFTR_GROU', 'DMCLS_CD', 'AGCLS_CD', 'DNST_CD', 'HEIGHT', 'PRRCK_LARG', 'PRRCK_MDDL', 'CLZN_CD', 'TPGRP_TPCD' , 'PRDN_FOM_C', 'SLANT_TYP', 'SLDPT_TPCD', 'SCSTX_CD', 'SLTP_CD']]"
   ]
  },
  {
   "cell_type": "code",
   "execution_count": 118,
   "id": "b0a4d674",
   "metadata": {},
   "outputs": [],
   "source": [
    "w_train_f=w_train[['date','umd','LOCTN_ALTT', 'LOCTN_GRDN','EIGHT_AGL']]"
   ]
  },
  {
   "cell_type": "code",
   "execution_count": 119,
   "id": "adca7240",
   "metadata": {},
   "outputs": [],
   "source": [
    "w_train_target= w_train[['date','umd','target']]"
   ]
  },
  {
   "cell_type": "code",
   "execution_count": 120,
   "id": "fb689e3f",
   "metadata": {},
   "outputs": [],
   "source": [
    "a=w_train_o.groupby(['umd', 'date']).agg(lambda x: x.value_counts().index[0]).reset_index()"
   ]
  },
  {
   "cell_type": "code",
   "execution_count": 121,
   "id": "d3e16236",
   "metadata": {},
   "outputs": [
    {
     "data": {
      "text/html": [
       "<div>\n",
       "<style scoped>\n",
       "    .dataframe tbody tr th:only-of-type {\n",
       "        vertical-align: middle;\n",
       "    }\n",
       "\n",
       "    .dataframe tbody tr th {\n",
       "        vertical-align: top;\n",
       "    }\n",
       "\n",
       "    .dataframe thead th {\n",
       "        text-align: right;\n",
       "    }\n",
       "</style>\n",
       "<table border=\"1\" class=\"dataframe\">\n",
       "  <thead>\n",
       "    <tr style=\"text-align: right;\">\n",
       "      <th></th>\n",
       "      <th>umd</th>\n",
       "      <th>date</th>\n",
       "      <th>LOCTN_ALTT</th>\n",
       "      <th>LOCTN_GRDN</th>\n",
       "      <th>EIGHT_AGL</th>\n",
       "    </tr>\n",
       "  </thead>\n",
       "  <tbody>\n",
       "    <tr>\n",
       "      <th>0</th>\n",
       "      <td>가곡동</td>\n",
       "      <td>20110709.0</td>\n",
       "      <td>100.760000</td>\n",
       "      <td>26.320000</td>\n",
       "      <td>252.460000</td>\n",
       "    </tr>\n",
       "    <tr>\n",
       "      <th>1</th>\n",
       "      <td>가곡동</td>\n",
       "      <td>20110808.0</td>\n",
       "      <td>100.760000</td>\n",
       "      <td>26.320000</td>\n",
       "      <td>252.460000</td>\n",
       "    </tr>\n",
       "    <tr>\n",
       "      <th>2</th>\n",
       "      <td>가곡동</td>\n",
       "      <td>20120917.0</td>\n",
       "      <td>100.760000</td>\n",
       "      <td>26.320000</td>\n",
       "      <td>252.460000</td>\n",
       "    </tr>\n",
       "    <tr>\n",
       "      <th>3</th>\n",
       "      <td>가곡동</td>\n",
       "      <td>20140825.0</td>\n",
       "      <td>100.760000</td>\n",
       "      <td>26.320000</td>\n",
       "      <td>252.460000</td>\n",
       "    </tr>\n",
       "    <tr>\n",
       "      <th>4</th>\n",
       "      <td>가곡동</td>\n",
       "      <td>20161005.0</td>\n",
       "      <td>100.760000</td>\n",
       "      <td>26.320000</td>\n",
       "      <td>252.460000</td>\n",
       "    </tr>\n",
       "    <tr>\n",
       "      <th>...</th>\n",
       "      <td>...</td>\n",
       "      <td>...</td>\n",
       "      <td>...</td>\n",
       "      <td>...</td>\n",
       "      <td>...</td>\n",
       "    </tr>\n",
       "    <tr>\n",
       "      <th>6188</th>\n",
       "      <td>흥해읍</td>\n",
       "      <td>20180826.0</td>\n",
       "      <td>83.899083</td>\n",
       "      <td>16.133945</td>\n",
       "      <td>177.488991</td>\n",
       "    </tr>\n",
       "    <tr>\n",
       "      <th>6189</th>\n",
       "      <td>흥해읍</td>\n",
       "      <td>20181006.0</td>\n",
       "      <td>83.899083</td>\n",
       "      <td>16.133945</td>\n",
       "      <td>177.488991</td>\n",
       "    </tr>\n",
       "    <tr>\n",
       "      <th>6190</th>\n",
       "      <td>흥해읍</td>\n",
       "      <td>20190720.0</td>\n",
       "      <td>83.899083</td>\n",
       "      <td>16.133945</td>\n",
       "      <td>177.488991</td>\n",
       "    </tr>\n",
       "    <tr>\n",
       "      <th>6191</th>\n",
       "      <td>흥해읍</td>\n",
       "      <td>20191002.0</td>\n",
       "      <td>83.899083</td>\n",
       "      <td>16.133945</td>\n",
       "      <td>177.488991</td>\n",
       "    </tr>\n",
       "    <tr>\n",
       "      <th>6192</th>\n",
       "      <td>흥해읍</td>\n",
       "      <td>20191003.0</td>\n",
       "      <td>83.899083</td>\n",
       "      <td>16.133945</td>\n",
       "      <td>177.488991</td>\n",
       "    </tr>\n",
       "  </tbody>\n",
       "</table>\n",
       "<p>6193 rows × 5 columns</p>\n",
       "</div>"
      ],
      "text/plain": [
       "      umd        date  LOCTN_ALTT  LOCTN_GRDN   EIGHT_AGL\n",
       "0     가곡동  20110709.0  100.760000   26.320000  252.460000\n",
       "1     가곡동  20110808.0  100.760000   26.320000  252.460000\n",
       "2     가곡동  20120917.0  100.760000   26.320000  252.460000\n",
       "3     가곡동  20140825.0  100.760000   26.320000  252.460000\n",
       "4     가곡동  20161005.0  100.760000   26.320000  252.460000\n",
       "...   ...         ...         ...         ...         ...\n",
       "6188  흥해읍  20180826.0   83.899083   16.133945  177.488991\n",
       "6189  흥해읍  20181006.0   83.899083   16.133945  177.488991\n",
       "6190  흥해읍  20190720.0   83.899083   16.133945  177.488991\n",
       "6191  흥해읍  20191002.0   83.899083   16.133945  177.488991\n",
       "6192  흥해읍  20191003.0   83.899083   16.133945  177.488991\n",
       "\n",
       "[6193 rows x 5 columns]"
      ]
     },
     "execution_count": 121,
     "metadata": {},
     "output_type": "execute_result"
    }
   ],
   "source": [
    "b=w_train_f.groupby(['umd', 'date']).mean().reset_index()\n",
    "b"
   ]
  },
  {
   "cell_type": "code",
   "execution_count": 122,
   "id": "36944755",
   "metadata": {},
   "outputs": [
    {
     "data": {
      "text/html": [
       "<div>\n",
       "<style scoped>\n",
       "    .dataframe tbody tr th:only-of-type {\n",
       "        vertical-align: middle;\n",
       "    }\n",
       "\n",
       "    .dataframe tbody tr th {\n",
       "        vertical-align: top;\n",
       "    }\n",
       "\n",
       "    .dataframe thead th {\n",
       "        text-align: right;\n",
       "    }\n",
       "</style>\n",
       "<table border=\"1\" class=\"dataframe\">\n",
       "  <thead>\n",
       "    <tr style=\"text-align: right;\">\n",
       "      <th></th>\n",
       "      <th>umd</th>\n",
       "      <th>date</th>\n",
       "      <th>target</th>\n",
       "    </tr>\n",
       "  </thead>\n",
       "  <tbody>\n",
       "    <tr>\n",
       "      <th>0</th>\n",
       "      <td>가곡동</td>\n",
       "      <td>20110709.0</td>\n",
       "      <td>0.0</td>\n",
       "    </tr>\n",
       "    <tr>\n",
       "      <th>1</th>\n",
       "      <td>가곡동</td>\n",
       "      <td>20110808.0</td>\n",
       "      <td>0.0</td>\n",
       "    </tr>\n",
       "    <tr>\n",
       "      <th>2</th>\n",
       "      <td>가곡동</td>\n",
       "      <td>20120917.0</td>\n",
       "      <td>0.0</td>\n",
       "    </tr>\n",
       "    <tr>\n",
       "      <th>3</th>\n",
       "      <td>가곡동</td>\n",
       "      <td>20140825.0</td>\n",
       "      <td>0.0</td>\n",
       "    </tr>\n",
       "    <tr>\n",
       "      <th>4</th>\n",
       "      <td>가곡동</td>\n",
       "      <td>20161005.0</td>\n",
       "      <td>0.0</td>\n",
       "    </tr>\n",
       "    <tr>\n",
       "      <th>...</th>\n",
       "      <td>...</td>\n",
       "      <td>...</td>\n",
       "      <td>...</td>\n",
       "    </tr>\n",
       "    <tr>\n",
       "      <th>6188</th>\n",
       "      <td>흥해읍</td>\n",
       "      <td>20180826.0</td>\n",
       "      <td>0.0</td>\n",
       "    </tr>\n",
       "    <tr>\n",
       "      <th>6189</th>\n",
       "      <td>흥해읍</td>\n",
       "      <td>20181006.0</td>\n",
       "      <td>0.0</td>\n",
       "    </tr>\n",
       "    <tr>\n",
       "      <th>6190</th>\n",
       "      <td>흥해읍</td>\n",
       "      <td>20190720.0</td>\n",
       "      <td>0.0</td>\n",
       "    </tr>\n",
       "    <tr>\n",
       "      <th>6191</th>\n",
       "      <td>흥해읍</td>\n",
       "      <td>20191002.0</td>\n",
       "      <td>0.0</td>\n",
       "    </tr>\n",
       "    <tr>\n",
       "      <th>6192</th>\n",
       "      <td>흥해읍</td>\n",
       "      <td>20191003.0</td>\n",
       "      <td>1.0</td>\n",
       "    </tr>\n",
       "  </tbody>\n",
       "</table>\n",
       "<p>6193 rows × 3 columns</p>\n",
       "</div>"
      ],
      "text/plain": [
       "      umd        date  target\n",
       "0     가곡동  20110709.0     0.0\n",
       "1     가곡동  20110808.0     0.0\n",
       "2     가곡동  20120917.0     0.0\n",
       "3     가곡동  20140825.0     0.0\n",
       "4     가곡동  20161005.0     0.0\n",
       "...   ...         ...     ...\n",
       "6188  흥해읍  20180826.0     0.0\n",
       "6189  흥해읍  20181006.0     0.0\n",
       "6190  흥해읍  20190720.0     0.0\n",
       "6191  흥해읍  20191002.0     0.0\n",
       "6192  흥해읍  20191003.0     1.0\n",
       "\n",
       "[6193 rows x 3 columns]"
      ]
     },
     "execution_count": 122,
     "metadata": {},
     "output_type": "execute_result"
    }
   ],
   "source": [
    "c=w_train_target.groupby(['umd', 'date']).max().reset_index()\n",
    "c"
   ]
  },
  {
   "cell_type": "code",
   "execution_count": 123,
   "id": "b44e45a7",
   "metadata": {},
   "outputs": [],
   "source": [
    "w_train_2=pd.merge(a, b, on=['date', 'umd'], how='inner')"
   ]
  },
  {
   "cell_type": "code",
   "execution_count": 124,
   "id": "d1a6b203",
   "metadata": {},
   "outputs": [],
   "source": [
    "w_train_2=pd.merge(w_train_2, c, on=['date', 'umd'], how='inner')"
   ]
  },
  {
   "cell_type": "code",
   "execution_count": 125,
   "id": "0e43c83b",
   "metadata": {},
   "outputs": [],
   "source": [
    "rain_1=rain1.drop(['sd', 'sgg', 'x', 'y'], axis=1)"
   ]
  },
  {
   "cell_type": "code",
   "execution_count": 126,
   "id": "5533d498",
   "metadata": {},
   "outputs": [],
   "source": [
    "w_train_2=pd.merge(w_train_2, rain_1, on=['date', 'umd'], how='left')"
   ]
  },
  {
   "cell_type": "code",
   "execution_count": 127,
   "id": "751b6562",
   "metadata": {},
   "outputs": [
    {
     "name": "stdout",
     "output_type": "stream",
     "text": [
      "<class 'pandas.core.frame.DataFrame'>\n",
      "Int64Index: 6193 entries, 0 to 6192\n",
      "Data columns (total 67 columns):\n",
      " #   Column         Non-Null Count  Dtype  \n",
      "---  ------         --------------  -----  \n",
      " 0   umd            6193 non-null   object \n",
      " 1   date           6193 non-null   float64\n",
      " 2   STORUNST       6193 non-null   object \n",
      " 3   FROR_CD        6193 non-null   object \n",
      " 4   FRTP_CD        6193 non-null   object \n",
      " 5   KOFTR_GROU     6193 non-null   object \n",
      " 6   DMCLS_CD       6193 non-null   object \n",
      " 7   AGCLS_CD       6193 non-null   object \n",
      " 8   DNST_CD        6193 non-null   object \n",
      " 9   HEIGHT         6193 non-null   object \n",
      " 10  PRRCK_LARG     6193 non-null   object \n",
      " 11  PRRCK_MDDL     6193 non-null   object \n",
      " 12  CLZN_CD        6193 non-null   object \n",
      " 13  TPGRP_TPCD     6193 non-null   object \n",
      " 14  PRDN_FOM_C     6193 non-null   object \n",
      " 15  SLANT_TYP      6193 non-null   object \n",
      " 16  SLDPT_TPCD     6193 non-null   object \n",
      " 17  SCSTX_CD       6193 non-null   object \n",
      " 18  SLTP_CD        6193 non-null   object \n",
      " 19  LOCTN_ALTT     6193 non-null   float64\n",
      " 20  LOCTN_GRDN     6193 non-null   float64\n",
      " 21  EIGHT_AGL      6193 non-null   float64\n",
      " 22  target         6193 non-null   float64\n",
      " 23  1day_mean_T3H  6193 non-null   float64\n",
      " 24  1day_min_T3H   6193 non-null   float64\n",
      " 25  1day_max_T3H   6193 non-null   float64\n",
      " 26  day_mean_T3H   6193 non-null   float64\n",
      " 27  day_min_T3H    6193 non-null   float64\n",
      " 28  day_max_T3H    6193 non-null   float64\n",
      " 29  1day_mean_REH  6193 non-null   float64\n",
      " 30  1day_min_REH   6193 non-null   float64\n",
      " 31  1day_max_REH   6193 non-null   float64\n",
      " 32  day_mean_REH   6193 non-null   float64\n",
      " 33  day_min_REH    6193 non-null   float64\n",
      " 34  day_max_REH    6193 non-null   float64\n",
      " 35  1day_mean_WSD  6193 non-null   float64\n",
      " 36  1day_min_WSD   6193 non-null   float64\n",
      " 37  1day_max_WSD   6193 non-null   float64\n",
      " 38  day_mean_WSD   6193 non-null   float64\n",
      " 39  day_min_WSD    6193 non-null   float64\n",
      " 40  day_max_WSD    6193 non-null   float64\n",
      " 41  1day_mean_VEC  6193 non-null   float64\n",
      " 42  1day_min_VEC   6193 non-null   float64\n",
      " 43  1day_max_VEC   6193 non-null   float64\n",
      " 44  day_mean_VEC   6193 non-null   float64\n",
      " 45  day_min_VEC    6193 non-null   float64\n",
      " 46  day_max_VEC    6193 non-null   float64\n",
      " 47  1day_mean_POP  6193 non-null   float64\n",
      " 48  1day_min_POP   6193 non-null   float64\n",
      " 49  1day_max_POP   6193 non-null   float64\n",
      " 50  day_mean_POP   6193 non-null   float64\n",
      " 51  day_min_POP    6193 non-null   float64\n",
      " 52  day_max_POP    6193 non-null   float64\n",
      " 53  1day_mean_WAV  6193 non-null   float64\n",
      " 54  1day_min_WAV   6193 non-null   float64\n",
      " 55  1day_max_WAV   6193 non-null   float64\n",
      " 56  day_mean_WAV   6193 non-null   float64\n",
      " 57  day_min_WAV    6193 non-null   float64\n",
      " 58  day_max_WAV    6193 non-null   float64\n",
      " 59  1day_mode_PTY  6193 non-null   float64\n",
      " 60  day_mode_PTY   6193 non-null   float64\n",
      " 61  1day_mode_SKY  6193 non-null   float64\n",
      " 62  day_mode_SKY   6193 non-null   float64\n",
      " 63  1day_sum_rain  6193 non-null   float64\n",
      " 64  1day_max_rain  6193 non-null   float64\n",
      " 65  day_sum_rain   6193 non-null   float64\n",
      " 66  day_max_rain   6193 non-null   float64\n",
      "dtypes: float64(49), object(18)\n",
      "memory usage: 3.2+ MB\n"
     ]
    }
   ],
   "source": [
    "w_train_2.info()"
   ]
  },
  {
   "cell_type": "markdown",
   "id": "077a0234",
   "metadata": {},
   "source": [
    "# 테스트 데이터"
   ]
  },
  {
   "cell_type": "code",
   "execution_count": 129,
   "id": "fb29ccc6",
   "metadata": {},
   "outputs": [],
   "source": [
    "test = pd.read_csv(r'C:\\Users\\stat_17\\Desktop\\weather\\test.csv', encoding='CP949')"
   ]
  },
  {
   "cell_type": "code",
   "execution_count": 130,
   "id": "504d7ad2",
   "metadata": {},
   "outputs": [],
   "source": [
    "test=test.reset_index()"
   ]
  },
  {
   "cell_type": "code",
   "execution_count": 131,
   "id": "7d7547f8",
   "metadata": {},
   "outputs": [],
   "source": [
    "rain_t=pd.read_csv(r'C:\\Users\\stat_17\\Desktop\\svt\\vweather__1.csv', encoding='CP949')"
   ]
  },
  {
   "cell_type": "code",
   "execution_count": 132,
   "id": "b85547dc",
   "metadata": {},
   "outputs": [],
   "source": [
    "rain_t['date1'] = rain_t['date'] - 1\n",
    "rain_t.drop(['date'], inplace=True, axis=1)\n",
    "rain_t = rain_t.rename({'date1':'date'}, axis='columns')"
   ]
  },
  {
   "cell_type": "code",
   "execution_count": 133,
   "id": "a8be6504",
   "metadata": {},
   "outputs": [],
   "source": [
    "test=test.drop(['1day','1day_yn', '2day', '2day_yn'], axis=1)"
   ]
  },
  {
   "cell_type": "code",
   "execution_count": 134,
   "id": "09a475be",
   "metadata": {},
   "outputs": [],
   "source": [
    "# 잘못 기입된 값 처리\n",
    "test = test.replace({'umd': '용흥동  '}, {'umd': '용흥동'})\n",
    "test = test.replace({'umd': '수비면 '}, {'umd': '수비면'})\n",
    "test = test.replace({'umd': '묘산면 '}, {'umd': '묘산면'})\n",
    "test = test.replace({'umd': '남면 '}, {'umd': '남면'})\n",
    "test = test.replace({'umd': '청하면 '}, {'umd': '청하면'})\n",
    "test = test.replace({'umd': '기계면 '}, {'umd': '기계면'})"
   ]
  },
  {
   "cell_type": "code",
   "execution_count": 135,
   "id": "9b91dd9b",
   "metadata": {},
   "outputs": [],
   "source": [
    "test['name'] = test['sgg'] + ' ' + test['umd']"
   ]
  },
  {
   "cell_type": "code",
   "execution_count": 136,
   "id": "dad11766",
   "metadata": {},
   "outputs": [],
   "source": [
    "test1 =test[test['name']== '창원시 의창구 북면' ]\n",
    "test2 =test[test['name']== '밀양시 상동면' ]\n",
    "test3 =test[test['name']== '영덕군 병곡면' ]\n",
    "test4 =test[test['name']== '성주군 대가면' ]\n",
    "test5 =test[test['name']== '경주시 산내면' ]"
   ]
  },
  {
   "cell_type": "code",
   "execution_count": 137,
   "id": "11004bfa",
   "metadata": {},
   "outputs": [],
   "source": [
    "ss_t = [test1, test2, test3, test4, test5]\n",
    "test2 = pd.concat(ss_t)"
   ]
  },
  {
   "cell_type": "code",
   "execution_count": 138,
   "id": "3bb11884",
   "metadata": {},
   "outputs": [],
   "source": [
    "test2['umd1'] = test2['umd'] + '2'\n",
    "test2.drop(['umd'], inplace=True, axis=1)\n",
    "test2 = test2.rename({'umd1':'umd'}, axis='columns')"
   ]
  },
  {
   "cell_type": "code",
   "execution_count": 139,
   "id": "1cf8b46d",
   "metadata": {},
   "outputs": [],
   "source": [
    "def sup_t(a):\n",
    "    test_dup =test[ test['name']== a ]\n",
    "    return test_dup"
   ]
  },
  {
   "cell_type": "code",
   "execution_count": 140,
   "id": "8db01143",
   "metadata": {},
   "outputs": [],
   "source": [
    "list11_t = [ '포항시 북구 중앙동','남해군 서면', '울릉군 북면', '창원시 마산합포구 자산동', '김해시 상동면' , '남해군 남면' ,\n",
    "         '김해시 북부동', '통영시 도산면', '창녕군 성산면', '함양군 병곡면','고성군 동해면', '고령군 덕곡면',  \n",
    "         '합천군 봉산면', '고성군 대가면', '밀양시 산내면']\n",
    "a_t = []\n",
    "for i in list11_t:\n",
    "    a_t.append(sup_t(i))"
   ]
  },
  {
   "cell_type": "code",
   "execution_count": 141,
   "id": "2d0e14e5",
   "metadata": {},
   "outputs": [],
   "source": [
    "test_sup1 = pd.concat(a_t)"
   ]
  },
  {
   "cell_type": "code",
   "execution_count": 142,
   "id": "c62b1a09",
   "metadata": {},
   "outputs": [],
   "source": [
    "test_sup1['umd1'] = test_sup1['umd'] + '1'\n",
    "test_sup1.drop(['umd'], inplace=True, axis=1)\n",
    "test_sup1 = test_sup1.rename({'umd1':'umd'}, axis='columns')"
   ]
  },
  {
   "cell_type": "code",
   "execution_count": 143,
   "id": "c16a9648",
   "metadata": {},
   "outputs": [],
   "source": [
    "test_sup3 =test[ test['name']== '울진군 북면' ]"
   ]
  },
  {
   "cell_type": "code",
   "execution_count": 144,
   "id": "c470d1d8",
   "metadata": {},
   "outputs": [
    {
     "name": "stderr",
     "output_type": "stream",
     "text": [
      "<ipython-input-144-e9cd675faa45>:1: SettingWithCopyWarning: \n",
      "A value is trying to be set on a copy of a slice from a DataFrame.\n",
      "Try using .loc[row_indexer,col_indexer] = value instead\n",
      "\n",
      "See the caveats in the documentation: https://pandas.pydata.org/pandas-docs/stable/user_guide/indexing.html#returning-a-view-versus-a-copy\n",
      "  test_sup3['umd1'] = test_sup3['umd'] + '3'\n",
      "C:\\ProgramData\\Anaconda3\\lib\\site-packages\\pandas\\core\\frame.py:4308: SettingWithCopyWarning: \n",
      "A value is trying to be set on a copy of a slice from a DataFrame\n",
      "\n",
      "See the caveats in the documentation: https://pandas.pydata.org/pandas-docs/stable/user_guide/indexing.html#returning-a-view-versus-a-copy\n",
      "  return super().drop(\n"
     ]
    }
   ],
   "source": [
    "test_sup3['umd1'] = test_sup3['umd'] + '3'\n",
    "test_sup3.drop(['umd'], inplace=True, axis=1)\n",
    "test_sup3 = test_sup3.rename({'umd1':'umd'}, axis='columns')"
   ]
  },
  {
   "cell_type": "code",
   "execution_count": 145,
   "id": "58b34b4f",
   "metadata": {},
   "outputs": [],
   "source": [
    "list_tt = [test_sup1, test2,test_sup3]\n",
    "test_t = pd.concat(list_tt)"
   ]
  },
  {
   "cell_type": "code",
   "execution_count": 146,
   "id": "e823d144",
   "metadata": {},
   "outputs": [],
   "source": [
    "test.drop(test_t.index, inplace=True)"
   ]
  },
  {
   "cell_type": "code",
   "execution_count": 147,
   "id": "76517bfe",
   "metadata": {},
   "outputs": [],
   "source": [
    "test_a=test[['index','date','sd','sgg','name','umd']]"
   ]
  },
  {
   "cell_type": "code",
   "execution_count": 148,
   "id": "ec095b88",
   "metadata": {},
   "outputs": [],
   "source": [
    "test_s=pd.concat([test_a, test_t])"
   ]
  },
  {
   "cell_type": "code",
   "execution_count": 149,
   "id": "462dd03c",
   "metadata": {},
   "outputs": [],
   "source": [
    "# 삼거동, 어곡동, 조와동, 덕곡동, 시동, 주진동\n",
    "test_s = test_s.replace({'umd': '삼거동'}, {'umd': '상문동'})\n",
    "test_s = test_s.replace({'umd': '어곡동'}, {'umd': '강서동'})\n",
    "test_s = test_s.replace({'umd': '조와동'}, {'umd': '부석면'})\n",
    "test_s = test_s.replace({'umd': '덕곡동'}, {'umd': '자산동2'})\n",
    "test_s = test_s.replace({'umd': '시동'}, {'umd': '내남면'})\n",
    "test_s = test_s.replace({'umd': '주진동'}, {'umd': '평산동'})"
   ]
  },
  {
   "cell_type": "code",
   "execution_count": 150,
   "id": "e923f879",
   "metadata": {},
   "outputs": [],
   "source": [
    "test_288=pd.merge(test_s, new_hjd, on=['umd'], how='inner')"
   ]
  },
  {
   "cell_type": "code",
   "execution_count": 151,
   "id": "3c863830",
   "metadata": {},
   "outputs": [],
   "source": [
    "gdf_t = gpd.GeoDataFrame(test_288, geometry=test_288.geometry)"
   ]
  },
  {
   "cell_type": "code",
   "execution_count": 152,
   "id": "52df1473",
   "metadata": {},
   "outputs": [
    {
     "name": "stderr",
     "output_type": "stream",
     "text": [
      "C:\\ProgramData\\Anaconda3\\lib\\site-packages\\pyproj\\crs\\crs.py:53: FutureWarning: '+init=<authority>:<code>' syntax is deprecated. '<authority>:<code>' is the preferred initialization method. When making the change, be mindful of axis order changes: https://pyproj4.github.io/pyproj/stable/gotchas.html#axis-order-changes-in-proj-6\n",
      "  return _prepare_from_string(\" \".join(pjargs))\n"
     ]
    }
   ],
   "source": [
    "gdf_t.crs = {'init':'epsg:5179'}"
   ]
  },
  {
   "cell_type": "code",
   "execution_count": 153,
   "id": "c1b85a93",
   "metadata": {},
   "outputs": [
    {
     "name": "stderr",
     "output_type": "stream",
     "text": [
      "<ipython-input-153-38469d45d8c3>:1: UserWarning: CRS mismatch between the CRS of left geometries and the CRS of right geometries.\n",
      "Use `to_crs()` to reproject one of the input geometries to match the CRS of the other.\n",
      "\n",
      "Left CRS: EPSG:5179\n",
      "Right CRS: +init=epsg:5179 +type=crs\n",
      "\n",
      "  df_ti_t=gpd.sjoin(toyang_imsang , gdf_t, op='within' )\n"
     ]
    }
   ],
   "source": [
    "df_ti_t=gpd.sjoin(toyang_imsang , gdf_t, op='within' )"
   ]
  },
  {
   "cell_type": "code",
   "execution_count": 154,
   "id": "5326eea3",
   "metadata": {},
   "outputs": [],
   "source": [
    "df_ti_t=df_ti_t.drop(['LDMARK_STN_left', 'MAP_LABEL_left', 'ETC_PCMTT', 'geometry', 'OBJ_ID', 'ARA_XCRD', 'ARA_YCRD', 'LDMARK_STN_right', 'MAP_LABEL_right', 'index_right', 'sd', 'sgg', 'name', 'BASE_DATE', 'ADM_DR_CD'], axis=1)"
   ]
  },
  {
   "cell_type": "code",
   "execution_count": 155,
   "id": "880b1047",
   "metadata": {},
   "outputs": [],
   "source": [
    "b=pd.merge(test_288,df_ti_t, on=['index','umd', 'date'], how='left')"
   ]
  },
  {
   "cell_type": "code",
   "execution_count": 156,
   "id": "000e15b6",
   "metadata": {},
   "outputs": [
    {
     "name": "stdout",
     "output_type": "stream",
     "text": [
      "<class 'pandas.core.frame.DataFrame'>\n",
      "Int64Index: 284406 entries, 0 to 284405\n",
      "Data columns (total 29 columns):\n",
      " #   Column      Non-Null Count   Dtype   \n",
      "---  ------      --------------   -----   \n",
      " 0   index       284406 non-null  int64   \n",
      " 1   date        284406 non-null  int64   \n",
      " 2   sd          284406 non-null  object  \n",
      " 3   sgg         284406 non-null  object  \n",
      " 4   name        284406 non-null  object  \n",
      " 5   umd         284406 non-null  object  \n",
      " 6   BASE_DATE   284406 non-null  object  \n",
      " 7   ADM_DR_CD   284406 non-null  object  \n",
      " 8   geometry    284406 non-null  geometry\n",
      " 9   STORUNST    284266 non-null  object  \n",
      " 10  FROR_CD     284266 non-null  object  \n",
      " 11  FRTP_CD     284266 non-null  object  \n",
      " 12  KOFTR_GROU  284266 non-null  object  \n",
      " 13  DMCLS_CD    284266 non-null  object  \n",
      " 14  AGCLS_CD    284266 non-null  object  \n",
      " 15  DNST_CD     284266 non-null  object  \n",
      " 16  HEIGHT      284266 non-null  object  \n",
      " 17  PRRCK_LARG  284266 non-null  object  \n",
      " 18  PRRCK_MDDL  284266 non-null  object  \n",
      " 19  LOCTN_ALTT  284266 non-null  float64 \n",
      " 20  LOCTN_GRDN  284266 non-null  float64 \n",
      " 21  EIGHT_AGL   284266 non-null  float64 \n",
      " 22  CLZN_CD     284266 non-null  object  \n",
      " 23  TPGRP_TPCD  284266 non-null  object  \n",
      " 24  PRDN_FOM_C  284266 non-null  object  \n",
      " 25  SLANT_TYP   284266 non-null  object  \n",
      " 26  SLDPT_TPCD  284266 non-null  object  \n",
      " 27  SCSTX_CD    284266 non-null  object  \n",
      " 28  SLTP_CD     284266 non-null  object  \n",
      "dtypes: float64(3), geometry(1), int64(2), object(23)\n",
      "memory usage: 65.1+ MB\n"
     ]
    }
   ],
   "source": [
    "b.info()"
   ]
  },
  {
   "cell_type": "code",
   "execution_count": 157,
   "id": "cbff23ee",
   "metadata": {},
   "outputs": [],
   "source": [
    "b['STORUNST']=b['STORUNST'].fillna('NAN')"
   ]
  },
  {
   "cell_type": "code",
   "execution_count": 158,
   "id": "eabd6ee1",
   "metadata": {},
   "outputs": [],
   "source": [
    "test_14=b[b['STORUNST']=='NAN']\n",
    "test_14=test_14.iloc[:, :6]"
   ]
  },
  {
   "cell_type": "code",
   "execution_count": 159,
   "id": "a537cd62",
   "metadata": {},
   "outputs": [],
   "source": [
    "rain_t1=rain_t.drop(['sd', 'sgg', 'x', 'y', 'variable'], axis=1)"
   ]
  },
  {
   "cell_type": "code",
   "execution_count": 160,
   "id": "64de9e56",
   "metadata": {},
   "outputs": [],
   "source": [
    "test_12 = test_14[(test_14['umd'] != '청송읍') & (test_14['umd'] !='천북면') & (test_14['umd'] !='자산동2')]"
   ]
  },
  {
   "cell_type": "code",
   "execution_count": 161,
   "id": "18ef8486",
   "metadata": {},
   "outputs": [],
   "source": [
    "test_2 = test_14[(test_14['umd'] == '청송읍') | (test_14['umd'] =='천북면')| (test_14['umd'] =='자산동2')]"
   ]
  },
  {
   "cell_type": "code",
   "execution_count": 162,
   "id": "bbea946e",
   "metadata": {},
   "outputs": [],
   "source": [
    "n_datas=n_data.drop(['date'], axis=1)"
   ]
  },
  {
   "cell_type": "code",
   "execution_count": 163,
   "id": "ba952211",
   "metadata": {},
   "outputs": [],
   "source": [
    "test_112=pd.merge(test_12, n_datas, on=['umd'], how= 'left' )"
   ]
  },
  {
   "cell_type": "code",
   "execution_count": 164,
   "id": "c2ee502a",
   "metadata": {},
   "outputs": [],
   "source": [
    "test_112=test_112[['index','date','umd', 'STORUNST','FROR_CD', 'FRTP_CD', 'KOFTR_GROU', 'DMCLS_CD', 'AGCLS_CD', 'DNST_CD', 'HEIGHT', 'PRRCK_LARG', 'PRRCK_MDDL','LOCTN_ALTT', 'LOCTN_GRDN','EIGHT_AGL', 'CLZN_CD', 'TPGRP_TPCD' , 'PRDN_FOM_C', 'SLANT_TYP', 'SLDPT_TPCD', 'SCSTX_CD', 'SLTP_CD']]"
   ]
  },
  {
   "cell_type": "code",
   "execution_count": 165,
   "id": "00c4b2a8",
   "metadata": {},
   "outputs": [],
   "source": [
    "w_test_2=pd.concat([df_ti_t, test_112])"
   ]
  },
  {
   "cell_type": "code",
   "execution_count": 166,
   "id": "0fe6b4cd",
   "metadata": {},
   "outputs": [],
   "source": [
    "is_청송읍=new_gdf1[new_gdf1['umd']== '청송읍']\n",
    "is_천북면=new_gdf1[new_gdf1['umd']== '천북면']\n",
    "is_자산동2=new_gdf1[new_gdf1['umd']== '자산동2']"
   ]
  },
  {
   "cell_type": "code",
   "execution_count": 167,
   "id": "48b807b5",
   "metadata": {},
   "outputs": [],
   "source": [
    "ty_청송읍=new_gdf2[new_gdf2['umd']== '청송읍']\n",
    "ty_천북면=new_gdf2[new_gdf2['umd']== '천북면']\n",
    "ty_자산동2=new_gdf2[new_gdf2['umd']== '자산동2']"
   ]
  },
  {
   "cell_type": "code",
   "execution_count": 168,
   "id": "7fb602cd",
   "metadata": {},
   "outputs": [],
   "source": [
    "is_청송읍=is_청송읍[['umd','STORUNST', 'FROR_CD','FRTP_CD','KOFTR_GROU','DMCLS_CD','AGCLS_CD','DNST_CD','HEIGHT']]\n",
    "is_천북면=is_천북면[['umd','STORUNST', 'FROR_CD','FRTP_CD','KOFTR_GROU','DMCLS_CD','AGCLS_CD','DNST_CD','HEIGHT']]\n",
    "is_자산동2=is_자산동2[['umd','STORUNST', 'FROR_CD','FRTP_CD','KOFTR_GROU','DMCLS_CD','AGCLS_CD','DNST_CD','HEIGHT']]"
   ]
  },
  {
   "cell_type": "code",
   "execution_count": 169,
   "id": "4ee43fe7",
   "metadata": {},
   "outputs": [],
   "source": [
    "ty_청송읍1=ty_청송읍[['umd','PRRCK_LARG','PRRCK_MDDL','CLZN_CD','TPGRP_TPCD','PRDN_FOM_C','SLANT_TYP','SLDPT_TPCD','SCSTX_CD','SLTP_CD']]\n",
    "ty_천북면1=ty_천북면[['umd','PRRCK_LARG','PRRCK_MDDL','CLZN_CD','TPGRP_TPCD','PRDN_FOM_C','SLANT_TYP','SLDPT_TPCD','SCSTX_CD','SLTP_CD']]\n",
    "ty_자산동21=ty_자산동2[['umd','PRRCK_LARG','PRRCK_MDDL','CLZN_CD','TPGRP_TPCD','PRDN_FOM_C','SLANT_TYP','SLDPT_TPCD','SCSTX_CD','SLTP_CD']]"
   ]
  },
  {
   "cell_type": "code",
   "execution_count": 170,
   "id": "e9a7ccc6",
   "metadata": {},
   "outputs": [],
   "source": [
    "ty_청송읍2=ty_청송읍[['umd','LOCTN_ALTT','LOCTN_GRDN','EIGHT_AGL']]\n",
    "ty_천북면2=ty_천북면[['umd','LOCTN_ALTT','LOCTN_GRDN','EIGHT_AGL']]\n",
    "ty_자산동22=ty_자산동2[['umd','LOCTN_ALTT','LOCTN_GRDN','EIGHT_AGL']]"
   ]
  },
  {
   "cell_type": "code",
   "execution_count": 171,
   "id": "f8a3a974",
   "metadata": {},
   "outputs": [],
   "source": [
    "is_청송읍=is_청송읍.mode()\n",
    "ty_청송읍1=ty_청송읍1.mode()\n",
    "ty_청송읍2=ty_청송읍2.groupby(['umd']).median()\n",
    "ty_청송읍2=ty_청송읍2.reset_index()\n",
    "is_천북면=is_천북면.mode()\n",
    "ty_천북면1=ty_천북면1.mode()\n",
    "ty_천북면2=ty_천북면2.groupby(['umd']).median()\n",
    "ty_천북면2=ty_천북면2.reset_index()\n",
    "is_자산동=is_자산동2.mode()\n",
    "ty_자산동1=ty_자산동21.mode()\n",
    "ty_자산동2=ty_자산동22.groupby(['umd']).median()\n",
    "ty_자산동2=ty_자산동22.reset_index()"
   ]
  },
  {
   "cell_type": "code",
   "execution_count": 172,
   "id": "b64dfbc8",
   "metadata": {},
   "outputs": [],
   "source": [
    "청송읍=pd.merge(is_청송읍, ty_청송읍1, on=['umd'], how='inner')\n",
    "청송읍=pd.merge(청송읍, ty_청송읍2, on=['umd'], how='inner')\n",
    "천북면=pd.merge(is_천북면, ty_천북면1, on=['umd'], how='inner')\n",
    "천북면=pd.merge(천북면, ty_천북면2, on=['umd'], how='inner')\n",
    "자산동=pd.merge(is_자산동, ty_자산동21, on=['umd'], how='inner')\n",
    "자산동=pd.merge(자산동, ty_자산동22, on=['umd'], how='inner')"
   ]
  },
  {
   "cell_type": "code",
   "execution_count": 173,
   "id": "91ccbad2",
   "metadata": {},
   "outputs": [],
   "source": [
    "ch=pd.concat([청송읍, 천북면, 자산동])"
   ]
  },
  {
   "cell_type": "code",
   "execution_count": 174,
   "id": "87d90c7c",
   "metadata": {},
   "outputs": [],
   "source": [
    "test_20=pd.merge(test_2, ch, on=['umd'], how= 'left' )"
   ]
  },
  {
   "cell_type": "code",
   "execution_count": 175,
   "id": "d1db33c5",
   "metadata": {},
   "outputs": [],
   "source": [
    "test_20=test_20[['index','date','umd', 'STORUNST','FROR_CD', 'FRTP_CD', 'KOFTR_GROU', 'DMCLS_CD', 'AGCLS_CD', 'DNST_CD', 'HEIGHT', 'PRRCK_LARG', 'PRRCK_MDDL','LOCTN_ALTT', 'LOCTN_GRDN','EIGHT_AGL', 'CLZN_CD', 'TPGRP_TPCD' , 'PRDN_FOM_C', 'SLANT_TYP', 'SLDPT_TPCD', 'SCSTX_CD', 'SLTP_CD']]"
   ]
  },
  {
   "cell_type": "code",
   "execution_count": 176,
   "id": "28e1cc64",
   "metadata": {},
   "outputs": [],
   "source": [
    "w_test=pd.concat([w_test_2, test_20])"
   ]
  },
  {
   "cell_type": "code",
   "execution_count": 177,
   "id": "2ee03354",
   "metadata": {},
   "outputs": [],
   "source": [
    "w_test_o=w_test[['index','date','umd', 'STORUNST','FROR_CD', 'FRTP_CD', 'KOFTR_GROU', 'DMCLS_CD', 'AGCLS_CD', 'DNST_CD', 'HEIGHT', 'PRRCK_LARG', 'PRRCK_MDDL', 'CLZN_CD', 'TPGRP_TPCD' , 'PRDN_FOM_C', 'SLANT_TYP', 'SLDPT_TPCD', 'SCSTX_CD', 'SLTP_CD']]\n",
    "w_test_f=w_test[['index','date','umd','LOCTN_ALTT', 'LOCTN_GRDN','EIGHT_AGL']]"
   ]
  },
  {
   "cell_type": "code",
   "execution_count": 178,
   "id": "953fb021",
   "metadata": {},
   "outputs": [],
   "source": [
    "aa=w_test_o.groupby(['index','umd', 'date']).agg(lambda x: x.value_counts().index[0]).reset_index()"
   ]
  },
  {
   "cell_type": "code",
   "execution_count": 179,
   "id": "bdd8080d",
   "metadata": {},
   "outputs": [],
   "source": [
    "bb=w_test_f.groupby(['index','umd', 'date']).mean().reset_index()"
   ]
  },
  {
   "cell_type": "code",
   "execution_count": 180,
   "id": "c313ca3b",
   "metadata": {},
   "outputs": [],
   "source": [
    "w_test_2=pd.merge(aa, bb, on=['index','date', 'umd'], how='inner')"
   ]
  },
  {
   "cell_type": "code",
   "execution_count": 181,
   "id": "e28c664b",
   "metadata": {},
   "outputs": [],
   "source": [
    "w_test_2=pd.merge(w_test_2, rain_t1, on=['date', 'umd'], how='left')"
   ]
  },
  {
   "cell_type": "code",
   "execution_count": 182,
   "id": "a565d9fb",
   "metadata": {},
   "outputs": [
    {
     "data": {
      "text/html": [
       "<div>\n",
       "<style scoped>\n",
       "    .dataframe tbody tr th:only-of-type {\n",
       "        vertical-align: middle;\n",
       "    }\n",
       "\n",
       "    .dataframe tbody tr th {\n",
       "        vertical-align: top;\n",
       "    }\n",
       "\n",
       "    .dataframe thead th {\n",
       "        text-align: right;\n",
       "    }\n",
       "</style>\n",
       "<table border=\"1\" class=\"dataframe\">\n",
       "  <thead>\n",
       "    <tr style=\"text-align: right;\">\n",
       "      <th></th>\n",
       "      <th>index</th>\n",
       "      <th>umd</th>\n",
       "      <th>date</th>\n",
       "      <th>STORUNST</th>\n",
       "      <th>FROR_CD</th>\n",
       "      <th>FRTP_CD</th>\n",
       "      <th>KOFTR_GROU</th>\n",
       "      <th>DMCLS_CD</th>\n",
       "      <th>AGCLS_CD</th>\n",
       "      <th>DNST_CD</th>\n",
       "      <th>...</th>\n",
       "      <th>day_min_WAV</th>\n",
       "      <th>day_max_WAV</th>\n",
       "      <th>1day_mode_PTY</th>\n",
       "      <th>day_mode_PTY</th>\n",
       "      <th>1day_mode_SKY</th>\n",
       "      <th>day_mode_SKY</th>\n",
       "      <th>1day_sum_rain</th>\n",
       "      <th>1day_max_rain</th>\n",
       "      <th>day_sum_rain</th>\n",
       "      <th>day_max_rain</th>\n",
       "    </tr>\n",
       "  </thead>\n",
       "  <tbody>\n",
       "    <tr>\n",
       "      <th>0</th>\n",
       "      <td>0</td>\n",
       "      <td>곤명면</td>\n",
       "      <td>20200610</td>\n",
       "      <td>1</td>\n",
       "      <td>2</td>\n",
       "      <td>4</td>\n",
       "      <td>78</td>\n",
       "      <td>1</td>\n",
       "      <td>1</td>\n",
       "      <td>C</td>\n",
       "      <td>...</td>\n",
       "      <td>0.0</td>\n",
       "      <td>0.0</td>\n",
       "      <td>0.0</td>\n",
       "      <td>0.0</td>\n",
       "      <td>1.0</td>\n",
       "      <td>4.0</td>\n",
       "      <td>15.0</td>\n",
       "      <td>10.0</td>\n",
       "      <td>5.0</td>\n",
       "      <td>5.0</td>\n",
       "    </tr>\n",
       "    <tr>\n",
       "      <th>1</th>\n",
       "      <td>1</td>\n",
       "      <td>곤명면</td>\n",
       "      <td>20200611</td>\n",
       "      <td>1</td>\n",
       "      <td>2</td>\n",
       "      <td>4</td>\n",
       "      <td>78</td>\n",
       "      <td>1</td>\n",
       "      <td>1</td>\n",
       "      <td>C</td>\n",
       "      <td>...</td>\n",
       "      <td>0.0</td>\n",
       "      <td>0.0</td>\n",
       "      <td>0.0</td>\n",
       "      <td>0.0</td>\n",
       "      <td>3.0</td>\n",
       "      <td>3.0</td>\n",
       "      <td>0.0</td>\n",
       "      <td>0.0</td>\n",
       "      <td>35.0</td>\n",
       "      <td>20.0</td>\n",
       "    </tr>\n",
       "    <tr>\n",
       "      <th>2</th>\n",
       "      <td>2</td>\n",
       "      <td>곤명면</td>\n",
       "      <td>20200612</td>\n",
       "      <td>1</td>\n",
       "      <td>2</td>\n",
       "      <td>4</td>\n",
       "      <td>78</td>\n",
       "      <td>1</td>\n",
       "      <td>1</td>\n",
       "      <td>C</td>\n",
       "      <td>...</td>\n",
       "      <td>0.0</td>\n",
       "      <td>0.0</td>\n",
       "      <td>0.0</td>\n",
       "      <td>1.0</td>\n",
       "      <td>3.0</td>\n",
       "      <td>4.0</td>\n",
       "      <td>70.0</td>\n",
       "      <td>40.0</td>\n",
       "      <td>140.0</td>\n",
       "      <td>70.0</td>\n",
       "    </tr>\n",
       "    <tr>\n",
       "      <th>3</th>\n",
       "      <td>3</td>\n",
       "      <td>곤양면</td>\n",
       "      <td>20200610</td>\n",
       "      <td>1</td>\n",
       "      <td>2</td>\n",
       "      <td>0</td>\n",
       "      <td>82</td>\n",
       "      <td>0</td>\n",
       "      <td>0</td>\n",
       "      <td>D</td>\n",
       "      <td>...</td>\n",
       "      <td>0.0</td>\n",
       "      <td>0.0</td>\n",
       "      <td>0.0</td>\n",
       "      <td>0.0</td>\n",
       "      <td>1.0</td>\n",
       "      <td>4.0</td>\n",
       "      <td>10.0</td>\n",
       "      <td>5.0</td>\n",
       "      <td>5.0</td>\n",
       "      <td>5.0</td>\n",
       "    </tr>\n",
       "    <tr>\n",
       "      <th>4</th>\n",
       "      <td>4</td>\n",
       "      <td>곤양면</td>\n",
       "      <td>20200611</td>\n",
       "      <td>1</td>\n",
       "      <td>2</td>\n",
       "      <td>0</td>\n",
       "      <td>82</td>\n",
       "      <td>0</td>\n",
       "      <td>0</td>\n",
       "      <td>D</td>\n",
       "      <td>...</td>\n",
       "      <td>0.0</td>\n",
       "      <td>0.0</td>\n",
       "      <td>0.0</td>\n",
       "      <td>0.0</td>\n",
       "      <td>3.0</td>\n",
       "      <td>3.0</td>\n",
       "      <td>0.0</td>\n",
       "      <td>0.0</td>\n",
       "      <td>25.0</td>\n",
       "      <td>20.0</td>\n",
       "    </tr>\n",
       "    <tr>\n",
       "      <th>...</th>\n",
       "      <td>...</td>\n",
       "      <td>...</td>\n",
       "      <td>...</td>\n",
       "      <td>...</td>\n",
       "      <td>...</td>\n",
       "      <td>...</td>\n",
       "      <td>...</td>\n",
       "      <td>...</td>\n",
       "      <td>...</td>\n",
       "      <td>...</td>\n",
       "      <td>...</td>\n",
       "      <td>...</td>\n",
       "      <td>...</td>\n",
       "      <td>...</td>\n",
       "      <td>...</td>\n",
       "      <td>...</td>\n",
       "      <td>...</td>\n",
       "      <td>...</td>\n",
       "      <td>...</td>\n",
       "      <td>...</td>\n",
       "      <td>...</td>\n",
       "    </tr>\n",
       "    <tr>\n",
       "      <th>3405</th>\n",
       "      <td>3405</td>\n",
       "      <td>환여동</td>\n",
       "      <td>20200906</td>\n",
       "      <td>1</td>\n",
       "      <td>2</td>\n",
       "      <td>2</td>\n",
       "      <td>30</td>\n",
       "      <td>3</td>\n",
       "      <td>2</td>\n",
       "      <td>C</td>\n",
       "      <td>...</td>\n",
       "      <td>3.5</td>\n",
       "      <td>5.0</td>\n",
       "      <td>1.0</td>\n",
       "      <td>1.0</td>\n",
       "      <td>4.0</td>\n",
       "      <td>4.0</td>\n",
       "      <td>200.0</td>\n",
       "      <td>100.0</td>\n",
       "      <td>170.0</td>\n",
       "      <td>100.0</td>\n",
       "    </tr>\n",
       "    <tr>\n",
       "      <th>3406</th>\n",
       "      <td>3406</td>\n",
       "      <td>흥해읍</td>\n",
       "      <td>20200903</td>\n",
       "      <td>1</td>\n",
       "      <td>2</td>\n",
       "      <td>1</td>\n",
       "      <td>11</td>\n",
       "      <td>4</td>\n",
       "      <td>4</td>\n",
       "      <td>C</td>\n",
       "      <td>...</td>\n",
       "      <td>0.0</td>\n",
       "      <td>0.0</td>\n",
       "      <td>0.0</td>\n",
       "      <td>0.0</td>\n",
       "      <td>1.0</td>\n",
       "      <td>1.0</td>\n",
       "      <td>100.0</td>\n",
       "      <td>100.0</td>\n",
       "      <td>0.0</td>\n",
       "      <td>0.0</td>\n",
       "    </tr>\n",
       "    <tr>\n",
       "      <th>3407</th>\n",
       "      <td>3407</td>\n",
       "      <td>흥해읍</td>\n",
       "      <td>20200904</td>\n",
       "      <td>1</td>\n",
       "      <td>2</td>\n",
       "      <td>1</td>\n",
       "      <td>11</td>\n",
       "      <td>4</td>\n",
       "      <td>4</td>\n",
       "      <td>C</td>\n",
       "      <td>...</td>\n",
       "      <td>0.0</td>\n",
       "      <td>0.0</td>\n",
       "      <td>0.0</td>\n",
       "      <td>0.0</td>\n",
       "      <td>1.0</td>\n",
       "      <td>4.0</td>\n",
       "      <td>0.0</td>\n",
       "      <td>0.0</td>\n",
       "      <td>1.0</td>\n",
       "      <td>1.0</td>\n",
       "    </tr>\n",
       "    <tr>\n",
       "      <th>3408</th>\n",
       "      <td>3408</td>\n",
       "      <td>흥해읍</td>\n",
       "      <td>20200905</td>\n",
       "      <td>1</td>\n",
       "      <td>2</td>\n",
       "      <td>1</td>\n",
       "      <td>11</td>\n",
       "      <td>4</td>\n",
       "      <td>4</td>\n",
       "      <td>C</td>\n",
       "      <td>...</td>\n",
       "      <td>0.0</td>\n",
       "      <td>0.0</td>\n",
       "      <td>0.0</td>\n",
       "      <td>1.0</td>\n",
       "      <td>4.0</td>\n",
       "      <td>4.0</td>\n",
       "      <td>20.0</td>\n",
       "      <td>10.0</td>\n",
       "      <td>80.0</td>\n",
       "      <td>40.0</td>\n",
       "    </tr>\n",
       "    <tr>\n",
       "      <th>3409</th>\n",
       "      <td>3409</td>\n",
       "      <td>흥해읍</td>\n",
       "      <td>20200906</td>\n",
       "      <td>1</td>\n",
       "      <td>2</td>\n",
       "      <td>1</td>\n",
       "      <td>11</td>\n",
       "      <td>4</td>\n",
       "      <td>4</td>\n",
       "      <td>C</td>\n",
       "      <td>...</td>\n",
       "      <td>0.0</td>\n",
       "      <td>0.0</td>\n",
       "      <td>1.0</td>\n",
       "      <td>1.0</td>\n",
       "      <td>4.0</td>\n",
       "      <td>4.0</td>\n",
       "      <td>200.0</td>\n",
       "      <td>100.0</td>\n",
       "      <td>170.0</td>\n",
       "      <td>100.0</td>\n",
       "    </tr>\n",
       "  </tbody>\n",
       "</table>\n",
       "<p>3410 rows × 67 columns</p>\n",
       "</div>"
      ],
      "text/plain": [
       "      index  umd      date STORUNST FROR_CD FRTP_CD KOFTR_GROU DMCLS_CD  \\\n",
       "0         0  곤명면  20200610        1       2       4         78        1   \n",
       "1         1  곤명면  20200611        1       2       4         78        1   \n",
       "2         2  곤명면  20200612        1       2       4         78        1   \n",
       "3         3  곤양면  20200610        1       2       0         82        0   \n",
       "4         4  곤양면  20200611        1       2       0         82        0   \n",
       "...     ...  ...       ...      ...     ...     ...        ...      ...   \n",
       "3405   3405  환여동  20200906        1       2       2         30        3   \n",
       "3406   3406  흥해읍  20200903        1       2       1         11        4   \n",
       "3407   3407  흥해읍  20200904        1       2       1         11        4   \n",
       "3408   3408  흥해읍  20200905        1       2       1         11        4   \n",
       "3409   3409  흥해읍  20200906        1       2       1         11        4   \n",
       "\n",
       "     AGCLS_CD DNST_CD  ... day_min_WAV day_max_WAV 1day_mode_PTY day_mode_PTY  \\\n",
       "0           1       C  ...         0.0         0.0           0.0          0.0   \n",
       "1           1       C  ...         0.0         0.0           0.0          0.0   \n",
       "2           1       C  ...         0.0         0.0           0.0          1.0   \n",
       "3           0       D  ...         0.0         0.0           0.0          0.0   \n",
       "4           0       D  ...         0.0         0.0           0.0          0.0   \n",
       "...       ...     ...  ...         ...         ...           ...          ...   \n",
       "3405        2       C  ...         3.5         5.0           1.0          1.0   \n",
       "3406        4       C  ...         0.0         0.0           0.0          0.0   \n",
       "3407        4       C  ...         0.0         0.0           0.0          0.0   \n",
       "3408        4       C  ...         0.0         0.0           0.0          1.0   \n",
       "3409        4       C  ...         0.0         0.0           1.0          1.0   \n",
       "\n",
       "     1day_mode_SKY day_mode_SKY 1day_sum_rain 1day_max_rain day_sum_rain  \\\n",
       "0              1.0          4.0          15.0          10.0          5.0   \n",
       "1              3.0          3.0           0.0           0.0         35.0   \n",
       "2              3.0          4.0          70.0          40.0        140.0   \n",
       "3              1.0          4.0          10.0           5.0          5.0   \n",
       "4              3.0          3.0           0.0           0.0         25.0   \n",
       "...            ...          ...           ...           ...          ...   \n",
       "3405           4.0          4.0         200.0         100.0        170.0   \n",
       "3406           1.0          1.0         100.0         100.0          0.0   \n",
       "3407           1.0          4.0           0.0           0.0          1.0   \n",
       "3408           4.0          4.0          20.0          10.0         80.0   \n",
       "3409           4.0          4.0         200.0         100.0        170.0   \n",
       "\n",
       "     day_max_rain  \n",
       "0             5.0  \n",
       "1            20.0  \n",
       "2            70.0  \n",
       "3             5.0  \n",
       "4            20.0  \n",
       "...           ...  \n",
       "3405        100.0  \n",
       "3406          0.0  \n",
       "3407          1.0  \n",
       "3408         40.0  \n",
       "3409        100.0  \n",
       "\n",
       "[3410 rows x 67 columns]"
      ]
     },
     "execution_count": 182,
     "metadata": {},
     "output_type": "execute_result"
    }
   ],
   "source": [
    "w_test_2"
   ]
  },
  {
   "cell_type": "code",
   "execution_count": null,
   "id": "15821ba8",
   "metadata": {},
   "outputs": [],
   "source": []
  },
  {
   "cell_type": "code",
   "execution_count": null,
   "id": "1c409450",
   "metadata": {},
   "outputs": [],
   "source": []
  }
 ],
 "metadata": {
  "kernelspec": {
   "display_name": "Python 3",
   "language": "python",
   "name": "python3"
  },
  "language_info": {
   "codemirror_mode": {
    "name": "ipython",
    "version": 3
   },
   "file_extension": ".py",
   "mimetype": "text/x-python",
   "name": "python",
   "nbconvert_exporter": "python",
   "pygments_lexer": "ipython3",
   "version": "3.8.8"
  }
 },
 "nbformat": 4,
 "nbformat_minor": 5
}
