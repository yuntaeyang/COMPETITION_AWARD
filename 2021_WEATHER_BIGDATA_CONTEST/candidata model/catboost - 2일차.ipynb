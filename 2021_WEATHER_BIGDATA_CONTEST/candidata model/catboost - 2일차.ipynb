{
 "cells": [
  {
   "cell_type": "code",
   "execution_count": 108,
   "id": "b521be83",
   "metadata": {},
   "outputs": [],
   "source": [
    "import pandas as pd\n",
    "import numpy as np"
   ]
  },
  {
   "cell_type": "code",
   "execution_count": 109,
   "id": "07a9c79a",
   "metadata": {},
   "outputs": [],
   "source": [
    "train_1=pd.read_csv(r'C:\\Users\\stat_17\\Desktop\\svt\\w_train_2_group.csv')"
   ]
  },
  {
   "cell_type": "code",
   "execution_count": 110,
   "id": "5c96029d",
   "metadata": {},
   "outputs": [],
   "source": [
    "train_1['TPTP'] = train_1['TPGRP_TPCD'].astype(str)  + train_1['PRDN_FOM_C'].astype(str)"
   ]
  },
  {
   "cell_type": "code",
   "execution_count": 111,
   "id": "8389ae27",
   "metadata": {},
   "outputs": [],
   "source": [
    "train_1['target_1'] = train_1['target']\n",
    "train_1=train_1.drop(['date', 'umd', 'target','variable'], axis=1)"
   ]
  },
  {
   "cell_type": "code",
   "execution_count": 112,
   "id": "c47e979c",
   "metadata": {},
   "outputs": [
    {
     "name": "stdout",
     "output_type": "stream",
     "text": [
      "Number of Numerical features:  69\n",
      "Number of Categorical features:  18\n"
     ]
    }
   ],
   "source": [
    "numerical_feats = train_1.dtypes[train_1.dtypes == \"float64\"].index.tolist()\n",
    "numerical_feats.remove('target_1')\n",
    "print(\"Number of Numerical features: \", len(numerical_feats))\n",
    "\n",
    "categorical_feats = train_1.dtypes[train_1.dtypes != \"float64\"].index.tolist()\n",
    "print(\"Number of Categorical features: \", len(categorical_feats))"
   ]
  },
  {
   "cell_type": "code",
   "execution_count": 113,
   "id": "a582f707",
   "metadata": {},
   "outputs": [
    {
     "data": {
      "text/plain": [
       "['LOCTN_ALTT',\n",
       " 'LOCTN_GRDN',\n",
       " 'EIGHT_AGL',\n",
       " '2day_mean_T3H',\n",
       " '2day_max_T3H',\n",
       " '2day_min_T3H',\n",
       " '1day_mean_T3H',\n",
       " '1day_max_T3H',\n",
       " '1day_min_T3H',\n",
       " 'day_mean_T3H',\n",
       " 'day_max_T3H',\n",
       " 'day_min_T3H',\n",
       " '2day_mean_REH',\n",
       " '2day_max_REH',\n",
       " '2day_min_REH',\n",
       " '1day_mean_REH',\n",
       " '1day_max_REH',\n",
       " '1day_min_REH',\n",
       " 'day_mean_REH',\n",
       " 'day_max_REH',\n",
       " 'day_min_REH',\n",
       " '2day_mean_WSD',\n",
       " '2day_max_WSD',\n",
       " '2day_min_WSD',\n",
       " '1day_mean_WSD',\n",
       " '1day_max_WSD',\n",
       " '1day_min_WSD',\n",
       " 'day_mean_WSD',\n",
       " 'day_max_WSD',\n",
       " 'day_min_WSD',\n",
       " '2day_mean_VEC',\n",
       " '2day_max_VEC',\n",
       " '2day_min_VEC',\n",
       " '1day_mean_VEC',\n",
       " '1day_max_VEC',\n",
       " '1day_min_VEC',\n",
       " 'day_mean_VEC',\n",
       " 'day_max_VEC',\n",
       " 'day_min_VEC',\n",
       " '2day_mean_POP',\n",
       " '2day_max_POP',\n",
       " '2day_min_POP',\n",
       " '1day_mean_POP',\n",
       " '1day_max_POP',\n",
       " '1day_min_POP',\n",
       " 'day_mean_POP',\n",
       " 'day_max_POP',\n",
       " 'day_min_POP',\n",
       " '2day_mean_WAV',\n",
       " '2day_max_WAV',\n",
       " '2day_min_WAV',\n",
       " '1day_mean_WAV',\n",
       " '1day_max_WAV',\n",
       " '1day_min_WAV',\n",
       " 'day_mean_WAV',\n",
       " 'day_max_WAV',\n",
       " 'day_min_WAV',\n",
       " '2day_mode_PTY',\n",
       " '1day_mode_PTY',\n",
       " 'day_mode_PTY',\n",
       " '2day_mode_SKY',\n",
       " '1day_mode_SKY',\n",
       " 'day_mode_SKY',\n",
       " '2day_sum_rain',\n",
       " '2day_max_rain',\n",
       " '1day_sum_rain',\n",
       " '1day_max_rain',\n",
       " 'day_sum_rain',\n",
       " 'day_max_rain']"
      ]
     },
     "execution_count": 113,
     "metadata": {},
     "output_type": "execute_result"
    }
   ],
   "source": [
    "numerical_feats"
   ]
  },
  {
   "cell_type": "code",
   "execution_count": 114,
   "id": "4e371acd",
   "metadata": {},
   "outputs": [
    {
     "data": {
      "text/plain": [
       "['STORUNST',\n",
       " 'FROR_CD',\n",
       " 'FRTP_CD',\n",
       " 'KOFTR_GROU',\n",
       " 'DMCLS_CD',\n",
       " 'AGCLS_CD',\n",
       " 'DNST_CD',\n",
       " 'HEIGHT',\n",
       " 'PRRCK_LARG',\n",
       " 'PRRCK_MDDL',\n",
       " 'CLZN_CD',\n",
       " 'TPGRP_TPCD',\n",
       " 'PRDN_FOM_C',\n",
       " 'SLANT_TYP',\n",
       " 'SLDPT_TPCD',\n",
       " 'SCSTX_CD',\n",
       " 'SLTP_CD',\n",
       " 'TPTP']"
      ]
     },
     "execution_count": 114,
     "metadata": {},
     "output_type": "execute_result"
    }
   ],
   "source": [
    "categorical_feats"
   ]
  },
  {
   "cell_type": "code",
   "execution_count": 115,
   "id": "ebb8bdb8",
   "metadata": {},
   "outputs": [],
   "source": [
    "train_1_array=np.array(train_1)"
   ]
  },
  {
   "cell_type": "code",
   "execution_count": 116,
   "id": "fb7ebb9e",
   "metadata": {},
   "outputs": [],
   "source": [
    "from sklearn.preprocessing import LabelEncoder\n",
    "le = LabelEncoder()\n",
    "train_1_array[:, 86]=le.fit_transform(train_1_array[:,86])\n",
    "train_1_array[:, 6]=le.fit_transform(train_1_array[:,6])"
   ]
  },
  {
   "cell_type": "code",
   "execution_count": 117,
   "id": "db1f2c26",
   "metadata": {},
   "outputs": [],
   "source": [
    "train_1= pd.DataFrame(train_1_array, columns=train_1.columns)"
   ]
  },
  {
   "cell_type": "code",
   "execution_count": 118,
   "id": "ad9a44b9",
   "metadata": {},
   "outputs": [],
   "source": [
    "from sklearn.preprocessing import StandardScaler\n",
    "from category_encoders.ordinal import OrdinalEncoder"
   ]
  },
  {
   "cell_type": "code",
   "execution_count": 119,
   "id": "5e962d2f",
   "metadata": {},
   "outputs": [],
   "source": [
    "encoder = OrdinalEncoder(categorical_feats)\n",
    "train_1[categorical_feats] = encoder.fit_transform(train_1[categorical_feats], train_1['target_1'])"
   ]
  },
  {
   "cell_type": "code",
   "execution_count": 120,
   "id": "221decaf",
   "metadata": {},
   "outputs": [],
   "source": [
    "test_1=pd.read_csv(r'C:\\Users\\stat_17\\Desktop\\svt\\w_test_2_group.csv')"
   ]
  },
  {
   "cell_type": "code",
   "execution_count": 121,
   "id": "ce9ea054",
   "metadata": {},
   "outputs": [],
   "source": [
    "test_1['TPTP'] = test_1['TPGRP_TPCD'].astype(str)  + test_1['PRDN_FOM_C'].astype(str) "
   ]
  },
  {
   "cell_type": "code",
   "execution_count": 122,
   "id": "b14a48b7",
   "metadata": {},
   "outputs": [],
   "source": [
    "test_id_1=test_1[['index', 'date', 'umd']]"
   ]
  },
  {
   "cell_type": "code",
   "execution_count": 123,
   "id": "0ffa0e5c",
   "metadata": {},
   "outputs": [],
   "source": [
    "test_1=test_1.drop(['index', 'date', 'umd'], axis=1)"
   ]
  },
  {
   "cell_type": "code",
   "execution_count": 124,
   "id": "9d71fccd",
   "metadata": {},
   "outputs": [],
   "source": [
    "test_1_array=np.array(test_1)"
   ]
  },
  {
   "cell_type": "code",
   "execution_count": 125,
   "id": "e783666a",
   "metadata": {},
   "outputs": [],
   "source": [
    "from sklearn.preprocessing import LabelEncoder\n",
    "le = LabelEncoder()\n",
    "test_1_array[:, 86]=le.fit_transform(test_1_array[:,86])\n",
    "test_1_array[:, 6]=le.fit_transform(test_1_array[:,6])"
   ]
  },
  {
   "cell_type": "code",
   "execution_count": 126,
   "id": "6194801c",
   "metadata": {},
   "outputs": [],
   "source": [
    "test_1= pd.DataFrame(test_1_array, columns=test_1.columns)"
   ]
  },
  {
   "cell_type": "code",
   "execution_count": 127,
   "id": "83f077c5",
   "metadata": {},
   "outputs": [],
   "source": [
    "test_1[categorical_feats] = encoder.transform(test_1[categorical_feats])"
   ]
  },
  {
   "cell_type": "code",
   "execution_count": 128,
   "id": "2fddbdc0",
   "metadata": {},
   "outputs": [],
   "source": [
    "scaler = StandardScaler()\n",
    "train_1[numerical_feats] = scaler.fit_transform(train_1[numerical_feats])\n",
    "test_1[numerical_feats] = scaler.transform(test_1[numerical_feats])"
   ]
  },
  {
   "cell_type": "code",
   "execution_count": 129,
   "id": "e4a5e4bb",
   "metadata": {},
   "outputs": [],
   "source": [
    "train_1['target_1']=train_1['target_1'].astype(int)"
   ]
  },
  {
   "cell_type": "code",
   "execution_count": 130,
   "id": "c3328477",
   "metadata": {},
   "outputs": [],
   "source": [
    "n_est = 2000\n",
    "seed = 42\n",
    "n_class = 2\n",
    "X_features = train_1.iloc[:, :-1]\n",
    "y_label = train_1.iloc[:, -1]"
   ]
  },
  {
   "cell_type": "code",
   "execution_count": 131,
   "id": "9e4d9557",
   "metadata": {},
   "outputs": [],
   "source": [
    "import numpy as np\n",
    "import matplotlib.pyplot as plt\n",
    "from sklearn.ensemble import IsolationForest"
   ]
  },
  {
   "cell_type": "code",
   "execution_count": 132,
   "id": "12bcfc2f",
   "metadata": {},
   "outputs": [],
   "source": [
    "# IsolationForest 모델 만들기\n",
    "isol = IsolationForest(max_samples=100, random_state=200) \n",
    "\n",
    "# 만들어 둔 데이터셋에 알고리즘 피팅시키기\n",
    "isol.fit(X_features)\n",
    "y_pred= isol.predict(X_features)"
   ]
  },
  {
   "cell_type": "code",
   "execution_count": 133,
   "id": "6827115c",
   "metadata": {},
   "outputs": [],
   "source": [
    "isola=pd.DataFrame(y_pred, columns= ['isal'])"
   ]
  },
  {
   "cell_type": "code",
   "execution_count": 134,
   "id": "b2563b84",
   "metadata": {},
   "outputs": [],
   "source": [
    "train_1=train_1.join(isola, how='inner')"
   ]
  },
  {
   "cell_type": "code",
   "execution_count": 135,
   "id": "372d38ab",
   "metadata": {},
   "outputs": [],
   "source": [
    "train_1=train_1[train_1['isal']== 1]"
   ]
  },
  {
   "cell_type": "code",
   "execution_count": 136,
   "id": "6ee66952",
   "metadata": {},
   "outputs": [],
   "source": [
    "train_1=train_1.drop(['isal'], axis=1)"
   ]
  },
  {
   "cell_type": "code",
   "execution_count": 30,
   "id": "5ff167d3",
   "metadata": {},
   "outputs": [],
   "source": [
    "X_features = train_1.iloc[:, :-1]\n",
    "y_label = train_1.iloc[:, -1]"
   ]
  },
  {
   "cell_type": "code",
   "execution_count": 137,
   "id": "5a93843c",
   "metadata": {},
   "outputs": [
    {
     "data": {
      "text/plain": [
       "<AxesSubplot:xlabel='target_1', ylabel='count'>"
      ]
     },
     "execution_count": 137,
     "metadata": {},
     "output_type": "execute_result"
    },
    {
     "data": {
      "image/png": "[encoded data removed]",
      "text/plain": [
       "<Figure size 432x288 with 1 Axes>"
      ]
     },
     "metadata": {
      "needs_background": "light"
     },
     "output_type": "display_data"
    }
   ],
   "source": [
    "import seaborn as sns\n",
    "colors=['steelblue','salmon']\n",
    "sns.countplot(train_1['target_1'],palette=colors)"
   ]
  },
  {
   "cell_type": "code",
   "execution_count": 138,
   "id": "1dee2347",
   "metadata": {},
   "outputs": [
    {
     "name": "stdout",
     "output_type": "stream",
     "text": [
      "(4335, 87) (1858, 87)\n"
     ]
    }
   ],
   "source": [
    "# shuffle1\n",
    "import sklearn\n",
    "from sklearn.model_selection import train_test_split\n",
    "import warnings\n",
    "warnings.filterwarnings('ignore')\n",
    "\n",
    "x_shuffled1 = sklearn.utils.shuffle(X_features, random_state=2021)\n",
    "y_shuffled1 =sklearn.utils.shuffle(y_label, random_state=2021)\n",
    "X_train1, X_test1, y_train1, y_test1=train_test_split(x_shuffled1, y_shuffled1, test_size=0.3, random_state=2021, stratify=y_label)\n",
    "print(X_train1.shape, X_test1.shape)"
   ]
  },
  {
   "cell_type": "code",
   "execution_count": 139,
   "id": "e75d7c55",
   "metadata": {},
   "outputs": [],
   "source": [
    "from imblearn.over_sampling import SMOTENC\n",
    "smote_nc = SMOTENC(categorical_features=[0, 1, 2, 3, 4, 5, 6, 7, 8, 9, 10, 11, 12, 13, 14, 15, 16], random_state=0)\n",
    "X_resampled1, y_resampled1 = smote_nc.fit_resample(X_train1, y_train1)"
   ]
  },
  {
   "cell_type": "code",
   "execution_count": 141,
   "id": "b63eb63c",
   "metadata": {},
   "outputs": [
    {
     "data": {
      "text/plain": [
       "<AxesSubplot:xlabel='target_1', ylabel='count'>"
      ]
     },
     "execution_count": 141,
     "metadata": {},
     "output_type": "execute_result"
    },
    {
     "data": {
      "image/png": "[encoded data removed]",
      "text/plain": [
       "<Figure size 432x288 with 1 Axes>"
      ]
     },
     "metadata": {
      "needs_background": "light"
     },
     "output_type": "display_data"
    }
   ],
   "source": [
    "import seaborn as sns\n",
    "colors=['steelblue','salmon']\n",
    "sns.countplot(y_resampled1,palette=colors)"
   ]
  },
  {
   "cell_type": "code",
   "execution_count": 140,
   "id": "bb813705",
   "metadata": {},
   "outputs": [
    {
     "name": "stdout",
     "output_type": "stream",
     "text": [
      "(4335, 87) (1858, 87)\n"
     ]
    }
   ],
   "source": [
    "# shuffle2\n",
    "import sklearn\n",
    "from sklearn.model_selection import train_test_split\n",
    "import warnings\n",
    "warnings.filterwarnings('ignore')\n",
    "\n",
    "x_shuffled2 = sklearn.utils.shuffle(X_features, random_state=2022)\n",
    "y_shuffled2 =sklearn.utils.shuffle(y_label, random_state=2022)\n",
    "X_train2, X_test2, y_train2, y_test2=train_test_split(x_shuffled2, y_shuffled2, test_size=0.3, random_state=2021, stratify=y_label)\n",
    "print(X_train2.shape, X_test2.shape)"
   ]
  },
  {
   "cell_type": "code",
   "execution_count": 34,
   "id": "5f1e2d98",
   "metadata": {},
   "outputs": [],
   "source": [
    "from imblearn.over_sampling import SMOTENC\n",
    "smote_nc = SMOTENC(categorical_features=[0, 1, 2, 3, 4, 5, 6, 7, 8, 9, 10, 11, 12, 13, 14, 15, 16], random_state=0)\n",
    "X_resampled2, y_resampled2 = smote_nc.fit_resample(X_train2, y_train2)"
   ]
  },
  {
   "cell_type": "code",
   "execution_count": 35,
   "id": "fc611d8a",
   "metadata": {},
   "outputs": [
    {
     "name": "stdout",
     "output_type": "stream",
     "text": [
      "(3651, 87) (1566, 87)\n"
     ]
    }
   ],
   "source": [
    "# shuffle3\n",
    "import sklearn\n",
    "from sklearn.model_selection import train_test_split\n",
    "import warnings\n",
    "warnings.filterwarnings('ignore')\n",
    "\n",
    "x_shuffled3 = sklearn.utils.shuffle(X_features, random_state=2023)\n",
    "y_shuffled3 =sklearn.utils.shuffle(y_label, random_state=2023)\n",
    "X_train3, X_test3, y_train3, y_test3=train_test_split(x_shuffled3, y_shuffled3, test_size=0.3, random_state=2021, stratify=y_label)\n",
    "print(X_train3.shape, X_test3.shape)"
   ]
  },
  {
   "cell_type": "code",
   "execution_count": 36,
   "id": "575398bd",
   "metadata": {},
   "outputs": [],
   "source": [
    "from imblearn.over_sampling import SMOTENC\n",
    "smote_nc = SMOTENC(categorical_features=[0, 1, 2, 3, 4, 5, 6, 7, 8, 9, 10, 11, 12, 13, 14, 15, 16], random_state=0)\n",
    "X_resampled3, y_resampled3 = smote_nc.fit_resample(X_train3, y_train3)"
   ]
  },
  {
   "cell_type": "code",
   "execution_count": 37,
   "id": "06bfcb4a",
   "metadata": {},
   "outputs": [
    {
     "name": "stdout",
     "output_type": "stream",
     "text": [
      "(3651, 87) (1566, 87)\n"
     ]
    }
   ],
   "source": [
    "# shuffle4\n",
    "import sklearn\n",
    "from sklearn.model_selection import train_test_split\n",
    "import warnings\n",
    "warnings.filterwarnings('ignore')\n",
    "\n",
    "x_shuffled4 = sklearn.utils.shuffle(X_features, random_state=2024)\n",
    "y_shuffled4 =sklearn.utils.shuffle(y_label, random_state=2024)\n",
    "X_train4, X_test4, y_train4, y_test4=train_test_split(x_shuffled4, y_shuffled4, test_size=0.3, random_state=2021, stratify=y_label)\n",
    "print(X_train4.shape, X_test4.shape)"
   ]
  },
  {
   "cell_type": "code",
   "execution_count": 38,
   "id": "ac0ed8a1",
   "metadata": {},
   "outputs": [],
   "source": [
    "from imblearn.over_sampling import SMOTENC\n",
    "smote_nc = SMOTENC(categorical_features=[0, 1, 2, 3, 4, 5, 6, 7, 8, 9, 10, 11, 12, 13, 14, 15, 16], random_state=0)\n",
    "X_resampled4, y_resampled4 = smote_nc.fit_resample(X_train4, y_train4)"
   ]
  },
  {
   "cell_type": "code",
   "execution_count": 39,
   "id": "44295899",
   "metadata": {},
   "outputs": [
    {
     "name": "stdout",
     "output_type": "stream",
     "text": [
      "(3651, 87) (1566, 87)\n"
     ]
    }
   ],
   "source": [
    "# shuffle5\n",
    "import sklearn\n",
    "from sklearn.model_selection import train_test_split\n",
    "import warnings\n",
    "warnings.filterwarnings('ignore')\n",
    "\n",
    "x_shuffled5 = sklearn.utils.shuffle(X_features, random_state=2025)\n",
    "y_shuffled5 =sklearn.utils.shuffle(y_label, random_state=2025)\n",
    "X_train5, X_test5, y_train5, y_test5=train_test_split(x_shuffled5, y_shuffled5, test_size=0.3, random_state=2021, stratify=y_label)\n",
    "print(X_train5.shape, X_test5.shape)"
   ]
  },
  {
   "cell_type": "code",
   "execution_count": 40,
   "id": "b0215e10",
   "metadata": {},
   "outputs": [],
   "source": [
    "from imblearn.over_sampling import SMOTENC\n",
    "smote_nc = SMOTENC(categorical_features=[0, 1, 2, 3, 4, 5, 6, 7, 8, 9, 10, 11, 12, 13, 14, 15, 16], random_state=0)\n",
    "X_resampled5, y_resampled5 = smote_nc.fit_resample(X_train5, y_train5)"
   ]
  },
  {
   "cell_type": "code",
   "execution_count": 41,
   "id": "ec99c03b",
   "metadata": {},
   "outputs": [
    {
     "name": "stdout",
     "output_type": "stream",
     "text": [
      "(3651, 87) (1566, 87)\n"
     ]
    }
   ],
   "source": [
    "# shuffle6\n",
    "import sklearn\n",
    "from sklearn.model_selection import train_test_split\n",
    "import warnings\n",
    "warnings.filterwarnings('ignore')\n",
    "\n",
    "x_shuffled6 = sklearn.utils.shuffle(X_features, random_state=2026)\n",
    "y_shuffled6 =sklearn.utils.shuffle(y_label, random_state=2026)\n",
    "X_train6, X_test6, y_train6, y_test6=train_test_split(x_shuffled6, y_shuffled6, test_size=0.3, random_state=2021, stratify=y_label)\n",
    "print(X_train6.shape, X_test6.shape)"
   ]
  },
  {
   "cell_type": "code",
   "execution_count": 42,
   "id": "08d4e14e",
   "metadata": {},
   "outputs": [],
   "source": [
    "from imblearn.over_sampling import SMOTENC\n",
    "smote_nc = SMOTENC(categorical_features=[0, 1, 2, 3, 4, 5, 6, 7, 8, 9, 10, 11, 12, 13, 14, 15, 16], random_state=0)\n",
    "X_resampled6, y_resampled6 = smote_nc.fit_resample(X_train6, y_train6)"
   ]
  },
  {
   "cell_type": "code",
   "execution_count": 43,
   "id": "36593fd9",
   "metadata": {},
   "outputs": [
    {
     "name": "stdout",
     "output_type": "stream",
     "text": [
      "(3651, 87) (1566, 87)\n"
     ]
    }
   ],
   "source": [
    "# shuffle7\n",
    "import sklearn\n",
    "from sklearn.model_selection import train_test_split\n",
    "import warnings\n",
    "warnings.filterwarnings('ignore')\n",
    "\n",
    "x_shuffled7 = sklearn.utils.shuffle(X_features, random_state=2027)\n",
    "y_shuffled7 =sklearn.utils.shuffle(y_label, random_state=2027)\n",
    "X_train7, X_test7, y_train7, y_test7=train_test_split(x_shuffled7, y_shuffled7, test_size=0.3, random_state=2021, stratify=y_label)\n",
    "print(X_train7.shape, X_test7.shape)"
   ]
  },
  {
   "cell_type": "code",
   "execution_count": 44,
   "id": "a4778b13",
   "metadata": {},
   "outputs": [],
   "source": [
    "from imblearn.over_sampling import SMOTENC\n",
    "smote_nc = SMOTENC(categorical_features=[0, 1, 2, 3, 4, 5, 6, 7, 8, 9, 10, 11, 12, 13, 14, 15, 16], random_state=0)\n",
    "X_resampled7, y_resampled7 = smote_nc.fit_resample(X_train7, y_train7)"
   ]
  },
  {
   "cell_type": "code",
   "execution_count": 45,
   "id": "17794320",
   "metadata": {},
   "outputs": [
    {
     "name": "stdout",
     "output_type": "stream",
     "text": [
      "(3651, 87) (1566, 87)\n"
     ]
    }
   ],
   "source": [
    "# shuffle8\n",
    "import sklearn\n",
    "from sklearn.model_selection import train_test_split\n",
    "import warnings\n",
    "warnings.filterwarnings('ignore')\n",
    "\n",
    "x_shuffled8 = sklearn.utils.shuffle(X_features, random_state=2028)\n",
    "y_shuffled8 =sklearn.utils.shuffle(y_label, random_state=2028)\n",
    "X_train8, X_test8, y_train8, y_test8=train_test_split(x_shuffled8, y_shuffled8, test_size=0.3, random_state=2021, stratify=y_label)\n",
    "print(X_train8.shape, X_test8.shape)"
   ]
  },
  {
   "cell_type": "code",
   "execution_count": 46,
   "id": "a65bb655",
   "metadata": {},
   "outputs": [],
   "source": [
    "from imblearn.over_sampling import SMOTENC\n",
    "smote_nc = SMOTENC(categorical_features=[0, 1, 2, 3, 4, 5, 6, 7, 8, 9, 10, 11, 12, 13, 14, 15, 16], random_state=0)\n",
    "X_resampled8, y_resampled8 = smote_nc.fit_resample(X_train8, y_train8)"
   ]
  },
  {
   "cell_type": "code",
   "execution_count": 47,
   "id": "2fab7a8f",
   "metadata": {},
   "outputs": [
    {
     "name": "stdout",
     "output_type": "stream",
     "text": [
      "(3651, 87) (1566, 87)\n"
     ]
    }
   ],
   "source": [
    "# shuffle9\n",
    "import sklearn\n",
    "from sklearn.model_selection import train_test_split\n",
    "import warnings\n",
    "warnings.filterwarnings('ignore')\n",
    "\n",
    "x_shuffled9 = sklearn.utils.shuffle(X_features, random_state=2029)\n",
    "y_shuffled9 =sklearn.utils.shuffle(y_label, random_state=2029)\n",
    "X_train9, X_test9, y_train9, y_test9=train_test_split(x_shuffled9, y_shuffled9, test_size=0.3, random_state=2021, stratify=y_label)\n",
    "print(X_train9.shape, X_test9.shape)"
   ]
  },
  {
   "cell_type": "code",
   "execution_count": 48,
   "id": "c98844e8",
   "metadata": {},
   "outputs": [],
   "source": [
    "from imblearn.over_sampling import SMOTENC\n",
    "smote_nc = SMOTENC(categorical_features=[0, 1, 2, 3, 4, 5, 6, 7, 8, 9, 10, 11, 12, 13, 14, 15, 16], random_state=0)\n",
    "X_resampled9, y_resampled9 = smote_nc.fit_resample(X_train9, y_train9)"
   ]
  },
  {
   "cell_type": "code",
   "execution_count": 49,
   "id": "ac1f2fb5",
   "metadata": {},
   "outputs": [
    {
     "name": "stdout",
     "output_type": "stream",
     "text": [
      "(3651, 87) (1566, 87)\n"
     ]
    }
   ],
   "source": [
    "# shuffle10\n",
    "import sklearn\n",
    "from sklearn.model_selection import train_test_split\n",
    "import warnings\n",
    "warnings.filterwarnings('ignore')\n",
    "\n",
    "x_shuffled10 = sklearn.utils.shuffle(X_features, random_state=2030)\n",
    "y_shuffled10 =sklearn.utils.shuffle(y_label, random_state=2030)\n",
    "X_train10, X_test10, y_train10, y_test10=train_test_split(x_shuffled10, y_shuffled10, test_size=0.3, random_state=2021, stratify=y_label)\n",
    "print(X_train10.shape, X_test10.shape)"
   ]
  },
  {
   "cell_type": "code",
   "execution_count": 50,
   "id": "1f791c28",
   "metadata": {},
   "outputs": [],
   "source": [
    "from imblearn.over_sampling import SMOTENC\n",
    "smote_nc = SMOTENC(categorical_features=[0, 1, 2, 3, 4, 5, 6, 7, 8, 9, 10, 11, 12, 13, 14, 15, 16], random_state=0)\n",
    "X_resampled10, y_resampled10 = smote_nc.fit_resample(X_train10, y_train10)"
   ]
  },
  {
   "cell_type": "code",
   "execution_count": 51,
   "id": "7de2eb6c",
   "metadata": {},
   "outputs": [],
   "source": [
    "from catboost import CatBoostClassifier, Pool"
   ]
  },
  {
   "cell_type": "code",
   "execution_count": 52,
   "id": "d715d9a1",
   "metadata": {},
   "outputs": [
    {
     "name": "stdout",
     "output_type": "stream",
     "text": [
      "Learning rate set to 0.05099\n",
      "0:\tlearn: 0.6442114\ttest: 0.6407501\tbest: 0.6407501 (0)\ttotal: 196ms\tremaining: 3m 15s\n",
      "100:\tlearn: 0.1047773\ttest: 0.1685170\tbest: 0.1685170 (100)\ttotal: 5.34s\tremaining: 47.6s\n",
      "200:\tlearn: 0.0670986\ttest: 0.1477812\tbest: 0.1477812 (200)\ttotal: 10.4s\tremaining: 41.4s\n",
      "300:\tlearn: 0.0498283\ttest: 0.1423200\tbest: 0.1423200 (300)\ttotal: 15.3s\tremaining: 35.4s\n",
      "400:\tlearn: 0.0376093\ttest: 0.1404598\tbest: 0.1400699 (373)\ttotal: 20.7s\tremaining: 30.9s\n",
      "500:\tlearn: 0.0302838\ttest: 0.1405509\tbest: 0.1399497 (463)\ttotal: 26s\tremaining: 25.9s\n",
      "Stopped by overfitting detector  (100 iterations wait)\n",
      "\n",
      "bestTest = 0.139949703\n",
      "bestIteration = 463\n",
      "\n",
      "Shrink model to first 464 iterations.\n"
     ]
    },
    {
     "data": {
      "text/plain": [
       "<catboost.core.CatBoostClassifier at 0x1c7579c5310>"
      ]
     },
     "execution_count": 52,
     "metadata": {},
     "output_type": "execute_result"
    }
   ],
   "source": [
    "train_data1 = Pool(data=X_resampled1, label=y_resampled1, cat_features=categorical_feats)\n",
    "valid_data1 = Pool(data=X_test1, label=y_test1, cat_features=categorical_feats)\n",
    "\n",
    "model_cat1 = CatBoostClassifier()\n",
    "model_cat1.fit(train_data1, eval_set=valid_data1, use_best_model=True, early_stopping_rounds=100, verbose=100)"
   ]
  },
  {
   "cell_type": "code",
   "execution_count": 53,
   "id": "d8eff0f8",
   "metadata": {},
   "outputs": [
    {
     "name": "stdout",
     "output_type": "stream",
     "text": [
      "Learning rate set to 0.051037\n",
      "0:\tlearn: 0.6495081\ttest: 0.6506399\tbest: 0.6506399 (0)\ttotal: 32.9ms\tremaining: 32.9s\n",
      "100:\tlearn: 0.1031956\ttest: 0.1835003\tbest: 0.1835003 (100)\ttotal: 5.59s\tremaining: 49.8s\n",
      "200:\tlearn: 0.0626644\ttest: 0.1603022\tbest: 0.1602802 (199)\ttotal: 10.5s\tremaining: 41.9s\n",
      "300:\tlearn: 0.0449492\ttest: 0.1541014\tbest: 0.1539338 (295)\ttotal: 15.5s\tremaining: 36s\n",
      "400:\tlearn: 0.0338057\ttest: 0.1511728\tbest: 0.1511728 (400)\ttotal: 20.5s\tremaining: 30.6s\n",
      "500:\tlearn: 0.0260632\ttest: 0.1494694\tbest: 0.1492126 (494)\ttotal: 25.4s\tremaining: 25.3s\n",
      "Stopped by overfitting detector  (100 iterations wait)\n",
      "\n",
      "bestTest = 0.1492125663\n",
      "bestIteration = 494\n",
      "\n",
      "Shrink model to first 495 iterations.\n"
     ]
    },
    {
     "data": {
      "text/plain": [
       "<catboost.core.CatBoostClassifier at 0x1c7597c0d30>"
      ]
     },
     "execution_count": 53,
     "metadata": {},
     "output_type": "execute_result"
    }
   ],
   "source": [
    "train_data2 = Pool(data=X_resampled2, label=y_resampled2, cat_features=categorical_feats)\n",
    "valid_data2 = Pool(data=X_test2, label=y_test2, cat_features=categorical_feats)\n",
    "\n",
    "model_cat2 = CatBoostClassifier()\n",
    "model_cat2.fit(train_data2, eval_set=valid_data2, use_best_model=True, early_stopping_rounds=100, verbose=100)"
   ]
  },
  {
   "cell_type": "code",
   "execution_count": 54,
   "id": "72ee9b12",
   "metadata": {},
   "outputs": [
    {
     "name": "stdout",
     "output_type": "stream",
     "text": [
      "Learning rate set to 0.051023\n",
      "0:\tlearn: 0.6488969\ttest: 0.6505617\tbest: 0.6505617 (0)\ttotal: 41.9ms\tremaining: 41.8s\n",
      "100:\tlearn: 0.1063423\ttest: 0.1793302\tbest: 0.1793302 (100)\ttotal: 5.05s\tremaining: 45s\n",
      "200:\tlearn: 0.0656018\ttest: 0.1537103\tbest: 0.1537103 (200)\ttotal: 10s\tremaining: 39.9s\n",
      "300:\tlearn: 0.0480486\ttest: 0.1457545\tbest: 0.1457337 (296)\ttotal: 15.1s\tremaining: 35.1s\n",
      "400:\tlearn: 0.0369645\ttest: 0.1435742\tbest: 0.1432676 (378)\ttotal: 20.1s\tremaining: 30.1s\n",
      "500:\tlearn: 0.0295000\ttest: 0.1429853\tbest: 0.1428044 (496)\ttotal: 25.2s\tremaining: 25.1s\n",
      "Stopped by overfitting detector  (100 iterations wait)\n",
      "\n",
      "bestTest = 0.1428044153\n",
      "bestIteration = 496\n",
      "\n",
      "Shrink model to first 497 iterations.\n"
     ]
    },
    {
     "data": {
      "text/plain": [
       "<catboost.core.CatBoostClassifier at 0x1c75b9e6220>"
      ]
     },
     "execution_count": 54,
     "metadata": {},
     "output_type": "execute_result"
    }
   ],
   "source": [
    "train_data3 = Pool(data=X_resampled3, label=y_resampled3, cat_features=categorical_feats)\n",
    "valid_data3 = Pool(data=X_test3, label=y_test3, cat_features=categorical_feats)\n",
    "\n",
    "model_cat3 = CatBoostClassifier()\n",
    "model_cat3.fit(train_data3, eval_set=valid_data3, use_best_model=True, early_stopping_rounds=100, verbose=100)"
   ]
  },
  {
   "cell_type": "code",
   "execution_count": 55,
   "id": "9ce6315a",
   "metadata": {},
   "outputs": [
    {
     "name": "stdout",
     "output_type": "stream",
     "text": [
      "Learning rate set to 0.050993\n",
      "0:\tlearn: 0.6505751\ttest: 0.6500438\tbest: 0.6500438 (0)\ttotal: 41.6ms\tremaining: 41.6s\n",
      "100:\tlearn: 0.0995435\ttest: 0.1812652\tbest: 0.1812652 (100)\ttotal: 5.78s\tremaining: 51.4s\n",
      "200:\tlearn: 0.0583774\ttest: 0.1632191\tbest: 0.1629697 (199)\ttotal: 11.4s\tremaining: 45.1s\n",
      "300:\tlearn: 0.0406384\ttest: 0.1573057\tbest: 0.1572210 (299)\ttotal: 16.7s\tremaining: 38.7s\n",
      "400:\tlearn: 0.0306086\ttest: 0.1551510\tbest: 0.1551510 (400)\ttotal: 21.8s\tremaining: 32.6s\n",
      "500:\tlearn: 0.0235829\ttest: 0.1550210\tbest: 0.1543574 (414)\ttotal: 27.2s\tremaining: 27.1s\n",
      "Stopped by overfitting detector  (100 iterations wait)\n",
      "\n",
      "bestTest = 0.1543573918\n",
      "bestIteration = 414\n",
      "\n",
      "Shrink model to first 415 iterations.\n"
     ]
    },
    {
     "data": {
      "text/plain": [
       "<catboost.core.CatBoostClassifier at 0x1c757e6dd30>"
      ]
     },
     "execution_count": 55,
     "metadata": {},
     "output_type": "execute_result"
    }
   ],
   "source": [
    "train_data4 = Pool(data=X_resampled4, label=y_resampled4, cat_features=categorical_feats)\n",
    "valid_data4 = Pool(data=X_test4, label=y_test4, cat_features=categorical_feats)\n",
    "\n",
    "model_cat4 = CatBoostClassifier()\n",
    "model_cat4.fit(train_data4, eval_set=valid_data4, use_best_model=True, early_stopping_rounds=100, verbose=100)"
   ]
  },
  {
   "cell_type": "code",
   "execution_count": 56,
   "id": "28e3355f",
   "metadata": {},
   "outputs": [
    {
     "name": "stdout",
     "output_type": "stream",
     "text": [
      "Learning rate set to 0.051015\n",
      "0:\tlearn: 0.6515192\ttest: 0.6485254\tbest: 0.6485254 (0)\ttotal: 34.9ms\tremaining: 34.9s\n",
      "100:\tlearn: 0.0984890\ttest: 0.1882230\tbest: 0.1882230 (100)\ttotal: 6.13s\tremaining: 54.5s\n",
      "200:\tlearn: 0.0598483\ttest: 0.1674209\tbest: 0.1674131 (198)\ttotal: 11.4s\tremaining: 45.4s\n",
      "300:\tlearn: 0.0422672\ttest: 0.1624597\tbest: 0.1619982 (278)\ttotal: 16.7s\tremaining: 38.7s\n",
      "400:\tlearn: 0.0316409\ttest: 0.1603612\tbest: 0.1602732 (377)\ttotal: 21.9s\tremaining: 32.7s\n",
      "500:\tlearn: 0.0247494\ttest: 0.1619433\tbest: 0.1599679 (417)\ttotal: 27.2s\tremaining: 27.1s\n",
      "Stopped by overfitting detector  (100 iterations wait)\n",
      "\n",
      "bestTest = 0.1599679441\n",
      "bestIteration = 417\n",
      "\n",
      "Shrink model to first 418 iterations.\n"
     ]
    },
    {
     "data": {
      "text/plain": [
       "<catboost.core.CatBoostClassifier at 0x1c757a0bb80>"
      ]
     },
     "execution_count": 56,
     "metadata": {},
     "output_type": "execute_result"
    }
   ],
   "source": [
    "train_data5 = Pool(data=X_resampled5, label=y_resampled5, cat_features=categorical_feats)\n",
    "valid_data5 = Pool(data=X_test5, label=y_test5, cat_features=categorical_feats)\n",
    "\n",
    "model_cat5 = CatBoostClassifier()\n",
    "model_cat5.fit(train_data5, eval_set=valid_data5, use_best_model=True, early_stopping_rounds=100, verbose=100)"
   ]
  },
  {
   "cell_type": "code",
   "execution_count": 57,
   "id": "3fb76cb5",
   "metadata": {},
   "outputs": [
    {
     "name": "stdout",
     "output_type": "stream",
     "text": [
      "Learning rate set to 0.051037\n",
      "0:\tlearn: 0.6578706\ttest: 0.6557917\tbest: 0.6557917 (0)\ttotal: 38.9ms\tremaining: 38.8s\n",
      "100:\tlearn: 0.1142923\ttest: 0.1622347\tbest: 0.1622347 (100)\ttotal: 5.78s\tremaining: 51.4s\n",
      "200:\tlearn: 0.0715492\ttest: 0.1341829\tbest: 0.1341829 (200)\ttotal: 10.7s\tremaining: 42.4s\n",
      "300:\tlearn: 0.0527557\ttest: 0.1240670\tbest: 0.1240661 (299)\ttotal: 16s\tremaining: 37.2s\n",
      "400:\tlearn: 0.0406951\ttest: 0.1211473\tbest: 0.1211059 (395)\ttotal: 21.9s\tremaining: 32.8s\n",
      "500:\tlearn: 0.0322203\ttest: 0.1203211\tbest: 0.1201253 (496)\ttotal: 27.3s\tremaining: 27.2s\n",
      "Stopped by overfitting detector  (100 iterations wait)\n",
      "\n",
      "bestTest = 0.1201252865\n",
      "bestIteration = 496\n",
      "\n",
      "Shrink model to first 497 iterations.\n"
     ]
    },
    {
     "data": {
      "text/plain": [
       "<catboost.core.CatBoostClassifier at 0x1c7584a8b20>"
      ]
     },
     "execution_count": 57,
     "metadata": {},
     "output_type": "execute_result"
    }
   ],
   "source": [
    "train_data6 = Pool(data=X_resampled6, label=y_resampled6, cat_features=categorical_feats)\n",
    "valid_data6 = Pool(data=X_test6, label=y_test6, cat_features=categorical_feats)\n",
    "\n",
    "model_cat6 = CatBoostClassifier()\n",
    "model_cat6.fit(train_data6, eval_set=valid_data6, use_best_model=True, early_stopping_rounds=100, verbose=100)"
   ]
  },
  {
   "cell_type": "code",
   "execution_count": 58,
   "id": "e4173a8e",
   "metadata": {},
   "outputs": [
    {
     "name": "stdout",
     "output_type": "stream",
     "text": [
      "Learning rate set to 0.051048\n",
      "0:\tlearn: 0.6560898\ttest: 0.6524071\tbest: 0.6524071 (0)\ttotal: 43.4ms\tremaining: 43.3s\n",
      "100:\tlearn: 0.1047445\ttest: 0.1684979\tbest: 0.1684979 (100)\ttotal: 5.8s\tremaining: 51.6s\n",
      "200:\tlearn: 0.0592181\ttest: 0.1452542\tbest: 0.1452542 (200)\ttotal: 11s\tremaining: 43.8s\n",
      "300:\tlearn: 0.0437869\ttest: 0.1421045\tbest: 0.1421045 (300)\ttotal: 16.5s\tremaining: 38.4s\n",
      "400:\tlearn: 0.0335901\ttest: 0.1398732\tbest: 0.1396776 (383)\ttotal: 22.2s\tremaining: 33.1s\n",
      "500:\tlearn: 0.0271390\ttest: 0.1397819\tbest: 0.1394219 (480)\ttotal: 27.9s\tremaining: 27.8s\n",
      "Stopped by overfitting detector  (100 iterations wait)\n",
      "\n",
      "bestTest = 0.1394218622\n",
      "bestIteration = 480\n",
      "\n",
      "Shrink model to first 481 iterations.\n"
     ]
    },
    {
     "data": {
      "text/plain": [
       "<catboost.core.CatBoostClassifier at 0x1c758f6dc40>"
      ]
     },
     "execution_count": 58,
     "metadata": {},
     "output_type": "execute_result"
    }
   ],
   "source": [
    "train_data7 = Pool(data=X_resampled7, label=y_resampled7, cat_features=categorical_feats)\n",
    "valid_data7 = Pool(data=X_test7, label=y_test7, cat_features=categorical_feats)\n",
    "\n",
    "model_cat7 = CatBoostClassifier()\n",
    "model_cat7.fit(train_data7, eval_set=valid_data7, use_best_model=True, early_stopping_rounds=100, verbose=100)"
   ]
  },
  {
   "cell_type": "code",
   "execution_count": 59,
   "id": "23104c81",
   "metadata": {},
   "outputs": [
    {
     "name": "stdout",
     "output_type": "stream",
     "text": [
      "Learning rate set to 0.05099\n",
      "0:\tlearn: 0.6536991\ttest: 0.6532053\tbest: 0.6532053 (0)\ttotal: 43.1ms\tremaining: 43.1s\n",
      "100:\tlearn: 0.1127311\ttest: 0.1643724\tbest: 0.1643724 (100)\ttotal: 5.77s\tremaining: 51.4s\n",
      "200:\tlearn: 0.0707054\ttest: 0.1371846\tbest: 0.1371846 (200)\ttotal: 10.8s\tremaining: 43s\n",
      "300:\tlearn: 0.0515257\ttest: 0.1293982\tbest: 0.1293982 (300)\ttotal: 16.4s\tremaining: 38s\n",
      "400:\tlearn: 0.0403527\ttest: 0.1269414\tbest: 0.1269292 (393)\ttotal: 21.7s\tremaining: 32.4s\n",
      "500:\tlearn: 0.0315983\ttest: 0.1250096\tbest: 0.1249255 (495)\ttotal: 26.7s\tremaining: 26.6s\n",
      "600:\tlearn: 0.0263960\ttest: 0.1248534\tbest: 0.1245265 (556)\ttotal: 31.9s\tremaining: 21.2s\n",
      "700:\tlearn: 0.0222294\ttest: 0.1249785\tbest: 0.1242673 (620)\ttotal: 37.3s\tremaining: 15.9s\n",
      "Stopped by overfitting detector  (100 iterations wait)\n",
      "\n",
      "bestTest = 0.1242673079\n",
      "bestIteration = 620\n",
      "\n",
      "Shrink model to first 621 iterations.\n"
     ]
    },
    {
     "data": {
      "text/plain": [
       "<catboost.core.CatBoostClassifier at 0x1c758f3fb80>"
      ]
     },
     "execution_count": 59,
     "metadata": {},
     "output_type": "execute_result"
    }
   ],
   "source": [
    "train_data8 = Pool(data=X_resampled8, label=y_resampled8, cat_features=categorical_feats)\n",
    "valid_data8 = Pool(data=X_test8, label=y_test8, cat_features=categorical_feats)\n",
    "\n",
    "model_cat8 = CatBoostClassifier()\n",
    "model_cat8.fit(train_data8, eval_set=valid_data8, use_best_model=True, early_stopping_rounds=100, verbose=100)"
   ]
  },
  {
   "cell_type": "code",
   "execution_count": 60,
   "id": "0df3d580",
   "metadata": {},
   "outputs": [
    {
     "name": "stdout",
     "output_type": "stream",
     "text": [
      "Learning rate set to 0.050993\n",
      "0:\tlearn: 0.6464058\ttest: 0.6462516\tbest: 0.6462516 (0)\ttotal: 64ms\tremaining: 1m 3s\n",
      "100:\tlearn: 0.1039416\ttest: 0.1801528\tbest: 0.1801528 (100)\ttotal: 5.96s\tremaining: 53.1s\n",
      "200:\tlearn: 0.0688378\ttest: 0.1593997\tbest: 0.1590909 (192)\ttotal: 11.5s\tremaining: 45.6s\n",
      "300:\tlearn: 0.0492503\ttest: 0.1510908\tbest: 0.1509605 (298)\ttotal: 17.3s\tremaining: 40.2s\n",
      "400:\tlearn: 0.0378290\ttest: 0.1469834\tbest: 0.1464263 (384)\ttotal: 23.1s\tremaining: 34.6s\n",
      "500:\tlearn: 0.0295938\ttest: 0.1455128\tbest: 0.1450424 (491)\ttotal: 28.3s\tremaining: 28.2s\n",
      "Stopped by overfitting detector  (100 iterations wait)\n",
      "\n",
      "bestTest = 0.1450423827\n",
      "bestIteration = 491\n",
      "\n",
      "Shrink model to first 492 iterations.\n"
     ]
    },
    {
     "data": {
      "text/plain": [
       "<catboost.core.CatBoostClassifier at 0x1c7571352e0>"
      ]
     },
     "execution_count": 60,
     "metadata": {},
     "output_type": "execute_result"
    }
   ],
   "source": [
    "train_data9 = Pool(data=X_resampled9, label=y_resampled9, cat_features=categorical_feats)\n",
    "valid_data9 = Pool(data=X_test9, label=y_test9, cat_features=categorical_feats)\n",
    "\n",
    "model_cat9 = CatBoostClassifier()\n",
    "model_cat9.fit(train_data9, eval_set=valid_data9, use_best_model=True, early_stopping_rounds=100, verbose=100)"
   ]
  },
  {
   "cell_type": "code",
   "execution_count": 61,
   "id": "839b2abd",
   "metadata": {},
   "outputs": [
    {
     "name": "stdout",
     "output_type": "stream",
     "text": [
      "Learning rate set to 0.051004\n",
      "0:\tlearn: 0.6552267\ttest: 0.6565760\tbest: 0.6565760 (0)\ttotal: 34.2ms\tremaining: 34.2s\n",
      "100:\tlearn: 0.1079922\ttest: 0.1690827\tbest: 0.1690827 (100)\ttotal: 5.65s\tremaining: 50.3s\n",
      "200:\tlearn: 0.0656615\ttest: 0.1414954\tbest: 0.1414954 (200)\ttotal: 11s\tremaining: 43.8s\n",
      "300:\tlearn: 0.0452048\ttest: 0.1317682\tbest: 0.1317682 (300)\ttotal: 16.2s\tremaining: 37.7s\n",
      "400:\tlearn: 0.0351773\ttest: 0.1279587\tbest: 0.1279504 (392)\ttotal: 21.3s\tremaining: 31.8s\n",
      "500:\tlearn: 0.0277253\ttest: 0.1249015\tbest: 0.1247893 (498)\ttotal: 26.3s\tremaining: 26.2s\n",
      "600:\tlearn: 0.0232759\ttest: 0.1244942\tbest: 0.1242688 (592)\ttotal: 31.3s\tremaining: 20.8s\n",
      "Stopped by overfitting detector  (100 iterations wait)\n",
      "\n",
      "bestTest = 0.1242687953\n",
      "bestIteration = 592\n",
      "\n",
      "Shrink model to first 593 iterations.\n"
     ]
    },
    {
     "data": {
      "text/plain": [
       "<catboost.core.CatBoostClassifier at 0x1c7568d8be0>"
      ]
     },
     "execution_count": 61,
     "metadata": {},
     "output_type": "execute_result"
    }
   ],
   "source": [
    "train_data10 = Pool(data=X_resampled10, label=y_resampled10, cat_features=categorical_feats)\n",
    "valid_data10 = Pool(data=X_test10, label=y_test10, cat_features=categorical_feats)\n",
    "\n",
    "model_cat10 = CatBoostClassifier()\n",
    "model_cat10.fit(train_data10, eval_set=valid_data10, use_best_model=True, early_stopping_rounds=100, verbose=100)"
   ]
  },
  {
   "cell_type": "code",
   "execution_count": 62,
   "id": "2182103a",
   "metadata": {},
   "outputs": [],
   "source": [
    "cat_pred_test1 = model_cat1.predict_proba(data=test_1)[:,1]"
   ]
  },
  {
   "cell_type": "code",
   "execution_count": 63,
   "id": "94efe939",
   "metadata": {},
   "outputs": [],
   "source": [
    "cat_pred_test2 = model_cat2.predict_proba(data=test_1)[:,1]"
   ]
  },
  {
   "cell_type": "code",
   "execution_count": 64,
   "id": "29bdd303",
   "metadata": {},
   "outputs": [],
   "source": [
    "cat_pred_test3 = model_cat3.predict_proba(data=test_1)[:,1]"
   ]
  },
  {
   "cell_type": "code",
   "execution_count": 65,
   "id": "ca39bdb0",
   "metadata": {},
   "outputs": [],
   "source": [
    "cat_pred_test4 = model_cat4.predict_proba(data=test_1)[:,1]"
   ]
  },
  {
   "cell_type": "code",
   "execution_count": 66,
   "id": "85c2c702",
   "metadata": {},
   "outputs": [],
   "source": [
    "cat_pred_test5 = model_cat5.predict_proba(data=test_1)[:,1]"
   ]
  },
  {
   "cell_type": "code",
   "execution_count": 67,
   "id": "c25264db",
   "metadata": {},
   "outputs": [],
   "source": [
    "cat_pred_test6 = model_cat6.predict_proba(data=test_1)[:,1]"
   ]
  },
  {
   "cell_type": "code",
   "execution_count": 68,
   "id": "2871f45c",
   "metadata": {},
   "outputs": [],
   "source": [
    "cat_pred_test7 = model_cat7.predict_proba(data=test_1)[:,1]"
   ]
  },
  {
   "cell_type": "code",
   "execution_count": 69,
   "id": "94fe7290",
   "metadata": {},
   "outputs": [],
   "source": [
    "cat_pred_test8 = model_cat8.predict_proba(data=test_1)[:,1]"
   ]
  },
  {
   "cell_type": "code",
   "execution_count": 70,
   "id": "d7d61add",
   "metadata": {},
   "outputs": [],
   "source": [
    "cat_pred_test9 = model_cat9.predict_proba(data=test_1)[:,1]"
   ]
  },
  {
   "cell_type": "code",
   "execution_count": 71,
   "id": "04008acc",
   "metadata": {},
   "outputs": [],
   "source": [
    "cat_pred_test10 = model_cat10.predict_proba(data=test_1)[:,1]"
   ]
  },
  {
   "cell_type": "code",
   "execution_count": 72,
   "id": "559054c4",
   "metadata": {},
   "outputs": [],
   "source": [
    "preds1 = [ 1 if x > 0.5 else 0 for x in cat_pred_test1 ]"
   ]
  },
  {
   "cell_type": "code",
   "execution_count": 73,
   "id": "a85b1cc6",
   "metadata": {},
   "outputs": [],
   "source": [
    "preds2 = [ 1 if x > 0.5 else 0 for x in cat_pred_test2 ]"
   ]
  },
  {
   "cell_type": "code",
   "execution_count": 74,
   "id": "c7fea122",
   "metadata": {},
   "outputs": [],
   "source": [
    "preds3 = [ 1 if x > 0.5 else 0 for x in cat_pred_test3 ]"
   ]
  },
  {
   "cell_type": "code",
   "execution_count": 75,
   "id": "8a402872",
   "metadata": {},
   "outputs": [],
   "source": [
    "preds4 = [ 1 if x > 0.5 else 0 for x in cat_pred_test4 ]"
   ]
  },
  {
   "cell_type": "code",
   "execution_count": 76,
   "id": "65a813f0",
   "metadata": {},
   "outputs": [],
   "source": [
    "preds5 = [ 1 if x > 0.5 else 0 for x in cat_pred_test5 ]"
   ]
  },
  {
   "cell_type": "code",
   "execution_count": 77,
   "id": "4e4a8969",
   "metadata": {},
   "outputs": [],
   "source": [
    "preds6 = [ 1 if x > 0.5 else 0 for x in cat_pred_test6 ]"
   ]
  },
  {
   "cell_type": "code",
   "execution_count": 78,
   "id": "3748ae26",
   "metadata": {},
   "outputs": [],
   "source": [
    "preds7 = [ 1 if x > 0.5 else 0 for x in cat_pred_test7 ]"
   ]
  },
  {
   "cell_type": "code",
   "execution_count": 79,
   "id": "562a7699",
   "metadata": {},
   "outputs": [],
   "source": [
    "preds8 = [ 1 if x > 0.5 else 0 for x in cat_pred_test8 ]"
   ]
  },
  {
   "cell_type": "code",
   "execution_count": 80,
   "id": "e3a0463d",
   "metadata": {},
   "outputs": [],
   "source": [
    "preds9 = [ 1 if x > 0.5 else 0 for x in cat_pred_test9 ]"
   ]
  },
  {
   "cell_type": "code",
   "execution_count": 81,
   "id": "d16d320b",
   "metadata": {},
   "outputs": [],
   "source": [
    "preds10 = [ 1 if x > 0.5 else 0 for x in cat_pred_test10 ]"
   ]
  },
  {
   "cell_type": "code",
   "execution_count": 82,
   "id": "ac75e08e",
   "metadata": {},
   "outputs": [],
   "source": [
    "cat_pred1=pd.DataFrame(preds1, columns= ['col1'])"
   ]
  },
  {
   "cell_type": "code",
   "execution_count": 83,
   "id": "3dd29e09",
   "metadata": {},
   "outputs": [],
   "source": [
    "cat_pred2=pd.DataFrame(preds2, columns= ['col2'])"
   ]
  },
  {
   "cell_type": "code",
   "execution_count": 84,
   "id": "5be0e3f3",
   "metadata": {},
   "outputs": [],
   "source": [
    "cat_pred3=pd.DataFrame(preds3, columns= ['col3'])"
   ]
  },
  {
   "cell_type": "code",
   "execution_count": 85,
   "id": "45a9791a",
   "metadata": {},
   "outputs": [],
   "source": [
    "cat_pred4=pd.DataFrame(preds4, columns= ['col4'])"
   ]
  },
  {
   "cell_type": "code",
   "execution_count": 86,
   "id": "80495f34",
   "metadata": {},
   "outputs": [],
   "source": [
    "cat_pred5=pd.DataFrame(preds5, columns= ['col5'])"
   ]
  },
  {
   "cell_type": "code",
   "execution_count": 87,
   "id": "5b532c7e",
   "metadata": {},
   "outputs": [],
   "source": [
    "cat_pred6=pd.DataFrame(preds6, columns= ['col6'])"
   ]
  },
  {
   "cell_type": "code",
   "execution_count": 88,
   "id": "6f72eb6a",
   "metadata": {},
   "outputs": [],
   "source": [
    "cat_pred7=pd.DataFrame(preds7, columns= ['col7'])"
   ]
  },
  {
   "cell_type": "code",
   "execution_count": 89,
   "id": "eb15fa7a",
   "metadata": {},
   "outputs": [],
   "source": [
    "cat_pred8=pd.DataFrame(preds8, columns= ['col8'])"
   ]
  },
  {
   "cell_type": "code",
   "execution_count": 90,
   "id": "1eaefd4a",
   "metadata": {},
   "outputs": [],
   "source": [
    "cat_pred9=pd.DataFrame(preds9, columns= ['col9'])"
   ]
  },
  {
   "cell_type": "code",
   "execution_count": 91,
   "id": "53044d8d",
   "metadata": {},
   "outputs": [],
   "source": [
    "cat_pred10=pd.DataFrame(preds10, columns= ['col10'])"
   ]
  },
  {
   "cell_type": "code",
   "execution_count": 92,
   "id": "56b0690c",
   "metadata": {},
   "outputs": [
    {
     "data": {
      "text/plain": [
       "0    3323\n",
       "1      87\n",
       "Name: col1, dtype: int64"
      ]
     },
     "execution_count": 92,
     "metadata": {},
     "output_type": "execute_result"
    }
   ],
   "source": [
    "cat_pred1['col1'].value_counts()"
   ]
  },
  {
   "cell_type": "code",
   "execution_count": 93,
   "id": "2825853c",
   "metadata": {},
   "outputs": [
    {
     "data": {
      "text/plain": [
       "0    3334\n",
       "1      76\n",
       "Name: col2, dtype: int64"
      ]
     },
     "execution_count": 93,
     "metadata": {},
     "output_type": "execute_result"
    }
   ],
   "source": [
    "cat_pred2['col2'].value_counts()"
   ]
  },
  {
   "cell_type": "code",
   "execution_count": 94,
   "id": "66dde039",
   "metadata": {},
   "outputs": [
    {
     "data": {
      "text/plain": [
       "0    3283\n",
       "1     127\n",
       "Name: col3, dtype: int64"
      ]
     },
     "execution_count": 94,
     "metadata": {},
     "output_type": "execute_result"
    }
   ],
   "source": [
    "cat_pred3['col3'].value_counts()"
   ]
  },
  {
   "cell_type": "code",
   "execution_count": 95,
   "id": "3f551116",
   "metadata": {},
   "outputs": [
    {
     "data": {
      "text/plain": [
       "0    3286\n",
       "1     124\n",
       "Name: col4, dtype: int64"
      ]
     },
     "execution_count": 95,
     "metadata": {},
     "output_type": "execute_result"
    }
   ],
   "source": [
    "cat_pred4['col4'].value_counts()"
   ]
  },
  {
   "cell_type": "code",
   "execution_count": 96,
   "id": "97cf1927",
   "metadata": {},
   "outputs": [
    {
     "data": {
      "text/plain": [
       "0    3288\n",
       "1     122\n",
       "Name: col5, dtype: int64"
      ]
     },
     "execution_count": 96,
     "metadata": {},
     "output_type": "execute_result"
    }
   ],
   "source": [
    "cat_pred5['col5'].value_counts()"
   ]
  },
  {
   "cell_type": "code",
   "execution_count": 97,
   "id": "03c84dd9",
   "metadata": {},
   "outputs": [
    {
     "data": {
      "text/plain": [
       "0    3282\n",
       "1     128\n",
       "Name: col6, dtype: int64"
      ]
     },
     "execution_count": 97,
     "metadata": {},
     "output_type": "execute_result"
    }
   ],
   "source": [
    "cat_pred6['col6'].value_counts()"
   ]
  },
  {
   "cell_type": "code",
   "execution_count": 98,
   "id": "6567f41c",
   "metadata": {},
   "outputs": [
    {
     "data": {
      "text/plain": [
       "0    3345\n",
       "1      65\n",
       "Name: col7, dtype: int64"
      ]
     },
     "execution_count": 98,
     "metadata": {},
     "output_type": "execute_result"
    }
   ],
   "source": [
    "cat_pred7['col7'].value_counts()"
   ]
  },
  {
   "cell_type": "code",
   "execution_count": 99,
   "id": "5130dd3b",
   "metadata": {},
   "outputs": [
    {
     "data": {
      "text/plain": [
       "0    3287\n",
       "1     123\n",
       "Name: col8, dtype: int64"
      ]
     },
     "execution_count": 99,
     "metadata": {},
     "output_type": "execute_result"
    }
   ],
   "source": [
    "cat_pred8['col8'].value_counts()"
   ]
  },
  {
   "cell_type": "code",
   "execution_count": 100,
   "id": "4bbbd64c",
   "metadata": {},
   "outputs": [
    {
     "data": {
      "text/plain": [
       "0    3254\n",
       "1     156\n",
       "Name: col9, dtype: int64"
      ]
     },
     "execution_count": 100,
     "metadata": {},
     "output_type": "execute_result"
    }
   ],
   "source": [
    "cat_pred9['col9'].value_counts()"
   ]
  },
  {
   "cell_type": "code",
   "execution_count": 101,
   "id": "948a1f11",
   "metadata": {},
   "outputs": [
    {
     "data": {
      "text/plain": [
       "0    3295\n",
       "1     115\n",
       "Name: col10, dtype: int64"
      ]
     },
     "execution_count": 101,
     "metadata": {},
     "output_type": "execute_result"
    }
   ],
   "source": [
    "cat_pred10['col10'].value_counts()"
   ]
  },
  {
   "cell_type": "code",
   "execution_count": 102,
   "id": "fba67a7e",
   "metadata": {},
   "outputs": [],
   "source": [
    "cat_pred=cat_pred1.join(cat_pred2, how= 'inner')\n",
    "cat_pred=cat_pred.join(cat_pred3, how= 'inner')\n",
    "cat_pred=cat_pred.join(cat_pred4, how= 'inner')\n",
    "cat_pred=cat_pred.join(cat_pred5, how= 'inner')\n",
    "cat_pred=cat_pred.join(cat_pred6, how= 'inner')\n",
    "cat_pred=cat_pred.join(cat_pred7, how= 'inner')\n",
    "cat_pred=cat_pred.join(cat_pred8, how= 'inner')\n",
    "cat_pred=cat_pred.join(cat_pred9, how= 'inner')\n",
    "cat_pred=cat_pred.join(cat_pred10, how= 'inner')\n",
    "cat_pred['sum']=cat_pred['col1']+cat_pred['col2']+cat_pred['col3']+cat_pred['col4']+cat_pred['col5']+cat_pred['col6']+cat_pred['col7']+cat_pred['col8']+cat_pred['col9']+cat_pred['col10']"
   ]
  },
  {
   "cell_type": "code",
   "execution_count": 103,
   "id": "ed974704",
   "metadata": {},
   "outputs": [],
   "source": [
    "cat_pred['1day_yn'] = np.where((cat_pred['sum']>=1), 1,0)"
   ]
  },
  {
   "cell_type": "code",
   "execution_count": 104,
   "id": "fc02e609",
   "metadata": {},
   "outputs": [
    {
     "data": {
      "text/plain": [
       "0    3161\n",
       "1     249\n",
       "Name: 1day_yn, dtype: int64"
      ]
     },
     "execution_count": 104,
     "metadata": {},
     "output_type": "execute_result"
    }
   ],
   "source": [
    "cat_pred['1day_yn'].value_counts()"
   ]
  },
  {
   "cell_type": "code",
   "execution_count": 105,
   "id": "0d465ee3",
   "metadata": {},
   "outputs": [],
   "source": [
    "cat_1=test_id_1.join(cat_pred, how= 'inner')"
   ]
  },
  {
   "cell_type": "code",
   "execution_count": 106,
   "id": "e1d5a237",
   "metadata": {},
   "outputs": [
    {
     "data": {
      "text/html": [
       "<div>\n",
       "<style scoped>\n",
       "    .dataframe tbody tr th:only-of-type {\n",
       "        vertical-align: middle;\n",
       "    }\n",
       "\n",
       "    .dataframe tbody tr th {\n",
       "        vertical-align: top;\n",
       "    }\n",
       "\n",
       "    .dataframe thead th {\n",
       "        text-align: right;\n",
       "    }\n",
       "</style>\n",
       "<table border=\"1\" class=\"dataframe\">\n",
       "  <thead>\n",
       "    <tr style=\"text-align: right;\">\n",
       "      <th></th>\n",
       "      <th>index</th>\n",
       "      <th>date</th>\n",
       "      <th>umd</th>\n",
       "      <th>col1</th>\n",
       "      <th>col2</th>\n",
       "      <th>col3</th>\n",
       "      <th>col4</th>\n",
       "      <th>col5</th>\n",
       "      <th>col6</th>\n",
       "      <th>col7</th>\n",
       "      <th>col8</th>\n",
       "      <th>col9</th>\n",
       "      <th>col10</th>\n",
       "      <th>sum</th>\n",
       "      <th>1day_yn</th>\n",
       "    </tr>\n",
       "  </thead>\n",
       "  <tbody>\n",
       "    <tr>\n",
       "      <th>0</th>\n",
       "      <td>0</td>\n",
       "      <td>20200610</td>\n",
       "      <td>곤명면</td>\n",
       "      <td>0</td>\n",
       "      <td>0</td>\n",
       "      <td>0</td>\n",
       "      <td>0</td>\n",
       "      <td>0</td>\n",
       "      <td>0</td>\n",
       "      <td>0</td>\n",
       "      <td>0</td>\n",
       "      <td>0</td>\n",
       "      <td>0</td>\n",
       "      <td>0</td>\n",
       "      <td>0</td>\n",
       "    </tr>\n",
       "    <tr>\n",
       "      <th>1</th>\n",
       "      <td>1</td>\n",
       "      <td>20200611</td>\n",
       "      <td>곤명면</td>\n",
       "      <td>0</td>\n",
       "      <td>0</td>\n",
       "      <td>0</td>\n",
       "      <td>0</td>\n",
       "      <td>0</td>\n",
       "      <td>0</td>\n",
       "      <td>0</td>\n",
       "      <td>0</td>\n",
       "      <td>0</td>\n",
       "      <td>0</td>\n",
       "      <td>0</td>\n",
       "      <td>0</td>\n",
       "    </tr>\n",
       "    <tr>\n",
       "      <th>2</th>\n",
       "      <td>2</td>\n",
       "      <td>20200612</td>\n",
       "      <td>곤명면</td>\n",
       "      <td>0</td>\n",
       "      <td>0</td>\n",
       "      <td>0</td>\n",
       "      <td>0</td>\n",
       "      <td>0</td>\n",
       "      <td>0</td>\n",
       "      <td>0</td>\n",
       "      <td>0</td>\n",
       "      <td>0</td>\n",
       "      <td>0</td>\n",
       "      <td>0</td>\n",
       "      <td>0</td>\n",
       "    </tr>\n",
       "    <tr>\n",
       "      <th>3</th>\n",
       "      <td>3</td>\n",
       "      <td>20200610</td>\n",
       "      <td>곤양면</td>\n",
       "      <td>0</td>\n",
       "      <td>0</td>\n",
       "      <td>0</td>\n",
       "      <td>0</td>\n",
       "      <td>0</td>\n",
       "      <td>0</td>\n",
       "      <td>0</td>\n",
       "      <td>0</td>\n",
       "      <td>0</td>\n",
       "      <td>0</td>\n",
       "      <td>0</td>\n",
       "      <td>0</td>\n",
       "    </tr>\n",
       "    <tr>\n",
       "      <th>4</th>\n",
       "      <td>4</td>\n",
       "      <td>20200611</td>\n",
       "      <td>곤양면</td>\n",
       "      <td>0</td>\n",
       "      <td>0</td>\n",
       "      <td>0</td>\n",
       "      <td>0</td>\n",
       "      <td>0</td>\n",
       "      <td>0</td>\n",
       "      <td>0</td>\n",
       "      <td>0</td>\n",
       "      <td>0</td>\n",
       "      <td>0</td>\n",
       "      <td>0</td>\n",
       "      <td>0</td>\n",
       "    </tr>\n",
       "    <tr>\n",
       "      <th>...</th>\n",
       "      <td>...</td>\n",
       "      <td>...</td>\n",
       "      <td>...</td>\n",
       "      <td>...</td>\n",
       "      <td>...</td>\n",
       "      <td>...</td>\n",
       "      <td>...</td>\n",
       "      <td>...</td>\n",
       "      <td>...</td>\n",
       "      <td>...</td>\n",
       "      <td>...</td>\n",
       "      <td>...</td>\n",
       "      <td>...</td>\n",
       "      <td>...</td>\n",
       "      <td>...</td>\n",
       "    </tr>\n",
       "    <tr>\n",
       "      <th>3405</th>\n",
       "      <td>3405</td>\n",
       "      <td>20200906</td>\n",
       "      <td>환여동</td>\n",
       "      <td>0</td>\n",
       "      <td>0</td>\n",
       "      <td>0</td>\n",
       "      <td>0</td>\n",
       "      <td>0</td>\n",
       "      <td>0</td>\n",
       "      <td>0</td>\n",
       "      <td>0</td>\n",
       "      <td>0</td>\n",
       "      <td>0</td>\n",
       "      <td>0</td>\n",
       "      <td>0</td>\n",
       "    </tr>\n",
       "    <tr>\n",
       "      <th>3406</th>\n",
       "      <td>3406</td>\n",
       "      <td>20200903</td>\n",
       "      <td>흥해읍</td>\n",
       "      <td>0</td>\n",
       "      <td>0</td>\n",
       "      <td>0</td>\n",
       "      <td>0</td>\n",
       "      <td>0</td>\n",
       "      <td>0</td>\n",
       "      <td>0</td>\n",
       "      <td>0</td>\n",
       "      <td>0</td>\n",
       "      <td>0</td>\n",
       "      <td>0</td>\n",
       "      <td>0</td>\n",
       "    </tr>\n",
       "    <tr>\n",
       "      <th>3407</th>\n",
       "      <td>3407</td>\n",
       "      <td>20200904</td>\n",
       "      <td>흥해읍</td>\n",
       "      <td>0</td>\n",
       "      <td>0</td>\n",
       "      <td>0</td>\n",
       "      <td>0</td>\n",
       "      <td>0</td>\n",
       "      <td>0</td>\n",
       "      <td>0</td>\n",
       "      <td>0</td>\n",
       "      <td>0</td>\n",
       "      <td>0</td>\n",
       "      <td>0</td>\n",
       "      <td>0</td>\n",
       "    </tr>\n",
       "    <tr>\n",
       "      <th>3408</th>\n",
       "      <td>3408</td>\n",
       "      <td>20200905</td>\n",
       "      <td>흥해읍</td>\n",
       "      <td>0</td>\n",
       "      <td>0</td>\n",
       "      <td>0</td>\n",
       "      <td>0</td>\n",
       "      <td>0</td>\n",
       "      <td>0</td>\n",
       "      <td>0</td>\n",
       "      <td>0</td>\n",
       "      <td>0</td>\n",
       "      <td>0</td>\n",
       "      <td>0</td>\n",
       "      <td>0</td>\n",
       "    </tr>\n",
       "    <tr>\n",
       "      <th>3409</th>\n",
       "      <td>3409</td>\n",
       "      <td>20200906</td>\n",
       "      <td>흥해읍</td>\n",
       "      <td>0</td>\n",
       "      <td>0</td>\n",
       "      <td>0</td>\n",
       "      <td>0</td>\n",
       "      <td>0</td>\n",
       "      <td>0</td>\n",
       "      <td>0</td>\n",
       "      <td>0</td>\n",
       "      <td>0</td>\n",
       "      <td>0</td>\n",
       "      <td>0</td>\n",
       "      <td>0</td>\n",
       "    </tr>\n",
       "  </tbody>\n",
       "</table>\n",
       "<p>3410 rows × 15 columns</p>\n",
       "</div>"
      ],
      "text/plain": [
       "      index      date  umd  col1  col2  col3  col4  col5  col6  col7  col8  \\\n",
       "0         0  20200610  곤명면     0     0     0     0     0     0     0     0   \n",
       "1         1  20200611  곤명면     0     0     0     0     0     0     0     0   \n",
       "2         2  20200612  곤명면     0     0     0     0     0     0     0     0   \n",
       "3         3  20200610  곤양면     0     0     0     0     0     0     0     0   \n",
       "4         4  20200611  곤양면     0     0     0     0     0     0     0     0   \n",
       "...     ...       ...  ...   ...   ...   ...   ...   ...   ...   ...   ...   \n",
       "3405   3405  20200906  환여동     0     0     0     0     0     0     0     0   \n",
       "3406   3406  20200903  흥해읍     0     0     0     0     0     0     0     0   \n",
       "3407   3407  20200904  흥해읍     0     0     0     0     0     0     0     0   \n",
       "3408   3408  20200905  흥해읍     0     0     0     0     0     0     0     0   \n",
       "3409   3409  20200906  흥해읍     0     0     0     0     0     0     0     0   \n",
       "\n",
       "      col9  col10  sum  1day_yn  \n",
       "0        0      0    0        0  \n",
       "1        0      0    0        0  \n",
       "2        0      0    0        0  \n",
       "3        0      0    0        0  \n",
       "4        0      0    0        0  \n",
       "...    ...    ...  ...      ...  \n",
       "3405     0      0    0        0  \n",
       "3406     0      0    0        0  \n",
       "3407     0      0    0        0  \n",
       "3408     0      0    0        0  \n",
       "3409     0      0    0        0  \n",
       "\n",
       "[3410 rows x 15 columns]"
      ]
     },
     "execution_count": 106,
     "metadata": {},
     "output_type": "execute_result"
    }
   ],
   "source": [
    "cat_1"
   ]
  },
  {
   "cell_type": "code",
   "execution_count": 107,
   "id": "c782c5e9",
   "metadata": {},
   "outputs": [],
   "source": [
    "cat_1.to_csv('cat_2sub2_5.csv', index=False, encoding='CP949')"
   ]
  },
  {
   "cell_type": "code",
   "execution_count": null,
   "id": "ae2b2d02",
   "metadata": {},
   "outputs": [],
   "source": []
  }
 ],
 "metadata": {
  "kernelspec": {
   "display_name": "Python 3",
   "language": "python",
   "name": "python3"
  },
  "language_info": {
   "codemirror_mode": {
    "name": "ipython",
    "version": 3
   },
   "file_extension": ".py",
   "mimetype": "text/x-python",
   "name": "python",
   "nbconvert_exporter": "python",
   "pygments_lexer": "ipython3",
   "version": "3.8.8"
  }
 },
 "nbformat": 4,
 "nbformat_minor": 5
}
