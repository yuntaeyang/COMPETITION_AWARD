{
 "cells": [
  {
   "cell_type": "code",
   "execution_count": 108,
   "id": "b521be83",
   "metadata": {},
   "outputs": [],
   "source": [
    "import pandas as pd\n",
    "import numpy as np"
   ]
  },
  {
   "cell_type": "code",
   "execution_count": 109,
   "id": "511aaa2d",
   "metadata": {},
   "outputs": [],
   "source": [
    "train_1=pd.read_csv(r'C:\\Users\\stat_17\\Desktop\\svt\\w_train_1_group.csv')"
   ]
  },
  {
   "cell_type": "code",
   "execution_count": 110,
   "id": "ef6b3607",
   "metadata": {},
   "outputs": [],
   "source": [
    "train_1['TPTP'] = train_1['TPGRP_TPCD'].astype(str)  + train_1['PRDN_FOM_C'].astype(str)"
   ]
  },
  {
   "cell_type": "code",
   "execution_count": 111,
   "id": "8389ae27",
   "metadata": {},
   "outputs": [],
   "source": [
    "train_1['target_1'] = train_1['target']\n",
    "train_1=train_1.drop(['date', 'umd', 'target'], axis=1)"
   ]
  },
  {
   "cell_type": "code",
   "execution_count": 112,
   "id": "c47e979c",
   "metadata": {},
   "outputs": [
    {
     "name": "stdout",
     "output_type": "stream",
     "text": [
      "Number of Numerical features:  47\n",
      "Number of Categorical features:  18\n"
     ]
    }
   ],
   "source": [
    "numerical_feats = train_1.dtypes[train_1.dtypes == \"float64\"].index.tolist()\n",
    "numerical_feats.remove('target_1')\n",
    "print(\"Number of Numerical features: \", len(numerical_feats))\n",
    "\n",
    "categorical_feats = train_1.dtypes[train_1.dtypes != \"float64\"].index.tolist()\n",
    "print(\"Number of Categorical features: \", len(categorical_feats))"
   ]
  },
  {
   "cell_type": "code",
   "execution_count": 113,
   "id": "a582f707",
   "metadata": {},
   "outputs": [
    {
     "data": {
      "text/plain": [
       "['LOCTN_ALTT',\n",
       " 'LOCTN_GRDN',\n",
       " 'EIGHT_AGL',\n",
       " '1day_mean_T3H',\n",
       " '1day_min_T3H',\n",
       " '1day_max_T3H',\n",
       " 'day_mean_T3H',\n",
       " 'day_min_T3H',\n",
       " 'day_max_T3H',\n",
       " '1day_mean_REH',\n",
       " '1day_min_REH',\n",
       " '1day_max_REH',\n",
       " 'day_mean_REH',\n",
       " 'day_min_REH',\n",
       " 'day_max_REH',\n",
       " '1day_mean_WSD',\n",
       " '1day_min_WSD',\n",
       " '1day_max_WSD',\n",
       " 'day_mean_WSD',\n",
       " 'day_min_WSD',\n",
       " 'day_max_WSD',\n",
       " '1day_mean_VEC',\n",
       " '1day_min_VEC',\n",
       " '1day_max_VEC',\n",
       " 'day_mean_VEC',\n",
       " 'day_min_VEC',\n",
       " 'day_max_VEC',\n",
       " '1day_mean_POP',\n",
       " '1day_min_POP',\n",
       " '1day_max_POP',\n",
       " 'day_mean_POP',\n",
       " 'day_min_POP',\n",
       " 'day_max_POP',\n",
       " '1day_mean_WAV',\n",
       " '1day_min_WAV',\n",
       " '1day_max_WAV',\n",
       " 'day_mean_WAV',\n",
       " 'day_min_WAV',\n",
       " 'day_max_WAV',\n",
       " '1day_mode_PTY',\n",
       " 'day_mode_PTY',\n",
       " '1day_mode_SKY',\n",
       " 'day_mode_SKY',\n",
       " '1day_sum_rain',\n",
       " '1day_max_rain',\n",
       " 'day_sum_rain',\n",
       " 'day_max_rain']"
      ]
     },
     "execution_count": 113,
     "metadata": {},
     "output_type": "execute_result"
    }
   ],
   "source": [
    "numerical_feats"
   ]
  },
  {
   "cell_type": "code",
   "execution_count": 114,
   "id": "4e371acd",
   "metadata": {},
   "outputs": [
    {
     "data": {
      "text/plain": [
       "['STORUNST',\n",
       " 'FROR_CD',\n",
       " 'FRTP_CD',\n",
       " 'KOFTR_GROU',\n",
       " 'DMCLS_CD',\n",
       " 'AGCLS_CD',\n",
       " 'DNST_CD',\n",
       " 'HEIGHT',\n",
       " 'PRRCK_LARG',\n",
       " 'PRRCK_MDDL',\n",
       " 'CLZN_CD',\n",
       " 'TPGRP_TPCD',\n",
       " 'PRDN_FOM_C',\n",
       " 'SLANT_TYP',\n",
       " 'SLDPT_TPCD',\n",
       " 'SCSTX_CD',\n",
       " 'SLTP_CD',\n",
       " 'TPTP']"
      ]
     },
     "execution_count": 114,
     "metadata": {},
     "output_type": "execute_result"
    }
   ],
   "source": [
    "categorical_feats"
   ]
  },
  {
   "cell_type": "code",
   "execution_count": 115,
   "id": "ebb8bdb8",
   "metadata": {},
   "outputs": [],
   "source": [
    "train_1_array=np.array(train_1)"
   ]
  },
  {
   "cell_type": "code",
   "execution_count": 116,
   "id": "fb7ebb9e",
   "metadata": {},
   "outputs": [],
   "source": [
    "from sklearn.preprocessing import LabelEncoder\n",
    "le = LabelEncoder()\n",
    "train_1_array[:, 64]=le.fit_transform(train_1_array[:,64])\n",
    "train_1_array[:, 6]=le.fit_transform(train_1_array[:,6])"
   ]
  },
  {
   "cell_type": "code",
   "execution_count": 117,
   "id": "db1f2c26",
   "metadata": {},
   "outputs": [],
   "source": [
    "train_1= pd.DataFrame(train_1_array, columns=train_1.columns)"
   ]
  },
  {
   "cell_type": "code",
   "execution_count": 118,
   "id": "ad9a44b9",
   "metadata": {},
   "outputs": [],
   "source": [
    "from sklearn.preprocessing import StandardScaler\n",
    "from category_encoders.ordinal import OrdinalEncoder"
   ]
  },
  {
   "cell_type": "code",
   "execution_count": 119,
   "id": "5e962d2f",
   "metadata": {},
   "outputs": [],
   "source": [
    "encoder = OrdinalEncoder(categorical_feats)\n",
    "train_1[categorical_feats] = encoder.fit_transform(train_1[categorical_feats], train_1['target_1'])"
   ]
  },
  {
   "cell_type": "code",
   "execution_count": 120,
   "id": "221decaf",
   "metadata": {},
   "outputs": [],
   "source": [
    "test_1=pd.read_csv(r'C:\\Users\\stat_17\\Desktop\\svt\\w_test_1_group.csv')"
   ]
  },
  {
   "cell_type": "code",
   "execution_count": 121,
   "id": "ce69059d",
   "metadata": {},
   "outputs": [],
   "source": [
    "test_1['TPTP'] = test_1['TPGRP_TPCD'].astype(str)  + test_1['PRDN_FOM_C'].astype(str) "
   ]
  },
  {
   "cell_type": "code",
   "execution_count": 122,
   "id": "b14a48b7",
   "metadata": {},
   "outputs": [],
   "source": [
    "test_id_1=test_1[['index', 'date', 'umd']]"
   ]
  },
  {
   "cell_type": "code",
   "execution_count": 123,
   "id": "0ffa0e5c",
   "metadata": {},
   "outputs": [],
   "source": [
    "test_1=test_1.drop(['index', 'date', 'umd'], axis=1)"
   ]
  },
  {
   "cell_type": "code",
   "execution_count": 124,
   "id": "9d71fccd",
   "metadata": {},
   "outputs": [],
   "source": [
    "test_1_array=np.array(test_1)"
   ]
  },
  {
   "cell_type": "code",
   "execution_count": 125,
   "id": "e783666a",
   "metadata": {},
   "outputs": [],
   "source": [
    "from sklearn.preprocessing import LabelEncoder\n",
    "le = LabelEncoder()\n",
    "test_1_array[:, 64]=le.fit_transform(test_1_array[:,64])\n",
    "test_1_array[:, 6]=le.fit_transform(test_1_array[:,6])"
   ]
  },
  {
   "cell_type": "code",
   "execution_count": 126,
   "id": "6194801c",
   "metadata": {},
   "outputs": [],
   "source": [
    "test_1= pd.DataFrame(test_1_array, columns=test_1.columns)"
   ]
  },
  {
   "cell_type": "code",
   "execution_count": 127,
   "id": "83f077c5",
   "metadata": {},
   "outputs": [],
   "source": [
    "test_1[categorical_feats] = encoder.transform(test_1[categorical_feats])"
   ]
  },
  {
   "cell_type": "code",
   "execution_count": 128,
   "id": "2fddbdc0",
   "metadata": {},
   "outputs": [],
   "source": [
    "scaler = StandardScaler()\n",
    "train_1[numerical_feats] = scaler.fit_transform(train_1[numerical_feats])\n",
    "test_1[numerical_feats] = scaler.transform(test_1[numerical_feats])"
   ]
  },
  {
   "cell_type": "code",
   "execution_count": 129,
   "id": "e4a5e4bb",
   "metadata": {},
   "outputs": [],
   "source": [
    "train_1['target_1']=train_1['target_1'].astype(int)"
   ]
  },
  {
   "cell_type": "code",
   "execution_count": 130,
   "id": "c3328477",
   "metadata": {},
   "outputs": [],
   "source": [
    "n_est = 2000\n",
    "seed = 42\n",
    "n_class = 2\n",
    "X_features = train_1.iloc[:, :-1]\n",
    "y_label = train_1.iloc[:, -1]"
   ]
  },
  {
   "cell_type": "code",
   "execution_count": 131,
   "id": "f5623842",
   "metadata": {},
   "outputs": [],
   "source": [
    "import numpy as np\n",
    "import matplotlib.pyplot as plt\n",
    "from sklearn.ensemble import IsolationForest"
   ]
  },
  {
   "cell_type": "code",
   "execution_count": 132,
   "id": "306914fb",
   "metadata": {},
   "outputs": [],
   "source": [
    "# IsolationForest 모델 만들기\n",
    "isol = IsolationForest(max_samples=100, random_state=200) \n",
    "\n",
    "# 만들어 둔 데이터셋에 알고리즘 피팅시키기\n",
    "isol.fit(X_features)\n",
    "y_pred= isol.predict(X_features)"
   ]
  },
  {
   "cell_type": "code",
   "execution_count": 133,
   "id": "b573ea7e",
   "metadata": {},
   "outputs": [],
   "source": [
    "isola=pd.DataFrame(y_pred, columns= ['isal'])"
   ]
  },
  {
   "cell_type": "code",
   "execution_count": 134,
   "id": "6c67f235",
   "metadata": {},
   "outputs": [],
   "source": [
    "train_1=train_1.join(isola, how='inner')"
   ]
  },
  {
   "cell_type": "code",
   "execution_count": 135,
   "id": "e4982c57",
   "metadata": {},
   "outputs": [],
   "source": [
    "train_1=train_1[train_1['isal']== 1]"
   ]
  },
  {
   "cell_type": "code",
   "execution_count": 136,
   "id": "ad4cb1d2",
   "metadata": {},
   "outputs": [],
   "source": [
    "train_1=train_1.drop(['isal'], axis=1)"
   ]
  },
  {
   "cell_type": "code",
   "execution_count": 137,
   "id": "0b97bb64",
   "metadata": {},
   "outputs": [],
   "source": [
    "X_features = train_1.iloc[:, :-1]\n",
    "y_label = train_1.iloc[:, -1]"
   ]
  },
  {
   "cell_type": "code",
   "execution_count": 139,
   "id": "23744982",
   "metadata": {},
   "outputs": [
    {
     "data": {
      "text/plain": [
       "<AxesSubplot:xlabel='target_1', ylabel='count'>"
      ]
     },
     "execution_count": 139,
     "metadata": {},
     "output_type": "execute_result"
    },
    {
     "data": {
      "image/png": "[encoded data removed]",
      "text/plain": [
       "<Figure size 432x288 with 1 Axes>"
      ]
     },
     "metadata": {
      "needs_background": "light"
     },
     "output_type": "display_data"
    }
   ],
   "source": [
    "import seaborn as sns\n",
    "colors=['steelblue','salmon']\n",
    "sns.countplot(train_1['target_1'],palette=colors)"
   ]
  },
  {
   "cell_type": "code",
   "execution_count": 140,
   "id": "1dee2347",
   "metadata": {},
   "outputs": [
    {
     "name": "stdout",
     "output_type": "stream",
     "text": [
      "(3426, 65) (1469, 65)\n"
     ]
    }
   ],
   "source": [
    "# shuffle1\n",
    "import sklearn\n",
    "from sklearn.model_selection import train_test_split\n",
    "import warnings\n",
    "warnings.filterwarnings('ignore')\n",
    "\n",
    "x_shuffled1 = sklearn.utils.shuffle(X_features, random_state=2021)\n",
    "y_shuffled1 =sklearn.utils.shuffle(y_label, random_state=2021)\n",
    "X_train1, X_test1, y_train1, y_test1=train_test_split(x_shuffled1, y_shuffled1, test_size=0.3, random_state=2021, stratify=y_label)\n",
    "print(X_train1.shape, X_test1.shape)"
   ]
  },
  {
   "cell_type": "code",
   "execution_count": 141,
   "id": "e75d7c55",
   "metadata": {},
   "outputs": [],
   "source": [
    "from imblearn.over_sampling import SMOTENC\n",
    "smote_nc = SMOTENC(categorical_features=[0, 1, 2, 3, 4, 5, 6, 7, 8, 9, 10, 11, 12, 13, 14, 15, 16], random_state=0)\n",
    "X_resampled1, y_resampled1 = smote_nc.fit_resample(X_train1, y_train1)"
   ]
  },
  {
   "cell_type": "code",
   "execution_count": 145,
   "id": "4fff68a9",
   "metadata": {},
   "outputs": [
    {
     "data": {
      "text/plain": [
       "<AxesSubplot:xlabel='target_1', ylabel='count'>"
      ]
     },
     "execution_count": 145,
     "metadata": {},
     "output_type": "execute_result"
    },
    {
     "data": {
      "image/png": "[encoded data removed]",
      "text/plain": [
       "<Figure size 432x288 with 1 Axes>"
      ]
     },
     "metadata": {
      "needs_background": "light"
     },
     "output_type": "display_data"
    }
   ],
   "source": [
    "import seaborn as sns\n",
    "colors=['steelblue','salmon']\n",
    "sns.countplot(y_resampled1,palette=colors)"
   ]
  },
  {
   "cell_type": "code",
   "execution_count": 33,
   "id": "bb813705",
   "metadata": {},
   "outputs": [
    {
     "name": "stdout",
     "output_type": "stream",
     "text": [
      "(3426, 65) (1469, 65)\n"
     ]
    }
   ],
   "source": [
    "# shuffle2\n",
    "import sklearn\n",
    "from sklearn.model_selection import train_test_split\n",
    "import warnings\n",
    "warnings.filterwarnings('ignore')\n",
    "\n",
    "x_shuffled2 = sklearn.utils.shuffle(X_features, random_state=2022)\n",
    "y_shuffled2 =sklearn.utils.shuffle(y_label, random_state=2022)\n",
    "X_train2, X_test2, y_train2, y_test2=train_test_split(x_shuffled2, y_shuffled2, test_size=0.3, random_state=2021, stratify=y_label)\n",
    "print(X_train2.shape, X_test2.shape)"
   ]
  },
  {
   "cell_type": "code",
   "execution_count": 34,
   "id": "5f1e2d98",
   "metadata": {},
   "outputs": [],
   "source": [
    "from imblearn.over_sampling import SMOTENC\n",
    "smote_nc = SMOTENC(categorical_features=[0, 1, 2, 3, 4, 5, 6, 7, 8, 9, 10, 11, 12, 13, 14, 15, 16], random_state=0)\n",
    "X_resampled2, y_resampled2 = smote_nc.fit_resample(X_train2, y_train2)"
   ]
  },
  {
   "cell_type": "code",
   "execution_count": 35,
   "id": "fc611d8a",
   "metadata": {},
   "outputs": [
    {
     "name": "stdout",
     "output_type": "stream",
     "text": [
      "(3426, 65) (1469, 65)\n"
     ]
    }
   ],
   "source": [
    "# shuffle3\n",
    "import sklearn\n",
    "from sklearn.model_selection import train_test_split\n",
    "import warnings\n",
    "warnings.filterwarnings('ignore')\n",
    "\n",
    "x_shuffled3 = sklearn.utils.shuffle(X_features, random_state=2023)\n",
    "y_shuffled3 =sklearn.utils.shuffle(y_label, random_state=2023)\n",
    "X_train3, X_test3, y_train3, y_test3=train_test_split(x_shuffled3, y_shuffled3, test_size=0.3, random_state=2021, stratify=y_label)\n",
    "print(X_train3.shape, X_test3.shape)"
   ]
  },
  {
   "cell_type": "code",
   "execution_count": 36,
   "id": "575398bd",
   "metadata": {},
   "outputs": [],
   "source": [
    "from imblearn.over_sampling import SMOTENC\n",
    "smote_nc = SMOTENC(categorical_features=[0, 1, 2, 3, 4, 5, 6, 7, 8, 9, 10, 11, 12, 13, 14, 15, 16], random_state=0)\n",
    "X_resampled3, y_resampled3 = smote_nc.fit_resample(X_train3, y_train3)"
   ]
  },
  {
   "cell_type": "code",
   "execution_count": 37,
   "id": "06bfcb4a",
   "metadata": {},
   "outputs": [
    {
     "name": "stdout",
     "output_type": "stream",
     "text": [
      "(3426, 65) (1469, 65)\n"
     ]
    }
   ],
   "source": [
    "# shuffle4\n",
    "import sklearn\n",
    "from sklearn.model_selection import train_test_split\n",
    "import warnings\n",
    "warnings.filterwarnings('ignore')\n",
    "\n",
    "x_shuffled4 = sklearn.utils.shuffle(X_features, random_state=2024)\n",
    "y_shuffled4 =sklearn.utils.shuffle(y_label, random_state=2024)\n",
    "X_train4, X_test4, y_train4, y_test4=train_test_split(x_shuffled4, y_shuffled4, test_size=0.3, random_state=2021, stratify=y_label)\n",
    "print(X_train4.shape, X_test4.shape)"
   ]
  },
  {
   "cell_type": "code",
   "execution_count": 38,
   "id": "ac0ed8a1",
   "metadata": {},
   "outputs": [],
   "source": [
    "from imblearn.over_sampling import SMOTENC\n",
    "smote_nc = SMOTENC(categorical_features=[0, 1, 2, 3, 4, 5, 6, 7, 8, 9, 10, 11, 12, 13, 14, 15, 16], random_state=0)\n",
    "X_resampled4, y_resampled4 = smote_nc.fit_resample(X_train4, y_train4)"
   ]
  },
  {
   "cell_type": "code",
   "execution_count": 39,
   "id": "44295899",
   "metadata": {},
   "outputs": [
    {
     "name": "stdout",
     "output_type": "stream",
     "text": [
      "(3426, 65) (1469, 65)\n"
     ]
    }
   ],
   "source": [
    "# shuffle5\n",
    "import sklearn\n",
    "from sklearn.model_selection import train_test_split\n",
    "import warnings\n",
    "warnings.filterwarnings('ignore')\n",
    "\n",
    "x_shuffled5 = sklearn.utils.shuffle(X_features, random_state=2025)\n",
    "y_shuffled5 =sklearn.utils.shuffle(y_label, random_state=2025)\n",
    "X_train5, X_test5, y_train5, y_test5=train_test_split(x_shuffled5, y_shuffled5, test_size=0.3, random_state=2021, stratify=y_label)\n",
    "print(X_train5.shape, X_test5.shape)"
   ]
  },
  {
   "cell_type": "code",
   "execution_count": 40,
   "id": "b0215e10",
   "metadata": {},
   "outputs": [],
   "source": [
    "from imblearn.over_sampling import SMOTENC\n",
    "smote_nc = SMOTENC(categorical_features=[0, 1, 2, 3, 4, 5, 6, 7, 8, 9, 10, 11, 12, 13, 14, 15, 16], random_state=0)\n",
    "X_resampled5, y_resampled5 = smote_nc.fit_resample(X_train5, y_train5)"
   ]
  },
  {
   "cell_type": "code",
   "execution_count": 41,
   "id": "ec99c03b",
   "metadata": {},
   "outputs": [
    {
     "name": "stdout",
     "output_type": "stream",
     "text": [
      "(3426, 65) (1469, 65)\n"
     ]
    }
   ],
   "source": [
    "# shuffle6\n",
    "import sklearn\n",
    "from sklearn.model_selection import train_test_split\n",
    "import warnings\n",
    "warnings.filterwarnings('ignore')\n",
    "\n",
    "x_shuffled6 = sklearn.utils.shuffle(X_features, random_state=2026)\n",
    "y_shuffled6 =sklearn.utils.shuffle(y_label, random_state=2026)\n",
    "X_train6, X_test6, y_train6, y_test6=train_test_split(x_shuffled6, y_shuffled6, test_size=0.3, random_state=2021, stratify=y_label)\n",
    "print(X_train6.shape, X_test6.shape)"
   ]
  },
  {
   "cell_type": "code",
   "execution_count": 42,
   "id": "08d4e14e",
   "metadata": {},
   "outputs": [],
   "source": [
    "from imblearn.over_sampling import SMOTENC\n",
    "smote_nc = SMOTENC(categorical_features=[0, 1, 2, 3, 4, 5, 6, 7, 8, 9, 10, 11, 12, 13, 14, 15, 16], random_state=0)\n",
    "X_resampled6, y_resampled6 = smote_nc.fit_resample(X_train6, y_train6)"
   ]
  },
  {
   "cell_type": "code",
   "execution_count": 43,
   "id": "36593fd9",
   "metadata": {},
   "outputs": [
    {
     "name": "stdout",
     "output_type": "stream",
     "text": [
      "(3426, 65) (1469, 65)\n"
     ]
    }
   ],
   "source": [
    "# shuffle7\n",
    "import sklearn\n",
    "from sklearn.model_selection import train_test_split\n",
    "import warnings\n",
    "warnings.filterwarnings('ignore')\n",
    "\n",
    "x_shuffled7 = sklearn.utils.shuffle(X_features, random_state=2027)\n",
    "y_shuffled7 =sklearn.utils.shuffle(y_label, random_state=2027)\n",
    "X_train7, X_test7, y_train7, y_test7=train_test_split(x_shuffled7, y_shuffled7, test_size=0.3, random_state=2021, stratify=y_label)\n",
    "print(X_train7.shape, X_test7.shape)"
   ]
  },
  {
   "cell_type": "code",
   "execution_count": 44,
   "id": "a4778b13",
   "metadata": {},
   "outputs": [],
   "source": [
    "from imblearn.over_sampling import SMOTENC\n",
    "smote_nc = SMOTENC(categorical_features=[0, 1, 2, 3, 4, 5, 6, 7, 8, 9, 10, 11, 12, 13, 14, 15, 16], random_state=0)\n",
    "X_resampled7, y_resampled7 = smote_nc.fit_resample(X_train7, y_train7)"
   ]
  },
  {
   "cell_type": "code",
   "execution_count": 45,
   "id": "17794320",
   "metadata": {},
   "outputs": [
    {
     "name": "stdout",
     "output_type": "stream",
     "text": [
      "(3426, 65) (1469, 65)\n"
     ]
    }
   ],
   "source": [
    "# shuffle8\n",
    "import sklearn\n",
    "from sklearn.model_selection import train_test_split\n",
    "import warnings\n",
    "warnings.filterwarnings('ignore')\n",
    "\n",
    "x_shuffled8 = sklearn.utils.shuffle(X_features, random_state=2028)\n",
    "y_shuffled8 =sklearn.utils.shuffle(y_label, random_state=2028)\n",
    "X_train8, X_test8, y_train8, y_test8=train_test_split(x_shuffled8, y_shuffled8, test_size=0.3, random_state=2021, stratify=y_label)\n",
    "print(X_train8.shape, X_test8.shape)"
   ]
  },
  {
   "cell_type": "code",
   "execution_count": 46,
   "id": "a65bb655",
   "metadata": {},
   "outputs": [],
   "source": [
    "from imblearn.over_sampling import SMOTENC\n",
    "smote_nc = SMOTENC(categorical_features=[0, 1, 2, 3, 4, 5, 6, 7, 8, 9, 10, 11, 12, 13, 14, 15, 16], random_state=0)\n",
    "X_resampled8, y_resampled8 = smote_nc.fit_resample(X_train8, y_train8)"
   ]
  },
  {
   "cell_type": "code",
   "execution_count": 47,
   "id": "2fab7a8f",
   "metadata": {},
   "outputs": [
    {
     "name": "stdout",
     "output_type": "stream",
     "text": [
      "(3426, 65) (1469, 65)\n"
     ]
    }
   ],
   "source": [
    "# shuffle9\n",
    "import sklearn\n",
    "from sklearn.model_selection import train_test_split\n",
    "import warnings\n",
    "warnings.filterwarnings('ignore')\n",
    "\n",
    "x_shuffled9 = sklearn.utils.shuffle(X_features, random_state=2029)\n",
    "y_shuffled9 =sklearn.utils.shuffle(y_label, random_state=2029)\n",
    "X_train9, X_test9, y_train9, y_test9=train_test_split(x_shuffled9, y_shuffled9, test_size=0.3, random_state=2021, stratify=y_label)\n",
    "print(X_train9.shape, X_test9.shape)"
   ]
  },
  {
   "cell_type": "code",
   "execution_count": 48,
   "id": "c98844e8",
   "metadata": {},
   "outputs": [],
   "source": [
    "from imblearn.over_sampling import SMOTENC\n",
    "smote_nc = SMOTENC(categorical_features=[0, 1, 2, 3, 4, 5, 6, 7, 8, 9, 10, 11, 12, 13, 14, 15, 16], random_state=0)\n",
    "X_resampled9, y_resampled9 = smote_nc.fit_resample(X_train9, y_train9)"
   ]
  },
  {
   "cell_type": "code",
   "execution_count": 49,
   "id": "ac1f2fb5",
   "metadata": {},
   "outputs": [
    {
     "name": "stdout",
     "output_type": "stream",
     "text": [
      "(3426, 65) (1469, 65)\n"
     ]
    }
   ],
   "source": [
    "# shuffle10\n",
    "import sklearn\n",
    "from sklearn.model_selection import train_test_split\n",
    "import warnings\n",
    "warnings.filterwarnings('ignore')\n",
    "\n",
    "x_shuffled10 = sklearn.utils.shuffle(X_features, random_state=2030)\n",
    "y_shuffled10 =sklearn.utils.shuffle(y_label, random_state=2030)\n",
    "X_train10, X_test10, y_train10, y_test10=train_test_split(x_shuffled10, y_shuffled10, test_size=0.3, random_state=2021, stratify=y_label)\n",
    "print(X_train10.shape, X_test10.shape)"
   ]
  },
  {
   "cell_type": "code",
   "execution_count": 50,
   "id": "1f791c28",
   "metadata": {},
   "outputs": [],
   "source": [
    "from imblearn.over_sampling import SMOTENC\n",
    "smote_nc = SMOTENC(categorical_features=[0, 1, 2, 3, 4, 5, 6, 7, 8, 9, 10, 11, 12, 13, 14, 15, 16], random_state=0)\n",
    "X_resampled10, y_resampled10 = smote_nc.fit_resample(X_train10, y_train10)"
   ]
  },
  {
   "cell_type": "code",
   "execution_count": 51,
   "id": "7de2eb6c",
   "metadata": {},
   "outputs": [],
   "source": [
    "from catboost import CatBoostClassifier, Pool"
   ]
  },
  {
   "cell_type": "code",
   "execution_count": 52,
   "id": "d715d9a1",
   "metadata": {},
   "outputs": [
    {
     "name": "stdout",
     "output_type": "stream",
     "text": [
      "Learning rate set to 0.050208\n",
      "0:\tlearn: 0.6408525\ttest: 0.6320666\tbest: 0.6320666 (0)\ttotal: 211ms\tremaining: 3m 30s\n",
      "100:\tlearn: 0.1088302\ttest: 0.1891719\tbest: 0.1891719 (100)\ttotal: 3.81s\tremaining: 33.9s\n",
      "200:\tlearn: 0.0648100\ttest: 0.1615098\tbest: 0.1615098 (200)\ttotal: 8.01s\tremaining: 31.8s\n",
      "300:\tlearn: 0.0460247\ttest: 0.1542352\tbest: 0.1542352 (300)\ttotal: 12.7s\tremaining: 29.6s\n",
      "400:\tlearn: 0.0354216\ttest: 0.1513981\tbest: 0.1512196 (397)\ttotal: 17.7s\tremaining: 26.4s\n",
      "Stopped by overfitting detector  (100 iterations wait)\n",
      "\n",
      "bestTest = 0.1512195587\n",
      "bestIteration = 397\n",
      "\n",
      "Shrink model to first 398 iterations.\n"
     ]
    },
    {
     "data": {
      "text/plain": [
       "<catboost.core.CatBoostClassifier at 0x1baaf696430>"
      ]
     },
     "execution_count": 52,
     "metadata": {},
     "output_type": "execute_result"
    }
   ],
   "source": [
    "train_data1 = Pool(data=X_resampled1, label=y_resampled1, cat_features=categorical_feats)\n",
    "valid_data1 = Pool(data=X_test1, label=y_test1, cat_features=categorical_feats)\n",
    "\n",
    "model_cat1 = CatBoostClassifier()\n",
    "model_cat1.fit(train_data1, eval_set=valid_data1, use_best_model=True, early_stopping_rounds=100, verbose=100)"
   ]
  },
  {
   "cell_type": "code",
   "execution_count": 53,
   "id": "d8eff0f8",
   "metadata": {},
   "outputs": [
    {
     "name": "stdout",
     "output_type": "stream",
     "text": [
      "Learning rate set to 0.0502\n",
      "0:\tlearn: 0.6518976\ttest: 0.6511052\tbest: 0.6511052 (0)\ttotal: 46.6ms\tremaining: 46.6s\n",
      "100:\tlearn: 0.1079436\ttest: 0.1752236\tbest: 0.1752236 (100)\ttotal: 5.46s\tremaining: 48.6s\n",
      "200:\tlearn: 0.0684279\ttest: 0.1498616\tbest: 0.1498616 (200)\ttotal: 10.3s\tremaining: 41.1s\n",
      "300:\tlearn: 0.0503698\ttest: 0.1425020\tbest: 0.1424661 (299)\ttotal: 15.5s\tremaining: 36s\n",
      "400:\tlearn: 0.0380959\ttest: 0.1394967\tbest: 0.1389451 (395)\ttotal: 20.8s\tremaining: 31s\n",
      "500:\tlearn: 0.0304618\ttest: 0.1385620\tbest: 0.1383298 (496)\ttotal: 25.7s\tremaining: 25.6s\n",
      "600:\tlearn: 0.0247694\ttest: 0.1375413\tbest: 0.1375110 (599)\ttotal: 30.8s\tremaining: 20.5s\n",
      "700:\tlearn: 0.0206806\ttest: 0.1373315\tbest: 0.1371527 (642)\ttotal: 35.9s\tremaining: 15.3s\n",
      "Stopped by overfitting detector  (100 iterations wait)\n",
      "\n",
      "bestTest = 0.1371526943\n",
      "bestIteration = 642\n",
      "\n",
      "Shrink model to first 643 iterations.\n"
     ]
    },
    {
     "data": {
      "text/plain": [
       "<catboost.core.CatBoostClassifier at 0x1baaf679d30>"
      ]
     },
     "execution_count": 53,
     "metadata": {},
     "output_type": "execute_result"
    }
   ],
   "source": [
    "train_data2 = Pool(data=X_resampled2, label=y_resampled2, cat_features=categorical_feats)\n",
    "valid_data2 = Pool(data=X_test2, label=y_test2, cat_features=categorical_feats)\n",
    "\n",
    "model_cat2 = CatBoostClassifier()\n",
    "model_cat2.fit(train_data2, eval_set=valid_data2, use_best_model=True, early_stopping_rounds=100, verbose=100)"
   ]
  },
  {
   "cell_type": "code",
   "execution_count": 54,
   "id": "72ee9b12",
   "metadata": {},
   "outputs": [
    {
     "name": "stdout",
     "output_type": "stream",
     "text": [
      "Learning rate set to 0.050215\n",
      "0:\tlearn: 0.6408539\ttest: 0.6379841\tbest: 0.6379841 (0)\ttotal: 48ms\tremaining: 48s\n",
      "100:\tlearn: 0.1088770\ttest: 0.2005626\tbest: 0.2005626 (100)\ttotal: 5.47s\tremaining: 48.7s\n",
      "200:\tlearn: 0.0643351\ttest: 0.1743966\tbest: 0.1743966 (200)\ttotal: 10.7s\tremaining: 42.4s\n",
      "300:\tlearn: 0.0437715\ttest: 0.1657806\tbest: 0.1657806 (300)\ttotal: 15.7s\tremaining: 36.5s\n",
      "400:\tlearn: 0.0339326\ttest: 0.1624097\tbest: 0.1622497 (391)\ttotal: 20.7s\tremaining: 30.9s\n",
      "500:\tlearn: 0.0269230\ttest: 0.1609453\tbest: 0.1609453 (500)\ttotal: 25.7s\tremaining: 25.6s\n",
      "600:\tlearn: 0.0220003\ttest: 0.1594133\tbest: 0.1594133 (600)\ttotal: 30.5s\tremaining: 20.3s\n",
      "700:\tlearn: 0.0185453\ttest: 0.1602462\tbest: 0.1593267 (606)\ttotal: 35.5s\tremaining: 15.1s\n",
      "Stopped by overfitting detector  (100 iterations wait)\n",
      "\n",
      "bestTest = 0.159326749\n",
      "bestIteration = 606\n",
      "\n",
      "Shrink model to first 607 iterations.\n"
     ]
    },
    {
     "data": {
      "text/plain": [
       "<catboost.core.CatBoostClassifier at 0x1baaf68ad30>"
      ]
     },
     "execution_count": 54,
     "metadata": {},
     "output_type": "execute_result"
    }
   ],
   "source": [
    "train_data3 = Pool(data=X_resampled3, label=y_resampled3, cat_features=categorical_feats)\n",
    "valid_data3 = Pool(data=X_test3, label=y_test3, cat_features=categorical_feats)\n",
    "\n",
    "model_cat3 = CatBoostClassifier()\n",
    "model_cat3.fit(train_data3, eval_set=valid_data3, use_best_model=True, early_stopping_rounds=100, verbose=100)"
   ]
  },
  {
   "cell_type": "code",
   "execution_count": 55,
   "id": "9ce6315a",
   "metadata": {},
   "outputs": [
    {
     "name": "stdout",
     "output_type": "stream",
     "text": [
      "Learning rate set to 0.05025\n",
      "0:\tlearn: 0.6513887\ttest: 0.6469907\tbest: 0.6469907 (0)\ttotal: 39.7ms\tremaining: 39.6s\n",
      "100:\tlearn: 0.1021646\ttest: 0.1854466\tbest: 0.1854466 (100)\ttotal: 5.63s\tremaining: 50.1s\n",
      "200:\tlearn: 0.0634145\ttest: 0.1668037\tbest: 0.1668037 (200)\ttotal: 10.9s\tremaining: 43.4s\n",
      "300:\tlearn: 0.0435407\ttest: 0.1634481\tbest: 0.1631892 (290)\ttotal: 16.1s\tremaining: 37.4s\n",
      "400:\tlearn: 0.0327243\ttest: 0.1624691\tbest: 0.1624691 (400)\ttotal: 21s\tremaining: 31.4s\n",
      "500:\tlearn: 0.0263269\ttest: 0.1630907\tbest: 0.1624588 (401)\ttotal: 26.3s\tremaining: 26.2s\n",
      "Stopped by overfitting detector  (100 iterations wait)\n",
      "\n",
      "bestTest = 0.1624587588\n",
      "bestIteration = 401\n",
      "\n",
      "Shrink model to first 402 iterations.\n"
     ]
    },
    {
     "data": {
      "text/plain": [
       "<catboost.core.CatBoostClassifier at 0x1baafb61c70>"
      ]
     },
     "execution_count": 55,
     "metadata": {},
     "output_type": "execute_result"
    }
   ],
   "source": [
    "train_data4 = Pool(data=X_resampled4, label=y_resampled4, cat_features=categorical_feats)\n",
    "valid_data4 = Pool(data=X_test4, label=y_test4, cat_features=categorical_feats)\n",
    "\n",
    "model_cat4 = CatBoostClassifier()\n",
    "model_cat4.fit(train_data4, eval_set=valid_data4, use_best_model=True, early_stopping_rounds=100, verbose=100)"
   ]
  },
  {
   "cell_type": "code",
   "execution_count": 56,
   "id": "28e3355f",
   "metadata": {},
   "outputs": [
    {
     "name": "stdout",
     "output_type": "stream",
     "text": [
      "Learning rate set to 0.050196\n",
      "0:\tlearn: 0.6500324\ttest: 0.6451899\tbest: 0.6451899 (0)\ttotal: 45.6ms\tremaining: 45.5s\n",
      "100:\tlearn: 0.1101449\ttest: 0.1887994\tbest: 0.1887994 (100)\ttotal: 5.79s\tremaining: 51.6s\n",
      "200:\tlearn: 0.0641151\ttest: 0.1571989\tbest: 0.1571026 (199)\ttotal: 11.1s\tremaining: 44.2s\n",
      "300:\tlearn: 0.0465808\ttest: 0.1460315\tbest: 0.1460315 (300)\ttotal: 16.4s\tremaining: 38.1s\n",
      "400:\tlearn: 0.0360672\ttest: 0.1399482\tbest: 0.1399482 (400)\ttotal: 21.7s\tremaining: 32.4s\n",
      "500:\tlearn: 0.0288685\ttest: 0.1364345\tbest: 0.1364345 (500)\ttotal: 27s\tremaining: 26.8s\n",
      "600:\tlearn: 0.0231737\ttest: 0.1356473\tbest: 0.1355613 (599)\ttotal: 32.3s\tremaining: 21.4s\n",
      "700:\tlearn: 0.0194416\ttest: 0.1349123\tbest: 0.1349123 (700)\ttotal: 37.6s\tremaining: 16.1s\n",
      "800:\tlearn: 0.0161630\ttest: 0.1362682\tbest: 0.1348971 (705)\ttotal: 43s\tremaining: 10.7s\n",
      "Stopped by overfitting detector  (100 iterations wait)\n",
      "\n",
      "bestTest = 0.1348971315\n",
      "bestIteration = 705\n",
      "\n",
      "Shrink model to first 706 iterations.\n"
     ]
    },
    {
     "data": {
      "text/plain": [
       "<catboost.core.CatBoostClassifier at 0x1baafb61940>"
      ]
     },
     "execution_count": 56,
     "metadata": {},
     "output_type": "execute_result"
    }
   ],
   "source": [
    "train_data5 = Pool(data=X_resampled5, label=y_resampled5, cat_features=categorical_feats)\n",
    "valid_data5 = Pool(data=X_test5, label=y_test5, cat_features=categorical_feats)\n",
    "\n",
    "model_cat5 = CatBoostClassifier()\n",
    "model_cat5.fit(train_data5, eval_set=valid_data5, use_best_model=True, early_stopping_rounds=100, verbose=100)"
   ]
  },
  {
   "cell_type": "code",
   "execution_count": 57,
   "id": "3fb76cb5",
   "metadata": {},
   "outputs": [
    {
     "name": "stdout",
     "output_type": "stream",
     "text": [
      "Learning rate set to 0.050273\n",
      "0:\tlearn: 0.6429956\ttest: 0.6396372\tbest: 0.6396372 (0)\ttotal: 41.3ms\tremaining: 41.2s\n",
      "100:\tlearn: 0.1019853\ttest: 0.1867865\tbest: 0.1867865 (100)\ttotal: 6.05s\tremaining: 53.8s\n",
      "200:\tlearn: 0.0586724\ttest: 0.1624996\tbest: 0.1624441 (199)\ttotal: 11.5s\tremaining: 45.5s\n",
      "300:\tlearn: 0.0433252\ttest: 0.1565894\tbest: 0.1565811 (299)\ttotal: 16.7s\tremaining: 38.9s\n",
      "400:\tlearn: 0.0324738\ttest: 0.1544931\tbest: 0.1542580 (393)\ttotal: 22.1s\tremaining: 33s\n",
      "500:\tlearn: 0.0252903\ttest: 0.1536712\tbest: 0.1533714 (437)\ttotal: 27.4s\tremaining: 27.3s\n",
      "Stopped by overfitting detector  (100 iterations wait)\n",
      "\n",
      "bestTest = 0.1533713508\n",
      "bestIteration = 437\n",
      "\n",
      "Shrink model to first 438 iterations.\n"
     ]
    },
    {
     "data": {
      "text/plain": [
       "<catboost.core.CatBoostClassifier at 0x1bab19f0be0>"
      ]
     },
     "execution_count": 57,
     "metadata": {},
     "output_type": "execute_result"
    }
   ],
   "source": [
    "train_data6 = Pool(data=X_resampled6, label=y_resampled6, cat_features=categorical_feats)\n",
    "valid_data6 = Pool(data=X_test6, label=y_test6, cat_features=categorical_feats)\n",
    "\n",
    "model_cat6 = CatBoostClassifier()\n",
    "model_cat6.fit(train_data6, eval_set=valid_data6, use_best_model=True, early_stopping_rounds=100, verbose=100)"
   ]
  },
  {
   "cell_type": "code",
   "execution_count": 58,
   "id": "e4173a8e",
   "metadata": {},
   "outputs": [
    {
     "name": "stdout",
     "output_type": "stream",
     "text": [
      "Learning rate set to 0.050196\n",
      "0:\tlearn: 0.6542231\ttest: 0.6491199\tbest: 0.6491199 (0)\ttotal: 36.1ms\tremaining: 36.1s\n",
      "100:\tlearn: 0.1089128\ttest: 0.1906380\tbest: 0.1906380 (100)\ttotal: 5.36s\tremaining: 47.7s\n",
      "200:\tlearn: 0.0693644\ttest: 0.1625299\tbest: 0.1625299 (200)\ttotal: 10.4s\tremaining: 41.4s\n",
      "300:\tlearn: 0.0523839\ttest: 0.1531020\tbest: 0.1531020 (300)\ttotal: 16.1s\tremaining: 37.4s\n",
      "400:\tlearn: 0.0401748\ttest: 0.1477336\tbest: 0.1477196 (398)\ttotal: 21.4s\tremaining: 31.9s\n",
      "500:\tlearn: 0.0324083\ttest: 0.1448420\tbest: 0.1448420 (500)\ttotal: 27s\tremaining: 26.9s\n",
      "600:\tlearn: 0.0260698\ttest: 0.1429032\tbest: 0.1428984 (597)\ttotal: 32.2s\tremaining: 21.4s\n",
      "700:\tlearn: 0.0226066\ttest: 0.1418887\tbest: 0.1416888 (665)\ttotal: 37.6s\tremaining: 16.1s\n",
      "800:\tlearn: 0.0195077\ttest: 0.1419801\tbest: 0.1414536 (743)\ttotal: 42.5s\tremaining: 10.6s\n",
      "900:\tlearn: 0.0172783\ttest: 0.1414812\tbest: 0.1411665 (844)\ttotal: 47.4s\tremaining: 5.21s\n",
      "Stopped by overfitting detector  (100 iterations wait)\n",
      "\n",
      "bestTest = 0.1411664857\n",
      "bestIteration = 844\n",
      "\n",
      "Shrink model to first 845 iterations.\n"
     ]
    },
    {
     "data": {
      "text/plain": [
       "<catboost.core.CatBoostClassifier at 0x1bab19f07c0>"
      ]
     },
     "execution_count": 58,
     "metadata": {},
     "output_type": "execute_result"
    }
   ],
   "source": [
    "train_data7 = Pool(data=X_resampled7, label=y_resampled7, cat_features=categorical_feats)\n",
    "valid_data7 = Pool(data=X_test7, label=y_test7, cat_features=categorical_feats)\n",
    "\n",
    "model_cat7 = CatBoostClassifier()\n",
    "model_cat7.fit(train_data7, eval_set=valid_data7, use_best_model=True, early_stopping_rounds=100, verbose=100)"
   ]
  },
  {
   "cell_type": "code",
   "execution_count": 59,
   "id": "23104c81",
   "metadata": {},
   "outputs": [
    {
     "name": "stdout",
     "output_type": "stream",
     "text": [
      "Learning rate set to 0.050219\n",
      "0:\tlearn: 0.6543129\ttest: 0.6555867\tbest: 0.6555867 (0)\ttotal: 49.7ms\tremaining: 49.7s\n",
      "100:\tlearn: 0.1034490\ttest: 0.2116530\tbest: 0.2116530 (100)\ttotal: 5.59s\tremaining: 49.7s\n",
      "200:\tlearn: 0.0596898\ttest: 0.1871904\tbest: 0.1870100 (199)\ttotal: 10.8s\tremaining: 42.8s\n",
      "300:\tlearn: 0.0415778\ttest: 0.1821555\tbest: 0.1821481 (298)\ttotal: 16.4s\tremaining: 38.2s\n",
      "400:\tlearn: 0.0310105\ttest: 0.1835130\tbest: 0.1820819 (305)\ttotal: 22s\tremaining: 32.9s\n",
      "Stopped by overfitting detector  (100 iterations wait)\n",
      "\n",
      "bestTest = 0.1820818745\n",
      "bestIteration = 305\n",
      "\n",
      "Shrink model to first 306 iterations.\n"
     ]
    },
    {
     "data": {
      "text/plain": [
       "<catboost.core.CatBoostClassifier at 0x1bab4f8a130>"
      ]
     },
     "execution_count": 59,
     "metadata": {},
     "output_type": "execute_result"
    }
   ],
   "source": [
    "train_data8 = Pool(data=X_resampled8, label=y_resampled8, cat_features=categorical_feats)\n",
    "valid_data8 = Pool(data=X_test8, label=y_test8, cat_features=categorical_feats)\n",
    "\n",
    "model_cat8 = CatBoostClassifier()\n",
    "model_cat8.fit(train_data8, eval_set=valid_data8, use_best_model=True, early_stopping_rounds=100, verbose=100)"
   ]
  },
  {
   "cell_type": "code",
   "execution_count": 60,
   "id": "0df3d580",
   "metadata": {},
   "outputs": [
    {
     "name": "stdout",
     "output_type": "stream",
     "text": [
      "Learning rate set to 0.050223\n",
      "0:\tlearn: 0.6493094\ttest: 0.6414706\tbest: 0.6414706 (0)\ttotal: 59.2ms\tremaining: 59.1s\n",
      "100:\tlearn: 0.1150316\ttest: 0.1779571\tbest: 0.1779571 (100)\ttotal: 5.87s\tremaining: 52.2s\n",
      "200:\tlearn: 0.0659481\ttest: 0.1517590\tbest: 0.1517590 (200)\ttotal: 11.2s\tremaining: 44.4s\n",
      "300:\tlearn: 0.0475283\ttest: 0.1467795\tbest: 0.1467795 (300)\ttotal: 16.1s\tremaining: 37.4s\n",
      "400:\tlearn: 0.0364390\ttest: 0.1448787\tbest: 0.1446961 (387)\ttotal: 21s\tremaining: 31.4s\n",
      "500:\tlearn: 0.0280198\ttest: 0.1459224\tbest: 0.1442815 (426)\ttotal: 26.4s\tremaining: 26.3s\n",
      "Stopped by overfitting detector  (100 iterations wait)\n",
      "\n",
      "bestTest = 0.1442815144\n",
      "bestIteration = 426\n",
      "\n",
      "Shrink model to first 427 iterations.\n"
     ]
    },
    {
     "data": {
      "text/plain": [
       "<catboost.core.CatBoostClassifier at 0x1baaf1cee20>"
      ]
     },
     "execution_count": 60,
     "metadata": {},
     "output_type": "execute_result"
    }
   ],
   "source": [
    "train_data9 = Pool(data=X_resampled9, label=y_resampled9, cat_features=categorical_feats)\n",
    "valid_data9 = Pool(data=X_test9, label=y_test9, cat_features=categorical_feats)\n",
    "\n",
    "model_cat9 = CatBoostClassifier()\n",
    "model_cat9.fit(train_data9, eval_set=valid_data9, use_best_model=True, early_stopping_rounds=100, verbose=100)"
   ]
  },
  {
   "cell_type": "code",
   "execution_count": 61,
   "id": "839b2abd",
   "metadata": {},
   "outputs": [
    {
     "name": "stdout",
     "output_type": "stream",
     "text": [
      "Learning rate set to 0.050208\n",
      "0:\tlearn: 0.6577593\ttest: 0.6540434\tbest: 0.6540434 (0)\ttotal: 43.9ms\tremaining: 43.9s\n",
      "100:\tlearn: 0.1138479\ttest: 0.1765775\tbest: 0.1765775 (100)\ttotal: 5.47s\tremaining: 48.7s\n",
      "200:\tlearn: 0.0684447\ttest: 0.1473530\tbest: 0.1473530 (200)\ttotal: 10.3s\tremaining: 40.8s\n",
      "300:\tlearn: 0.0488453\ttest: 0.1410607\tbest: 0.1410588 (299)\ttotal: 15.1s\tremaining: 35.1s\n",
      "400:\tlearn: 0.0367485\ttest: 0.1373558\tbest: 0.1372947 (397)\ttotal: 20.1s\tremaining: 30s\n",
      "500:\tlearn: 0.0289490\ttest: 0.1360896\tbest: 0.1360681 (499)\ttotal: 25s\tremaining: 24.9s\n",
      "600:\tlearn: 0.0238619\ttest: 0.1359433\tbest: 0.1354589 (554)\ttotal: 29.7s\tremaining: 19.7s\n",
      "700:\tlearn: 0.0197799\ttest: 0.1349675\tbest: 0.1347823 (688)\ttotal: 33.2s\tremaining: 14.1s\n",
      "Stopped by overfitting detector  (100 iterations wait)\n",
      "\n",
      "bestTest = 0.1347822852\n",
      "bestIteration = 688\n",
      "\n",
      "Shrink model to first 689 iterations.\n"
     ]
    },
    {
     "data": {
      "text/plain": [
       "<catboost.core.CatBoostClassifier at 0x1baaf1ce460>"
      ]
     },
     "execution_count": 61,
     "metadata": {},
     "output_type": "execute_result"
    }
   ],
   "source": [
    "train_data10 = Pool(data=X_resampled10, label=y_resampled10, cat_features=categorical_feats)\n",
    "valid_data10 = Pool(data=X_test10, label=y_test10, cat_features=categorical_feats)\n",
    "\n",
    "model_cat10 = CatBoostClassifier()\n",
    "model_cat10.fit(train_data10, eval_set=valid_data10, use_best_model=True, early_stopping_rounds=100, verbose=100)"
   ]
  },
  {
   "cell_type": "code",
   "execution_count": 62,
   "id": "2182103a",
   "metadata": {},
   "outputs": [],
   "source": [
    "cat_pred_test1 = model_cat1.predict_proba(data=test_1)[:,1]"
   ]
  },
  {
   "cell_type": "code",
   "execution_count": 63,
   "id": "94efe939",
   "metadata": {},
   "outputs": [],
   "source": [
    "cat_pred_test2 = model_cat2.predict_proba(data=test_1)[:,1]"
   ]
  },
  {
   "cell_type": "code",
   "execution_count": 64,
   "id": "29bdd303",
   "metadata": {},
   "outputs": [],
   "source": [
    "cat_pred_test3 = model_cat3.predict_proba(data=test_1)[:,1]"
   ]
  },
  {
   "cell_type": "code",
   "execution_count": 65,
   "id": "ca39bdb0",
   "metadata": {},
   "outputs": [],
   "source": [
    "cat_pred_test4 = model_cat4.predict_proba(data=test_1)[:,1]"
   ]
  },
  {
   "cell_type": "code",
   "execution_count": 66,
   "id": "85c2c702",
   "metadata": {},
   "outputs": [],
   "source": [
    "cat_pred_test5 = model_cat5.predict_proba(data=test_1)[:,1]"
   ]
  },
  {
   "cell_type": "code",
   "execution_count": 67,
   "id": "c25264db",
   "metadata": {},
   "outputs": [],
   "source": [
    "cat_pred_test6 = model_cat6.predict_proba(data=test_1)[:,1]"
   ]
  },
  {
   "cell_type": "code",
   "execution_count": 68,
   "id": "2871f45c",
   "metadata": {},
   "outputs": [],
   "source": [
    "cat_pred_test7 = model_cat7.predict_proba(data=test_1)[:,1]"
   ]
  },
  {
   "cell_type": "code",
   "execution_count": 69,
   "id": "94fe7290",
   "metadata": {},
   "outputs": [],
   "source": [
    "cat_pred_test8 = model_cat8.predict_proba(data=test_1)[:,1]"
   ]
  },
  {
   "cell_type": "code",
   "execution_count": 70,
   "id": "d7d61add",
   "metadata": {},
   "outputs": [],
   "source": [
    "cat_pred_test9 = model_cat9.predict_proba(data=test_1)[:,1]"
   ]
  },
  {
   "cell_type": "code",
   "execution_count": 71,
   "id": "04008acc",
   "metadata": {},
   "outputs": [],
   "source": [
    "cat_pred_test10 = model_cat10.predict_proba(data=test_1)[:,1]"
   ]
  },
  {
   "cell_type": "code",
   "execution_count": 72,
   "id": "559054c4",
   "metadata": {},
   "outputs": [],
   "source": [
    "preds1 = [ 1 if x > 0.5 else 0 for x in cat_pred_test1 ]"
   ]
  },
  {
   "cell_type": "code",
   "execution_count": 73,
   "id": "a85b1cc6",
   "metadata": {},
   "outputs": [],
   "source": [
    "preds2 = [ 1 if x > 0.5 else 0 for x in cat_pred_test2 ]"
   ]
  },
  {
   "cell_type": "code",
   "execution_count": 74,
   "id": "c7fea122",
   "metadata": {},
   "outputs": [],
   "source": [
    "preds3 = [ 1 if x > 0.5 else 0 for x in cat_pred_test3 ]"
   ]
  },
  {
   "cell_type": "code",
   "execution_count": 75,
   "id": "8a402872",
   "metadata": {},
   "outputs": [],
   "source": [
    "preds4 = [ 1 if x > 0.5 else 0 for x in cat_pred_test4 ]"
   ]
  },
  {
   "cell_type": "code",
   "execution_count": 76,
   "id": "65a813f0",
   "metadata": {},
   "outputs": [],
   "source": [
    "preds5 = [ 1 if x > 0.5 else 0 for x in cat_pred_test5 ]"
   ]
  },
  {
   "cell_type": "code",
   "execution_count": 77,
   "id": "4e4a8969",
   "metadata": {},
   "outputs": [],
   "source": [
    "preds6 = [ 1 if x > 0.5 else 0 for x in cat_pred_test6 ]"
   ]
  },
  {
   "cell_type": "code",
   "execution_count": 78,
   "id": "3748ae26",
   "metadata": {},
   "outputs": [],
   "source": [
    "preds7 = [ 1 if x > 0.5 else 0 for x in cat_pred_test7 ]"
   ]
  },
  {
   "cell_type": "code",
   "execution_count": 79,
   "id": "562a7699",
   "metadata": {},
   "outputs": [],
   "source": [
    "preds8 = [ 1 if x > 0.5 else 0 for x in cat_pred_test8 ]"
   ]
  },
  {
   "cell_type": "code",
   "execution_count": 80,
   "id": "e3a0463d",
   "metadata": {},
   "outputs": [],
   "source": [
    "preds9 = [ 1 if x > 0.5 else 0 for x in cat_pred_test9 ]"
   ]
  },
  {
   "cell_type": "code",
   "execution_count": 81,
   "id": "d16d320b",
   "metadata": {},
   "outputs": [],
   "source": [
    "preds10 = [ 1 if x > 0.5 else 0 for x in cat_pred_test10 ]"
   ]
  },
  {
   "cell_type": "code",
   "execution_count": 82,
   "id": "ac75e08e",
   "metadata": {},
   "outputs": [],
   "source": [
    "cat_pred1=pd.DataFrame(preds1, columns= ['col1'])"
   ]
  },
  {
   "cell_type": "code",
   "execution_count": 83,
   "id": "3dd29e09",
   "metadata": {},
   "outputs": [],
   "source": [
    "cat_pred2=pd.DataFrame(preds2, columns= ['col2'])"
   ]
  },
  {
   "cell_type": "code",
   "execution_count": 84,
   "id": "5be0e3f3",
   "metadata": {},
   "outputs": [],
   "source": [
    "cat_pred3=pd.DataFrame(preds3, columns= ['col3'])"
   ]
  },
  {
   "cell_type": "code",
   "execution_count": 85,
   "id": "45a9791a",
   "metadata": {},
   "outputs": [],
   "source": [
    "cat_pred4=pd.DataFrame(preds4, columns= ['col4'])"
   ]
  },
  {
   "cell_type": "code",
   "execution_count": 86,
   "id": "80495f34",
   "metadata": {},
   "outputs": [],
   "source": [
    "cat_pred5=pd.DataFrame(preds5, columns= ['col5'])"
   ]
  },
  {
   "cell_type": "code",
   "execution_count": 87,
   "id": "5b532c7e",
   "metadata": {},
   "outputs": [],
   "source": [
    "cat_pred6=pd.DataFrame(preds6, columns= ['col6'])"
   ]
  },
  {
   "cell_type": "code",
   "execution_count": 88,
   "id": "6f72eb6a",
   "metadata": {},
   "outputs": [],
   "source": [
    "cat_pred7=pd.DataFrame(preds7, columns= ['col7'])"
   ]
  },
  {
   "cell_type": "code",
   "execution_count": 89,
   "id": "eb15fa7a",
   "metadata": {},
   "outputs": [],
   "source": [
    "cat_pred8=pd.DataFrame(preds8, columns= ['col8'])"
   ]
  },
  {
   "cell_type": "code",
   "execution_count": 90,
   "id": "1eaefd4a",
   "metadata": {},
   "outputs": [],
   "source": [
    "cat_pred9=pd.DataFrame(preds9, columns= ['col9'])"
   ]
  },
  {
   "cell_type": "code",
   "execution_count": 91,
   "id": "53044d8d",
   "metadata": {},
   "outputs": [],
   "source": [
    "cat_pred10=pd.DataFrame(preds10, columns= ['col10'])"
   ]
  },
  {
   "cell_type": "code",
   "execution_count": 92,
   "id": "56b0690c",
   "metadata": {},
   "outputs": [
    {
     "data": {
      "text/plain": [
       "0    3258\n",
       "1     152\n",
       "Name: col1, dtype: int64"
      ]
     },
     "execution_count": 92,
     "metadata": {},
     "output_type": "execute_result"
    }
   ],
   "source": [
    "cat_pred1['col1'].value_counts()"
   ]
  },
  {
   "cell_type": "code",
   "execution_count": 93,
   "id": "2825853c",
   "metadata": {},
   "outputs": [
    {
     "data": {
      "text/plain": [
       "0    3212\n",
       "1     198\n",
       "Name: col2, dtype: int64"
      ]
     },
     "execution_count": 93,
     "metadata": {},
     "output_type": "execute_result"
    }
   ],
   "source": [
    "cat_pred2['col2'].value_counts()"
   ]
  },
  {
   "cell_type": "code",
   "execution_count": 94,
   "id": "66dde039",
   "metadata": {},
   "outputs": [
    {
     "data": {
      "text/plain": [
       "0    3229\n",
       "1     181\n",
       "Name: col3, dtype: int64"
      ]
     },
     "execution_count": 94,
     "metadata": {},
     "output_type": "execute_result"
    }
   ],
   "source": [
    "cat_pred3['col3'].value_counts()"
   ]
  },
  {
   "cell_type": "code",
   "execution_count": 95,
   "id": "3f551116",
   "metadata": {},
   "outputs": [
    {
     "data": {
      "text/plain": [
       "0    3307\n",
       "1     103\n",
       "Name: col4, dtype: int64"
      ]
     },
     "execution_count": 95,
     "metadata": {},
     "output_type": "execute_result"
    }
   ],
   "source": [
    "cat_pred4['col4'].value_counts()"
   ]
  },
  {
   "cell_type": "code",
   "execution_count": 96,
   "id": "97cf1927",
   "metadata": {},
   "outputs": [
    {
     "data": {
      "text/plain": [
       "0    3225\n",
       "1     185\n",
       "Name: col5, dtype: int64"
      ]
     },
     "execution_count": 96,
     "metadata": {},
     "output_type": "execute_result"
    }
   ],
   "source": [
    "cat_pred5['col5'].value_counts()"
   ]
  },
  {
   "cell_type": "code",
   "execution_count": 97,
   "id": "03c84dd9",
   "metadata": {},
   "outputs": [
    {
     "data": {
      "text/plain": [
       "0    3270\n",
       "1     140\n",
       "Name: col6, dtype: int64"
      ]
     },
     "execution_count": 97,
     "metadata": {},
     "output_type": "execute_result"
    }
   ],
   "source": [
    "cat_pred6['col6'].value_counts()"
   ]
  },
  {
   "cell_type": "code",
   "execution_count": 98,
   "id": "6567f41c",
   "metadata": {},
   "outputs": [
    {
     "data": {
      "text/plain": [
       "0    3229\n",
       "1     181\n",
       "Name: col7, dtype: int64"
      ]
     },
     "execution_count": 98,
     "metadata": {},
     "output_type": "execute_result"
    }
   ],
   "source": [
    "cat_pred7['col7'].value_counts()"
   ]
  },
  {
   "cell_type": "code",
   "execution_count": 99,
   "id": "5130dd3b",
   "metadata": {},
   "outputs": [
    {
     "data": {
      "text/plain": [
       "0    3282\n",
       "1     128\n",
       "Name: col8, dtype: int64"
      ]
     },
     "execution_count": 99,
     "metadata": {},
     "output_type": "execute_result"
    }
   ],
   "source": [
    "cat_pred8['col8'].value_counts()"
   ]
  },
  {
   "cell_type": "code",
   "execution_count": 100,
   "id": "4bbbd64c",
   "metadata": {},
   "outputs": [
    {
     "data": {
      "text/plain": [
       "0    3333\n",
       "1      77\n",
       "Name: col9, dtype: int64"
      ]
     },
     "execution_count": 100,
     "metadata": {},
     "output_type": "execute_result"
    }
   ],
   "source": [
    "cat_pred9['col9'].value_counts()"
   ]
  },
  {
   "cell_type": "code",
   "execution_count": 101,
   "id": "948a1f11",
   "metadata": {},
   "outputs": [
    {
     "data": {
      "text/plain": [
       "0    3264\n",
       "1     146\n",
       "Name: col10, dtype: int64"
      ]
     },
     "execution_count": 101,
     "metadata": {},
     "output_type": "execute_result"
    }
   ],
   "source": [
    "cat_pred10['col10'].value_counts()"
   ]
  },
  {
   "cell_type": "code",
   "execution_count": 102,
   "id": "fba67a7e",
   "metadata": {},
   "outputs": [],
   "source": [
    "cat_pred=cat_pred1.join(cat_pred2, how= 'inner')\n",
    "cat_pred=cat_pred.join(cat_pred3, how= 'inner')\n",
    "cat_pred=cat_pred.join(cat_pred4, how= 'inner')\n",
    "cat_pred=cat_pred.join(cat_pred5, how= 'inner')\n",
    "cat_pred=cat_pred.join(cat_pred6, how= 'inner')\n",
    "cat_pred=cat_pred.join(cat_pred7, how= 'inner')\n",
    "cat_pred=cat_pred.join(cat_pred8, how= 'inner')\n",
    "cat_pred=cat_pred.join(cat_pred9, how= 'inner')\n",
    "cat_pred=cat_pred.join(cat_pred10, how= 'inner')\n",
    "cat_pred['sum']=cat_pred['col1']+cat_pred['col2']+cat_pred['col3']+cat_pred['col4']+cat_pred['col5']+cat_pred['col6']+cat_pred['col7']+cat_pred['col8']+cat_pred['col9']+cat_pred['col10']"
   ]
  },
  {
   "cell_type": "code",
   "execution_count": 103,
   "id": "d9f643d3",
   "metadata": {},
   "outputs": [],
   "source": [
    "cat_pred['1day_yn'] = np.where((cat_pred['sum']>=4), 1,0)"
   ]
  },
  {
   "cell_type": "code",
   "execution_count": 104,
   "id": "a3149db5",
   "metadata": {},
   "outputs": [
    {
     "data": {
      "text/plain": [
       "0    3246\n",
       "1     164\n",
       "Name: 1day_yn, dtype: int64"
      ]
     },
     "execution_count": 104,
     "metadata": {},
     "output_type": "execute_result"
    }
   ],
   "source": [
    "cat_pred['1day_yn'].value_counts()"
   ]
  },
  {
   "cell_type": "code",
   "execution_count": 105,
   "id": "5ee8efde",
   "metadata": {},
   "outputs": [],
   "source": [
    "cat_1=test_id_1.join(cat_pred, how= 'inner')"
   ]
  },
  {
   "cell_type": "code",
   "execution_count": 106,
   "id": "3913dd9e",
   "metadata": {},
   "outputs": [
    {
     "data": {
      "text/html": [
       "<div>\n",
       "<style scoped>\n",
       "    .dataframe tbody tr th:only-of-type {\n",
       "        vertical-align: middle;\n",
       "    }\n",
       "\n",
       "    .dataframe tbody tr th {\n",
       "        vertical-align: top;\n",
       "    }\n",
       "\n",
       "    .dataframe thead th {\n",
       "        text-align: right;\n",
       "    }\n",
       "</style>\n",
       "<table border=\"1\" class=\"dataframe\">\n",
       "  <thead>\n",
       "    <tr style=\"text-align: right;\">\n",
       "      <th></th>\n",
       "      <th>index</th>\n",
       "      <th>date</th>\n",
       "      <th>umd</th>\n",
       "      <th>col1</th>\n",
       "      <th>col2</th>\n",
       "      <th>col3</th>\n",
       "      <th>col4</th>\n",
       "      <th>col5</th>\n",
       "      <th>col6</th>\n",
       "      <th>col7</th>\n",
       "      <th>col8</th>\n",
       "      <th>col9</th>\n",
       "      <th>col10</th>\n",
       "      <th>sum</th>\n",
       "      <th>1day_yn</th>\n",
       "    </tr>\n",
       "  </thead>\n",
       "  <tbody>\n",
       "    <tr>\n",
       "      <th>0</th>\n",
       "      <td>0</td>\n",
       "      <td>20200610</td>\n",
       "      <td>곤명면</td>\n",
       "      <td>0</td>\n",
       "      <td>0</td>\n",
       "      <td>0</td>\n",
       "      <td>0</td>\n",
       "      <td>0</td>\n",
       "      <td>0</td>\n",
       "      <td>0</td>\n",
       "      <td>0</td>\n",
       "      <td>0</td>\n",
       "      <td>0</td>\n",
       "      <td>0</td>\n",
       "      <td>0</td>\n",
       "    </tr>\n",
       "    <tr>\n",
       "      <th>1</th>\n",
       "      <td>1</td>\n",
       "      <td>20200611</td>\n",
       "      <td>곤명면</td>\n",
       "      <td>0</td>\n",
       "      <td>0</td>\n",
       "      <td>0</td>\n",
       "      <td>0</td>\n",
       "      <td>0</td>\n",
       "      <td>0</td>\n",
       "      <td>0</td>\n",
       "      <td>0</td>\n",
       "      <td>0</td>\n",
       "      <td>0</td>\n",
       "      <td>0</td>\n",
       "      <td>0</td>\n",
       "    </tr>\n",
       "    <tr>\n",
       "      <th>2</th>\n",
       "      <td>2</td>\n",
       "      <td>20200612</td>\n",
       "      <td>곤명면</td>\n",
       "      <td>0</td>\n",
       "      <td>0</td>\n",
       "      <td>0</td>\n",
       "      <td>0</td>\n",
       "      <td>0</td>\n",
       "      <td>0</td>\n",
       "      <td>0</td>\n",
       "      <td>0</td>\n",
       "      <td>0</td>\n",
       "      <td>0</td>\n",
       "      <td>0</td>\n",
       "      <td>0</td>\n",
       "    </tr>\n",
       "    <tr>\n",
       "      <th>3</th>\n",
       "      <td>3</td>\n",
       "      <td>20200610</td>\n",
       "      <td>곤양면</td>\n",
       "      <td>0</td>\n",
       "      <td>0</td>\n",
       "      <td>0</td>\n",
       "      <td>0</td>\n",
       "      <td>0</td>\n",
       "      <td>0</td>\n",
       "      <td>0</td>\n",
       "      <td>0</td>\n",
       "      <td>0</td>\n",
       "      <td>0</td>\n",
       "      <td>0</td>\n",
       "      <td>0</td>\n",
       "    </tr>\n",
       "    <tr>\n",
       "      <th>4</th>\n",
       "      <td>4</td>\n",
       "      <td>20200611</td>\n",
       "      <td>곤양면</td>\n",
       "      <td>0</td>\n",
       "      <td>0</td>\n",
       "      <td>0</td>\n",
       "      <td>0</td>\n",
       "      <td>0</td>\n",
       "      <td>0</td>\n",
       "      <td>0</td>\n",
       "      <td>0</td>\n",
       "      <td>0</td>\n",
       "      <td>0</td>\n",
       "      <td>0</td>\n",
       "      <td>0</td>\n",
       "    </tr>\n",
       "    <tr>\n",
       "      <th>...</th>\n",
       "      <td>...</td>\n",
       "      <td>...</td>\n",
       "      <td>...</td>\n",
       "      <td>...</td>\n",
       "      <td>...</td>\n",
       "      <td>...</td>\n",
       "      <td>...</td>\n",
       "      <td>...</td>\n",
       "      <td>...</td>\n",
       "      <td>...</td>\n",
       "      <td>...</td>\n",
       "      <td>...</td>\n",
       "      <td>...</td>\n",
       "      <td>...</td>\n",
       "      <td>...</td>\n",
       "    </tr>\n",
       "    <tr>\n",
       "      <th>3405</th>\n",
       "      <td>3405</td>\n",
       "      <td>20200906</td>\n",
       "      <td>환여동</td>\n",
       "      <td>0</td>\n",
       "      <td>0</td>\n",
       "      <td>0</td>\n",
       "      <td>0</td>\n",
       "      <td>0</td>\n",
       "      <td>0</td>\n",
       "      <td>0</td>\n",
       "      <td>0</td>\n",
       "      <td>0</td>\n",
       "      <td>0</td>\n",
       "      <td>0</td>\n",
       "      <td>0</td>\n",
       "    </tr>\n",
       "    <tr>\n",
       "      <th>3406</th>\n",
       "      <td>3406</td>\n",
       "      <td>20200903</td>\n",
       "      <td>흥해읍</td>\n",
       "      <td>0</td>\n",
       "      <td>0</td>\n",
       "      <td>0</td>\n",
       "      <td>0</td>\n",
       "      <td>0</td>\n",
       "      <td>0</td>\n",
       "      <td>0</td>\n",
       "      <td>0</td>\n",
       "      <td>0</td>\n",
       "      <td>0</td>\n",
       "      <td>0</td>\n",
       "      <td>0</td>\n",
       "    </tr>\n",
       "    <tr>\n",
       "      <th>3407</th>\n",
       "      <td>3407</td>\n",
       "      <td>20200904</td>\n",
       "      <td>흥해읍</td>\n",
       "      <td>0</td>\n",
       "      <td>0</td>\n",
       "      <td>0</td>\n",
       "      <td>0</td>\n",
       "      <td>0</td>\n",
       "      <td>0</td>\n",
       "      <td>0</td>\n",
       "      <td>0</td>\n",
       "      <td>0</td>\n",
       "      <td>0</td>\n",
       "      <td>0</td>\n",
       "      <td>0</td>\n",
       "    </tr>\n",
       "    <tr>\n",
       "      <th>3408</th>\n",
       "      <td>3408</td>\n",
       "      <td>20200905</td>\n",
       "      <td>흥해읍</td>\n",
       "      <td>0</td>\n",
       "      <td>0</td>\n",
       "      <td>0</td>\n",
       "      <td>0</td>\n",
       "      <td>0</td>\n",
       "      <td>0</td>\n",
       "      <td>0</td>\n",
       "      <td>0</td>\n",
       "      <td>0</td>\n",
       "      <td>0</td>\n",
       "      <td>0</td>\n",
       "      <td>0</td>\n",
       "    </tr>\n",
       "    <tr>\n",
       "      <th>3409</th>\n",
       "      <td>3409</td>\n",
       "      <td>20200906</td>\n",
       "      <td>흥해읍</td>\n",
       "      <td>0</td>\n",
       "      <td>0</td>\n",
       "      <td>0</td>\n",
       "      <td>0</td>\n",
       "      <td>0</td>\n",
       "      <td>0</td>\n",
       "      <td>0</td>\n",
       "      <td>0</td>\n",
       "      <td>0</td>\n",
       "      <td>0</td>\n",
       "      <td>0</td>\n",
       "      <td>0</td>\n",
       "    </tr>\n",
       "  </tbody>\n",
       "</table>\n",
       "<p>3410 rows × 15 columns</p>\n",
       "</div>"
      ],
      "text/plain": [
       "      index      date  umd  col1  col2  col3  col4  col5  col6  col7  col8  \\\n",
       "0         0  20200610  곤명면     0     0     0     0     0     0     0     0   \n",
       "1         1  20200611  곤명면     0     0     0     0     0     0     0     0   \n",
       "2         2  20200612  곤명면     0     0     0     0     0     0     0     0   \n",
       "3         3  20200610  곤양면     0     0     0     0     0     0     0     0   \n",
       "4         4  20200611  곤양면     0     0     0     0     0     0     0     0   \n",
       "...     ...       ...  ...   ...   ...   ...   ...   ...   ...   ...   ...   \n",
       "3405   3405  20200906  환여동     0     0     0     0     0     0     0     0   \n",
       "3406   3406  20200903  흥해읍     0     0     0     0     0     0     0     0   \n",
       "3407   3407  20200904  흥해읍     0     0     0     0     0     0     0     0   \n",
       "3408   3408  20200905  흥해읍     0     0     0     0     0     0     0     0   \n",
       "3409   3409  20200906  흥해읍     0     0     0     0     0     0     0     0   \n",
       "\n",
       "      col9  col10  sum  1day_yn  \n",
       "0        0      0    0        0  \n",
       "1        0      0    0        0  \n",
       "2        0      0    0        0  \n",
       "3        0      0    0        0  \n",
       "4        0      0    0        0  \n",
       "...    ...    ...  ...      ...  \n",
       "3405     0      0    0        0  \n",
       "3406     0      0    0        0  \n",
       "3407     0      0    0        0  \n",
       "3408     0      0    0        0  \n",
       "3409     0      0    0        0  \n",
       "\n",
       "[3410 rows x 15 columns]"
      ]
     },
     "execution_count": 106,
     "metadata": {},
     "output_type": "execute_result"
    }
   ],
   "source": [
    "cat_1"
   ]
  },
  {
   "cell_type": "code",
   "execution_count": 107,
   "id": "e8683295",
   "metadata": {},
   "outputs": [],
   "source": [
    "cat_1.to_csv('cat_1sub1_5.csv', index=False, encoding='CP949')"
   ]
  },
  {
   "cell_type": "code",
   "execution_count": null,
   "id": "6f872be4",
   "metadata": {},
   "outputs": [],
   "source": []
  },
  {
   "cell_type": "code",
   "execution_count": null,
   "id": "a8c71739",
   "metadata": {},
   "outputs": [],
   "source": []
  }
 ],
 "metadata": {
  "kernelspec": {
   "display_name": "Python 3",
   "language": "python",
   "name": "python3"
  },
  "language_info": {
   "codemirror_mode": {
    "name": "ipython",
    "version": 3
   },
   "file_extension": ".py",
   "mimetype": "text/x-python",
   "name": "python",
   "nbconvert_exporter": "python",
   "pygments_lexer": "ipython3",
   "version": "3.8.8"
  }
 },
 "nbformat": 4,
 "nbformat_minor": 5
}
