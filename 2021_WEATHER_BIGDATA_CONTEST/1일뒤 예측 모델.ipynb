{
 "cells": [
  {
   "cell_type": "code",
   "execution_count": 171,
   "id": "603a5e3d",
   "metadata": {},
   "outputs": [],
   "source": [
    "import pandas as pd\n",
    "import numpy as np"
   ]
  },
  {
   "cell_type": "code",
   "execution_count": 172,
   "id": "1cd2b68b",
   "metadata": {},
   "outputs": [],
   "source": [
    "import torch\n",
    "import random\n",
    "import torch.backends.cudnn as cudnn\n",
    "import numpy as np\n",
    "import os\n",
    "seed= 0\n",
    "random.seed(seed)\n",
    "np.random.seed(seed)\n",
    "os.environ[\"PYTHONHASHSEED\"] = str(seed)\n",
    "torch.manual_seed(seed)\n",
    "torch.cuda.manual_seed(seed)  # type: ignore\n",
    "torch.backends.cudnn.deterministic = True  # type: ignore\n",
    "torch.backends.cudnn.benchmark = False  # type: ignore"
   ]
  },
  {
   "cell_type": "code",
   "execution_count": 173,
   "id": "cc199e1e",
   "metadata": {},
   "outputs": [],
   "source": [
    "train_1=pd.read_csv(r'C:\\Users\\yuntaeyang\\Desktop\\w_train_1_group.csv')"
   ]
  },
  {
   "cell_type": "code",
   "execution_count": 174,
   "id": "3a5d5e96",
   "metadata": {},
   "outputs": [],
   "source": [
    "test_1=pd.read_csv(r'C:\\Users\\yuntaeyang\\Desktop\\w_test_1_group.csv')"
   ]
  },
  {
   "cell_type": "code",
   "execution_count": 175,
   "id": "6daec3ba",
   "metadata": {},
   "outputs": [],
   "source": [
    "train_1['TPTP'] = train_1['TPGRP_TPCD'].astype(str)  + train_1['PRDN_FOM_C'].astype(str)  "
   ]
  },
  {
   "cell_type": "code",
   "execution_count": 176,
   "id": "14ed63ec",
   "metadata": {},
   "outputs": [],
   "source": [
    "train_1['target_1'] = train_1['target']\n",
    "train_1=train_1.drop(['date', 'umd', 'target'], axis=1)"
   ]
  },
  {
   "cell_type": "code",
   "execution_count": 177,
   "id": "6f6906a5",
   "metadata": {},
   "outputs": [],
   "source": [
    "train_1_array=np.array(train_1)"
   ]
  },
  {
   "cell_type": "code",
   "execution_count": 178,
   "id": "4a5f8940",
   "metadata": {},
   "outputs": [],
   "source": [
    "from sklearn.preprocessing import LabelEncoder\n",
    "le = LabelEncoder()\n",
    "train_1_array[:, 64]=le.fit_transform(train_1_array[:,64])"
   ]
  },
  {
   "cell_type": "code",
   "execution_count": 179,
   "id": "f320a136",
   "metadata": {},
   "outputs": [],
   "source": [
    "train_1_array[:, 6]=le.fit_transform(train_1_array[:,6])"
   ]
  },
  {
   "cell_type": "code",
   "execution_count": 180,
   "id": "6434d29d",
   "metadata": {},
   "outputs": [],
   "source": [
    "train_1= pd.DataFrame(train_1_array, columns=train_1.columns)"
   ]
  },
  {
   "cell_type": "code",
   "execution_count": 181,
   "id": "55f9f707",
   "metadata": {},
   "outputs": [],
   "source": [
    "train_1=train_1.astype(float)"
   ]
  },
  {
   "cell_type": "code",
   "execution_count": 182,
   "id": "5bcb46f6",
   "metadata": {},
   "outputs": [],
   "source": [
    "test_1['TPTP'] = test_1['TPGRP_TPCD'].astype(str)  + test_1['PRDN_FOM_C'].astype(str) "
   ]
  },
  {
   "cell_type": "code",
   "execution_count": 183,
   "id": "57256c5c",
   "metadata": {},
   "outputs": [],
   "source": [
    "test_1=test_1.sort_values(by=['index'])"
   ]
  },
  {
   "cell_type": "code",
   "execution_count": 184,
   "id": "e377964a",
   "metadata": {},
   "outputs": [],
   "source": [
    "test_id_1=test_1[['index', 'date', 'umd']]"
   ]
  },
  {
   "cell_type": "code",
   "execution_count": 185,
   "id": "cc1307a1",
   "metadata": {},
   "outputs": [],
   "source": [
    "test_1=test_1.drop(['index', 'date', 'umd'], axis=1)\n",
    "test_1_array=np.array(test_1)"
   ]
  },
  {
   "cell_type": "code",
   "execution_count": 186,
   "id": "2e7300ac",
   "metadata": {},
   "outputs": [],
   "source": [
    "from sklearn.preprocessing import LabelEncoder\n",
    "le = LabelEncoder()\n",
    "test_1_array[:, 64]=le.fit_transform(test_1_array[:,64])"
   ]
  },
  {
   "cell_type": "code",
   "execution_count": 187,
   "id": "80d03a86",
   "metadata": {},
   "outputs": [],
   "source": [
    "test_1_array[:, 6]=le.fit_transform(test_1_array[:,6])"
   ]
  },
  {
   "cell_type": "code",
   "execution_count": 188,
   "id": "3a69973d",
   "metadata": {},
   "outputs": [],
   "source": [
    "test_1= pd.DataFrame(test_1_array, columns=test_1.columns)"
   ]
  },
  {
   "cell_type": "code",
   "execution_count": 189,
   "id": "27257893",
   "metadata": {},
   "outputs": [],
   "source": [
    "test_1=test_1.astype(float)"
   ]
  },
  {
   "cell_type": "code",
   "execution_count": 190,
   "id": "a442445b",
   "metadata": {},
   "outputs": [],
   "source": [
    "from sklearn.model_selection import train_test_split\n",
    "import warnings\n",
    "warnings.filterwarnings('ignore')\n",
    "\n",
    "X_features = train_1.iloc[:, :-1]\n",
    "y_label = train_1.iloc[:, -1]"
   ]
  },
  {
   "cell_type": "code",
   "execution_count": 191,
   "id": "bfa25bdd",
   "metadata": {},
   "outputs": [],
   "source": [
    "import numpy as np\n",
    "import matplotlib.pyplot as plt\n",
    "from sklearn.ensemble import IsolationForest"
   ]
  },
  {
   "cell_type": "code",
   "execution_count": 192,
   "id": "abc19c4e",
   "metadata": {},
   "outputs": [],
   "source": [
    "# IsolationForest 모델 만들기\n",
    "isol = IsolationForest(max_samples=100, random_state=200) \n",
    "\n",
    "# 만들어 둔 데이터셋에 알고리즘 피팅시키기\n",
    "isol.fit(X_features)\n",
    "y_pred= isol.predict(X_features)"
   ]
  },
  {
   "cell_type": "code",
   "execution_count": 193,
   "id": "736ef292",
   "metadata": {},
   "outputs": [],
   "source": [
    "isola=pd.DataFrame(y_pred, columns= ['isal'])"
   ]
  },
  {
   "cell_type": "code",
   "execution_count": 194,
   "id": "ce332c2d",
   "metadata": {},
   "outputs": [],
   "source": [
    "train_1=train_1.join(isola, how='inner')"
   ]
  },
  {
   "cell_type": "code",
   "execution_count": 195,
   "id": "0b6dff3e",
   "metadata": {},
   "outputs": [],
   "source": [
    "train_1=train_1[train_1['isal']== 1]"
   ]
  },
  {
   "cell_type": "code",
   "execution_count": 196,
   "id": "bdbd0495",
   "metadata": {},
   "outputs": [],
   "source": [
    "train_1=train_1.drop(['isal'], axis=1)"
   ]
  },
  {
   "cell_type": "code",
   "execution_count": 197,
   "id": "07b48f94",
   "metadata": {},
   "outputs": [],
   "source": [
    "X_features = train_1.iloc[:, :-1]\n",
    "y_label = train_1.iloc[:, -1]"
   ]
  },
  {
   "cell_type": "code",
   "execution_count": 198,
   "id": "ec235062",
   "metadata": {},
   "outputs": [
    {
     "name": "stdout",
     "output_type": "stream",
     "text": [
      "(3416, 65) (1464, 65)\n"
     ]
    }
   ],
   "source": [
    "# shuffle1\n",
    "import sklearn\n",
    "x_shuffled = sklearn.utils.shuffle(X_features, random_state=3217)\n",
    "y_shuffled =sklearn.utils.shuffle(y_label, random_state=3217)\n",
    "X_train, X_test, y_train, y_test=train_test_split(x_shuffled, y_shuffled, test_size=0.3, random_state=2021, stratify=y_label)\n",
    "print(X_train.shape, X_test.shape)"
   ]
  },
  {
   "cell_type": "code",
   "execution_count": 199,
   "id": "1cf2e9d4",
   "metadata": {},
   "outputs": [],
   "source": [
    "from imblearn.over_sampling import SMOTENC\n",
    "smote_nc = SMOTENC(categorical_features=[0, 1, 2, 3, 4, 5, 6, 7, 8, 9, 10, 11, 12, 13, 14, 15, 16], random_state=0)\n",
    "X_resampled1, y_resampled1 = smote_nc.fit_resample(X_train, y_train)"
   ]
  },
  {
   "cell_type": "code",
   "execution_count": 200,
   "id": "06fdf788",
   "metadata": {},
   "outputs": [],
   "source": [
    "X_train1 = np.array(X_resampled1)\n",
    "y_train1 = np.array(y_resampled1).squeeze()\n",
    "X_test  = np.array(X_test)\n",
    "y_test  = np.array(y_test).squeeze()"
   ]
  },
  {
   "cell_type": "code",
   "execution_count": 201,
   "id": "4c529b06",
   "metadata": {},
   "outputs": [
    {
     "name": "stdout",
     "output_type": "stream",
     "text": [
      "(3416, 65) (1464, 65)\n"
     ]
    }
   ],
   "source": [
    "# shuffle2\n",
    "x_shuffled2 = sklearn.utils.shuffle(X_features, random_state=3067)\n",
    "y_shuffled2 =sklearn.utils.shuffle(y_label, random_state=3067)\n",
    "X_train2, X_test2, y_train2, y_test2=train_test_split(x_shuffled2, y_shuffled2, test_size=0.3, random_state=2021, stratify=y_label)\n",
    "print(X_train2.shape, X_test2.shape)"
   ]
  },
  {
   "cell_type": "code",
   "execution_count": 202,
   "id": "74abe9b4",
   "metadata": {},
   "outputs": [],
   "source": [
    "from imblearn.over_sampling import SMOTENC\n",
    "smote_nc = SMOTENC(categorical_features=[0, 1, 2, 3, 4, 5, 6, 7, 8, 9, 10, 11, 12, 13, 14, 15, 16], random_state=0)\n",
    "X_resampled2, y_resampled2 = smote_nc.fit_resample(X_train2, y_train2)"
   ]
  },
  {
   "cell_type": "code",
   "execution_count": 203,
   "id": "7ac194a5",
   "metadata": {},
   "outputs": [],
   "source": [
    "X_train2 = np.array(X_resampled2)\n",
    "y_train2 = np.array(y_resampled2).squeeze()\n",
    "X_test2  = np.array(X_test2)\n",
    "y_test2  = np.array(y_test2).squeeze()"
   ]
  },
  {
   "cell_type": "code",
   "execution_count": 204,
   "id": "b921eb7b",
   "metadata": {},
   "outputs": [
    {
     "name": "stdout",
     "output_type": "stream",
     "text": [
      "(3416, 65) (1464, 65)\n"
     ]
    }
   ],
   "source": [
    "# shuffle3\n",
    "x_shuffled3 = sklearn.utils.shuffle(X_features, random_state=3415)\n",
    "y_shuffled3 =sklearn.utils.shuffle(y_label, random_state=3415)\n",
    "X_train3, X_test3, y_train3, y_test3=train_test_split(x_shuffled3, y_shuffled3, test_size=0.3, random_state=2021, stratify=y_label)\n",
    "print(X_train3.shape, X_test3.shape)"
   ]
  },
  {
   "cell_type": "code",
   "execution_count": 205,
   "id": "6dcb8e0e",
   "metadata": {},
   "outputs": [],
   "source": [
    "from imblearn.over_sampling import SMOTENC\n",
    "smote_nc = SMOTENC(categorical_features=[0, 1, 2, 3, 4, 5, 6, 7, 8, 9, 10, 11, 12, 13, 14, 15, 16], random_state=0)\n",
    "X_resampled3, y_resampled3 = smote_nc.fit_resample(X_train3, y_train3)"
   ]
  },
  {
   "cell_type": "code",
   "execution_count": 206,
   "id": "12728900",
   "metadata": {},
   "outputs": [],
   "source": [
    "X_train3 = np.array(X_resampled3)\n",
    "y_train3 = np.array(y_resampled3).squeeze()\n",
    "X_test3  = np.array(X_test3)\n",
    "y_test3  = np.array(y_test3).squeeze()"
   ]
  },
  {
   "cell_type": "code",
   "execution_count": 207,
   "id": "82f99289",
   "metadata": {},
   "outputs": [
    {
     "name": "stdout",
     "output_type": "stream",
     "text": [
      "(3416, 65) (1464, 65)\n"
     ]
    }
   ],
   "source": [
    "# shuffle4\n",
    "x_shuffled4 = sklearn.utils.shuffle(X_features, random_state=3563)\n",
    "y_shuffled4 =sklearn.utils.shuffle(y_label, random_state=3563)\n",
    "X_train4, X_test4, y_train4, y_test4=train_test_split(x_shuffled4, y_shuffled4, test_size=0.3, random_state=2021, stratify=y_label)\n",
    "print(X_train4.shape, X_test4.shape)"
   ]
  },
  {
   "cell_type": "code",
   "execution_count": 208,
   "id": "90075962",
   "metadata": {},
   "outputs": [],
   "source": [
    "from imblearn.over_sampling import SMOTENC\n",
    "smote_nc = SMOTENC(categorical_features=[0, 1, 2, 3, 4, 5, 6, 7, 8, 9, 10, 11, 12, 13, 14, 15, 16], random_state=0)\n",
    "X_resampled4, y_resampled4 = smote_nc.fit_resample(X_train4, y_train4)"
   ]
  },
  {
   "cell_type": "code",
   "execution_count": 209,
   "id": "b69f1c20",
   "metadata": {},
   "outputs": [],
   "source": [
    "X_train4 = np.array(X_resampled4)\n",
    "y_train4 = np.array(y_resampled4).squeeze()\n",
    "X_test4  = np.array(X_test4)\n",
    "y_test4  = np.array(y_test4).squeeze()"
   ]
  },
  {
   "cell_type": "code",
   "execution_count": 210,
   "id": "aa546878",
   "metadata": {},
   "outputs": [
    {
     "name": "stdout",
     "output_type": "stream",
     "text": [
      "(3416, 65) (1464, 65)\n"
     ]
    }
   ],
   "source": [
    "# shuffle5\n",
    "x_shuffled5 = sklearn.utils.shuffle(X_features, random_state=3528)\n",
    "y_shuffled5 =sklearn.utils.shuffle(y_label, random_state=3528)\n",
    "X_train5, X_test5, y_train5, y_test5=train_test_split(x_shuffled5, y_shuffled5, test_size=0.3, random_state=2021, stratify=y_label)\n",
    "print(X_train5.shape, X_test5.shape)"
   ]
  },
  {
   "cell_type": "code",
   "execution_count": 211,
   "id": "330852ed",
   "metadata": {},
   "outputs": [],
   "source": [
    "from imblearn.over_sampling import SMOTENC\n",
    "smote_nc = SMOTENC(categorical_features=[0, 1, 2, 3, 4, 5, 6, 7, 8, 9, 10, 11, 12, 13, 14, 15, 16], random_state=0)\n",
    "X_resampled5, y_resampled5 = smote_nc.fit_resample(X_train5, y_train5)"
   ]
  },
  {
   "cell_type": "code",
   "execution_count": 212,
   "id": "41a48e74",
   "metadata": {},
   "outputs": [],
   "source": [
    "X_train5 = np.array(X_resampled5)\n",
    "y_train5 = np.array(y_resampled5).squeeze()\n",
    "X_test5  = np.array(X_test5)\n",
    "y_test5  = np.array(y_test5).squeeze()"
   ]
  },
  {
   "cell_type": "code",
   "execution_count": 213,
   "id": "1a70d5fd",
   "metadata": {},
   "outputs": [
    {
     "name": "stdout",
     "output_type": "stream",
     "text": [
      "(3416, 65) (1464, 65)\n"
     ]
    }
   ],
   "source": [
    "# shuffle6\n",
    "x_shuffled6 = sklearn.utils.shuffle(X_features, random_state=3006)\n",
    "y_shuffled6 =sklearn.utils.shuffle(y_label, random_state=3006)\n",
    "X_train6, X_test6, y_train6, y_test6=train_test_split(x_shuffled6, y_shuffled6, test_size=0.3, random_state=2021, stratify=y_label)\n",
    "print(X_train6.shape, X_test6.shape)"
   ]
  },
  {
   "cell_type": "code",
   "execution_count": 214,
   "id": "aab6d44d",
   "metadata": {},
   "outputs": [],
   "source": [
    "from imblearn.over_sampling import SMOTENC\n",
    "smote_nc = SMOTENC(categorical_features=[0, 1, 2, 3, 4, 5, 6, 7, 8, 9, 10, 11, 12, 13, 14, 15, 16], random_state=0)\n",
    "X_resampled6, y_resampled6 = smote_nc.fit_resample(X_train6, y_train6)"
   ]
  },
  {
   "cell_type": "code",
   "execution_count": 215,
   "id": "2930d3ff",
   "metadata": {},
   "outputs": [],
   "source": [
    "X_train6 = np.array(X_resampled6)\n",
    "y_train6 = np.array(y_resampled6).squeeze()\n",
    "X_test6  = np.array(X_test6)\n",
    "y_test6  = np.array(y_test6).squeeze()"
   ]
  },
  {
   "cell_type": "code",
   "execution_count": 216,
   "id": "95f5f4bb",
   "metadata": {},
   "outputs": [],
   "source": [
    "from pytorch_tabnet.tab_model import TabNetClassifier"
   ]
  },
  {
   "cell_type": "code",
   "execution_count": 217,
   "id": "2a7a502f",
   "metadata": {},
   "outputs": [],
   "source": [
    "import torch"
   ]
  },
  {
   "cell_type": "code",
   "execution_count": 218,
   "id": "54e7fe16",
   "metadata": {},
   "outputs": [
    {
     "name": "stdout",
     "output_type": "stream",
     "text": [
      "Device used : cpu\n",
      "epoch 0  | loss: 0.83    | val_0_auc: 0.47246 |  0:00:01s\n",
      "epoch 1  | loss: 0.61081 | val_0_auc: 0.45552 |  0:00:03s\n",
      "epoch 2  | loss: 0.54635 | val_0_auc: 0.44497 |  0:00:05s\n",
      "epoch 3  | loss: 0.4728  | val_0_auc: 0.49626 |  0:00:06s\n",
      "epoch 4  | loss: 0.41302 | val_0_auc: 0.56652 |  0:00:08s\n",
      "epoch 5  | loss: 0.35993 | val_0_auc: 0.5495  |  0:00:10s\n",
      "epoch 6  | loss: 0.33269 | val_0_auc: 0.5461  |  0:00:12s\n",
      "epoch 7  | loss: 0.31894 | val_0_auc: 0.54394 |  0:00:14s\n",
      "epoch 8  | loss: 0.30716 | val_0_auc: 0.57244 |  0:00:16s\n",
      "epoch 9  | loss: 0.28638 | val_0_auc: 0.55515 |  0:00:18s\n",
      "epoch 10 | loss: 0.27082 | val_0_auc: 0.64758 |  0:00:20s\n",
      "epoch 11 | loss: 0.25646 | val_0_auc: 0.64037 |  0:00:22s\n",
      "epoch 12 | loss: 0.25145 | val_0_auc: 0.59299 |  0:00:24s\n",
      "epoch 13 | loss: 0.23775 | val_0_auc: 0.586   |  0:00:26s\n",
      "epoch 14 | loss: 0.22458 | val_0_auc: 0.57606 |  0:00:27s\n",
      "epoch 15 | loss: 0.22457 | val_0_auc: 0.55548 |  0:00:29s\n",
      "epoch 16 | loss: 0.21792 | val_0_auc: 0.56652 |  0:00:31s\n",
      "epoch 17 | loss: 0.21365 | val_0_auc: 0.5581  |  0:00:33s\n",
      "epoch 18 | loss: 0.2084  | val_0_auc: 0.56792 |  0:00:34s\n",
      "epoch 19 | loss: 0.19942 | val_0_auc: 0.58789 |  0:00:36s\n",
      "epoch 20 | loss: 0.20346 | val_0_auc: 0.62034 |  0:00:38s\n",
      "epoch 21 | loss: 0.19152 | val_0_auc: 0.63462 |  0:00:39s\n",
      "epoch 22 | loss: 0.18588 | val_0_auc: 0.6381  |  0:00:41s\n",
      "epoch 23 | loss: 0.17797 | val_0_auc: 0.67036 |  0:00:42s\n",
      "epoch 24 | loss: 0.17628 | val_0_auc: 0.69656 |  0:00:44s\n",
      "epoch 25 | loss: 0.17769 | val_0_auc: 0.70678 |  0:00:45s\n",
      "epoch 26 | loss: 0.16807 | val_0_auc: 0.71946 |  0:00:47s\n",
      "epoch 27 | loss: 0.18336 | val_0_auc: 0.71457 |  0:00:48s\n",
      "epoch 28 | loss: 0.16445 | val_0_auc: 0.73029 |  0:00:50s\n",
      "epoch 29 | loss: 0.15944 | val_0_auc: 0.7367  |  0:00:51s\n",
      "epoch 30 | loss: 0.15844 | val_0_auc: 0.7431  |  0:00:53s\n",
      "epoch 31 | loss: 0.15545 | val_0_auc: 0.75631 |  0:00:55s\n",
      "epoch 32 | loss: 0.14865 | val_0_auc: 0.77329 |  0:00:56s\n",
      "epoch 33 | loss: 0.15335 | val_0_auc: 0.78981 |  0:00:58s\n",
      "epoch 34 | loss: 0.14807 | val_0_auc: 0.79204 |  0:00:59s\n",
      "epoch 35 | loss: 0.1366  | val_0_auc: 0.83048 |  0:01:01s\n",
      "epoch 36 | loss: 0.14279 | val_0_auc: 0.82793 |  0:01:02s\n",
      "epoch 37 | loss: 0.13518 | val_0_auc: 0.81364 |  0:01:04s\n",
      "epoch 38 | loss: 0.13771 | val_0_auc: 0.81387 |  0:01:05s\n",
      "epoch 39 | loss: 0.13901 | val_0_auc: 0.81281 |  0:01:07s\n",
      "epoch 40 | loss: 0.13173 | val_0_auc: 0.82047 |  0:01:08s\n",
      "epoch 41 | loss: 0.12193 | val_0_auc: 0.82341 |  0:01:10s\n",
      "epoch 42 | loss: 0.12715 | val_0_auc: 0.82213 |  0:01:11s\n",
      "epoch 43 | loss: 0.12753 | val_0_auc: 0.84482 |  0:01:13s\n",
      "epoch 44 | loss: 0.1206  | val_0_auc: 0.85399 |  0:01:14s\n",
      "epoch 45 | loss: 0.13816 | val_0_auc: 0.86108 |  0:01:16s\n",
      "epoch 46 | loss: 0.13949 | val_0_auc: 0.85408 |  0:01:17s\n",
      "epoch 47 | loss: 0.14367 | val_0_auc: 0.85327 |  0:01:19s\n",
      "epoch 48 | loss: 0.13062 | val_0_auc: 0.80467 |  0:01:20s\n",
      "epoch 49 | loss: 0.12872 | val_0_auc: 0.84833 |  0:01:22s\n",
      "epoch 50 | loss: 0.13404 | val_0_auc: 0.88606 |  0:01:24s\n",
      "epoch 51 | loss: 0.12875 | val_0_auc: 0.87307 |  0:01:25s\n",
      "epoch 52 | loss: 0.11314 | val_0_auc: 0.86933 |  0:01:27s\n",
      "epoch 53 | loss: 0.10864 | val_0_auc: 0.87215 |  0:01:28s\n",
      "epoch 54 | loss: 0.12192 | val_0_auc: 0.85734 |  0:01:30s\n",
      "epoch 55 | loss: 0.12262 | val_0_auc: 0.86248 |  0:01:31s\n",
      "epoch 56 | loss: 0.11878 | val_0_auc: 0.8538  |  0:01:33s\n",
      "epoch 57 | loss: 0.12397 | val_0_auc: 0.87546 |  0:01:35s\n",
      "epoch 58 | loss: 0.12222 | val_0_auc: 0.86157 |  0:01:36s\n",
      "epoch 59 | loss: 0.12861 | val_0_auc: 0.87001 |  0:01:37s\n",
      "epoch 60 | loss: 0.12145 | val_0_auc: 0.87786 |  0:01:39s\n",
      "epoch 61 | loss: 0.13163 | val_0_auc: 0.88452 |  0:01:41s\n",
      "epoch 62 | loss: 0.11291 | val_0_auc: 0.88278 |  0:01:42s\n",
      "epoch 63 | loss: 0.10304 | val_0_auc: 0.88584 |  0:01:44s\n",
      "epoch 64 | loss: 0.10276 | val_0_auc: 0.88074 |  0:01:45s\n",
      "epoch 65 | loss: 0.09327 | val_0_auc: 0.88778 |  0:01:47s\n",
      "epoch 66 | loss: 0.08908 | val_0_auc: 0.88316 |  0:01:48s\n",
      "epoch 67 | loss: 0.08403 | val_0_auc: 0.89575 |  0:01:50s\n",
      "epoch 68 | loss: 0.08134 | val_0_auc: 0.89338 |  0:01:51s\n",
      "epoch 69 | loss: 0.07615 | val_0_auc: 0.8776  |  0:01:53s\n",
      "epoch 70 | loss: 0.07709 | val_0_auc: 0.88499 |  0:01:54s\n",
      "epoch 71 | loss: 0.07642 | val_0_auc: 0.88372 |  0:01:56s\n",
      "epoch 72 | loss: 0.08689 | val_0_auc: 0.88207 |  0:01:57s\n",
      "epoch 73 | loss: 0.08335 | val_0_auc: 0.87501 |  0:01:59s\n",
      "epoch 74 | loss: 0.08144 | val_0_auc: 0.88146 |  0:02:00s\n",
      "epoch 75 | loss: 0.07745 | val_0_auc: 0.88612 |  0:02:02s\n",
      "epoch 76 | loss: 0.08728 | val_0_auc: 0.89274 |  0:02:03s\n",
      "epoch 77 | loss: 0.09781 | val_0_auc: 0.89486 |  0:02:05s\n",
      "epoch 78 | loss: 0.09639 | val_0_auc: 0.88672 |  0:02:06s\n",
      "epoch 79 | loss: 0.08278 | val_0_auc: 0.88384 |  0:02:08s\n",
      "epoch 80 | loss: 0.07163 | val_0_auc: 0.87998 |  0:02:09s\n",
      "epoch 81 | loss: 0.07259 | val_0_auc: 0.87958 |  0:02:11s\n",
      "epoch 82 | loss: 0.06412 | val_0_auc: 0.8777  |  0:02:12s\n",
      "epoch 83 | loss: 0.07625 | val_0_auc: 0.88701 |  0:02:14s\n",
      "epoch 84 | loss: 0.07164 | val_0_auc: 0.88443 |  0:02:15s\n",
      "epoch 85 | loss: 0.06242 | val_0_auc: 0.89017 |  0:02:17s\n",
      "epoch 86 | loss: 0.06694 | val_0_auc: 0.87722 |  0:02:18s\n",
      "epoch 87 | loss: 0.0624  | val_0_auc: 0.8864  |  0:02:20s\n",
      "epoch 88 | loss: 0.06338 | val_0_auc: 0.89798 |  0:02:24s\n",
      "epoch 89 | loss: 0.06372 | val_0_auc: 0.88662 |  0:02:26s\n",
      "epoch 90 | loss: 0.06622 | val_0_auc: 0.88842 |  0:02:30s\n",
      "epoch 91 | loss: 0.06427 | val_0_auc: 0.88614 |  0:02:32s\n",
      "epoch 92 | loss: 0.06104 | val_0_auc: 0.88959 |  0:02:34s\n",
      "epoch 93 | loss: 0.05782 | val_0_auc: 0.89491 |  0:02:36s\n",
      "epoch 94 | loss: 0.05941 | val_0_auc: 0.89279 |  0:02:38s\n",
      "epoch 95 | loss: 0.0629  | val_0_auc: 0.87803 |  0:02:40s\n",
      "epoch 96 | loss: 0.06479 | val_0_auc: 0.89184 |  0:02:41s\n",
      "epoch 97 | loss: 0.06363 | val_0_auc: 0.88724 |  0:02:43s\n",
      "epoch 98 | loss: 0.05947 | val_0_auc: 0.88375 |  0:02:45s\n",
      "epoch 99 | loss: 0.0644  | val_0_auc: 0.89402 |  0:02:47s\n",
      "epoch 100| loss: 0.06269 | val_0_auc: 0.88207 |  0:02:48s\n",
      "epoch 101| loss: 0.07291 | val_0_auc: 0.87271 |  0:02:50s\n",
      "epoch 102| loss: 0.09144 | val_0_auc: 0.87898 |  0:02:52s\n",
      "epoch 103| loss: 0.09087 | val_0_auc: 0.87727 |  0:02:53s\n",
      "epoch 104| loss: 0.08536 | val_0_auc: 0.88221 |  0:02:55s\n",
      "epoch 105| loss: 0.08657 | val_0_auc: 0.86013 |  0:02:57s\n",
      "epoch 106| loss: 0.08771 | val_0_auc: 0.86381 |  0:02:58s\n",
      "epoch 107| loss: 0.08117 | val_0_auc: 0.86131 |  0:03:00s\n",
      "epoch 108| loss: 0.07074 | val_0_auc: 0.86661 |  0:03:02s\n",
      "epoch 109| loss: 0.06694 | val_0_auc: 0.86219 |  0:03:04s\n",
      "epoch 110| loss: 0.062   | val_0_auc: 0.87207 |  0:03:07s\n",
      "epoch 111| loss: 0.05884 | val_0_auc: 0.87472 |  0:03:10s\n",
      "epoch 112| loss: 0.05775 | val_0_auc: 0.87519 |  0:03:12s\n",
      "epoch 113| loss: 0.0593  | val_0_auc: 0.87568 |  0:03:14s\n",
      "epoch 114| loss: 0.0627  | val_0_auc: 0.87954 |  0:03:16s\n",
      "epoch 115| loss: 0.05763 | val_0_auc: 0.86999 |  0:03:18s\n",
      "epoch 116| loss: 0.06331 | val_0_auc: 0.8665  |  0:03:19s\n",
      "epoch 117| loss: 0.06133 | val_0_auc: 0.87452 |  0:03:21s\n",
      "epoch 118| loss: 0.06186 | val_0_auc: 0.87857 |  0:03:22s\n",
      "\n",
      "Early stopping occurred at epoch 118 with best_epoch = 88 and best_val_0_auc = 0.89798\n",
      "Best weights from best epoch are automatically used!\n"
     ]
    }
   ],
   "source": [
    "# model1\n",
    "clf1 = TabNetClassifier(seed=0)\n",
    "clf1.fit(\n",
    "    X_train1, y_train1,\n",
    "    eval_set=[(X_test, y_test)],\n",
    "    patience=30,max_epochs=500,\n",
    "    eval_metric=['auc']\n",
    ")"
   ]
  },
  {
   "cell_type": "code",
   "execution_count": 219,
   "id": "6998653a",
   "metadata": {},
   "outputs": [
    {
     "name": "stdout",
     "output_type": "stream",
     "text": [
      "Device used : cpu\n",
      "epoch 0  | loss: 0.8441  | val_0_auc: 0.43387 |  0:00:01s\n",
      "epoch 1  | loss: 0.66211 | val_0_auc: 0.48536 |  0:00:03s\n",
      "epoch 2  | loss: 0.6036  | val_0_auc: 0.61214 |  0:00:04s\n",
      "epoch 3  | loss: 0.55172 | val_0_auc: 0.58561 |  0:00:06s\n",
      "epoch 4  | loss: 0.4858  | val_0_auc: 0.5201  |  0:00:07s\n",
      "epoch 5  | loss: 0.45048 | val_0_auc: 0.5459  |  0:00:09s\n",
      "epoch 6  | loss: 0.40448 | val_0_auc: 0.52664 |  0:00:11s\n",
      "epoch 7  | loss: 0.36425 | val_0_auc: 0.66033 |  0:00:13s\n",
      "epoch 8  | loss: 0.34325 | val_0_auc: 0.5239  |  0:00:14s\n",
      "epoch 9  | loss: 0.31978 | val_0_auc: 0.53089 |  0:00:16s\n",
      "epoch 10 | loss: 0.31105 | val_0_auc: 0.59083 |  0:00:17s\n",
      "epoch 11 | loss: 0.29223 | val_0_auc: 0.54943 |  0:00:19s\n",
      "epoch 12 | loss: 0.27879 | val_0_auc: 0.55379 |  0:00:20s\n",
      "epoch 13 | loss: 0.26986 | val_0_auc: 0.50793 |  0:00:22s\n",
      "epoch 14 | loss: 0.25867 | val_0_auc: 0.57093 |  0:00:23s\n",
      "epoch 15 | loss: 0.24988 | val_0_auc: 0.58875 |  0:00:25s\n",
      "epoch 16 | loss: 0.24282 | val_0_auc: 0.59041 |  0:00:26s\n",
      "epoch 17 | loss: 0.24539 | val_0_auc: 0.5867  |  0:00:28s\n",
      "epoch 18 | loss: 0.23796 | val_0_auc: 0.61034 |  0:00:30s\n",
      "epoch 19 | loss: 0.23018 | val_0_auc: 0.61145 |  0:00:31s\n",
      "epoch 20 | loss: 0.21735 | val_0_auc: 0.6442  |  0:00:33s\n",
      "epoch 21 | loss: 0.2107  | val_0_auc: 0.63308 |  0:00:34s\n",
      "epoch 22 | loss: 0.19906 | val_0_auc: 0.61336 |  0:00:36s\n",
      "epoch 23 | loss: 0.20129 | val_0_auc: 0.63283 |  0:00:38s\n",
      "epoch 24 | loss: 0.19286 | val_0_auc: 0.66475 |  0:00:40s\n",
      "epoch 25 | loss: 0.18576 | val_0_auc: 0.70783 |  0:00:41s\n",
      "epoch 26 | loss: 0.18831 | val_0_auc: 0.71893 |  0:00:43s\n",
      "epoch 27 | loss: 0.1787  | val_0_auc: 0.70127 |  0:00:44s\n",
      "epoch 28 | loss: 0.17561 | val_0_auc: 0.74771 |  0:00:47s\n",
      "epoch 29 | loss: 0.16581 | val_0_auc: 0.77376 |  0:00:48s\n",
      "epoch 30 | loss: 0.17386 | val_0_auc: 0.76289 |  0:00:50s\n",
      "epoch 31 | loss: 0.17696 | val_0_auc: 0.79483 |  0:00:51s\n",
      "epoch 32 | loss: 0.16437 | val_0_auc: 0.80105 |  0:00:53s\n",
      "epoch 33 | loss: 0.1591  | val_0_auc: 0.79151 |  0:00:55s\n",
      "epoch 34 | loss: 0.15506 | val_0_auc: 0.79689 |  0:00:57s\n",
      "epoch 35 | loss: 0.14984 | val_0_auc: 0.77398 |  0:00:58s\n",
      "epoch 36 | loss: 0.14887 | val_0_auc: 0.78152 |  0:01:00s\n",
      "epoch 37 | loss: 0.14486 | val_0_auc: 0.80567 |  0:01:01s\n",
      "epoch 38 | loss: 0.14664 | val_0_auc: 0.81582 |  0:01:03s\n",
      "epoch 39 | loss: 0.14277 | val_0_auc: 0.82292 |  0:01:04s\n",
      "epoch 40 | loss: 0.14527 | val_0_auc: 0.83002 |  0:01:06s\n",
      "epoch 41 | loss: 0.14391 | val_0_auc: 0.82526 |  0:01:08s\n",
      "epoch 42 | loss: 0.13554 | val_0_auc: 0.82986 |  0:01:09s\n",
      "epoch 43 | loss: 0.13443 | val_0_auc: 0.81992 |  0:01:11s\n",
      "epoch 44 | loss: 0.13518 | val_0_auc: 0.78196 |  0:01:12s\n",
      "epoch 45 | loss: 0.12698 | val_0_auc: 0.81378 |  0:01:14s\n",
      "epoch 46 | loss: 0.12655 | val_0_auc: 0.78695 |  0:01:15s\n",
      "epoch 47 | loss: 0.12178 | val_0_auc: 0.83288 |  0:01:17s\n",
      "epoch 48 | loss: 0.12117 | val_0_auc: 0.84103 |  0:01:19s\n",
      "epoch 49 | loss: 0.11509 | val_0_auc: 0.86368 |  0:01:20s\n",
      "epoch 50 | loss: 0.11433 | val_0_auc: 0.86773 |  0:01:22s\n",
      "epoch 51 | loss: 0.10809 | val_0_auc: 0.86005 |  0:01:23s\n",
      "epoch 52 | loss: 0.10769 | val_0_auc: 0.87491 |  0:01:25s\n",
      "epoch 53 | loss: 0.10271 | val_0_auc: 0.86941 |  0:01:27s\n",
      "epoch 54 | loss: 0.10502 | val_0_auc: 0.85998 |  0:01:28s\n",
      "epoch 55 | loss: 0.10644 | val_0_auc: 0.88318 |  0:01:30s\n",
      "epoch 56 | loss: 0.10152 | val_0_auc: 0.8854  |  0:01:31s\n",
      "epoch 57 | loss: 0.10568 | val_0_auc: 0.8978  |  0:01:33s\n",
      "epoch 58 | loss: 0.10026 | val_0_auc: 0.89739 |  0:01:34s\n",
      "epoch 59 | loss: 0.09823 | val_0_auc: 0.88447 |  0:01:36s\n",
      "epoch 60 | loss: 0.09407 | val_0_auc: 0.88689 |  0:01:37s\n",
      "epoch 61 | loss: 0.09823 | val_0_auc: 0.8969  |  0:01:39s\n",
      "epoch 62 | loss: 0.09339 | val_0_auc: 0.88453 |  0:01:40s\n",
      "epoch 63 | loss: 0.1037  | val_0_auc: 0.89649 |  0:01:42s\n",
      "epoch 64 | loss: 0.10351 | val_0_auc: 0.89215 |  0:01:44s\n",
      "epoch 65 | loss: 0.08935 | val_0_auc: 0.88491 |  0:01:46s\n",
      "epoch 66 | loss: 0.08948 | val_0_auc: 0.89283 |  0:01:48s\n",
      "epoch 67 | loss: 0.08463 | val_0_auc: 0.89671 |  0:01:50s\n",
      "epoch 68 | loss: 0.08813 | val_0_auc: 0.90017 |  0:01:53s\n",
      "epoch 69 | loss: 0.08838 | val_0_auc: 0.89528 |  0:01:54s\n",
      "epoch 70 | loss: 0.0892  | val_0_auc: 0.9011  |  0:01:56s\n",
      "epoch 71 | loss: 0.08578 | val_0_auc: 0.88546 |  0:01:58s\n",
      "epoch 72 | loss: 0.0861  | val_0_auc: 0.87719 |  0:02:00s\n",
      "epoch 73 | loss: 0.08153 | val_0_auc: 0.89353 |  0:02:01s\n",
      "epoch 74 | loss: 0.08403 | val_0_auc: 0.90689 |  0:02:03s\n",
      "epoch 75 | loss: 0.07896 | val_0_auc: 0.90335 |  0:02:05s\n",
      "epoch 76 | loss: 0.08187 | val_0_auc: 0.90223 |  0:02:06s\n",
      "epoch 77 | loss: 0.07991 | val_0_auc: 0.90435 |  0:02:08s\n",
      "epoch 78 | loss: 0.07763 | val_0_auc: 0.90169 |  0:02:09s\n",
      "epoch 79 | loss: 0.07801 | val_0_auc: 0.9064  |  0:02:11s\n",
      "epoch 80 | loss: 0.07496 | val_0_auc: 0.90153 |  0:02:13s\n",
      "epoch 81 | loss: 0.07611 | val_0_auc: 0.90047 |  0:02:15s\n",
      "epoch 82 | loss: 0.07991 | val_0_auc: 0.90299 |  0:02:17s\n",
      "epoch 83 | loss: 0.07386 | val_0_auc: 0.88971 |  0:02:19s\n",
      "epoch 84 | loss: 0.06583 | val_0_auc: 0.89372 |  0:02:21s\n",
      "epoch 85 | loss: 0.0714  | val_0_auc: 0.89213 |  0:02:23s\n",
      "epoch 86 | loss: 0.07015 | val_0_auc: 0.88766 |  0:02:25s\n",
      "epoch 87 | loss: 0.06626 | val_0_auc: 0.90797 |  0:02:27s\n",
      "epoch 88 | loss: 0.07219 | val_0_auc: 0.89539 |  0:02:28s\n",
      "epoch 89 | loss: 0.07314 | val_0_auc: 0.89851 |  0:02:30s\n",
      "epoch 90 | loss: 0.07323 | val_0_auc: 0.91177 |  0:02:31s\n",
      "epoch 91 | loss: 0.06792 | val_0_auc: 0.91278 |  0:02:33s\n",
      "epoch 92 | loss: 0.07017 | val_0_auc: 0.90593 |  0:02:34s\n",
      "epoch 93 | loss: 0.07315 | val_0_auc: 0.90423 |  0:02:36s\n",
      "epoch 94 | loss: 0.07033 | val_0_auc: 0.90461 |  0:02:38s\n",
      "epoch 95 | loss: 0.06842 | val_0_auc: 0.90394 |  0:02:39s\n",
      "epoch 96 | loss: 0.07389 | val_0_auc: 0.89478 |  0:02:41s\n",
      "epoch 97 | loss: 0.06907 | val_0_auc: 0.8919  |  0:02:42s\n",
      "epoch 98 | loss: 0.07558 | val_0_auc: 0.88973 |  0:02:44s\n",
      "epoch 99 | loss: 0.06819 | val_0_auc: 0.89008 |  0:02:45s\n",
      "epoch 100| loss: 0.06635 | val_0_auc: 0.89834 |  0:02:47s\n",
      "epoch 101| loss: 0.07186 | val_0_auc: 0.89749 |  0:02:48s\n",
      "epoch 102| loss: 0.06004 | val_0_auc: 0.89477 |  0:02:50s\n",
      "epoch 103| loss: 0.06707 | val_0_auc: 0.89793 |  0:02:51s\n",
      "epoch 104| loss: 0.07124 | val_0_auc: 0.89718 |  0:02:53s\n",
      "epoch 105| loss: 0.07076 | val_0_auc: 0.90667 |  0:02:54s\n",
      "epoch 106| loss: 0.0698  | val_0_auc: 0.89986 |  0:02:56s\n",
      "epoch 107| loss: 0.06347 | val_0_auc: 0.90849 |  0:02:57s\n",
      "epoch 108| loss: 0.07156 | val_0_auc: 0.90267 |  0:02:59s\n",
      "epoch 109| loss: 0.0651  | val_0_auc: 0.90223 |  0:03:00s\n",
      "epoch 110| loss: 0.06723 | val_0_auc: 0.90094 |  0:03:02s\n",
      "epoch 111| loss: 0.05765 | val_0_auc: 0.8934  |  0:03:03s\n",
      "epoch 112| loss: 0.05848 | val_0_auc: 0.90518 |  0:03:05s\n",
      "epoch 113| loss: 0.05633 | val_0_auc: 0.89615 |  0:03:07s\n",
      "epoch 114| loss: 0.05553 | val_0_auc: 0.91304 |  0:03:08s\n",
      "epoch 115| loss: 0.06121 | val_0_auc: 0.89888 |  0:03:10s\n",
      "epoch 116| loss: 0.05852 | val_0_auc: 0.9087  |  0:03:11s\n",
      "epoch 117| loss: 0.05932 | val_0_auc: 0.90713 |  0:03:13s\n",
      "epoch 118| loss: 0.05783 | val_0_auc: 0.8944  |  0:03:15s\n",
      "epoch 119| loss: 0.05688 | val_0_auc: 0.90922 |  0:03:16s\n",
      "epoch 120| loss: 0.07272 | val_0_auc: 0.91147 |  0:03:18s\n",
      "epoch 121| loss: 0.07171 | val_0_auc: 0.90666 |  0:03:19s\n",
      "epoch 122| loss: 0.0714  | val_0_auc: 0.90145 |  0:03:21s\n",
      "epoch 123| loss: 0.06897 | val_0_auc: 0.897   |  0:03:22s\n",
      "epoch 124| loss: 0.0674  | val_0_auc: 0.89307 |  0:03:24s\n",
      "epoch 125| loss: 0.06424 | val_0_auc: 0.90782 |  0:03:25s\n",
      "epoch 126| loss: 0.06654 | val_0_auc: 0.92056 |  0:03:27s\n",
      "epoch 127| loss: 0.06477 | val_0_auc: 0.91267 |  0:03:29s\n",
      "epoch 128| loss: 0.06335 | val_0_auc: 0.91088 |  0:03:30s\n",
      "epoch 129| loss: 0.06097 | val_0_auc: 0.9188  |  0:03:32s\n",
      "epoch 130| loss: 0.05364 | val_0_auc: 0.91628 |  0:03:33s\n",
      "epoch 131| loss: 0.05131 | val_0_auc: 0.91598 |  0:03:35s\n",
      "epoch 132| loss: 0.05214 | val_0_auc: 0.90514 |  0:03:37s\n",
      "epoch 133| loss: 0.06413 | val_0_auc: 0.90257 |  0:03:38s\n",
      "epoch 134| loss: 0.06426 | val_0_auc: 0.90955 |  0:03:40s\n",
      "epoch 135| loss: 0.06135 | val_0_auc: 0.92054 |  0:03:41s\n",
      "epoch 136| loss: 0.05384 | val_0_auc: 0.92524 |  0:03:43s\n",
      "epoch 137| loss: 0.05527 | val_0_auc: 0.91545 |  0:03:44s\n",
      "epoch 138| loss: 0.05042 | val_0_auc: 0.90687 |  0:03:46s\n",
      "epoch 139| loss: 0.05091 | val_0_auc: 0.91001 |  0:03:47s\n",
      "epoch 140| loss: 0.04644 | val_0_auc: 0.91329 |  0:03:49s\n"
     ]
    },
    {
     "name": "stdout",
     "output_type": "stream",
     "text": [
      "epoch 141| loss: 0.04504 | val_0_auc: 0.91064 |  0:03:50s\n",
      "epoch 142| loss: 0.03859 | val_0_auc: 0.90525 |  0:03:52s\n",
      "epoch 143| loss: 0.04711 | val_0_auc: 0.91045 |  0:03:54s\n",
      "epoch 144| loss: 0.05857 | val_0_auc: 0.91406 |  0:03:55s\n",
      "epoch 145| loss: 0.05153 | val_0_auc: 0.9115  |  0:03:58s\n",
      "epoch 146| loss: 0.06012 | val_0_auc: 0.90219 |  0:04:00s\n",
      "epoch 147| loss: 0.0752  | val_0_auc: 0.89715 |  0:04:02s\n",
      "epoch 148| loss: 0.06672 | val_0_auc: 0.89755 |  0:04:04s\n",
      "epoch 149| loss: 0.06492 | val_0_auc: 0.9137  |  0:04:06s\n",
      "epoch 150| loss: 0.05556 | val_0_auc: 0.90723 |  0:04:09s\n",
      "epoch 151| loss: 0.05427 | val_0_auc: 0.90892 |  0:04:11s\n",
      "epoch 152| loss: 0.04898 | val_0_auc: 0.91781 |  0:04:13s\n",
      "epoch 153| loss: 0.05878 | val_0_auc: 0.92332 |  0:04:15s\n",
      "epoch 154| loss: 0.05366 | val_0_auc: 0.91072 |  0:04:16s\n",
      "epoch 155| loss: 0.05347 | val_0_auc: 0.89025 |  0:04:18s\n",
      "epoch 156| loss: 0.04945 | val_0_auc: 0.90714 |  0:04:20s\n",
      "epoch 157| loss: 0.05751 | val_0_auc: 0.91902 |  0:04:22s\n",
      "epoch 158| loss: 0.05715 | val_0_auc: 0.91384 |  0:04:23s\n",
      "epoch 159| loss: 0.04465 | val_0_auc: 0.90825 |  0:04:25s\n",
      "epoch 160| loss: 0.05091 | val_0_auc: 0.91113 |  0:04:27s\n",
      "epoch 161| loss: 0.0528  | val_0_auc: 0.9306  |  0:04:28s\n",
      "epoch 162| loss: 0.04306 | val_0_auc: 0.91112 |  0:04:31s\n",
      "epoch 163| loss: 0.04339 | val_0_auc: 0.90469 |  0:04:32s\n",
      "epoch 164| loss: 0.0481  | val_0_auc: 0.92023 |  0:04:34s\n",
      "epoch 165| loss: 0.03828 | val_0_auc: 0.91989 |  0:04:37s\n",
      "epoch 166| loss: 0.04657 | val_0_auc: 0.92022 |  0:04:39s\n",
      "epoch 167| loss: 0.04779 | val_0_auc: 0.91847 |  0:04:40s\n",
      "epoch 168| loss: 0.04476 | val_0_auc: 0.92476 |  0:04:42s\n",
      "epoch 169| loss: 0.04355 | val_0_auc: 0.92198 |  0:04:43s\n",
      "epoch 170| loss: 0.04349 | val_0_auc: 0.91119 |  0:04:45s\n",
      "epoch 171| loss: 0.04162 | val_0_auc: 0.9123  |  0:04:46s\n",
      "epoch 172| loss: 0.04215 | val_0_auc: 0.91438 |  0:04:48s\n",
      "epoch 173| loss: 0.03974 | val_0_auc: 0.92292 |  0:04:49s\n",
      "epoch 174| loss: 0.03916 | val_0_auc: 0.92198 |  0:04:51s\n",
      "epoch 175| loss: 0.04154 | val_0_auc: 0.91013 |  0:04:52s\n",
      "epoch 176| loss: 0.03926 | val_0_auc: 0.90904 |  0:04:54s\n",
      "epoch 177| loss: 0.03825 | val_0_auc: 0.91303 |  0:04:55s\n",
      "epoch 178| loss: 0.03699 | val_0_auc: 0.91022 |  0:04:57s\n",
      "epoch 179| loss: 0.04369 | val_0_auc: 0.90959 |  0:04:58s\n",
      "epoch 180| loss: 0.04178 | val_0_auc: 0.91083 |  0:05:00s\n",
      "epoch 181| loss: 0.03576 | val_0_auc: 0.90597 |  0:05:02s\n",
      "epoch 182| loss: 0.03632 | val_0_auc: 0.89367 |  0:05:03s\n",
      "epoch 183| loss: 0.0377  | val_0_auc: 0.89133 |  0:05:05s\n",
      "epoch 184| loss: 0.03803 | val_0_auc: 0.90497 |  0:05:06s\n",
      "epoch 185| loss: 0.04032 | val_0_auc: 0.9131  |  0:05:09s\n",
      "epoch 186| loss: 0.04105 | val_0_auc: 0.9131  |  0:05:11s\n",
      "epoch 187| loss: 0.04431 | val_0_auc: 0.91069 |  0:05:13s\n",
      "epoch 188| loss: 0.0418  | val_0_auc: 0.91231 |  0:05:15s\n",
      "epoch 189| loss: 0.03698 | val_0_auc: 0.90574 |  0:05:17s\n",
      "epoch 190| loss: 0.04008 | val_0_auc: 0.91172 |  0:05:18s\n",
      "epoch 191| loss: 0.03849 | val_0_auc: 0.91259 |  0:05:20s\n",
      "\n",
      "Early stopping occurred at epoch 191 with best_epoch = 161 and best_val_0_auc = 0.9306\n",
      "Best weights from best epoch are automatically used!\n"
     ]
    }
   ],
   "source": [
    "# model2\n",
    "clf2 = TabNetClassifier(seed=0)\n",
    "clf2.fit(\n",
    "    X_train2, y_train2,\n",
    "    eval_set=[(X_test2, y_test2)],\n",
    "    patience=30,max_epochs=500,\n",
    "    eval_metric=['auc']\n",
    ")"
   ]
  },
  {
   "cell_type": "code",
   "execution_count": 220,
   "id": "046019ca",
   "metadata": {},
   "outputs": [
    {
     "name": "stdout",
     "output_type": "stream",
     "text": [
      "Device used : cpu\n",
      "epoch 0  | loss: 0.81977 | val_0_auc: 0.4318  |  0:00:01s\n",
      "epoch 1  | loss: 0.65499 | val_0_auc: 0.45938 |  0:00:03s\n",
      "epoch 2  | loss: 0.57744 | val_0_auc: 0.5542  |  0:00:05s\n",
      "epoch 3  | loss: 0.5143  | val_0_auc: 0.59091 |  0:00:07s\n",
      "epoch 4  | loss: 0.44415 | val_0_auc: 0.59978 |  0:00:09s\n",
      "epoch 5  | loss: 0.40495 | val_0_auc: 0.52361 |  0:00:10s\n",
      "epoch 6  | loss: 0.33702 | val_0_auc: 0.53329 |  0:00:13s\n",
      "epoch 7  | loss: 0.28309 | val_0_auc: 0.5414  |  0:00:14s\n",
      "epoch 8  | loss: 0.25684 | val_0_auc: 0.54431 |  0:00:16s\n",
      "epoch 9  | loss: 0.23359 | val_0_auc: 0.45833 |  0:00:18s\n",
      "epoch 10 | loss: 0.22764 | val_0_auc: 0.53645 |  0:00:21s\n",
      "epoch 11 | loss: 0.20666 | val_0_auc: 0.62937 |  0:00:22s\n",
      "epoch 12 | loss: 0.20882 | val_0_auc: 0.49986 |  0:00:24s\n",
      "epoch 13 | loss: 0.21595 | val_0_auc: 0.51613 |  0:00:25s\n",
      "epoch 14 | loss: 0.19747 | val_0_auc: 0.4588  |  0:00:27s\n",
      "epoch 15 | loss: 0.17588 | val_0_auc: 0.46893 |  0:00:28s\n",
      "epoch 16 | loss: 0.17675 | val_0_auc: 0.65986 |  0:00:30s\n",
      "epoch 17 | loss: 0.17556 | val_0_auc: 0.58126 |  0:00:31s\n",
      "epoch 18 | loss: 0.17042 | val_0_auc: 0.48005 |  0:00:33s\n",
      "epoch 19 | loss: 0.17705 | val_0_auc: 0.49387 |  0:00:34s\n",
      "epoch 20 | loss: 0.16613 | val_0_auc: 0.58958 |  0:00:36s\n",
      "epoch 21 | loss: 0.16183 | val_0_auc: 0.63138 |  0:00:37s\n",
      "epoch 22 | loss: 0.15198 | val_0_auc: 0.72472 |  0:00:39s\n",
      "epoch 23 | loss: 0.1441  | val_0_auc: 0.73081 |  0:00:40s\n",
      "epoch 24 | loss: 0.14585 | val_0_auc: 0.72    |  0:00:42s\n",
      "epoch 25 | loss: 0.13701 | val_0_auc: 0.71541 |  0:00:43s\n",
      "epoch 26 | loss: 0.13647 | val_0_auc: 0.70392 |  0:00:45s\n",
      "epoch 27 | loss: 0.13059 | val_0_auc: 0.71157 |  0:00:46s\n",
      "epoch 28 | loss: 0.12404 | val_0_auc: 0.77858 |  0:00:48s\n",
      "epoch 29 | loss: 0.12206 | val_0_auc: 0.77599 |  0:00:49s\n",
      "epoch 30 | loss: 0.12264 | val_0_auc: 0.79426 |  0:00:51s\n",
      "epoch 31 | loss: 0.11582 | val_0_auc: 0.80149 |  0:00:53s\n",
      "epoch 32 | loss: 0.10996 | val_0_auc: 0.79475 |  0:00:54s\n",
      "epoch 33 | loss: 0.11003 | val_0_auc: 0.82184 |  0:00:56s\n",
      "epoch 34 | loss: 0.1093  | val_0_auc: 0.82559 |  0:00:58s\n",
      "epoch 35 | loss: 0.10297 | val_0_auc: 0.81867 |  0:01:00s\n",
      "epoch 36 | loss: 0.10898 | val_0_auc: 0.83151 |  0:01:02s\n",
      "epoch 37 | loss: 0.09471 | val_0_auc: 0.84386 |  0:01:03s\n",
      "epoch 38 | loss: 0.106   | val_0_auc: 0.85515 |  0:01:05s\n",
      "epoch 39 | loss: 0.10098 | val_0_auc: 0.86208 |  0:01:07s\n",
      "epoch 40 | loss: 0.08978 | val_0_auc: 0.8683  |  0:01:09s\n",
      "epoch 41 | loss: 0.09119 | val_0_auc: 0.8648  |  0:01:10s\n",
      "epoch 42 | loss: 0.08704 | val_0_auc: 0.86323 |  0:01:12s\n",
      "epoch 43 | loss: 0.08413 | val_0_auc: 0.86957 |  0:01:14s\n",
      "epoch 44 | loss: 0.09414 | val_0_auc: 0.86261 |  0:01:15s\n",
      "epoch 45 | loss: 0.09164 | val_0_auc: 0.86419 |  0:01:17s\n",
      "epoch 46 | loss: 0.09513 | val_0_auc: 0.86915 |  0:01:18s\n",
      "epoch 47 | loss: 0.089   | val_0_auc: 0.8831  |  0:01:20s\n",
      "epoch 48 | loss: 0.08153 | val_0_auc: 0.87324 |  0:01:21s\n",
      "epoch 49 | loss: 0.08208 | val_0_auc: 0.87651 |  0:01:23s\n",
      "epoch 50 | loss: 0.07789 | val_0_auc: 0.87815 |  0:01:25s\n",
      "epoch 51 | loss: 0.0799  | val_0_auc: 0.87872 |  0:01:27s\n",
      "epoch 52 | loss: 0.08207 | val_0_auc: 0.88325 |  0:01:28s\n",
      "epoch 53 | loss: 0.0893  | val_0_auc: 0.89049 |  0:01:30s\n",
      "epoch 54 | loss: 0.08292 | val_0_auc: 0.89946 |  0:01:32s\n",
      "epoch 55 | loss: 0.0809  | val_0_auc: 0.89233 |  0:01:34s\n",
      "epoch 56 | loss: 0.07341 | val_0_auc: 0.89873 |  0:01:35s\n",
      "epoch 57 | loss: 0.08218 | val_0_auc: 0.88676 |  0:01:37s\n",
      "epoch 58 | loss: 0.07766 | val_0_auc: 0.8923  |  0:01:39s\n",
      "epoch 59 | loss: 0.07718 | val_0_auc: 0.90061 |  0:01:40s\n",
      "epoch 60 | loss: 0.07094 | val_0_auc: 0.88332 |  0:01:42s\n",
      "epoch 61 | loss: 0.07481 | val_0_auc: 0.8802  |  0:01:43s\n",
      "epoch 62 | loss: 0.06454 | val_0_auc: 0.88399 |  0:01:45s\n",
      "epoch 63 | loss: 0.07038 | val_0_auc: 0.89362 |  0:01:47s\n",
      "epoch 64 | loss: 0.07082 | val_0_auc: 0.89321 |  0:01:49s\n",
      "epoch 65 | loss: 0.075   | val_0_auc: 0.88116 |  0:01:51s\n",
      "epoch 66 | loss: 0.0697  | val_0_auc: 0.89212 |  0:01:53s\n",
      "epoch 67 | loss: 0.05921 | val_0_auc: 0.89731 |  0:01:54s\n",
      "epoch 68 | loss: 0.05928 | val_0_auc: 0.89873 |  0:01:56s\n",
      "epoch 69 | loss: 0.06703 | val_0_auc: 0.87742 |  0:01:58s\n",
      "epoch 70 | loss: 0.06832 | val_0_auc: 0.8798  |  0:02:00s\n",
      "epoch 71 | loss: 0.07661 | val_0_auc: 0.88315 |  0:02:02s\n",
      "epoch 72 | loss: 0.05969 | val_0_auc: 0.88372 |  0:02:03s\n",
      "epoch 73 | loss: 0.06126 | val_0_auc: 0.88819 |  0:02:05s\n",
      "epoch 74 | loss: 0.05916 | val_0_auc: 0.87844 |  0:02:07s\n",
      "epoch 75 | loss: 0.05578 | val_0_auc: 0.87903 |  0:02:09s\n",
      "epoch 76 | loss: 0.06098 | val_0_auc: 0.88974 |  0:02:10s\n",
      "epoch 77 | loss: 0.06067 | val_0_auc: 0.88953 |  0:02:12s\n",
      "epoch 78 | loss: 0.05362 | val_0_auc: 0.88271 |  0:02:14s\n",
      "epoch 79 | loss: 0.05569 | val_0_auc: 0.87056 |  0:02:15s\n",
      "epoch 80 | loss: 0.05213 | val_0_auc: 0.87925 |  0:02:17s\n",
      "epoch 81 | loss: 0.05168 | val_0_auc: 0.88074 |  0:02:19s\n",
      "epoch 82 | loss: 0.05035 | val_0_auc: 0.88381 |  0:02:20s\n",
      "epoch 83 | loss: 0.05083 | val_0_auc: 0.87098 |  0:02:22s\n",
      "epoch 84 | loss: 0.05603 | val_0_auc: 0.87762 |  0:02:23s\n",
      "epoch 85 | loss: 0.05014 | val_0_auc: 0.85456 |  0:02:25s\n",
      "epoch 86 | loss: 0.05691 | val_0_auc: 0.87989 |  0:02:27s\n",
      "epoch 87 | loss: 0.05331 | val_0_auc: 0.88196 |  0:02:29s\n",
      "epoch 88 | loss: 0.06045 | val_0_auc: 0.89251 |  0:02:30s\n",
      "epoch 89 | loss: 0.05459 | val_0_auc: 0.9011  |  0:02:32s\n",
      "epoch 90 | loss: 0.05204 | val_0_auc: 0.88192 |  0:02:34s\n",
      "epoch 91 | loss: 0.04563 | val_0_auc: 0.8704  |  0:02:36s\n",
      "epoch 92 | loss: 0.0544  | val_0_auc: 0.88007 |  0:02:38s\n",
      "epoch 93 | loss: 0.05713 | val_0_auc: 0.88438 |  0:02:40s\n",
      "epoch 94 | loss: 0.05258 | val_0_auc: 0.8829  |  0:02:42s\n",
      "epoch 95 | loss: 0.04488 | val_0_auc: 0.87674 |  0:02:43s\n",
      "epoch 96 | loss: 0.0577  | val_0_auc: 0.87434 |  0:02:45s\n",
      "epoch 97 | loss: 0.06786 | val_0_auc: 0.87156 |  0:02:47s\n",
      "epoch 98 | loss: 0.07223 | val_0_auc: 0.86361 |  0:02:48s\n",
      "epoch 99 | loss: 0.0633  | val_0_auc: 0.88382 |  0:02:50s\n",
      "epoch 100| loss: 0.0743  | val_0_auc: 0.89409 |  0:02:52s\n",
      "epoch 101| loss: 0.06431 | val_0_auc: 0.90262 |  0:02:53s\n",
      "epoch 102| loss: 0.06777 | val_0_auc: 0.90015 |  0:02:55s\n",
      "epoch 103| loss: 0.05311 | val_0_auc: 0.89618 |  0:02:57s\n",
      "epoch 104| loss: 0.05738 | val_0_auc: 0.88533 |  0:02:59s\n",
      "epoch 105| loss: 0.05766 | val_0_auc: 0.88744 |  0:03:00s\n",
      "epoch 106| loss: 0.06002 | val_0_auc: 0.88496 |  0:03:02s\n",
      "epoch 107| loss: 0.05127 | val_0_auc: 0.87449 |  0:03:04s\n",
      "epoch 108| loss: 0.05482 | val_0_auc: 0.87919 |  0:03:05s\n",
      "epoch 109| loss: 0.05215 | val_0_auc: 0.88316 |  0:03:07s\n",
      "epoch 110| loss: 0.05502 | val_0_auc: 0.8681  |  0:03:09s\n",
      "epoch 111| loss: 0.0499  | val_0_auc: 0.868   |  0:03:10s\n",
      "epoch 112| loss: 0.05212 | val_0_auc: 0.88547 |  0:03:12s\n",
      "epoch 113| loss: 0.05192 | val_0_auc: 0.88444 |  0:03:14s\n",
      "epoch 114| loss: 0.04762 | val_0_auc: 0.86778 |  0:03:16s\n",
      "epoch 115| loss: 0.04733 | val_0_auc: 0.87105 |  0:03:17s\n",
      "epoch 116| loss: 0.04226 | val_0_auc: 0.87822 |  0:03:19s\n",
      "epoch 117| loss: 0.04221 | val_0_auc: 0.87735 |  0:03:21s\n",
      "epoch 118| loss: 0.04683 | val_0_auc: 0.88057 |  0:03:22s\n",
      "epoch 119| loss: 0.04432 | val_0_auc: 0.88458 |  0:03:24s\n",
      "epoch 120| loss: 0.05205 | val_0_auc: 0.87536 |  0:03:26s\n",
      "epoch 121| loss: 0.07066 | val_0_auc: 0.88125 |  0:03:27s\n",
      "epoch 122| loss: 0.08033 | val_0_auc: 0.89409 |  0:03:29s\n",
      "epoch 123| loss: 0.06406 | val_0_auc: 0.90254 |  0:03:31s\n",
      "epoch 124| loss: 0.05436 | val_0_auc: 0.88379 |  0:03:33s\n",
      "epoch 125| loss: 0.05574 | val_0_auc: 0.883   |  0:03:34s\n",
      "epoch 126| loss: 0.05364 | val_0_auc: 0.87864 |  0:03:36s\n",
      "epoch 127| loss: 0.04659 | val_0_auc: 0.87646 |  0:03:38s\n",
      "epoch 128| loss: 0.04819 | val_0_auc: 0.88619 |  0:03:40s\n",
      "epoch 129| loss: 0.04232 | val_0_auc: 0.89071 |  0:03:41s\n",
      "epoch 130| loss: 0.0395  | val_0_auc: 0.89016 |  0:03:43s\n",
      "epoch 131| loss: 0.04044 | val_0_auc: 0.89025 |  0:03:45s\n",
      "\n",
      "Early stopping occurred at epoch 131 with best_epoch = 101 and best_val_0_auc = 0.90262\n",
      "Best weights from best epoch are automatically used!\n"
     ]
    }
   ],
   "source": [
    "# model3\n",
    "clf3 = TabNetClassifier(seed=0)\n",
    "clf3.fit(\n",
    "    X_train3, y_train3,\n",
    "    eval_set=[(X_test3, y_test3)],\n",
    "    patience=30,max_epochs=500,\n",
    "    eval_metric=['auc']\n",
    ")"
   ]
  },
  {
   "cell_type": "code",
   "execution_count": 221,
   "id": "87707127",
   "metadata": {},
   "outputs": [
    {
     "name": "stdout",
     "output_type": "stream",
     "text": [
      "Device used : cpu\n",
      "epoch 0  | loss: 0.81672 | val_0_auc: 0.36688 |  0:00:01s\n",
      "epoch 1  | loss: 0.60162 | val_0_auc: 0.46427 |  0:00:03s\n",
      "epoch 2  | loss: 0.53015 | val_0_auc: 0.48599 |  0:00:04s\n",
      "epoch 3  | loss: 0.4537  | val_0_auc: 0.42238 |  0:00:06s\n",
      "epoch 4  | loss: 0.374   | val_0_auc: 0.42778 |  0:00:08s\n",
      "epoch 5  | loss: 0.33458 | val_0_auc: 0.54379 |  0:00:10s\n",
      "epoch 6  | loss: 0.30104 | val_0_auc: 0.56806 |  0:00:11s\n",
      "epoch 7  | loss: 0.29285 | val_0_auc: 0.59955 |  0:00:13s\n",
      "epoch 8  | loss: 0.27739 | val_0_auc: 0.56952 |  0:00:15s\n",
      "epoch 9  | loss: 0.25535 | val_0_auc: 0.57003 |  0:00:16s\n",
      "epoch 10 | loss: 0.24386 | val_0_auc: 0.59304 |  0:00:18s\n",
      "epoch 11 | loss: 0.23597 | val_0_auc: 0.61202 |  0:00:20s\n",
      "epoch 12 | loss: 0.22412 | val_0_auc: 0.5982  |  0:00:22s\n",
      "epoch 13 | loss: 0.20384 | val_0_auc: 0.63268 |  0:00:23s\n",
      "epoch 14 | loss: 0.20398 | val_0_auc: 0.62113 |  0:00:25s\n",
      "epoch 15 | loss: 0.20014 | val_0_auc: 0.63155 |  0:00:27s\n",
      "epoch 16 | loss: 0.19541 | val_0_auc: 0.55624 |  0:00:28s\n",
      "epoch 17 | loss: 0.19373 | val_0_auc: 0.54315 |  0:00:30s\n",
      "epoch 18 | loss: 0.1829  | val_0_auc: 0.53387 |  0:00:32s\n",
      "epoch 19 | loss: 0.18109 | val_0_auc: 0.64053 |  0:00:33s\n",
      "epoch 20 | loss: 0.18123 | val_0_auc: 0.69186 |  0:00:35s\n",
      "epoch 21 | loss: 0.17742 | val_0_auc: 0.69995 |  0:00:38s\n",
      "epoch 22 | loss: 0.16431 | val_0_auc: 0.73068 |  0:00:40s\n",
      "epoch 23 | loss: 0.15876 | val_0_auc: 0.78719 |  0:00:41s\n",
      "epoch 24 | loss: 0.1524  | val_0_auc: 0.78902 |  0:00:43s\n",
      "epoch 25 | loss: 0.15234 | val_0_auc: 0.79404 |  0:00:45s\n",
      "epoch 26 | loss: 0.15012 | val_0_auc: 0.80324 |  0:00:46s\n",
      "epoch 27 | loss: 0.14639 | val_0_auc: 0.83668 |  0:00:48s\n",
      "epoch 28 | loss: 0.13576 | val_0_auc: 0.83948 |  0:00:50s\n",
      "epoch 29 | loss: 0.13605 | val_0_auc: 0.83692 |  0:00:51s\n",
      "epoch 30 | loss: 0.13842 | val_0_auc: 0.85209 |  0:00:53s\n",
      "epoch 31 | loss: 0.13603 | val_0_auc: 0.84113 |  0:00:55s\n",
      "epoch 32 | loss: 0.13166 | val_0_auc: 0.84106 |  0:00:57s\n",
      "epoch 33 | loss: 0.13031 | val_0_auc: 0.84164 |  0:00:58s\n",
      "epoch 34 | loss: 0.12999 | val_0_auc: 0.86073 |  0:01:00s\n",
      "epoch 35 | loss: 0.12848 | val_0_auc: 0.84308 |  0:01:02s\n",
      "epoch 36 | loss: 0.12814 | val_0_auc: 0.86518 |  0:01:03s\n",
      "epoch 37 | loss: 0.13058 | val_0_auc: 0.86841 |  0:01:05s\n",
      "epoch 38 | loss: 0.12584 | val_0_auc: 0.86478 |  0:01:07s\n",
      "epoch 39 | loss: 0.1163  | val_0_auc: 0.88196 |  0:01:08s\n",
      "epoch 40 | loss: 0.11946 | val_0_auc: 0.87546 |  0:01:10s\n",
      "epoch 41 | loss: 0.12582 | val_0_auc: 0.86439 |  0:01:12s\n",
      "epoch 42 | loss: 0.11126 | val_0_auc: 0.86163 |  0:01:13s\n",
      "epoch 43 | loss: 0.1125  | val_0_auc: 0.87708 |  0:01:15s\n",
      "epoch 44 | loss: 0.11964 | val_0_auc: 0.86965 |  0:01:16s\n",
      "epoch 45 | loss: 0.11629 | val_0_auc: 0.86466 |  0:01:18s\n",
      "epoch 46 | loss: 0.11401 | val_0_auc: 0.86693 |  0:01:20s\n",
      "epoch 47 | loss: 0.11858 | val_0_auc: 0.86085 |  0:01:21s\n",
      "epoch 48 | loss: 0.11241 | val_0_auc: 0.87223 |  0:01:23s\n",
      "epoch 49 | loss: 0.11214 | val_0_auc: 0.8716  |  0:01:24s\n",
      "epoch 50 | loss: 0.11559 | val_0_auc: 0.88029 |  0:01:26s\n",
      "epoch 51 | loss: 0.10889 | val_0_auc: 0.88697 |  0:01:28s\n",
      "epoch 52 | loss: 0.10773 | val_0_auc: 0.88678 |  0:01:30s\n",
      "epoch 53 | loss: 0.09824 | val_0_auc: 0.88323 |  0:01:32s\n",
      "epoch 54 | loss: 0.09824 | val_0_auc: 0.87564 |  0:01:35s\n",
      "epoch 55 | loss: 0.10142 | val_0_auc: 0.88699 |  0:01:37s\n",
      "epoch 56 | loss: 0.09961 | val_0_auc: 0.88644 |  0:01:39s\n",
      "epoch 57 | loss: 0.1023  | val_0_auc: 0.88616 |  0:01:41s\n",
      "epoch 58 | loss: 0.09746 | val_0_auc: 0.8856  |  0:01:43s\n",
      "epoch 59 | loss: 0.08613 | val_0_auc: 0.87903 |  0:01:45s\n",
      "epoch 60 | loss: 0.08413 | val_0_auc: 0.88106 |  0:01:46s\n",
      "epoch 61 | loss: 0.09263 | val_0_auc: 0.87854 |  0:01:48s\n",
      "epoch 62 | loss: 0.09123 | val_0_auc: 0.86435 |  0:01:50s\n",
      "epoch 63 | loss: 0.08802 | val_0_auc: 0.87007 |  0:01:52s\n",
      "epoch 64 | loss: 0.07981 | val_0_auc: 0.86536 |  0:01:53s\n",
      "epoch 65 | loss: 0.07771 | val_0_auc: 0.86973 |  0:01:55s\n",
      "epoch 66 | loss: 0.07715 | val_0_auc: 0.87123 |  0:01:56s\n",
      "epoch 67 | loss: 0.07759 | val_0_auc: 0.87213 |  0:01:58s\n",
      "epoch 68 | loss: 0.08219 | val_0_auc: 0.86326 |  0:02:00s\n",
      "epoch 69 | loss: 0.08382 | val_0_auc: 0.86238 |  0:02:02s\n",
      "epoch 70 | loss: 0.08198 | val_0_auc: 0.86961 |  0:02:03s\n",
      "epoch 71 | loss: 0.0765  | val_0_auc: 0.88153 |  0:02:05s\n",
      "epoch 72 | loss: 0.07008 | val_0_auc: 0.89093 |  0:02:07s\n",
      "epoch 73 | loss: 0.07518 | val_0_auc: 0.87293 |  0:02:08s\n",
      "epoch 74 | loss: 0.06931 | val_0_auc: 0.87559 |  0:02:10s\n",
      "epoch 75 | loss: 0.07577 | val_0_auc: 0.86331 |  0:02:12s\n",
      "epoch 76 | loss: 0.07601 | val_0_auc: 0.87345 |  0:02:13s\n",
      "epoch 77 | loss: 0.0702  | val_0_auc: 0.87471 |  0:02:15s\n",
      "epoch 78 | loss: 0.07723 | val_0_auc: 0.88639 |  0:02:17s\n",
      "epoch 79 | loss: 0.08163 | val_0_auc: 0.88174 |  0:02:19s\n",
      "epoch 80 | loss: 0.07233 | val_0_auc: 0.86618 |  0:02:20s\n",
      "epoch 81 | loss: 0.06626 | val_0_auc: 0.86875 |  0:02:22s\n",
      "epoch 82 | loss: 0.06471 | val_0_auc: 0.8643  |  0:02:24s\n",
      "epoch 83 | loss: 0.06249 | val_0_auc: 0.85738 |  0:02:26s\n",
      "epoch 84 | loss: 0.06372 | val_0_auc: 0.8561  |  0:02:28s\n",
      "epoch 85 | loss: 0.06071 | val_0_auc: 0.86978 |  0:02:29s\n",
      "epoch 86 | loss: 0.05746 | val_0_auc: 0.86743 |  0:02:31s\n",
      "epoch 87 | loss: 0.05126 | val_0_auc: 0.84688 |  0:02:33s\n",
      "epoch 88 | loss: 0.06195 | val_0_auc: 0.84789 |  0:02:35s\n",
      "epoch 89 | loss: 0.06109 | val_0_auc: 0.86497 |  0:02:36s\n",
      "epoch 90 | loss: 0.06119 | val_0_auc: 0.8585  |  0:02:38s\n",
      "epoch 91 | loss: 0.05888 | val_0_auc: 0.86691 |  0:02:40s\n",
      "epoch 92 | loss: 0.05512 | val_0_auc: 0.87551 |  0:02:42s\n",
      "epoch 93 | loss: 0.05907 | val_0_auc: 0.86421 |  0:02:45s\n",
      "epoch 94 | loss: 0.06687 | val_0_auc: 0.85456 |  0:02:47s\n",
      "epoch 95 | loss: 0.06838 | val_0_auc: 0.84942 |  0:02:49s\n",
      "epoch 96 | loss: 0.06244 | val_0_auc: 0.84119 |  0:02:51s\n",
      "epoch 97 | loss: 0.05472 | val_0_auc: 0.85909 |  0:02:53s\n",
      "epoch 98 | loss: 0.05635 | val_0_auc: 0.85499 |  0:02:55s\n",
      "epoch 99 | loss: 0.05535 | val_0_auc: 0.8548  |  0:02:57s\n",
      "epoch 100| loss: 0.0594  | val_0_auc: 0.86928 |  0:02:59s\n",
      "epoch 101| loss: 0.05452 | val_0_auc: 0.86134 |  0:03:01s\n",
      "epoch 102| loss: 0.0549  | val_0_auc: 0.86565 |  0:03:03s\n",
      "\n",
      "Early stopping occurred at epoch 102 with best_epoch = 72 and best_val_0_auc = 0.89093\n",
      "Best weights from best epoch are automatically used!\n"
     ]
    }
   ],
   "source": [
    "# model4\n",
    "clf4 = TabNetClassifier(seed=0)\n",
    "clf4.fit(\n",
    "    X_train4, y_train4,\n",
    "    eval_set=[(X_test4, y_test4)],\n",
    "    patience=30,max_epochs=500,\n",
    "    eval_metric=['auc']\n",
    ")"
   ]
  },
  {
   "cell_type": "code",
   "execution_count": 222,
   "id": "efd5d9c0",
   "metadata": {},
   "outputs": [
    {
     "name": "stdout",
     "output_type": "stream",
     "text": [
      "Device used : cpu\n",
      "epoch 0  | loss: 0.84441 | val_0_auc: 0.40284 |  0:00:02s\n",
      "epoch 1  | loss: 0.64969 | val_0_auc: 0.38032 |  0:00:04s\n",
      "epoch 2  | loss: 0.59879 | val_0_auc: 0.32805 |  0:00:06s\n",
      "epoch 3  | loss: 0.54072 | val_0_auc: 0.48081 |  0:00:08s\n",
      "epoch 4  | loss: 0.46718 | val_0_auc: 0.46775 |  0:00:10s\n",
      "epoch 5  | loss: 0.41307 | val_0_auc: 0.48896 |  0:00:12s\n",
      "epoch 6  | loss: 0.35606 | val_0_auc: 0.52397 |  0:00:14s\n",
      "epoch 7  | loss: 0.3241  | val_0_auc: 0.58644 |  0:00:16s\n",
      "epoch 8  | loss: 0.29134 | val_0_auc: 0.63834 |  0:00:18s\n",
      "epoch 9  | loss: 0.26053 | val_0_auc: 0.65544 |  0:00:20s\n",
      "epoch 10 | loss: 0.24545 | val_0_auc: 0.675   |  0:00:21s\n",
      "epoch 11 | loss: 0.23849 | val_0_auc: 0.6714  |  0:00:22s\n",
      "epoch 12 | loss: 0.22953 | val_0_auc: 0.69614 |  0:00:23s\n",
      "epoch 13 | loss: 0.22087 | val_0_auc: 0.699   |  0:00:24s\n",
      "epoch 14 | loss: 0.20683 | val_0_auc: 0.689   |  0:00:26s\n",
      "epoch 15 | loss: 0.20266 | val_0_auc: 0.68166 |  0:00:27s\n",
      "epoch 16 | loss: 0.18664 | val_0_auc: 0.63428 |  0:00:28s\n",
      "epoch 17 | loss: 0.18903 | val_0_auc: 0.65891 |  0:00:29s\n",
      "epoch 18 | loss: 0.17823 | val_0_auc: 0.72373 |  0:00:31s\n",
      "epoch 19 | loss: 0.18408 | val_0_auc: 0.72899 |  0:00:32s\n",
      "epoch 20 | loss: 0.18019 | val_0_auc: 0.69539 |  0:00:33s\n",
      "epoch 21 | loss: 0.18339 | val_0_auc: 0.7272  |  0:00:35s\n",
      "epoch 22 | loss: 0.18996 | val_0_auc: 0.77057 |  0:00:36s\n",
      "epoch 23 | loss: 0.17872 | val_0_auc: 0.78134 |  0:00:38s\n",
      "epoch 24 | loss: 0.18612 | val_0_auc: 0.77355 |  0:00:39s\n",
      "epoch 25 | loss: 0.18144 | val_0_auc: 0.77476 |  0:00:40s\n",
      "epoch 26 | loss: 0.19304 | val_0_auc: 0.77129 |  0:00:42s\n",
      "epoch 27 | loss: 0.17245 | val_0_auc: 0.8066  |  0:00:43s\n",
      "epoch 28 | loss: 0.1628  | val_0_auc: 0.82483 |  0:00:44s\n",
      "epoch 29 | loss: 0.15983 | val_0_auc: 0.80897 |  0:00:46s\n",
      "epoch 30 | loss: 0.15228 | val_0_auc: 0.84223 |  0:00:47s\n",
      "epoch 31 | loss: 0.14621 | val_0_auc: 0.85616 |  0:00:49s\n",
      "epoch 32 | loss: 0.14001 | val_0_auc: 0.857   |  0:00:50s\n",
      "epoch 33 | loss: 0.13976 | val_0_auc: 0.86664 |  0:00:52s\n",
      "epoch 34 | loss: 0.13148 | val_0_auc: 0.87981 |  0:00:53s\n",
      "epoch 35 | loss: 0.13432 | val_0_auc: 0.85577 |  0:00:55s\n",
      "epoch 36 | loss: 0.12193 | val_0_auc: 0.85886 |  0:00:56s\n",
      "epoch 37 | loss: 0.12504 | val_0_auc: 0.88272 |  0:00:58s\n",
      "epoch 38 | loss: 0.12509 | val_0_auc: 0.89221 |  0:00:59s\n",
      "epoch 39 | loss: 0.11881 | val_0_auc: 0.88465 |  0:01:00s\n",
      "epoch 40 | loss: 0.11709 | val_0_auc: 0.89119 |  0:01:01s\n",
      "epoch 41 | loss: 0.11758 | val_0_auc: 0.89227 |  0:01:02s\n",
      "epoch 42 | loss: 0.12128 | val_0_auc: 0.893   |  0:01:03s\n",
      "epoch 43 | loss: 0.12786 | val_0_auc: 0.87436 |  0:01:04s\n",
      "epoch 44 | loss: 0.11635 | val_0_auc: 0.89588 |  0:01:05s\n",
      "epoch 45 | loss: 0.11423 | val_0_auc: 0.90568 |  0:01:08s\n",
      "epoch 46 | loss: 0.1112  | val_0_auc: 0.90026 |  0:01:10s\n",
      "epoch 47 | loss: 0.11643 | val_0_auc: 0.89672 |  0:01:12s\n",
      "epoch 48 | loss: 0.11408 | val_0_auc: 0.91627 |  0:01:13s\n",
      "epoch 49 | loss: 0.10869 | val_0_auc: 0.92618 |  0:01:15s\n",
      "epoch 50 | loss: 0.11398 | val_0_auc: 0.91675 |  0:01:17s\n",
      "epoch 51 | loss: 0.11152 | val_0_auc: 0.92454 |  0:01:18s\n",
      "epoch 52 | loss: 0.10718 | val_0_auc: 0.9205  |  0:01:20s\n",
      "epoch 53 | loss: 0.09982 | val_0_auc: 0.916   |  0:01:21s\n",
      "epoch 54 | loss: 0.09698 | val_0_auc: 0.90747 |  0:01:23s\n",
      "epoch 55 | loss: 0.0955  | val_0_auc: 0.91858 |  0:01:24s\n",
      "epoch 56 | loss: 0.09841 | val_0_auc: 0.92274 |  0:01:25s\n",
      "epoch 57 | loss: 0.09347 | val_0_auc: 0.91871 |  0:01:27s\n",
      "epoch 58 | loss: 0.09524 | val_0_auc: 0.91803 |  0:01:28s\n",
      "epoch 59 | loss: 0.10672 | val_0_auc: 0.91456 |  0:01:29s\n",
      "epoch 60 | loss: 0.10267 | val_0_auc: 0.89851 |  0:01:31s\n",
      "epoch 61 | loss: 0.10196 | val_0_auc: 0.9103  |  0:01:32s\n",
      "epoch 62 | loss: 0.09471 | val_0_auc: 0.92238 |  0:01:33s\n",
      "epoch 63 | loss: 0.09033 | val_0_auc: 0.92045 |  0:01:34s\n",
      "epoch 64 | loss: 0.09289 | val_0_auc: 0.91607 |  0:01:35s\n",
      "epoch 65 | loss: 0.09076 | val_0_auc: 0.91927 |  0:01:36s\n",
      "epoch 66 | loss: 0.08722 | val_0_auc: 0.91831 |  0:01:38s\n",
      "epoch 67 | loss: 0.08127 | val_0_auc: 0.93662 |  0:01:39s\n",
      "epoch 68 | loss: 0.08629 | val_0_auc: 0.92512 |  0:01:40s\n",
      "epoch 69 | loss: 0.07848 | val_0_auc: 0.93062 |  0:01:41s\n",
      "epoch 70 | loss: 0.07944 | val_0_auc: 0.92992 |  0:01:43s\n",
      "epoch 71 | loss: 0.08373 | val_0_auc: 0.9325  |  0:01:44s\n",
      "epoch 72 | loss: 0.09443 | val_0_auc: 0.91954 |  0:01:46s\n",
      "epoch 73 | loss: 0.09665 | val_0_auc: 0.91536 |  0:01:47s\n",
      "epoch 74 | loss: 0.0955  | val_0_auc: 0.92026 |  0:01:49s\n",
      "epoch 75 | loss: 0.0866  | val_0_auc: 0.92346 |  0:01:51s\n",
      "epoch 76 | loss: 0.07669 | val_0_auc: 0.92159 |  0:01:52s\n",
      "epoch 77 | loss: 0.07628 | val_0_auc: 0.91634 |  0:01:54s\n",
      "epoch 78 | loss: 0.07477 | val_0_auc: 0.92152 |  0:01:55s\n",
      "epoch 79 | loss: 0.0674  | val_0_auc: 0.91771 |  0:01:56s\n",
      "epoch 80 | loss: 0.06695 | val_0_auc: 0.91902 |  0:01:57s\n",
      "epoch 81 | loss: 0.07192 | val_0_auc: 0.9149  |  0:01:59s\n",
      "epoch 82 | loss: 0.06842 | val_0_auc: 0.92156 |  0:02:00s\n",
      "epoch 83 | loss: 0.06881 | val_0_auc: 0.9313  |  0:02:01s\n",
      "epoch 84 | loss: 0.06637 | val_0_auc: 0.91579 |  0:02:03s\n",
      "epoch 85 | loss: 0.06949 | val_0_auc: 0.91484 |  0:02:04s\n",
      "epoch 86 | loss: 0.07306 | val_0_auc: 0.91035 |  0:02:06s\n",
      "epoch 87 | loss: 0.06328 | val_0_auc: 0.91945 |  0:02:07s\n",
      "epoch 88 | loss: 0.07569 | val_0_auc: 0.91286 |  0:02:09s\n",
      "epoch 89 | loss: 0.07166 | val_0_auc: 0.91004 |  0:02:11s\n",
      "epoch 90 | loss: 0.06754 | val_0_auc: 0.91727 |  0:02:13s\n",
      "epoch 91 | loss: 0.07199 | val_0_auc: 0.91112 |  0:02:14s\n",
      "epoch 92 | loss: 0.07446 | val_0_auc: 0.91461 |  0:02:16s\n",
      "epoch 93 | loss: 0.07353 | val_0_auc: 0.90932 |  0:02:17s\n",
      "epoch 94 | loss: 0.08055 | val_0_auc: 0.91548 |  0:02:18s\n",
      "epoch 95 | loss: 0.0723  | val_0_auc: 0.91062 |  0:02:19s\n",
      "epoch 96 | loss: 0.06856 | val_0_auc: 0.92899 |  0:02:21s\n",
      "epoch 97 | loss: 0.06154 | val_0_auc: 0.92671 |  0:02:22s\n",
      "\n",
      "Early stopping occurred at epoch 97 with best_epoch = 67 and best_val_0_auc = 0.93662\n",
      "Best weights from best epoch are automatically used!\n"
     ]
    }
   ],
   "source": [
    "# model5\n",
    "clf5 = TabNetClassifier(seed=0)\n",
    "clf5.fit(\n",
    "    X_train5, y_train5,\n",
    "    eval_set=[(X_test5, y_test5)],\n",
    "    patience=30,max_epochs=500,\n",
    "    eval_metric=['auc']\n",
    ")"
   ]
  },
  {
   "cell_type": "code",
   "execution_count": 223,
   "id": "a23a2aea",
   "metadata": {},
   "outputs": [
    {
     "name": "stdout",
     "output_type": "stream",
     "text": [
      "Device used : cpu\n",
      "epoch 0  | loss: 0.82432 | val_0_auc: 0.58022 |  0:00:01s\n",
      "epoch 1  | loss: 0.62739 | val_0_auc: 0.51999 |  0:00:03s\n",
      "epoch 2  | loss: 0.58068 | val_0_auc: 0.58635 |  0:00:04s\n",
      "epoch 3  | loss: 0.52757 | val_0_auc: 0.58251 |  0:00:06s\n",
      "epoch 4  | loss: 0.46328 | val_0_auc: 0.51803 |  0:00:08s\n",
      "epoch 5  | loss: 0.39904 | val_0_auc: 0.50532 |  0:00:09s\n",
      "epoch 6  | loss: 0.35405 | val_0_auc: 0.51855 |  0:00:10s\n",
      "epoch 7  | loss: 0.30944 | val_0_auc: 0.61903 |  0:00:12s\n",
      "epoch 8  | loss: 0.27765 | val_0_auc: 0.60863 |  0:00:13s\n",
      "epoch 9  | loss: 0.25758 | val_0_auc: 0.51575 |  0:00:14s\n",
      "epoch 10 | loss: 0.2393  | val_0_auc: 0.5342  |  0:00:15s\n",
      "epoch 11 | loss: 0.23795 | val_0_auc: 0.60672 |  0:00:17s\n",
      "epoch 12 | loss: 0.23018 | val_0_auc: 0.67035 |  0:00:18s\n",
      "epoch 13 | loss: 0.21505 | val_0_auc: 0.66763 |  0:00:20s\n",
      "epoch 14 | loss: 0.21861 | val_0_auc: 0.59795 |  0:00:21s\n",
      "epoch 15 | loss: 0.2012  | val_0_auc: 0.68067 |  0:00:22s\n",
      "epoch 16 | loss: 0.19761 | val_0_auc: 0.6974  |  0:00:24s\n",
      "epoch 17 | loss: 0.18675 | val_0_auc: 0.69111 |  0:00:25s\n",
      "epoch 18 | loss: 0.17795 | val_0_auc: 0.68833 |  0:00:26s\n",
      "epoch 19 | loss: 0.17247 | val_0_auc: 0.69426 |  0:00:28s\n",
      "epoch 20 | loss: 0.16188 | val_0_auc: 0.72398 |  0:00:29s\n",
      "epoch 21 | loss: 0.16581 | val_0_auc: 0.76404 |  0:00:30s\n",
      "epoch 22 | loss: 0.16252 | val_0_auc: 0.76721 |  0:00:32s\n",
      "epoch 23 | loss: 0.17015 | val_0_auc: 0.77767 |  0:00:33s\n",
      "epoch 24 | loss: 0.17046 | val_0_auc: 0.75503 |  0:00:34s\n",
      "epoch 25 | loss: 0.15948 | val_0_auc: 0.77853 |  0:00:36s\n",
      "epoch 26 | loss: 0.16245 | val_0_auc: 0.78066 |  0:00:37s\n",
      "epoch 27 | loss: 0.15635 | val_0_auc: 0.80074 |  0:00:38s\n",
      "epoch 28 | loss: 0.15682 | val_0_auc: 0.8164  |  0:00:40s\n",
      "epoch 29 | loss: 0.15212 | val_0_auc: 0.82806 |  0:00:41s\n",
      "epoch 30 | loss: 0.14101 | val_0_auc: 0.83249 |  0:00:42s\n",
      "epoch 31 | loss: 0.14773 | val_0_auc: 0.82166 |  0:00:44s\n",
      "epoch 32 | loss: 0.14872 | val_0_auc: 0.82423 |  0:00:45s\n",
      "epoch 33 | loss: 0.13895 | val_0_auc: 0.84181 |  0:00:46s\n",
      "epoch 34 | loss: 0.149   | val_0_auc: 0.84196 |  0:00:48s\n",
      "epoch 35 | loss: 0.15375 | val_0_auc: 0.84508 |  0:00:49s\n",
      "epoch 36 | loss: 0.16036 | val_0_auc: 0.84217 |  0:00:50s\n",
      "epoch 37 | loss: 0.14448 | val_0_auc: 0.85194 |  0:00:52s\n",
      "epoch 38 | loss: 0.14955 | val_0_auc: 0.84669 |  0:00:53s\n",
      "epoch 39 | loss: 0.15418 | val_0_auc: 0.86007 |  0:00:54s\n",
      "epoch 40 | loss: 0.14483 | val_0_auc: 0.87185 |  0:00:55s\n",
      "epoch 41 | loss: 0.13822 | val_0_auc: 0.88177 |  0:00:57s\n",
      "epoch 42 | loss: 0.13549 | val_0_auc: 0.87762 |  0:00:59s\n",
      "epoch 43 | loss: 0.12583 | val_0_auc: 0.86771 |  0:01:00s\n",
      "epoch 44 | loss: 0.13048 | val_0_auc: 0.8624  |  0:01:01s\n",
      "epoch 45 | loss: 0.12664 | val_0_auc: 0.85622 |  0:01:02s\n",
      "epoch 46 | loss: 0.12788 | val_0_auc: 0.86249 |  0:01:03s\n",
      "epoch 47 | loss: 0.11519 | val_0_auc: 0.86738 |  0:01:04s\n",
      "epoch 48 | loss: 0.10284 | val_0_auc: 0.87658 |  0:01:06s\n",
      "epoch 49 | loss: 0.10407 | val_0_auc: 0.87414 |  0:01:07s\n",
      "epoch 50 | loss: 0.10493 | val_0_auc: 0.88184 |  0:01:08s\n",
      "epoch 51 | loss: 0.11019 | val_0_auc: 0.88    |  0:01:10s\n",
      "epoch 52 | loss: 0.1157  | val_0_auc: 0.87871 |  0:01:11s\n",
      "epoch 53 | loss: 0.11129 | val_0_auc: 0.87701 |  0:01:12s\n",
      "epoch 54 | loss: 0.11342 | val_0_auc: 0.87635 |  0:01:13s\n",
      "epoch 55 | loss: 0.11754 | val_0_auc: 0.87391 |  0:01:14s\n",
      "epoch 56 | loss: 0.12185 | val_0_auc: 0.86912 |  0:01:15s\n",
      "epoch 57 | loss: 0.12551 | val_0_auc: 0.85936 |  0:01:17s\n",
      "epoch 58 | loss: 0.10841 | val_0_auc: 0.85853 |  0:01:18s\n",
      "epoch 59 | loss: 0.09861 | val_0_auc: 0.86178 |  0:01:19s\n",
      "epoch 60 | loss: 0.09715 | val_0_auc: 0.87057 |  0:01:20s\n",
      "epoch 61 | loss: 0.09371 | val_0_auc: 0.88208 |  0:01:22s\n",
      "epoch 62 | loss: 0.08438 | val_0_auc: 0.87144 |  0:01:23s\n",
      "epoch 63 | loss: 0.08335 | val_0_auc: 0.86631 |  0:01:24s\n",
      "epoch 64 | loss: 0.08343 | val_0_auc: 0.86096 |  0:01:25s\n",
      "epoch 65 | loss: 0.08115 | val_0_auc: 0.86541 |  0:01:27s\n",
      "epoch 66 | loss: 0.08391 | val_0_auc: 0.87304 |  0:01:28s\n",
      "epoch 67 | loss: 0.07684 | val_0_auc: 0.88228 |  0:01:29s\n",
      "epoch 68 | loss: 0.08068 | val_0_auc: 0.89042 |  0:01:30s\n",
      "epoch 69 | loss: 0.08263 | val_0_auc: 0.88664 |  0:01:32s\n",
      "epoch 70 | loss: 0.07769 | val_0_auc: 0.87574 |  0:01:33s\n",
      "epoch 71 | loss: 0.08717 | val_0_auc: 0.87246 |  0:01:34s\n",
      "epoch 72 | loss: 0.0838  | val_0_auc: 0.85711 |  0:01:35s\n",
      "epoch 73 | loss: 0.07508 | val_0_auc: 0.87685 |  0:01:37s\n",
      "epoch 74 | loss: 0.08034 | val_0_auc: 0.86048 |  0:01:39s\n",
      "epoch 75 | loss: 0.08393 | val_0_auc: 0.87775 |  0:01:40s\n",
      "epoch 76 | loss: 0.08069 | val_0_auc: 0.86608 |  0:01:42s\n",
      "epoch 77 | loss: 0.09734 | val_0_auc: 0.88194 |  0:01:44s\n",
      "epoch 78 | loss: 0.08785 | val_0_auc: 0.86682 |  0:01:46s\n",
      "epoch 79 | loss: 0.0834  | val_0_auc: 0.85309 |  0:01:47s\n",
      "epoch 80 | loss: 0.0957  | val_0_auc: 0.86852 |  0:01:49s\n",
      "epoch 81 | loss: 0.08796 | val_0_auc: 0.8635  |  0:01:51s\n",
      "epoch 82 | loss: 0.08441 | val_0_auc: 0.85758 |  0:01:52s\n",
      "epoch 83 | loss: 0.09491 | val_0_auc: 0.87801 |  0:01:54s\n",
      "epoch 84 | loss: 0.08309 | val_0_auc: 0.87669 |  0:01:56s\n",
      "epoch 85 | loss: 0.08352 | val_0_auc: 0.87407 |  0:01:57s\n",
      "epoch 86 | loss: 0.07457 | val_0_auc: 0.86316 |  0:01:59s\n",
      "epoch 87 | loss: 0.0737  | val_0_auc: 0.84824 |  0:02:02s\n",
      "epoch 88 | loss: 0.0653  | val_0_auc: 0.84198 |  0:02:04s\n",
      "epoch 89 | loss: 0.06528 | val_0_auc: 0.86673 |  0:02:06s\n",
      "epoch 90 | loss: 0.06897 | val_0_auc: 0.87115 |  0:02:08s\n",
      "epoch 91 | loss: 0.06194 | val_0_auc: 0.86865 |  0:02:10s\n",
      "epoch 92 | loss: 0.07494 | val_0_auc: 0.86177 |  0:02:11s\n",
      "epoch 93 | loss: 0.06684 | val_0_auc: 0.8636  |  0:02:12s\n",
      "epoch 94 | loss: 0.07155 | val_0_auc: 0.87336 |  0:02:13s\n",
      "epoch 95 | loss: 0.08141 | val_0_auc: 0.86692 |  0:02:15s\n",
      "epoch 96 | loss: 0.0731  | val_0_auc: 0.87106 |  0:02:16s\n",
      "epoch 97 | loss: 0.07267 | val_0_auc: 0.86529 |  0:02:18s\n",
      "epoch 98 | loss: 0.07069 | val_0_auc: 0.85195 |  0:02:19s\n",
      "\n",
      "Early stopping occurred at epoch 98 with best_epoch = 68 and best_val_0_auc = 0.89042\n",
      "Best weights from best epoch are automatically used!\n"
     ]
    }
   ],
   "source": [
    "# model6\n",
    "clf6 = TabNetClassifier(seed=0)\n",
    "clf6.fit(\n",
    "    X_train6, y_train6,\n",
    "    eval_set=[(X_test6, y_test6)],\n",
    "    patience=30,max_epochs=500,\n",
    "    eval_metric=['auc']\n",
    ")"
   ]
  },
  {
   "cell_type": "code",
   "execution_count": 224,
   "id": "b8f293a7",
   "metadata": {},
   "outputs": [],
   "source": [
    "test_1 = np.array(test_1)"
   ]
  },
  {
   "cell_type": "code",
   "execution_count": 225,
   "id": "8334799d",
   "metadata": {},
   "outputs": [],
   "source": [
    "predictions1 = clf1.predict_proba(test_1)[:,1]"
   ]
  },
  {
   "cell_type": "code",
   "execution_count": 226,
   "id": "ae0ccbc6",
   "metadata": {},
   "outputs": [],
   "source": [
    "predictions2 = clf2.predict_proba(test_1)[:,1]"
   ]
  },
  {
   "cell_type": "code",
   "execution_count": 227,
   "id": "c938464a",
   "metadata": {},
   "outputs": [],
   "source": [
    "predictions3 = clf3.predict_proba(test_1)[:,1]"
   ]
  },
  {
   "cell_type": "code",
   "execution_count": 228,
   "id": "89af8650",
   "metadata": {},
   "outputs": [],
   "source": [
    "predictions4 = clf4.predict_proba(test_1)[:,1]"
   ]
  },
  {
   "cell_type": "code",
   "execution_count": 229,
   "id": "e25f7000",
   "metadata": {},
   "outputs": [],
   "source": [
    "predictions5 = clf5.predict_proba(test_1)[:,1]"
   ]
  },
  {
   "cell_type": "code",
   "execution_count": 230,
   "id": "80a0a278",
   "metadata": {},
   "outputs": [],
   "source": [
    "predictions6 = clf6.predict_proba(test_1)[:,1]"
   ]
  },
  {
   "cell_type": "code",
   "execution_count": 231,
   "id": "498e989f",
   "metadata": {},
   "outputs": [],
   "source": [
    "preds1 = [ 1 if x > 0.55 else 0 for x in predictions1 ]"
   ]
  },
  {
   "cell_type": "code",
   "execution_count": 232,
   "id": "0f8a9f0a",
   "metadata": {},
   "outputs": [],
   "source": [
    "preds2 = [ 1 if x > 0.523 else 0 for x in predictions2 ]"
   ]
  },
  {
   "cell_type": "code",
   "execution_count": 233,
   "id": "fe30f3de",
   "metadata": {},
   "outputs": [],
   "source": [
    "preds3 = [ 1 if x > 0.508 else 0 for x in predictions3 ]"
   ]
  },
  {
   "cell_type": "code",
   "execution_count": 234,
   "id": "abc7d15d",
   "metadata": {},
   "outputs": [],
   "source": [
    "preds4 = [ 1 if x > 0.57 else 0 for x in predictions4 ]"
   ]
  },
  {
   "cell_type": "code",
   "execution_count": 235,
   "id": "a94be947",
   "metadata": {},
   "outputs": [],
   "source": [
    "preds5 = [ 1 if x > 0.5 else 0 for x in predictions5 ]"
   ]
  },
  {
   "cell_type": "code",
   "execution_count": 236,
   "id": "a9feec77",
   "metadata": {},
   "outputs": [],
   "source": [
    "preds6 = [ 1 if x > 0.55 else 0 for x in predictions6 ]"
   ]
  },
  {
   "cell_type": "code",
   "execution_count": 237,
   "id": "523e3ebb",
   "metadata": {},
   "outputs": [],
   "source": [
    "tab_pred1=pd.DataFrame(preds1, columns= ['col1'])\n",
    "tab_pred2=pd.DataFrame(preds2, columns= ['col2'])\n",
    "tab_pred3=pd.DataFrame(preds3, columns= ['col3'])\n",
    "tab_pred4=pd.DataFrame(preds4, columns= ['col4'])\n",
    "tab_pred5=pd.DataFrame(preds5, columns= ['col5'])\n",
    "tab_pred6=pd.DataFrame(preds6, columns= ['col6'])"
   ]
  },
  {
   "cell_type": "code",
   "execution_count": 238,
   "id": "de323f86",
   "metadata": {},
   "outputs": [
    {
     "data": {
      "text/plain": [
       "0    3239\n",
       "1     171\n",
       "Name: col1, dtype: int64"
      ]
     },
     "execution_count": 238,
     "metadata": {},
     "output_type": "execute_result"
    }
   ],
   "source": [
    "tab_pred1['col1'].value_counts()"
   ]
  },
  {
   "cell_type": "code",
   "execution_count": 239,
   "id": "b35193af",
   "metadata": {},
   "outputs": [
    {
     "data": {
      "text/plain": [
       "0    3221\n",
       "1     189\n",
       "Name: col2, dtype: int64"
      ]
     },
     "execution_count": 239,
     "metadata": {},
     "output_type": "execute_result"
    }
   ],
   "source": [
    "tab_pred2['col2'].value_counts()"
   ]
  },
  {
   "cell_type": "code",
   "execution_count": 240,
   "id": "18f3b85f",
   "metadata": {},
   "outputs": [
    {
     "data": {
      "text/plain": [
       "0    3130\n",
       "1     280\n",
       "Name: col3, dtype: int64"
      ]
     },
     "execution_count": 240,
     "metadata": {},
     "output_type": "execute_result"
    }
   ],
   "source": [
    "tab_pred3['col3'].value_counts()"
   ]
  },
  {
   "cell_type": "code",
   "execution_count": 241,
   "id": "8f0b751e",
   "metadata": {},
   "outputs": [
    {
     "data": {
      "text/plain": [
       "0    3286\n",
       "1     124\n",
       "Name: col4, dtype: int64"
      ]
     },
     "execution_count": 241,
     "metadata": {},
     "output_type": "execute_result"
    }
   ],
   "source": [
    "tab_pred4['col4'].value_counts()"
   ]
  },
  {
   "cell_type": "code",
   "execution_count": 242,
   "id": "f95a6fe7",
   "metadata": {},
   "outputs": [
    {
     "data": {
      "text/plain": [
       "0    3160\n",
       "1     250\n",
       "Name: col5, dtype: int64"
      ]
     },
     "execution_count": 242,
     "metadata": {},
     "output_type": "execute_result"
    }
   ],
   "source": [
    "tab_pred5['col5'].value_counts()"
   ]
  },
  {
   "cell_type": "code",
   "execution_count": 243,
   "id": "2d741c5c",
   "metadata": {},
   "outputs": [
    {
     "data": {
      "text/plain": [
       "0    3244\n",
       "1     166\n",
       "Name: col6, dtype: int64"
      ]
     },
     "execution_count": 243,
     "metadata": {},
     "output_type": "execute_result"
    }
   ],
   "source": [
    "tab_pred6['col6'].value_counts()"
   ]
  },
  {
   "cell_type": "code",
   "execution_count": 244,
   "id": "554aa5db",
   "metadata": {},
   "outputs": [],
   "source": [
    "tab_pred=tab_pred1.join(tab_pred2, how= 'inner')\n",
    "tab_pred=tab_pred.join(tab_pred3, how= 'inner')\n",
    "tab_pred=tab_pred.join(tab_pred4, how= 'inner')\n",
    "tab_pred=tab_pred.join(tab_pred5, how= 'inner')\n",
    "tab_pred=tab_pred.join(tab_pred6, how= 'inner')\n",
    "tab_pred['sum']=(1.1*tab_pred['col1'])+(1.1*tab_pred['col2'])+(0.9*tab_pred['col3'])+(1.1*tab_pred['col4'])+(0.9*tab_pred['col5'])+(0.9*tab_pred['col6'])"
   ]
  },
  {
   "cell_type": "code",
   "execution_count": 245,
   "id": "9f6af05d",
   "metadata": {},
   "outputs": [],
   "source": [
    "tab_pred['1day_yn'] = np.where((tab_pred['sum']>=2), 1,0)"
   ]
  },
  {
   "cell_type": "code",
   "execution_count": 246,
   "id": "b6162841",
   "metadata": {},
   "outputs": [
    {
     "data": {
      "text/plain": [
       "0    3184\n",
       "1     226\n",
       "Name: 1day_yn, dtype: int64"
      ]
     },
     "execution_count": 246,
     "metadata": {},
     "output_type": "execute_result"
    }
   ],
   "source": [
    "tab_pred['1day_yn'].value_counts()"
   ]
  },
  {
   "cell_type": "code",
   "execution_count": 247,
   "id": "81510bd9",
   "metadata": {},
   "outputs": [],
   "source": [
    "sub_2=test_id_1.join(tab_pred, how= 'inner')"
   ]
  },
  {
   "cell_type": "code",
   "execution_count": 248,
   "id": "ac241cc8",
   "metadata": {
    "scrolled": true
   },
   "outputs": [
    {
     "data": {
      "image/png": "[encoded data removed]",
      "text/plain": [
       "<Figure size 576x432 with 1 Axes>"
      ]
     },
     "metadata": {
      "needs_background": "light"
     },
     "output_type": "display_data"
    }
   ],
   "source": [
    "import matplotlib.pyplot as plt\n",
    "import seaborn as sns\n",
    "%matplotlib inline\n",
    "\n",
    "ftr_importance_values = clf1.feature_importances_\n",
    "importance = pd.Series(ftr_importance_values, index=X_resampled1.columns)\n",
    "top20=importance.sort_values(ascending=False)[:20]\n",
    "\n",
    "plt.figure(figsize=(8, 6))\n",
    "sns.barplot(x=top20, y = top20.index)\n",
    "plt.show()"
   ]
  },
  {
   "cell_type": "code",
   "execution_count": 249,
   "id": "81cee233",
   "metadata": {},
   "outputs": [
    {
     "data": {
      "image/png": "[encoded data removed]",
      "text/plain": [
       "<Figure size 576x432 with 1 Axes>"
      ]
     },
     "metadata": {
      "needs_background": "light"
     },
     "output_type": "display_data"
    }
   ],
   "source": [
    "ftr_importance_values = clf2.feature_importances_\n",
    "importance = pd.Series(ftr_importance_values, index=X_resampled2.columns)\n",
    "top20=importance.sort_values(ascending=False)[:20]\n",
    "\n",
    "plt.figure(figsize=(8, 6))\n",
    "sns.barplot(x=top20, y = top20.index)\n",
    "plt.show()"
   ]
  },
  {
   "cell_type": "code",
   "execution_count": 250,
   "id": "d9a0a07f",
   "metadata": {},
   "outputs": [
    {
     "data": {
      "image/png": "[encoded data removed]",
      "text/plain": [
       "<Figure size 576x432 with 1 Axes>"
      ]
     },
     "metadata": {
      "needs_background": "light"
     },
     "output_type": "display_data"
    }
   ],
   "source": [
    "ftr_importance_values = clf3.feature_importances_\n",
    "importance = pd.Series(ftr_importance_values, index=X_resampled3.columns)\n",
    "top20=importance.sort_values(ascending=False)[:20]\n",
    "\n",
    "plt.figure(figsize=(8, 6))\n",
    "sns.barplot(x=top20, y = top20.index)\n",
    "plt.show()"
   ]
  },
  {
   "cell_type": "code",
   "execution_count": 252,
   "id": "68d16439",
   "metadata": {},
   "outputs": [
    {
     "data": {
      "image/png": "[encoded data removed]",
      "text/plain": [
       "<Figure size 576x432 with 1 Axes>"
      ]
     },
     "metadata": {
      "needs_background": "light"
     },
     "output_type": "display_data"
    }
   ],
   "source": [
    "ftr_importance_values = clf4.feature_importances_\n",
    "importance = pd.Series(ftr_importance_values, index=X_resampled4.columns)\n",
    "top20=importance.sort_values(ascending=False)[:20]\n",
    "\n",
    "plt.figure(figsize=(8, 6))\n",
    "sns.barplot(x=top20, y = top20.index)\n",
    "plt.show()"
   ]
  },
  {
   "cell_type": "code",
   "execution_count": 253,
   "id": "d10dd43c",
   "metadata": {},
   "outputs": [
    {
     "data": {
      "image/png": "[encoded data removed]",
      "text/plain": [
       "<Figure size 576x432 with 1 Axes>"
      ]
     },
     "metadata": {
      "needs_background": "light"
     },
     "output_type": "display_data"
    }
   ],
   "source": [
    "ftr_importance_values = clf5.feature_importances_\n",
    "importance = pd.Series(ftr_importance_values, index=X_resampled5.columns)\n",
    "top20=importance.sort_values(ascending=False)[:20]\n",
    "\n",
    "plt.figure(figsize=(8, 6))\n",
    "sns.barplot(x=top20, y = top20.index)\n",
    "plt.show()"
   ]
  },
  {
   "cell_type": "code",
   "execution_count": 254,
   "id": "6210b1c1",
   "metadata": {},
   "outputs": [
    {
     "data": {
      "image/png": "[encoded data removed]",
      "text/plain": [
       "<Figure size 576x432 with 1 Axes>"
      ]
     },
     "metadata": {
      "needs_background": "light"
     },
     "output_type": "display_data"
    }
   ],
   "source": [
    "ftr_importance_values = clf6.feature_importances_\n",
    "importance = pd.Series(ftr_importance_values, index=X_resampled6.columns)\n",
    "top20=importance.sort_values(ascending=False)[:20]\n",
    "\n",
    "plt.figure(figsize=(8, 6))\n",
    "sns.barplot(x=top20, y = top20.index)\n",
    "plt.show()"
   ]
  },
  {
   "cell_type": "code",
   "execution_count": 251,
   "id": "a2ffeeed",
   "metadata": {},
   "outputs": [],
   "source": [
    "sub_2.to_csv('tab_101.csv', index=False, encoding='CP949')"
   ]
  },
  {
   "cell_type": "code",
   "execution_count": null,
   "id": "316a24da",
   "metadata": {},
   "outputs": [],
   "source": []
  },
  {
   "cell_type": "code",
   "execution_count": null,
   "id": "c66079ff",
   "metadata": {},
   "outputs": [],
   "source": []
  }
 ],
 "metadata": {
  "kernelspec": {
   "display_name": "Python 3",
   "language": "python",
   "name": "python3"
  },
  "language_info": {
   "codemirror_mode": {
    "name": "ipython",
    "version": 3
   },
   "file_extension": ".py",
   "mimetype": "text/x-python",
   "name": "python",
   "nbconvert_exporter": "python",
   "pygments_lexer": "ipython3",
   "version": "3.8.8"
  }
 },
 "nbformat": 4,
 "nbformat_minor": 5
}
