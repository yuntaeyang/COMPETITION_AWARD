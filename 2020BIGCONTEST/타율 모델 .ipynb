{
 "cells": [
  {
   "cell_type": "markdown",
   "metadata": {},
   "source": [
    "##  랜덤포레스트 타율 모델"
   ]
  },
  {
   "cell_type": "code",
   "execution_count": 115,
   "metadata": {},
   "outputs": [],
   "source": [
    "from sklearn.ensemble import RandomForestRegressor\n",
    "from sklearn.model_selection import cross_val_score\n",
    "import pandas as pd\n",
    "import numpy as np\n",
    "from sklearn.model_selection import GridSearchCV\n",
    "from sklearn.model_selection import train_test_split\n",
    "from sklearn.metrics import mean_squared_error\n",
    "import math"
   ]
  },
  {
   "cell_type": "code",
   "execution_count": 116,
   "metadata": {},
   "outputs": [
    {
     "data": {
      "text/html": [
       "<div>\n",
       "<style scoped>\n",
       "    .dataframe tbody tr th:only-of-type {\n",
       "        vertical-align: middle;\n",
       "    }\n",
       "\n",
       "    .dataframe tbody tr th {\n",
       "        vertical-align: top;\n",
       "    }\n",
       "\n",
       "    .dataframe thead th {\n",
       "        text-align: right;\n",
       "    }\n",
       "</style>\n",
       "<table border=\"1\" class=\"dataframe\">\n",
       "  <thead>\n",
       "    <tr style=\"text-align: right;\">\n",
       "      <th></th>\n",
       "      <th>HEADER_NO</th>\n",
       "      <th>BAT_PA</th>\n",
       "      <th>BAT_AB</th>\n",
       "      <th>BAT_RBI</th>\n",
       "      <th>BAT_HR</th>\n",
       "      <th>BAT_TOT_H</th>\n",
       "      <th>BAT_H3</th>\n",
       "      <th>BAT_H2</th>\n",
       "      <th>BAT_H1</th>\n",
       "      <th>BAT_SH</th>\n",
       "      <th>...</th>\n",
       "      <th>HS_PSN</th>\n",
       "      <th>HS_CQ</th>\n",
       "      <th>ERA</th>\n",
       "      <th>M_5</th>\n",
       "      <th>M_6</th>\n",
       "      <th>M_7</th>\n",
       "      <th>M_8</th>\n",
       "      <th>M_9</th>\n",
       "      <th>M_10</th>\n",
       "      <th>HIT_TARGET</th>\n",
       "    </tr>\n",
       "  </thead>\n",
       "  <tbody>\n",
       "    <tr>\n",
       "      <th>0</th>\n",
       "      <td>0</td>\n",
       "      <td>23.380000</td>\n",
       "      <td>21.20</td>\n",
       "      <td>4.380000</td>\n",
       "      <td>0.372000</td>\n",
       "      <td>7.300000</td>\n",
       "      <td>0.040000</td>\n",
       "      <td>1.640000</td>\n",
       "      <td>5.620000</td>\n",
       "      <td>0.020000</td>\n",
       "      <td>...</td>\n",
       "      <td>0.016000</td>\n",
       "      <td>1.202581</td>\n",
       "      <td>5.594595</td>\n",
       "      <td>1</td>\n",
       "      <td>0</td>\n",
       "      <td>0</td>\n",
       "      <td>0</td>\n",
       "      <td>0</td>\n",
       "      <td>0</td>\n",
       "      <td>11.0</td>\n",
       "    </tr>\n",
       "    <tr>\n",
       "      <th>1</th>\n",
       "      <td>0</td>\n",
       "      <td>20.000000</td>\n",
       "      <td>18.90</td>\n",
       "      <td>2.500000</td>\n",
       "      <td>0.352000</td>\n",
       "      <td>4.460000</td>\n",
       "      <td>0.040000</td>\n",
       "      <td>1.000000</td>\n",
       "      <td>3.420000</td>\n",
       "      <td>0.220000</td>\n",
       "      <td>...</td>\n",
       "      <td>0.423529</td>\n",
       "      <td>0.906380</td>\n",
       "      <td>2.425150</td>\n",
       "      <td>1</td>\n",
       "      <td>0</td>\n",
       "      <td>0</td>\n",
       "      <td>0</td>\n",
       "      <td>0</td>\n",
       "      <td>0</td>\n",
       "      <td>14.0</td>\n",
       "    </tr>\n",
       "    <tr>\n",
       "      <th>2</th>\n",
       "      <td>0</td>\n",
       "      <td>23.020000</td>\n",
       "      <td>19.44</td>\n",
       "      <td>3.960000</td>\n",
       "      <td>0.164000</td>\n",
       "      <td>5.960000</td>\n",
       "      <td>0.040000</td>\n",
       "      <td>1.760000</td>\n",
       "      <td>4.160000</td>\n",
       "      <td>0.380000</td>\n",
       "      <td>...</td>\n",
       "      <td>0.021053</td>\n",
       "      <td>1.114818</td>\n",
       "      <td>4.816216</td>\n",
       "      <td>1</td>\n",
       "      <td>0</td>\n",
       "      <td>0</td>\n",
       "      <td>0</td>\n",
       "      <td>0</td>\n",
       "      <td>0</td>\n",
       "      <td>10.0</td>\n",
       "    </tr>\n",
       "    <tr>\n",
       "      <th>3</th>\n",
       "      <td>0</td>\n",
       "      <td>23.760000</td>\n",
       "      <td>19.78</td>\n",
       "      <td>2.820000</td>\n",
       "      <td>0.028000</td>\n",
       "      <td>5.620000</td>\n",
       "      <td>0.320000</td>\n",
       "      <td>0.860000</td>\n",
       "      <td>4.440000</td>\n",
       "      <td>0.000000</td>\n",
       "      <td>...</td>\n",
       "      <td>0.000000</td>\n",
       "      <td>0.971408</td>\n",
       "      <td>5.684211</td>\n",
       "      <td>1</td>\n",
       "      <td>0</td>\n",
       "      <td>0</td>\n",
       "      <td>0</td>\n",
       "      <td>0</td>\n",
       "      <td>0</td>\n",
       "      <td>7.0</td>\n",
       "    </tr>\n",
       "    <tr>\n",
       "      <th>4</th>\n",
       "      <td>0</td>\n",
       "      <td>20.880000</td>\n",
       "      <td>19.32</td>\n",
       "      <td>2.040000</td>\n",
       "      <td>0.192000</td>\n",
       "      <td>5.000000</td>\n",
       "      <td>0.400000</td>\n",
       "      <td>1.380000</td>\n",
       "      <td>3.220000</td>\n",
       "      <td>0.040000</td>\n",
       "      <td>...</td>\n",
       "      <td>0.000000</td>\n",
       "      <td>0.944277</td>\n",
       "      <td>3.724138</td>\n",
       "      <td>1</td>\n",
       "      <td>0</td>\n",
       "      <td>0</td>\n",
       "      <td>0</td>\n",
       "      <td>0</td>\n",
       "      <td>0</td>\n",
       "      <td>11.0</td>\n",
       "    </tr>\n",
       "    <tr>\n",
       "      <th>...</th>\n",
       "      <td>...</td>\n",
       "      <td>...</td>\n",
       "      <td>...</td>\n",
       "      <td>...</td>\n",
       "      <td>...</td>\n",
       "      <td>...</td>\n",
       "      <td>...</td>\n",
       "      <td>...</td>\n",
       "      <td>...</td>\n",
       "      <td>...</td>\n",
       "      <td>...</td>\n",
       "      <td>...</td>\n",
       "      <td>...</td>\n",
       "      <td>...</td>\n",
       "      <td>...</td>\n",
       "      <td>...</td>\n",
       "      <td>...</td>\n",
       "      <td>...</td>\n",
       "      <td>...</td>\n",
       "      <td>...</td>\n",
       "      <td>...</td>\n",
       "    </tr>\n",
       "    <tr>\n",
       "      <th>4637</th>\n",
       "      <td>0</td>\n",
       "      <td>20.500000</td>\n",
       "      <td>16.30</td>\n",
       "      <td>2.460000</td>\n",
       "      <td>0.172000</td>\n",
       "      <td>4.240000</td>\n",
       "      <td>0.000000</td>\n",
       "      <td>0.720000</td>\n",
       "      <td>3.520000</td>\n",
       "      <td>0.220000</td>\n",
       "      <td>...</td>\n",
       "      <td>0.000000</td>\n",
       "      <td>0.863194</td>\n",
       "      <td>3.836066</td>\n",
       "      <td>0</td>\n",
       "      <td>0</td>\n",
       "      <td>0</td>\n",
       "      <td>0</td>\n",
       "      <td>1</td>\n",
       "      <td>0</td>\n",
       "      <td>5.0</td>\n",
       "    </tr>\n",
       "    <tr>\n",
       "      <th>4638</th>\n",
       "      <td>1</td>\n",
       "      <td>22.306667</td>\n",
       "      <td>19.02</td>\n",
       "      <td>4.046667</td>\n",
       "      <td>0.450667</td>\n",
       "      <td>5.300000</td>\n",
       "      <td>0.133333</td>\n",
       "      <td>1.020000</td>\n",
       "      <td>4.146667</td>\n",
       "      <td>0.286667</td>\n",
       "      <td>...</td>\n",
       "      <td>0.057143</td>\n",
       "      <td>1.064419</td>\n",
       "      <td>4.187894</td>\n",
       "      <td>0</td>\n",
       "      <td>0</td>\n",
       "      <td>0</td>\n",
       "      <td>0</td>\n",
       "      <td>1</td>\n",
       "      <td>0</td>\n",
       "      <td>12.0</td>\n",
       "    </tr>\n",
       "    <tr>\n",
       "      <th>4639</th>\n",
       "      <td>1</td>\n",
       "      <td>22.193333</td>\n",
       "      <td>20.00</td>\n",
       "      <td>3.686667</td>\n",
       "      <td>0.672000</td>\n",
       "      <td>5.766667</td>\n",
       "      <td>0.000000</td>\n",
       "      <td>0.886667</td>\n",
       "      <td>4.880000</td>\n",
       "      <td>0.040000</td>\n",
       "      <td>...</td>\n",
       "      <td>0.021053</td>\n",
       "      <td>1.008079</td>\n",
       "      <td>6.793548</td>\n",
       "      <td>0</td>\n",
       "      <td>0</td>\n",
       "      <td>0</td>\n",
       "      <td>0</td>\n",
       "      <td>1</td>\n",
       "      <td>0</td>\n",
       "      <td>7.0</td>\n",
       "    </tr>\n",
       "    <tr>\n",
       "      <th>4640</th>\n",
       "      <td>2</td>\n",
       "      <td>22.306667</td>\n",
       "      <td>19.02</td>\n",
       "      <td>4.046667</td>\n",
       "      <td>0.450667</td>\n",
       "      <td>5.300000</td>\n",
       "      <td>0.133333</td>\n",
       "      <td>1.020000</td>\n",
       "      <td>4.146667</td>\n",
       "      <td>0.286667</td>\n",
       "      <td>...</td>\n",
       "      <td>0.057143</td>\n",
       "      <td>1.064419</td>\n",
       "      <td>4.187894</td>\n",
       "      <td>0</td>\n",
       "      <td>0</td>\n",
       "      <td>0</td>\n",
       "      <td>0</td>\n",
       "      <td>1</td>\n",
       "      <td>0</td>\n",
       "      <td>11.0</td>\n",
       "    </tr>\n",
       "    <tr>\n",
       "      <th>4641</th>\n",
       "      <td>2</td>\n",
       "      <td>22.193333</td>\n",
       "      <td>20.00</td>\n",
       "      <td>3.686667</td>\n",
       "      <td>0.672000</td>\n",
       "      <td>5.766667</td>\n",
       "      <td>0.000000</td>\n",
       "      <td>0.886667</td>\n",
       "      <td>4.880000</td>\n",
       "      <td>0.040000</td>\n",
       "      <td>...</td>\n",
       "      <td>0.021053</td>\n",
       "      <td>1.008079</td>\n",
       "      <td>2.945455</td>\n",
       "      <td>0</td>\n",
       "      <td>0</td>\n",
       "      <td>0</td>\n",
       "      <td>0</td>\n",
       "      <td>1</td>\n",
       "      <td>0</td>\n",
       "      <td>10.0</td>\n",
       "    </tr>\n",
       "  </tbody>\n",
       "</table>\n",
       "<p>4382 rows × 110 columns</p>\n",
       "</div>"
      ],
      "text/plain": [
       "      HEADER_NO     BAT_PA  BAT_AB   BAT_RBI    BAT_HR  BAT_TOT_H    BAT_H3  \\\n",
       "0             0  23.380000   21.20  4.380000  0.372000   7.300000  0.040000   \n",
       "1             0  20.000000   18.90  2.500000  0.352000   4.460000  0.040000   \n",
       "2             0  23.020000   19.44  3.960000  0.164000   5.960000  0.040000   \n",
       "3             0  23.760000   19.78  2.820000  0.028000   5.620000  0.320000   \n",
       "4             0  20.880000   19.32  2.040000  0.192000   5.000000  0.400000   \n",
       "...         ...        ...     ...       ...       ...        ...       ...   \n",
       "4637          0  20.500000   16.30  2.460000  0.172000   4.240000  0.000000   \n",
       "4638          1  22.306667   19.02  4.046667  0.450667   5.300000  0.133333   \n",
       "4639          1  22.193333   20.00  3.686667  0.672000   5.766667  0.000000   \n",
       "4640          2  22.306667   19.02  4.046667  0.450667   5.300000  0.133333   \n",
       "4641          2  22.193333   20.00  3.686667  0.672000   5.766667  0.000000   \n",
       "\n",
       "        BAT_H2    BAT_H1    BAT_SH  ...    HS_PSN     HS_CQ       ERA  M_5  \\\n",
       "0     1.640000  5.620000  0.020000  ...  0.016000  1.202581  5.594595    1   \n",
       "1     1.000000  3.420000  0.220000  ...  0.423529  0.906380  2.425150    1   \n",
       "2     1.760000  4.160000  0.380000  ...  0.021053  1.114818  4.816216    1   \n",
       "3     0.860000  4.440000  0.000000  ...  0.000000  0.971408  5.684211    1   \n",
       "4     1.380000  3.220000  0.040000  ...  0.000000  0.944277  3.724138    1   \n",
       "...        ...       ...       ...  ...       ...       ...       ...  ...   \n",
       "4637  0.720000  3.520000  0.220000  ...  0.000000  0.863194  3.836066    0   \n",
       "4638  1.020000  4.146667  0.286667  ...  0.057143  1.064419  4.187894    0   \n",
       "4639  0.886667  4.880000  0.040000  ...  0.021053  1.008079  6.793548    0   \n",
       "4640  1.020000  4.146667  0.286667  ...  0.057143  1.064419  4.187894    0   \n",
       "4641  0.886667  4.880000  0.040000  ...  0.021053  1.008079  2.945455    0   \n",
       "\n",
       "      M_6  M_7  M_8  M_9  M_10  HIT_TARGET  \n",
       "0       0    0    0    0     0        11.0  \n",
       "1       0    0    0    0     0        14.0  \n",
       "2       0    0    0    0     0        10.0  \n",
       "3       0    0    0    0     0         7.0  \n",
       "4       0    0    0    0     0        11.0  \n",
       "...   ...  ...  ...  ...   ...         ...  \n",
       "4637    0    0    0    1     0         5.0  \n",
       "4638    0    0    0    1     0        12.0  \n",
       "4639    0    0    0    1     0         7.0  \n",
       "4640    0    0    0    1     0        11.0  \n",
       "4641    0    0    0    1     0        10.0  \n",
       "\n",
       "[4382 rows x 110 columns]"
      ]
     },
     "execution_count": 116,
     "metadata": {},
     "output_type": "execute_result"
    }
   ],
   "source": [
    "# 랜덤포레스트 안타수 모델\n",
    "RUN_ONE =pd.read_csv(r'C:\\Users\\yuntaeyang\\Desktop\\svt_code\\RUN_END.csv' , encoding = 'ms949' , index_col=0)\n",
    "RUN_ONE1 = RUN_ONE.iloc[0:4642, :]\n",
    "RUN_END = RUN_ONE.iloc[4642:4900, :] # 실제 예측해야하는 데이터\n",
    "HIT_1 = RUN_ONE1.iloc[0:2680, :]\n",
    "HIT_2 = RUN_ONE1.iloc[2680:2940, :]# test셋\n",
    "HIT_3 = RUN_ONE1.iloc[2940:4642, :]\n",
    "\n",
    "df = [HIT_1, HIT_3]\n",
    "HIT_ONE= pd.concat(df)\n",
    "HIT_ONE1 = HIT_ONE.drop(['RUN_TARGET','G_ID','T_ID','VS_T_ID', 'TB_SC', 'AB_TARGET','GDAY_DS'], axis =1)\n",
    "HIT_ONE1"
   ]
  },
  {
   "cell_type": "code",
   "execution_count": 117,
   "metadata": {},
   "outputs": [
    {
     "name": "stdout",
     "output_type": "stream",
     "text": [
      "최적 하이퍼 파라미터: {'max_depth': 5, 'min_samples_leaf': 8, 'min_samples_split': 8, 'n_estimators': 100}\n",
      "최적 예측 정확도: 0.0037\n"
     ]
    }
   ],
   "source": [
    "#GRIDSEARCH를 이용한 최적화\n",
    "X_features = HIT_ONE1.iloc[:, :-1]\n",
    "y_label = HIT_ONE1.iloc[:, -1]\n",
    "X_train, X_test, y_train, y_test=train_test_split(X_features, y_label,\n",
    "                                                  test_size=0.2, random_state=0)\n",
    "\n",
    "\n",
    "params = {\n",
    "    'n_estimators':(100, 200),\n",
    "    'max_depth' : (5, 8),\n",
    "    'min_samples_leaf' : (8, 18),\n",
    "    'min_samples_split' : (8, 16)\n",
    "}\n",
    "rf_hit = RandomForestRegressor(random_state=0, n_jobs=-1)\n",
    "grid_cv = GridSearchCV(rf_hit, param_grid=params, cv=2, n_jobs=-1)\n",
    "grid_cv.fit(X_train, y_train)\n",
    "\n",
    "\n",
    "print('최적 하이퍼 파라미터:', grid_cv.best_params_)\n",
    "print('최적 예측 정확도: {0:.4f}'.format(grid_cv.best_score_))"
   ]
  },
  {
   "cell_type": "code",
   "execution_count": 118,
   "metadata": {},
   "outputs": [
    {
     "data": {
      "text/plain": [
       "RandomForestRegressor(bootstrap=True, ccp_alpha=0.0, criterion='mse',\n",
       "                      max_depth=5, max_features='auto', max_leaf_nodes=None,\n",
       "                      max_samples=None, min_impurity_decrease=0.0,\n",
       "                      min_impurity_split=None, min_samples_leaf=8,\n",
       "                      min_samples_split=8, min_weight_fraction_leaf=0.0,\n",
       "                      n_estimators=100, n_jobs=None, oob_score=False,\n",
       "                      random_state=0, verbose=0, warm_start=False)"
      ]
     },
     "execution_count": 118,
     "metadata": {},
     "output_type": "execute_result"
    }
   ],
   "source": [
    "#안타수모델 학습\n",
    "rf_hit = RandomForestRegressor(random_state=0, max_depth=5, min_samples_leaf=8, min_samples_split=8,n_estimators=100)\n",
    "rf_hit.fit(X_train, y_train)"
   ]
  },
  {
   "cell_type": "code",
   "execution_count": 119,
   "metadata": {},
   "outputs": [
    {
     "name": "stdout",
     "output_type": "stream",
     "text": [
      "RMSE':3.4838054243113468\n"
     ]
    }
   ],
   "source": [
    "# train rmse\n",
    "rf_hit_predict = rf_hit.predict(X_train)\n",
    "print(\"RMSE':{}\".format(math.sqrt(mean_squared_error(rf_hit_predict, y_train))) )"
   ]
  },
  {
   "cell_type": "code",
   "execution_count": 120,
   "metadata": {},
   "outputs": [
    {
     "name": "stdout",
     "output_type": "stream",
     "text": [
      "#### RandomForestRegressor ####\n",
      "5 교차 검증의 평균 RMSE: 3.729\n"
     ]
    }
   ],
   "source": [
    "# varidation rmse\n",
    "def get_model_cv_prediction(model, X_data, y_target):\n",
    "    neg_mse_scores=cross_val_score(model, X_data, y_target, scoring='neg_mean_squared_error', cv=5)\n",
    "    rmse_scores = np.sqrt(-1*neg_mse_scores)\n",
    "    avg_rmse = np.mean(rmse_scores)\n",
    "    print('####',model.__class__.__name__,'####')\n",
    "    print('5 교차 검증의 평균 RMSE: {0:.3f}'.format(avg_rmse))\n",
    "get_model_cv_prediction(rf_hit, X_test, y_test) "
   ]
  },
  {
   "cell_type": "code",
   "execution_count": 121,
   "metadata": {},
   "outputs": [
    {
     "name": "stdout",
     "output_type": "stream",
     "text": [
      "RMSE':3.367726666576336\n"
     ]
    }
   ],
   "source": [
    "# test rmse\n",
    "HIT_T= HIT_2.drop(['RUN_TARGET','G_ID','T_ID','VS_T_ID', 'TB_SC', 'AB_TARGET','GDAY_DS'], axis =1)\n",
    "a = HIT_T.iloc[:, :-1]\n",
    "b = HIT_T.iloc[:, -1]\n",
    "rf_hit_predict = rf_hit.predict(a)\n",
    "print(\"RMSE':{}\".format(math.sqrt(mean_squared_error(rf_hit_predict, b))) )"
   ]
  },
  {
   "cell_type": "code",
   "execution_count": 122,
   "metadata": {},
   "outputs": [
    {
     "data": {
      "image/png": "[encoded data removed]",
      "text/plain": [
       "<Figure size 576x432 with 1 Axes>"
      ]
     },
     "metadata": {
      "needs_background": "light"
     },
     "output_type": "display_data"
    }
   ],
   "source": [
    "import matplotlib.pyplot as plt # 안타수모델 변수 중요도\n",
    "import seaborn as sns\n",
    "%matplotlib inline\n",
    "\n",
    "ftr_importances_values = rf_hit.feature_importances_\n",
    "ftr_importances = pd.Series(ftr_importances_values, index=X_train.columns)\n",
    "ftr_top = ftr_importances.sort_values(ascending=False)[:20]\n",
    "\n",
    "plt.figure(figsize=(8, 6))\n",
    "sns.barplot(x=ftr_top, y=ftr_top.index)\n",
    "plt.show()"
   ]
  },
  {
   "cell_type": "code",
   "execution_count": 123,
   "metadata": {},
   "outputs": [],
   "source": [
    "# 랜덤포레스트 타수모델\n",
    "AB_1 = RUN_ONE1.iloc[0:2680, :]\n",
    "AB_2 = RUN_ONE1.iloc[2680:2940, :]# test셋\n",
    "AB_3 = RUN_ONE1.iloc[2940:4642, :] \n",
    "df = [AB_1, AB_3]\n",
    "AB_ONE= pd.concat(df) \n",
    "AB_ONE1 = AB_ONE.drop(['RUN_TARGET','G_ID','T_ID', 'VS_T_ID', 'TB_SC', 'HIT_TARGET','GDAY_DS'], axis =1)"
   ]
  },
  {
   "cell_type": "code",
   "execution_count": 124,
   "metadata": {},
   "outputs": [
    {
     "name": "stdout",
     "output_type": "stream",
     "text": [
      "최적 하이퍼 파라미터: {'max_depth': 5, 'min_samples_leaf': 18, 'min_samples_split': 8, 'n_estimators': 100}\n",
      "최적 예측 정확도: -0.0028\n"
     ]
    }
   ],
   "source": [
    "#GRIDSEARCH를 이용한 최적화\n",
    "X_features = AB_ONE1.iloc[:, :-1]\n",
    "y_label = AB_ONE1.iloc[:, -1]\n",
    "X_train1, X_test1, y_train1, y_test1=train_test_split(X_features, y_label,\n",
    "                                                  test_size=0.2, random_state=0)\n",
    "\n",
    "\n",
    "params = {\n",
    "    'n_estimators':(100, 200),\n",
    "    'max_depth' : (5, 8),\n",
    "    'min_samples_leaf' : (8, 18),\n",
    "    'min_samples_split' : (8, 16)\n",
    "}\n",
    "rf_ab = RandomForestRegressor(random_state=0, n_jobs=-1)\n",
    "grid_cv = GridSearchCV(rf_ab, param_grid=params, cv=2, n_jobs=-1)\n",
    "grid_cv.fit(X_train1, y_train1)\n",
    "\n",
    "\n",
    "print('최적 하이퍼 파라미터:', grid_cv.best_params_)\n",
    "print('최적 예측 정확도: {0:.4f}'.format(grid_cv.best_score_))"
   ]
  },
  {
   "cell_type": "code",
   "execution_count": 125,
   "metadata": {},
   "outputs": [
    {
     "data": {
      "text/plain": [
       "RandomForestRegressor(bootstrap=True, ccp_alpha=0.0, criterion='mse',\n",
       "                      max_depth=5, max_features='auto', max_leaf_nodes=None,\n",
       "                      max_samples=None, min_impurity_decrease=0.0,\n",
       "                      min_impurity_split=None, min_samples_leaf=18,\n",
       "                      min_samples_split=8, min_weight_fraction_leaf=0.0,\n",
       "                      n_estimators=100, n_jobs=None, oob_score=False,\n",
       "                      random_state=0, verbose=0, warm_start=False)"
      ]
     },
     "execution_count": 125,
     "metadata": {},
     "output_type": "execute_result"
    }
   ],
   "source": [
    "#타수모델 학습\n",
    "X_ftr= AB_ONE1.iloc[:, :-1]\n",
    "y = AB_ONE1.iloc[:, -1]\n",
    "X_train1, X_test1, y_train1, y_test1=train_test_split(X_ftr, y,\n",
    "                                                  test_size=0.2, random_state=0)\n",
    "rf_AB = RandomForestRegressor(random_state=0, max_depth=5, min_samples_leaf=18, min_samples_split=8,n_estimators=100)\n",
    "rf_AB.fit(X_train1, y_train1)"
   ]
  },
  {
   "cell_type": "code",
   "execution_count": 126,
   "metadata": {},
   "outputs": [
    {
     "name": "stdout",
     "output_type": "stream",
     "text": [
      "RMSE':3.958027479277906\n"
     ]
    }
   ],
   "source": [
    "# train rmse\n",
    "rf_AB_predict = rf_AB.predict(X_train1)\n",
    "print(\"RMSE':{}\".format(math.sqrt(mean_squared_error(rf_AB_predict, y_train1))) )"
   ]
  },
  {
   "cell_type": "code",
   "execution_count": 127,
   "metadata": {},
   "outputs": [
    {
     "name": "stdout",
     "output_type": "stream",
     "text": [
      "#### RandomForestRegressor ####\n",
      "5 교차 검증의 평균 RMSE: 4.279\n"
     ]
    }
   ],
   "source": [
    "def get_model_cv_prediction(model, X_data, y_target):\n",
    "    neg_mse_scores=cross_val_score(model, X_data, y_target, scoring='neg_mean_squared_error', cv=5)\n",
    "    rmse_scores = np.sqrt(-1*neg_mse_scores)\n",
    "    avg_rmse = np.mean(rmse_scores)\n",
    "    print('####',model.__class__.__name__,'####')\n",
    "    print('5 교차 검증의 평균 RMSE: {0:.3f}'.format(avg_rmse))\n",
    "get_model_cv_prediction(rf_AB, X_test1, y_test1)"
   ]
  },
  {
   "cell_type": "code",
   "execution_count": 128,
   "metadata": {},
   "outputs": [
    {
     "name": "stdout",
     "output_type": "stream",
     "text": [
      "RMSE':3.9052664744457766\n"
     ]
    }
   ],
   "source": [
    "# test rmse\n",
    "AB_T= AB_2.drop(['RUN_TARGET','G_ID','T_ID','VS_T_ID', 'TB_SC', 'HIT_TARGET','GDAY_DS'], axis =1)\n",
    "a1 = AB_T.iloc[:, :-1]\n",
    "b1 = AB_T.iloc[:, -1]\n",
    "rf_AB_predict = rf_AB.predict(a1)\n",
    "print(\"RMSE':{}\".format(math.sqrt(mean_squared_error(rf_AB_predict, b1))) )"
   ]
  },
  {
   "cell_type": "code",
   "execution_count": 129,
   "metadata": {},
   "outputs": [
    {
     "data": {
      "image/png": "[encoded data removed]",
      "text/plain": [
       "<Figure size 576x432 with 1 Axes>"
      ]
     },
     "metadata": {
      "needs_background": "light"
     },
     "output_type": "display_data"
    }
   ],
   "source": [
    "import matplotlib.pyplot as plt #타수모델 변수 중요도\n",
    "import seaborn as sns\n",
    "%matplotlib inline\n",
    "\n",
    "ftr_importances_values = rf_AB.feature_importances_\n",
    "ftr_importances = pd.Series(ftr_importances_values, index=X_train.columns)\n",
    "ftr_top = ftr_importances.sort_values(ascending=False)[:20]\n",
    "\n",
    "plt.figure(figsize=(8, 6))\n",
    "sns.barplot(x=ftr_top, y=ftr_top.index)\n",
    "plt.show()"
   ]
  },
  {
   "cell_type": "markdown",
   "metadata": {},
   "source": [
    "##  XGBOOST 타율 모델"
   ]
  },
  {
   "cell_type": "code",
   "execution_count": 130,
   "metadata": {},
   "outputs": [],
   "source": [
    "import xgboost as xgb\n",
    "from xgboost import plot_importance\n",
    "import warnings\n",
    "warnings.filterwarnings('ignore')"
   ]
  },
  {
   "cell_type": "code",
   "execution_count": 131,
   "metadata": {},
   "outputs": [
    {
     "name": "stdout",
     "output_type": "stream",
     "text": [
      "|   iter    |  target   | colsam... |    eta    |   gamma   | max_depth | min_ch... | subsample |\n",
      "-------------------------------------------------------------------------------------------------\n",
      "| \u001b[0m 1       \u001b[0m | \u001b[0m-4.311   \u001b[0m | \u001b[0m 0.6293  \u001b[0m | \u001b[0m 0.243   \u001b[0m | \u001b[0m 0.6028  \u001b[0m | \u001b[0m 5.18    \u001b[0m | \u001b[0m 6.695   \u001b[0m | \u001b[0m 0.8938  \u001b[0m |\n",
      "| \u001b[95m 2       \u001b[0m | \u001b[95m-4.234   \u001b[0m | \u001b[95m 0.5626  \u001b[0m | \u001b[95m 0.2784  \u001b[0m | \u001b[95m 0.9637  \u001b[0m | \u001b[95m 4.534   \u001b[0m | \u001b[95m 8.167   \u001b[0m | \u001b[95m 0.8587  \u001b[0m |\n",
      "| \u001b[95m 3       \u001b[0m | \u001b[95m-4.023   \u001b[0m | \u001b[95m 0.6408  \u001b[0m | \u001b[95m 0.2851  \u001b[0m | \u001b[95m 0.07104 \u001b[0m | \u001b[95m 3.349   \u001b[0m | \u001b[95m 5.081   \u001b[0m | \u001b[95m 0.9498  \u001b[0m |\n",
      "| \u001b[95m 4       \u001b[0m | \u001b[95m-3.777   \u001b[0m | \u001b[95m 0.3     \u001b[0m | \u001b[95m 0.1     \u001b[0m | \u001b[95m 1.0     \u001b[0m | \u001b[95m 3.0     \u001b[0m | \u001b[95m 5.0     \u001b[0m | \u001b[95m 0.7     \u001b[0m |\n",
      "| \u001b[95m 5       \u001b[0m | \u001b[95m-3.77    \u001b[0m | \u001b[95m 0.9     \u001b[0m | \u001b[95m 0.1     \u001b[0m | \u001b[95m 1.0     \u001b[0m | \u001b[95m 3.0     \u001b[0m | \u001b[95m 5.0     \u001b[0m | \u001b[95m 1.0     \u001b[0m |\n",
      "| \u001b[0m 6       \u001b[0m | \u001b[0m-3.981   \u001b[0m | \u001b[0m 0.8442  \u001b[0m | \u001b[0m 0.2042  \u001b[0m | \u001b[0m 0.9952  \u001b[0m | \u001b[0m 3.07    \u001b[0m | \u001b[0m 5.322   \u001b[0m | \u001b[0m 0.7434  \u001b[0m |\n",
      "| \u001b[0m 7       \u001b[0m | \u001b[0m-4.156   \u001b[0m | \u001b[0m 0.3     \u001b[0m | \u001b[0m 0.1     \u001b[0m | \u001b[0m 1.0     \u001b[0m | \u001b[0m 7.0     \u001b[0m | \u001b[0m 9.0     \u001b[0m | \u001b[0m 1.0     \u001b[0m |\n",
      "| \u001b[95m 8       \u001b[0m | \u001b[95m-3.762   \u001b[0m | \u001b[95m 0.3     \u001b[0m | \u001b[95m 0.1     \u001b[0m | \u001b[95m 1.0     \u001b[0m | \u001b[95m 3.0     \u001b[0m | \u001b[95m 5.0     \u001b[0m | \u001b[95m 1.0     \u001b[0m |\n",
      "=================================================================================================\n"
     ]
    }
   ],
   "source": [
    "# XGBOOST 안타수 모델 베이지안 최적화\n",
    "import numpy as np\n",
    "import matplotlib\n",
    "from matplotlib import pyplot as plt\n",
    "from sklearn import datasets\n",
    "from sklearn.model_selection import cross_val_score\n",
    "from bayes_opt import BayesianOptimization\n",
    "import xgboost as xgb\n",
    "\n",
    "X = HIT_ONE1.iloc[:, :-1]\n",
    "y = HIT_ONE1.iloc[:, -1]\n",
    "from sklearn.model_selection import train_test_split\n",
    "\n",
    "X_train, X_test, y_train, y_test=train_test_split(X, y,\n",
    "                                                  test_size=0.2, random_state=0)\n",
    "                                                 \n",
    "dtrain = xgb.DMatrix(data=X_train, label=y_train)\n",
    "dtest = xgb.DMatrix(data=X_test, label=y_test)\n",
    "\n",
    "\n",
    "def xgb_evaluate(max_depth, gamma, colsample_bytree,min_child_weight,eta,subsample):\n",
    "    params = {'eval_metric': 'rmse',\n",
    "              'objective':'reg:squarederror',\n",
    "              'min_child_weight': min_child_weight,\n",
    "              'max_depth': int(max_depth),\n",
    "              'subsample': subsample,\n",
    "              'eta': eta,\n",
    "              'gamma': gamma,\n",
    "              'colsample_bytree': colsample_bytree}\n",
    "    # Used around 1000 boosting rounds in the full model\n",
    "    cv_result = xgb.cv(params, dtrain, num_boost_round=100, nfold=3)    \n",
    "    \n",
    "    # Bayesian optimization only knows how to maximize, not minimize, so return the negative RMSE\n",
    "    return -1.0 * cv_result['test-rmse-mean'].iloc[-1]\n",
    "\n",
    "xgb_bo = BayesianOptimization(xgb_evaluate, {'max_depth': (3, 7), \n",
    "                                             'gamma': (0, 1),\n",
    "                                             'colsample_bytree': (0.3, 0.9),\n",
    "                                            'min_child_weight': (5, 9),\n",
    "                                            'eta':(0.1, 0.3),\n",
    "                                            'subsample':(0.7,1.0)},random_state = 0 )\n",
    "# Use the expected improvement acquisition function to handle negative numbers\n",
    "# Optimally needs quite a few more initiation points and number of iterations\n",
    "xgb_bo.maximize(init_points=3, n_iter=5, acq='ei')"
   ]
  },
  {
   "cell_type": "code",
   "execution_count": 132,
   "metadata": {
    "scrolled": false
   },
   "outputs": [
    {
     "name": "stdout",
     "output_type": "stream",
     "text": [
      "[0]\ttrain-rmse:9.12428\teval-rmse:9.05821\n",
      "Multiple eval metrics have been passed: 'eval-rmse' will be used for early stopping.\n",
      "\n",
      "Will train until eval-rmse hasn't improved in 10 rounds.\n",
      "[1]\ttrain-rmse:8.36344\teval-rmse:8.30453\n",
      "[2]\ttrain-rmse:7.69195\teval-rmse:7.63686\n",
      "[3]\ttrain-rmse:7.10026\teval-rmse:7.0501\n",
      "[4]\ttrain-rmse:6.58183\teval-rmse:6.53459\n",
      "[5]\ttrain-rmse:6.12944\teval-rmse:6.0896\n",
      "[6]\ttrain-rmse:5.73552\teval-rmse:5.70443\n",
      "[7]\ttrain-rmse:5.39466\teval-rmse:5.37448\n",
      "[8]\ttrain-rmse:5.10006\teval-rmse:5.08955\n",
      "[9]\ttrain-rmse:4.84847\teval-rmse:4.85002\n",
      "[10]\ttrain-rmse:4.63426\teval-rmse:4.64465\n",
      "[11]\ttrain-rmse:4.45262\teval-rmse:4.47126\n",
      "[12]\ttrain-rmse:4.29872\teval-rmse:4.32645\n",
      "[13]\ttrain-rmse:4.17088\teval-rmse:4.2069\n",
      "[14]\ttrain-rmse:4.06238\teval-rmse:4.10974\n",
      "[15]\ttrain-rmse:3.97275\teval-rmse:4.0293\n",
      "[16]\ttrain-rmse:3.89663\teval-rmse:3.96158\n",
      "[17]\ttrain-rmse:3.83477\teval-rmse:3.90571\n",
      "[18]\ttrain-rmse:3.78332\teval-rmse:3.86167\n",
      "[19]\ttrain-rmse:3.73932\teval-rmse:3.82583\n",
      "[20]\ttrain-rmse:3.70431\teval-rmse:3.79612\n",
      "[21]\ttrain-rmse:3.6742\teval-rmse:3.77157\n",
      "[22]\ttrain-rmse:3.6502\teval-rmse:3.75177\n",
      "[23]\ttrain-rmse:3.62793\teval-rmse:3.73479\n",
      "[24]\ttrain-rmse:3.61001\teval-rmse:3.72073\n",
      "[25]\ttrain-rmse:3.59464\teval-rmse:3.71033\n",
      "[26]\ttrain-rmse:3.57853\teval-rmse:3.70012\n",
      "[27]\ttrain-rmse:3.56811\teval-rmse:3.69514\n",
      "[28]\ttrain-rmse:3.5575\teval-rmse:3.68936\n",
      "[29]\ttrain-rmse:3.54982\teval-rmse:3.68556\n",
      "[30]\ttrain-rmse:3.54285\teval-rmse:3.68179\n",
      "[31]\ttrain-rmse:3.53526\teval-rmse:3.6779\n",
      "[32]\ttrain-rmse:3.52977\teval-rmse:3.67626\n",
      "[33]\ttrain-rmse:3.52523\teval-rmse:3.67622\n",
      "[34]\ttrain-rmse:3.51775\teval-rmse:3.67309\n",
      "[35]\ttrain-rmse:3.51277\teval-rmse:3.67157\n",
      "[36]\ttrain-rmse:3.50838\teval-rmse:3.67264\n",
      "[37]\ttrain-rmse:3.50323\teval-rmse:3.67143\n",
      "[38]\ttrain-rmse:3.49717\teval-rmse:3.66998\n",
      "[39]\ttrain-rmse:3.49224\teval-rmse:3.66825\n",
      "[40]\ttrain-rmse:3.48788\teval-rmse:3.66828\n",
      "[41]\ttrain-rmse:3.48501\teval-rmse:3.66826\n",
      "[42]\ttrain-rmse:3.48147\teval-rmse:3.66761\n",
      "[43]\ttrain-rmse:3.47872\teval-rmse:3.66838\n",
      "[44]\ttrain-rmse:3.47349\teval-rmse:3.66705\n",
      "[45]\ttrain-rmse:3.47052\teval-rmse:3.66609\n",
      "[46]\ttrain-rmse:3.46933\teval-rmse:3.66707\n",
      "[47]\ttrain-rmse:3.46644\teval-rmse:3.66742\n",
      "[48]\ttrain-rmse:3.46331\teval-rmse:3.66823\n",
      "[49]\ttrain-rmse:3.46172\teval-rmse:3.66805\n",
      "[50]\ttrain-rmse:3.45995\teval-rmse:3.66784\n",
      "[51]\ttrain-rmse:3.45522\teval-rmse:3.66864\n",
      "[52]\ttrain-rmse:3.4512\teval-rmse:3.67018\n",
      "[53]\ttrain-rmse:3.4466\teval-rmse:3.66951\n",
      "[54]\ttrain-rmse:3.44189\teval-rmse:3.66881\n",
      "[55]\ttrain-rmse:3.43745\teval-rmse:3.66986\n",
      "Stopping. Best iteration:\n",
      "[45]\ttrain-rmse:3.47052\teval-rmse:3.66609\n",
      "\n"
     ]
    },
    {
     "data": {
      "text/plain": [
       "<matplotlib.axes._subplots.AxesSubplot at 0x18de8316d08>"
      ]
     },
     "execution_count": 132,
     "metadata": {},
     "output_type": "execute_result"
    },
    {
     "data": {
      "image/png": "[encoded data removed]",
      "text/plain": [
       "<Figure size 1728x2448 with 1 Axes>"
      ]
     },
     "metadata": {
      "needs_background": "light"
     },
     "output_type": "display_data"
    }
   ],
   "source": [
    "# XGBOOST 안타수 모델 학습\n",
    "X_features = HIT_ONE1.iloc[:, :-1]\n",
    "y_label = HIT_ONE1.iloc[:, -1]\n",
    "X_train, X_test, y_train, y_test=train_test_split(X_features, y_label,\n",
    "                                                  test_size=0.2, random_state=0)\n",
    "                                                 \n",
    "dtrain = xgb.DMatrix(data=X_train, label=y_train)\n",
    "dtest = xgb.DMatrix(data=X_test, label=y_test)\n",
    "\n",
    "params = {\n",
    "         'max_depth': 3,\n",
    "         'eta': 0.1,\n",
    "         'objective':'reg:squarederror',\n",
    "         'eval_metric': 'rmse',\n",
    "         'early_stopings':10,\n",
    "         'gamma': 1.0,\n",
    "         'colsample_bytree':0.3,\n",
    "         'min_child_weight': 5,\n",
    "         'subsample': 1.0\n",
    "         }\n",
    "num_rounds = 500\n",
    "\n",
    "wlist = [(dtrain, 'train'),(dtest, 'eval')]\n",
    "xgb_hit =xgb.train(params = params, dtrain=dtrain, num_boost_round=num_rounds, early_stopping_rounds=10, evals=wlist)\n",
    "\n",
    "pred = xgb_hit.predict(dtest)\n",
    "\n",
    "\n",
    "\n",
    "from xgboost import plot_importance # 안타수모델의 변수 중요도\n",
    "import matplotlib.pyplot as plt\n",
    "%matplotlib inline\n",
    "\n",
    "fig, ax = plt.subplots(figsize=(24, 34))\n",
    "plot_importance(xgb_hit, ax=ax)"
   ]
  },
  {
   "cell_type": "code",
   "execution_count": 133,
   "metadata": {},
   "outputs": [
    {
     "name": "stdout",
     "output_type": "stream",
     "text": [
      "RMSE':3.3852797140115682\n"
     ]
    }
   ],
   "source": [
    "# test rmse\n",
    "HIT_T= HIT_2.drop(['RUN_TARGET','G_ID','T_ID','VS_T_ID', 'TB_SC', 'AB_TARGET','GDAY_DS'], axis =1)\n",
    "a = HIT_T.iloc[:, :-1]\n",
    "b = HIT_T.iloc[:, -1]\n",
    "atest = xgb.DMatrix(data=a)\n",
    "xgb_hit_predict = xgb_hit.predict(atest)\n",
    "print(\"RMSE':{}\".format(math.sqrt(mean_squared_error(xgb_hit_predict, b))) )"
   ]
  },
  {
   "cell_type": "code",
   "execution_count": 134,
   "metadata": {},
   "outputs": [
    {
     "name": "stdout",
     "output_type": "stream",
     "text": [
      "|   iter    |  target   | colsam... |    eta    |   gamma   | max_depth | min_ch... | subsample |\n",
      "-------------------------------------------------------------------------------------------------\n",
      "| \u001b[0m 1       \u001b[0m | \u001b[0m-4.748   \u001b[0m | \u001b[0m 0.6293  \u001b[0m | \u001b[0m 0.243   \u001b[0m | \u001b[0m 0.6028  \u001b[0m | \u001b[0m 5.18    \u001b[0m | \u001b[0m 6.695   \u001b[0m | \u001b[0m 0.8938  \u001b[0m |\n",
      "| \u001b[95m 2       \u001b[0m | \u001b[95m-4.72    \u001b[0m | \u001b[95m 0.5626  \u001b[0m | \u001b[95m 0.2784  \u001b[0m | \u001b[95m 0.9637  \u001b[0m | \u001b[95m 4.534   \u001b[0m | \u001b[95m 8.167   \u001b[0m | \u001b[95m 0.8587  \u001b[0m |\n",
      "| \u001b[95m 3       \u001b[0m | \u001b[95m-4.509   \u001b[0m | \u001b[95m 0.6408  \u001b[0m | \u001b[95m 0.2851  \u001b[0m | \u001b[95m 0.07104 \u001b[0m | \u001b[95m 3.349   \u001b[0m | \u001b[95m 5.081   \u001b[0m | \u001b[95m 0.9498  \u001b[0m |\n",
      "| \u001b[95m 4       \u001b[0m | \u001b[95m-4.253   \u001b[0m | \u001b[95m 0.3     \u001b[0m | \u001b[95m 0.1     \u001b[0m | \u001b[95m 1.0     \u001b[0m | \u001b[95m 3.0     \u001b[0m | \u001b[95m 5.0     \u001b[0m | \u001b[95m 0.7     \u001b[0m |\n",
      "| \u001b[0m 5       \u001b[0m | \u001b[0m-4.486   \u001b[0m | \u001b[0m 0.845   \u001b[0m | \u001b[0m 0.2523  \u001b[0m | \u001b[0m 0.9849  \u001b[0m | \u001b[0m 3.153   \u001b[0m | \u001b[0m 5.016   \u001b[0m | \u001b[0m 0.8589  \u001b[0m |\n",
      "| \u001b[0m 6       \u001b[0m | \u001b[0m-4.256   \u001b[0m | \u001b[0m 0.3     \u001b[0m | \u001b[0m 0.1     \u001b[0m | \u001b[0m 1.0     \u001b[0m | \u001b[0m 3.0     \u001b[0m | \u001b[0m 6.452   \u001b[0m | \u001b[0m 0.7     \u001b[0m |\n",
      "| \u001b[0m 7       \u001b[0m | \u001b[0m-4.255   \u001b[0m | \u001b[0m 0.3     \u001b[0m | \u001b[0m 0.1     \u001b[0m | \u001b[0m 0.0     \u001b[0m | \u001b[0m 3.0     \u001b[0m | \u001b[0m 9.0     \u001b[0m | \u001b[0m 0.7     \u001b[0m |\n",
      "| \u001b[95m 8       \u001b[0m | \u001b[95m-4.253   \u001b[0m | \u001b[95m 0.3     \u001b[0m | \u001b[95m 0.1     \u001b[0m | \u001b[95m 0.0     \u001b[0m | \u001b[95m 3.0     \u001b[0m | \u001b[95m 7.425   \u001b[0m | \u001b[95m 0.7     \u001b[0m |\n",
      "=================================================================================================\n"
     ]
    }
   ],
   "source": [
    "# XGBOOST 타수 모델 베이지안 최적화\n",
    "X = AB_ONE1.iloc[:, :-1]\n",
    "y = AB_ONE1.iloc[:, -1]\n",
    "from sklearn.model_selection import train_test_split\n",
    "\n",
    "X_train1, X_test1, y_train1, y_test1 = train_test_split(X, y, test_size=0.2, random_state=0)\n",
    "                                                 \n",
    "dtrain = xgb.DMatrix(data=X_train1, label=y_train1)\n",
    "dtest = xgb.DMatrix(data=X_test1, label=y_test1)\n",
    "\n",
    "\n",
    "def xgb_evaluate(max_depth, gamma, colsample_bytree,min_child_weight,eta,subsample):\n",
    "    params = {'eval_metric': 'rmse',\n",
    "              'objective':'reg:squarederror',\n",
    "              'min_child_weight': min_child_weight,\n",
    "              'max_depth': int(max_depth),\n",
    "              'subsample': subsample,\n",
    "              'eta': eta,\n",
    "              'gamma': gamma,\n",
    "              'colsample_bytree': colsample_bytree}\n",
    "    # Used around 1000 boosting rounds in the full model\n",
    "    cv_result = xgb.cv(params, dtrain, num_boost_round=100, nfold=3)    \n",
    "    \n",
    "    # Bayesian optimization only knows how to maximize, not minimize, so return the negative RMSE\n",
    "    return -1.0 * cv_result['test-rmse-mean'].iloc[-1]\n",
    "\n",
    "xgb_bo = BayesianOptimization(xgb_evaluate, {'max_depth': (3, 7), \n",
    "                                             'gamma': (0, 1),\n",
    "                                             'colsample_bytree': (0.3, 0.9),\n",
    "                                            'min_child_weight': (5, 9),\n",
    "                                            'eta':(0.1, 0.3),\n",
    "                                            'subsample':(0.7, 1.0)}, random_state=0)\n",
    "# Use the expected improvement acquisition function to handle negative numbers\n",
    "# Optimally needs quite a few more initiation points and number of iterations\n",
    "xgb_bo.maximize(init_points=3, n_iter=5, acq='ei')"
   ]
  },
  {
   "cell_type": "code",
   "execution_count": 135,
   "metadata": {},
   "outputs": [
    {
     "name": "stdout",
     "output_type": "stream",
     "text": [
      "[0]\ttrain-rmse:31.1116\teval-rmse:31.0063\n",
      "Multiple eval metrics have been passed: 'eval-rmse' will be used for early stopping.\n",
      "\n",
      "Will train until eval-rmse hasn't improved in 10 rounds.\n",
      "[1]\ttrain-rmse:28.0582\teval-rmse:27.9538\n",
      "[2]\ttrain-rmse:25.3148\teval-rmse:25.2116\n",
      "[3]\ttrain-rmse:22.8531\teval-rmse:22.7512\n",
      "[4]\ttrain-rmse:20.6485\teval-rmse:20.548\n",
      "[5]\ttrain-rmse:18.673\teval-rmse:18.5742\n",
      "[6]\ttrain-rmse:16.9068\teval-rmse:16.8099\n",
      "[7]\ttrain-rmse:15.324\teval-rmse:15.2292\n",
      "[8]\ttrain-rmse:13.9069\teval-rmse:13.8133\n",
      "[9]\ttrain-rmse:12.6419\teval-rmse:12.5554\n",
      "[10]\ttrain-rmse:11.523\teval-rmse:11.4458\n",
      "[11]\ttrain-rmse:10.5352\teval-rmse:10.4695\n",
      "[12]\ttrain-rmse:9.64795\teval-rmse:9.59362\n",
      "[13]\ttrain-rmse:8.86516\teval-rmse:8.82423\n",
      "[14]\ttrain-rmse:8.17821\teval-rmse:8.15103\n",
      "[15]\ttrain-rmse:7.57823\teval-rmse:7.55859\n",
      "[16]\ttrain-rmse:7.05146\teval-rmse:7.04224\n",
      "[17]\ttrain-rmse:6.58555\teval-rmse:6.58515\n",
      "[18]\ttrain-rmse:6.18575\teval-rmse:6.19638\n",
      "[19]\ttrain-rmse:5.84428\teval-rmse:5.86568\n",
      "[20]\ttrain-rmse:5.55177\teval-rmse:5.5906\n",
      "[21]\ttrain-rmse:5.30054\teval-rmse:5.35246\n",
      "[22]\ttrain-rmse:5.08642\teval-rmse:5.15109\n",
      "[23]\ttrain-rmse:4.90584\teval-rmse:4.9824\n",
      "[24]\ttrain-rmse:4.75376\teval-rmse:4.84359\n",
      "[25]\ttrain-rmse:4.62571\teval-rmse:4.72824\n",
      "[26]\ttrain-rmse:4.51935\teval-rmse:4.63613\n",
      "[27]\ttrain-rmse:4.42493\teval-rmse:4.55134\n",
      "[28]\ttrain-rmse:4.35026\teval-rmse:4.48762\n",
      "[29]\ttrain-rmse:4.29061\teval-rmse:4.43903\n",
      "[30]\ttrain-rmse:4.23449\teval-rmse:4.39797\n",
      "[31]\ttrain-rmse:4.18942\teval-rmse:4.36408\n",
      "[32]\ttrain-rmse:4.1533\teval-rmse:4.33866\n",
      "[33]\ttrain-rmse:4.1208\teval-rmse:4.31637\n",
      "[34]\ttrain-rmse:4.09351\teval-rmse:4.29393\n",
      "[35]\ttrain-rmse:4.07005\teval-rmse:4.28074\n",
      "[36]\ttrain-rmse:4.05263\teval-rmse:4.2699\n",
      "[37]\ttrain-rmse:4.03604\teval-rmse:4.26366\n",
      "[38]\ttrain-rmse:4.02364\teval-rmse:4.25568\n",
      "[39]\ttrain-rmse:4.01343\teval-rmse:4.25136\n",
      "[40]\ttrain-rmse:4.00259\teval-rmse:4.24837\n",
      "[41]\ttrain-rmse:3.99387\teval-rmse:4.24817\n",
      "[42]\ttrain-rmse:3.98257\teval-rmse:4.252\n",
      "[43]\ttrain-rmse:3.97642\teval-rmse:4.25153\n",
      "[44]\ttrain-rmse:3.96913\teval-rmse:4.25062\n",
      "[45]\ttrain-rmse:3.96239\teval-rmse:4.24889\n",
      "[46]\ttrain-rmse:3.95427\teval-rmse:4.2503\n",
      "[47]\ttrain-rmse:3.94809\teval-rmse:4.24711\n",
      "[48]\ttrain-rmse:3.94331\teval-rmse:4.24462\n",
      "[49]\ttrain-rmse:3.93748\teval-rmse:4.24548\n",
      "[50]\ttrain-rmse:3.93045\teval-rmse:4.24544\n",
      "[51]\ttrain-rmse:3.92474\teval-rmse:4.24762\n",
      "[52]\ttrain-rmse:3.91988\teval-rmse:4.24942\n",
      "[53]\ttrain-rmse:3.91395\teval-rmse:4.24847\n",
      "[54]\ttrain-rmse:3.90902\teval-rmse:4.25017\n",
      "[55]\ttrain-rmse:3.90459\teval-rmse:4.25136\n",
      "[56]\ttrain-rmse:3.90256\teval-rmse:4.25246\n",
      "[57]\ttrain-rmse:3.89549\teval-rmse:4.25373\n",
      "[58]\ttrain-rmse:3.89025\teval-rmse:4.2532\n",
      "Stopping. Best iteration:\n",
      "[48]\ttrain-rmse:3.94331\teval-rmse:4.24462\n",
      "\n"
     ]
    },
    {
     "data": {
      "text/plain": [
       "<matplotlib.axes._subplots.AxesSubplot at 0x18de8326e88>"
      ]
     },
     "execution_count": 135,
     "metadata": {},
     "output_type": "execute_result"
    },
    {
     "data": {
      "image/png": "[encoded data removed]",
      "text/plain": [
       "<Figure size 1728x2448 with 1 Axes>"
      ]
     },
     "metadata": {
      "needs_background": "light"
     },
     "output_type": "display_data"
    }
   ],
   "source": [
    "# XGOOST 타수 모델  학습\n",
    "X_features = AB_ONE1.iloc[:, :-1]\n",
    "y_label = AB_ONE1.iloc[:, -1]\n",
    "X_train1, X_test1, y_train1, y_test1=train_test_split(X_features, y_label,\n",
    "                                                  test_size=0.2, random_state=0)\n",
    "                                                 \n",
    "dtrain = xgb.DMatrix(data=X_train1, label=y_train1)\n",
    "dtest = xgb.DMatrix(data=X_test1, label=y_test1)\n",
    "\n",
    "params = {'max_depth': 3,\n",
    "         'eta': 0.1,\n",
    "         'objective':'reg:squarederror',\n",
    "         'eval_metric': 'rmse',\n",
    "         'early_stopings':10,\n",
    "         'gamma': 0,\n",
    "         'colsample_bytree':0.3,\n",
    "         'min_child_weight': 7.425,\n",
    "         'subsample': 0.7\n",
    "         }\n",
    "num_rounds = 500\n",
    "\n",
    "wlist = [(dtrain, 'train'),(dtest, 'eval')]\n",
    "xgb_ab =xgb.train(params = params, dtrain=dtrain, num_boost_round=num_rounds, early_stopping_rounds=10, evals=wlist)\n",
    "\n",
    "pred = xgb_ab.predict(dtest)\n",
    "\n",
    "\n",
    "\n",
    "from xgboost import plot_importance # 타수 모델 변수 중요도\n",
    "import matplotlib.pyplot as plt\n",
    "%matplotlib inline\n",
    "\n",
    "fig, ax = plt.subplots(figsize=(24, 34))\n",
    "plot_importance(xgb_ab, ax=ax)"
   ]
  },
  {
   "cell_type": "code",
   "execution_count": 136,
   "metadata": {},
   "outputs": [
    {
     "name": "stdout",
     "output_type": "stream",
     "text": [
      "RMSE':3.9262211296478102\n"
     ]
    }
   ],
   "source": [
    "# test rmse\n",
    "AB_T= AB_2.drop(['RUN_TARGET','G_ID','T_ID','VS_T_ID', 'TB_SC', 'HIT_TARGET','GDAY_DS'], axis =1)\n",
    "a1 = AB_T.iloc[:, :-1]\n",
    "b1 = AB_T.iloc[:, -1]\n",
    "a1test = xgb.DMatrix(data=a1)\n",
    "xgb_AB_predict = xgb_ab.predict(a1test)\n",
    "print(\"RMSE':{}\".format(math.sqrt(mean_squared_error(xgb_AB_predict, b1))) )"
   ]
  },
  {
   "cell_type": "markdown",
   "metadata": {},
   "source": [
    "## LIGHTGBM 타율 모델"
   ]
  },
  {
   "cell_type": "code",
   "execution_count": 137,
   "metadata": {},
   "outputs": [],
   "source": [
    "from lightgbm import LGBMRegressor\n",
    "import warnings\n",
    "warnings.filterwarnings('ignore')"
   ]
  },
  {
   "cell_type": "code",
   "execution_count": 138,
   "metadata": {},
   "outputs": [
    {
     "name": "stdout",
     "output_type": "stream",
     "text": [
      "|   iter    |  target   | colsam... | learni... | maxDepth  | min_ch... | num_le... | subsample |\n",
      "-------------------------------------------------------------------------------------------------\n",
      "| \u001b[0m 1       \u001b[0m | \u001b[0m-3.674   \u001b[0m | \u001b[0m 0.7085  \u001b[0m | \u001b[0m 0.2189  \u001b[0m | \u001b[0m 3.001   \u001b[0m | \u001b[0m 6.209   \u001b[0m | \u001b[0m 27.08   \u001b[0m | \u001b[0m 0.8185  \u001b[0m |\n",
      "| \u001b[0m 2       \u001b[0m | \u001b[0m-3.678   \u001b[0m | \u001b[0m 0.5931  \u001b[0m | \u001b[0m 0.1102  \u001b[0m | \u001b[0m 5.777   \u001b[0m | \u001b[0m 7.155   \u001b[0m | \u001b[0m 32.8    \u001b[0m | \u001b[0m 0.937   \u001b[0m |\n",
      "| \u001b[0m 3       \u001b[0m | \u001b[0m-3.676   \u001b[0m | \u001b[0m 0.6022  \u001b[0m | \u001b[0m 0.2647  \u001b[0m | \u001b[0m 3.192   \u001b[0m | \u001b[0m 7.682   \u001b[0m | \u001b[0m 32.76   \u001b[0m | \u001b[0m 0.9117  \u001b[0m |\n",
      "| \u001b[95m 4       \u001b[0m | \u001b[95m-3.671   \u001b[0m | \u001b[95m 0.5702  \u001b[0m | \u001b[95m 0.06745 \u001b[0m | \u001b[95m 8.605   \u001b[0m | \u001b[95m 8.873   \u001b[0m | \u001b[95m 30.58   \u001b[0m | \u001b[95m 0.9385  \u001b[0m |\n",
      "| \u001b[0m 5       \u001b[0m | \u001b[0m-3.681   \u001b[0m | \u001b[0m 0.9382  \u001b[0m | \u001b[0m 0.2694  \u001b[0m | \u001b[0m 3.595   \u001b[0m | \u001b[0m 5.156   \u001b[0m | \u001b[0m 27.57   \u001b[0m | \u001b[0m 0.9756  \u001b[0m |\n",
      "| \u001b[0m 6       \u001b[0m | \u001b[0m-3.675   \u001b[0m | \u001b[0m 0.5377  \u001b[0m | \u001b[0m 0.07369 \u001b[0m | \u001b[0m 3.199   \u001b[0m | \u001b[0m 8.817   \u001b[0m | \u001b[0m 24.31   \u001b[0m | \u001b[0m 0.8489  \u001b[0m |\n",
      "| \u001b[0m 7       \u001b[0m | \u001b[0m-3.678   \u001b[0m | \u001b[0m 0.6826  \u001b[0m | \u001b[0m 0.0725  \u001b[0m | \u001b[0m 9.997   \u001b[0m | \u001b[0m 8.994   \u001b[0m | \u001b[0m 44.82   \u001b[0m | \u001b[0m 0.8341  \u001b[0m |\n",
      "| \u001b[0m 8       \u001b[0m | \u001b[0m-3.674   \u001b[0m | \u001b[0m 0.5     \u001b[0m | \u001b[0m 0.01    \u001b[0m | \u001b[0m 3.0     \u001b[0m | \u001b[0m 9.0     \u001b[0m | \u001b[0m 45.0    \u001b[0m | \u001b[0m 1.0     \u001b[0m |\n",
      "| \u001b[0m 9       \u001b[0m | \u001b[0m-3.677   \u001b[0m | \u001b[0m 0.5238  \u001b[0m | \u001b[0m 0.2814  \u001b[0m | \u001b[0m 9.774   \u001b[0m | \u001b[0m 5.061   \u001b[0m | \u001b[0m 24.12   \u001b[0m | \u001b[0m 0.9144  \u001b[0m |\n",
      "| \u001b[0m 10      \u001b[0m | \u001b[0m-3.673   \u001b[0m | \u001b[0m 0.5123  \u001b[0m | \u001b[0m 0.07615 \u001b[0m | \u001b[0m 3.165   \u001b[0m | \u001b[0m 5.29    \u001b[0m | \u001b[0m 44.98   \u001b[0m | \u001b[0m 0.811   \u001b[0m |\n",
      "=================================================================================================\n"
     ]
    }
   ],
   "source": [
    "# LIGHTGBM 안타수 모델 베이지안 최적화\n",
    "def modelFitter(colsampleByTree, subsample,maxDepth, num_leaves,learning_rate,min_child_weight):\n",
    "    X = HIT_ONE1.iloc[:, :-1]\n",
    "    y = HIT_ONE1.iloc[:, -1]\n",
    "\n",
    "    X_train, X_test, y_train, y_test=train_test_split(X, y,\n",
    "                                                  test_size=0.2, random_state=0)\n",
    "    model = LGBMRegressor(learning_rate=learning_rate, n_estimators=10000, max_depth=maxDepth.astype(\"int32\"), subsample=subsample, colsample_bytree=colsampleByTree,num_leaves=num_leaves.astype(\"int32\"),min_child_weight=min_child_weight)\n",
    "\n",
    "    evalSet  = [(X_test, y_test)]\n",
    "    model.fit(X_train, y_train, eval_metric=\"rmse\", eval_set=evalSet, early_stopping_rounds=50, verbose=False)\n",
    "\n",
    "    bestScore = model.best_score_[list(model.best_score_.keys())[0]]['rmse']\n",
    "\n",
    "    return -bestScore\n",
    "\n",
    "# Bounded region of parameter space\n",
    "pbounds = {'colsampleByTree': (0.5,1.0), 'subsample': (0.8,1.0), 'maxDepth': (3,10), 'num_leaves': (24, 45),'learning_rate':(0.01,0.3),'min_child_weight':(5,9)}\n",
    "\n",
    "optimizer = BayesianOptimization(\n",
    "    f=modelFitter,\n",
    "    pbounds=pbounds,\n",
    "    random_state=1)\n",
    "\n",
    "optimizer.maximize(init_points=5,n_iter=5) "
   ]
  },
  {
   "cell_type": "code",
   "execution_count": 139,
   "metadata": {},
   "outputs": [
    {
     "name": "stdout",
     "output_type": "stream",
     "text": [
      "[1]\tvalid_0's rmse: 3.68002\tvalid_0's l2: 13.5425\n",
      "Training until validation scores don't improve for 100 rounds\n",
      "[2]\tvalid_0's rmse: 3.68132\tvalid_0's l2: 13.5521\n",
      "[3]\tvalid_0's rmse: 3.67951\tvalid_0's l2: 13.5388\n",
      "[4]\tvalid_0's rmse: 3.68029\tvalid_0's l2: 13.5445\n",
      "[5]\tvalid_0's rmse: 3.68322\tvalid_0's l2: 13.5661\n",
      "[6]\tvalid_0's rmse: 3.68212\tvalid_0's l2: 13.558\n",
      "[7]\tvalid_0's rmse: 3.68117\tvalid_0's l2: 13.551\n",
      "[8]\tvalid_0's rmse: 3.67763\tvalid_0's l2: 13.525\n",
      "[9]\tvalid_0's rmse: 3.67902\tvalid_0's l2: 13.5352\n",
      "[10]\tvalid_0's rmse: 3.67955\tvalid_0's l2: 13.5391\n",
      "[11]\tvalid_0's rmse: 3.67806\tvalid_0's l2: 13.5281\n",
      "[12]\tvalid_0's rmse: 3.67935\tvalid_0's l2: 13.5376\n",
      "[13]\tvalid_0's rmse: 3.67973\tvalid_0's l2: 13.5404\n",
      "[14]\tvalid_0's rmse: 3.67972\tvalid_0's l2: 13.5403\n",
      "[15]\tvalid_0's rmse: 3.68021\tvalid_0's l2: 13.5439\n",
      "[16]\tvalid_0's rmse: 3.6799\tvalid_0's l2: 13.5417\n",
      "[17]\tvalid_0's rmse: 3.6801\tvalid_0's l2: 13.5432\n",
      "[18]\tvalid_0's rmse: 3.67771\tvalid_0's l2: 13.5256\n",
      "[19]\tvalid_0's rmse: 3.67876\tvalid_0's l2: 13.5332\n",
      "[20]\tvalid_0's rmse: 3.68078\tvalid_0's l2: 13.5481\n",
      "[21]\tvalid_0's rmse: 3.68023\tvalid_0's l2: 13.5441\n",
      "[22]\tvalid_0's rmse: 3.68171\tvalid_0's l2: 13.555\n",
      "[23]\tvalid_0's rmse: 3.68291\tvalid_0's l2: 13.5638\n",
      "[24]\tvalid_0's rmse: 3.68277\tvalid_0's l2: 13.5628\n",
      "[25]\tvalid_0's rmse: 3.68513\tvalid_0's l2: 13.5802\n",
      "[26]\tvalid_0's rmse: 3.68679\tvalid_0's l2: 13.5925\n",
      "[27]\tvalid_0's rmse: 3.68801\tvalid_0's l2: 13.6014\n",
      "[28]\tvalid_0's rmse: 3.68787\tvalid_0's l2: 13.6004\n",
      "[29]\tvalid_0's rmse: 3.68965\tvalid_0's l2: 13.6135\n",
      "[30]\tvalid_0's rmse: 3.68973\tvalid_0's l2: 13.6141\n",
      "[31]\tvalid_0's rmse: 3.69175\tvalid_0's l2: 13.629\n",
      "[32]\tvalid_0's rmse: 3.69688\tvalid_0's l2: 13.6669\n",
      "[33]\tvalid_0's rmse: 3.69855\tvalid_0's l2: 13.6792\n",
      "[34]\tvalid_0's rmse: 3.70193\tvalid_0's l2: 13.7043\n",
      "[35]\tvalid_0's rmse: 3.70393\tvalid_0's l2: 13.7191\n",
      "[36]\tvalid_0's rmse: 3.70502\tvalid_0's l2: 13.7272\n",
      "[37]\tvalid_0's rmse: 3.7045\tvalid_0's l2: 13.7233\n",
      "[38]\tvalid_0's rmse: 3.70401\tvalid_0's l2: 13.7197\n",
      "[39]\tvalid_0's rmse: 3.70553\tvalid_0's l2: 13.731\n",
      "[40]\tvalid_0's rmse: 3.70574\tvalid_0's l2: 13.7325\n",
      "[41]\tvalid_0's rmse: 3.7065\tvalid_0's l2: 13.7381\n",
      "[42]\tvalid_0's rmse: 3.7103\tvalid_0's l2: 13.7663\n",
      "[43]\tvalid_0's rmse: 3.71471\tvalid_0's l2: 13.7991\n",
      "[44]\tvalid_0's rmse: 3.71779\tvalid_0's l2: 13.8219\n",
      "[45]\tvalid_0's rmse: 3.7209\tvalid_0's l2: 13.8451\n",
      "[46]\tvalid_0's rmse: 3.72529\tvalid_0's l2: 13.8778\n",
      "[47]\tvalid_0's rmse: 3.7268\tvalid_0's l2: 13.889\n",
      "[48]\tvalid_0's rmse: 3.72919\tvalid_0's l2: 13.9068\n",
      "[49]\tvalid_0's rmse: 3.72995\tvalid_0's l2: 13.9125\n",
      "[50]\tvalid_0's rmse: 3.73004\tvalid_0's l2: 13.9132\n",
      "[51]\tvalid_0's rmse: 3.73132\tvalid_0's l2: 13.9228\n",
      "[52]\tvalid_0's rmse: 3.73381\tvalid_0's l2: 13.9413\n",
      "[53]\tvalid_0's rmse: 3.73545\tvalid_0's l2: 13.9536\n",
      "[54]\tvalid_0's rmse: 3.73826\tvalid_0's l2: 13.9746\n",
      "[55]\tvalid_0's rmse: 3.7409\tvalid_0's l2: 13.9944\n",
      "[56]\tvalid_0's rmse: 3.7421\tvalid_0's l2: 14.0033\n",
      "[57]\tvalid_0's rmse: 3.74264\tvalid_0's l2: 14.0073\n",
      "[58]\tvalid_0's rmse: 3.745\tvalid_0's l2: 14.025\n",
      "[59]\tvalid_0's rmse: 3.74675\tvalid_0's l2: 14.0382\n",
      "[60]\tvalid_0's rmse: 3.74824\tvalid_0's l2: 14.0493\n",
      "[61]\tvalid_0's rmse: 3.75081\tvalid_0's l2: 14.0686\n",
      "[62]\tvalid_0's rmse: 3.75112\tvalid_0's l2: 14.0709\n",
      "[63]\tvalid_0's rmse: 3.7525\tvalid_0's l2: 14.0813\n",
      "[64]\tvalid_0's rmse: 3.75641\tvalid_0's l2: 14.1106\n",
      "[65]\tvalid_0's rmse: 3.75728\tvalid_0's l2: 14.1172\n",
      "[66]\tvalid_0's rmse: 3.75739\tvalid_0's l2: 14.118\n",
      "[67]\tvalid_0's rmse: 3.75744\tvalid_0's l2: 14.1183\n",
      "[68]\tvalid_0's rmse: 3.76076\tvalid_0's l2: 14.1433\n",
      "[69]\tvalid_0's rmse: 3.76256\tvalid_0's l2: 14.1568\n",
      "[70]\tvalid_0's rmse: 3.76282\tvalid_0's l2: 14.1588\n",
      "[71]\tvalid_0's rmse: 3.76521\tvalid_0's l2: 14.1768\n",
      "[72]\tvalid_0's rmse: 3.76907\tvalid_0's l2: 14.2059\n",
      "[73]\tvalid_0's rmse: 3.77195\tvalid_0's l2: 14.2276\n",
      "[74]\tvalid_0's rmse: 3.77407\tvalid_0's l2: 14.2436\n",
      "[75]\tvalid_0's rmse: 3.77544\tvalid_0's l2: 14.2539\n",
      "[76]\tvalid_0's rmse: 3.77852\tvalid_0's l2: 14.2772\n",
      "[77]\tvalid_0's rmse: 3.78196\tvalid_0's l2: 14.3032\n",
      "[78]\tvalid_0's rmse: 3.78518\tvalid_0's l2: 14.3276\n",
      "[79]\tvalid_0's rmse: 3.78655\tvalid_0's l2: 14.3379\n",
      "[80]\tvalid_0's rmse: 3.79013\tvalid_0's l2: 14.3651\n",
      "[81]\tvalid_0's rmse: 3.79103\tvalid_0's l2: 14.3719\n",
      "[82]\tvalid_0's rmse: 3.79324\tvalid_0's l2: 14.3886\n",
      "[83]\tvalid_0's rmse: 3.79372\tvalid_0's l2: 14.3923\n",
      "[84]\tvalid_0's rmse: 3.79603\tvalid_0's l2: 14.4098\n",
      "[85]\tvalid_0's rmse: 3.79823\tvalid_0's l2: 14.4266\n",
      "[86]\tvalid_0's rmse: 3.8\tvalid_0's l2: 14.44\n",
      "[87]\tvalid_0's rmse: 3.803\tvalid_0's l2: 14.4628\n",
      "[88]\tvalid_0's rmse: 3.80415\tvalid_0's l2: 14.4715\n",
      "[89]\tvalid_0's rmse: 3.80601\tvalid_0's l2: 14.4857\n",
      "[90]\tvalid_0's rmse: 3.80793\tvalid_0's l2: 14.5003\n",
      "[91]\tvalid_0's rmse: 3.80796\tvalid_0's l2: 14.5006\n",
      "[92]\tvalid_0's rmse: 3.80995\tvalid_0's l2: 14.5157\n",
      "[93]\tvalid_0's rmse: 3.81161\tvalid_0's l2: 14.5284\n",
      "[94]\tvalid_0's rmse: 3.81344\tvalid_0's l2: 14.5423\n",
      "[95]\tvalid_0's rmse: 3.81575\tvalid_0's l2: 14.56\n",
      "[96]\tvalid_0's rmse: 3.81719\tvalid_0's l2: 14.5709\n",
      "[97]\tvalid_0's rmse: 3.82091\tvalid_0's l2: 14.5993\n",
      "[98]\tvalid_0's rmse: 3.82333\tvalid_0's l2: 14.6178\n",
      "[99]\tvalid_0's rmse: 3.82431\tvalid_0's l2: 14.6253\n",
      "[100]\tvalid_0's rmse: 3.82624\tvalid_0's l2: 14.6401\n",
      "[101]\tvalid_0's rmse: 3.82906\tvalid_0's l2: 14.6617\n",
      "[102]\tvalid_0's rmse: 3.83195\tvalid_0's l2: 14.6839\n",
      "[103]\tvalid_0's rmse: 3.8324\tvalid_0's l2: 14.6873\n",
      "[104]\tvalid_0's rmse: 3.83435\tvalid_0's l2: 14.7023\n",
      "[105]\tvalid_0's rmse: 3.83663\tvalid_0's l2: 14.7197\n",
      "[106]\tvalid_0's rmse: 3.83835\tvalid_0's l2: 14.733\n",
      "[107]\tvalid_0's rmse: 3.84021\tvalid_0's l2: 14.7472\n",
      "[108]\tvalid_0's rmse: 3.84306\tvalid_0's l2: 14.7691\n",
      "Early stopping, best iteration is:\n",
      "[8]\tvalid_0's rmse: 3.67763\tvalid_0's l2: 13.525\n"
     ]
    },
    {
     "data": {
      "text/plain": [
       "<matplotlib.axes._subplots.AxesSubplot at 0x18de3c39248>"
      ]
     },
     "execution_count": 139,
     "metadata": {},
     "output_type": "execute_result"
    },
    {
     "data": {
      "image/png": "[encoded data removed]",
      "text/plain": [
       "<Figure size 1008x1728 with 1 Axes>"
      ]
     },
     "metadata": {
      "needs_background": "light"
     },
     "output_type": "display_data"
    }
   ],
   "source": [
    "# LIGHTGBM 안타수 모델 학습\n",
    "h_ftr = HIT_ONE1.iloc[:, :-1]\n",
    "h_target = HIT_ONE1.iloc[:, -1]\n",
    "X_train, X_test, y_train, y_test=train_test_split(h_ftr, h_target,\n",
    "                                                 test_size=0.2, random_state=1)\n",
    "                        \n",
    "lgbm_hit = LGBMRegressor(n_estimators=300, learning_rate=0.06745, num_leaves=31, sumbsample=0.9385, colsample_bytree=0.5702, max_depth=9,\n",
    "                             min_child_weight=8.873)\n",
    "evals = [(X_test, y_test)]\n",
    "lgbm_hit.fit(X_train, y_train, early_stopping_rounds=100, eval_metric='rmse', eval_set=evals, verbose=True)\n",
    "preds = lgbm_hit.predict(X_test)\n",
    "\n",
    "from lightgbm import plot_importance # 안타수모델의 변수 중요도\n",
    "import matplotlib.pyplot as plt\n",
    "%matplotlib inline\n",
    "\n",
    "fig, ax = plt.subplots(figsize=(14, 24))\n",
    "plot_importance(lgbm_hit, ax=ax)"
   ]
  },
  {
   "cell_type": "code",
   "execution_count": 140,
   "metadata": {},
   "outputs": [
    {
     "name": "stdout",
     "output_type": "stream",
     "text": [
      "RMSE':3.5099800986413277\n"
     ]
    }
   ],
   "source": [
    "# train rmse\n",
    "lgbm_hit_predict = lgbm_hit.predict(X_train)\n",
    "print(\"RMSE':{}\".format(math.sqrt(mean_squared_error(lgbm_hit_predict, y_train))) )"
   ]
  },
  {
   "cell_type": "code",
   "execution_count": 141,
   "metadata": {},
   "outputs": [
    {
     "name": "stdout",
     "output_type": "stream",
     "text": [
      "RMSE':3.3946132798079565\n"
     ]
    }
   ],
   "source": [
    "# test rmse\n",
    "HIT_T= HIT_2.drop(['RUN_TARGET','G_ID','T_ID','VS_T_ID', 'TB_SC', 'AB_TARGET','GDAY_DS'], axis =1)\n",
    "a = HIT_T.iloc[:, :-1]\n",
    "b = HIT_T.iloc[:, -1]\n",
    "lgbm_hit_predict = lgbm_hit.predict(a)\n",
    "print(\"RMSE':{}\".format(math.sqrt(mean_squared_error(lgbm_hit_predict, b))) )"
   ]
  },
  {
   "cell_type": "code",
   "execution_count": 142,
   "metadata": {},
   "outputs": [
    {
     "name": "stdout",
     "output_type": "stream",
     "text": [
      "|   iter    |  target   | colsam... | learni... | maxDepth  | min_ch... | num_le... | subsample |\n",
      "-------------------------------------------------------------------------------------------------\n",
      "| \u001b[0m 1       \u001b[0m | \u001b[0m-4.192   \u001b[0m | \u001b[0m 0.7085  \u001b[0m | \u001b[0m 0.2189  \u001b[0m | \u001b[0m 3.001   \u001b[0m | \u001b[0m 6.209   \u001b[0m | \u001b[0m 27.08   \u001b[0m | \u001b[0m 0.8185  \u001b[0m |\n",
      "| \u001b[0m 2       \u001b[0m | \u001b[0m-4.201   \u001b[0m | \u001b[0m 0.5931  \u001b[0m | \u001b[0m 0.1102  \u001b[0m | \u001b[0m 5.777   \u001b[0m | \u001b[0m 7.155   \u001b[0m | \u001b[0m 32.8    \u001b[0m | \u001b[0m 0.937   \u001b[0m |\n",
      "| \u001b[0m 3       \u001b[0m | \u001b[0m-4.203   \u001b[0m | \u001b[0m 0.6022  \u001b[0m | \u001b[0m 0.2647  \u001b[0m | \u001b[0m 3.192   \u001b[0m | \u001b[0m 7.682   \u001b[0m | \u001b[0m 32.76   \u001b[0m | \u001b[0m 0.9117  \u001b[0m |\n",
      "| \u001b[0m 4       \u001b[0m | \u001b[0m-4.204   \u001b[0m | \u001b[0m 0.5702  \u001b[0m | \u001b[0m 0.06745 \u001b[0m | \u001b[0m 8.605   \u001b[0m | \u001b[0m 8.873   \u001b[0m | \u001b[0m 30.58   \u001b[0m | \u001b[0m 0.9385  \u001b[0m |\n",
      "| \u001b[0m 5       \u001b[0m | \u001b[0m-4.2     \u001b[0m | \u001b[0m 0.9382  \u001b[0m | \u001b[0m 0.2694  \u001b[0m | \u001b[0m 3.595   \u001b[0m | \u001b[0m 5.156   \u001b[0m | \u001b[0m 27.57   \u001b[0m | \u001b[0m 0.9756  \u001b[0m |\n",
      "| \u001b[0m 6       \u001b[0m | \u001b[0m-4.222   \u001b[0m | \u001b[0m 0.7915  \u001b[0m | \u001b[0m 0.2058  \u001b[0m | \u001b[0m 9.692   \u001b[0m | \u001b[0m 5.734   \u001b[0m | \u001b[0m 44.99   \u001b[0m | \u001b[0m 0.8884  \u001b[0m |\n",
      "| \u001b[0m 7       \u001b[0m | \u001b[0m-4.206   \u001b[0m | \u001b[0m 0.5097  \u001b[0m | \u001b[0m 0.08371 \u001b[0m | \u001b[0m 9.208   \u001b[0m | \u001b[0m 5.314   \u001b[0m | \u001b[0m 24.07   \u001b[0m | \u001b[0m 0.8715  \u001b[0m |\n",
      "| \u001b[0m 8       \u001b[0m | \u001b[0m-4.199   \u001b[0m | \u001b[0m 0.5077  \u001b[0m | \u001b[0m 0.05866 \u001b[0m | \u001b[0m 3.118   \u001b[0m | \u001b[0m 8.064   \u001b[0m | \u001b[0m 24.07   \u001b[0m | \u001b[0m 0.9122  \u001b[0m |\n",
      "| \u001b[0m 9       \u001b[0m | \u001b[0m-4.217   \u001b[0m | \u001b[0m 0.5468  \u001b[0m | \u001b[0m 0.2806  \u001b[0m | \u001b[0m 9.805   \u001b[0m | \u001b[0m 5.091   \u001b[0m | \u001b[0m 34.17   \u001b[0m | \u001b[0m 0.8708  \u001b[0m |\n",
      "| \u001b[0m 10      \u001b[0m | \u001b[0m-4.199   \u001b[0m | \u001b[0m 0.5123  \u001b[0m | \u001b[0m 0.07615 \u001b[0m | \u001b[0m 3.165   \u001b[0m | \u001b[0m 5.29    \u001b[0m | \u001b[0m 44.98   \u001b[0m | \u001b[0m 0.811   \u001b[0m |\n",
      "=================================================================================================\n"
     ]
    }
   ],
   "source": [
    "# LIGHTGBM 타수모델 베이지안 최적화 \n",
    "def modelFitter(colsampleByTree, subsample,maxDepth, num_leaves,learning_rate,min_child_weight):\n",
    "    X = AB_ONE1.iloc[:, :-1]\n",
    "    y = AB_ONE1.iloc[:, -1]\n",
    "\n",
    "    X_train1, X_test1, y_train1, y_test1=train_test_split(X, y,\n",
    "                                                  test_size=0.2, random_state=0)\n",
    "    model = LGBMRegressor(learning_rate=learning_rate, n_estimators=10000, max_depth=maxDepth.astype(\"int32\"), subsample=subsample, colsample_bytree=colsampleByTree,num_leaves=num_leaves.astype(\"int32\"),min_child_weight=min_child_weight)\n",
    "\n",
    "    evalSet  = [(X_test1, y_test1)]\n",
    "    model.fit(X_train1, y_train1, eval_metric=\"rmse\", eval_set=evalSet, early_stopping_rounds=50, verbose=False)\n",
    "\n",
    "    bestScore = model.best_score_[list(model.best_score_.keys())[0]]['rmse']\n",
    "\n",
    "    return -bestScore\n",
    "\n",
    "# Bounded region of parameter space\n",
    "pbounds = {'colsampleByTree': (0.5,1.0), 'subsample': (0.8,1.0), 'maxDepth': (3,10), 'num_leaves': (24, 45),'learning_rate':(0.01,0.3),'min_child_weight':(5,9)}\n",
    "\n",
    "optimizer = BayesianOptimization(\n",
    "    f=modelFitter,\n",
    "    pbounds=pbounds,\n",
    "    random_state=1)\n",
    "\n",
    "optimizer.maximize(init_points=5,n_iter=5)"
   ]
  },
  {
   "cell_type": "code",
   "execution_count": 143,
   "metadata": {
    "scrolled": false
   },
   "outputs": [
    {
     "name": "stdout",
     "output_type": "stream",
     "text": [
      "[1]\tvalid_0's rmse: 4.10287\tvalid_0's l2: 16.8336\n",
      "Training until validation scores don't improve for 100 rounds\n",
      "[2]\tvalid_0's rmse: 4.10271\tvalid_0's l2: 16.8322\n",
      "[3]\tvalid_0's rmse: 4.1053\tvalid_0's l2: 16.8535\n",
      "[4]\tvalid_0's rmse: 4.10747\tvalid_0's l2: 16.8713\n",
      "[5]\tvalid_0's rmse: 4.10997\tvalid_0's l2: 16.8918\n",
      "[6]\tvalid_0's rmse: 4.10707\tvalid_0's l2: 16.868\n",
      "[7]\tvalid_0's rmse: 4.10666\tvalid_0's l2: 16.8646\n",
      "[8]\tvalid_0's rmse: 4.10692\tvalid_0's l2: 16.8668\n",
      "[9]\tvalid_0's rmse: 4.10811\tvalid_0's l2: 16.8766\n",
      "[10]\tvalid_0's rmse: 4.10843\tvalid_0's l2: 16.8792\n",
      "[11]\tvalid_0's rmse: 4.11001\tvalid_0's l2: 16.8922\n",
      "[12]\tvalid_0's rmse: 4.1037\tvalid_0's l2: 16.8403\n",
      "[13]\tvalid_0's rmse: 4.10488\tvalid_0's l2: 16.85\n",
      "[14]\tvalid_0's rmse: 4.10712\tvalid_0's l2: 16.8684\n",
      "[15]\tvalid_0's rmse: 4.10364\tvalid_0's l2: 16.8399\n",
      "[16]\tvalid_0's rmse: 4.10557\tvalid_0's l2: 16.8557\n",
      "[17]\tvalid_0's rmse: 4.11374\tvalid_0's l2: 16.9228\n",
      "[18]\tvalid_0's rmse: 4.1117\tvalid_0's l2: 16.9061\n",
      "[19]\tvalid_0's rmse: 4.11639\tvalid_0's l2: 16.9447\n",
      "[20]\tvalid_0's rmse: 4.11864\tvalid_0's l2: 16.9632\n",
      "[21]\tvalid_0's rmse: 4.11949\tvalid_0's l2: 16.9702\n",
      "[22]\tvalid_0's rmse: 4.10904\tvalid_0's l2: 16.8842\n",
      "[23]\tvalid_0's rmse: 4.1103\tvalid_0's l2: 16.8946\n",
      "[24]\tvalid_0's rmse: 4.11018\tvalid_0's l2: 16.8936\n",
      "[25]\tvalid_0's rmse: 4.10978\tvalid_0's l2: 16.8903\n",
      "[26]\tvalid_0's rmse: 4.11182\tvalid_0's l2: 16.9071\n",
      "[27]\tvalid_0's rmse: 4.10696\tvalid_0's l2: 16.8671\n",
      "[28]\tvalid_0's rmse: 4.11207\tvalid_0's l2: 16.9091\n",
      "[29]\tvalid_0's rmse: 4.11116\tvalid_0's l2: 16.9017\n",
      "[30]\tvalid_0's rmse: 4.11482\tvalid_0's l2: 16.9317\n",
      "[31]\tvalid_0's rmse: 4.11041\tvalid_0's l2: 16.8955\n",
      "[32]\tvalid_0's rmse: 4.11647\tvalid_0's l2: 16.9453\n",
      "[33]\tvalid_0's rmse: 4.11715\tvalid_0's l2: 16.951\n",
      "[34]\tvalid_0's rmse: 4.12129\tvalid_0's l2: 16.985\n",
      "[35]\tvalid_0's rmse: 4.12119\tvalid_0's l2: 16.9842\n",
      "[36]\tvalid_0's rmse: 4.12436\tvalid_0's l2: 17.0103\n",
      "[37]\tvalid_0's rmse: 4.12357\tvalid_0's l2: 17.0039\n",
      "[38]\tvalid_0's rmse: 4.12012\tvalid_0's l2: 16.9754\n",
      "[39]\tvalid_0's rmse: 4.11929\tvalid_0's l2: 16.9685\n",
      "[40]\tvalid_0's rmse: 4.12244\tvalid_0's l2: 16.9945\n",
      "[41]\tvalid_0's rmse: 4.12468\tvalid_0's l2: 17.013\n",
      "[42]\tvalid_0's rmse: 4.12374\tvalid_0's l2: 17.0053\n",
      "[43]\tvalid_0's rmse: 4.12384\tvalid_0's l2: 17.006\n",
      "[44]\tvalid_0's rmse: 4.12798\tvalid_0's l2: 17.0402\n",
      "[45]\tvalid_0's rmse: 4.12689\tvalid_0's l2: 17.0313\n",
      "[46]\tvalid_0's rmse: 4.12058\tvalid_0's l2: 16.9792\n",
      "[47]\tvalid_0's rmse: 4.12359\tvalid_0's l2: 17.004\n",
      "[48]\tvalid_0's rmse: 4.1247\tvalid_0's l2: 17.0132\n",
      "[49]\tvalid_0's rmse: 4.12564\tvalid_0's l2: 17.0209\n",
      "[50]\tvalid_0's rmse: 4.12723\tvalid_0's l2: 17.034\n",
      "[51]\tvalid_0's rmse: 4.12801\tvalid_0's l2: 17.0404\n",
      "[52]\tvalid_0's rmse: 4.13173\tvalid_0's l2: 17.0712\n",
      "[53]\tvalid_0's rmse: 4.13235\tvalid_0's l2: 17.0763\n",
      "[54]\tvalid_0's rmse: 4.13185\tvalid_0's l2: 17.0722\n",
      "[55]\tvalid_0's rmse: 4.13255\tvalid_0's l2: 17.078\n",
      "[56]\tvalid_0's rmse: 4.13332\tvalid_0's l2: 17.0843\n",
      "[57]\tvalid_0's rmse: 4.13326\tvalid_0's l2: 17.0838\n",
      "[58]\tvalid_0's rmse: 4.128\tvalid_0's l2: 17.0404\n",
      "[59]\tvalid_0's rmse: 4.12919\tvalid_0's l2: 17.0502\n",
      "[60]\tvalid_0's rmse: 4.12708\tvalid_0's l2: 17.0328\n",
      "[61]\tvalid_0's rmse: 4.12839\tvalid_0's l2: 17.0436\n",
      "[62]\tvalid_0's rmse: 4.13468\tvalid_0's l2: 17.0956\n",
      "[63]\tvalid_0's rmse: 4.13518\tvalid_0's l2: 17.0997\n",
      "[64]\tvalid_0's rmse: 4.13863\tvalid_0's l2: 17.1283\n",
      "[65]\tvalid_0's rmse: 4.13836\tvalid_0's l2: 17.1261\n",
      "[66]\tvalid_0's rmse: 4.13824\tvalid_0's l2: 17.1251\n",
      "[67]\tvalid_0's rmse: 4.14004\tvalid_0's l2: 17.14\n",
      "[68]\tvalid_0's rmse: 4.14473\tvalid_0's l2: 17.1788\n",
      "[69]\tvalid_0's rmse: 4.14704\tvalid_0's l2: 17.198\n",
      "[70]\tvalid_0's rmse: 4.14997\tvalid_0's l2: 17.2222\n",
      "[71]\tvalid_0's rmse: 4.15487\tvalid_0's l2: 17.2629\n",
      "[72]\tvalid_0's rmse: 4.15786\tvalid_0's l2: 17.2878\n",
      "[73]\tvalid_0's rmse: 4.15666\tvalid_0's l2: 17.2778\n",
      "[74]\tvalid_0's rmse: 4.15559\tvalid_0's l2: 17.2689\n",
      "[75]\tvalid_0's rmse: 4.1564\tvalid_0's l2: 17.2756\n",
      "[76]\tvalid_0's rmse: 4.16039\tvalid_0's l2: 17.3088\n",
      "[77]\tvalid_0's rmse: 4.16258\tvalid_0's l2: 17.327\n",
      "[78]\tvalid_0's rmse: 4.16157\tvalid_0's l2: 17.3186\n",
      "[79]\tvalid_0's rmse: 4.15909\tvalid_0's l2: 17.298\n",
      "[80]\tvalid_0's rmse: 4.162\tvalid_0's l2: 17.3223\n",
      "[81]\tvalid_0's rmse: 4.16491\tvalid_0's l2: 17.3465\n",
      "[82]\tvalid_0's rmse: 4.16705\tvalid_0's l2: 17.3643\n",
      "[83]\tvalid_0's rmse: 4.17081\tvalid_0's l2: 17.3956\n",
      "[84]\tvalid_0's rmse: 4.17044\tvalid_0's l2: 17.3926\n",
      "[85]\tvalid_0's rmse: 4.17034\tvalid_0's l2: 17.3918\n",
      "[86]\tvalid_0's rmse: 4.17198\tvalid_0's l2: 17.4054\n",
      "[87]\tvalid_0's rmse: 4.1717\tvalid_0's l2: 17.4031\n",
      "[88]\tvalid_0's rmse: 4.17127\tvalid_0's l2: 17.3995\n",
      "[89]\tvalid_0's rmse: 4.17183\tvalid_0's l2: 17.4042\n",
      "[90]\tvalid_0's rmse: 4.17299\tvalid_0's l2: 17.4139\n",
      "[91]\tvalid_0's rmse: 4.17327\tvalid_0's l2: 17.4162\n",
      "[92]\tvalid_0's rmse: 4.17362\tvalid_0's l2: 17.4191\n",
      "[93]\tvalid_0's rmse: 4.17566\tvalid_0's l2: 17.4361\n",
      "[94]\tvalid_0's rmse: 4.17952\tvalid_0's l2: 17.4684\n",
      "[95]\tvalid_0's rmse: 4.18262\tvalid_0's l2: 17.4943\n",
      "[96]\tvalid_0's rmse: 4.18221\tvalid_0's l2: 17.4909\n",
      "[97]\tvalid_0's rmse: 4.18296\tvalid_0's l2: 17.4971\n",
      "[98]\tvalid_0's rmse: 4.18456\tvalid_0's l2: 17.5105\n",
      "[99]\tvalid_0's rmse: 4.18462\tvalid_0's l2: 17.511\n",
      "[100]\tvalid_0's rmse: 4.18912\tvalid_0's l2: 17.5487\n",
      "[101]\tvalid_0's rmse: 4.1888\tvalid_0's l2: 17.5461\n",
      "[102]\tvalid_0's rmse: 4.18831\tvalid_0's l2: 17.5419\n",
      "Early stopping, best iteration is:\n",
      "[2]\tvalid_0's rmse: 4.10271\tvalid_0's l2: 16.8322\n"
     ]
    },
    {
     "data": {
      "text/plain": [
       "<matplotlib.axes._subplots.AxesSubplot at 0x18de875bb48>"
      ]
     },
     "execution_count": 143,
     "metadata": {},
     "output_type": "execute_result"
    },
    {
     "data": {
      "image/png": "[encoded data removed]",
      "text/plain": [
       "<Figure size 1008x1152 with 1 Axes>"
      ]
     },
     "metadata": {
      "needs_background": "light"
     },
     "output_type": "display_data"
    }
   ],
   "source": [
    "# LIGHTGBM 타수 모델 학습\n",
    "h_ftr = AB_ONE1.iloc[:, :-1]\n",
    "h_target = AB_ONE1.iloc[:, -1]\n",
    "X_train1, X_test1, y_train1, y_test1=train_test_split(h_ftr, h_target,\n",
    "                                                 test_size=0.2, random_state=1)\n",
    "                        \n",
    "lgbm_ab = LGBMRegressor(n_estimators=300, learning_rate=0.2189, num_leaves=27, sumbsample=0.8185, colsample_bytree=0.7085, max_depth=3,\n",
    "                             min_child_weight=6.209)\n",
    "evals = [(X_test1, y_test1)]\n",
    "lgbm_ab.fit(X_train1, y_train1, early_stopping_rounds=100, eval_metric='rmse', eval_set=evals, verbose=True)\n",
    "preds = lgbm_ab.predict(X_test1)\n",
    "\n",
    "from lightgbm import plot_importance # 타수 모델 변수 중요도\n",
    "import matplotlib.pyplot as plt\n",
    "%matplotlib inline\n",
    "\n",
    "fig, ax = plt.subplots(figsize=(14, 16))\n",
    "plot_importance(lgbm_ab, ax=ax)"
   ]
  },
  {
   "cell_type": "code",
   "execution_count": 144,
   "metadata": {},
   "outputs": [
    {
     "name": "stdout",
     "output_type": "stream",
     "text": [
      "RMSE':4.143957855954779\n"
     ]
    }
   ],
   "source": [
    "# train rmse\n",
    "lgbm_ab_predict = lgbm_ab.predict(X_train1)\n",
    "print(\"RMSE':{}\".format(math.sqrt(mean_squared_error(lgbm_ab_predict, y_train1))) )"
   ]
  },
  {
   "cell_type": "code",
   "execution_count": 145,
   "metadata": {},
   "outputs": [
    {
     "name": "stdout",
     "output_type": "stream",
     "text": [
      "RMSE':3.927037878376611\n"
     ]
    }
   ],
   "source": [
    "# test rmse\n",
    "AB_T= AB_2.drop(['RUN_TARGET','G_ID','T_ID','VS_T_ID', 'TB_SC', 'HIT_TARGET','GDAY_DS'], axis =1)\n",
    "a1 = AB_T.iloc[:, :-1]\n",
    "b1 = AB_T.iloc[:, -1]\n",
    "lgbm_ab_predict = lgbm_ab.predict(a1)\n",
    "print(\"RMSE':{}\".format(math.sqrt(mean_squared_error(lgbm_ab_predict, b1))) ) "
   ]
  },
  {
   "cell_type": "markdown",
   "metadata": {},
   "source": [
    "##  MLP 타율 모델"
   ]
  },
  {
   "cell_type": "code",
   "execution_count": 146,
   "metadata": {},
   "outputs": [],
   "source": [
    "# MLP 안타수 모델\n",
    "h_ftr = HIT_ONE1.iloc[:,:-1]\n",
    "h_target = HIT_ONE1.iloc[:,-1]\n"
   ]
  },
  {
   "cell_type": "code",
   "execution_count": 147,
   "metadata": {},
   "outputs": [],
   "source": [
    "# 데이터 정규화\n",
    "from sklearn.preprocessing import StandardScaler\n",
    "scaler = StandardScaler()\n",
    "scaler.fit(h_ftr)\n",
    "HIT_ONE_scaled = scaler.transform(h_ftr)\n",
    "\n",
    "HIT_scaled = pd.DataFrame(data=HIT_ONE_scaled)"
   ]
  },
  {
   "cell_type": "code",
   "execution_count": 148,
   "metadata": {},
   "outputs": [],
   "source": [
    "# MLP 모델 생성 -> 배치정규화 드롭아웃 적용\n",
    "from keras import models\n",
    "from keras import layers\n",
    "\n",
    "mlp_hit = models.Sequential()\n",
    "mlp_hit.add(layers.Dense(109, activation='relu',\n",
    "                          input_shape=(HIT_scaled.shape[1],)))\n",
    "mlp_hit.add(layers.Dropout(0.5))\n",
    "mlp_hit.add(layers.BatchNormalization())\n",
    "mlp_hit.add(layers.Dense(70, activation='relu'))\n",
    "mlp_hit.add(layers.Dropout(0.5))\n",
    "mlp_hit.add(layers.BatchNormalization())\n",
    "mlp_hit.add(layers.Dense(70, activation='relu'))\n",
    "mlp_hit.add(layers.Dense(1))"
   ]
  },
  {
   "cell_type": "code",
   "execution_count": 149,
   "metadata": {},
   "outputs": [],
   "source": [
    "# MLP 학습\n",
    "import tensorflow as tf\n",
    "opt = tf.keras.optimizers.Adam(learning_rate=0.01, beta_1=0.3, beta_2=0.999, epsilon=1e-07)\n",
    "mlp_hit.compile(optimizer=opt,\n",
    "             loss='mean_squared_error', metrics=['mean_squared_error'])"
   ]
  },
  {
   "cell_type": "code",
   "execution_count": 150,
   "metadata": {},
   "outputs": [],
   "source": [
    "import warnings\n",
    "import pathlib\n",
    "\n",
    "import tensorflow as tf\n",
    "from tensorflow import keras\n",
    "from tensorflow.keras import layers\n",
    "from keras.callbacks import EarlyStopping\n",
    "warnings.filterwarnings('ignore')\n",
    "from sklearn.model_selection import train_test_split\n",
    "\n",
    "X_train, X_test, y_train, y_test=train_test_split(HIT_scaled, h_target,\n",
    "                                                 test_size=0.2, random_state=1)\n",
    "        \n",
    "early_stop = keras.callbacks.EarlyStopping(monitor='val_mean_squared_error', patience=10)\n",
    "EPOCHS=100\n",
    "        \n",
    "history = mlp_hit.fit(X_train, y_train,\n",
    "          epochs=EPOCHS,validation_data = (X_test, y_test), verbose=0, callbacks= early_stop, batch_size=20)"
   ]
  },
  {
   "cell_type": "code",
   "execution_count": 151,
   "metadata": {},
   "outputs": [
    {
     "data": {
      "text/html": [
       "<div>\n",
       "<style scoped>\n",
       "    .dataframe tbody tr th:only-of-type {\n",
       "        vertical-align: middle;\n",
       "    }\n",
       "\n",
       "    .dataframe tbody tr th {\n",
       "        vertical-align: top;\n",
       "    }\n",
       "\n",
       "    .dataframe thead th {\n",
       "        text-align: right;\n",
       "    }\n",
       "</style>\n",
       "<table border=\"1\" class=\"dataframe\">\n",
       "  <thead>\n",
       "    <tr style=\"text-align: right;\">\n",
       "      <th></th>\n",
       "      <th>loss</th>\n",
       "      <th>mean_squared_error</th>\n",
       "      <th>val_loss</th>\n",
       "      <th>val_mean_squared_error</th>\n",
       "      <th>epoch</th>\n",
       "    </tr>\n",
       "  </thead>\n",
       "  <tbody>\n",
       "    <tr>\n",
       "      <th>41</th>\n",
       "      <td>13.511502</td>\n",
       "      <td>13.511502</td>\n",
       "      <td>14.104790</td>\n",
       "      <td>14.104790</td>\n",
       "      <td>41</td>\n",
       "    </tr>\n",
       "    <tr>\n",
       "      <th>42</th>\n",
       "      <td>13.400882</td>\n",
       "      <td>13.400882</td>\n",
       "      <td>13.543847</td>\n",
       "      <td>13.543847</td>\n",
       "      <td>42</td>\n",
       "    </tr>\n",
       "    <tr>\n",
       "      <th>43</th>\n",
       "      <td>13.484020</td>\n",
       "      <td>13.484020</td>\n",
       "      <td>14.072220</td>\n",
       "      <td>14.072220</td>\n",
       "      <td>43</td>\n",
       "    </tr>\n",
       "    <tr>\n",
       "      <th>44</th>\n",
       "      <td>13.410726</td>\n",
       "      <td>13.410726</td>\n",
       "      <td>13.576132</td>\n",
       "      <td>13.576132</td>\n",
       "      <td>44</td>\n",
       "    </tr>\n",
       "    <tr>\n",
       "      <th>45</th>\n",
       "      <td>13.556233</td>\n",
       "      <td>13.556233</td>\n",
       "      <td>16.087467</td>\n",
       "      <td>16.087467</td>\n",
       "      <td>45</td>\n",
       "    </tr>\n",
       "  </tbody>\n",
       "</table>\n",
       "</div>"
      ],
      "text/plain": [
       "         loss  mean_squared_error   val_loss  val_mean_squared_error  epoch\n",
       "41  13.511502           13.511502  14.104790               14.104790     41\n",
       "42  13.400882           13.400882  13.543847               13.543847     42\n",
       "43  13.484020           13.484020  14.072220               14.072220     43\n",
       "44  13.410726           13.410726  13.576132               13.576132     44\n",
       "45  13.556233           13.556233  16.087467               16.087467     45"
      ]
     },
     "execution_count": 151,
     "metadata": {},
     "output_type": "execute_result"
    }
   ],
   "source": [
    "# 조기종료후 마지막 구간 평가지표 확인\n",
    "hist = pd.DataFrame(history.history)\n",
    "hist['epoch'] = history.epoch\n",
    "hist.tail()"
   ]
  },
  {
   "cell_type": "code",
   "execution_count": 152,
   "metadata": {},
   "outputs": [
    {
     "data": {
      "text/plain": [
       "3.676319627018304"
      ]
     },
     "execution_count": 152,
     "metadata": {},
     "output_type": "execute_result"
    }
   ],
   "source": [
    "# 다른 모델들과 비교를 위해 RMSE로 전환\n",
    "# train rmse\n",
    "math.sqrt(13.515326)"
   ]
  },
  {
   "cell_type": "code",
   "execution_count": 153,
   "metadata": {},
   "outputs": [
    {
     "data": {
      "text/plain": [
       "3.87468979403513"
      ]
     },
     "execution_count": 153,
     "metadata": {},
     "output_type": "execute_result"
    }
   ],
   "source": [
    "# validation mse\n",
    "math.sqrt(15.013221)"
   ]
  },
  {
   "cell_type": "code",
   "execution_count": 154,
   "metadata": {},
   "outputs": [
    {
     "name": "stdout",
     "output_type": "stream",
     "text": [
      "RMSE':3.3718993377669375\n"
     ]
    }
   ],
   "source": [
    "# test RMSE\n",
    "HIT_T = HIT_2.drop(['RUN_TARGET','G_ID','T_ID','VS_T_ID', 'TB_SC', 'AB_TARGET','GDAY_DS'], axis =1)\n",
    "a = HIT_T.iloc[:, :-1]\n",
    "b = HIT_T.iloc[:, -1]\n",
    "scaler = StandardScaler()\n",
    "scaler.fit(h_ftr)\n",
    "HIT_2_scaled = scaler.transform(a)\n",
    "\n",
    "HIT2_scaled = pd.DataFrame(data=HIT_2_scaled)\n",
    "mlp_hit_predict = mlp_hit.predict(HIT2_scaled)\n",
    "print(\"RMSE':{}\".format(math.sqrt(mean_squared_error(mlp_hit_predict, b))) )"
   ]
  },
  {
   "cell_type": "code",
   "execution_count": 155,
   "metadata": {},
   "outputs": [],
   "source": [
    "# MLP 타수 모델\n",
    "X = AB_ONE1.iloc[:,:-1]\n",
    "y = AB_ONE1.iloc[:,-1]"
   ]
  },
  {
   "cell_type": "code",
   "execution_count": 156,
   "metadata": {},
   "outputs": [],
   "source": [
    "# 데이터 정규화\n",
    "from sklearn.preprocessing import StandardScaler\n",
    "scaler = StandardScaler()\n",
    "scaler.fit(X)\n",
    "X_scaled = scaler.transform(X)\n",
    "\n",
    "X_train_scaled = pd.DataFrame(data=X_scaled)"
   ]
  },
  {
   "cell_type": "code",
   "execution_count": 157,
   "metadata": {},
   "outputs": [],
   "source": [
    "# MLP 모델 생성 -> 배치정규화 , 드롭아웃 적용\n",
    "from keras import models\n",
    "from keras import layers\n",
    "\n",
    "mlp_ab = models.Sequential()\n",
    "mlp_ab.add(layers.Dense(109, activation='relu',\n",
    "                          input_shape=(X_train_scaled.shape[1],)))\n",
    "mlp_ab.add(layers.Dropout(0.5))\n",
    "mlp_ab.add(layers.BatchNormalization())\n",
    "mlp_ab.add(layers.Dense(70, activation='relu'))\n",
    "mlp_ab.add(layers.Dropout(0.5))\n",
    "mlp_ab.add(layers.BatchNormalization())\n",
    "mlp_ab.add(layers.Dense(70, activation='relu'))\n",
    "mlp_ab.add(layers.Dense(1))"
   ]
  },
  {
   "cell_type": "code",
   "execution_count": 158,
   "metadata": {},
   "outputs": [],
   "source": [
    "# MLP 학습\n",
    "import tensorflow as tf\n",
    "opt = tf.keras.optimizers.Adam(learning_rate=0.01, beta_1=0.3, beta_2=0.999, epsilon=1e-07)\n",
    "mlp_ab.compile(optimizer=opt,\n",
    "             loss='mean_squared_error', metrics=['mean_squared_error'])"
   ]
  },
  {
   "cell_type": "code",
   "execution_count": 159,
   "metadata": {},
   "outputs": [],
   "source": [
    "import warnings\n",
    "import pathlib\n",
    "\n",
    "import tensorflow as tf\n",
    "from tensorflow import keras\n",
    "from tensorflow.keras import layers\n",
    "from keras.callbacks import EarlyStopping\n",
    "warnings.filterwarnings('ignore')\n",
    "from sklearn.model_selection import train_test_split\n",
    "\n",
    "X_train1, X_test1, y_train1, y_test1=train_test_split(X_train_scaled, y,\n",
    "                                                 test_size=0.2, random_state=1)\n",
    "        \n",
    "early_stop = keras.callbacks.EarlyStopping(monitor='val_mean_squared_error', patience=10)\n",
    "EPOCHS=100\n",
    "        \n",
    "history = mlp_ab.fit(X_train1, y_train1,\n",
    "          epochs=EPOCHS,validation_data = (X_test1, y_test1), verbose=0, callbacks= early_stop, batch_size=20)"
   ]
  },
  {
   "cell_type": "code",
   "execution_count": 160,
   "metadata": {},
   "outputs": [
    {
     "data": {
      "text/html": [
       "<div>\n",
       "<style scoped>\n",
       "    .dataframe tbody tr th:only-of-type {\n",
       "        vertical-align: middle;\n",
       "    }\n",
       "\n",
       "    .dataframe tbody tr th {\n",
       "        vertical-align: top;\n",
       "    }\n",
       "\n",
       "    .dataframe thead th {\n",
       "        text-align: right;\n",
       "    }\n",
       "</style>\n",
       "<table border=\"1\" class=\"dataframe\">\n",
       "  <thead>\n",
       "    <tr style=\"text-align: right;\">\n",
       "      <th></th>\n",
       "      <th>loss</th>\n",
       "      <th>mean_squared_error</th>\n",
       "      <th>val_loss</th>\n",
       "      <th>val_mean_squared_error</th>\n",
       "      <th>epoch</th>\n",
       "    </tr>\n",
       "  </thead>\n",
       "  <tbody>\n",
       "    <tr>\n",
       "      <th>28</th>\n",
       "      <td>18.576632</td>\n",
       "      <td>18.576632</td>\n",
       "      <td>21.812244</td>\n",
       "      <td>21.812244</td>\n",
       "      <td>28</td>\n",
       "    </tr>\n",
       "    <tr>\n",
       "      <th>29</th>\n",
       "      <td>18.669235</td>\n",
       "      <td>18.669233</td>\n",
       "      <td>21.261324</td>\n",
       "      <td>21.261324</td>\n",
       "      <td>29</td>\n",
       "    </tr>\n",
       "    <tr>\n",
       "      <th>30</th>\n",
       "      <td>18.404034</td>\n",
       "      <td>18.404032</td>\n",
       "      <td>17.008432</td>\n",
       "      <td>17.008432</td>\n",
       "      <td>30</td>\n",
       "    </tr>\n",
       "    <tr>\n",
       "      <th>31</th>\n",
       "      <td>18.435860</td>\n",
       "      <td>18.435860</td>\n",
       "      <td>18.085606</td>\n",
       "      <td>18.085604</td>\n",
       "      <td>31</td>\n",
       "    </tr>\n",
       "    <tr>\n",
       "      <th>32</th>\n",
       "      <td>18.346123</td>\n",
       "      <td>18.346123</td>\n",
       "      <td>17.506042</td>\n",
       "      <td>17.506042</td>\n",
       "      <td>32</td>\n",
       "    </tr>\n",
       "  </tbody>\n",
       "</table>\n",
       "</div>"
      ],
      "text/plain": [
       "         loss  mean_squared_error   val_loss  val_mean_squared_error  epoch\n",
       "28  18.576632           18.576632  21.812244               21.812244     28\n",
       "29  18.669235           18.669233  21.261324               21.261324     29\n",
       "30  18.404034           18.404032  17.008432               17.008432     30\n",
       "31  18.435860           18.435860  18.085606               18.085604     31\n",
       "32  18.346123           18.346123  17.506042               17.506042     32"
      ]
     },
     "execution_count": 160,
     "metadata": {},
     "output_type": "execute_result"
    }
   ],
   "source": [
    "# 조기종료후 마지막 구간 평가지표 확인\n",
    "hist = pd.DataFrame(history.history)\n",
    "hist['epoch'] = history.epoch\n",
    "hist.tail()"
   ]
  },
  {
   "cell_type": "code",
   "execution_count": 161,
   "metadata": {},
   "outputs": [
    {
     "data": {
      "text/plain": [
       "4.316200759927647"
      ]
     },
     "execution_count": 161,
     "metadata": {},
     "output_type": "execute_result"
    }
   ],
   "source": [
    "# 다른 모델들과 성능비교를 위해 RMSE로 전환\n",
    "# train rmse\n",
    "math.sqrt(18.629589)"
   ]
  },
  {
   "cell_type": "code",
   "execution_count": 162,
   "metadata": {},
   "outputs": [
    {
     "data": {
      "text/plain": [
       "4.418583483425429"
      ]
     },
     "execution_count": 162,
     "metadata": {},
     "output_type": "execute_result"
    }
   ],
   "source": [
    "# varidation rmse\n",
    "math.sqrt(19.523880)"
   ]
  },
  {
   "cell_type": "code",
   "execution_count": 163,
   "metadata": {},
   "outputs": [
    {
     "name": "stdout",
     "output_type": "stream",
     "text": [
      "RMSE':4.123454428721231\n"
     ]
    }
   ],
   "source": [
    "# test RMSE\n",
    "AB_T = AB_2.drop(['RUN_TARGET','G_ID','T_ID','VS_T_ID', 'TB_SC', 'HIT_TARGET','GDAY_DS'], axis =1)\n",
    "a1 = AB_T.iloc[:, :-1]\n",
    "b1 = AB_T.iloc[:, -1]\n",
    "scaler = StandardScaler()\n",
    "scaler.fit(X)\n",
    "AB_2_scaled = scaler.transform(a1)\n",
    "\n",
    "AB2_scaled = pd.DataFrame(data=AB_2_scaled)\n",
    "mlp_ab_predict = mlp_ab.predict(AB2_scaled)\n",
    "print(\"RMSE':{}\".format(math.sqrt(mean_squared_error(mlp_ab_predict, b1))) )"
   ]
  },
  {
   "cell_type": "markdown",
   "metadata": {},
   "source": [
    "## 최종 안타수 모델 XGB 타수모델LGBM으로 테스트"
   ]
  },
  {
   "cell_type": "code",
   "execution_count": 164,
   "metadata": {},
   "outputs": [],
   "source": [
    "HIT_NC = HIT_2[HIT_2['T_ID']== 'NC']\n",
    "HIT_OB = HIT_2[HIT_2['T_ID']== 'OB']\n",
    "HIT_LG = HIT_2[HIT_2['T_ID']== 'LG']\n",
    "HIT_WO = HIT_2[HIT_2['T_ID']== 'WO']\n",
    "HIT_HH = HIT_2[HIT_2['T_ID']== 'HH']\n",
    "HIT_HT = HIT_2[HIT_2['T_ID']== 'HT']\n",
    "HIT_KT = HIT_2[HIT_2['T_ID']== 'KT']\n",
    "HIT_LT = HIT_2[HIT_2['T_ID']== 'LT']\n",
    "HIT_SK = HIT_2[HIT_2['T_ID']== 'SK']\n",
    "HIT_SS = HIT_2[HIT_2['T_ID']== 'SS']\n",
    "HIT_HH = HIT_HH.drop(['RUN_TARGET','G_ID','T_ID','VS_T_ID', 'TB_SC', 'AB_TARGET','GDAY_DS','AB_TARGET'], axis =1)\n",
    "HIT_OB = HIT_OB.drop(['RUN_TARGET','G_ID','T_ID','VS_T_ID', 'TB_SC', 'AB_TARGET','GDAY_DS','AB_TARGET'], axis =1)\n",
    "HIT_LG = HIT_LG.drop(['RUN_TARGET','G_ID','T_ID','VS_T_ID', 'TB_SC', 'AB_TARGET','GDAY_DS','AB_TARGET'], axis =1)\n",
    "HIT_WO = HIT_WO.drop(['RUN_TARGET','G_ID','T_ID','VS_T_ID', 'TB_SC', 'AB_TARGET','GDAY_DS','AB_TARGET'], axis =1)\n",
    "HIT_NC = HIT_NC.drop(['RUN_TARGET','G_ID','T_ID','VS_T_ID', 'TB_SC', 'AB_TARGET','GDAY_DS','AB_TARGET'], axis =1)\n",
    "HIT_HT = HIT_HT.drop(['RUN_TARGET','G_ID','T_ID','VS_T_ID', 'TB_SC', 'AB_TARGET','GDAY_DS','AB_TARGET'], axis =1)\n",
    "HIT_KT = HIT_KT.drop(['RUN_TARGET','G_ID','T_ID','VS_T_ID', 'TB_SC', 'AB_TARGET','GDAY_DS','AB_TARGET'], axis =1)\n",
    "HIT_LT = HIT_LT.drop(['RUN_TARGET','G_ID','T_ID','VS_T_ID', 'TB_SC', 'AB_TARGET','GDAY_DS','AB_TARGET'], axis =1)\n",
    "HIT_SK = HIT_SK.drop(['RUN_TARGET','G_ID','T_ID','VS_T_ID', 'TB_SC', 'AB_TARGET','GDAY_DS','AB_TARGET'], axis =1)\n",
    "HIT_SS = HIT_SS.drop(['RUN_TARGET','G_ID','T_ID','VS_T_ID', 'TB_SC', 'AB_TARGET','GDAY_DS','AB_TARGET'], axis =1)\n",
    "\n",
    "# test셋 팀별 안타수를 보기 위한 분할"
   ]
  },
  {
   "cell_type": "code",
   "execution_count": 165,
   "metadata": {},
   "outputs": [],
   "source": [
    "AB_NC = AB_2[AB_2['T_ID']== 'NC']\n",
    "AB_OB = AB_2[AB_2['T_ID']== 'OB']\n",
    "AB_LG = AB_2[AB_2['T_ID']== 'LG']\n",
    "AB_WO = AB_2[AB_2['T_ID']== 'WO']\n",
    "AB_HH = AB_2[AB_2['T_ID']== 'HH']\n",
    "AB_HT = AB_2[AB_2['T_ID']== 'HT']\n",
    "AB_KT = AB_2[AB_2['T_ID']== 'KT']\n",
    "AB_LT = AB_2[AB_2['T_ID']== 'LT']\n",
    "AB_SK = AB_2[AB_2['T_ID']== 'SK']\n",
    "AB_SS = AB_2[AB_2['T_ID']== 'SS']\n",
    "AB_NC = AB_NC.drop(['RUN_TARGET','G_ID','T_ID','VS_T_ID', 'TB_SC', 'HIT_TARGET','GDAY_DS'], axis =1)\n",
    "AB_OB = AB_OB.drop(['RUN_TARGET','G_ID','T_ID','VS_T_ID', 'TB_SC', 'HIT_TARGET','GDAY_DS'], axis =1)\n",
    "AB_LG = AB_LG.drop(['RUN_TARGET','G_ID','T_ID','VS_T_ID', 'TB_SC', 'HIT_TARGET','GDAY_DS'], axis =1)\n",
    "AB_WO = AB_WO.drop(['RUN_TARGET','G_ID','T_ID','VS_T_ID', 'TB_SC', 'HIT_TARGET','GDAY_DS'], axis =1)\n",
    "AB_HH = AB_HH.drop(['RUN_TARGET','G_ID','T_ID','VS_T_ID', 'TB_SC', 'HIT_TARGET','GDAY_DS'], axis =1)\n",
    "AB_HT = AB_HT.drop(['RUN_TARGET','G_ID','T_ID','VS_T_ID', 'TB_SC', 'HIT_TARGET','GDAY_DS'], axis =1)\n",
    "AB_KT = AB_KT.drop(['RUN_TARGET','G_ID','T_ID','VS_T_ID', 'TB_SC', 'HIT_TARGET','GDAY_DS'], axis =1)\n",
    "AB_LT = AB_LT.drop(['RUN_TARGET','G_ID','T_ID','VS_T_ID', 'TB_SC', 'HIT_TARGET','GDAY_DS'], axis =1)\n",
    "AB_SK = AB_SK.drop(['RUN_TARGET','G_ID','T_ID','VS_T_ID', 'TB_SC', 'HIT_TARGET','GDAY_DS'], axis =1)\n",
    "AB_SS = AB_SS.drop(['RUN_TARGET','G_ID','T_ID','VS_T_ID', 'TB_SC', 'HIT_TARGET','GDAY_DS'], axis =1)\n",
    "\n",
    "# test셋 팀별 타수를 보기 위한 분할"
   ]
  },
  {
   "cell_type": "code",
   "execution_count": 166,
   "metadata": {},
   "outputs": [],
   "source": [
    "def xgb_avg(A,B):\n",
    "    a_test = A.iloc[:, :-1]\n",
    "    b_test = A.iloc[:, -1]\n",
    "    ktest = xgb.DMatrix(data=a_test)\n",
    "    pred = xgb_hit.predict(ktest)\n",
    "\n",
    "    nam =['col1']\n",
    "    y = pd.DataFrame(pred, columns=nam)\n",
    "    y_sum1 = y['col1'].sum()\n",
    "    y_sum1 # 예측 안타수 합\n",
    "    \n",
    "    a_test1 = B.iloc[:, :-1]\n",
    "    b_test1 = B.iloc[:, -1]\n",
    "    pred = lgbm_ab.predict(a_test1)\n",
    "    nam =['col2']\n",
    "    y = pd.DataFrame(pred, columns=nam)\n",
    "    y_sum2 = y['col2'].sum()\n",
    "    y_sum2\n",
    "    \n",
    "    HIT_sum1= b_test.sum()\n",
    "    HIT_sum1\n",
    "    \n",
    "    AB_sum2= b_test1.sum()\n",
    "    AB_sum2\n",
    "    \n",
    "    predict_avg = y_sum1 / y_sum2 \n",
    "    real_avg = HIT_sum1 / AB_sum2\n",
    "   \n",
    "    return print('예측 타율:', predict_avg,\n",
    "                 '실제 타율:', real_avg)"
   ]
  },
  {
   "cell_type": "code",
   "execution_count": 167,
   "metadata": {},
   "outputs": [
    {
     "name": "stdout",
     "output_type": "stream",
     "text": [
      "예측 타율: 0.27944870025761487 실제 타율: 0.26587301587301587\n",
      "예측 타율: 0.28000556461909903 실제 타율: 0.28363636363636363\n",
      "예측 타율: 0.2885154062169653 실제 타율: 0.30988786952089703\n",
      "예측 타율: 0.28854405861001525 실제 타율: 0.2672521957340025\n",
      "예측 타율: 0.27837465670686745 실제 타율: 0.2673611111111111\n",
      "예측 타율: 0.2902265128153084 실제 타율: 0.2840800762631077\n",
      "예측 타율: 0.2818593334733833 실제 타율: 0.28730964467005077\n",
      "예측 타율: 0.2819335740926834 실제 타율: 0.293790546802595\n",
      "예측 타율: 0.280213082253961 실제 타율: 0.2797558494404883\n",
      "예측 타율: 0.2824997761954941 실제 타율: 0.2921478060046189\n"
     ]
    }
   ],
   "source": [
    "xgb_avg(HIT_WO, AB_WO)\n",
    "xgb_avg(HIT_NC, AB_NC)\n",
    "xgb_avg(HIT_OB, AB_OB)\n",
    "xgb_avg(HIT_LG, AB_LG)\n",
    "xgb_avg(HIT_HH, AB_HH)\n",
    "xgb_avg(HIT_HT, AB_HT)\n",
    "xgb_avg(HIT_KT, AB_KT)\n",
    "xgb_avg(HIT_LT, AB_LT)\n",
    "xgb_avg(HIT_SK, AB_SK)\n",
    "xgb_avg(HIT_SS, AB_SS)"
   ]
  },
  {
   "cell_type": "code",
   "execution_count": 168,
   "metadata": {},
   "outputs": [
    {
     "name": "stdout",
     "output_type": "stream",
     "text": [
      "RMSE':0.012370414804405186\n"
     ]
    }
   ],
   "source": [
    "#예측 타율과 실제 타율 비교 \n",
    "A = [0.27944870025761487,0.28000556461909903,0.2885154062169653,0.28854405861001525,0.27837465670686745,0.2902265128153084,0.2818593334733833,0.2819335740926834,0.280213082253961,0.2824997761954941]\n",
    "B = [0.26587301587301587,0.28363636363636363,0.30988786952089703,0.2672521957340025,0.2673611111111111,0.2840800762631077,0.28730964467005077,0.293790546802595, 0.2797558494404883,0.2921478060046189]\n",
    "\n",
    "print(\"RMSE':{}\".format(math.sqrt(mean_squared_error(A, B))) )\n",
    "\n"
   ]
  },
  {
   "cell_type": "markdown",
   "metadata": {},
   "source": [
    "# 최종 예측"
   ]
  },
  {
   "cell_type": "code",
   "execution_count": 169,
   "metadata": {},
   "outputs": [],
   "source": [
    "RUN_END_NC = RUN_END[RUN_END['T_ID']== 'NC']\n",
    "RUN_END_OB = RUN_END[RUN_END['T_ID']== 'OB']\n",
    "RUN_END_LG = RUN_END[RUN_END['T_ID']== 'LG']\n",
    "RUN_END_WO = RUN_END[RUN_END['T_ID']== 'WO']\n",
    "RUN_END_HH = RUN_END[RUN_END['T_ID']== 'HH']\n",
    "RUN_END_HT = RUN_END[RUN_END['T_ID']== 'HT']\n",
    "RUN_END_KT = RUN_END[RUN_END['T_ID']== 'KT']\n",
    "RUN_END_LT = RUN_END[RUN_END['T_ID']== 'LT']\n",
    "RUN_END_SK = RUN_END[RUN_END['T_ID']== 'SK']\n",
    "RUN_END_SS = RUN_END[RUN_END['T_ID']== 'SS']\n",
    "RUN_END_NC= RUN_END_NC.drop(['RUN_TARGET','G_ID','T_ID','VS_T_ID', 'TB_SC', 'AB_TARGET','GDAY_DS','HIT_TARGET'], axis =1)\n",
    "RUN_END_OB= RUN_END_OB.drop(['RUN_TARGET','G_ID','T_ID','VS_T_ID', 'TB_SC', 'AB_TARGET','GDAY_DS','HIT_TARGET'], axis =1)\n",
    "RUN_END_LG= RUN_END_LG.drop(['RUN_TARGET','G_ID','T_ID','VS_T_ID', 'TB_SC', 'AB_TARGET','GDAY_DS','HIT_TARGET'], axis =1)\n",
    "RUN_END_WO= RUN_END_WO.drop(['RUN_TARGET','G_ID','T_ID','VS_T_ID', 'TB_SC', 'AB_TARGET','GDAY_DS','HIT_TARGET'], axis =1)\n",
    "RUN_END_HH= RUN_END_HH.drop(['RUN_TARGET','G_ID','T_ID','VS_T_ID', 'TB_SC', 'AB_TARGET','GDAY_DS','HIT_TARGET'], axis =1)\n",
    "RUN_END_HT= RUN_END_HT.drop(['RUN_TARGET','G_ID','T_ID','VS_T_ID', 'TB_SC', 'AB_TARGET','GDAY_DS','HIT_TARGET'], axis =1)\n",
    "RUN_END_KT= RUN_END_KT.drop(['RUN_TARGET','G_ID','T_ID','VS_T_ID', 'TB_SC', 'AB_TARGET','GDAY_DS','HIT_TARGET'], axis =1)\n",
    "RUN_END_LT= RUN_END_LT.drop(['RUN_TARGET','G_ID','T_ID','VS_T_ID', 'TB_SC', 'AB_TARGET','GDAY_DS','HIT_TARGET'], axis =1)\n",
    "RUN_END_SK= RUN_END_SK.drop(['RUN_TARGET','G_ID','T_ID','VS_T_ID', 'TB_SC', 'AB_TARGET','GDAY_DS','HIT_TARGET'], axis =1)\n",
    "RUN_END_SS= RUN_END_SS.drop(['RUN_TARGET','G_ID','T_ID','VS_T_ID', 'TB_SC', 'AB_TARGET','GDAY_DS','HIT_TARGET'], axis =1)\n"
   ]
  },
  {
   "cell_type": "code",
   "execution_count": 170,
   "metadata": {},
   "outputs": [],
   "source": [
    "def xgb_avg1(A):\n",
    "    a_test = A\n",
    "    \n",
    "    ktest = xgb.DMatrix(data=a_test)\n",
    "    pred = xgb_hit.predict(ktest)\n",
    "\n",
    "    nam =['col1']\n",
    "    y = pd.DataFrame(pred, columns=nam)\n",
    "    y_sum1 = y['col1'].sum()\n",
    "    y_sum1 # 예측 안타수 합\n",
    "    \n",
    "    a_test1 = A\n",
    "    \n",
    "    \n",
    "    pred = lgbm_ab.predict(a_test1)\n",
    "    nam =['col2']\n",
    "    y = pd.DataFrame(pred, columns=nam)\n",
    "    y_sum2 = y['col2'].sum()\n",
    "    y_sum2\n",
    "    \n",
    "    \n",
    "    predict_avg = y_sum1 / y_sum2 \n",
    "    \n",
    "   \n",
    "    return print('예측 타율:', predict_avg)"
   ]
  },
  {
   "cell_type": "code",
   "execution_count": 171,
   "metadata": {},
   "outputs": [
    {
     "name": "stdout",
     "output_type": "stream",
     "text": [
      "예측 타율: 0.258601449043901\n",
      "예측 타율: 0.24845124282629988\n",
      "예측 타율: 0.2655231557156759\n",
      "예측 타율: 0.2588765826952499\n",
      "예측 타율: 0.25398215872907437\n",
      "예측 타율: 0.2633091759726954\n",
      "예측 타율: 0.2652442036287724\n",
      "예측 타율: 0.260614854208708\n",
      "예측 타율: 0.2604212089922237\n",
      "예측 타율: 0.2625756392546289\n"
     ]
    }
   ],
   "source": [
    "xgb_avg1(RUN_END_WO)\n",
    "xgb_avg1(RUN_END_NC)\n",
    "xgb_avg1(RUN_END_OB)\n",
    "xgb_avg1(RUN_END_LG)\n",
    "xgb_avg1(RUN_END_HH)\n",
    "xgb_avg1(RUN_END_HT)\n",
    "xgb_avg1(RUN_END_KT)\n",
    "xgb_avg1(RUN_END_LT)\n",
    "xgb_avg1(RUN_END_SK)\n",
    "xgb_avg1(RUN_END_SS)"
   ]
  },
  {
   "cell_type": "code",
   "execution_count": null,
   "metadata": {},
   "outputs": [],
   "source": []
  }
 ],
 "metadata": {
  "kernelspec": {
   "display_name": "Python 3",
   "language": "python",
   "name": "python3"
  },
  "language_info": {
   "codemirror_mode": {
    "name": "ipython",
    "version": 3
   },
   "file_extension": ".py",
   "mimetype": "text/x-python",
   "name": "python",
   "nbconvert_exporter": "python",
   "pygments_lexer": "ipython3",
   "version": "3.7.6"
  }
 },
 "nbformat": 4,
 "nbformat_minor": 4
}
