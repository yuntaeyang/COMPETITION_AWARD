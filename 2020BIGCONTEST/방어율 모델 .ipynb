{
 "cells": [
  {
   "cell_type": "markdown",
   "metadata": {},
   "source": [
    "## 랜덤포레스트 방어율 모델"
   ]
  },
  {
   "cell_type": "code",
   "execution_count": 130,
   "metadata": {},
   "outputs": [],
   "source": [
    "from sklearn.ensemble import RandomForestRegressor\n",
    "from sklearn.model_selection import cross_val_score\n",
    "import pandas as pd\n",
    "import numpy as np\n",
    "from sklearn.model_selection import GridSearchCV\n",
    "from sklearn.model_selection import train_test_split\n",
    "from sklearn.metrics import mean_squared_error\n",
    "import math"
   ]
  },
  {
   "cell_type": "code",
   "execution_count": 131,
   "metadata": {},
   "outputs": [],
   "source": [
    "# 랜덤포레스트 자책점 모델\n",
    "R_ONE =pd.read_csv(r'C:\\Users\\yuntaeyang\\Desktop\\svt_code\\LOST_END.csv' , encoding = 'ms949' , index_col=0)\n",
    "R_ONE1 = R_ONE.iloc[0:4642, :]\n",
    "R_END = R_ONE.iloc[4642:4900, :] # 실제 예측해야하는 데이터\n",
    "ER_1 = R_ONE1.iloc[0:2680, :]\n",
    "ER_2 = R_ONE1.iloc[2680:2940, :]# test셋\n",
    "ER_3 = R_ONE1.iloc[2940:4642, :]\n",
    "df = [ER_1, ER_3]\n",
    "ER_ONE= pd.concat(df)\n",
    "ER_ONE1 = ER_ONE.drop(['R_TARGET','G_ID','T_ID','VS_T_ID', 'TB_SC', 'INN2_TARGET','GDAY_DS'], axis =1)\n"
   ]
  },
  {
   "cell_type": "code",
   "execution_count": 132,
   "metadata": {},
   "outputs": [
    {
     "name": "stdout",
     "output_type": "stream",
     "text": [
      "최적 하이퍼 파라미터: {'max_depth': 5, 'min_samples_leaf': 16, 'min_samples_split': 8, 'n_estimators': 200}\n",
      "최적 예측 정확도: 0.0000\n"
     ]
    }
   ],
   "source": [
    "#GRIDSEARCH를 이용한 최적화\n",
    "X_1 = ER_ONE1.iloc[:, :-1]\n",
    "y_1 = ER_ONE1.iloc[:, -1]\n",
    "X_train_1, X_test_1, y_train_1, y_test_1=train_test_split(X_1, y_1,\n",
    "                                                  test_size=0.2, random_state=0)\n",
    "\n",
    "\n",
    "params = {\n",
    "    'n_estimators':(100, 200),\n",
    "    'max_depth' : (5, 8),\n",
    "    'min_samples_leaf' : (8, 16),\n",
    "    'min_samples_split' : (8, 16)\n",
    "}\n",
    "rf_er = RandomForestRegressor(random_state=0, n_jobs=-1)\n",
    "grid_cv = GridSearchCV(rf_er, param_grid=params, cv=2, n_jobs=-1)\n",
    "grid_cv.fit(X_train_1, y_train_1)\n",
    "\n",
    "\n",
    "print('최적 하이퍼 파라미터:', grid_cv.best_params_)\n",
    "print('최적 예측 정확도: {0:.4f}'.format(grid_cv.best_score_))"
   ]
  },
  {
   "cell_type": "code",
   "execution_count": 133,
   "metadata": {},
   "outputs": [
    {
     "data": {
      "text/plain": [
       "RandomForestRegressor(bootstrap=True, ccp_alpha=0.0, criterion='mse',\n",
       "                      max_depth=5, max_features='auto', max_leaf_nodes=None,\n",
       "                      max_samples=None, min_impurity_decrease=0.0,\n",
       "                      min_impurity_split=None, min_samples_leaf=16,\n",
       "                      min_samples_split=8, min_weight_fraction_leaf=0.0,\n",
       "                      n_estimators=200, n_jobs=None, oob_score=False,\n",
       "                      random_state=0, verbose=0, warm_start=False)"
      ]
     },
     "execution_count": 133,
     "metadata": {},
     "output_type": "execute_result"
    }
   ],
   "source": [
    "# 랜덤포레스트 자책점모델 학습\n",
    "rf_er = RandomForestRegressor(random_state=0, max_depth=5, min_samples_leaf=16, min_samples_split=8,n_estimators=200)\n",
    "rf_er.fit(X_train_1, y_train_1)"
   ]
  },
  {
   "cell_type": "code",
   "execution_count": 134,
   "metadata": {},
   "outputs": [
    {
     "name": "stdout",
     "output_type": "stream",
     "text": [
      "RMSE':3.1288877393011294\n"
     ]
    }
   ],
   "source": [
    "# train rmse\n",
    "rf_er_predict = rf_er.predict(X_train_1)\n",
    "print(\"RMSE':{}\".format(math.sqrt(mean_squared_error(rf_er_predict, y_train_1))) )"
   ]
  },
  {
   "cell_type": "code",
   "execution_count": 135,
   "metadata": {},
   "outputs": [
    {
     "name": "stdout",
     "output_type": "stream",
     "text": [
      "#### RandomForestRegressor ####\n",
      "5 교차 검증의 평균 RMSE: 3.169\n"
     ]
    }
   ],
   "source": [
    "# varidation rmse\n",
    "def get_model_cv_prediction(model, X_data, y_target):\n",
    "    neg_mse_scores=cross_val_score(model, X_data, y_target, scoring='neg_mean_squared_error', cv=5)\n",
    "    rmse_scores = np.sqrt(-1*neg_mse_scores)\n",
    "    avg_rmse = np.mean(rmse_scores)\n",
    "    print('####',model.__class__.__name__,'####')\n",
    "    print('5 교차 검증의 평균 RMSE: {0:.3f}'.format(avg_rmse))\n",
    "get_model_cv_prediction(rf_er, X_test_1, y_test_1) "
   ]
  },
  {
   "cell_type": "code",
   "execution_count": 136,
   "metadata": {},
   "outputs": [
    {
     "name": "stdout",
     "output_type": "stream",
     "text": [
      "RMSE':3.038053601885242\n"
     ]
    }
   ],
   "source": [
    "# test rmse\n",
    "ER_T= ER_2.drop(['R_TARGET','G_ID','T_ID','VS_T_ID', 'TB_SC', 'INN2_TARGET','GDAY_DS'], axis =1)\n",
    "a_1 = ER_T.iloc[:, :-1]\n",
    "b_1 = ER_T.iloc[:, -1]\n",
    "rf_er_predict = rf_er.predict(a_1)\n",
    "print(\"RMSE':{}\".format(math.sqrt(mean_squared_error(rf_er_predict, b_1))) )"
   ]
  },
  {
   "cell_type": "code",
   "execution_count": 137,
   "metadata": {},
   "outputs": [
    {
     "data": {
      "image/png": "[encoded data removed]",
      "text/plain": [
       "<Figure size 576x432 with 1 Axes>"
      ]
     },
     "metadata": {
      "needs_background": "light"
     },
     "output_type": "display_data"
    }
   ],
   "source": [
    "import matplotlib.pyplot as plt # 자책점모델 변수 중요도\n",
    "import seaborn as sns\n",
    "%matplotlib inline\n",
    "\n",
    "ftr_importances_values = rf_er.feature_importances_\n",
    "ftr_importances = pd.Series(ftr_importances_values, index=X_train_1.columns)\n",
    "ftr_top = ftr_importances.sort_values(ascending=False)[:20]\n",
    "\n",
    "plt.figure(figsize=(8, 6))\n",
    "sns.barplot(x=ftr_top, y=ftr_top.index)\n",
    "plt.show()"
   ]
  },
  {
   "cell_type": "code",
   "execution_count": 138,
   "metadata": {},
   "outputs": [],
   "source": [
    "# 랜덤포레스트 이닝수 모델\n",
    "INN_1 = R_ONE1.iloc[0:2680, :]\n",
    "INN_2 = R_ONE1.iloc[2680:2940, :]# test셋\n",
    "INN_3 = R_ONE1.iloc[2940:4642, :] \n",
    "df = [INN_1, INN_3]\n",
    "INN_ONE= pd.concat(df) \n",
    "INN_ONE1 = INN_ONE.drop(['R_TARGET','G_ID','T_ID', 'VS_T_ID', 'TB_SC', 'ER_TARGET','GDAY_DS'], axis =1)"
   ]
  },
  {
   "cell_type": "code",
   "execution_count": 139,
   "metadata": {},
   "outputs": [
    {
     "name": "stdout",
     "output_type": "stream",
     "text": [
      "최적 하이퍼 파라미터: {'max_depth': 5, 'min_samples_leaf': 8, 'min_samples_split': 18, 'n_estimators': 200}\n",
      "최적 예측 정확도: -0.0168\n"
     ]
    }
   ],
   "source": [
    "#GRIDSEARCH를 이용한 최적화\n",
    "X_2 = INN_ONE1.iloc[:, :-1]\n",
    "y_2 = INN_ONE1.iloc[:, -1]\n",
    "X_train_2, X_test_2, y_train_2, y_test_2=train_test_split(X_2, y_2,\n",
    "                                                  test_size=0.2, random_state=0)\n",
    "\n",
    "\n",
    "params = {\n",
    "    'n_estimators':(100, 200),\n",
    "    'max_depth' : (5,8),\n",
    "    'min_samples_leaf' : (8, 18),\n",
    "    'min_samples_split' : (8,18)\n",
    "}\n",
    "rf_inn = RandomForestRegressor(random_state=0, n_jobs=-1)\n",
    "grid_cv = GridSearchCV(rf_inn, param_grid=params, cv=2, n_jobs=-1)\n",
    "grid_cv.fit(X_train_2, y_train_2)\n",
    "\n",
    "\n",
    "print('최적 하이퍼 파라미터:', grid_cv.best_params_)\n",
    "print('최적 예측 정확도: {0:.4f}'.format(grid_cv.best_score_))"
   ]
  },
  {
   "cell_type": "code",
   "execution_count": 140,
   "metadata": {},
   "outputs": [
    {
     "data": {
      "text/plain": [
       "RandomForestRegressor(bootstrap=True, ccp_alpha=0.0, criterion='mse',\n",
       "                      max_depth=5, max_features='auto', max_leaf_nodes=None,\n",
       "                      max_samples=None, min_impurity_decrease=0.0,\n",
       "                      min_impurity_split=None, min_samples_leaf=8,\n",
       "                      min_samples_split=18, min_weight_fraction_leaf=0.0,\n",
       "                      n_estimators=200, n_jobs=None, oob_score=False,\n",
       "                      random_state=0, verbose=0, warm_start=False)"
      ]
     },
     "execution_count": 140,
     "metadata": {},
     "output_type": "execute_result"
    }
   ],
   "source": [
    "# 랜덤포레스트 이닝수모델 학습\n",
    "\n",
    "rf_inn = RandomForestRegressor(random_state=0, max_depth=5, min_samples_leaf=8, min_samples_split=18,n_estimators=200)\n",
    "rf_inn.fit(X_train_2, y_train_2)"
   ]
  },
  {
   "cell_type": "code",
   "execution_count": 141,
   "metadata": {},
   "outputs": [
    {
     "name": "stdout",
     "output_type": "stream",
     "text": [
      "RMSE':2.0655705974424974\n"
     ]
    }
   ],
   "source": [
    "# train rmse\n",
    "rf_inn_predict = rf_inn.predict(X_train_2)\n",
    "print(\"RMSE':{}\".format(math.sqrt(mean_squared_error(rf_inn_predict, y_train_2))) )"
   ]
  },
  {
   "cell_type": "code",
   "execution_count": 142,
   "metadata": {},
   "outputs": [
    {
     "name": "stdout",
     "output_type": "stream",
     "text": [
      "#### RandomForestRegressor ####\n",
      "5 교차 검증의 평균 RMSE: 2.050\n"
     ]
    }
   ],
   "source": [
    "# validation rmse\n",
    "def get_model_cv_prediction(model, X_data, y_target):\n",
    "    neg_mse_scores=cross_val_score(model, X_data, y_target, scoring='neg_mean_squared_error', cv=5)\n",
    "    rmse_scores = np.sqrt(-1*neg_mse_scores)\n",
    "    avg_rmse = np.mean(rmse_scores)\n",
    "    print('####',model.__class__.__name__,'####')\n",
    "    print('5 교차 검증의 평균 RMSE: {0:.3f}'.format(avg_rmse))\n",
    "get_model_cv_prediction(rf_inn, X_test_2, y_test_2)"
   ]
  },
  {
   "cell_type": "code",
   "execution_count": 143,
   "metadata": {},
   "outputs": [
    {
     "name": "stdout",
     "output_type": "stream",
     "text": [
      "RMSE':2.064315062045951\n"
     ]
    }
   ],
   "source": [
    "# test rmse\n",
    "INN_T= INN_2.drop(['R_TARGET','G_ID','T_ID','VS_T_ID', 'TB_SC', 'ER_TARGET','GDAY_DS'], axis =1)\n",
    "a_2 = INN_T.iloc[:, :-1]\n",
    "b_2 = INN_T.iloc[:, -1]\n",
    "rf_inn_predict = rf_inn.predict(a_1)\n",
    "print(\"RMSE':{}\".format(math.sqrt(mean_squared_error(rf_inn_predict, b_2))) )"
   ]
  },
  {
   "cell_type": "code",
   "execution_count": 144,
   "metadata": {},
   "outputs": [
    {
     "data": {
      "image/png": "[encoded data removed]",
      "text/plain": [
       "<Figure size 576x432 with 1 Axes>"
      ]
     },
     "metadata": {
      "needs_background": "light"
     },
     "output_type": "display_data"
    }
   ],
   "source": [
    "import matplotlib.pyplot as plt #이닝수모델 변수 중요도\n",
    "import seaborn as sns\n",
    "%matplotlib inline\n",
    "\n",
    "ftr_importances_values = rf_inn.feature_importances_\n",
    "ftr_importances = pd.Series(ftr_importances_values, index=X_train_2.columns)\n",
    "ftr_top = ftr_importances.sort_values(ascending=False)[:20]\n",
    "\n",
    "plt.figure(figsize=(8, 6))\n",
    "sns.barplot(x=ftr_top, y=ftr_top.index)\n",
    "plt.show()"
   ]
  },
  {
   "cell_type": "markdown",
   "metadata": {},
   "source": [
    "## XGBOOST 방어율 모델"
   ]
  },
  {
   "cell_type": "code",
   "execution_count": 145,
   "metadata": {},
   "outputs": [],
   "source": [
    "import xgboost as xgb\n",
    "from xgboost import plot_importance\n",
    "import warnings\n",
    "warnings.filterwarnings('ignore')"
   ]
  },
  {
   "cell_type": "code",
   "execution_count": 146,
   "metadata": {},
   "outputs": [
    {
     "name": "stdout",
     "output_type": "stream",
     "text": [
      "|   iter    |  target   | colsam... |    eta    |   gamma   | max_depth | min_ch... | subsample |\n",
      "-------------------------------------------------------------------------------------------------\n",
      "| \u001b[0m 1       \u001b[0m | \u001b[0m-3.682   \u001b[0m | \u001b[0m 0.6293  \u001b[0m | \u001b[0m 0.243   \u001b[0m | \u001b[0m 0.6028  \u001b[0m | \u001b[0m 5.18    \u001b[0m | \u001b[0m 6.695   \u001b[0m | \u001b[0m 0.8938  \u001b[0m |\n",
      "| \u001b[95m 2       \u001b[0m | \u001b[95m-3.658   \u001b[0m | \u001b[95m 0.5626  \u001b[0m | \u001b[95m 0.2784  \u001b[0m | \u001b[95m 0.9637  \u001b[0m | \u001b[95m 4.534   \u001b[0m | \u001b[95m 8.167   \u001b[0m | \u001b[95m 0.8587  \u001b[0m |\n",
      "| \u001b[95m 3       \u001b[0m | \u001b[95m-3.519   \u001b[0m | \u001b[95m 0.6408  \u001b[0m | \u001b[95m 0.2851  \u001b[0m | \u001b[95m 0.07104 \u001b[0m | \u001b[95m 3.349   \u001b[0m | \u001b[95m 5.081   \u001b[0m | \u001b[95m 0.9498  \u001b[0m |\n",
      "| \u001b[95m 4       \u001b[0m | \u001b[95m-3.339   \u001b[0m | \u001b[95m 0.3     \u001b[0m | \u001b[95m 0.1     \u001b[0m | \u001b[95m 1.0     \u001b[0m | \u001b[95m 3.0     \u001b[0m | \u001b[95m 5.0     \u001b[0m | \u001b[95m 0.7     \u001b[0m |\n",
      "| \u001b[0m 5       \u001b[0m | \u001b[0m-3.5     \u001b[0m | \u001b[0m 0.845   \u001b[0m | \u001b[0m 0.2523  \u001b[0m | \u001b[0m 0.9849  \u001b[0m | \u001b[0m 3.153   \u001b[0m | \u001b[0m 5.016   \u001b[0m | \u001b[0m 0.8589  \u001b[0m |\n",
      "| \u001b[0m 6       \u001b[0m | \u001b[0m-3.606   \u001b[0m | \u001b[0m 0.3     \u001b[0m | \u001b[0m 0.1     \u001b[0m | \u001b[0m 1.0     \u001b[0m | \u001b[0m 7.0     \u001b[0m | \u001b[0m 5.0     \u001b[0m | \u001b[0m 0.7     \u001b[0m |\n",
      "| \u001b[95m 7       \u001b[0m | \u001b[95m-3.335   \u001b[0m | \u001b[95m 0.3     \u001b[0m | \u001b[95m 0.1     \u001b[0m | \u001b[95m 0.0     \u001b[0m | \u001b[95m 3.0     \u001b[0m | \u001b[95m 7.544   \u001b[0m | \u001b[95m 0.7     \u001b[0m |\n",
      "| \u001b[0m 8       \u001b[0m | \u001b[0m-3.337   \u001b[0m | \u001b[0m 0.3     \u001b[0m | \u001b[0m 0.1     \u001b[0m | \u001b[0m 1.0     \u001b[0m | \u001b[0m 3.0     \u001b[0m | \u001b[0m 6.652   \u001b[0m | \u001b[0m 0.7     \u001b[0m |\n",
      "=================================================================================================\n"
     ]
    }
   ],
   "source": [
    "# XGBOOST 자책점모델 베이지안 최적화\n",
    "import numpy as np\n",
    "import matplotlib\n",
    "from matplotlib import pyplot as plt\n",
    "from sklearn import datasets\n",
    "from sklearn.model_selection import cross_val_score\n",
    "from bayes_opt import BayesianOptimization\n",
    "import xgboost as xgb\n",
    "\n",
    "X_1 = ER_ONE1.iloc[:, :-1]\n",
    "y_1 = ER_ONE1.iloc[:, -1]\n",
    "X_train_1, X_test_1, y_train_1, y_test_1=train_test_split(X_1, y_1,\n",
    "                                                  test_size=0.2, random_state=0)\n",
    "                                                 \n",
    "dtrain = xgb.DMatrix(data=X_train_1, label=y_train_1)\n",
    "dtest = xgb.DMatrix(data=X_test_1, label=y_test_1)\n",
    "\n",
    "\n",
    "def xgb_evaluate(max_depth, gamma, colsample_bytree,min_child_weight,eta,subsample):\n",
    "    params = {'eval_metric': 'rmse',\n",
    "              'objective':'reg:squarederror',\n",
    "              'min_child_weight': min_child_weight,\n",
    "              'max_depth': int(max_depth),\n",
    "              'subsample': subsample,\n",
    "              'eta': eta,\n",
    "              'gamma': gamma,\n",
    "              'colsample_bytree': colsample_bytree}\n",
    "    # Used around 1000 boosting rounds in the full model\n",
    "    cv_result = xgb.cv(params, dtrain, num_boost_round=100, nfold=3)    \n",
    "    \n",
    "    # Bayesian optimization only knows how to maximize, not minimize, so return the negative RMSE\n",
    "    return -1.0 * cv_result['test-rmse-mean'].iloc[-1]\n",
    "\n",
    "xgb_bo = BayesianOptimization(xgb_evaluate, {'max_depth': (3, 7), \n",
    "                                             'gamma': (0, 1),\n",
    "                                             'colsample_bytree': (0.3, 0.9),\n",
    "                                            'min_child_weight': (5, 9),\n",
    "                                            'eta':(0.1, 0.3),\n",
    "                                            'subsample':(0.7,1.0)},random_state = 0 )\n",
    "# Use the expected improvement acquisition function to handle negative numbers\n",
    "# Optimally needs quite a few more initiation points and number of iterations\n",
    "xgb_bo.maximize(init_points=3, n_iter=5, acq='ei')"
   ]
  },
  {
   "cell_type": "code",
   "execution_count": 147,
   "metadata": {
    "scrolled": false
   },
   "outputs": [
    {
     "name": "stdout",
     "output_type": "stream",
     "text": [
      "[0]\ttrain-rmse:5.05586\teval-rmse:4.84954\n",
      "Multiple eval metrics have been passed: 'eval-rmse' will be used for early stopping.\n",
      "\n",
      "Will train until eval-rmse hasn't improved in 10 rounds.\n",
      "[1]\ttrain-rmse:4.76682\teval-rmse:4.56683\n",
      "[2]\ttrain-rmse:4.51619\teval-rmse:4.31907\n",
      "[3]\ttrain-rmse:4.30457\teval-rmse:4.11035\n",
      "[4]\ttrain-rmse:4.12522\teval-rmse:3.93717\n",
      "[5]\ttrain-rmse:3.97054\teval-rmse:3.78919\n",
      "[6]\ttrain-rmse:3.84141\teval-rmse:3.66804\n",
      "[7]\ttrain-rmse:3.72972\teval-rmse:3.56626\n",
      "[8]\ttrain-rmse:3.63462\teval-rmse:3.48235\n",
      "[9]\ttrain-rmse:3.55791\teval-rmse:3.41835\n",
      "[10]\ttrain-rmse:3.49426\teval-rmse:3.35992\n",
      "[11]\ttrain-rmse:3.44077\teval-rmse:3.31485\n",
      "[12]\ttrain-rmse:3.39726\teval-rmse:3.27758\n",
      "[13]\ttrain-rmse:3.35905\teval-rmse:3.24651\n",
      "[14]\ttrain-rmse:3.3295\teval-rmse:3.22378\n",
      "[15]\ttrain-rmse:3.30357\teval-rmse:3.20583\n",
      "[16]\ttrain-rmse:3.27937\teval-rmse:3.18959\n",
      "[17]\ttrain-rmse:3.26014\teval-rmse:3.17642\n",
      "[18]\ttrain-rmse:3.2433\teval-rmse:3.16576\n",
      "[19]\ttrain-rmse:3.23077\teval-rmse:3.15654\n",
      "[20]\ttrain-rmse:3.21815\teval-rmse:3.14873\n",
      "[21]\ttrain-rmse:3.20758\teval-rmse:3.14693\n",
      "[22]\ttrain-rmse:3.19791\teval-rmse:3.14622\n",
      "[23]\ttrain-rmse:3.18879\teval-rmse:3.14112\n",
      "[24]\ttrain-rmse:3.18098\teval-rmse:3.14062\n",
      "[25]\ttrain-rmse:3.1729\teval-rmse:3.14183\n",
      "[26]\ttrain-rmse:3.1663\teval-rmse:3.14296\n",
      "[27]\ttrain-rmse:3.16028\teval-rmse:3.14126\n",
      "[28]\ttrain-rmse:3.15558\teval-rmse:3.1414\n",
      "[29]\ttrain-rmse:3.15211\teval-rmse:3.14098\n",
      "[30]\ttrain-rmse:3.14561\teval-rmse:3.1401\n",
      "[31]\ttrain-rmse:3.14072\teval-rmse:3.13615\n",
      "[32]\ttrain-rmse:3.13747\teval-rmse:3.13936\n",
      "[33]\ttrain-rmse:3.1347\teval-rmse:3.14027\n",
      "[34]\ttrain-rmse:3.1313\teval-rmse:3.1412\n",
      "[35]\ttrain-rmse:3.12665\teval-rmse:3.14147\n",
      "[36]\ttrain-rmse:3.1225\teval-rmse:3.14133\n",
      "[37]\ttrain-rmse:3.1184\teval-rmse:3.14461\n",
      "[38]\ttrain-rmse:3.11691\teval-rmse:3.14469\n",
      "[39]\ttrain-rmse:3.11475\teval-rmse:3.14352\n",
      "[40]\ttrain-rmse:3.11033\teval-rmse:3.14731\n",
      "[41]\ttrain-rmse:3.10703\teval-rmse:3.14594\n",
      "Stopping. Best iteration:\n",
      "[31]\ttrain-rmse:3.14072\teval-rmse:3.13615\n",
      "\n"
     ]
    },
    {
     "data": {
      "text/plain": [
       "<matplotlib.axes._subplots.AxesSubplot at 0x220b913a208>"
      ]
     },
     "execution_count": 147,
     "metadata": {},
     "output_type": "execute_result"
    },
    {
     "data": {
      "image/png": "[encoded data removed]",
      "text/plain": [
       "<Figure size 1728x2448 with 1 Axes>"
      ]
     },
     "metadata": {
      "needs_background": "light"
     },
     "output_type": "display_data"
    }
   ],
   "source": [
    "# XGBOOST 자책점 모델 학습\n",
    "X_1 = ER_ONE1.iloc[:, :-1]\n",
    "y_1 = ER_ONE1.iloc[:, -1]\n",
    "X_train_1, X_test_1, y_train_1, y_test_1=train_test_split(X_1, y_1,\n",
    "                                                  test_size=0.2, random_state=0)\n",
    "                                                 \n",
    "dtrain = xgb.DMatrix(data=X_train_1, label=y_train_1)\n",
    "dtest = xgb.DMatrix(data=X_test_1, label=y_test_1)\n",
    "\n",
    "params = {\n",
    "         'max_depth': 3,\n",
    "         'eta': 0.1,\n",
    "         'objective':'reg:squarederror',\n",
    "         'eval_metric': 'rmse',\n",
    "         'early_stopings':10,\n",
    "         'gamma': 0,\n",
    "         'colsample_bytree':0.3,\n",
    "         'min_child_weight': 7.544,\n",
    "         'subsample': 0.7\n",
    "         }\n",
    "num_rounds = 500\n",
    "\n",
    "wlist = [(dtrain, 'train'),(dtest, 'eval')]\n",
    "xgb_er=xgb.train(params = params, dtrain=dtrain, num_boost_round=num_rounds, early_stopping_rounds=10, evals=wlist)\n",
    "\n",
    "pred = xgb_er.predict(dtest)\n",
    "\n",
    "\n",
    "\n",
    "from xgboost import plot_importance # 자책점모델의 변수 중요도\n",
    "import matplotlib.pyplot as plt\n",
    "%matplotlib inline\n",
    "\n",
    "fig, ax = plt.subplots(figsize=(24, 34))\n",
    "plot_importance(xgb_er, ax=ax)"
   ]
  },
  {
   "cell_type": "code",
   "execution_count": 148,
   "metadata": {},
   "outputs": [
    {
     "name": "stdout",
     "output_type": "stream",
     "text": [
      "RMSE':3.063345815278863\n"
     ]
    }
   ],
   "source": [
    "# test rmse\n",
    "ER_T= ER_2.drop(['R_TARGET','G_ID','T_ID','VS_T_ID', 'TB_SC', 'INN2_TARGET','GDAY_DS'], axis =1)\n",
    "a_1 = ER_T.iloc[:, :-1]\n",
    "b_1 = ER_T.iloc[:, -1]\n",
    "atest = xgb.DMatrix(data=a_1)\n",
    "xgb_er_predict = xgb_er.predict(atest)\n",
    "print(\"RMSE':{}\".format(math.sqrt(mean_squared_error(xgb_er_predict, b_1))) )"
   ]
  },
  {
   "cell_type": "code",
   "execution_count": 149,
   "metadata": {},
   "outputs": [
    {
     "name": "stdout",
     "output_type": "stream",
     "text": [
      "|   iter    |  target   | colsam... |    eta    |   gamma   | max_depth | min_ch... | subsample |\n",
      "-------------------------------------------------------------------------------------------------\n",
      "| \u001b[0m 1       \u001b[0m | \u001b[0m-2.505   \u001b[0m | \u001b[0m 0.6293  \u001b[0m | \u001b[0m 0.243   \u001b[0m | \u001b[0m 0.6028  \u001b[0m | \u001b[0m 5.18    \u001b[0m | \u001b[0m 6.695   \u001b[0m | \u001b[0m 0.8938  \u001b[0m |\n",
      "| \u001b[95m 2       \u001b[0m | \u001b[95m-2.46    \u001b[0m | \u001b[95m 0.5626  \u001b[0m | \u001b[95m 0.2784  \u001b[0m | \u001b[95m 0.9637  \u001b[0m | \u001b[95m 4.534   \u001b[0m | \u001b[95m 8.167   \u001b[0m | \u001b[95m 0.8587  \u001b[0m |\n",
      "| \u001b[95m 3       \u001b[0m | \u001b[95m-2.361   \u001b[0m | \u001b[95m 0.6408  \u001b[0m | \u001b[95m 0.2851  \u001b[0m | \u001b[95m 0.07104 \u001b[0m | \u001b[95m 3.349   \u001b[0m | \u001b[95m 5.081   \u001b[0m | \u001b[95m 0.9498  \u001b[0m |\n",
      "| \u001b[95m 4       \u001b[0m | \u001b[95m-2.212   \u001b[0m | \u001b[95m 0.9     \u001b[0m | \u001b[95m 0.1     \u001b[0m | \u001b[95m 0.0     \u001b[0m | \u001b[95m 3.0     \u001b[0m | \u001b[95m 9.0     \u001b[0m | \u001b[95m 1.0     \u001b[0m |\n",
      "| \u001b[0m 5       \u001b[0m | \u001b[0m-2.324   \u001b[0m | \u001b[0m 0.3366  \u001b[0m | \u001b[0m 0.2309  \u001b[0m | \u001b[0m 0.09991 \u001b[0m | \u001b[0m 3.018   \u001b[0m | \u001b[0m 8.891   \u001b[0m | \u001b[0m 0.758   \u001b[0m |\n",
      "| \u001b[0m 6       \u001b[0m | \u001b[0m-2.375   \u001b[0m | \u001b[0m 0.9     \u001b[0m | \u001b[0m 0.1     \u001b[0m | \u001b[0m 0.0     \u001b[0m | \u001b[0m 7.0     \u001b[0m | \u001b[0m 9.0     \u001b[0m | \u001b[0m 1.0     \u001b[0m |\n",
      "| \u001b[0m 7       \u001b[0m | \u001b[0m-2.321   \u001b[0m | \u001b[0m 0.8807  \u001b[0m | \u001b[0m 0.2048  \u001b[0m | \u001b[0m 0.04558 \u001b[0m | \u001b[0m 3.114   \u001b[0m | \u001b[0m 7.453   \u001b[0m | \u001b[0m 0.8248  \u001b[0m |\n",
      "| \u001b[0m 8       \u001b[0m | \u001b[0m-2.311   \u001b[0m | \u001b[0m 0.883   \u001b[0m | \u001b[0m 0.1931  \u001b[0m | \u001b[0m 0.9633  \u001b[0m | \u001b[0m 3.067   \u001b[0m | \u001b[0m 8.8     \u001b[0m | \u001b[0m 0.7286  \u001b[0m |\n",
      "=================================================================================================\n"
     ]
    }
   ],
   "source": [
    "# XGBOOST 이닝수 모델 베이지안 최적화\n",
    "X_2 = INN_ONE1.iloc[:, :-1]\n",
    "y_2 = INN_ONE1.iloc[:, -1]\n",
    "X_train_2, X_test_2, y_train_2, y_test_2=train_test_split(X_2, y_2,\n",
    "                                                  test_size=0.2, random_state=0)\n",
    "                                                 \n",
    "dtrain = xgb.DMatrix(data=X_train_2, label=y_train_2)\n",
    "dtest = xgb.DMatrix(data=X_test_2, label=y_test_2)\n",
    "\n",
    "\n",
    "def xgb_evaluate(max_depth, gamma, colsample_bytree,min_child_weight,eta,subsample):\n",
    "    params = {'eval_metric': 'rmse',\n",
    "              'objective':'reg:squarederror',\n",
    "              'min_child_weight': min_child_weight,\n",
    "              'max_depth': int(max_depth),\n",
    "              'subsample': subsample,\n",
    "              'eta': eta,\n",
    "              'gamma': gamma,\n",
    "              'colsample_bytree': colsample_bytree}\n",
    "    # Used around 1000 boosting rounds in the full model\n",
    "    cv_result = xgb.cv(params, dtrain, num_boost_round=100, nfold=3)    \n",
    "    \n",
    "    # Bayesian optimization only knows how to maximize, not minimize, so return the negative RMSE\n",
    "    return -1.0 * cv_result['test-rmse-mean'].iloc[-1]\n",
    "\n",
    "xgb_bo = BayesianOptimization(xgb_evaluate, {'max_depth': (3, 7), \n",
    "                                             'gamma': (0, 1),\n",
    "                                             'colsample_bytree': (0.3, 0.9),\n",
    "                                            'min_child_weight': (5, 9),\n",
    "                                            'eta':(0.1, 0.3),\n",
    "                                            'subsample':(0.7, 1.0)}, random_state=0)\n",
    "# Use the expected improvement acquisition function to handle negative numbers\n",
    "# Optimally needs quite a few more initiation points and number of iterations\n",
    "xgb_bo.maximize(init_points=3, n_iter=5, acq='ei')"
   ]
  },
  {
   "cell_type": "code",
   "execution_count": 150,
   "metadata": {
    "scrolled": false
   },
   "outputs": [
    {
     "name": "stdout",
     "output_type": "stream",
     "text": [
      "[0]\ttrain-rmse:23.6504\teval-rmse:23.6649\n",
      "Multiple eval metrics have been passed: 'eval-rmse' will be used for early stopping.\n",
      "\n",
      "Will train until eval-rmse hasn't improved in 10 rounds.\n",
      "[1]\ttrain-rmse:21.3069\teval-rmse:21.3204\n",
      "[2]\ttrain-rmse:19.1999\teval-rmse:19.2123\n",
      "[3]\ttrain-rmse:17.3061\teval-rmse:17.3173\n",
      "[4]\ttrain-rmse:15.6044\teval-rmse:15.6142\n",
      "[5]\ttrain-rmse:14.0759\teval-rmse:14.0843\n",
      "[6]\ttrain-rmse:12.7036\teval-rmse:12.7103\n",
      "[7]\ttrain-rmse:11.4723\teval-rmse:11.4772\n",
      "[8]\ttrain-rmse:10.3683\teval-rmse:10.3711\n",
      "[9]\ttrain-rmse:9.37906\teval-rmse:9.3797\n",
      "[10]\ttrain-rmse:8.49359\teval-rmse:8.4913\n",
      "[11]\ttrain-rmse:7.70192\teval-rmse:7.69667\n",
      "[12]\ttrain-rmse:6.99514\teval-rmse:6.98742\n",
      "[13]\ttrain-rmse:6.36506\teval-rmse:6.35426\n",
      "[14]\ttrain-rmse:5.80439\teval-rmse:5.79277\n",
      "[15]\ttrain-rmse:5.30669\teval-rmse:5.29507\n",
      "[16]\ttrain-rmse:4.8663\teval-rmse:4.85151\n",
      "[17]\ttrain-rmse:4.47699\teval-rmse:4.46131\n",
      "[18]\ttrain-rmse:4.13382\teval-rmse:4.11647\n",
      "[19]\ttrain-rmse:3.83338\teval-rmse:3.81502\n",
      "[20]\ttrain-rmse:3.57182\teval-rmse:3.55214\n",
      "[21]\ttrain-rmse:3.344\teval-rmse:3.32337\n",
      "[22]\ttrain-rmse:3.14672\teval-rmse:3.12632\n",
      "[23]\ttrain-rmse:2.97694\teval-rmse:2.95516\n",
      "[24]\ttrain-rmse:2.83181\teval-rmse:2.8096\n",
      "[25]\ttrain-rmse:2.70781\teval-rmse:2.68614\n",
      "[26]\ttrain-rmse:2.60271\teval-rmse:2.58134\n",
      "[27]\ttrain-rmse:2.51479\teval-rmse:2.49319\n",
      "[28]\ttrain-rmse:2.43882\teval-rmse:2.41911\n",
      "[29]\ttrain-rmse:2.37613\teval-rmse:2.35705\n",
      "[30]\ttrain-rmse:2.3229\teval-rmse:2.30592\n",
      "[31]\ttrain-rmse:2.27951\teval-rmse:2.2642\n",
      "[32]\ttrain-rmse:2.24405\teval-rmse:2.23011\n",
      "[33]\ttrain-rmse:2.21402\teval-rmse:2.20206\n",
      "[34]\ttrain-rmse:2.18872\teval-rmse:2.17841\n",
      "[35]\ttrain-rmse:2.16776\teval-rmse:2.15996\n",
      "[36]\ttrain-rmse:2.14964\teval-rmse:2.14491\n",
      "[37]\ttrain-rmse:2.13421\teval-rmse:2.13155\n",
      "[38]\ttrain-rmse:2.12028\teval-rmse:2.12099\n",
      "[39]\ttrain-rmse:2.1101\teval-rmse:2.1126\n",
      "[40]\ttrain-rmse:2.10103\teval-rmse:2.10624\n",
      "[41]\ttrain-rmse:2.09376\teval-rmse:2.10084\n",
      "[42]\ttrain-rmse:2.08668\teval-rmse:2.09699\n",
      "[43]\ttrain-rmse:2.0808\teval-rmse:2.09436\n",
      "[44]\ttrain-rmse:2.07471\teval-rmse:2.09158\n",
      "[45]\ttrain-rmse:2.0701\teval-rmse:2.08993\n",
      "[46]\ttrain-rmse:2.06519\teval-rmse:2.08772\n",
      "[47]\ttrain-rmse:2.06194\teval-rmse:2.08615\n",
      "[48]\ttrain-rmse:2.05824\teval-rmse:2.08604\n",
      "[49]\ttrain-rmse:2.05363\teval-rmse:2.08545\n",
      "[50]\ttrain-rmse:2.04987\teval-rmse:2.08444\n",
      "[51]\ttrain-rmse:2.04826\teval-rmse:2.08428\n",
      "[52]\ttrain-rmse:2.04561\teval-rmse:2.08398\n",
      "[53]\ttrain-rmse:2.04226\teval-rmse:2.08409\n",
      "[54]\ttrain-rmse:2.03872\teval-rmse:2.08402\n",
      "[55]\ttrain-rmse:2.036\teval-rmse:2.08272\n",
      "[56]\ttrain-rmse:2.03328\teval-rmse:2.08298\n",
      "[57]\ttrain-rmse:2.03125\teval-rmse:2.08258\n",
      "[58]\ttrain-rmse:2.02862\teval-rmse:2.08284\n",
      "[59]\ttrain-rmse:2.0277\teval-rmse:2.08346\n",
      "[60]\ttrain-rmse:2.02569\teval-rmse:2.08404\n",
      "[61]\ttrain-rmse:2.02441\teval-rmse:2.08467\n",
      "[62]\ttrain-rmse:2.02285\teval-rmse:2.08503\n",
      "[63]\ttrain-rmse:2.02105\teval-rmse:2.08581\n",
      "[64]\ttrain-rmse:2.01911\teval-rmse:2.08516\n",
      "[65]\ttrain-rmse:2.01573\teval-rmse:2.0852\n",
      "[66]\ttrain-rmse:2.01314\teval-rmse:2.0866\n",
      "[67]\ttrain-rmse:2.0113\teval-rmse:2.0867\n",
      "Stopping. Best iteration:\n",
      "[57]\ttrain-rmse:2.03125\teval-rmse:2.08258\n",
      "\n"
     ]
    },
    {
     "data": {
      "text/plain": [
       "<matplotlib.axes._subplots.AxesSubplot at 0x220b6123f48>"
      ]
     },
     "execution_count": 150,
     "metadata": {},
     "output_type": "execute_result"
    },
    {
     "data": {
      "image/png": "[encoded data removed]",
      "text/plain": [
       "<Figure size 1728x2448 with 1 Axes>"
      ]
     },
     "metadata": {
      "needs_background": "light"
     },
     "output_type": "display_data"
    }
   ],
   "source": [
    "# XGBOOST 이닝수 모델 학습\n",
    "X_2 = INN_ONE1.iloc[:, :-1]\n",
    "y_2 = INN_ONE1.iloc[:, -1]\n",
    "X_train_2, X_test_2, y_train_2, y_test_2=train_test_split(X_2, y_2,\n",
    "                                                  test_size=0.2, random_state=0)\n",
    "                                                 \n",
    "dtrain = xgb.DMatrix(data=X_train_2, label=y_train_2)\n",
    "dtest = xgb.DMatrix(data=X_test_2, label=y_test_2)\n",
    "\n",
    "params = {'max_depth': 3,\n",
    "         'eta': 0.1,\n",
    "         'objective':'reg:squarederror',\n",
    "         'eval_metric': 'rmse',\n",
    "         'early_stopings':10,\n",
    "         'gamma': 0,\n",
    "         'colsample_bytree':0.9,\n",
    "         'min_child_weight':9,\n",
    "         'subsample': 1.0\n",
    "         }\n",
    "num_rounds = 500\n",
    "\n",
    "wlist = [(dtrain, 'train'),(dtest, 'eval')]\n",
    "xgb_inn =xgb.train(params = params, dtrain=dtrain, num_boost_round=num_rounds, early_stopping_rounds=10, evals=wlist)\n",
    "\n",
    "pred = xgb_inn.predict(dtest)\n",
    "\n",
    "\n",
    "\n",
    "from xgboost import plot_importance # 타수 모델 변수 중요도\n",
    "import matplotlib.pyplot as plt\n",
    "%matplotlib inline\n",
    "\n",
    "fig, ax = plt.subplots(figsize=(24, 34))\n",
    "plot_importance(xgb_inn, ax=ax)"
   ]
  },
  {
   "cell_type": "code",
   "execution_count": 151,
   "metadata": {},
   "outputs": [
    {
     "name": "stdout",
     "output_type": "stream",
     "text": [
      "RMSE':2.0777022719974125\n"
     ]
    }
   ],
   "source": [
    "# test rmse\n",
    "INN_T= INN_2.drop(['R_TARGET','G_ID','T_ID','VS_T_ID', 'TB_SC', 'ER_TARGET','GDAY_DS'], axis =1)\n",
    "a_2 = INN_T.iloc[:, :-1]\n",
    "b_2 = INN_T.iloc[:, -1]\n",
    "a1test = xgb.DMatrix(data=a_2)\n",
    "xgb_INN_predict = xgb_inn.predict(a1test)\n",
    "print(\"RMSE':{}\".format(math.sqrt(mean_squared_error(xgb_INN_predict, b_2))) )"
   ]
  },
  {
   "cell_type": "markdown",
   "metadata": {},
   "source": [
    "## LIGHTGBM 방어율 모델"
   ]
  },
  {
   "cell_type": "code",
   "execution_count": 152,
   "metadata": {},
   "outputs": [],
   "source": [
    "from lightgbm import LGBMRegressor\n",
    "import warnings\n",
    "warnings.filterwarnings('ignore')"
   ]
  },
  {
   "cell_type": "code",
   "execution_count": 153,
   "metadata": {},
   "outputs": [
    {
     "name": "stdout",
     "output_type": "stream",
     "text": [
      "|   iter    |  target   | colsam... | learni... | maxDepth  | min_ch... | num_le... | subsample |\n",
      "-------------------------------------------------------------------------------------------------\n",
      "| \u001b[0m 1       \u001b[0m | \u001b[0m-3.137   \u001b[0m | \u001b[0m 0.7085  \u001b[0m | \u001b[0m 0.2189  \u001b[0m | \u001b[0m 3.001   \u001b[0m | \u001b[0m 6.209   \u001b[0m | \u001b[0m 27.08   \u001b[0m | \u001b[0m 0.8185  \u001b[0m |\n",
      "| \u001b[95m 2       \u001b[0m | \u001b[95m-3.129   \u001b[0m | \u001b[95m 0.5931  \u001b[0m | \u001b[95m 0.1102  \u001b[0m | \u001b[95m 5.777   \u001b[0m | \u001b[95m 7.155   \u001b[0m | \u001b[95m 32.8    \u001b[0m | \u001b[95m 0.937   \u001b[0m |\n",
      "| \u001b[0m 3       \u001b[0m | \u001b[0m-3.141   \u001b[0m | \u001b[0m 0.6022  \u001b[0m | \u001b[0m 0.2647  \u001b[0m | \u001b[0m 3.192   \u001b[0m | \u001b[0m 7.682   \u001b[0m | \u001b[0m 32.76   \u001b[0m | \u001b[0m 0.9117  \u001b[0m |\n",
      "| \u001b[0m 4       \u001b[0m | \u001b[0m-3.134   \u001b[0m | \u001b[0m 0.5702  \u001b[0m | \u001b[0m 0.06745 \u001b[0m | \u001b[0m 8.605   \u001b[0m | \u001b[0m 8.873   \u001b[0m | \u001b[0m 30.58   \u001b[0m | \u001b[0m 0.9385  \u001b[0m |\n",
      "| \u001b[0m 5       \u001b[0m | \u001b[0m-3.138   \u001b[0m | \u001b[0m 0.9382  \u001b[0m | \u001b[0m 0.2694  \u001b[0m | \u001b[0m 3.595   \u001b[0m | \u001b[0m 5.156   \u001b[0m | \u001b[0m 27.57   \u001b[0m | \u001b[0m 0.9756  \u001b[0m |\n",
      "| \u001b[0m 6       \u001b[0m | \u001b[0m-3.151   \u001b[0m | \u001b[0m 0.7915  \u001b[0m | \u001b[0m 0.2058  \u001b[0m | \u001b[0m 9.692   \u001b[0m | \u001b[0m 5.734   \u001b[0m | \u001b[0m 44.99   \u001b[0m | \u001b[0m 0.8884  \u001b[0m |\n",
      "| \u001b[0m 7       \u001b[0m | \u001b[0m-3.138   \u001b[0m | \u001b[0m 0.6817  \u001b[0m | \u001b[0m 0.1134  \u001b[0m | \u001b[0m 9.982   \u001b[0m | \u001b[0m 5.025   \u001b[0m | \u001b[0m 24.25   \u001b[0m | \u001b[0m 0.9584  \u001b[0m |\n",
      "| \u001b[0m 8       \u001b[0m | \u001b[0m-3.138   \u001b[0m | \u001b[0m 0.511   \u001b[0m | \u001b[0m 0.01078 \u001b[0m | \u001b[0m 9.887   \u001b[0m | \u001b[0m 5.03    \u001b[0m | \u001b[0m 37.3    \u001b[0m | \u001b[0m 0.9438  \u001b[0m |\n",
      "| \u001b[0m 9       \u001b[0m | \u001b[0m-3.136   \u001b[0m | \u001b[0m 0.6565  \u001b[0m | \u001b[0m 0.02664 \u001b[0m | \u001b[0m 3.046   \u001b[0m | \u001b[0m 5.264   \u001b[0m | \u001b[0m 44.71   \u001b[0m | \u001b[0m 0.8881  \u001b[0m |\n",
      "| \u001b[0m 10      \u001b[0m | \u001b[0m-3.134   \u001b[0m | \u001b[0m 0.7137  \u001b[0m | \u001b[0m 0.03514 \u001b[0m | \u001b[0m 6.017   \u001b[0m | \u001b[0m 8.903   \u001b[0m | \u001b[0m 45.0    \u001b[0m | \u001b[0m 0.9025  \u001b[0m |\n",
      "=================================================================================================\n"
     ]
    }
   ],
   "source": [
    "# LIGHTGBM 자책점 모델 베이지안 최적화\n",
    "def modelFitter(colsampleByTree, subsample,maxDepth, num_leaves,learning_rate,min_child_weight):\n",
    "    X_1 = ER_ONE1.iloc[:, :-1]\n",
    "    y_1 = ER_ONE1.iloc[:, -1]\n",
    "    X_train_1, X_test_1, y_train_1, y_test_1=train_test_split(X_1, y_1,\n",
    "                                                  test_size=0.2, random_state=0)\n",
    "    model = LGBMRegressor(learning_rate=learning_rate, n_estimators=10000, max_depth=maxDepth.astype(\"int32\"), subsample=subsample, colsample_bytree=colsampleByTree,num_leaves=num_leaves.astype(\"int32\"),min_child_weight=min_child_weight)\n",
    "\n",
    "    evalSet  = [(X_test_1, y_test_1)]\n",
    "    model.fit(X_train_1, y_train_1, eval_metric=\"rmse\", eval_set=evalSet, early_stopping_rounds=50, verbose=False)\n",
    "\n",
    "    bestScore = model.best_score_[list(model.best_score_.keys())[0]]['rmse']\n",
    "\n",
    "    return -bestScore\n",
    "\n",
    "# Bounded region of parameter space\n",
    "pbounds = {'colsampleByTree': (0.5,1.0), 'subsample': (0.8,1.0), 'maxDepth': (3,10), 'num_leaves': (24, 45),'learning_rate':(0.01,0.3),'min_child_weight':(5,9)}\n",
    "\n",
    "optimizer = BayesianOptimization(\n",
    "    f=modelFitter,\n",
    "    pbounds=pbounds,\n",
    "    random_state=1)\n",
    "\n",
    "optimizer.maximize(init_points=5,n_iter=5) "
   ]
  },
  {
   "cell_type": "code",
   "execution_count": 154,
   "metadata": {},
   "outputs": [
    {
     "name": "stdout",
     "output_type": "stream",
     "text": [
      "[1]\tvalid_0's rmse: 3.13816\tvalid_0's l2: 9.84802\n",
      "Training until validation scores don't improve for 100 rounds\n",
      "[2]\tvalid_0's rmse: 3.14001\tvalid_0's l2: 9.85963\n",
      "[3]\tvalid_0's rmse: 3.13968\tvalid_0's l2: 9.85757\n",
      "[4]\tvalid_0's rmse: 3.14231\tvalid_0's l2: 9.87414\n",
      "[5]\tvalid_0's rmse: 3.14377\tvalid_0's l2: 9.88327\n",
      "[6]\tvalid_0's rmse: 3.14675\tvalid_0's l2: 9.90205\n",
      "[7]\tvalid_0's rmse: 3.14866\tvalid_0's l2: 9.91404\n",
      "[8]\tvalid_0's rmse: 3.15107\tvalid_0's l2: 9.92925\n",
      "[9]\tvalid_0's rmse: 3.14777\tvalid_0's l2: 9.90846\n",
      "[10]\tvalid_0's rmse: 3.1513\tvalid_0's l2: 9.93072\n",
      "[11]\tvalid_0's rmse: 3.15249\tvalid_0's l2: 9.9382\n",
      "[12]\tvalid_0's rmse: 3.15643\tvalid_0's l2: 9.96305\n",
      "[13]\tvalid_0's rmse: 3.15754\tvalid_0's l2: 9.97005\n",
      "[14]\tvalid_0's rmse: 3.15389\tvalid_0's l2: 9.947\n",
      "[15]\tvalid_0's rmse: 3.15651\tvalid_0's l2: 9.96358\n",
      "[16]\tvalid_0's rmse: 3.16094\tvalid_0's l2: 9.99152\n",
      "[17]\tvalid_0's rmse: 3.16381\tvalid_0's l2: 10.0097\n",
      "[18]\tvalid_0's rmse: 3.16773\tvalid_0's l2: 10.0345\n",
      "[19]\tvalid_0's rmse: 3.1724\tvalid_0's l2: 10.0641\n",
      "[20]\tvalid_0's rmse: 3.17678\tvalid_0's l2: 10.092\n",
      "[21]\tvalid_0's rmse: 3.17757\tvalid_0's l2: 10.0969\n",
      "[22]\tvalid_0's rmse: 3.18121\tvalid_0's l2: 10.1201\n",
      "[23]\tvalid_0's rmse: 3.18227\tvalid_0's l2: 10.1268\n",
      "[24]\tvalid_0's rmse: 3.18558\tvalid_0's l2: 10.1479\n",
      "[25]\tvalid_0's rmse: 3.18997\tvalid_0's l2: 10.1759\n",
      "[26]\tvalid_0's rmse: 3.19453\tvalid_0's l2: 10.205\n",
      "[27]\tvalid_0's rmse: 3.19662\tvalid_0's l2: 10.2184\n",
      "[28]\tvalid_0's rmse: 3.19801\tvalid_0's l2: 10.2273\n",
      "[29]\tvalid_0's rmse: 3.20243\tvalid_0's l2: 10.2556\n",
      "[30]\tvalid_0's rmse: 3.2047\tvalid_0's l2: 10.2701\n",
      "[31]\tvalid_0's rmse: 3.20661\tvalid_0's l2: 10.2824\n",
      "[32]\tvalid_0's rmse: 3.212\tvalid_0's l2: 10.317\n",
      "[33]\tvalid_0's rmse: 3.21358\tvalid_0's l2: 10.3271\n",
      "[34]\tvalid_0's rmse: 3.21624\tvalid_0's l2: 10.3442\n",
      "[35]\tvalid_0's rmse: 3.21814\tvalid_0's l2: 10.3564\n",
      "[36]\tvalid_0's rmse: 3.22138\tvalid_0's l2: 10.3773\n",
      "[37]\tvalid_0's rmse: 3.22247\tvalid_0's l2: 10.3843\n",
      "[38]\tvalid_0's rmse: 3.22701\tvalid_0's l2: 10.4136\n",
      "[39]\tvalid_0's rmse: 3.23038\tvalid_0's l2: 10.4354\n",
      "[40]\tvalid_0's rmse: 3.23566\tvalid_0's l2: 10.4695\n",
      "[41]\tvalid_0's rmse: 3.23682\tvalid_0's l2: 10.477\n",
      "[42]\tvalid_0's rmse: 3.24549\tvalid_0's l2: 10.5332\n",
      "[43]\tvalid_0's rmse: 3.24553\tvalid_0's l2: 10.5335\n",
      "[44]\tvalid_0's rmse: 3.24835\tvalid_0's l2: 10.5518\n",
      "[45]\tvalid_0's rmse: 3.24814\tvalid_0's l2: 10.5504\n",
      "[46]\tvalid_0's rmse: 3.25416\tvalid_0's l2: 10.5896\n",
      "[47]\tvalid_0's rmse: 3.25731\tvalid_0's l2: 10.6101\n",
      "[48]\tvalid_0's rmse: 3.25886\tvalid_0's l2: 10.6202\n",
      "[49]\tvalid_0's rmse: 3.26251\tvalid_0's l2: 10.644\n",
      "[50]\tvalid_0's rmse: 3.26651\tvalid_0's l2: 10.6701\n",
      "[51]\tvalid_0's rmse: 3.26892\tvalid_0's l2: 10.6859\n",
      "[52]\tvalid_0's rmse: 3.27418\tvalid_0's l2: 10.7203\n",
      "[53]\tvalid_0's rmse: 3.27623\tvalid_0's l2: 10.7337\n",
      "[54]\tvalid_0's rmse: 3.27908\tvalid_0's l2: 10.7524\n",
      "[55]\tvalid_0's rmse: 3.28007\tvalid_0's l2: 10.7588\n",
      "[56]\tvalid_0's rmse: 3.28466\tvalid_0's l2: 10.789\n",
      "[57]\tvalid_0's rmse: 3.28905\tvalid_0's l2: 10.8178\n",
      "[58]\tvalid_0's rmse: 3.29014\tvalid_0's l2: 10.825\n",
      "[59]\tvalid_0's rmse: 3.29216\tvalid_0's l2: 10.8383\n",
      "[60]\tvalid_0's rmse: 3.29372\tvalid_0's l2: 10.8486\n",
      "[61]\tvalid_0's rmse: 3.2968\tvalid_0's l2: 10.8689\n",
      "[62]\tvalid_0's rmse: 3.30014\tvalid_0's l2: 10.8909\n",
      "[63]\tvalid_0's rmse: 3.30239\tvalid_0's l2: 10.9058\n",
      "[64]\tvalid_0's rmse: 3.30553\tvalid_0's l2: 10.9265\n",
      "[65]\tvalid_0's rmse: 3.3057\tvalid_0's l2: 10.9276\n",
      "[66]\tvalid_0's rmse: 3.31052\tvalid_0's l2: 10.9596\n",
      "[67]\tvalid_0's rmse: 3.30947\tvalid_0's l2: 10.9526\n",
      "[68]\tvalid_0's rmse: 3.30928\tvalid_0's l2: 10.9513\n",
      "[69]\tvalid_0's rmse: 3.30917\tvalid_0's l2: 10.9506\n",
      "[70]\tvalid_0's rmse: 3.3127\tvalid_0's l2: 10.9739\n",
      "[71]\tvalid_0's rmse: 3.31477\tvalid_0's l2: 10.9877\n",
      "[72]\tvalid_0's rmse: 3.31738\tvalid_0's l2: 11.005\n",
      "[73]\tvalid_0's rmse: 3.31848\tvalid_0's l2: 11.0123\n",
      "[74]\tvalid_0's rmse: 3.32218\tvalid_0's l2: 11.0369\n",
      "[75]\tvalid_0's rmse: 3.32385\tvalid_0's l2: 11.048\n",
      "[76]\tvalid_0's rmse: 3.32612\tvalid_0's l2: 11.0631\n",
      "[77]\tvalid_0's rmse: 3.32903\tvalid_0's l2: 11.0824\n",
      "[78]\tvalid_0's rmse: 3.33053\tvalid_0's l2: 11.0924\n",
      "[79]\tvalid_0's rmse: 3.33445\tvalid_0's l2: 11.1186\n",
      "[80]\tvalid_0's rmse: 3.33806\tvalid_0's l2: 11.1427\n",
      "[81]\tvalid_0's rmse: 3.3429\tvalid_0's l2: 11.175\n",
      "[82]\tvalid_0's rmse: 3.3469\tvalid_0's l2: 11.2017\n",
      "[83]\tvalid_0's rmse: 3.34839\tvalid_0's l2: 11.2117\n",
      "[84]\tvalid_0's rmse: 3.35257\tvalid_0's l2: 11.2397\n",
      "[85]\tvalid_0's rmse: 3.35533\tvalid_0's l2: 11.2582\n",
      "[86]\tvalid_0's rmse: 3.35748\tvalid_0's l2: 11.2727\n",
      "[87]\tvalid_0's rmse: 3.36002\tvalid_0's l2: 11.2898\n",
      "[88]\tvalid_0's rmse: 3.36384\tvalid_0's l2: 11.3154\n",
      "[89]\tvalid_0's rmse: 3.36371\tvalid_0's l2: 11.3145\n",
      "[90]\tvalid_0's rmse: 3.36662\tvalid_0's l2: 11.3341\n",
      "[91]\tvalid_0's rmse: 3.36627\tvalid_0's l2: 11.3317\n",
      "[92]\tvalid_0's rmse: 3.36868\tvalid_0's l2: 11.348\n",
      "[93]\tvalid_0's rmse: 3.37249\tvalid_0's l2: 11.3737\n",
      "[94]\tvalid_0's rmse: 3.37423\tvalid_0's l2: 11.3854\n",
      "[95]\tvalid_0's rmse: 3.37295\tvalid_0's l2: 11.3768\n",
      "[96]\tvalid_0's rmse: 3.37474\tvalid_0's l2: 11.3888\n",
      "[97]\tvalid_0's rmse: 3.37776\tvalid_0's l2: 11.4093\n",
      "[98]\tvalid_0's rmse: 3.38004\tvalid_0's l2: 11.4246\n",
      "[99]\tvalid_0's rmse: 3.38223\tvalid_0's l2: 11.4395\n",
      "[100]\tvalid_0's rmse: 3.38345\tvalid_0's l2: 11.4477\n",
      "[101]\tvalid_0's rmse: 3.38515\tvalid_0's l2: 11.4592\n",
      "Early stopping, best iteration is:\n",
      "[1]\tvalid_0's rmse: 3.13816\tvalid_0's l2: 9.84802\n"
     ]
    },
    {
     "data": {
      "text/plain": [
       "<matplotlib.axes._subplots.AxesSubplot at 0x220b688a588>"
      ]
     },
     "execution_count": 154,
     "metadata": {},
     "output_type": "execute_result"
    },
    {
     "data": {
      "image/png": "[encoded data removed]",
      "text/plain": [
       "<Figure size 1008x1728 with 1 Axes>"
      ]
     },
     "metadata": {
      "needs_background": "light"
     },
     "output_type": "display_data"
    }
   ],
   "source": [
    "# LIGHTGBM 자책점 모델 학습\n",
    "X_1 = ER_ONE1.iloc[:, :-1]\n",
    "y_1 = ER_ONE1.iloc[:, -1]\n",
    "X_train_1, X_test_1, y_train_1, y_test_1=train_test_split(X_1, y_1,\n",
    "                                                  test_size=0.2, random_state=0)\n",
    "                        \n",
    "lgbm_er = LGBMRegressor(n_estimators=300, learning_rate=0.1102, num_leaves=33, sumbsample=0.937, colsample_bytree=0.5931, max_depth=10,\n",
    "                             min_child_weight=7.155)\n",
    "evals = [(X_test_1, y_test_1)]\n",
    "lgbm_er.fit(X_train_1, y_train_1, early_stopping_rounds=100, eval_metric='rmse', eval_set=evals, verbose=True)\n",
    "preds = lgbm_er.predict(X_test_1)\n",
    "\n",
    "from lightgbm import plot_importance # 안타수모델의 변수 중요도\n",
    "import matplotlib.pyplot as plt\n",
    "%matplotlib inline\n",
    "\n",
    "fig, ax = plt.subplots(figsize=(14, 24))\n",
    "plot_importance(lgbm_er, ax=ax)"
   ]
  },
  {
   "cell_type": "code",
   "execution_count": 155,
   "metadata": {},
   "outputs": [
    {
     "name": "stdout",
     "output_type": "stream",
     "text": [
      "RMSE':3.2518941158038657\n"
     ]
    }
   ],
   "source": [
    "# train rmse\n",
    "lgbm_er_predict = lgbm_er.predict(X_train_1)\n",
    "print(\"RMSE':{}\".format(math.sqrt(mean_squared_error(lgbm_er_predict, y_train_1))) )"
   ]
  },
  {
   "cell_type": "code",
   "execution_count": 156,
   "metadata": {},
   "outputs": [
    {
     "name": "stdout",
     "output_type": "stream",
     "text": [
      "RMSE':3.059503525692016\n"
     ]
    }
   ],
   "source": [
    "# test rmse\n",
    "ER_T= ER_2.drop(['R_TARGET','G_ID','T_ID','VS_T_ID', 'TB_SC', 'INN2_TARGET','GDAY_DS'], axis =1)\n",
    "a_1 = ER_T.iloc[:, :-1]\n",
    "b_1 = ER_T.iloc[:, -1]\n",
    "lgbm_er_predict = lgbm_er.predict(a_1)\n",
    "print(\"RMSE':{}\".format(math.sqrt(mean_squared_error(lgbm_er_predict, b_1))) )"
   ]
  },
  {
   "cell_type": "code",
   "execution_count": 157,
   "metadata": {},
   "outputs": [
    {
     "name": "stdout",
     "output_type": "stream",
     "text": [
      "|   iter    |  target   | colsam... | learni... | maxDepth  | min_ch... | num_le... | subsample |\n",
      "-------------------------------------------------------------------------------------------------\n",
      "| \u001b[0m 1       \u001b[0m | \u001b[0m-2.063   \u001b[0m | \u001b[0m 0.7085  \u001b[0m | \u001b[0m 0.2189  \u001b[0m | \u001b[0m 3.001   \u001b[0m | \u001b[0m 6.209   \u001b[0m | \u001b[0m 27.08   \u001b[0m | \u001b[0m 0.8185  \u001b[0m |\n",
      "| \u001b[95m 2       \u001b[0m | \u001b[95m-2.06    \u001b[0m | \u001b[95m 0.5931  \u001b[0m | \u001b[95m 0.1102  \u001b[0m | \u001b[95m 5.777   \u001b[0m | \u001b[95m 7.155   \u001b[0m | \u001b[95m 32.8    \u001b[0m | \u001b[95m 0.937   \u001b[0m |\n",
      "| \u001b[0m 3       \u001b[0m | \u001b[0m-2.062   \u001b[0m | \u001b[0m 0.6022  \u001b[0m | \u001b[0m 0.2647  \u001b[0m | \u001b[0m 3.192   \u001b[0m | \u001b[0m 7.682   \u001b[0m | \u001b[0m 32.76   \u001b[0m | \u001b[0m 0.9117  \u001b[0m |\n",
      "| \u001b[0m 4       \u001b[0m | \u001b[0m-2.061   \u001b[0m | \u001b[0m 0.5702  \u001b[0m | \u001b[0m 0.06745 \u001b[0m | \u001b[0m 8.605   \u001b[0m | \u001b[0m 8.873   \u001b[0m | \u001b[0m 30.58   \u001b[0m | \u001b[0m 0.9385  \u001b[0m |\n",
      "| \u001b[0m 5       \u001b[0m | \u001b[0m-2.063   \u001b[0m | \u001b[0m 0.9382  \u001b[0m | \u001b[0m 0.2694  \u001b[0m | \u001b[0m 3.595   \u001b[0m | \u001b[0m 5.156   \u001b[0m | \u001b[0m 27.57   \u001b[0m | \u001b[0m 0.9756  \u001b[0m |\n",
      "| \u001b[0m 6       \u001b[0m | \u001b[0m-2.063   \u001b[0m | \u001b[0m 0.7915  \u001b[0m | \u001b[0m 0.2058  \u001b[0m | \u001b[0m 9.692   \u001b[0m | \u001b[0m 5.734   \u001b[0m | \u001b[0m 44.99   \u001b[0m | \u001b[0m 0.8884  \u001b[0m |\n",
      "| \u001b[0m 7       \u001b[0m | \u001b[0m-2.06    \u001b[0m | \u001b[0m 0.6826  \u001b[0m | \u001b[0m 0.0725  \u001b[0m | \u001b[0m 9.997   \u001b[0m | \u001b[0m 8.994   \u001b[0m | \u001b[0m 44.82   \u001b[0m | \u001b[0m 0.8341  \u001b[0m |\n",
      "| \u001b[0m 8       \u001b[0m | \u001b[0m-2.065   \u001b[0m | \u001b[0m 0.9211  \u001b[0m | \u001b[0m 0.1398  \u001b[0m | \u001b[0m 9.872   \u001b[0m | \u001b[0m 8.754   \u001b[0m | \u001b[0m 44.74   \u001b[0m | \u001b[0m 0.9058  \u001b[0m |\n",
      "| \u001b[0m 9       \u001b[0m | \u001b[0m-2.062   \u001b[0m | \u001b[0m 0.5384  \u001b[0m | \u001b[0m 0.2555  \u001b[0m | \u001b[0m 9.51    \u001b[0m | \u001b[0m 8.956   \u001b[0m | \u001b[0m 24.04   \u001b[0m | \u001b[0m 0.8022  \u001b[0m |\n",
      "| \u001b[0m 10      \u001b[0m | \u001b[0m-2.064   \u001b[0m | \u001b[0m 0.9007  \u001b[0m | \u001b[0m 0.2451  \u001b[0m | \u001b[0m 9.77    \u001b[0m | \u001b[0m 7.724   \u001b[0m | \u001b[0m 24.01   \u001b[0m | \u001b[0m 0.9551  \u001b[0m |\n",
      "=================================================================================================\n"
     ]
    }
   ],
   "source": [
    "# LIGHTGBM 이닝수 모델 베이지안 최적화 \n",
    "def modelFitter(colsampleByTree, subsample,maxDepth, num_leaves,learning_rate,min_child_weight):\n",
    "    X_2 = INN_ONE1.iloc[:, :-1]\n",
    "    y_2 = INN_ONE1.iloc[:, -1]\n",
    "    X_train_2, X_test_2, y_train_2, y_test_2=train_test_split(X_2, y_2,\n",
    "                                                  test_size=0.2, random_state=0)\n",
    "    model = LGBMRegressor(learning_rate=learning_rate, n_estimators=10000, max_depth=maxDepth.astype(\"int32\"), subsample=subsample, colsample_bytree=colsampleByTree,num_leaves=num_leaves.astype(\"int32\"),min_child_weight=min_child_weight)\n",
    "\n",
    "    evalSet  = [(X_test_2, y_test_2)]\n",
    "    model.fit(X_train_2, y_train_2, eval_metric=\"rmse\", eval_set=evalSet, early_stopping_rounds=50, verbose=False)\n",
    "\n",
    "    bestScore = model.best_score_[list(model.best_score_.keys())[0]]['rmse']\n",
    "\n",
    "    return -bestScore\n",
    "\n",
    "# Bounded region of parameter space\n",
    "pbounds = {'colsampleByTree': (0.5,1.0), 'subsample': (0.8,1.0), 'maxDepth': (3,10), 'num_leaves': (24, 45),'learning_rate':(0.01,0.3),'min_child_weight':(5,9)}\n",
    "\n",
    "optimizer = BayesianOptimization(\n",
    "    f=modelFitter,\n",
    "    pbounds=pbounds,\n",
    "    random_state=1)\n",
    "\n",
    "optimizer.maximize(init_points=5,n_iter=5)"
   ]
  },
  {
   "cell_type": "code",
   "execution_count": 158,
   "metadata": {},
   "outputs": [
    {
     "name": "stdout",
     "output_type": "stream",
     "text": [
      "[1]\tvalid_0's rmse: 2.06103\tvalid_0's l2: 4.24784\n",
      "Training until validation scores don't improve for 100 rounds\n",
      "[2]\tvalid_0's rmse: 2.06258\tvalid_0's l2: 4.25423\n",
      "[3]\tvalid_0's rmse: 2.06361\tvalid_0's l2: 4.25848\n",
      "[4]\tvalid_0's rmse: 2.06378\tvalid_0's l2: 4.25917\n",
      "[5]\tvalid_0's rmse: 2.06248\tvalid_0's l2: 4.25384\n",
      "[6]\tvalid_0's rmse: 2.06304\tvalid_0's l2: 4.25611\n",
      "[7]\tvalid_0's rmse: 2.06415\tvalid_0's l2: 4.26073\n",
      "[8]\tvalid_0's rmse: 2.06615\tvalid_0's l2: 4.26896\n",
      "[9]\tvalid_0's rmse: 2.06771\tvalid_0's l2: 4.27542\n",
      "[10]\tvalid_0's rmse: 2.06798\tvalid_0's l2: 4.27655\n",
      "[11]\tvalid_0's rmse: 2.0704\tvalid_0's l2: 4.28654\n",
      "[12]\tvalid_0's rmse: 2.0721\tvalid_0's l2: 4.29361\n",
      "[13]\tvalid_0's rmse: 2.07568\tvalid_0's l2: 4.30844\n",
      "[14]\tvalid_0's rmse: 2.07806\tvalid_0's l2: 4.31833\n",
      "[15]\tvalid_0's rmse: 2.07764\tvalid_0's l2: 4.3166\n",
      "[16]\tvalid_0's rmse: 2.08165\tvalid_0's l2: 4.33328\n",
      "[17]\tvalid_0's rmse: 2.08169\tvalid_0's l2: 4.33344\n",
      "[18]\tvalid_0's rmse: 2.08177\tvalid_0's l2: 4.33377\n",
      "[19]\tvalid_0's rmse: 2.0828\tvalid_0's l2: 4.33804\n",
      "[20]\tvalid_0's rmse: 2.08456\tvalid_0's l2: 4.34537\n",
      "[21]\tvalid_0's rmse: 2.08499\tvalid_0's l2: 4.34717\n",
      "[22]\tvalid_0's rmse: 2.08532\tvalid_0's l2: 4.34857\n",
      "[23]\tvalid_0's rmse: 2.08516\tvalid_0's l2: 4.34789\n",
      "[24]\tvalid_0's rmse: 2.08582\tvalid_0's l2: 4.35066\n",
      "[25]\tvalid_0's rmse: 2.08658\tvalid_0's l2: 4.3538\n",
      "[26]\tvalid_0's rmse: 2.08851\tvalid_0's l2: 4.36187\n",
      "[27]\tvalid_0's rmse: 2.09158\tvalid_0's l2: 4.37469\n",
      "[28]\tvalid_0's rmse: 2.09452\tvalid_0's l2: 4.38702\n",
      "[29]\tvalid_0's rmse: 2.09787\tvalid_0's l2: 4.40105\n",
      "[30]\tvalid_0's rmse: 2.09982\tvalid_0's l2: 4.40924\n",
      "[31]\tvalid_0's rmse: 2.10092\tvalid_0's l2: 4.41385\n",
      "[32]\tvalid_0's rmse: 2.10215\tvalid_0's l2: 4.41904\n",
      "[33]\tvalid_0's rmse: 2.10382\tvalid_0's l2: 4.42607\n",
      "[34]\tvalid_0's rmse: 2.10395\tvalid_0's l2: 4.42661\n",
      "[35]\tvalid_0's rmse: 2.10448\tvalid_0's l2: 4.42884\n",
      "[36]\tvalid_0's rmse: 2.10831\tvalid_0's l2: 4.44497\n",
      "[37]\tvalid_0's rmse: 2.11156\tvalid_0's l2: 4.4587\n",
      "[38]\tvalid_0's rmse: 2.11336\tvalid_0's l2: 4.46628\n",
      "[39]\tvalid_0's rmse: 2.11512\tvalid_0's l2: 4.47372\n",
      "[40]\tvalid_0's rmse: 2.12002\tvalid_0's l2: 4.49448\n",
      "[41]\tvalid_0's rmse: 2.12278\tvalid_0's l2: 4.50621\n",
      "[42]\tvalid_0's rmse: 2.1251\tvalid_0's l2: 4.51605\n",
      "[43]\tvalid_0's rmse: 2.12781\tvalid_0's l2: 4.52757\n",
      "[44]\tvalid_0's rmse: 2.13096\tvalid_0's l2: 4.54097\n",
      "[45]\tvalid_0's rmse: 2.13071\tvalid_0's l2: 4.53992\n",
      "[46]\tvalid_0's rmse: 2.13094\tvalid_0's l2: 4.5409\n",
      "[47]\tvalid_0's rmse: 2.13493\tvalid_0's l2: 4.55794\n",
      "[48]\tvalid_0's rmse: 2.13632\tvalid_0's l2: 4.56388\n",
      "[49]\tvalid_0's rmse: 2.13819\tvalid_0's l2: 4.57186\n",
      "[50]\tvalid_0's rmse: 2.13916\tvalid_0's l2: 4.57601\n",
      "[51]\tvalid_0's rmse: 2.14115\tvalid_0's l2: 4.58453\n",
      "[52]\tvalid_0's rmse: 2.14276\tvalid_0's l2: 4.59143\n",
      "[53]\tvalid_0's rmse: 2.14614\tvalid_0's l2: 4.60591\n",
      "[54]\tvalid_0's rmse: 2.14819\tvalid_0's l2: 4.61473\n",
      "[55]\tvalid_0's rmse: 2.14858\tvalid_0's l2: 4.61638\n",
      "[56]\tvalid_0's rmse: 2.14886\tvalid_0's l2: 4.61759\n",
      "[57]\tvalid_0's rmse: 2.15055\tvalid_0's l2: 4.62486\n",
      "[58]\tvalid_0's rmse: 2.14932\tvalid_0's l2: 4.61957\n",
      "[59]\tvalid_0's rmse: 2.14895\tvalid_0's l2: 4.61798\n",
      "[60]\tvalid_0's rmse: 2.14992\tvalid_0's l2: 4.62216\n",
      "[61]\tvalid_0's rmse: 2.14972\tvalid_0's l2: 4.62131\n",
      "[62]\tvalid_0's rmse: 2.14918\tvalid_0's l2: 4.61896\n",
      "[63]\tvalid_0's rmse: 2.14958\tvalid_0's l2: 4.62071\n",
      "[64]\tvalid_0's rmse: 2.149\tvalid_0's l2: 4.6182\n",
      "[65]\tvalid_0's rmse: 2.15023\tvalid_0's l2: 4.62347\n",
      "[66]\tvalid_0's rmse: 2.15165\tvalid_0's l2: 4.6296\n",
      "[67]\tvalid_0's rmse: 2.15191\tvalid_0's l2: 4.63073\n",
      "[68]\tvalid_0's rmse: 2.15377\tvalid_0's l2: 4.63871\n",
      "[69]\tvalid_0's rmse: 2.15486\tvalid_0's l2: 4.64344\n",
      "[70]\tvalid_0's rmse: 2.15682\tvalid_0's l2: 4.65189\n",
      "[71]\tvalid_0's rmse: 2.15868\tvalid_0's l2: 4.65992\n",
      "[72]\tvalid_0's rmse: 2.16047\tvalid_0's l2: 4.66762\n",
      "[73]\tvalid_0's rmse: 2.16214\tvalid_0's l2: 4.67483\n",
      "[74]\tvalid_0's rmse: 2.16444\tvalid_0's l2: 4.6848\n",
      "[75]\tvalid_0's rmse: 2.16424\tvalid_0's l2: 4.68393\n",
      "[76]\tvalid_0's rmse: 2.16584\tvalid_0's l2: 4.69085\n",
      "[77]\tvalid_0's rmse: 2.16683\tvalid_0's l2: 4.69513\n",
      "[78]\tvalid_0's rmse: 2.16972\tvalid_0's l2: 4.7077\n",
      "[79]\tvalid_0's rmse: 2.16936\tvalid_0's l2: 4.70612\n",
      "[80]\tvalid_0's rmse: 2.16889\tvalid_0's l2: 4.7041\n",
      "[81]\tvalid_0's rmse: 2.17047\tvalid_0's l2: 4.71092\n",
      "[82]\tvalid_0's rmse: 2.17253\tvalid_0's l2: 4.71989\n",
      "[83]\tvalid_0's rmse: 2.17227\tvalid_0's l2: 4.71877\n",
      "[84]\tvalid_0's rmse: 2.17211\tvalid_0's l2: 4.71807\n",
      "[85]\tvalid_0's rmse: 2.17134\tvalid_0's l2: 4.71473\n",
      "[86]\tvalid_0's rmse: 2.17328\tvalid_0's l2: 4.72313\n",
      "[87]\tvalid_0's rmse: 2.17366\tvalid_0's l2: 4.72481\n",
      "[88]\tvalid_0's rmse: 2.17386\tvalid_0's l2: 4.72568\n",
      "[89]\tvalid_0's rmse: 2.17444\tvalid_0's l2: 4.7282\n",
      "[90]\tvalid_0's rmse: 2.17635\tvalid_0's l2: 4.73652\n",
      "[91]\tvalid_0's rmse: 2.17981\tvalid_0's l2: 4.75155\n",
      "[92]\tvalid_0's rmse: 2.18147\tvalid_0's l2: 4.75882\n",
      "[93]\tvalid_0's rmse: 2.18329\tvalid_0's l2: 4.76677\n",
      "[94]\tvalid_0's rmse: 2.18449\tvalid_0's l2: 4.77199\n",
      "[95]\tvalid_0's rmse: 2.1842\tvalid_0's l2: 4.77075\n",
      "[96]\tvalid_0's rmse: 2.185\tvalid_0's l2: 4.77423\n",
      "[97]\tvalid_0's rmse: 2.18519\tvalid_0's l2: 4.77507\n",
      "[98]\tvalid_0's rmse: 2.18563\tvalid_0's l2: 4.77698\n",
      "[99]\tvalid_0's rmse: 2.18609\tvalid_0's l2: 4.779\n",
      "[100]\tvalid_0's rmse: 2.18705\tvalid_0's l2: 4.78319\n",
      "[101]\tvalid_0's rmse: 2.18857\tvalid_0's l2: 4.78985\n",
      "Early stopping, best iteration is:\n",
      "[1]\tvalid_0's rmse: 2.06103\tvalid_0's l2: 4.24784\n"
     ]
    },
    {
     "data": {
      "text/plain": [
       "<matplotlib.axes._subplots.AxesSubplot at 0x220b9bbf8c8>"
      ]
     },
     "execution_count": 158,
     "metadata": {},
     "output_type": "execute_result"
    },
    {
     "data": {
      "image/png": "[encoded data removed]",
      "text/plain": [
       "<Figure size 1008x1152 with 1 Axes>"
      ]
     },
     "metadata": {
      "needs_background": "light"
     },
     "output_type": "display_data"
    }
   ],
   "source": [
    "# LIGHTGBM 이닝수 모델 학습\n",
    "X_2 = INN_ONE1.iloc[:, :-1]\n",
    "y_2 = INN_ONE1.iloc[:, -1]\n",
    "X_train_2, X_test_2, y_train_2, y_test_2=train_test_split(X_2, y_2,\n",
    "                                                  test_size=0.2, random_state=0)\n",
    "                        \n",
    "lgbm_inn = LGBMRegressor(n_estimators=300, learning_rate=0.1102, num_leaves=33, sumbsample=0.937, colsample_bytree=0.5931, max_depth=6,\n",
    "                             min_child_weight=7.155)\n",
    "evals = [(X_test_2, y_test_2)]\n",
    "lgbm_inn.fit(X_train_2, y_train_2, early_stopping_rounds=100, eval_metric='rmse', eval_set=evals, verbose=True)\n",
    "preds = lgbm_inn.predict(X_test_2)\n",
    "\n",
    "from lightgbm import plot_importance # 타수 모델 변수 중요도\n",
    "import matplotlib.pyplot as plt\n",
    "%matplotlib inline\n",
    "\n",
    "fig, ax = plt.subplots(figsize=(14, 16))\n",
    "plot_importance(lgbm_inn, ax=ax)"
   ]
  },
  {
   "cell_type": "code",
   "execution_count": 159,
   "metadata": {},
   "outputs": [
    {
     "name": "stdout",
     "output_type": "stream",
     "text": [
      "RMSE':2.1431928086718384\n"
     ]
    }
   ],
   "source": [
    "# train rmse\n",
    "lgbm_inn_predict = lgbm_inn.predict(X_train_2)\n",
    "print(\"RMSE':{}\".format(math.sqrt(mean_squared_error(lgbm_inn_predict, y_train_2))) )"
   ]
  },
  {
   "cell_type": "code",
   "execution_count": 160,
   "metadata": {},
   "outputs": [
    {
     "name": "stdout",
     "output_type": "stream",
     "text": [
      "RMSE':2.051433288519747\n"
     ]
    }
   ],
   "source": [
    "# test rmse\n",
    "INN_T= INN_2.drop(['R_TARGET','G_ID','T_ID','VS_T_ID', 'TB_SC', 'ER_TARGET','GDAY_DS'], axis =1)\n",
    "a_2 = INN_T.iloc[:, :-1]\n",
    "b_2 = INN_T.iloc[:, -1]\n",
    "lgbm_inn_predict = lgbm_inn.predict(a_2)\n",
    "print(\"RMSE':{}\".format(math.sqrt(mean_squared_error(lgbm_inn_predict, b_2))) ) "
   ]
  },
  {
   "cell_type": "markdown",
   "metadata": {},
   "source": [
    "## MLP 방어율 모델"
   ]
  },
  {
   "cell_type": "code",
   "execution_count": 161,
   "metadata": {},
   "outputs": [],
   "source": [
    "# mlp 자책점 모델\n",
    "X_1 = ER_ONE1.iloc[:,:-1]\n",
    "y_1 = ER_ONE1.iloc[:,-1]"
   ]
  },
  {
   "cell_type": "code",
   "execution_count": 162,
   "metadata": {},
   "outputs": [],
   "source": [
    "# 데이터 정규화\n",
    "from sklearn.preprocessing import StandardScaler\n",
    "scaler = StandardScaler()\n",
    "scaler.fit(X_1)\n",
    "ER_ONE_scaled = scaler.transform(X_1)\n",
    "\n",
    "ER_scaled = pd.DataFrame(data=ER_ONE_scaled)"
   ]
  },
  {
   "cell_type": "code",
   "execution_count": 163,
   "metadata": {},
   "outputs": [],
   "source": [
    "# mlp 모델 생성\n",
    "from keras import models\n",
    "from keras import layers\n",
    "\n",
    "mlp_er = models.Sequential()\n",
    "mlp_er.add(layers.Dense(85, activation='relu',\n",
    "                          input_shape=(ER_scaled.shape[1],)))\n",
    "mlp_er.add(layers.Dropout(0.5))\n",
    "mlp_er.add(layers.BatchNormalization())\n",
    "mlp_er.add(layers.Dense(60, activation='relu'))\n",
    "mlp_er.add(layers.Dropout(0.5))\n",
    "mlp_er.add(layers.BatchNormalization())\n",
    "mlp_er.add(layers.Dense(60, activation='relu'))\n",
    "mlp_er.add(layers.Dense(1))"
   ]
  },
  {
   "cell_type": "code",
   "execution_count": 164,
   "metadata": {},
   "outputs": [],
   "source": [
    "# mlp 자책점 모델 학습\n",
    "import tensorflow as tf\n",
    "opt = tf.keras.optimizers.Adam(learning_rate=0.01, beta_1=0.3, beta_2=0.999, epsilon=1e-07)\n",
    "mlp_er.compile(optimizer=opt,\n",
    "             loss='mean_squared_error', metrics=['mean_squared_error'])"
   ]
  },
  {
   "cell_type": "code",
   "execution_count": 165,
   "metadata": {},
   "outputs": [],
   "source": [
    "import warnings\n",
    "import pathlib\n",
    "\n",
    "import tensorflow as tf\n",
    "from tensorflow import keras\n",
    "from tensorflow.keras import layers\n",
    "from keras.callbacks import EarlyStopping\n",
    "warnings.filterwarnings('ignore')\n",
    "from sklearn.model_selection import train_test_split\n",
    "\n",
    "X_train_1, X_test_1, y_train_1, y_test_1=train_test_split(ER_scaled, y_1,\n",
    "                                                 test_size=0.2, random_state=1)\n",
    "        \n",
    "early_stop = keras.callbacks.EarlyStopping(monitor='val_mean_squared_error', patience=10)\n",
    "EPOCHS=100\n",
    "        \n",
    "history = mlp_er.fit(X_train_1, y_train_1,\n",
    "          epochs=EPOCHS,validation_data = (X_test_1, y_test_1), verbose=0, callbacks= early_stop, batch_size=20)"
   ]
  },
  {
   "cell_type": "code",
   "execution_count": 166,
   "metadata": {},
   "outputs": [
    {
     "data": {
      "text/html": [
       "<div>\n",
       "<style scoped>\n",
       "    .dataframe tbody tr th:only-of-type {\n",
       "        vertical-align: middle;\n",
       "    }\n",
       "\n",
       "    .dataframe tbody tr th {\n",
       "        vertical-align: top;\n",
       "    }\n",
       "\n",
       "    .dataframe thead th {\n",
       "        text-align: right;\n",
       "    }\n",
       "</style>\n",
       "<table border=\"1\" class=\"dataframe\">\n",
       "  <thead>\n",
       "    <tr style=\"text-align: right;\">\n",
       "      <th></th>\n",
       "      <th>loss</th>\n",
       "      <th>mean_squared_error</th>\n",
       "      <th>val_loss</th>\n",
       "      <th>val_mean_squared_error</th>\n",
       "      <th>epoch</th>\n",
       "    </tr>\n",
       "  </thead>\n",
       "  <tbody>\n",
       "    <tr>\n",
       "      <th>23</th>\n",
       "      <td>10.695746</td>\n",
       "      <td>10.695746</td>\n",
       "      <td>10.186813</td>\n",
       "      <td>10.186813</td>\n",
       "      <td>23</td>\n",
       "    </tr>\n",
       "    <tr>\n",
       "      <th>24</th>\n",
       "      <td>10.646381</td>\n",
       "      <td>10.646382</td>\n",
       "      <td>10.369040</td>\n",
       "      <td>10.369040</td>\n",
       "      <td>24</td>\n",
       "    </tr>\n",
       "    <tr>\n",
       "      <th>25</th>\n",
       "      <td>10.718743</td>\n",
       "      <td>10.718743</td>\n",
       "      <td>10.279225</td>\n",
       "      <td>10.279225</td>\n",
       "      <td>25</td>\n",
       "    </tr>\n",
       "    <tr>\n",
       "      <th>26</th>\n",
       "      <td>10.719638</td>\n",
       "      <td>10.719638</td>\n",
       "      <td>10.313697</td>\n",
       "      <td>10.313697</td>\n",
       "      <td>26</td>\n",
       "    </tr>\n",
       "    <tr>\n",
       "      <th>27</th>\n",
       "      <td>10.735373</td>\n",
       "      <td>10.735373</td>\n",
       "      <td>10.152710</td>\n",
       "      <td>10.152710</td>\n",
       "      <td>27</td>\n",
       "    </tr>\n",
       "  </tbody>\n",
       "</table>\n",
       "</div>"
      ],
      "text/plain": [
       "         loss  mean_squared_error   val_loss  val_mean_squared_error  epoch\n",
       "23  10.695746           10.695746  10.186813               10.186813     23\n",
       "24  10.646381           10.646382  10.369040               10.369040     24\n",
       "25  10.718743           10.718743  10.279225               10.279225     25\n",
       "26  10.719638           10.719638  10.313697               10.313697     26\n",
       "27  10.735373           10.735373  10.152710               10.152710     27"
      ]
     },
     "execution_count": 166,
     "metadata": {},
     "output_type": "execute_result"
    }
   ],
   "source": [
    "hist = pd.DataFrame(history.history)\n",
    "hist['epoch'] = history.epoch\n",
    "hist.tail()"
   ]
  },
  {
   "cell_type": "code",
   "execution_count": 167,
   "metadata": {},
   "outputs": [
    {
     "data": {
      "text/plain": [
       "3.2906423385108265"
      ]
     },
     "execution_count": 167,
     "metadata": {},
     "output_type": "execute_result"
    }
   ],
   "source": [
    "# train rmse\n",
    "math.sqrt(10.828327)"
   ]
  },
  {
   "cell_type": "code",
   "execution_count": 168,
   "metadata": {},
   "outputs": [
    {
     "data": {
      "text/plain": [
       "3.356793559336052"
      ]
     },
     "execution_count": 168,
     "metadata": {},
     "output_type": "execute_result"
    }
   ],
   "source": [
    "# validation mse\n",
    "math.sqrt(11.268063)"
   ]
  },
  {
   "cell_type": "code",
   "execution_count": 169,
   "metadata": {},
   "outputs": [
    {
     "name": "stdout",
     "output_type": "stream",
     "text": [
      "RMSE':3.058511980110828\n"
     ]
    }
   ],
   "source": [
    "# test RMSE\n",
    "ER_T = ER_2.drop(['R_TARGET','G_ID','T_ID','VS_T_ID', 'TB_SC', 'INN2_TARGET','GDAY_DS'], axis =1)\n",
    "a_1 = ER_T.iloc[:, :-1]\n",
    "b_1 = ER_T.iloc[:, -1]\n",
    "scaler = StandardScaler()\n",
    "scaler.fit(X_1)\n",
    "ER_2_scaled = scaler.transform(a_1)\n",
    "\n",
    "ER2_scaled = pd.DataFrame(data=ER_2_scaled)\n",
    "mlp_er_predict = mlp_er.predict(ER2_scaled)\n",
    "print(\"RMSE':{}\".format(math.sqrt(mean_squared_error(mlp_er_predict, b_1))) )"
   ]
  },
  {
   "cell_type": "code",
   "execution_count": 170,
   "metadata": {},
   "outputs": [],
   "source": [
    "# mlp 이닝수 모델\n",
    "X_2 = INN_ONE1.iloc[:,:-1]\n",
    "y_2 = INN_ONE1.iloc[:,-1]"
   ]
  },
  {
   "cell_type": "code",
   "execution_count": 171,
   "metadata": {},
   "outputs": [],
   "source": [
    "# 데이터 정규화\n",
    "from sklearn.preprocessing import StandardScaler\n",
    "scaler = StandardScaler()\n",
    "scaler.fit(X_2)\n",
    "INN_scaled = scaler.transform(X_2)\n",
    "\n",
    "INN2_scaled = pd.DataFrame(data=INN_scaled)"
   ]
  },
  {
   "cell_type": "code",
   "execution_count": 172,
   "metadata": {},
   "outputs": [],
   "source": [
    "# mlp 이닝수 모델 생성 \n",
    "from keras import models\n",
    "from keras import layers\n",
    "\n",
    "mlp_inn = models.Sequential()\n",
    "mlp_inn.add(layers.Dense(85, activation='relu',\n",
    "                          input_shape=(INN2_scaled.shape[1],)))\n",
    "mlp_inn.add(layers.Dropout(0.5))\n",
    "mlp_inn.add(layers.BatchNormalization())\n",
    "mlp_inn.add(layers.Dense(60, activation='relu'))\n",
    "mlp_inn.add(layers.Dropout(0.5))\n",
    "mlp_inn.add(layers.BatchNormalization())\n",
    "mlp_inn.add(layers.Dense(60, activation='relu'))\n",
    "mlp_inn.add(layers.Dense(1))"
   ]
  },
  {
   "cell_type": "code",
   "execution_count": 173,
   "metadata": {},
   "outputs": [],
   "source": [
    "# mlp 이닝수 모델 학습\n",
    "import tensorflow as tf\n",
    "opt = tf.keras.optimizers.Adam(learning_rate=0.01, beta_1=0.3, beta_2=0.999, epsilon=1e-07)\n",
    "mlp_inn.compile(optimizer=opt,\n",
    "             loss='mean_squared_error', metrics=['mean_squared_error'])"
   ]
  },
  {
   "cell_type": "code",
   "execution_count": 174,
   "metadata": {},
   "outputs": [],
   "source": [
    "import warnings\n",
    "import pathlib\n",
    "\n",
    "import tensorflow as tf\n",
    "from tensorflow import keras\n",
    "from tensorflow.keras import layers\n",
    "from keras.callbacks import EarlyStopping\n",
    "warnings.filterwarnings('ignore')\n",
    "from sklearn.model_selection import train_test_split\n",
    "\n",
    "X_train_2, X_test_2, y_train_2, y_test_2=train_test_split(INN2_scaled, y_2,\n",
    "                                                 test_size=0.2, random_state=1)\n",
    "        \n",
    "early_stop = keras.callbacks.EarlyStopping(monitor='val_mean_squared_error', patience=10)\n",
    "EPOCHS=100\n",
    "        \n",
    "history = mlp_inn.fit(X_train_2, y_train_2,\n",
    "          epochs=EPOCHS,validation_data = (X_test_2, y_test_2), verbose=0, callbacks= early_stop, batch_size=20)"
   ]
  },
  {
   "cell_type": "code",
   "execution_count": 175,
   "metadata": {},
   "outputs": [
    {
     "data": {
      "text/html": [
       "<div>\n",
       "<style scoped>\n",
       "    .dataframe tbody tr th:only-of-type {\n",
       "        vertical-align: middle;\n",
       "    }\n",
       "\n",
       "    .dataframe tbody tr th {\n",
       "        vertical-align: top;\n",
       "    }\n",
       "\n",
       "    .dataframe thead th {\n",
       "        text-align: right;\n",
       "    }\n",
       "</style>\n",
       "<table border=\"1\" class=\"dataframe\">\n",
       "  <thead>\n",
       "    <tr style=\"text-align: right;\">\n",
       "      <th></th>\n",
       "      <th>loss</th>\n",
       "      <th>mean_squared_error</th>\n",
       "      <th>val_loss</th>\n",
       "      <th>val_mean_squared_error</th>\n",
       "      <th>epoch</th>\n",
       "    </tr>\n",
       "  </thead>\n",
       "  <tbody>\n",
       "    <tr>\n",
       "      <th>25</th>\n",
       "      <td>4.993681</td>\n",
       "      <td>4.993681</td>\n",
       "      <td>9.025753</td>\n",
       "      <td>9.025753</td>\n",
       "      <td>25</td>\n",
       "    </tr>\n",
       "    <tr>\n",
       "      <th>26</th>\n",
       "      <td>5.047129</td>\n",
       "      <td>5.047129</td>\n",
       "      <td>6.852723</td>\n",
       "      <td>6.852723</td>\n",
       "      <td>26</td>\n",
       "    </tr>\n",
       "    <tr>\n",
       "      <th>27</th>\n",
       "      <td>5.058570</td>\n",
       "      <td>5.058570</td>\n",
       "      <td>19.005045</td>\n",
       "      <td>19.005045</td>\n",
       "      <td>27</td>\n",
       "    </tr>\n",
       "    <tr>\n",
       "      <th>28</th>\n",
       "      <td>5.178240</td>\n",
       "      <td>5.178240</td>\n",
       "      <td>6.604749</td>\n",
       "      <td>6.604749</td>\n",
       "      <td>28</td>\n",
       "    </tr>\n",
       "    <tr>\n",
       "      <th>29</th>\n",
       "      <td>5.041566</td>\n",
       "      <td>5.041566</td>\n",
       "      <td>10.174845</td>\n",
       "      <td>10.174845</td>\n",
       "      <td>29</td>\n",
       "    </tr>\n",
       "  </tbody>\n",
       "</table>\n",
       "</div>"
      ],
      "text/plain": [
       "        loss  mean_squared_error   val_loss  val_mean_squared_error  epoch\n",
       "25  4.993681            4.993681   9.025753                9.025753     25\n",
       "26  5.047129            5.047129   6.852723                6.852723     26\n",
       "27  5.058570            5.058570  19.005045               19.005045     27\n",
       "28  5.178240            5.178240   6.604749                6.604749     28\n",
       "29  5.041566            5.041566  10.174845               10.174845     29"
      ]
     },
     "execution_count": 175,
     "metadata": {},
     "output_type": "execute_result"
    }
   ],
   "source": [
    "hist = pd.DataFrame(history.history)\n",
    "hist['epoch'] = history.epoch\n",
    "hist.tail()"
   ]
  },
  {
   "cell_type": "code",
   "execution_count": 176,
   "metadata": {},
   "outputs": [
    {
     "data": {
      "text/plain": [
       "2.2101454703254264"
      ]
     },
     "execution_count": 176,
     "metadata": {},
     "output_type": "execute_result"
    }
   ],
   "source": [
    "# train rmse\n",
    "math.sqrt(4.884743)"
   ]
  },
  {
   "cell_type": "code",
   "execution_count": 177,
   "metadata": {},
   "outputs": [
    {
     "data": {
      "text/plain": [
       "2.190277836257309"
      ]
     },
     "execution_count": 177,
     "metadata": {},
     "output_type": "execute_result"
    }
   ],
   "source": [
    "# varidation rmse\n",
    "math.sqrt(4.797317)"
   ]
  },
  {
   "cell_type": "code",
   "execution_count": 178,
   "metadata": {},
   "outputs": [
    {
     "name": "stdout",
     "output_type": "stream",
     "text": [
      "RMSE':3.023064024916021\n"
     ]
    }
   ],
   "source": [
    "# test RMSE\n",
    "INN_T = INN_2.drop(['R_TARGET','G_ID','T_ID', 'VS_T_ID', 'TB_SC', 'ER_TARGET','GDAY_DS'], axis =1)\n",
    "a_2 = INN_T.iloc[:, :-1]\n",
    "b_2 = INN_T.iloc[:, -1]\n",
    "scaler = StandardScaler()\n",
    "scaler.fit(X_2)\n",
    "INN2_2_scaled = scaler.transform(a_2)\n",
    "\n",
    "INN22_scaled = pd.DataFrame(data=INN2_2_scaled)\n",
    "mlp_inn_predict = mlp_inn.predict(INN22_scaled)\n",
    "print(\"RMSE':{}\".format(math.sqrt(mean_squared_error(mlp_inn_predict, b_2))) )"
   ]
  },
  {
   "cell_type": "markdown",
   "metadata": {},
   "source": [
    "## 최종 방어율 모델 xgb으로 테스트"
   ]
  },
  {
   "cell_type": "code",
   "execution_count": 179,
   "metadata": {},
   "outputs": [],
   "source": [
    "ER_NC = ER_2[ER_2['T_ID']== 'NC']\n",
    "ER_OB = ER_2[ER_2['T_ID']== 'OB']\n",
    "ER_LG = ER_2[ER_2['T_ID']== 'LG']\n",
    "ER_WO = ER_2[ER_2['T_ID']== 'WO']\n",
    "ER_HH = ER_2[ER_2['T_ID']== 'HH']\n",
    "ER_HT = ER_2[ER_2['T_ID']== 'HT']\n",
    "ER_KT = ER_2[ER_2['T_ID']== 'KT']\n",
    "ER_LT = ER_2[ER_2['T_ID']== 'LT']\n",
    "ER_SK = ER_2[ER_2['T_ID']== 'SK']\n",
    "ER_SS = ER_2[ER_2['T_ID']== 'SS']\n",
    "ER_HH = ER_HH.drop(['R_TARGET','G_ID','T_ID','VS_T_ID', 'TB_SC', 'INN2_TARGET','GDAY_DS'], axis =1)\n",
    "ER_OB = ER_OB.drop(['R_TARGET','G_ID','T_ID','VS_T_ID', 'TB_SC', 'INN2_TARGET','GDAY_DS'], axis =1)\n",
    "ER_LG = ER_LG.drop(['R_TARGET','G_ID','T_ID','VS_T_ID', 'TB_SC', 'INN2_TARGET','GDAY_DS'], axis =1)\n",
    "ER_WO = ER_WO.drop(['R_TARGET','G_ID','T_ID','VS_T_ID', 'TB_SC', 'INN2_TARGET','GDAY_DS'], axis =1)\n",
    "ER_NC = ER_NC.drop(['R_TARGET','G_ID','T_ID','VS_T_ID', 'TB_SC', 'INN2_TARGET','GDAY_DS'], axis =1)\n",
    "ER_HT = ER_HT.drop(['R_TARGET','G_ID','T_ID','VS_T_ID', 'TB_SC', 'INN2_TARGET','GDAY_DS'], axis =1)\n",
    "ER_KT = ER_KT.drop(['R_TARGET','G_ID','T_ID','VS_T_ID', 'TB_SC', 'INN2_TARGET','GDAY_DS'], axis =1)\n",
    "ER_LT = ER_LT.drop(['R_TARGET','G_ID','T_ID','VS_T_ID', 'TB_SC', 'INN2_TARGET','GDAY_DS'], axis =1)\n",
    "ER_SK = ER_SK.drop(['R_TARGET','G_ID','T_ID','VS_T_ID', 'TB_SC', 'INN2_TARGET','GDAY_DS'], axis =1)\n",
    "ER_SS = ER_SS.drop(['R_TARGET','G_ID','T_ID','VS_T_ID', 'TB_SC', 'INN2_TARGET','GDAY_DS'], axis =1)\n",
    "\n",
    "# test셋 팀별 자책점를 보기 위한 분할"
   ]
  },
  {
   "cell_type": "code",
   "execution_count": 180,
   "metadata": {},
   "outputs": [],
   "source": [
    "INN_NC = INN_2[INN_2['T_ID']== 'NC']\n",
    "INN_OB = INN_2[INN_2['T_ID']== 'OB']\n",
    "INN_LG = INN_2[INN_2['T_ID']== 'LG']\n",
    "INN_WO = INN_2[INN_2['T_ID']== 'WO']\n",
    "INN_HH = INN_2[INN_2['T_ID']== 'HH']\n",
    "INN_HT = INN_2[INN_2['T_ID']== 'HT']\n",
    "INN_KT = INN_2[INN_2['T_ID']== 'KT']\n",
    "INN_LT = INN_2[INN_2['T_ID']== 'LT']\n",
    "INN_SK = INN_2[INN_2['T_ID']== 'SK']\n",
    "INN_SS = INN_2[INN_2['T_ID']== 'SS']\n",
    "INN_HH = INN_HH.drop(['R_TARGET','G_ID','T_ID','VS_T_ID', 'TB_SC', 'ER_TARGET','GDAY_DS'], axis =1)\n",
    "INN_OB = INN_OB.drop(['R_TARGET','G_ID','T_ID','VS_T_ID', 'TB_SC', 'ER_TARGET','GDAY_DS'], axis =1)\n",
    "INN_LG = INN_LG.drop(['R_TARGET','G_ID','T_ID','VS_T_ID', 'TB_SC', 'ER_TARGET','GDAY_DS'], axis =1)\n",
    "INN_WO = INN_WO.drop(['R_TARGET','G_ID','T_ID','VS_T_ID', 'TB_SC', 'ER_TARGET','GDAY_DS'], axis =1)\n",
    "INN_NC = INN_NC.drop(['R_TARGET','G_ID','T_ID','VS_T_ID', 'TB_SC', 'ER_TARGET','GDAY_DS'], axis =1)\n",
    "INN_HT = INN_HT.drop(['R_TARGET','G_ID','T_ID','VS_T_ID', 'TB_SC', 'ER_TARGET','GDAY_DS'], axis =1)\n",
    "INN_KT = INN_KT.drop(['R_TARGET','G_ID','T_ID','VS_T_ID', 'TB_SC', 'ER_TARGET','GDAY_DS'], axis =1)\n",
    "INN_LT = INN_LT.drop(['R_TARGET','G_ID','T_ID','VS_T_ID', 'TB_SC', 'ER_TARGET','GDAY_DS'], axis =1)\n",
    "INN_SK = INN_SK.drop(['R_TARGET','G_ID','T_ID','VS_T_ID', 'TB_SC', 'ER_TARGET','GDAY_DS'], axis =1)\n",
    "INN_SS = INN_SS.drop(['R_TARGET','G_ID','T_ID','VS_T_ID', 'TB_SC', 'ER_TARGET','GDAY_DS'], axis =1)"
   ]
  },
  {
   "cell_type": "code",
   "execution_count": 181,
   "metadata": {},
   "outputs": [],
   "source": [
    "def xgb_era(A,B):\n",
    "    a_test = A.iloc[:, :-1]\n",
    "    b_test = A.iloc[:, -1]\n",
    "    ktest = xgb.DMatrix(data=a_test)\n",
    "    pred = xgb_er.predict(ktest)\n",
    "\n",
    "    nam =['col1']\n",
    "    y = pd.DataFrame(pred, columns=nam)\n",
    "    y_sum1 = y['col1'].sum()\n",
    "    y_sum1 # 예측 자책점 합\n",
    "    \n",
    "    a_test1 = B.iloc[:, :-1]\n",
    "    b_test1 = B.iloc[:, -1]\n",
    "    ktest1 = xgb.DMatrix(data=a_test1)\n",
    "    preds = xgb_inn.predict(ktest1)\n",
    "    nam =['col2']\n",
    "    y = pd.DataFrame(preds, columns=nam)\n",
    "    y_sum2 = y['col2'].sum()\n",
    "    y_sum2 # 예측 이닝수의 합\n",
    "    \n",
    "    ER_sum1= b_test.sum()\n",
    "    ER_sum1 # 실제 자책점 합\n",
    "    \n",
    "    INN_sum2= b_test1.sum()\n",
    "    INN_sum2 # 실제 이닝수 합\n",
    "    \n",
    "    predict_era = (y_sum1 * 9) / (y_sum2 / 3) \n",
    "    real_era = ( 9 * ER_sum1) / ( INN_sum2 / 3 )\n",
    "    \n",
    "\n",
    "    \n",
    "    \n",
    "    return print('예측 방어율:', predict_era,\n",
    "                 '실제 방어율:', real_era)"
   ]
  },
  {
   "cell_type": "code",
   "execution_count": 182,
   "metadata": {},
   "outputs": [
    {
     "name": "stdout",
     "output_type": "stream",
     "text": [
      "예측 방어율: 5.149231722006568 실제 방어율: 5.538461538461538\n",
      "예측 방어율: 4.920634230827426 실제 방어율: 6.100961538461538\n",
      "예측 방어율: 4.7937500329412295 실제 방어율: 5.027586206896552\n",
      "예측 방어율: 4.928387783768547 실제 방어율: 5.382352941176471\n",
      "예측 방어율: 4.873980003624704 실제 방어율: 5.675675675675675\n",
      "예측 방어율: 5.18064304807884 실제 방어율: 5.2388059701492535\n",
      "예측 방어율: 4.72899314021209 실제 방어율: 5.183701657458563\n",
      "예측 방어율: 4.722299739235212 실제 방어율: 5.608208955223881\n",
      "예측 방어율: 4.74247853765512 실제 방어율: 4.7114093959731544\n",
      "예측 방어율: 4.536120160742812 실제 방어율: 4.976958525345622\n"
     ]
    }
   ],
   "source": [
    "xgb_era(ER_WO, INN_WO)\n",
    "xgb_era(ER_NC, INN_NC)\n",
    "xgb_era(ER_OB, INN_OB)\n",
    "xgb_era(ER_LG, INN_LG)\n",
    "xgb_era(ER_HH, INN_HH)\n",
    "xgb_era(ER_HT, INN_HT)\n",
    "xgb_era(ER_KT, INN_KT)\n",
    "xgb_era(ER_LT, INN_LT)\n",
    "xgb_era(ER_SK, INN_SK)\n",
    "xgb_era(ER_SS, INN_SS)"
   ]
  },
  {
   "cell_type": "code",
   "execution_count": 183,
   "metadata": {},
   "outputs": [
    {
     "name": "stdout",
     "output_type": "stream",
     "text": [
      "RMSE':0.6841277778704776\n"
     ]
    }
   ],
   "source": [
    "# 예측 방어율과 실제 방어율 비교\n",
    "A1 = [5.143800017877626,4.929051431567729,4.706717365248473,4.770338427112144,4.547838291214603,4.699836386754442,4.648428359081548,4.746255490187671,4.684750902544251,4.692421641310299]\n",
    "B1 = [5.538461538461538,6.100961538461538,5.027586206896552,5.38235294117647,5.675675675675675,5.2388059701492535,5.183701657458563,5.608208955223881,4.7114093959731544,4.976958525345622]\n",
    "\n",
    "print(\"RMSE':{}\".format(math.sqrt(mean_squared_error(A1, B1))) )"
   ]
  },
  {
   "cell_type": "markdown",
   "metadata": {},
   "source": [
    "## 방어율 최종예측"
   ]
  },
  {
   "cell_type": "code",
   "execution_count": 184,
   "metadata": {},
   "outputs": [],
   "source": [
    "R_END_NC = R_END[R_END['T_ID']== 'NC']\n",
    "R_END_OB = R_END[R_END['T_ID']== 'OB']\n",
    "R_END_LG = R_END[R_END['T_ID']== 'LG']\n",
    "R_END_WO = R_END[R_END['T_ID']== 'WO']\n",
    "R_END_HH = R_END[R_END['T_ID']== 'HH']\n",
    "R_END_HT = R_END[R_END['T_ID']== 'HT']\n",
    "R_END_KT = R_END[R_END['T_ID']== 'KT']\n",
    "R_END_LT = R_END[R_END['T_ID']== 'LT']\n",
    "R_END_SK = R_END[R_END['T_ID']== 'SK']\n",
    "R_END_SS = R_END[R_END['T_ID']== 'SS']\n",
    "R_END_NC= R_END_NC.drop(['R_TARGET','G_ID','T_ID','VS_T_ID', 'TB_SC', 'INN2_TARGET','GDAY_DS','ER_TARGET'], axis =1)\n",
    "R_END_OB= R_END_OB.drop(['R_TARGET','G_ID','T_ID','VS_T_ID', 'TB_SC', 'INN2_TARGET','GDAY_DS','ER_TARGET'], axis =1)\n",
    "R_END_LG= R_END_LG.drop(['R_TARGET','G_ID','T_ID','VS_T_ID', 'TB_SC', 'INN2_TARGET','GDAY_DS','ER_TARGET'], axis =1)\n",
    "R_END_WO= R_END_WO.drop(['R_TARGET','G_ID','T_ID','VS_T_ID', 'TB_SC', 'INN2_TARGET','GDAY_DS','ER_TARGET'], axis =1)\n",
    "R_END_HH= R_END_HH.drop(['R_TARGET','G_ID','T_ID','VS_T_ID', 'TB_SC', 'INN2_TARGET','GDAY_DS','ER_TARGET'], axis =1)\n",
    "R_END_HT= R_END_HT.drop(['R_TARGET','G_ID','T_ID','VS_T_ID', 'TB_SC', 'INN2_TARGET','GDAY_DS','ER_TARGET'], axis =1)\n",
    "R_END_KT= R_END_KT.drop(['R_TARGET','G_ID','T_ID','VS_T_ID', 'TB_SC', 'INN2_TARGET','GDAY_DS','ER_TARGET'], axis =1)\n",
    "R_END_LT= R_END_LT.drop(['R_TARGET','G_ID','T_ID','VS_T_ID', 'TB_SC', 'INN2_TARGET','GDAY_DS','ER_TARGET'], axis =1)\n",
    "R_END_SK= R_END_SK.drop(['R_TARGET','G_ID','T_ID','VS_T_ID', 'TB_SC', 'INN2_TARGET','GDAY_DS','ER_TARGET'], axis =1)\n",
    "R_END_SS= R_END_SS.drop(['R_TARGET','G_ID','T_ID','VS_T_ID', 'TB_SC', 'INN2_TARGET','GDAY_DS','ER_TARGET'], axis =1)"
   ]
  },
  {
   "cell_type": "code",
   "execution_count": 185,
   "metadata": {},
   "outputs": [],
   "source": [
    "def xgb_era1(A):\n",
    "    a_test = A\n",
    "    ktest = xgb.DMatrix(data=a_test)\n",
    "    pred = xgb_er.predict(ktest)\n",
    "\n",
    "    nam =['col1']\n",
    "    y = pd.DataFrame(pred, columns=nam)\n",
    "    y_sum1 = y['col1'].sum()\n",
    "    y_sum1 # 예측 자책점 합\n",
    "    \n",
    "    a_test1 = A\n",
    "    ktest1 = xgb.DMatrix(data=a_test1)\n",
    "    preds = xgb_inn.predict(ktest1)\n",
    "    nam =['col2']\n",
    "    y = pd.DataFrame(preds, columns=nam)\n",
    "    y_sum2 = y['col2'].sum()\n",
    "    y_sum2 # 예측 이닝수의 합\n",
    "    \n",
    "    predict_era = (y_sum1 * 9) / (y_sum2 / 3) \n",
    "    \n",
    "    \n",
    "\n",
    "    \n",
    "    \n",
    "    return print('예측 방어율:', predict_era)"
   ]
  },
  {
   "cell_type": "code",
   "execution_count": 186,
   "metadata": {},
   "outputs": [
    {
     "name": "stdout",
     "output_type": "stream",
     "text": [
      "예측 방어율: 5.02061622288112\n",
      "예측 방어율: 4.77153932181009\n",
      "예측 방어율: 4.3090282353660365\n",
      "예측 방어율: 4.738375641477043\n",
      "예측 방어율: 4.6596995079693\n",
      "예측 방어율: 4.8873685066034005\n",
      "예측 방어율: 4.513163655744325\n",
      "예측 방어율: 4.5699661302774635\n",
      "예측 방어율: 4.810313869634719\n",
      "예측 방어율: 4.74705234143054\n"
     ]
    }
   ],
   "source": [
    "xgb_era1(R_END_WO)\n",
    "xgb_era1(R_END_NC)\n",
    "xgb_era1(R_END_OB)\n",
    "xgb_era1(R_END_LG)\n",
    "xgb_era1(R_END_HH)\n",
    "xgb_era1(R_END_HT)\n",
    "xgb_era1(R_END_KT)\n",
    "xgb_era1(R_END_LT)\n",
    "xgb_era1(R_END_SK)\n",
    "xgb_era1(R_END_SS)"
   ]
  },
  {
   "cell_type": "code",
   "execution_count": null,
   "metadata": {},
   "outputs": [],
   "source": []
  }
 ],
 "metadata": {
  "kernelspec": {
   "display_name": "Python 3",
   "language": "python",
   "name": "python3"
  },
  "language_info": {
   "codemirror_mode": {
    "name": "ipython",
    "version": 3
   },
   "file_extension": ".py",
   "mimetype": "text/x-python",
   "name": "python",
   "nbconvert_exporter": "python",
   "pygments_lexer": "ipython3",
   "version": "3.7.6"
  }
 },
 "nbformat": 4,
 "nbformat_minor": 4
}
