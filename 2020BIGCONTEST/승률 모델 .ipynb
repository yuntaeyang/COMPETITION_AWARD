{
 "cells": [
  {
   "cell_type": "markdown",
   "metadata": {},
   "source": [
    "## 랜덤포레스트 승률 모델"
   ]
  },
  {
   "cell_type": "code",
   "execution_count": 65,
   "metadata": {},
   "outputs": [],
   "source": [
    "from sklearn.ensemble import RandomForestRegressor\n",
    "from sklearn.model_selection import cross_val_score\n",
    "import pandas as pd\n",
    "import numpy as np\n",
    "from sklearn.model_selection import GridSearchCV\n",
    "from sklearn.model_selection import train_test_split\n",
    "from sklearn.metrics import mean_squared_error\n",
    "import math"
   ]
  },
  {
   "cell_type": "code",
   "execution_count": 66,
   "metadata": {},
   "outputs": [],
   "source": [
    "# 랜덤포레스트 득점 모델\n",
    "RUN_ONE =pd.read_csv(r'C:\\Users\\yuntaeyang\\Desktop\\svt_code\\RUN_END.csv' , encoding = 'ms949' , index_col=0)\n",
    "RUN_ONE1 = RUN_ONE.iloc[0:4642, :]\n",
    "RUN_END = RUN_ONE.iloc[4642:4900, :] # 실제 예측해야하는 데이터\n",
    "RUN_1 = RUN_ONE1.iloc[0:2680, :]\n",
    "RUN_2 = RUN_ONE1.iloc[2680:2940, :]# test셋\n",
    "RUN_3 = RUN_ONE1.iloc[2940:4642, :]\n",
    "df = [RUN_1, RUN_3]\n",
    "RUN_ONE= pd.concat(df)\n",
    "RUN_ONE_1 = RUN_ONE.drop(['HIT_TARGET','G_ID','T_ID','VS_T_ID', 'TB_SC', 'AB_TARGET','GDAY_DS'], axis =1)"
   ]
  },
  {
   "cell_type": "code",
   "execution_count": 67,
   "metadata": {},
   "outputs": [
    {
     "name": "stdout",
     "output_type": "stream",
     "text": [
      "최적 하이퍼 파라미터: {'max_depth': 5, 'min_samples_leaf': 8, 'min_samples_split': 8, 'n_estimators': 200}\n",
      "최적 예측 정확도: 0.0054\n"
     ]
    }
   ],
   "source": [
    "#GRIDSEARCH를 이용한 최적화\n",
    "X_11 = RUN_ONE_1.iloc[:, :-1]\n",
    "y_11 = RUN_ONE_1.iloc[:, -1]\n",
    "X_train11, X_test11, y_train11, y_test11=train_test_split(X_11, y_11,\n",
    "                                                  test_size=0.2, random_state=0)\n",
    "\n",
    "\n",
    "params = {\n",
    "    'n_estimators':(100, 200),\n",
    "    'max_depth' : (5, 8),\n",
    "    'min_samples_leaf' : (8, 18),\n",
    "    'min_samples_split' : (8, 16)\n",
    "}\n",
    "rf_run = RandomForestRegressor(random_state=0, n_jobs=-1)\n",
    "grid_cv = GridSearchCV(rf_run, param_grid=params, cv=2, n_jobs=-1)\n",
    "grid_cv.fit(X_train11, y_train11)\n",
    "\n",
    "\n",
    "print('최적 하이퍼 파라미터:', grid_cv.best_params_)\n",
    "print('최적 예측 정확도: {0:.4f}'.format(grid_cv.best_score_))"
   ]
  },
  {
   "cell_type": "code",
   "execution_count": 68,
   "metadata": {},
   "outputs": [
    {
     "data": {
      "text/plain": [
       "RandomForestRegressor(bootstrap=True, ccp_alpha=0.0, criterion='mse',\n",
       "                      max_depth=5, max_features='auto', max_leaf_nodes=None,\n",
       "                      max_samples=None, min_impurity_decrease=0.0,\n",
       "                      min_impurity_split=None, min_samples_leaf=8,\n",
       "                      min_samples_split=8, min_weight_fraction_leaf=0.0,\n",
       "                      n_estimators=200, n_jobs=None, oob_score=False,\n",
       "                      random_state=0, verbose=0, warm_start=False)"
      ]
     },
     "execution_count": 68,
     "metadata": {},
     "output_type": "execute_result"
    }
   ],
   "source": [
    "# 랜덤포레스트 득점모델 학습\n",
    "rf_run = RandomForestRegressor(random_state=0, max_depth=5, min_samples_leaf=8, min_samples_split=8,n_estimators=200)\n",
    "rf_run.fit(X_train11, y_train11)"
   ]
  },
  {
   "cell_type": "code",
   "execution_count": 69,
   "metadata": {},
   "outputs": [
    {
     "name": "stdout",
     "output_type": "stream",
     "text": [
      "RMSE':3.2530742884060992\n"
     ]
    }
   ],
   "source": [
    "# train rmse\n",
    "rf_run_predict = rf_run.predict(X_train11)\n",
    "print(\"RMSE':{}\".format(math.sqrt(mean_squared_error(rf_run_predict, y_train11))) )"
   ]
  },
  {
   "cell_type": "code",
   "execution_count": 70,
   "metadata": {},
   "outputs": [
    {
     "name": "stdout",
     "output_type": "stream",
     "text": [
      "#### RandomForestRegressor ####\n",
      "5 교차 검증의 평균 RMSE: 3.411\n"
     ]
    }
   ],
   "source": [
    "# varidation rmse\n",
    "def get_model_cv_prediction(model, X_data, y_target):\n",
    "    neg_mse_scores=cross_val_score(model, X_data, y_target, scoring='neg_mean_squared_error', cv=5)\n",
    "    rmse_scores = np.sqrt(-1*neg_mse_scores)\n",
    "    avg_rmse = np.mean(rmse_scores)\n",
    "    print('####',model.__class__.__name__,'####')\n",
    "    print('5 교차 검증의 평균 RMSE: {0:.3f}'.format(avg_rmse))\n",
    "get_model_cv_prediction(rf_run, X_test11, y_test11) "
   ]
  },
  {
   "cell_type": "code",
   "execution_count": 71,
   "metadata": {},
   "outputs": [
    {
     "name": "stdout",
     "output_type": "stream",
     "text": [
      "RMSE':3.2919419864744373\n"
     ]
    }
   ],
   "source": [
    "# test rmse\n",
    "RUN_T= RUN_2.drop(['HIT_TARGET','G_ID','T_ID','VS_T_ID', 'TB_SC', 'AB_TARGET','GDAY_DS'], axis =1)\n",
    "a11 = RUN_T.iloc[:, :-1]\n",
    "b11 = RUN_T.iloc[:, -1]\n",
    "rf_run_predict = rf_run.predict(a11)\n",
    "print(\"RMSE':{}\".format(math.sqrt(mean_squared_error(rf_run_predict, b11))) )"
   ]
  },
  {
   "cell_type": "code",
   "execution_count": 72,
   "metadata": {},
   "outputs": [
    {
     "data": {
      "image/png": "[encoded data removed]",
      "text/plain": [
       "<Figure size 576x432 with 1 Axes>"
      ]
     },
     "metadata": {
      "needs_background": "light"
     },
     "output_type": "display_data"
    }
   ],
   "source": [
    "import matplotlib.pyplot as plt # 득점모델 변수 중요도\n",
    "import seaborn as sns\n",
    "%matplotlib inline\n",
    "\n",
    "ftr_importances_values = rf_run.feature_importances_\n",
    "ftr_importances = pd.Series(ftr_importances_values, index=X_train11.columns)\n",
    "ftr_top = ftr_importances.sort_values(ascending=False)[:20]\n",
    "\n",
    "plt.figure(figsize=(8, 6))\n",
    "sns.barplot(x=ftr_top, y=ftr_top.index)\n",
    "plt.show()"
   ]
  },
  {
   "cell_type": "code",
   "execution_count": 73,
   "metadata": {},
   "outputs": [
    {
     "data": {
      "text/html": [
       "<div>\n",
       "<style scoped>\n",
       "    .dataframe tbody tr th:only-of-type {\n",
       "        vertical-align: middle;\n",
       "    }\n",
       "\n",
       "    .dataframe tbody tr th {\n",
       "        vertical-align: top;\n",
       "    }\n",
       "\n",
       "    .dataframe thead th {\n",
       "        text-align: right;\n",
       "    }\n",
       "</style>\n",
       "<table border=\"1\" class=\"dataframe\">\n",
       "  <thead>\n",
       "    <tr style=\"text-align: right;\">\n",
       "      <th></th>\n",
       "      <th>HEADER_NO</th>\n",
       "      <th>CG_CK</th>\n",
       "      <th>HOLD</th>\n",
       "      <th>INN2</th>\n",
       "      <th>BF</th>\n",
       "      <th>P_PA</th>\n",
       "      <th>P_AB</th>\n",
       "      <th>P_HIT</th>\n",
       "      <th>P_H2</th>\n",
       "      <th>P_H3</th>\n",
       "      <th>...</th>\n",
       "      <th>PRED_WHIP</th>\n",
       "      <th>PRED_SAP</th>\n",
       "      <th>PRED_YANG</th>\n",
       "      <th>M_5</th>\n",
       "      <th>M_6</th>\n",
       "      <th>M_7</th>\n",
       "      <th>M_8</th>\n",
       "      <th>M_9</th>\n",
       "      <th>M_10</th>\n",
       "      <th>R_TARGET</th>\n",
       "    </tr>\n",
       "  </thead>\n",
       "  <tbody>\n",
       "    <tr>\n",
       "      <th>0</th>\n",
       "      <td>0</td>\n",
       "      <td>0.00</td>\n",
       "      <td>0.14</td>\n",
       "      <td>27.14</td>\n",
       "      <td>148.520000</td>\n",
       "      <td>37.980000</td>\n",
       "      <td>35.280000</td>\n",
       "      <td>9.400000</td>\n",
       "      <td>2.020000</td>\n",
       "      <td>0.200000</td>\n",
       "      <td>...</td>\n",
       "      <td>1.621622</td>\n",
       "      <td>-0.350000</td>\n",
       "      <td>1.459459</td>\n",
       "      <td>1</td>\n",
       "      <td>0</td>\n",
       "      <td>0</td>\n",
       "      <td>0</td>\n",
       "      <td>0</td>\n",
       "      <td>0</td>\n",
       "      <td>10.0</td>\n",
       "    </tr>\n",
       "    <tr>\n",
       "      <th>1</th>\n",
       "      <td>0</td>\n",
       "      <td>0.00</td>\n",
       "      <td>0.30</td>\n",
       "      <td>25.74</td>\n",
       "      <td>146.460000</td>\n",
       "      <td>38.960000</td>\n",
       "      <td>35.120000</td>\n",
       "      <td>11.500000</td>\n",
       "      <td>2.060000</td>\n",
       "      <td>0.240000</td>\n",
       "      <td>...</td>\n",
       "      <td>1.149701</td>\n",
       "      <td>20.716667</td>\n",
       "      <td>1.131737</td>\n",
       "      <td>1</td>\n",
       "      <td>0</td>\n",
       "      <td>0</td>\n",
       "      <td>0</td>\n",
       "      <td>0</td>\n",
       "      <td>0</td>\n",
       "      <td>4.0</td>\n",
       "    </tr>\n",
       "    <tr>\n",
       "      <th>2</th>\n",
       "      <td>0</td>\n",
       "      <td>0.00</td>\n",
       "      <td>0.84</td>\n",
       "      <td>26.86</td>\n",
       "      <td>166.680000</td>\n",
       "      <td>41.920000</td>\n",
       "      <td>33.140000</td>\n",
       "      <td>10.300000</td>\n",
       "      <td>1.520000</td>\n",
       "      <td>0.500000</td>\n",
       "      <td>...</td>\n",
       "      <td>1.329730</td>\n",
       "      <td>6.616667</td>\n",
       "      <td>1.605405</td>\n",
       "      <td>1</td>\n",
       "      <td>0</td>\n",
       "      <td>0</td>\n",
       "      <td>0</td>\n",
       "      <td>0</td>\n",
       "      <td>0</td>\n",
       "      <td>2.0</td>\n",
       "    </tr>\n",
       "    <tr>\n",
       "      <th>3</th>\n",
       "      <td>0</td>\n",
       "      <td>0.02</td>\n",
       "      <td>0.06</td>\n",
       "      <td>26.34</td>\n",
       "      <td>169.360000</td>\n",
       "      <td>41.900000</td>\n",
       "      <td>35.860000</td>\n",
       "      <td>11.420000</td>\n",
       "      <td>2.440000</td>\n",
       "      <td>0.000000</td>\n",
       "      <td>...</td>\n",
       "      <td>1.894737</td>\n",
       "      <td>-0.116667</td>\n",
       "      <td>1.105263</td>\n",
       "      <td>1</td>\n",
       "      <td>0</td>\n",
       "      <td>0</td>\n",
       "      <td>0</td>\n",
       "      <td>0</td>\n",
       "      <td>0</td>\n",
       "      <td>9.0</td>\n",
       "    </tr>\n",
       "    <tr>\n",
       "      <th>4</th>\n",
       "      <td>0</td>\n",
       "      <td>0.00</td>\n",
       "      <td>0.06</td>\n",
       "      <td>26.16</td>\n",
       "      <td>176.340000</td>\n",
       "      <td>43.900000</td>\n",
       "      <td>35.440000</td>\n",
       "      <td>12.060000</td>\n",
       "      <td>2.360000</td>\n",
       "      <td>0.060000</td>\n",
       "      <td>...</td>\n",
       "      <td>1.386207</td>\n",
       "      <td>11.383333</td>\n",
       "      <td>1.406897</td>\n",
       "      <td>1</td>\n",
       "      <td>0</td>\n",
       "      <td>0</td>\n",
       "      <td>0</td>\n",
       "      <td>0</td>\n",
       "      <td>0</td>\n",
       "      <td>9.0</td>\n",
       "    </tr>\n",
       "    <tr>\n",
       "      <th>...</th>\n",
       "      <td>...</td>\n",
       "      <td>...</td>\n",
       "      <td>...</td>\n",
       "      <td>...</td>\n",
       "      <td>...</td>\n",
       "      <td>...</td>\n",
       "      <td>...</td>\n",
       "      <td>...</td>\n",
       "      <td>...</td>\n",
       "      <td>...</td>\n",
       "      <td>...</td>\n",
       "      <td>...</td>\n",
       "      <td>...</td>\n",
       "      <td>...</td>\n",
       "      <td>...</td>\n",
       "      <td>...</td>\n",
       "      <td>...</td>\n",
       "      <td>...</td>\n",
       "      <td>...</td>\n",
       "      <td>...</td>\n",
       "      <td>...</td>\n",
       "    </tr>\n",
       "    <tr>\n",
       "      <th>4637</th>\n",
       "      <td>0</td>\n",
       "      <td>0.00</td>\n",
       "      <td>0.32</td>\n",
       "      <td>25.56</td>\n",
       "      <td>156.920000</td>\n",
       "      <td>39.810000</td>\n",
       "      <td>33.520000</td>\n",
       "      <td>9.420000</td>\n",
       "      <td>1.460000</td>\n",
       "      <td>0.200000</td>\n",
       "      <td>...</td>\n",
       "      <td>1.311475</td>\n",
       "      <td>12.250000</td>\n",
       "      <td>1.196721</td>\n",
       "      <td>0</td>\n",
       "      <td>0</td>\n",
       "      <td>0</td>\n",
       "      <td>0</td>\n",
       "      <td>1</td>\n",
       "      <td>0</td>\n",
       "      <td>5.0</td>\n",
       "    </tr>\n",
       "    <tr>\n",
       "      <th>4638</th>\n",
       "      <td>1</td>\n",
       "      <td>0.00</td>\n",
       "      <td>0.94</td>\n",
       "      <td>26.62</td>\n",
       "      <td>147.180000</td>\n",
       "      <td>39.560000</td>\n",
       "      <td>35.786667</td>\n",
       "      <td>10.126667</td>\n",
       "      <td>1.593333</td>\n",
       "      <td>0.153333</td>\n",
       "      <td>...</td>\n",
       "      <td>0.677778</td>\n",
       "      <td>5.097917</td>\n",
       "      <td>0.609063</td>\n",
       "      <td>0</td>\n",
       "      <td>0</td>\n",
       "      <td>0</td>\n",
       "      <td>0</td>\n",
       "      <td>1</td>\n",
       "      <td>0</td>\n",
       "      <td>3.0</td>\n",
       "    </tr>\n",
       "    <tr>\n",
       "      <th>4639</th>\n",
       "      <td>1</td>\n",
       "      <td>0.00</td>\n",
       "      <td>0.08</td>\n",
       "      <td>26.26</td>\n",
       "      <td>153.126667</td>\n",
       "      <td>41.086667</td>\n",
       "      <td>35.666667</td>\n",
       "      <td>11.446667</td>\n",
       "      <td>2.340000</td>\n",
       "      <td>0.213333</td>\n",
       "      <td>...</td>\n",
       "      <td>1.296774</td>\n",
       "      <td>-6.083333</td>\n",
       "      <td>1.703226</td>\n",
       "      <td>0</td>\n",
       "      <td>0</td>\n",
       "      <td>0</td>\n",
       "      <td>0</td>\n",
       "      <td>1</td>\n",
       "      <td>0</td>\n",
       "      <td>7.0</td>\n",
       "    </tr>\n",
       "    <tr>\n",
       "      <th>4640</th>\n",
       "      <td>2</td>\n",
       "      <td>0.00</td>\n",
       "      <td>0.94</td>\n",
       "      <td>26.62</td>\n",
       "      <td>147.180000</td>\n",
       "      <td>39.560000</td>\n",
       "      <td>35.786667</td>\n",
       "      <td>10.126667</td>\n",
       "      <td>1.593333</td>\n",
       "      <td>0.153333</td>\n",
       "      <td>...</td>\n",
       "      <td>0.677778</td>\n",
       "      <td>5.097917</td>\n",
       "      <td>0.609063</td>\n",
       "      <td>0</td>\n",
       "      <td>0</td>\n",
       "      <td>0</td>\n",
       "      <td>0</td>\n",
       "      <td>1</td>\n",
       "      <td>0</td>\n",
       "      <td>6.0</td>\n",
       "    </tr>\n",
       "    <tr>\n",
       "      <th>4641</th>\n",
       "      <td>2</td>\n",
       "      <td>0.00</td>\n",
       "      <td>0.08</td>\n",
       "      <td>26.26</td>\n",
       "      <td>153.126667</td>\n",
       "      <td>41.086667</td>\n",
       "      <td>35.666667</td>\n",
       "      <td>11.446667</td>\n",
       "      <td>2.340000</td>\n",
       "      <td>0.213333</td>\n",
       "      <td>...</td>\n",
       "      <td>1.145455</td>\n",
       "      <td>12.166667</td>\n",
       "      <td>1.172727</td>\n",
       "      <td>0</td>\n",
       "      <td>0</td>\n",
       "      <td>0</td>\n",
       "      <td>0</td>\n",
       "      <td>1</td>\n",
       "      <td>0</td>\n",
       "      <td>1.0</td>\n",
       "    </tr>\n",
       "  </tbody>\n",
       "</table>\n",
       "<p>4382 rows × 85 columns</p>\n",
       "</div>"
      ],
      "text/plain": [
       "      HEADER_NO  CG_CK  HOLD   INN2          BF       P_PA       P_AB  \\\n",
       "0             0   0.00  0.14  27.14  148.520000  37.980000  35.280000   \n",
       "1             0   0.00  0.30  25.74  146.460000  38.960000  35.120000   \n",
       "2             0   0.00  0.84  26.86  166.680000  41.920000  33.140000   \n",
       "3             0   0.02  0.06  26.34  169.360000  41.900000  35.860000   \n",
       "4             0   0.00  0.06  26.16  176.340000  43.900000  35.440000   \n",
       "...         ...    ...   ...    ...         ...        ...        ...   \n",
       "4637          0   0.00  0.32  25.56  156.920000  39.810000  33.520000   \n",
       "4638          1   0.00  0.94  26.62  147.180000  39.560000  35.786667   \n",
       "4639          1   0.00  0.08  26.26  153.126667  41.086667  35.666667   \n",
       "4640          2   0.00  0.94  26.62  147.180000  39.560000  35.786667   \n",
       "4641          2   0.00  0.08  26.26  153.126667  41.086667  35.666667   \n",
       "\n",
       "          P_HIT      P_H2      P_H3  ...  PRED_WHIP   PRED_SAP  PRED_YANG  \\\n",
       "0      9.400000  2.020000  0.200000  ...   1.621622  -0.350000   1.459459   \n",
       "1     11.500000  2.060000  0.240000  ...   1.149701  20.716667   1.131737   \n",
       "2     10.300000  1.520000  0.500000  ...   1.329730   6.616667   1.605405   \n",
       "3     11.420000  2.440000  0.000000  ...   1.894737  -0.116667   1.105263   \n",
       "4     12.060000  2.360000  0.060000  ...   1.386207  11.383333   1.406897   \n",
       "...         ...       ...       ...  ...        ...        ...        ...   \n",
       "4637   9.420000  1.460000  0.200000  ...   1.311475  12.250000   1.196721   \n",
       "4638  10.126667  1.593333  0.153333  ...   0.677778   5.097917   0.609063   \n",
       "4639  11.446667  2.340000  0.213333  ...   1.296774  -6.083333   1.703226   \n",
       "4640  10.126667  1.593333  0.153333  ...   0.677778   5.097917   0.609063   \n",
       "4641  11.446667  2.340000  0.213333  ...   1.145455  12.166667   1.172727   \n",
       "\n",
       "      M_5  M_6  M_7  M_8  M_9  M_10  R_TARGET  \n",
       "0       1    0    0    0    0     0      10.0  \n",
       "1       1    0    0    0    0     0       4.0  \n",
       "2       1    0    0    0    0     0       2.0  \n",
       "3       1    0    0    0    0     0       9.0  \n",
       "4       1    0    0    0    0     0       9.0  \n",
       "...   ...  ...  ...  ...  ...   ...       ...  \n",
       "4637    0    0    0    0    1     0       5.0  \n",
       "4638    0    0    0    0    1     0       3.0  \n",
       "4639    0    0    0    0    1     0       7.0  \n",
       "4640    0    0    0    0    1     0       6.0  \n",
       "4641    0    0    0    0    1     0       1.0  \n",
       "\n",
       "[4382 rows x 85 columns]"
      ]
     },
     "execution_count": 73,
     "metadata": {},
     "output_type": "execute_result"
    }
   ],
   "source": [
    "# 랜덤포레스트 실점모델\n",
    "R_ONE =pd.read_csv(r'C:\\Users\\yuntaeyang\\Desktop\\svt_code\\LOST_END.csv' , encoding = 'ms949' , index_col=0)\n",
    "\n",
    "R_ONE1 = R_ONE.iloc[0:4642, :]\n",
    "R_END = R_ONE.iloc[4642:4900, :] # 실제 예측해야하는 데이터\n",
    "R_1 = R_ONE1.iloc[0:2680, :]\n",
    "R_2 = R_ONE1.iloc[2680:2940, :]# test셋\n",
    "R_3 = R_ONE1.iloc[2940:4642, :] \n",
    "df = [R_1, R_3]\n",
    "R_ONE= pd.concat(df)\n",
    "R_ONE_1 = R_ONE.drop(['ER_TARGET','G_ID','T_ID','VS_T_ID', 'TB_SC', 'INN2_TARGET','GDAY_DS'], axis =1)\n",
    "R_ONE_1"
   ]
  },
  {
   "cell_type": "code",
   "execution_count": 74,
   "metadata": {},
   "outputs": [
    {
     "name": "stdout",
     "output_type": "stream",
     "text": [
      "최적 하이퍼 파라미터: {'max_depth': 5, 'min_samples_leaf': 18, 'min_samples_split': 8, 'n_estimators': 200}\n",
      "최적 예측 정확도: -0.0002\n"
     ]
    }
   ],
   "source": [
    "#GRIDSEARCH를 이용한 최적화\n",
    "X_22 = R_ONE_1.iloc[:, :-1]\n",
    "y_22 = R_ONE_1.iloc[:, -1]\n",
    "X_train22, X_test22, y_train22, y_test22=train_test_split(X_22, y_22,\n",
    "                                                  test_size=0.2, random_state=0)\n",
    "\n",
    "\n",
    "params = {\n",
    "    'n_estimators':(100, 200),\n",
    "    'max_depth' : (5, 8),\n",
    "    'min_samples_leaf' : (8, 18),\n",
    "    'min_samples_split' : (8, 18)\n",
    "}\n",
    "rf_r = RandomForestRegressor(random_state=0, n_jobs=-1)\n",
    "grid_cv = GridSearchCV(rf_r, param_grid=params, cv=2, n_jobs=-1)\n",
    "grid_cv.fit(X_train22, y_train22)\n",
    "\n",
    "\n",
    "print('최적 하이퍼 파라미터:', grid_cv.best_params_)\n",
    "print('최적 예측 정확도: {0:.4f}'.format(grid_cv.best_score_))"
   ]
  },
  {
   "cell_type": "code",
   "execution_count": 75,
   "metadata": {},
   "outputs": [
    {
     "data": {
      "text/plain": [
       "RandomForestRegressor(bootstrap=True, ccp_alpha=0.0, criterion='mse',\n",
       "                      max_depth=5, max_features='auto', max_leaf_nodes=None,\n",
       "                      max_samples=None, min_impurity_decrease=0.0,\n",
       "                      min_impurity_split=None, min_samples_leaf=18,\n",
       "                      min_samples_split=18, min_weight_fraction_leaf=0.0,\n",
       "                      n_estimators=200, n_jobs=None, oob_score=False,\n",
       "                      random_state=0, verbose=0, warm_start=False)"
      ]
     },
     "execution_count": 75,
     "metadata": {},
     "output_type": "execute_result"
    }
   ],
   "source": [
    "# 랜덤포레스트 실점모델 학습\n",
    "rf_r = RandomForestRegressor(random_state=0, max_depth=5, min_samples_leaf=18, min_samples_split=18,n_estimators=200)\n",
    "rf_r.fit(X_train22, y_train22)"
   ]
  },
  {
   "cell_type": "code",
   "execution_count": 76,
   "metadata": {},
   "outputs": [
    {
     "name": "stdout",
     "output_type": "stream",
     "text": [
      "RMSE':3.29346459904915\n"
     ]
    }
   ],
   "source": [
    "# train rmse\n",
    "rf_r_predict = rf_r.predict(X_train22)\n",
    "print(\"RMSE':{}\".format(math.sqrt(mean_squared_error(rf_r_predict, y_train22))) )"
   ]
  },
  {
   "cell_type": "code",
   "execution_count": 77,
   "metadata": {},
   "outputs": [
    {
     "name": "stdout",
     "output_type": "stream",
     "text": [
      "#### RandomForestRegressor ####\n",
      "5 교차 검증의 평균 RMSE: 3.285\n"
     ]
    }
   ],
   "source": [
    "# varidation rmse\n",
    "def get_model_cv_prediction(model, X_data, y_target):\n",
    "    neg_mse_scores=cross_val_score(model, X_data, y_target, scoring='neg_mean_squared_error', cv=5)\n",
    "    rmse_scores = np.sqrt(-1*neg_mse_scores)\n",
    "    avg_rmse = np.mean(rmse_scores)\n",
    "    print('####',model.__class__.__name__,'####')\n",
    "    print('5 교차 검증의 평균 RMSE: {0:.3f}'.format(avg_rmse))\n",
    "get_model_cv_prediction(rf_r, X_test22, y_test22) "
   ]
  },
  {
   "cell_type": "code",
   "execution_count": 78,
   "metadata": {},
   "outputs": [
    {
     "name": "stdout",
     "output_type": "stream",
     "text": [
      "RMSE':3.286876035745206\n"
     ]
    }
   ],
   "source": [
    "# test rmse\n",
    "R_T= R_2.drop(['ER_TARGET','G_ID','T_ID','VS_T_ID', 'TB_SC', 'INN2_TARGET','GDAY_DS'], axis =1)\n",
    "a22 = R_T.iloc[:, :-1]\n",
    "b22 = R_T.iloc[:, -1]\n",
    "rf_r_predict = rf_r.predict(a22)\n",
    "print(\"RMSE':{}\".format(math.sqrt(mean_squared_error(rf_r_predict, b22))) )"
   ]
  },
  {
   "cell_type": "code",
   "execution_count": 79,
   "metadata": {},
   "outputs": [
    {
     "data": {
      "image/png": "[encoded data removed]",
      "text/plain": [
       "<Figure size 576x432 with 1 Axes>"
      ]
     },
     "metadata": {
      "needs_background": "light"
     },
     "output_type": "display_data"
    }
   ],
   "source": [
    "import matplotlib.pyplot as plt # 실점모델 변수 중요도\n",
    "import seaborn as sns\n",
    "%matplotlib inline\n",
    "\n",
    "ftr_importances_values = rf_r.feature_importances_\n",
    "ftr_importances = pd.Series(ftr_importances_values, index=X_train22.columns)\n",
    "ftr_top = ftr_importances.sort_values(ascending=False)[:20]\n",
    "\n",
    "plt.figure(figsize=(8, 6))\n",
    "sns.barplot(x=ftr_top, y=ftr_top.index)\n",
    "plt.show()"
   ]
  },
  {
   "cell_type": "markdown",
   "metadata": {},
   "source": [
    "## XGBOOST 승률 모델"
   ]
  },
  {
   "cell_type": "code",
   "execution_count": 80,
   "metadata": {},
   "outputs": [],
   "source": [
    "import xgboost as xgb\n",
    "from xgboost import plot_importance\n",
    "import warnings\n",
    "warnings.filterwarnings('ignore')"
   ]
  },
  {
   "cell_type": "code",
   "execution_count": 81,
   "metadata": {},
   "outputs": [
    {
     "name": "stdout",
     "output_type": "stream",
     "text": [
      "|   iter    |  target   | colsam... |    eta    |   gamma   | max_depth | min_ch... | subsample |\n",
      "-------------------------------------------------------------------------------------------------\n",
      "| \u001b[0m 1       \u001b[0m | \u001b[0m-4.004   \u001b[0m | \u001b[0m 0.6293  \u001b[0m | \u001b[0m 0.243   \u001b[0m | \u001b[0m 0.6028  \u001b[0m | \u001b[0m 5.18    \u001b[0m | \u001b[0m 6.695   \u001b[0m | \u001b[0m 0.8938  \u001b[0m |\n",
      "| \u001b[95m 2       \u001b[0m | \u001b[95m-3.907   \u001b[0m | \u001b[95m 0.5626  \u001b[0m | \u001b[95m 0.2784  \u001b[0m | \u001b[95m 0.9637  \u001b[0m | \u001b[95m 4.534   \u001b[0m | \u001b[95m 8.167   \u001b[0m | \u001b[95m 0.8587  \u001b[0m |\n",
      "| \u001b[95m 3       \u001b[0m | \u001b[95m-3.759   \u001b[0m | \u001b[95m 0.6408  \u001b[0m | \u001b[95m 0.2851  \u001b[0m | \u001b[95m 0.07104 \u001b[0m | \u001b[95m 3.349   \u001b[0m | \u001b[95m 5.081   \u001b[0m | \u001b[95m 0.9498  \u001b[0m |\n",
      "| \u001b[95m 4       \u001b[0m | \u001b[95m-3.504   \u001b[0m | \u001b[95m 0.9     \u001b[0m | \u001b[95m 0.1     \u001b[0m | \u001b[95m 0.0     \u001b[0m | \u001b[95m 3.0     \u001b[0m | \u001b[95m 9.0     \u001b[0m | \u001b[95m 1.0     \u001b[0m |\n",
      "| \u001b[0m 5       \u001b[0m | \u001b[0m-3.675   \u001b[0m | \u001b[0m 0.3366  \u001b[0m | \u001b[0m 0.2309  \u001b[0m | \u001b[0m 0.09991 \u001b[0m | \u001b[0m 3.018   \u001b[0m | \u001b[0m 8.891   \u001b[0m | \u001b[0m 0.758   \u001b[0m |\n",
      "| \u001b[0m 6       \u001b[0m | \u001b[0m-3.829   \u001b[0m | \u001b[0m 0.9     \u001b[0m | \u001b[0m 0.1     \u001b[0m | \u001b[0m 0.0     \u001b[0m | \u001b[0m 7.0     \u001b[0m | \u001b[0m 9.0     \u001b[0m | \u001b[0m 1.0     \u001b[0m |\n",
      "| \u001b[0m 7       \u001b[0m | \u001b[0m-3.648   \u001b[0m | \u001b[0m 0.8641  \u001b[0m | \u001b[0m 0.215   \u001b[0m | \u001b[0m 0.9241  \u001b[0m | \u001b[0m 3.002   \u001b[0m | \u001b[0m 8.996   \u001b[0m | \u001b[0m 0.9907  \u001b[0m |\n",
      "| \u001b[0m 8       \u001b[0m | \u001b[0m-3.767   \u001b[0m | \u001b[0m 0.8715  \u001b[0m | \u001b[0m 0.2931  \u001b[0m | \u001b[0m 0.005288\u001b[0m | \u001b[0m 3.029   \u001b[0m | \u001b[0m 8.55    \u001b[0m | \u001b[0m 0.9069  \u001b[0m |\n",
      "=================================================================================================\n"
     ]
    }
   ],
   "source": [
    "# XGBOOST 득점모델 베이지안 최적화\n",
    "import numpy as np\n",
    "import matplotlib\n",
    "from matplotlib import pyplot as plt\n",
    "from sklearn import datasets\n",
    "from sklearn.model_selection import cross_val_score\n",
    "from bayes_opt import BayesianOptimization\n",
    "import xgboost as xgb\n",
    "\n",
    "X_11 = RUN_ONE_1.iloc[:, :-1]\n",
    "y_11 = RUN_ONE_1.iloc[:, -1]\n",
    "X_train11, X_test11, y_train11, y_test11=train_test_split(X_11, y_11,\n",
    "                                                  test_size=0.2, random_state=0)\n",
    "                                                 \n",
    "dtrain = xgb.DMatrix(data=X_train11, label=y_train11)\n",
    "dtest = xgb.DMatrix(data=X_test11, label=y_test11)\n",
    "\n",
    "\n",
    "def xgb_evaluate(max_depth, gamma, colsample_bytree,min_child_weight,eta,subsample):\n",
    "    params = {'eval_metric': 'rmse',\n",
    "              'objective':'reg:squarederror',\n",
    "              'min_child_weight': min_child_weight,\n",
    "              'max_depth': int(max_depth),\n",
    "              'subsample': subsample,\n",
    "              'eta': eta,\n",
    "              'gamma': gamma,\n",
    "              'colsample_bytree': colsample_bytree}\n",
    "    # Used around 1000 boosting rounds in the full model\n",
    "    cv_result = xgb.cv(params, dtrain, num_boost_round=100, nfold=3)    \n",
    "    \n",
    "    # Bayesian optimization only knows how to maximize, not minimize, so return the negative RMSE\n",
    "    return -1.0 * cv_result['test-rmse-mean'].iloc[-1]\n",
    "\n",
    "xgb_bo = BayesianOptimization(xgb_evaluate, {'max_depth': (3, 7), \n",
    "                                             'gamma': (0, 1),\n",
    "                                             'colsample_bytree': (0.3, 0.9),\n",
    "                                            'min_child_weight': (5, 9),\n",
    "                                            'eta':(0.1, 0.3),\n",
    "                                            'subsample':(0.7,1.0)},random_state = 0 )\n",
    "# Use the expected improvement acquisition function to handle negative numbers\n",
    "# Optimally needs quite a few more initiation points and number of iterations\n",
    "xgb_bo.maximize(init_points=3, n_iter=5, acq='ei')"
   ]
  },
  {
   "cell_type": "code",
   "execution_count": 82,
   "metadata": {},
   "outputs": [
    {
     "name": "stdout",
     "output_type": "stream",
     "text": [
      "[0]\ttrain-rmse:5.45028\teval-rmse:5.38158\n",
      "Multiple eval metrics have been passed: 'eval-rmse' will be used for early stopping.\n",
      "\n",
      "Will train until eval-rmse hasn't improved in 10 rounds.\n",
      "[1]\ttrain-rmse:5.12282\teval-rmse:5.05721\n",
      "[2]\ttrain-rmse:4.84126\teval-rmse:4.77962\n",
      "[3]\ttrain-rmse:4.5982\teval-rmse:4.53901\n",
      "[4]\ttrain-rmse:4.39228\teval-rmse:4.33973\n",
      "[5]\ttrain-rmse:4.21597\teval-rmse:4.1689\n",
      "[6]\ttrain-rmse:4.06711\teval-rmse:4.02429\n",
      "[7]\ttrain-rmse:3.94237\teval-rmse:3.90439\n",
      "[8]\ttrain-rmse:3.83649\teval-rmse:3.80434\n",
      "[9]\ttrain-rmse:3.74763\teval-rmse:3.72024\n",
      "[10]\ttrain-rmse:3.67459\teval-rmse:3.65372\n",
      "[11]\ttrain-rmse:3.61228\teval-rmse:3.59521\n",
      "[12]\ttrain-rmse:3.56249\teval-rmse:3.55031\n",
      "[13]\ttrain-rmse:3.52145\teval-rmse:3.51329\n",
      "[14]\ttrain-rmse:3.48521\teval-rmse:3.48247\n",
      "[15]\ttrain-rmse:3.45631\teval-rmse:3.45681\n",
      "[16]\ttrain-rmse:3.42901\teval-rmse:3.43487\n",
      "[17]\ttrain-rmse:3.40855\teval-rmse:3.4187\n",
      "[18]\ttrain-rmse:3.38995\teval-rmse:3.4036\n",
      "[19]\ttrain-rmse:3.3749\teval-rmse:3.39403\n",
      "[20]\ttrain-rmse:3.3612\teval-rmse:3.38517\n",
      "[21]\ttrain-rmse:3.34933\teval-rmse:3.37677\n",
      "[22]\ttrain-rmse:3.34126\teval-rmse:3.37211\n",
      "[23]\ttrain-rmse:3.33125\teval-rmse:3.36757\n",
      "[24]\ttrain-rmse:3.32486\teval-rmse:3.36378\n",
      "[25]\ttrain-rmse:3.31685\teval-rmse:3.36151\n",
      "[26]\ttrain-rmse:3.31119\teval-rmse:3.35888\n",
      "[27]\ttrain-rmse:3.30621\teval-rmse:3.35756\n",
      "[28]\ttrain-rmse:3.30287\teval-rmse:3.35652\n",
      "[29]\ttrain-rmse:3.29837\teval-rmse:3.35461\n",
      "[30]\ttrain-rmse:3.29442\teval-rmse:3.35313\n",
      "[31]\ttrain-rmse:3.28844\teval-rmse:3.35101\n",
      "[32]\ttrain-rmse:3.28294\teval-rmse:3.35007\n",
      "[33]\ttrain-rmse:3.27972\teval-rmse:3.35037\n",
      "[34]\ttrain-rmse:3.27594\teval-rmse:3.35054\n",
      "[35]\ttrain-rmse:3.27004\teval-rmse:3.35023\n",
      "[36]\ttrain-rmse:3.26785\teval-rmse:3.34892\n",
      "[37]\ttrain-rmse:3.26408\teval-rmse:3.34987\n",
      "[38]\ttrain-rmse:3.25992\teval-rmse:3.35103\n",
      "[39]\ttrain-rmse:3.25494\teval-rmse:3.35155\n",
      "[40]\ttrain-rmse:3.25067\teval-rmse:3.35132\n",
      "[41]\ttrain-rmse:3.24735\teval-rmse:3.35402\n",
      "[42]\ttrain-rmse:3.24494\teval-rmse:3.35325\n",
      "[43]\ttrain-rmse:3.24292\teval-rmse:3.3534\n",
      "[44]\ttrain-rmse:3.23923\teval-rmse:3.3531\n",
      "[45]\ttrain-rmse:3.23609\teval-rmse:3.35234\n",
      "[46]\ttrain-rmse:3.23405\teval-rmse:3.35229\n",
      "Stopping. Best iteration:\n",
      "[36]\ttrain-rmse:3.26785\teval-rmse:3.34892\n",
      "\n"
     ]
    },
    {
     "data": {
      "text/plain": [
       "<matplotlib.axes._subplots.AxesSubplot at 0x1d0c9e0ed08>"
      ]
     },
     "execution_count": 82,
     "metadata": {},
     "output_type": "execute_result"
    },
    {
     "data": {
      "image/png": "[encoded data removed]",
      "text/plain": [
       "<Figure size 1728x2448 with 1 Axes>"
      ]
     },
     "metadata": {
      "needs_background": "light"
     },
     "output_type": "display_data"
    }
   ],
   "source": [
    "# XGBOOST 득점 모델 학습\n",
    "X_11 = RUN_ONE_1.iloc[:, :-1]\n",
    "y_11 = RUN_ONE_1.iloc[:, -1]\n",
    "X_train11, X_test11, y_train11, y_test11=train_test_split(X_11, y_11,\n",
    "                                                  test_size=0.2, random_state=0)\n",
    "                                                 \n",
    "dtrain = xgb.DMatrix(data=X_train11, label=y_train11)\n",
    "dtest = xgb.DMatrix(data=X_test11, label=y_test11)\n",
    "\n",
    "params = {\n",
    "         'max_depth': 3,\n",
    "         'eta': 0.1,\n",
    "         'objective':'reg:squarederror',\n",
    "         'eval_metric': 'rmse',\n",
    "         'early_stopings':10,\n",
    "         'gamma': 0,\n",
    "         'colsample_bytree':0.9,\n",
    "         'min_child_weight':9,\n",
    "         'subsample': 1\n",
    "         }\n",
    "num_rounds = 500\n",
    "\n",
    "wlist = [(dtrain, 'train'),(dtest, 'eval')]\n",
    "xgb_run =xgb.train(params = params, dtrain=dtrain, num_boost_round=num_rounds, early_stopping_rounds=10, evals=wlist)\n",
    "\n",
    "pred = xgb_run.predict(dtest)\n",
    "\n",
    "\n",
    "\n",
    "from xgboost import plot_importance # 득점모델의 변수 중요도\n",
    "import matplotlib.pyplot as plt\n",
    "%matplotlib inline\n",
    "\n",
    "fig, ax = plt.subplots(figsize=(24, 34))\n",
    "plot_importance(xgb_run, ax=ax)"
   ]
  },
  {
   "cell_type": "code",
   "execution_count": 83,
   "metadata": {},
   "outputs": [
    {
     "name": "stdout",
     "output_type": "stream",
     "text": [
      "RMSE':3.311085954455768\n"
     ]
    }
   ],
   "source": [
    "# test rmse\n",
    "RUN_T= RUN_2.drop(['HIT_TARGET','G_ID','T_ID','VS_T_ID', 'TB_SC', 'AB_TARGET','GDAY_DS'], axis =1)\n",
    "a11 = RUN_T.iloc[:, :-1]\n",
    "b11 = RUN_T.iloc[:, -1]\n",
    "atest = xgb.DMatrix(data=a11)\n",
    "xgb_run_predict = xgb_run.predict(atest)\n",
    "print(\"RMSE':{}\".format(math.sqrt(mean_squared_error(xgb_run_predict, b11))) )"
   ]
  },
  {
   "cell_type": "code",
   "execution_count": 84,
   "metadata": {},
   "outputs": [
    {
     "name": "stdout",
     "output_type": "stream",
     "text": [
      "|   iter    |  target   | colsam... |    eta    |   gamma   | max_depth | min_ch... | subsample |\n",
      "-------------------------------------------------------------------------------------------------\n",
      "| \u001b[0m 1       \u001b[0m | \u001b[0m-3.884   \u001b[0m | \u001b[0m 0.6293  \u001b[0m | \u001b[0m 0.243   \u001b[0m | \u001b[0m 0.6028  \u001b[0m | \u001b[0m 5.18    \u001b[0m | \u001b[0m 6.695   \u001b[0m | \u001b[0m 0.8938  \u001b[0m |\n",
      "| \u001b[95m 2       \u001b[0m | \u001b[95m-3.833   \u001b[0m | \u001b[95m 0.5626  \u001b[0m | \u001b[95m 0.2784  \u001b[0m | \u001b[95m 0.9637  \u001b[0m | \u001b[95m 4.534   \u001b[0m | \u001b[95m 8.167   \u001b[0m | \u001b[95m 0.8587  \u001b[0m |\n",
      "| \u001b[95m 3       \u001b[0m | \u001b[95m-3.689   \u001b[0m | \u001b[95m 0.6408  \u001b[0m | \u001b[95m 0.2851  \u001b[0m | \u001b[95m 0.07104 \u001b[0m | \u001b[95m 3.349   \u001b[0m | \u001b[95m 5.081   \u001b[0m | \u001b[95m 0.9498  \u001b[0m |\n",
      "| \u001b[95m 4       \u001b[0m | \u001b[95m-3.496   \u001b[0m | \u001b[95m 0.3     \u001b[0m | \u001b[95m 0.1     \u001b[0m | \u001b[95m 1.0     \u001b[0m | \u001b[95m 3.0     \u001b[0m | \u001b[95m 5.0     \u001b[0m | \u001b[95m 0.7     \u001b[0m |\n",
      "| \u001b[0m 5       \u001b[0m | \u001b[0m-3.667   \u001b[0m | \u001b[0m 0.845   \u001b[0m | \u001b[0m 0.2523  \u001b[0m | \u001b[0m 0.9849  \u001b[0m | \u001b[0m 3.153   \u001b[0m | \u001b[0m 5.016   \u001b[0m | \u001b[0m 0.8589  \u001b[0m |\n",
      "| \u001b[0m 6       \u001b[0m | \u001b[0m-3.525   \u001b[0m | \u001b[0m 0.3058  \u001b[0m | \u001b[0m 0.1427  \u001b[0m | \u001b[0m 0.005182\u001b[0m | \u001b[0m 3.068   \u001b[0m | \u001b[0m 8.936   \u001b[0m | \u001b[0m 0.7185  \u001b[0m |\n",
      "| \u001b[0m 7       \u001b[0m | \u001b[0m-3.5     \u001b[0m | \u001b[0m 0.3     \u001b[0m | \u001b[0m 0.1     \u001b[0m | \u001b[0m 1.0     \u001b[0m | \u001b[0m 3.0     \u001b[0m | \u001b[0m 6.797   \u001b[0m | \u001b[0m 0.7     \u001b[0m |\n",
      "| \u001b[95m 8       \u001b[0m | \u001b[95m-3.493   \u001b[0m | \u001b[95m 0.3     \u001b[0m | \u001b[95m 0.1     \u001b[0m | \u001b[95m 1.0     \u001b[0m | \u001b[95m 3.0     \u001b[0m | \u001b[95m 9.0     \u001b[0m | \u001b[95m 0.7     \u001b[0m |\n",
      "=================================================================================================\n"
     ]
    }
   ],
   "source": [
    "# XGBOOST 실점 모델 베이지안 최적화\n",
    "import numpy as np\n",
    "import matplotlib\n",
    "from matplotlib import pyplot as plt\n",
    "from sklearn import datasets\n",
    "from sklearn.model_selection import cross_val_score\n",
    "from bayes_opt import BayesianOptimization\n",
    "import xgboost as xgb\n",
    "\n",
    "X_22 = R_ONE_1.iloc[:, :-1]\n",
    "y_22 = R_ONE_1.iloc[:, -1]\n",
    "X_train22, X_test22, y_train22, y_test22=train_test_split(X_22, y_22,\n",
    "                                                  test_size=0.2, random_state=0)\n",
    "                                                 \n",
    "dtrain = xgb.DMatrix(data=X_train22, label=y_train22)\n",
    "dtest = xgb.DMatrix(data=X_test22, label=y_test22)\n",
    "\n",
    "\n",
    "def xgb_evaluate(max_depth, gamma, colsample_bytree,min_child_weight,eta,subsample):\n",
    "    params = {'eval_metric': 'rmse',\n",
    "              'objective':'reg:squarederror',\n",
    "              'min_child_weight': min_child_weight,\n",
    "              'max_depth': int(max_depth),\n",
    "              'subsample': subsample,\n",
    "              'eta': eta,\n",
    "              'gamma': gamma,\n",
    "              'colsample_bytree': colsample_bytree}\n",
    "    # Used around 1000 boosting rounds in the full model\n",
    "    cv_result = xgb.cv(params, dtrain, num_boost_round=100, nfold=3)    \n",
    "    \n",
    "    # Bayesian optimization only knows how to maximize, not minimize, so return the negative RMSE\n",
    "    return -1.0 * cv_result['test-rmse-mean'].iloc[-1]\n",
    "\n",
    "xgb_bo = BayesianOptimization(xgb_evaluate, {'max_depth': (3, 7), \n",
    "                                             'gamma': (0, 1),\n",
    "                                             'colsample_bytree': (0.3, 0.9),\n",
    "                                            'min_child_weight': (5, 9),\n",
    "                                            'eta':(0.1, 0.3),\n",
    "                                            'subsample':(0.7,1.0)},random_state = 0 )\n",
    "# Use the expected improvement acquisition function to handle negative numbers\n",
    "# Optimally needs quite a few more initiation points and number of iterations\n",
    "xgb_bo.maximize(init_points=3, n_iter=5, acq='ei')"
   ]
  },
  {
   "cell_type": "code",
   "execution_count": 85,
   "metadata": {},
   "outputs": [
    {
     "name": "stdout",
     "output_type": "stream",
     "text": [
      "[0]\ttrain-rmse:5.48189\teval-rmse:5.2383\n",
      "Multiple eval metrics have been passed: 'eval-rmse' will be used for early stopping.\n",
      "\n",
      "Will train until eval-rmse hasn't improved in 10 rounds.\n",
      "[1]\ttrain-rmse:5.15464\teval-rmse:4.91497\n",
      "[2]\ttrain-rmse:4.8717\teval-rmse:4.63225\n",
      "[3]\ttrain-rmse:4.63136\teval-rmse:4.39285\n",
      "[4]\ttrain-rmse:4.42499\teval-rmse:4.19142\n",
      "[5]\ttrain-rmse:4.24889\teval-rmse:4.02027\n",
      "[6]\ttrain-rmse:4.10046\teval-rmse:3.88235\n",
      "[7]\ttrain-rmse:3.97315\teval-rmse:3.76169\n",
      "[8]\ttrain-rmse:3.8646\teval-rmse:3.65948\n",
      "[9]\ttrain-rmse:3.77725\teval-rmse:3.58333\n",
      "[10]\ttrain-rmse:3.70353\teval-rmse:3.51697\n",
      "[11]\ttrain-rmse:3.64288\teval-rmse:3.46647\n",
      "[12]\ttrain-rmse:3.59286\teval-rmse:3.42398\n",
      "[13]\ttrain-rmse:3.54897\teval-rmse:3.38959\n",
      "[14]\ttrain-rmse:3.51468\teval-rmse:3.36148\n",
      "[15]\ttrain-rmse:3.48612\teval-rmse:3.34205\n",
      "[16]\ttrain-rmse:3.45833\teval-rmse:3.32372\n",
      "[17]\ttrain-rmse:3.43526\teval-rmse:3.30834\n",
      "[18]\ttrain-rmse:3.41629\teval-rmse:3.29503\n",
      "[19]\ttrain-rmse:3.40048\teval-rmse:3.28718\n",
      "[20]\ttrain-rmse:3.38671\teval-rmse:3.2776\n",
      "[21]\ttrain-rmse:3.3744\teval-rmse:3.27601\n",
      "[22]\ttrain-rmse:3.36552\teval-rmse:3.27275\n",
      "[23]\ttrain-rmse:3.35482\teval-rmse:3.26837\n",
      "[24]\ttrain-rmse:3.34643\teval-rmse:3.26618\n",
      "[25]\ttrain-rmse:3.33757\teval-rmse:3.26677\n",
      "[26]\ttrain-rmse:3.33173\teval-rmse:3.26608\n",
      "[27]\ttrain-rmse:3.32507\teval-rmse:3.2648\n",
      "[28]\ttrain-rmse:3.31965\teval-rmse:3.26318\n",
      "[29]\ttrain-rmse:3.3152\teval-rmse:3.26378\n",
      "[30]\ttrain-rmse:3.30838\teval-rmse:3.26333\n",
      "[31]\ttrain-rmse:3.30362\teval-rmse:3.26478\n",
      "[32]\ttrain-rmse:3.29972\teval-rmse:3.26583\n",
      "[33]\ttrain-rmse:3.29601\teval-rmse:3.26468\n",
      "[34]\ttrain-rmse:3.29189\teval-rmse:3.2678\n",
      "[35]\ttrain-rmse:3.28755\teval-rmse:3.26767\n",
      "[36]\ttrain-rmse:3.28322\teval-rmse:3.2727\n",
      "[37]\ttrain-rmse:3.2803\teval-rmse:3.27094\n",
      "[38]\ttrain-rmse:3.27854\teval-rmse:3.27144\n",
      "Stopping. Best iteration:\n",
      "[28]\ttrain-rmse:3.31965\teval-rmse:3.26318\n",
      "\n"
     ]
    },
    {
     "data": {
      "text/plain": [
       "<matplotlib.axes._subplots.AxesSubplot at 0x1d0c7ad4b48>"
      ]
     },
     "execution_count": 85,
     "metadata": {},
     "output_type": "execute_result"
    },
    {
     "data": {
      "image/png": "[encoded data removed]",
      "text/plain": [
       "<Figure size 1728x2448 with 1 Axes>"
      ]
     },
     "metadata": {
      "needs_background": "light"
     },
     "output_type": "display_data"
    }
   ],
   "source": [
    "# XGBOOST 실점 모델 학습\n",
    "X_22 = R_ONE_1.iloc[:, :-1]\n",
    "y_22 = R_ONE_1.iloc[:, -1]\n",
    "X_train22, X_test22, y_train22, y_test22=train_test_split(X_22, y_22,\n",
    "                                                  test_size=0.2, random_state=0)\n",
    "                                                 \n",
    "dtrain = xgb.DMatrix(data=X_train22, label=y_train22)\n",
    "dtest = xgb.DMatrix(data=X_test22, label=y_test22)\n",
    "\n",
    "params = {\n",
    "         'max_depth': 3,\n",
    "         'eta': 0.1,\n",
    "         'objective':'reg:squarederror',\n",
    "         'eval_metric': 'rmse',\n",
    "         'early_stopings':10,\n",
    "         'gamma': 1,\n",
    "         'colsample_bytree':0.3,\n",
    "         'min_child_weight': 9,\n",
    "         'subsample': 0.7\n",
    "         }\n",
    "num_rounds = 500\n",
    "\n",
    "wlist = [(dtrain, 'train'),(dtest, 'eval')]\n",
    "xgb_r=xgb.train(params = params, dtrain=dtrain, num_boost_round=num_rounds, early_stopping_rounds=10, evals=wlist)\n",
    "\n",
    "pred = xgb_r.predict(dtest)\n",
    "\n",
    "\n",
    "\n",
    "from xgboost import plot_importance # 실점모델의 변수 중요도\n",
    "import matplotlib.pyplot as plt\n",
    "%matplotlib inline\n",
    "\n",
    "fig, ax = plt.subplots(figsize=(24, 34))\n",
    "plot_importance(xgb_r, ax=ax)"
   ]
  },
  {
   "cell_type": "code",
   "execution_count": 86,
   "metadata": {},
   "outputs": [
    {
     "name": "stdout",
     "output_type": "stream",
     "text": [
      "RMSE':3.3021353396829594\n"
     ]
    }
   ],
   "source": [
    "# test rmse\n",
    "R_T= R_2.drop(['ER_TARGET','G_ID','T_ID','VS_T_ID', 'TB_SC', 'INN2_TARGET','GDAY_DS'], axis =1)\n",
    "a22 = R_T.iloc[:, :-1]\n",
    "b22 = R_T.iloc[:, -1]\n",
    "atest = xgb.DMatrix(data=a22)\n",
    "xgb_r_predict = xgb_r.predict(atest)\n",
    "print(\"RMSE':{}\".format(math.sqrt(mean_squared_error(xgb_r_predict, b22))) )"
   ]
  },
  {
   "cell_type": "markdown",
   "metadata": {},
   "source": [
    "## LIGHTGBM"
   ]
  },
  {
   "cell_type": "code",
   "execution_count": 87,
   "metadata": {},
   "outputs": [],
   "source": [
    "from lightgbm import LGBMRegressor\n",
    "import warnings\n",
    "warnings.filterwarnings('ignore')"
   ]
  },
  {
   "cell_type": "code",
   "execution_count": 88,
   "metadata": {},
   "outputs": [
    {
     "name": "stdout",
     "output_type": "stream",
     "text": [
      "|   iter    |  target   | colsam... | learni... | maxDepth  | min_ch... | num_le... | subsample |\n",
      "-------------------------------------------------------------------------------------------------\n",
      "| \u001b[0m 1       \u001b[0m | \u001b[0m-3.353   \u001b[0m | \u001b[0m 0.7085  \u001b[0m | \u001b[0m 0.2189  \u001b[0m | \u001b[0m 3.001   \u001b[0m | \u001b[0m 6.209   \u001b[0m | \u001b[0m 27.08   \u001b[0m | \u001b[0m 0.8185  \u001b[0m |\n",
      "| \u001b[95m 2       \u001b[0m | \u001b[95m-3.348   \u001b[0m | \u001b[95m 0.5931  \u001b[0m | \u001b[95m 0.1102  \u001b[0m | \u001b[95m 5.777   \u001b[0m | \u001b[95m 7.155   \u001b[0m | \u001b[95m 32.8    \u001b[0m | \u001b[95m 0.937   \u001b[0m |\n",
      "| \u001b[0m 3       \u001b[0m | \u001b[0m-3.358   \u001b[0m | \u001b[0m 0.6022  \u001b[0m | \u001b[0m 0.2647  \u001b[0m | \u001b[0m 3.192   \u001b[0m | \u001b[0m 7.682   \u001b[0m | \u001b[0m 32.76   \u001b[0m | \u001b[0m 0.9117  \u001b[0m |\n",
      "| \u001b[95m 4       \u001b[0m | \u001b[95m-3.347   \u001b[0m | \u001b[95m 0.5702  \u001b[0m | \u001b[95m 0.06745 \u001b[0m | \u001b[95m 8.605   \u001b[0m | \u001b[95m 8.873   \u001b[0m | \u001b[95m 30.58   \u001b[0m | \u001b[95m 0.9385  \u001b[0m |\n",
      "| \u001b[0m 5       \u001b[0m | \u001b[0m-3.354   \u001b[0m | \u001b[0m 0.9382  \u001b[0m | \u001b[0m 0.2694  \u001b[0m | \u001b[0m 3.595   \u001b[0m | \u001b[0m 5.156   \u001b[0m | \u001b[0m 27.57   \u001b[0m | \u001b[0m 0.9756  \u001b[0m |\n",
      "| \u001b[0m 6       \u001b[0m | \u001b[0m-3.358   \u001b[0m | \u001b[0m 0.6177  \u001b[0m | \u001b[0m 0.1127  \u001b[0m | \u001b[0m 9.961   \u001b[0m | \u001b[0m 5.503   \u001b[0m | \u001b[0m 44.65   \u001b[0m | \u001b[0m 0.8761  \u001b[0m |\n",
      "| \u001b[0m 7       \u001b[0m | \u001b[0m-3.351   \u001b[0m | \u001b[0m 0.6817  \u001b[0m | \u001b[0m 0.1134  \u001b[0m | \u001b[0m 9.982   \u001b[0m | \u001b[0m 5.025   \u001b[0m | \u001b[0m 24.25   \u001b[0m | \u001b[0m 0.9584  \u001b[0m |\n",
      "| \u001b[0m 8       \u001b[0m | \u001b[0m-3.36    \u001b[0m | \u001b[0m 0.54    \u001b[0m | \u001b[0m 0.2696  \u001b[0m | \u001b[0m 9.096   \u001b[0m | \u001b[0m 5.089   \u001b[0m | \u001b[0m 32.62   \u001b[0m | \u001b[0m 0.8133  \u001b[0m |\n",
      "| \u001b[95m 9       \u001b[0m | \u001b[95m-3.347   \u001b[0m | \u001b[95m 0.5191  \u001b[0m | \u001b[95m 0.03804 \u001b[0m | \u001b[95m 3.407   \u001b[0m | \u001b[95m 8.523   \u001b[0m | \u001b[95m 44.94   \u001b[0m | \u001b[95m 0.8049  \u001b[0m |\n",
      "| \u001b[0m 10      \u001b[0m | \u001b[0m-3.352   \u001b[0m | \u001b[0m 0.7691  \u001b[0m | \u001b[0m 0.09394 \u001b[0m | \u001b[0m 9.846   \u001b[0m | \u001b[0m 8.998   \u001b[0m | \u001b[0m 44.53   \u001b[0m | \u001b[0m 0.879   \u001b[0m |\n",
      "=================================================================================================\n"
     ]
    }
   ],
   "source": [
    "# LIGHTGBM 득점 모델 베이지안 최적화\n",
    "def modelFitter(colsampleByTree, subsample,maxDepth, num_leaves,learning_rate,min_child_weight):\n",
    "    X_11 = RUN_ONE_1.iloc[:, :-1]\n",
    "    y_11 = RUN_ONE_1.iloc[:, -1]\n",
    "    X_train11, X_test11, y_train11, y_test11=train_test_split(X_11, y_11,\n",
    "                                                  test_size=0.2, random_state=0)\n",
    "    model = LGBMRegressor(learning_rate=learning_rate, n_estimators=10000, max_depth=maxDepth.astype(\"int32\"), subsample=subsample, colsample_bytree=colsampleByTree,num_leaves=num_leaves.astype(\"int32\"),min_child_weight=min_child_weight)\n",
    "\n",
    "    evalSet  = [(X_test11, y_test11)]\n",
    "    model.fit(X_train11, y_train11, eval_metric=\"rmse\", eval_set=evalSet, early_stopping_rounds=50, verbose=False)\n",
    "\n",
    "    bestScore = model.best_score_[list(model.best_score_.keys())[0]]['rmse']\n",
    "\n",
    "    return -bestScore\n",
    "\n",
    "# Bounded region of parameter space\n",
    "pbounds = {'colsampleByTree': (0.5,1.0), 'subsample': (0.8,1.0), 'maxDepth': (3,10), 'num_leaves': (24, 45),'learning_rate':(0.01,0.3),'min_child_weight':(5,9)}\n",
    "\n",
    "optimizer = BayesianOptimization(\n",
    "    f=modelFitter,\n",
    "    pbounds=pbounds,\n",
    "    random_state=1)\n",
    "\n",
    "optimizer.maximize(init_points=5,n_iter=5) "
   ]
  },
  {
   "cell_type": "code",
   "execution_count": 89,
   "metadata": {},
   "outputs": [
    {
     "name": "stdout",
     "output_type": "stream",
     "text": [
      "[1]\tvalid_0's rmse: 3.36859\tvalid_0's l2: 11.3474\n",
      "Training until validation scores don't improve for 100 rounds\n",
      "[2]\tvalid_0's rmse: 3.36735\tvalid_0's l2: 11.339\n",
      "[3]\tvalid_0's rmse: 3.36743\tvalid_0's l2: 11.3396\n",
      "[4]\tvalid_0's rmse: 3.36669\tvalid_0's l2: 11.3346\n",
      "[5]\tvalid_0's rmse: 3.36552\tvalid_0's l2: 11.3267\n",
      "[6]\tvalid_0's rmse: 3.36554\tvalid_0's l2: 11.3269\n",
      "[7]\tvalid_0's rmse: 3.36542\tvalid_0's l2: 11.326\n",
      "[8]\tvalid_0's rmse: 3.3661\tvalid_0's l2: 11.3306\n",
      "[9]\tvalid_0's rmse: 3.36448\tvalid_0's l2: 11.3197\n",
      "[10]\tvalid_0's rmse: 3.36344\tvalid_0's l2: 11.3127\n",
      "[11]\tvalid_0's rmse: 3.36359\tvalid_0's l2: 11.3137\n",
      "[12]\tvalid_0's rmse: 3.36293\tvalid_0's l2: 11.3093\n",
      "[13]\tvalid_0's rmse: 3.36227\tvalid_0's l2: 11.3048\n",
      "[14]\tvalid_0's rmse: 3.36093\tvalid_0's l2: 11.2959\n",
      "[15]\tvalid_0's rmse: 3.36008\tvalid_0's l2: 11.2901\n",
      "[16]\tvalid_0's rmse: 3.36056\tvalid_0's l2: 11.2934\n",
      "[17]\tvalid_0's rmse: 3.36002\tvalid_0's l2: 11.2897\n",
      "[18]\tvalid_0's rmse: 3.36078\tvalid_0's l2: 11.2949\n",
      "[19]\tvalid_0's rmse: 3.3605\tvalid_0's l2: 11.293\n",
      "[20]\tvalid_0's rmse: 3.36047\tvalid_0's l2: 11.2928\n",
      "[21]\tvalid_0's rmse: 3.35867\tvalid_0's l2: 11.2807\n",
      "[22]\tvalid_0's rmse: 3.35971\tvalid_0's l2: 11.2877\n",
      "[23]\tvalid_0's rmse: 3.36046\tvalid_0's l2: 11.2927\n",
      "[24]\tvalid_0's rmse: 3.36013\tvalid_0's l2: 11.2905\n",
      "[25]\tvalid_0's rmse: 3.35882\tvalid_0's l2: 11.2817\n",
      "[26]\tvalid_0's rmse: 3.35937\tvalid_0's l2: 11.2854\n",
      "[27]\tvalid_0's rmse: 3.35798\tvalid_0's l2: 11.276\n",
      "[28]\tvalid_0's rmse: 3.35831\tvalid_0's l2: 11.2783\n",
      "[29]\tvalid_0's rmse: 3.35851\tvalid_0's l2: 11.2796\n",
      "[30]\tvalid_0's rmse: 3.35748\tvalid_0's l2: 11.2726\n",
      "[31]\tvalid_0's rmse: 3.35643\tvalid_0's l2: 11.2656\n",
      "[32]\tvalid_0's rmse: 3.3563\tvalid_0's l2: 11.2648\n",
      "[33]\tvalid_0's rmse: 3.35669\tvalid_0's l2: 11.2674\n",
      "[34]\tvalid_0's rmse: 3.35719\tvalid_0's l2: 11.2707\n",
      "[35]\tvalid_0's rmse: 3.35784\tvalid_0's l2: 11.2751\n",
      "[36]\tvalid_0's rmse: 3.35731\tvalid_0's l2: 11.2715\n",
      "[37]\tvalid_0's rmse: 3.35718\tvalid_0's l2: 11.2707\n",
      "[38]\tvalid_0's rmse: 3.35718\tvalid_0's l2: 11.2707\n",
      "[39]\tvalid_0's rmse: 3.35688\tvalid_0's l2: 11.2687\n",
      "[40]\tvalid_0's rmse: 3.35744\tvalid_0's l2: 11.2724\n",
      "[41]\tvalid_0's rmse: 3.35848\tvalid_0's l2: 11.2794\n",
      "[42]\tvalid_0's rmse: 3.35816\tvalid_0's l2: 11.2772\n",
      "[43]\tvalid_0's rmse: 3.35757\tvalid_0's l2: 11.2733\n",
      "[44]\tvalid_0's rmse: 3.35767\tvalid_0's l2: 11.2739\n",
      "[45]\tvalid_0's rmse: 3.35713\tvalid_0's l2: 11.2703\n",
      "[46]\tvalid_0's rmse: 3.35683\tvalid_0's l2: 11.2683\n",
      "[47]\tvalid_0's rmse: 3.35656\tvalid_0's l2: 11.2665\n",
      "[48]\tvalid_0's rmse: 3.3573\tvalid_0's l2: 11.2715\n",
      "[49]\tvalid_0's rmse: 3.35692\tvalid_0's l2: 11.2689\n",
      "[50]\tvalid_0's rmse: 3.35639\tvalid_0's l2: 11.2654\n",
      "[51]\tvalid_0's rmse: 3.35577\tvalid_0's l2: 11.2612\n",
      "[52]\tvalid_0's rmse: 3.35544\tvalid_0's l2: 11.259\n",
      "[53]\tvalid_0's rmse: 3.35596\tvalid_0's l2: 11.2625\n",
      "[54]\tvalid_0's rmse: 3.35589\tvalid_0's l2: 11.262\n",
      "[55]\tvalid_0's rmse: 3.35611\tvalid_0's l2: 11.2635\n",
      "[56]\tvalid_0's rmse: 3.35571\tvalid_0's l2: 11.2608\n",
      "[57]\tvalid_0's rmse: 3.35494\tvalid_0's l2: 11.2556\n",
      "[58]\tvalid_0's rmse: 3.355\tvalid_0's l2: 11.256\n",
      "[59]\tvalid_0's rmse: 3.35452\tvalid_0's l2: 11.2528\n",
      "[60]\tvalid_0's rmse: 3.35438\tvalid_0's l2: 11.2519\n",
      "[61]\tvalid_0's rmse: 3.3535\tvalid_0's l2: 11.246\n",
      "[62]\tvalid_0's rmse: 3.35297\tvalid_0's l2: 11.2424\n",
      "[63]\tvalid_0's rmse: 3.35287\tvalid_0's l2: 11.2418\n",
      "[64]\tvalid_0's rmse: 3.35285\tvalid_0's l2: 11.2416\n",
      "[65]\tvalid_0's rmse: 3.35293\tvalid_0's l2: 11.2422\n",
      "[66]\tvalid_0's rmse: 3.35211\tvalid_0's l2: 11.2367\n",
      "[67]\tvalid_0's rmse: 3.35177\tvalid_0's l2: 11.2344\n",
      "[68]\tvalid_0's rmse: 3.35195\tvalid_0's l2: 11.2356\n",
      "[69]\tvalid_0's rmse: 3.35182\tvalid_0's l2: 11.2347\n",
      "[70]\tvalid_0's rmse: 3.35168\tvalid_0's l2: 11.2338\n",
      "[71]\tvalid_0's rmse: 3.35129\tvalid_0's l2: 11.2311\n",
      "[72]\tvalid_0's rmse: 3.35088\tvalid_0's l2: 11.2284\n",
      "[73]\tvalid_0's rmse: 3.3499\tvalid_0's l2: 11.2219\n",
      "[74]\tvalid_0's rmse: 3.3496\tvalid_0's l2: 11.2198\n",
      "[75]\tvalid_0's rmse: 3.34925\tvalid_0's l2: 11.2175\n",
      "[76]\tvalid_0's rmse: 3.34842\tvalid_0's l2: 11.2119\n",
      "[77]\tvalid_0's rmse: 3.34825\tvalid_0's l2: 11.2108\n",
      "[78]\tvalid_0's rmse: 3.34812\tvalid_0's l2: 11.2099\n",
      "[79]\tvalid_0's rmse: 3.34786\tvalid_0's l2: 11.2082\n",
      "[80]\tvalid_0's rmse: 3.34717\tvalid_0's l2: 11.2035\n",
      "[81]\tvalid_0's rmse: 3.34691\tvalid_0's l2: 11.2018\n",
      "[82]\tvalid_0's rmse: 3.34712\tvalid_0's l2: 11.2032\n",
      "[83]\tvalid_0's rmse: 3.34692\tvalid_0's l2: 11.2019\n",
      "[84]\tvalid_0's rmse: 3.34765\tvalid_0's l2: 11.2067\n",
      "[85]\tvalid_0's rmse: 3.34715\tvalid_0's l2: 11.2034\n",
      "[86]\tvalid_0's rmse: 3.34723\tvalid_0's l2: 11.2039\n",
      "[87]\tvalid_0's rmse: 3.34704\tvalid_0's l2: 11.2027\n",
      "[88]\tvalid_0's rmse: 3.34732\tvalid_0's l2: 11.2046\n",
      "[89]\tvalid_0's rmse: 3.34752\tvalid_0's l2: 11.2059\n",
      "[90]\tvalid_0's rmse: 3.34801\tvalid_0's l2: 11.2091\n",
      "[91]\tvalid_0's rmse: 3.3479\tvalid_0's l2: 11.2084\n",
      "[92]\tvalid_0's rmse: 3.34853\tvalid_0's l2: 11.2127\n",
      "[93]\tvalid_0's rmse: 3.34838\tvalid_0's l2: 11.2116\n",
      "[94]\tvalid_0's rmse: 3.3483\tvalid_0's l2: 11.2111\n",
      "[95]\tvalid_0's rmse: 3.34836\tvalid_0's l2: 11.2115\n",
      "[96]\tvalid_0's rmse: 3.34879\tvalid_0's l2: 11.2144\n",
      "[97]\tvalid_0's rmse: 3.34888\tvalid_0's l2: 11.215\n",
      "[98]\tvalid_0's rmse: 3.34901\tvalid_0's l2: 11.2159\n",
      "[99]\tvalid_0's rmse: 3.34909\tvalid_0's l2: 11.2164\n",
      "[100]\tvalid_0's rmse: 3.34946\tvalid_0's l2: 11.2189\n",
      "[101]\tvalid_0's rmse: 3.34922\tvalid_0's l2: 11.2173\n",
      "[102]\tvalid_0's rmse: 3.34936\tvalid_0's l2: 11.2182\n",
      "[103]\tvalid_0's rmse: 3.34942\tvalid_0's l2: 11.2186\n",
      "[104]\tvalid_0's rmse: 3.35024\tvalid_0's l2: 11.2241\n",
      "[105]\tvalid_0's rmse: 3.35019\tvalid_0's l2: 11.2238\n",
      "[106]\tvalid_0's rmse: 3.34991\tvalid_0's l2: 11.2219\n",
      "[107]\tvalid_0's rmse: 3.34995\tvalid_0's l2: 11.2222\n",
      "[108]\tvalid_0's rmse: 3.34995\tvalid_0's l2: 11.2222\n",
      "[109]\tvalid_0's rmse: 3.34956\tvalid_0's l2: 11.2196\n",
      "[110]\tvalid_0's rmse: 3.35021\tvalid_0's l2: 11.2239\n",
      "[111]\tvalid_0's rmse: 3.35028\tvalid_0's l2: 11.2243\n",
      "[112]\tvalid_0's rmse: 3.35039\tvalid_0's l2: 11.2251\n",
      "[113]\tvalid_0's rmse: 3.35013\tvalid_0's l2: 11.2234\n",
      "[114]\tvalid_0's rmse: 3.35052\tvalid_0's l2: 11.226\n",
      "[115]\tvalid_0's rmse: 3.35061\tvalid_0's l2: 11.2266\n",
      "[116]\tvalid_0's rmse: 3.35046\tvalid_0's l2: 11.2256\n",
      "[117]\tvalid_0's rmse: 3.35061\tvalid_0's l2: 11.2266\n",
      "[118]\tvalid_0's rmse: 3.35057\tvalid_0's l2: 11.2263\n",
      "[119]\tvalid_0's rmse: 3.351\tvalid_0's l2: 11.2292\n",
      "[120]\tvalid_0's rmse: 3.35142\tvalid_0's l2: 11.232\n",
      "[121]\tvalid_0's rmse: 3.3514\tvalid_0's l2: 11.2319\n",
      "[122]\tvalid_0's rmse: 3.35161\tvalid_0's l2: 11.2333\n",
      "[123]\tvalid_0's rmse: 3.35156\tvalid_0's l2: 11.2329\n",
      "[124]\tvalid_0's rmse: 3.35171\tvalid_0's l2: 11.2339\n",
      "[125]\tvalid_0's rmse: 3.35105\tvalid_0's l2: 11.2296\n",
      "[126]\tvalid_0's rmse: 3.35062\tvalid_0's l2: 11.2267\n",
      "[127]\tvalid_0's rmse: 3.35087\tvalid_0's l2: 11.2283\n",
      "[128]\tvalid_0's rmse: 3.35204\tvalid_0's l2: 11.2362\n",
      "[129]\tvalid_0's rmse: 3.35185\tvalid_0's l2: 11.2349\n",
      "[130]\tvalid_0's rmse: 3.35228\tvalid_0's l2: 11.2378\n",
      "[131]\tvalid_0's rmse: 3.35224\tvalid_0's l2: 11.2375\n",
      "[132]\tvalid_0's rmse: 3.35279\tvalid_0's l2: 11.2412\n",
      "[133]\tvalid_0's rmse: 3.35292\tvalid_0's l2: 11.2421\n",
      "[134]\tvalid_0's rmse: 3.35296\tvalid_0's l2: 11.2423\n",
      "[135]\tvalid_0's rmse: 3.35312\tvalid_0's l2: 11.2434\n",
      "[136]\tvalid_0's rmse: 3.35289\tvalid_0's l2: 11.2419\n",
      "[137]\tvalid_0's rmse: 3.35326\tvalid_0's l2: 11.2443\n",
      "[138]\tvalid_0's rmse: 3.35299\tvalid_0's l2: 11.2425\n",
      "[139]\tvalid_0's rmse: 3.35383\tvalid_0's l2: 11.2482\n",
      "[140]\tvalid_0's rmse: 3.354\tvalid_0's l2: 11.2493\n",
      "[141]\tvalid_0's rmse: 3.3547\tvalid_0's l2: 11.254\n",
      "[142]\tvalid_0's rmse: 3.35472\tvalid_0's l2: 11.2541\n",
      "[143]\tvalid_0's rmse: 3.35461\tvalid_0's l2: 11.2534\n",
      "[144]\tvalid_0's rmse: 3.35465\tvalid_0's l2: 11.2537\n",
      "[145]\tvalid_0's rmse: 3.35492\tvalid_0's l2: 11.2555\n",
      "[146]\tvalid_0's rmse: 3.35457\tvalid_0's l2: 11.2531\n",
      "[147]\tvalid_0's rmse: 3.35412\tvalid_0's l2: 11.2501\n",
      "[148]\tvalid_0's rmse: 3.35395\tvalid_0's l2: 11.249\n",
      "[149]\tvalid_0's rmse: 3.35385\tvalid_0's l2: 11.2483\n",
      "[150]\tvalid_0's rmse: 3.35435\tvalid_0's l2: 11.2517\n",
      "[151]\tvalid_0's rmse: 3.35396\tvalid_0's l2: 11.2491\n",
      "[152]\tvalid_0's rmse: 3.354\tvalid_0's l2: 11.2493\n",
      "[153]\tvalid_0's rmse: 3.35408\tvalid_0's l2: 11.2498\n",
      "[154]\tvalid_0's rmse: 3.35444\tvalid_0's l2: 11.2523\n",
      "[155]\tvalid_0's rmse: 3.35473\tvalid_0's l2: 11.2542\n",
      "[156]\tvalid_0's rmse: 3.35538\tvalid_0's l2: 11.2586\n",
      "[157]\tvalid_0's rmse: 3.35517\tvalid_0's l2: 11.2572\n",
      "[158]\tvalid_0's rmse: 3.35487\tvalid_0's l2: 11.2551\n",
      "[159]\tvalid_0's rmse: 3.35499\tvalid_0's l2: 11.2559\n",
      "[160]\tvalid_0's rmse: 3.35558\tvalid_0's l2: 11.2599\n",
      "[161]\tvalid_0's rmse: 3.35548\tvalid_0's l2: 11.2592\n",
      "[162]\tvalid_0's rmse: 3.3557\tvalid_0's l2: 11.2607\n",
      "[163]\tvalid_0's rmse: 3.35625\tvalid_0's l2: 11.2644\n"
     ]
    },
    {
     "name": "stdout",
     "output_type": "stream",
     "text": [
      "[164]\tvalid_0's rmse: 3.357\tvalid_0's l2: 11.2694\n",
      "[165]\tvalid_0's rmse: 3.35709\tvalid_0's l2: 11.27\n",
      "[166]\tvalid_0's rmse: 3.35747\tvalid_0's l2: 11.2726\n",
      "[167]\tvalid_0's rmse: 3.35835\tvalid_0's l2: 11.2785\n",
      "[168]\tvalid_0's rmse: 3.35904\tvalid_0's l2: 11.2831\n",
      "[169]\tvalid_0's rmse: 3.35902\tvalid_0's l2: 11.283\n",
      "[170]\tvalid_0's rmse: 3.35935\tvalid_0's l2: 11.2852\n",
      "[171]\tvalid_0's rmse: 3.35962\tvalid_0's l2: 11.287\n",
      "[172]\tvalid_0's rmse: 3.36058\tvalid_0's l2: 11.2935\n",
      "[173]\tvalid_0's rmse: 3.36101\tvalid_0's l2: 11.2964\n",
      "[174]\tvalid_0's rmse: 3.36091\tvalid_0's l2: 11.2957\n",
      "[175]\tvalid_0's rmse: 3.36117\tvalid_0's l2: 11.2975\n",
      "[176]\tvalid_0's rmse: 3.36131\tvalid_0's l2: 11.2984\n",
      "[177]\tvalid_0's rmse: 3.36226\tvalid_0's l2: 11.3048\n",
      "[178]\tvalid_0's rmse: 3.36211\tvalid_0's l2: 11.3038\n",
      "[179]\tvalid_0's rmse: 3.36199\tvalid_0's l2: 11.303\n",
      "[180]\tvalid_0's rmse: 3.36169\tvalid_0's l2: 11.301\n",
      "[181]\tvalid_0's rmse: 3.3616\tvalid_0's l2: 11.3003\n",
      "Early stopping, best iteration is:\n",
      "[81]\tvalid_0's rmse: 3.34691\tvalid_0's l2: 11.2018\n"
     ]
    },
    {
     "data": {
      "text/plain": [
       "<matplotlib.axes._subplots.AxesSubplot at 0x1d0ca78afc8>"
      ]
     },
     "execution_count": 89,
     "metadata": {},
     "output_type": "execute_result"
    },
    {
     "data": {
      "image/png": "[encoded data removed]",
      "text/plain": [
       "<Figure size 1008x1728 with 1 Axes>"
      ]
     },
     "metadata": {
      "needs_background": "light"
     },
     "output_type": "display_data"
    }
   ],
   "source": [
    "# LIGHTGBM 득점 모델 학습\n",
    "X_11 = RUN_ONE_1.iloc[:, :-1]\n",
    "y_11 = RUN_ONE_1.iloc[:, -1]\n",
    "X_train11, X_test11, y_train11, y_test11=train_test_split(X_11, y_11,\n",
    "                                                  test_size=0.2, random_state=0)\n",
    "                        \n",
    "lgbm_run = LGBMRegressor(n_estimators=300, learning_rate=0.03804, num_leaves=45, sumbsample=0.8049, colsample_bytree=0.5191, max_depth=3,\n",
    "                             min_child_weight=8.523)\n",
    "evals = [(X_test11, y_test11)]\n",
    "lgbm_run.fit(X_train11, y_train11, early_stopping_rounds=100, eval_metric='rmse', eval_set=evals, verbose=True)\n",
    "preds = lgbm_run.predict(X_test11)\n",
    "\n",
    "from lightgbm import plot_importance # 득점모델의 변수 중요도\n",
    "import matplotlib.pyplot as plt\n",
    "%matplotlib inline\n",
    "\n",
    "fig, ax = plt.subplots(figsize=(14, 24))\n",
    "plot_importance(lgbm_run, ax=ax)"
   ]
  },
  {
   "cell_type": "code",
   "execution_count": 90,
   "metadata": {},
   "outputs": [
    {
     "name": "stdout",
     "output_type": "stream",
     "text": [
      "RMSE':3.2947426415479977\n"
     ]
    }
   ],
   "source": [
    "# train rmse\n",
    "lgbm_run_predict = lgbm_run.predict(X_train11)\n",
    "print(\"RMSE':{}\".format(math.sqrt(mean_squared_error(lgbm_run_predict, y_train11))) )"
   ]
  },
  {
   "cell_type": "code",
   "execution_count": 91,
   "metadata": {},
   "outputs": [
    {
     "name": "stdout",
     "output_type": "stream",
     "text": [
      "RMSE':3.3089867651381515\n"
     ]
    }
   ],
   "source": [
    "# test rmse\n",
    "RUN_T= RUN_2.drop(['HIT_TARGET','G_ID','T_ID','VS_T_ID', 'TB_SC', 'AB_TARGET','GDAY_DS'], axis =1)\n",
    "a11 = RUN_T.iloc[:, :-1]\n",
    "b11 = RUN_T.iloc[:, -1]\n",
    "lgbm_run_predict = lgbm_run.predict(a11)\n",
    "print(\"RMSE':{}\".format(math.sqrt(mean_squared_error(lgbm_run_predict, b11))) )"
   ]
  },
  {
   "cell_type": "code",
   "execution_count": 92,
   "metadata": {},
   "outputs": [
    {
     "name": "stdout",
     "output_type": "stream",
     "text": [
      "|   iter    |  target   | colsam... | learni... | maxDepth  | min_ch... | num_le... | subsample |\n",
      "-------------------------------------------------------------------------------------------------\n",
      "| \u001b[0m 1       \u001b[0m | \u001b[0m-3.258   \u001b[0m | \u001b[0m 0.7085  \u001b[0m | \u001b[0m 0.2189  \u001b[0m | \u001b[0m 3.001   \u001b[0m | \u001b[0m 6.209   \u001b[0m | \u001b[0m 27.08   \u001b[0m | \u001b[0m 0.8185  \u001b[0m |\n",
      "| \u001b[95m 2       \u001b[0m | \u001b[95m-3.253   \u001b[0m | \u001b[95m 0.5931  \u001b[0m | \u001b[95m 0.1102  \u001b[0m | \u001b[95m 5.777   \u001b[0m | \u001b[95m 7.155   \u001b[0m | \u001b[95m 32.8    \u001b[0m | \u001b[95m 0.937   \u001b[0m |\n",
      "| \u001b[0m 3       \u001b[0m | \u001b[0m-3.259   \u001b[0m | \u001b[0m 0.6022  \u001b[0m | \u001b[0m 0.2647  \u001b[0m | \u001b[0m 3.192   \u001b[0m | \u001b[0m 7.682   \u001b[0m | \u001b[0m 32.76   \u001b[0m | \u001b[0m 0.9117  \u001b[0m |\n",
      "| \u001b[0m 4       \u001b[0m | \u001b[0m-3.258   \u001b[0m | \u001b[0m 0.5702  \u001b[0m | \u001b[0m 0.06745 \u001b[0m | \u001b[0m 8.605   \u001b[0m | \u001b[0m 8.873   \u001b[0m | \u001b[0m 30.58   \u001b[0m | \u001b[0m 0.9385  \u001b[0m |\n",
      "| \u001b[0m 5       \u001b[0m | \u001b[0m-3.259   \u001b[0m | \u001b[0m 0.9382  \u001b[0m | \u001b[0m 0.2694  \u001b[0m | \u001b[0m 3.595   \u001b[0m | \u001b[0m 5.156   \u001b[0m | \u001b[0m 27.57   \u001b[0m | \u001b[0m 0.9756  \u001b[0m |\n",
      "| \u001b[0m 6       \u001b[0m | \u001b[0m-3.26    \u001b[0m | \u001b[0m 0.7118  \u001b[0m | \u001b[0m 0.1124  \u001b[0m | \u001b[0m 9.801   \u001b[0m | \u001b[0m 5.005   \u001b[0m | \u001b[0m 44.32   \u001b[0m | \u001b[0m 0.8695  \u001b[0m |\n",
      "| \u001b[0m 7       \u001b[0m | \u001b[0m-3.261   \u001b[0m | \u001b[0m 0.5499  \u001b[0m | \u001b[0m 0.1356  \u001b[0m | \u001b[0m 9.379   \u001b[0m | \u001b[0m 8.5     \u001b[0m | \u001b[0m 24.1    \u001b[0m | \u001b[0m 0.9449  \u001b[0m |\n",
      "| \u001b[0m 8       \u001b[0m | \u001b[0m-3.256   \u001b[0m | \u001b[0m 0.8689  \u001b[0m | \u001b[0m 0.1024  \u001b[0m | \u001b[0m 3.038   \u001b[0m | \u001b[0m 8.899   \u001b[0m | \u001b[0m 44.81   \u001b[0m | \u001b[0m 0.846   \u001b[0m |\n",
      "| \u001b[0m 9       \u001b[0m | \u001b[0m-3.26    \u001b[0m | \u001b[0m 0.9888  \u001b[0m | \u001b[0m 0.1844  \u001b[0m | \u001b[0m 3.114   \u001b[0m | \u001b[0m 8.872   \u001b[0m | \u001b[0m 44.51   \u001b[0m | \u001b[0m 0.9617  \u001b[0m |\n",
      "| \u001b[0m 10      \u001b[0m | \u001b[0m-3.258   \u001b[0m | \u001b[0m 0.5123  \u001b[0m | \u001b[0m 0.07615 \u001b[0m | \u001b[0m 3.165   \u001b[0m | \u001b[0m 5.29    \u001b[0m | \u001b[0m 44.98   \u001b[0m | \u001b[0m 0.811   \u001b[0m |\n",
      "=================================================================================================\n"
     ]
    }
   ],
   "source": [
    "# LIGHTGBM 실점 모델 베이지안 최적화\n",
    "def modelFitter(colsampleByTree, subsample,maxDepth, num_leaves,learning_rate,min_child_weight):\n",
    "    X_22 = R_ONE_1.iloc[:, :-1]\n",
    "    y_22 = R_ONE_1.iloc[:, -1]\n",
    "    X_train22, X_test22, y_train22, y_test22=train_test_split(X_22, y_22,\n",
    "                                                  test_size=0.2, random_state=0)\n",
    "    model = LGBMRegressor(learning_rate=learning_rate, n_estimators=10000, max_depth=maxDepth.astype(\"int32\"), subsample=subsample, colsample_bytree=colsampleByTree,num_leaves=num_leaves.astype(\"int32\"),min_child_weight=min_child_weight)\n",
    "\n",
    "    evalSet  = [(X_test22, y_test22)]\n",
    "    model.fit(X_train22, y_train22, eval_metric=\"rmse\", eval_set=evalSet, early_stopping_rounds=50, verbose=False)\n",
    "\n",
    "    bestScore = model.best_score_[list(model.best_score_.keys())[0]]['rmse']\n",
    "\n",
    "    return -bestScore\n",
    "\n",
    "# Bounded region of parameter space\n",
    "pbounds = {'colsampleByTree': (0.5,1.0), 'subsample': (0.8,1.0), 'maxDepth': (3,10), 'num_leaves': (24, 45),'learning_rate':(0.01,0.3),'min_child_weight':(5,9)}\n",
    "\n",
    "optimizer = BayesianOptimization(\n",
    "    f=modelFitter,\n",
    "    pbounds=pbounds,\n",
    "    random_state=1)\n",
    "\n",
    "optimizer.maximize(init_points=5,n_iter=5)"
   ]
  },
  {
   "cell_type": "code",
   "execution_count": 93,
   "metadata": {},
   "outputs": [
    {
     "name": "stdout",
     "output_type": "stream",
     "text": [
      "[1]\tvalid_0's rmse: 3.26085\tvalid_0's l2: 10.6332\n",
      "Training until validation scores don't improve for 100 rounds\n",
      "[2]\tvalid_0's rmse: 3.25851\tvalid_0's l2: 10.6179\n",
      "[3]\tvalid_0's rmse: 3.26102\tvalid_0's l2: 10.6343\n",
      "[4]\tvalid_0's rmse: 3.26311\tvalid_0's l2: 10.6479\n",
      "[5]\tvalid_0's rmse: 3.26379\tvalid_0's l2: 10.6523\n",
      "[6]\tvalid_0's rmse: 3.2678\tvalid_0's l2: 10.6785\n",
      "[7]\tvalid_0's rmse: 3.26876\tvalid_0's l2: 10.6848\n",
      "[8]\tvalid_0's rmse: 3.26961\tvalid_0's l2: 10.6903\n",
      "[9]\tvalid_0's rmse: 3.27576\tvalid_0's l2: 10.7306\n",
      "[10]\tvalid_0's rmse: 3.27391\tvalid_0's l2: 10.7185\n",
      "[11]\tvalid_0's rmse: 3.27756\tvalid_0's l2: 10.7424\n",
      "[12]\tvalid_0's rmse: 3.28272\tvalid_0's l2: 10.7762\n",
      "[13]\tvalid_0's rmse: 3.28249\tvalid_0's l2: 10.7747\n",
      "[14]\tvalid_0's rmse: 3.28526\tvalid_0's l2: 10.7929\n",
      "[15]\tvalid_0's rmse: 3.286\tvalid_0's l2: 10.7978\n",
      "[16]\tvalid_0's rmse: 3.28619\tvalid_0's l2: 10.7991\n",
      "[17]\tvalid_0's rmse: 3.28849\tvalid_0's l2: 10.8142\n",
      "[18]\tvalid_0's rmse: 3.28661\tvalid_0's l2: 10.8018\n",
      "[19]\tvalid_0's rmse: 3.28734\tvalid_0's l2: 10.8066\n",
      "[20]\tvalid_0's rmse: 3.2918\tvalid_0's l2: 10.8359\n",
      "[21]\tvalid_0's rmse: 3.29005\tvalid_0's l2: 10.8244\n",
      "[22]\tvalid_0's rmse: 3.29644\tvalid_0's l2: 10.8665\n",
      "[23]\tvalid_0's rmse: 3.30455\tvalid_0's l2: 10.9201\n",
      "[24]\tvalid_0's rmse: 3.30435\tvalid_0's l2: 10.9188\n",
      "[25]\tvalid_0's rmse: 3.30599\tvalid_0's l2: 10.9296\n",
      "[26]\tvalid_0's rmse: 3.31527\tvalid_0's l2: 10.991\n",
      "[27]\tvalid_0's rmse: 3.31839\tvalid_0's l2: 11.0117\n",
      "[28]\tvalid_0's rmse: 3.31927\tvalid_0's l2: 11.0176\n",
      "[29]\tvalid_0's rmse: 3.32243\tvalid_0's l2: 11.0385\n",
      "[30]\tvalid_0's rmse: 3.32693\tvalid_0's l2: 11.0685\n",
      "[31]\tvalid_0's rmse: 3.32749\tvalid_0's l2: 11.0722\n",
      "[32]\tvalid_0's rmse: 3.33276\tvalid_0's l2: 11.1073\n",
      "[33]\tvalid_0's rmse: 3.33335\tvalid_0's l2: 11.1113\n",
      "[34]\tvalid_0's rmse: 3.34015\tvalid_0's l2: 11.1566\n",
      "[35]\tvalid_0's rmse: 3.343\tvalid_0's l2: 11.1757\n",
      "[36]\tvalid_0's rmse: 3.34587\tvalid_0's l2: 11.1949\n",
      "[37]\tvalid_0's rmse: 3.35423\tvalid_0's l2: 11.2509\n",
      "[38]\tvalid_0's rmse: 3.35891\tvalid_0's l2: 11.2823\n",
      "[39]\tvalid_0's rmse: 3.35667\tvalid_0's l2: 11.2673\n",
      "[40]\tvalid_0's rmse: 3.35827\tvalid_0's l2: 11.278\n",
      "[41]\tvalid_0's rmse: 3.36031\tvalid_0's l2: 11.2917\n",
      "[42]\tvalid_0's rmse: 3.35873\tvalid_0's l2: 11.2811\n",
      "[43]\tvalid_0's rmse: 3.36191\tvalid_0's l2: 11.3024\n",
      "[44]\tvalid_0's rmse: 3.36667\tvalid_0's l2: 11.3345\n",
      "[45]\tvalid_0's rmse: 3.37274\tvalid_0's l2: 11.3754\n",
      "[46]\tvalid_0's rmse: 3.37985\tvalid_0's l2: 11.4234\n",
      "[47]\tvalid_0's rmse: 3.38234\tvalid_0's l2: 11.4402\n",
      "[48]\tvalid_0's rmse: 3.38375\tvalid_0's l2: 11.4498\n",
      "[49]\tvalid_0's rmse: 3.38386\tvalid_0's l2: 11.4505\n",
      "[50]\tvalid_0's rmse: 3.38883\tvalid_0's l2: 11.4842\n",
      "[51]\tvalid_0's rmse: 3.3889\tvalid_0's l2: 11.4846\n",
      "[52]\tvalid_0's rmse: 3.39251\tvalid_0's l2: 11.5091\n",
      "[53]\tvalid_0's rmse: 3.39516\tvalid_0's l2: 11.5271\n",
      "[54]\tvalid_0's rmse: 3.3973\tvalid_0's l2: 11.5417\n",
      "[55]\tvalid_0's rmse: 3.40026\tvalid_0's l2: 11.5618\n",
      "[56]\tvalid_0's rmse: 3.40219\tvalid_0's l2: 11.5749\n",
      "[57]\tvalid_0's rmse: 3.40423\tvalid_0's l2: 11.5888\n",
      "[58]\tvalid_0's rmse: 3.40594\tvalid_0's l2: 11.6004\n",
      "[59]\tvalid_0's rmse: 3.40915\tvalid_0's l2: 11.6223\n",
      "[60]\tvalid_0's rmse: 3.41679\tvalid_0's l2: 11.6745\n",
      "[61]\tvalid_0's rmse: 3.41857\tvalid_0's l2: 11.6866\n",
      "[62]\tvalid_0's rmse: 3.41942\tvalid_0's l2: 11.6925\n",
      "[63]\tvalid_0's rmse: 3.42184\tvalid_0's l2: 11.709\n",
      "[64]\tvalid_0's rmse: 3.42292\tvalid_0's l2: 11.7164\n",
      "[65]\tvalid_0's rmse: 3.42774\tvalid_0's l2: 11.7494\n",
      "[66]\tvalid_0's rmse: 3.43021\tvalid_0's l2: 11.7664\n",
      "[67]\tvalid_0's rmse: 3.43286\tvalid_0's l2: 11.7845\n",
      "[68]\tvalid_0's rmse: 3.43314\tvalid_0's l2: 11.7864\n",
      "[69]\tvalid_0's rmse: 3.43346\tvalid_0's l2: 11.7887\n",
      "[70]\tvalid_0's rmse: 3.43584\tvalid_0's l2: 11.805\n",
      "[71]\tvalid_0's rmse: 3.43658\tvalid_0's l2: 11.8101\n",
      "[72]\tvalid_0's rmse: 3.43813\tvalid_0's l2: 11.8207\n",
      "[73]\tvalid_0's rmse: 3.44369\tvalid_0's l2: 11.859\n",
      "[74]\tvalid_0's rmse: 3.44644\tvalid_0's l2: 11.8779\n",
      "[75]\tvalid_0's rmse: 3.44846\tvalid_0's l2: 11.8919\n",
      "[76]\tvalid_0's rmse: 3.45066\tvalid_0's l2: 11.907\n",
      "[77]\tvalid_0's rmse: 3.45201\tvalid_0's l2: 11.9163\n",
      "[78]\tvalid_0's rmse: 3.4539\tvalid_0's l2: 11.9294\n",
      "[79]\tvalid_0's rmse: 3.45663\tvalid_0's l2: 11.9483\n",
      "[80]\tvalid_0's rmse: 3.45911\tvalid_0's l2: 11.9654\n",
      "[81]\tvalid_0's rmse: 3.45957\tvalid_0's l2: 11.9686\n",
      "[82]\tvalid_0's rmse: 3.46032\tvalid_0's l2: 11.9738\n",
      "[83]\tvalid_0's rmse: 3.46005\tvalid_0's l2: 11.972\n",
      "[84]\tvalid_0's rmse: 3.46551\tvalid_0's l2: 12.0097\n",
      "[85]\tvalid_0's rmse: 3.46943\tvalid_0's l2: 12.037\n",
      "[86]\tvalid_0's rmse: 3.47023\tvalid_0's l2: 12.0425\n",
      "[87]\tvalid_0's rmse: 3.47271\tvalid_0's l2: 12.0597\n",
      "[88]\tvalid_0's rmse: 3.47551\tvalid_0's l2: 12.0792\n",
      "[89]\tvalid_0's rmse: 3.47701\tvalid_0's l2: 12.0896\n",
      "[90]\tvalid_0's rmse: 3.47934\tvalid_0's l2: 12.1058\n",
      "[91]\tvalid_0's rmse: 3.48132\tvalid_0's l2: 12.1196\n",
      "[92]\tvalid_0's rmse: 3.48749\tvalid_0's l2: 12.1626\n",
      "[93]\tvalid_0's rmse: 3.48712\tvalid_0's l2: 12.16\n",
      "[94]\tvalid_0's rmse: 3.48855\tvalid_0's l2: 12.1699\n",
      "[95]\tvalid_0's rmse: 3.49305\tvalid_0's l2: 12.2014\n",
      "[96]\tvalid_0's rmse: 3.49206\tvalid_0's l2: 12.1945\n",
      "[97]\tvalid_0's rmse: 3.49464\tvalid_0's l2: 12.2125\n",
      "[98]\tvalid_0's rmse: 3.49904\tvalid_0's l2: 12.2433\n",
      "[99]\tvalid_0's rmse: 3.50046\tvalid_0's l2: 12.2532\n",
      "[100]\tvalid_0's rmse: 3.50273\tvalid_0's l2: 12.2691\n",
      "[101]\tvalid_0's rmse: 3.50369\tvalid_0's l2: 12.2759\n",
      "[102]\tvalid_0's rmse: 3.50705\tvalid_0's l2: 12.2994\n",
      "Early stopping, best iteration is:\n",
      "[2]\tvalid_0's rmse: 3.25851\tvalid_0's l2: 10.6179\n"
     ]
    },
    {
     "data": {
      "text/plain": [
       "<matplotlib.axes._subplots.AxesSubplot at 0x1d0caf63208>"
      ]
     },
     "execution_count": 93,
     "metadata": {},
     "output_type": "execute_result"
    },
    {
     "data": {
      "image/png": "[encoded data removed]",
      "text/plain": [
       "<Figure size 1008x1728 with 1 Axes>"
      ]
     },
     "metadata": {
      "needs_background": "light"
     },
     "output_type": "display_data"
    }
   ],
   "source": [
    "# LIGHTGBM 실점 모델 학습\n",
    "X_22 = R_ONE_1.iloc[:, :-1]\n",
    "y_22 = R_ONE_1.iloc[:, -1]\n",
    "X_train22, X_test22, y_train22, y_test22=train_test_split(X_22, y_22,\n",
    "                                                  test_size=0.2, random_state=0)\n",
    "                        \n",
    "lgbm_r = LGBMRegressor(n_estimators=300, learning_rate=0.1102, num_leaves=33, sumbsample=0.937, colsample_bytree=0.5931, max_depth=6,\n",
    "                             min_child_weight=7.155)\n",
    "evals = [(X_test22, y_test22)]\n",
    "lgbm_r.fit(X_train22, y_train22, early_stopping_rounds=100, eval_metric='rmse', eval_set=evals, verbose=True)\n",
    "preds = lgbm_r.predict(X_test22)\n",
    "\n",
    "from lightgbm import plot_importance # 실점모델의 변수 중요도\n",
    "import matplotlib.pyplot as plt\n",
    "%matplotlib inline\n",
    "\n",
    "fig, ax = plt.subplots(figsize=(14, 24))\n",
    "plot_importance(lgbm_r, ax=ax)"
   ]
  },
  {
   "cell_type": "code",
   "execution_count": 94,
   "metadata": {},
   "outputs": [
    {
     "name": "stdout",
     "output_type": "stream",
     "text": [
      "RMSE':3.3907652872743204\n"
     ]
    }
   ],
   "source": [
    "# train rmse\n",
    "lgbm_r_predict = lgbm_r.predict(X_train22)\n",
    "print(\"RMSE':{}\".format(math.sqrt(mean_squared_error(lgbm_r_predict, y_train22))) )"
   ]
  },
  {
   "cell_type": "code",
   "execution_count": 95,
   "metadata": {},
   "outputs": [
    {
     "name": "stdout",
     "output_type": "stream",
     "text": [
      "RMSE':3.295124626497405\n"
     ]
    }
   ],
   "source": [
    "# test rmse\n",
    "R_T= R_2.drop(['ER_TARGET','G_ID','T_ID','VS_T_ID', 'TB_SC', 'INN2_TARGET','GDAY_DS'], axis =1)\n",
    "a22 = R_T.iloc[:, :-1]\n",
    "b22 = R_T.iloc[:, -1]\n",
    "lgbm_r_predict = lgbm_r.predict(a22)\n",
    "print(\"RMSE':{}\".format(math.sqrt(mean_squared_error(lgbm_r_predict, b22))) )"
   ]
  },
  {
   "cell_type": "markdown",
   "metadata": {},
   "source": [
    "## MLP 승률모델"
   ]
  },
  {
   "cell_type": "code",
   "execution_count": 96,
   "metadata": {},
   "outputs": [],
   "source": [
    "#  MLP 득점 모델\n",
    "X_11 = RUN_ONE_1.iloc[:,:-1]\n",
    "y_11 = RUN_ONE_1.iloc[:,-1]"
   ]
  },
  {
   "cell_type": "code",
   "execution_count": 97,
   "metadata": {},
   "outputs": [],
   "source": [
    "# 데이터 정규화\n",
    "from sklearn.preprocessing import StandardScaler\n",
    "scaler = StandardScaler()\n",
    "scaler.fit(X_11)\n",
    "RUN_ONE_scaled = scaler.transform(X_11)\n",
    "\n",
    "RUN_scaled = pd.DataFrame(data=RUN_ONE_scaled)"
   ]
  },
  {
   "cell_type": "code",
   "execution_count": 98,
   "metadata": {},
   "outputs": [],
   "source": [
    "# MLP 득점모델 생성\n",
    "from keras import models\n",
    "from keras import layers\n",
    "\n",
    "\n",
    "\n",
    "mlp_run = models.Sequential()\n",
    "mlp_run.add(layers.Dense(109, activation='relu',\n",
    "                          input_shape=(RUN_scaled.shape[1],)))\n",
    "mlp_run.add(layers.Dropout(0.5))\n",
    "mlp_run.add(layers.BatchNormalization())\n",
    "mlp_run.add(layers.Dense(109, activation='relu'))\n",
    "mlp_run.add(layers.Dropout(0.5))\n",
    "mlp_run.add(layers.BatchNormalization())\n",
    "mlp_run.add(layers.Dense(109, activation='relu'))\n",
    "mlp_run.add(layers.Dense(1))"
   ]
  },
  {
   "cell_type": "code",
   "execution_count": 99,
   "metadata": {},
   "outputs": [],
   "source": [
    "# MLP 득점모델 학습\n",
    "import tensorflow as tf\n",
    "\n",
    "opt = tf.keras.optimizers.Adam(learning_rate=0.01, beta_1=0.3, beta_2=0.999, epsilon=1e-07)\n",
    "mlp_run.compile(optimizer=opt,\n",
    "             loss='mean_squared_error', metrics=['mean_squared_error'])"
   ]
  },
  {
   "cell_type": "code",
   "execution_count": 100,
   "metadata": {},
   "outputs": [],
   "source": [
    "import warnings\n",
    "import pathlib\n",
    "\n",
    "import tensorflow as tf\n",
    "from tensorflow import keras\n",
    "from tensorflow.keras import layers\n",
    "from keras.callbacks import EarlyStopping\n",
    "warnings.filterwarnings('ignore')\n",
    "from sklearn.model_selection import train_test_split\n",
    "\n",
    "X_train11, X_test11, y_train11, y_test11=train_test_split(RUN_scaled, y_11,\n",
    "                                                 test_size=0.2, random_state=1)\n",
    "        \n",
    "early_stop = keras.callbacks.EarlyStopping(monitor='val_mean_squared_error', patience=10)\n",
    "EPOCHS=100\n",
    "        \n",
    "history = mlp_run.fit(X_train11, y_train11,\n",
    "          epochs=EPOCHS,validation_data = (X_test11, y_test11), verbose=0, callbacks= early_stop, batch_size=20)"
   ]
  },
  {
   "cell_type": "code",
   "execution_count": 101,
   "metadata": {},
   "outputs": [
    {
     "data": {
      "text/html": [
       "<div>\n",
       "<style scoped>\n",
       "    .dataframe tbody tr th:only-of-type {\n",
       "        vertical-align: middle;\n",
       "    }\n",
       "\n",
       "    .dataframe tbody tr th {\n",
       "        vertical-align: top;\n",
       "    }\n",
       "\n",
       "    .dataframe thead th {\n",
       "        text-align: right;\n",
       "    }\n",
       "</style>\n",
       "<table border=\"1\" class=\"dataframe\">\n",
       "  <thead>\n",
       "    <tr style=\"text-align: right;\">\n",
       "      <th></th>\n",
       "      <th>loss</th>\n",
       "      <th>mean_squared_error</th>\n",
       "      <th>val_loss</th>\n",
       "      <th>val_mean_squared_error</th>\n",
       "      <th>epoch</th>\n",
       "    </tr>\n",
       "  </thead>\n",
       "  <tbody>\n",
       "    <tr>\n",
       "      <th>18</th>\n",
       "      <td>11.670921</td>\n",
       "      <td>11.670921</td>\n",
       "      <td>11.679288</td>\n",
       "      <td>11.679288</td>\n",
       "      <td>18</td>\n",
       "    </tr>\n",
       "    <tr>\n",
       "      <th>19</th>\n",
       "      <td>11.657017</td>\n",
       "      <td>11.657017</td>\n",
       "      <td>11.749428</td>\n",
       "      <td>11.749428</td>\n",
       "      <td>19</td>\n",
       "    </tr>\n",
       "    <tr>\n",
       "      <th>20</th>\n",
       "      <td>11.635144</td>\n",
       "      <td>11.635144</td>\n",
       "      <td>11.779669</td>\n",
       "      <td>11.779669</td>\n",
       "      <td>20</td>\n",
       "    </tr>\n",
       "    <tr>\n",
       "      <th>21</th>\n",
       "      <td>11.617944</td>\n",
       "      <td>11.617944</td>\n",
       "      <td>12.300481</td>\n",
       "      <td>12.300481</td>\n",
       "      <td>21</td>\n",
       "    </tr>\n",
       "    <tr>\n",
       "      <th>22</th>\n",
       "      <td>11.694150</td>\n",
       "      <td>11.694150</td>\n",
       "      <td>12.178942</td>\n",
       "      <td>12.178942</td>\n",
       "      <td>22</td>\n",
       "    </tr>\n",
       "  </tbody>\n",
       "</table>\n",
       "</div>"
      ],
      "text/plain": [
       "         loss  mean_squared_error   val_loss  val_mean_squared_error  epoch\n",
       "18  11.670921           11.670921  11.679288               11.679288     18\n",
       "19  11.657017           11.657017  11.749428               11.749428     19\n",
       "20  11.635144           11.635144  11.779669               11.779669     20\n",
       "21  11.617944           11.617944  12.300481               12.300481     21\n",
       "22  11.694150           11.694150  12.178942               12.178942     22"
      ]
     },
     "execution_count": 101,
     "metadata": {},
     "output_type": "execute_result"
    }
   ],
   "source": [
    "# 조기종료후 마지막 구간 평가지표 확인\n",
    "\n",
    "hist = pd.DataFrame(history.history)\n",
    "hist['epoch'] = history.epoch\n",
    "hist.tail()"
   ]
  },
  {
   "cell_type": "code",
   "execution_count": 102,
   "metadata": {},
   "outputs": [
    {
     "data": {
      "text/plain": [
       "3.425748969203669"
      ]
     },
     "execution_count": 102,
     "metadata": {},
     "output_type": "execute_result"
    }
   ],
   "source": [
    "# 다른 모델들과 성능비교를 위해 RMSE로 전환\n",
    "# train rmse\n",
    "math.sqrt(11.735756)"
   ]
  },
  {
   "cell_type": "code",
   "execution_count": 103,
   "metadata": {},
   "outputs": [
    {
     "data": {
      "text/plain": [
       "3.5045508984747245"
      ]
     },
     "execution_count": 103,
     "metadata": {},
     "output_type": "execute_result"
    }
   ],
   "source": [
    "# validation mse\n",
    "math.sqrt(12.281877)"
   ]
  },
  {
   "cell_type": "code",
   "execution_count": 104,
   "metadata": {},
   "outputs": [
    {
     "name": "stdout",
     "output_type": "stream",
     "text": [
      "RMSE':3.2547806243704307\n"
     ]
    }
   ],
   "source": [
    "# test RMSE\n",
    "RUN_T = RUN_2.drop(['HIT_TARGET','G_ID','T_ID','VS_T_ID', 'TB_SC', 'AB_TARGET','GDAY_DS'], axis =1)\n",
    "a_11 = RUN_T.iloc[:, :-1]\n",
    "b_11 = RUN_T.iloc[:, -1]\n",
    "scaler = StandardScaler()\n",
    "scaler.fit(X_11)\n",
    "RUN_2_scaled = scaler.transform(a_11)\n",
    "\n",
    "RUN2_scaled = pd.DataFrame(data=RUN_2_scaled)\n",
    "mlp_run_predict = mlp_run.predict(RUN2_scaled)\n",
    "print(\"RMSE':{}\".format(math.sqrt(mean_squared_error(mlp_run_predict, b_11))) )"
   ]
  },
  {
   "cell_type": "code",
   "execution_count": 105,
   "metadata": {},
   "outputs": [],
   "source": [
    "# MLP 실점 모델\n",
    "X_22 = R_ONE_1.iloc[:,:-1]\n",
    "y_22 = R_ONE_1.iloc[:,-1]"
   ]
  },
  {
   "cell_type": "code",
   "execution_count": 106,
   "metadata": {},
   "outputs": [],
   "source": [
    "# 데이터 정규화\n",
    "from sklearn.preprocessing import StandardScaler\n",
    "scaler = StandardScaler()\n",
    "scaler.fit(X_22)\n",
    "R_scaled = scaler.transform(X_22)\n",
    "\n",
    "R2_scaled = pd.DataFrame(data=R_scaled)"
   ]
  },
  {
   "cell_type": "code",
   "execution_count": 107,
   "metadata": {},
   "outputs": [],
   "source": [
    "# MLP 실점 모델 생성 \n",
    "from keras import models\n",
    "from keras import layers\n",
    "\n",
    "mlp_r = models.Sequential()\n",
    "mlp_r.add(layers.Dense(85, activation='relu',\n",
    "                          input_shape=(R2_scaled.shape[1],)))\n",
    "mlp_r.add(layers.Dropout(0.5))\n",
    "mlp_r.add(layers.BatchNormalization())\n",
    "mlp_r.add(layers.Dense(60, activation='relu'))\n",
    "mlp_r.add(layers.Dropout(0.5))\n",
    "mlp_r.add(layers.BatchNormalization())\n",
    "mlp_r.add(layers.Dense(60, activation='relu'))\n",
    "mlp_r.add(layers.Dense(1))"
   ]
  },
  {
   "cell_type": "code",
   "execution_count": 108,
   "metadata": {},
   "outputs": [],
   "source": [
    "# MLP 실점 모델 학습\n",
    "import tensorflow as tf\n",
    "opt = tf.keras.optimizers.Adam(learning_rate=0.01, beta_1=0.3, beta_2=0.999, epsilon=1e-07)\n",
    "mlp_r.compile(optimizer=opt,\n",
    "             loss='mean_squared_error', metrics=['mean_squared_error'])"
   ]
  },
  {
   "cell_type": "code",
   "execution_count": 109,
   "metadata": {},
   "outputs": [],
   "source": [
    "import warnings\n",
    "import pathlib\n",
    "\n",
    "import tensorflow as tf\n",
    "from tensorflow import keras\n",
    "from tensorflow.keras import layers\n",
    "from keras.callbacks import EarlyStopping\n",
    "warnings.filterwarnings('ignore')\n",
    "from sklearn.model_selection import train_test_split\n",
    "\n",
    "X_train22, X_test22, y_train22, y_test22=train_test_split(R2_scaled, y_22,\n",
    "                                                 test_size=0.2, random_state=1)\n",
    "        \n",
    "early_stop = keras.callbacks.EarlyStopping(monitor='val_mean_squared_error', patience=10)\n",
    "EPOCHS=100\n",
    "        \n",
    "history = mlp_r.fit(X_train22, y_train22,\n",
    "          epochs=EPOCHS,validation_data = (X_test22, y_test22), verbose=0, callbacks= early_stop, batch_size=20)"
   ]
  },
  {
   "cell_type": "code",
   "execution_count": 110,
   "metadata": {},
   "outputs": [
    {
     "data": {
      "text/html": [
       "<div>\n",
       "<style scoped>\n",
       "    .dataframe tbody tr th:only-of-type {\n",
       "        vertical-align: middle;\n",
       "    }\n",
       "\n",
       "    .dataframe tbody tr th {\n",
       "        vertical-align: top;\n",
       "    }\n",
       "\n",
       "    .dataframe thead th {\n",
       "        text-align: right;\n",
       "    }\n",
       "</style>\n",
       "<table border=\"1\" class=\"dataframe\">\n",
       "  <thead>\n",
       "    <tr style=\"text-align: right;\">\n",
       "      <th></th>\n",
       "      <th>loss</th>\n",
       "      <th>mean_squared_error</th>\n",
       "      <th>val_loss</th>\n",
       "      <th>val_mean_squared_error</th>\n",
       "      <th>epoch</th>\n",
       "    </tr>\n",
       "  </thead>\n",
       "  <tbody>\n",
       "    <tr>\n",
       "      <th>22</th>\n",
       "      <td>11.876273</td>\n",
       "      <td>11.876273</td>\n",
       "      <td>11.483407</td>\n",
       "      <td>11.483407</td>\n",
       "      <td>22</td>\n",
       "    </tr>\n",
       "    <tr>\n",
       "      <th>23</th>\n",
       "      <td>11.810299</td>\n",
       "      <td>11.810299</td>\n",
       "      <td>11.293047</td>\n",
       "      <td>11.293047</td>\n",
       "      <td>23</td>\n",
       "    </tr>\n",
       "    <tr>\n",
       "      <th>24</th>\n",
       "      <td>11.872410</td>\n",
       "      <td>11.872410</td>\n",
       "      <td>11.507493</td>\n",
       "      <td>11.507493</td>\n",
       "      <td>24</td>\n",
       "    </tr>\n",
       "    <tr>\n",
       "      <th>25</th>\n",
       "      <td>11.789574</td>\n",
       "      <td>11.789574</td>\n",
       "      <td>11.556508</td>\n",
       "      <td>11.556508</td>\n",
       "      <td>25</td>\n",
       "    </tr>\n",
       "    <tr>\n",
       "      <th>26</th>\n",
       "      <td>11.787349</td>\n",
       "      <td>11.787349</td>\n",
       "      <td>11.354736</td>\n",
       "      <td>11.354736</td>\n",
       "      <td>26</td>\n",
       "    </tr>\n",
       "  </tbody>\n",
       "</table>\n",
       "</div>"
      ],
      "text/plain": [
       "         loss  mean_squared_error   val_loss  val_mean_squared_error  epoch\n",
       "22  11.876273           11.876273  11.483407               11.483407     22\n",
       "23  11.810299           11.810299  11.293047               11.293047     23\n",
       "24  11.872410           11.872410  11.507493               11.507493     24\n",
       "25  11.789574           11.789574  11.556508               11.556508     25\n",
       "26  11.787349           11.787349  11.354736               11.354736     26"
      ]
     },
     "execution_count": 110,
     "metadata": {},
     "output_type": "execute_result"
    }
   ],
   "source": [
    "# 조기종료후 마지막 구간 평가지표 확인\n",
    "hist = pd.DataFrame(history.history)\n",
    "hist['epoch'] = history.epoch\n",
    "hist.tail()"
   ]
  },
  {
   "cell_type": "code",
   "execution_count": 111,
   "metadata": {},
   "outputs": [
    {
     "data": {
      "text/plain": [
       "3.483349106822341"
      ]
     },
     "execution_count": 111,
     "metadata": {},
     "output_type": "execute_result"
    }
   ],
   "source": [
    "# 다른 모델들과 성능비교를 위해 RMSE로 전환\n",
    "# train rmse\n",
    "math.sqrt(12.133721)"
   ]
  },
  {
   "cell_type": "code",
   "execution_count": 112,
   "metadata": {},
   "outputs": [
    {
     "data": {
      "text/plain": [
       "3.320227251258564"
      ]
     },
     "execution_count": 112,
     "metadata": {},
     "output_type": "execute_result"
    }
   ],
   "source": [
    "# varidation rmse\n",
    "math.sqrt(11.023909)"
   ]
  },
  {
   "cell_type": "code",
   "execution_count": 113,
   "metadata": {},
   "outputs": [
    {
     "name": "stdout",
     "output_type": "stream",
     "text": [
      "RMSE':3.3237684109751555\n"
     ]
    }
   ],
   "source": [
    "# test RMSE\n",
    "R_T = R_2.drop(['ER_TARGET','G_ID','T_ID','VS_T_ID', 'TB_SC', 'INN2_TARGET','GDAY_DS'], axis =1)\n",
    "a_22 = R_T.iloc[:, :-1]\n",
    "b_22 = R_T.iloc[:, -1]\n",
    "scaler = StandardScaler()\n",
    "scaler.fit(X_22)\n",
    "R_2_scaled = scaler.transform(a_22)\n",
    "\n",
    "R2_scaled = pd.DataFrame(data=R_2_scaled)\n",
    "mlp_r_predict = mlp_r.predict(R2_scaled)\n",
    "print(\"RMSE':{}\".format(math.sqrt(mean_squared_error(mlp_r_predict, b_22))) )"
   ]
  },
  {
   "cell_type": "markdown",
   "metadata": {},
   "source": [
    "## 최종 모델 LIGHTGBM으로 테스트"
   ]
  },
  {
   "cell_type": "code",
   "execution_count": 114,
   "metadata": {},
   "outputs": [],
   "source": [
    "RUN_NC = RUN_2[RUN_2['T_ID']== 'NC']\n",
    "RUN_OB = RUN_2[RUN_2['T_ID']== 'OB']\n",
    "RUN_LG = RUN_2[RUN_2['T_ID']== 'LG']\n",
    "RUN_WO = RUN_2[RUN_2['T_ID']== 'WO']\n",
    "RUN_HH = RUN_2[RUN_2['T_ID']== 'HH']\n",
    "RUN_HT = RUN_2[RUN_2['T_ID']== 'HT']\n",
    "RUN_KT = RUN_2[RUN_2['T_ID']== 'KT']\n",
    "RUN_LT = RUN_2[RUN_2['T_ID']== 'LT']\n",
    "RUN_SK = RUN_2[RUN_2['T_ID']== 'SK']\n",
    "RUN_SS = RUN_2[RUN_2['T_ID']== 'SS']\n",
    "RUN_HH = RUN_HH.drop(['HIT_TARGET','G_ID','T_ID','VS_T_ID', 'TB_SC', 'AB_TARGET','GDAY_DS','AB_TARGET'], axis =1)\n",
    "RUN_OB = RUN_OB.drop(['HIT_TARGET','G_ID','T_ID','VS_T_ID', 'TB_SC', 'AB_TARGET','GDAY_DS','AB_TARGET'], axis =1)\n",
    "RUN_LG = RUN_LG.drop(['HIT_TARGET','G_ID','T_ID','VS_T_ID', 'TB_SC', 'AB_TARGET','GDAY_DS','AB_TARGET'], axis =1)\n",
    "RUN_WO = RUN_WO.drop(['HIT_TARGET','G_ID','T_ID','VS_T_ID', 'TB_SC', 'AB_TARGET','GDAY_DS','AB_TARGET'], axis =1)\n",
    "RUN_NC = RUN_NC.drop(['HIT_TARGET','G_ID','T_ID','VS_T_ID', 'TB_SC', 'AB_TARGET','GDAY_DS','AB_TARGET'], axis =1)\n",
    "RUN_HT = RUN_HT.drop(['HIT_TARGET','G_ID','T_ID','VS_T_ID', 'TB_SC', 'AB_TARGET','GDAY_DS','AB_TARGET'], axis =1)\n",
    "RUN_KT = RUN_KT.drop(['HIT_TARGET','G_ID','T_ID','VS_T_ID', 'TB_SC', 'AB_TARGET','GDAY_DS','AB_TARGET'], axis =1)\n",
    "RUN_LT = RUN_LT.drop(['HIT_TARGET','G_ID','T_ID','VS_T_ID', 'TB_SC', 'AB_TARGET','GDAY_DS','AB_TARGET'], axis =1)\n",
    "RUN_SK = RUN_SK.drop(['HIT_TARGET','G_ID','T_ID','VS_T_ID', 'TB_SC', 'AB_TARGET','GDAY_DS','AB_TARGET'], axis =1)\n",
    "RUN_SS = RUN_SS.drop(['HIT_TARGET','G_ID','T_ID','VS_T_ID', 'TB_SC', 'AB_TARGET','GDAY_DS','AB_TARGET'], axis =1)\n",
    "\n",
    "# test셋 팀별 득점를 보기 위한 분할"
   ]
  },
  {
   "cell_type": "code",
   "execution_count": 115,
   "metadata": {},
   "outputs": [],
   "source": [
    "R_NC = R_2[R_2['T_ID']== 'NC']\n",
    "R_OB = R_2[R_2['T_ID']== 'OB']\n",
    "R_LG = R_2[R_2['T_ID']== 'LG']\n",
    "R_WO = R_2[R_2['T_ID']== 'WO']\n",
    "R_HH = R_2[R_2['T_ID']== 'HH']\n",
    "R_HT = R_2[R_2['T_ID']== 'HT']\n",
    "R_KT = R_2[R_2['T_ID']== 'KT']\n",
    "R_LT = R_2[R_2['T_ID']== 'LT']\n",
    "R_SK = R_2[R_2['T_ID']== 'SK']\n",
    "R_SS = R_2[R_2['T_ID']== 'SS']\n",
    "R_HH = R_HH.drop(['ER_TARGET','G_ID','T_ID','VS_T_ID', 'TB_SC', 'INN2_TARGET','GDAY_DS'], axis =1)\n",
    "R_OB = R_OB.drop(['ER_TARGET','G_ID','T_ID','VS_T_ID', 'TB_SC', 'INN2_TARGET','GDAY_DS'], axis =1)\n",
    "R_LG = R_LG.drop(['ER_TARGET','G_ID','T_ID','VS_T_ID', 'TB_SC', 'INN2_TARGET','GDAY_DS'], axis =1)\n",
    "R_WO = R_WO.drop(['ER_TARGET','G_ID','T_ID','VS_T_ID', 'TB_SC', 'INN2_TARGET','GDAY_DS'], axis =1)\n",
    "R_NC = R_NC.drop(['ER_TARGET','G_ID','T_ID','VS_T_ID', 'TB_SC', 'INN2_TARGET','GDAY_DS'], axis =1)\n",
    "R_HT = R_HT.drop(['ER_TARGET','G_ID','T_ID','VS_T_ID', 'TB_SC', 'INN2_TARGET','GDAY_DS'], axis =1)\n",
    "R_KT = R_KT.drop(['ER_TARGET','G_ID','T_ID','VS_T_ID', 'TB_SC', 'INN2_TARGET','GDAY_DS'], axis =1)\n",
    "R_LT = R_LT.drop(['ER_TARGET','G_ID','T_ID','VS_T_ID', 'TB_SC', 'INN2_TARGET','GDAY_DS'], axis =1)\n",
    "R_SK = R_SK.drop(['ER_TARGET','G_ID','T_ID','VS_T_ID', 'TB_SC', 'INN2_TARGET','GDAY_DS'], axis =1)\n",
    "R_SS = R_SS.drop(['ER_TARGET','G_ID','T_ID','VS_T_ID', 'TB_SC', 'INN2_TARGET','GDAY_DS'], axis =1)\n",
    "\n",
    "# test셋 팀별 실점를 보기 위한 분할"
   ]
  },
  {
   "cell_type": "code",
   "execution_count": 116,
   "metadata": {},
   "outputs": [],
   "source": [
    "def lgbm_run_r111(A,B,C):\n",
    "    a_test = A.iloc[:, :-1]\n",
    "    b_test = A.iloc[:, -1]\n",
    "    pred = lgbm_run.predict(a_test)\n",
    "    \n",
    "    nam =['col']\n",
    "    y = pd.DataFrame(pred, columns=nam)\n",
    "    y_11sum = y['col'].sum()\n",
    "    y_11sum # 예측 득점 합\n",
    "    \n",
    "    a_test1 = B.iloc[:, :-1]\n",
    "    b_test1 = B.iloc[:, -1]\n",
    "    preds = lgbm_r.predict(a_test1)\n",
    "    nam =['col']\n",
    "    y1 = pd.DataFrame(preds, columns=nam)\n",
    "    y_22sum = y1['col'].sum()\n",
    "    y_22sum # 예측 실점 합\n",
    "    y_ssum = (y_11sum **2) + (y_22sum **2)\n",
    "    predict_rr = (y_11sum ** 2) / (y_ssum) # 예측 승률\n",
    "    \n",
    "    predict_rrr = predict_rr + C\n",
    "        \n",
    "    return print('예측 승률:', predict_rrr)"
   ]
  },
  {
   "cell_type": "code",
   "execution_count": 117,
   "metadata": {},
   "outputs": [
    {
     "name": "stdout",
     "output_type": "stream",
     "text": [
      "예측 승률: 0.6000082336735928\n",
      "예측 승률: 0.6142596593879637\n",
      "예측 승률: 0.4024540343253711\n",
      "예측 승률: 0.5075455723078581\n",
      "예측 승률: 0.5069416708483176\n",
      "예측 승률: 0.4916232566477001\n",
      "예측 승률: 0.3936736674983472\n",
      "예측 승률: 0.5336992098099367\n",
      "예측 승률: 0.5088662998620468\n",
      "예측 승률: 0.5166711086292781\n"
     ]
    }
   ],
   "source": [
    "lgbm_run_r111(RUN_SK,R_SK,0.1)\n",
    "lgbm_run_r111(RUN_OB,R_OB,0.1)\n",
    "lgbm_run_r111(RUN_KT,R_KT,-0.1)\n",
    "lgbm_run_r111(RUN_HH,R_HH,0)\n",
    "lgbm_run_r111(RUN_LG,R_LG,0)\n",
    "lgbm_run_r111(RUN_WO,R_WO,0)\n",
    "lgbm_run_r111(RUN_NC,R_NC,-0.1)\n",
    "lgbm_run_r111(RUN_HT,R_HT,0)\n",
    "lgbm_run_r111(RUN_LT,R_LT,0)\n",
    "lgbm_run_r111(RUN_SS,R_SS,0)"
   ]
  },
  {
   "cell_type": "code",
   "execution_count": 118,
   "metadata": {},
   "outputs": [],
   "source": [
    "# 실제 승률 구하기\n",
    "RUN1_2=RUN_2[['G_ID','T_ID','RUN_TARGET']]\n",
    "R1_2=R_2[['G_ID','T_ID', 'R_TARGET']]\n",
    "RUN_R1_2 = pd.merge(RUN1_2 , R1_2 , on=['G_ID', 'T_ID'], how ='left')"
   ]
  },
  {
   "cell_type": "code",
   "execution_count": 119,
   "metadata": {},
   "outputs": [],
   "source": [
    "# 무승부 경기를 제거한 경기 추출 , 승패 구분하는 변수 생성\n",
    "RUN_R1_2['RUN_R'] = RUN_R1_2['RUN_TARGET'] - RUN_R1_2['R_TARGET']\n",
    "q1=[(RUN_R1_2['RUN_R']> 0),\n",
    "    (RUN_R1_2['RUN_R']< 0),\n",
    "   (RUN_R1_2['RUN_R'] == 0)]\n",
    "   \n",
    "choicelist =[1,0,2]\n",
    "RUN_R1_2['TARGET']=np.select(q1, choicelist)\n",
    "R1_ = RUN_R1_2[RUN_R1_2['TARGET']== 1 ]\n",
    "R1__ = RUN_R1_2[RUN_R1_2['TARGET']== 0]\n",
    "df =[R1_, R1__]\n",
    "RUN11_2 = pd.concat(df)"
   ]
  },
  {
   "cell_type": "code",
   "execution_count": 120,
   "metadata": {},
   "outputs": [],
   "source": [
    "# 팀별 실제 승률을 확인하기 위해 분할\n",
    "R1_NC = RUN11_2[RUN11_2['T_ID']== 'NC']\n",
    "R1_OB = RUN11_2[RUN11_2['T_ID']== 'OB']\n",
    "R1_LG = RUN11_2[RUN11_2['T_ID']== 'LG']\n",
    "R1_WO = RUN11_2[RUN11_2['T_ID']== 'WO']\n",
    "R1_HH = RUN11_2[RUN11_2['T_ID']== 'HH']\n",
    "R1_HT = RUN11_2[RUN11_2['T_ID']== 'HT']\n",
    "R1_KT = RUN11_2[RUN11_2['T_ID']== 'KT']\n",
    "R1_LT = RUN11_2[RUN11_2['T_ID']== 'LT']\n",
    "R1_SK = RUN11_2[RUN11_2['T_ID']== 'SK']\n",
    "R1_SS = RUN11_2[RUN11_2['T_ID']== 'SS']\n",
    "\n",
    "# 테스트 셋 팀별 경기수 확인 함수\n",
    "def shape(A):\n",
    "    a = np.array(A)\n",
    "    return a.shape"
   ]
  },
  {
   "cell_type": "code",
   "execution_count": 121,
   "metadata": {},
   "outputs": [
    {
     "name": "stdout",
     "output_type": "stream",
     "text": [
      "(28, 6)\n",
      "(27, 6)\n",
      "(26, 6)\n",
      "(25, 6)\n",
      "(23, 6)\n",
      "(22, 6)\n",
      "(24, 6)\n",
      "(30, 6)\n",
      "(30, 6)\n",
      "(23, 6)\n"
     ]
    }
   ],
   "source": [
    "# 테스트 셋 팀별 경기수 확인\n",
    "print(shape(R1_SK))\n",
    "print(shape(R1_OB))\n",
    "print(shape(R1_KT))\n",
    "print(shape(R1_HH))\n",
    "print(shape(R1_LG))\n",
    "print(shape(R1_WO))\n",
    "print(shape(R1_NC))\n",
    "print(shape(R1_HT))\n",
    "print(shape(R1_LT))\n",
    "print(shape(R1_SS))"
   ]
  },
  {
   "cell_type": "code",
   "execution_count": 122,
   "metadata": {},
   "outputs": [],
   "source": [
    "# 실제승률 구하는 함수\n",
    "def rate(A,B):\n",
    "    y = A['TARGET'].sum()\n",
    "    y1 = y / B\n",
    "    return y1"
   ]
  },
  {
   "cell_type": "code",
   "execution_count": 123,
   "metadata": {},
   "outputs": [
    {
     "name": "stdout",
     "output_type": "stream",
     "text": [
      "0.5\n",
      "0.6296296296296297\n",
      "0.38461538461538464\n",
      "0.48\n",
      "0.391304347826087\n",
      "0.5909090909090909\n",
      "0.4166666666666667\n",
      "0.5333333333333333\n",
      "0.5333333333333333\n",
      "0.5217391304347826\n"
     ]
    }
   ],
   "source": [
    "#실제 승률 \n",
    "print(rate(R1_SK, 28))\n",
    "print(rate(R1_OB, 27))\n",
    "print(rate(R1_KT, 26))\n",
    "print(rate(R1_HH, 25))\n",
    "print(rate(R1_LG, 23))\n",
    "print(rate(R1_WO, 22))\n",
    "print(rate(R1_NC, 24))\n",
    "print(rate(R1_HT, 30))\n",
    "print(rate(R1_LT, 30))\n",
    "print(rate(R1_SS, 23))"
   ]
  },
  {
   "cell_type": "code",
   "execution_count": 124,
   "metadata": {},
   "outputs": [
    {
     "name": "stdout",
     "output_type": "stream",
     "text": [
      "RMSE':0.05879616640039946\n"
     ]
    }
   ],
   "source": [
    "# 실제 승률과 예측 승률 비교 \n",
    "A2 = [0.6003741473628448,0.6194181844426323,0.3963138475701078,0.5033389102397815,0.5006776805904696,0.489304224244128,0.3882023509989766,0.5240739697808687,0.5116379598859976,0.5142309457882362]\n",
    "B2 = [0.5,0.6296296296296297,0.38461538461538464,0.48,0.391304347826087,0.5909090909090909,0.4166666666666667,0.5333333333333333,0.5333333333333333,0.5217391304347826]\n",
    "\n",
    "print(\"RMSE':{}\".format(math.sqrt(mean_squared_error(A2, B2))) )"
   ]
  },
  {
   "cell_type": "markdown",
   "metadata": {},
   "source": [
    "## 승률 최종예측"
   ]
  },
  {
   "cell_type": "code",
   "execution_count": 125,
   "metadata": {},
   "outputs": [],
   "source": [
    "RUN_END_NC = RUN_END[RUN_END['T_ID']== 'NC']\n",
    "RUN_END_OB = RUN_END[RUN_END['T_ID']== 'OB']\n",
    "RUN_END_LG = RUN_END[RUN_END['T_ID']== 'LG']\n",
    "RUN_END_WO = RUN_END[RUN_END['T_ID']== 'WO']\n",
    "RUN_END_HH = RUN_END[RUN_END['T_ID']== 'HH']\n",
    "RUN_END_HT = RUN_END[RUN_END['T_ID']== 'HT']\n",
    "RUN_END_KT = RUN_END[RUN_END['T_ID']== 'KT']\n",
    "RUN_END_LT = RUN_END[RUN_END['T_ID']== 'LT']\n",
    "RUN_END_SK = RUN_END[RUN_END['T_ID']== 'SK']\n",
    "RUN_END_SS = RUN_END[RUN_END['T_ID']== 'SS']\n",
    "RUN_END_NC= RUN_END_NC.drop(['RUN_TARGET','G_ID','T_ID','VS_T_ID', 'TB_SC', 'AB_TARGET','GDAY_DS','HIT_TARGET'], axis =1)\n",
    "RUN_END_OB= RUN_END_OB.drop(['RUN_TARGET','G_ID','T_ID','VS_T_ID', 'TB_SC', 'AB_TARGET','GDAY_DS','HIT_TARGET'], axis =1)\n",
    "RUN_END_LG= RUN_END_LG.drop(['RUN_TARGET','G_ID','T_ID','VS_T_ID', 'TB_SC', 'AB_TARGET','GDAY_DS','HIT_TARGET'], axis =1)\n",
    "RUN_END_WO= RUN_END_WO.drop(['RUN_TARGET','G_ID','T_ID','VS_T_ID', 'TB_SC', 'AB_TARGET','GDAY_DS','HIT_TARGET'], axis =1)\n",
    "RUN_END_HH= RUN_END_HH.drop(['RUN_TARGET','G_ID','T_ID','VS_T_ID', 'TB_SC', 'AB_TARGET','GDAY_DS','HIT_TARGET'], axis =1)\n",
    "RUN_END_HT= RUN_END_HT.drop(['RUN_TARGET','G_ID','T_ID','VS_T_ID', 'TB_SC', 'AB_TARGET','GDAY_DS','HIT_TARGET'], axis =1)\n",
    "RUN_END_KT= RUN_END_KT.drop(['RUN_TARGET','G_ID','T_ID','VS_T_ID', 'TB_SC', 'AB_TARGET','GDAY_DS','HIT_TARGET'], axis =1)\n",
    "RUN_END_LT= RUN_END_LT.drop(['RUN_TARGET','G_ID','T_ID','VS_T_ID', 'TB_SC', 'AB_TARGET','GDAY_DS','HIT_TARGET'], axis =1)\n",
    "RUN_END_SK= RUN_END_SK.drop(['RUN_TARGET','G_ID','T_ID','VS_T_ID', 'TB_SC', 'AB_TARGET','GDAY_DS','HIT_TARGET'], axis =1)\n",
    "RUN_END_SS= RUN_END_SS.drop(['RUN_TARGET','G_ID','T_ID','VS_T_ID', 'TB_SC', 'AB_TARGET','GDAY_DS','HIT_TARGET'], axis =1)"
   ]
  },
  {
   "cell_type": "code",
   "execution_count": 126,
   "metadata": {},
   "outputs": [],
   "source": [
    "R_END_NC = R_END[R_END['T_ID']== 'NC']\n",
    "R_END_OB = R_END[R_END['T_ID']== 'OB']\n",
    "R_END_LG = R_END[R_END['T_ID']== 'LG']\n",
    "R_END_WO = R_END[R_END['T_ID']== 'WO']\n",
    "R_END_HH = R_END[R_END['T_ID']== 'HH']\n",
    "R_END_HT = R_END[R_END['T_ID']== 'HT']\n",
    "R_END_KT = R_END[R_END['T_ID']== 'KT']\n",
    "R_END_LT = R_END[R_END['T_ID']== 'LT']\n",
    "R_END_SK = R_END[R_END['T_ID']== 'SK']\n",
    "R_END_SS = R_END[R_END['T_ID']== 'SS']\n",
    "R_END_NC= R_END_NC.drop(['R_TARGET','G_ID','T_ID','VS_T_ID', 'TB_SC', 'INN2_TARGET','GDAY_DS','ER_TARGET'], axis =1)\n",
    "R_END_OB= R_END_OB.drop(['R_TARGET','G_ID','T_ID','VS_T_ID', 'TB_SC', 'INN2_TARGET','GDAY_DS','ER_TARGET'], axis =1)\n",
    "R_END_LG= R_END_LG.drop(['R_TARGET','G_ID','T_ID','VS_T_ID', 'TB_SC', 'INN2_TARGET','GDAY_DS','ER_TARGET'], axis =1)\n",
    "R_END_WO= R_END_WO.drop(['R_TARGET','G_ID','T_ID','VS_T_ID', 'TB_SC', 'INN2_TARGET','GDAY_DS','ER_TARGET'], axis =1)\n",
    "R_END_HH= R_END_HH.drop(['R_TARGET','G_ID','T_ID','VS_T_ID', 'TB_SC', 'INN2_TARGET','GDAY_DS','ER_TARGET'], axis =1)\n",
    "R_END_HT= R_END_HT.drop(['R_TARGET','G_ID','T_ID','VS_T_ID', 'TB_SC', 'INN2_TARGET','GDAY_DS','ER_TARGET'], axis =1)\n",
    "R_END_KT= R_END_KT.drop(['R_TARGET','G_ID','T_ID','VS_T_ID', 'TB_SC', 'INN2_TARGET','GDAY_DS','ER_TARGET'], axis =1)\n",
    "R_END_LT= R_END_LT.drop(['R_TARGET','G_ID','T_ID','VS_T_ID', 'TB_SC', 'INN2_TARGET','GDAY_DS','ER_TARGET'], axis =1)\n",
    "R_END_SK= R_END_SK.drop(['R_TARGET','G_ID','T_ID','VS_T_ID', 'TB_SC', 'INN2_TARGET','GDAY_DS','ER_TARGET'], axis =1)\n",
    "R_END_SS= R_END_SS.drop(['R_TARGET','G_ID','T_ID','VS_T_ID', 'TB_SC', 'INN2_TARGET','GDAY_DS','ER_TARGET'], axis =1)"
   ]
  },
  {
   "cell_type": "code",
   "execution_count": 127,
   "metadata": {},
   "outputs": [],
   "source": [
    "def lgbm_run_r1(A,B,C):\n",
    "    a_test = A\n",
    "    pred = lgbm_run.predict(a_test)\n",
    "    \n",
    "    nam =['col']\n",
    "    y = pd.DataFrame(pred, columns=nam)\n",
    "    y_11sum = y['col'].sum()\n",
    "    y_11sum # 예측 득점 합\n",
    "    \n",
    "    a_test1 = B\n",
    "    preds = lgbm_r.predict(a_test1)\n",
    "    nam =['col']\n",
    "    y1 = pd.DataFrame(preds, columns=nam)\n",
    "    y_22sum = y1['col'].sum()\n",
    "    y_22sum # 예측 실점 합\n",
    "    y_ssum = (y_11sum **2) + (y_22sum **2)\n",
    "    predict_rr = (y_11sum ** 2) / (y_ssum) # 예측 승률\n",
    "    \n",
    "    predict_rrr = predict_rr + C\n",
    "        \n",
    "    return print('예측 승률:', predict_rrr)"
   ]
  },
  {
   "cell_type": "code",
   "execution_count": 128,
   "metadata": {},
   "outputs": [
    {
     "name": "stdout",
     "output_type": "stream",
     "text": [
      "예측 승률: 0.39809424205836086\n",
      "예측 승률: 0.5048984019246976\n",
      "예측 승률: 0.49996048380384206\n",
      "예측 승률: 0.38758412964844824\n",
      "예측 승률: 0.44184348386319233\n",
      "예측 승률: 0.56556345457583\n",
      "예측 승률: 0.5906546043960358\n",
      "예측 승률: 0.4858003564016109\n",
      "예측 승률: 0.5069026249740372\n",
      "예측 승률: 0.500835826431402\n"
     ]
    }
   ],
   "source": [
    "lgbm_run_r1(RUN_END_SK,R_END_SK,-0.1)\n",
    "lgbm_run_r1(RUN_END_OB,R_END_OB,0)\n",
    "lgbm_run_r1(RUN_END_KT,R_END_KT,0)\n",
    "lgbm_run_r1(RUN_END_HH,R_END_HH,-0.1)\n",
    "lgbm_run_r1(RUN_END_LG,R_END_LG,0)\n",
    "lgbm_run_r1(RUN_END_WO,R_END_WO,0.1)\n",
    "lgbm_run_r1(RUN_END_NC,R_END_NC,0.1)\n",
    "lgbm_run_r1(RUN_END_HT,R_END_HT,0)\n",
    "lgbm_run_r1(RUN_END_LT,R_END_LT,0)\n",
    "lgbm_run_r1(RUN_END_SS,R_END_SS,0)"
   ]
  },
  {
   "cell_type": "code",
   "execution_count": null,
   "metadata": {},
   "outputs": [],
   "source": []
  }
 ],
 "metadata": {
  "kernelspec": {
   "display_name": "Python 3",
   "language": "python",
   "name": "python3"
  },
  "language_info": {
   "codemirror_mode": {
    "name": "ipython",
    "version": 3
   },
   "file_extension": ".py",
   "mimetype": "text/x-python",
   "name": "python",
   "nbconvert_exporter": "python",
   "pygments_lexer": "ipython3",
   "version": "3.7.6"
  }
 },
 "nbformat": 4,
 "nbformat_minor": 4
}
